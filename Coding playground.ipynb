{
 "cells": [
  {
   "cell_type": "code",
   "execution_count": 74,
   "id": "7b3d43ad",
   "metadata": {},
   "outputs": [
    {
     "name": "stdout",
     "output_type": "stream",
     "text": [
      "alphanumeric\n"
     ]
    }
   ],
   "source": [
    "import re\n",
    "playerName = \"ADasdn1k323dma\"\n",
    "\n",
    "if re.match('[A-Za-z0-9]',playerName):\n",
    "    print('alphanumeric')\n",
    "else:\n",
    "    print('fail')\n"
   ]
  },
  {
   "cell_type": "code",
   "execution_count": 71,
   "id": "61a0077e",
   "metadata": {},
   "outputs": [
    {
     "data": {
      "text/plain": [
       "False"
      ]
     },
     "execution_count": 71,
     "metadata": {},
     "output_type": "execute_result"
    }
   ],
   "source": [
    "bool(re.match(r'\\W+',playerName))"
   ]
  },
  {
   "cell_type": "code",
   "execution_count": 70,
   "id": "8c33f79c",
   "metadata": {},
   "outputs": [
    {
     "name": "stdout",
     "output_type": "stream",
     "text": [
      "<re.Match object; span=(0, 14), match='ADasdn1k323dma'>\n"
     ]
    }
   ],
   "source": [
    "print(re.search(r'\\(?([A-Za-z0-9]+)\\)?', playerName))"
   ]
  },
  {
   "cell_type": "code",
   "execution_count": 78,
   "id": "d82c6c9b",
   "metadata": {},
   "outputs": [
    {
     "data": {
      "text/plain": [
       "False"
      ]
     },
     "execution_count": 78,
     "metadata": {},
     "output_type": "execute_result"
    }
   ],
   "source": [
    "playerName.isalnum()"
   ]
  },
  {
   "cell_type": "code",
   "execution_count": 81,
   "id": "33317d95",
   "metadata": {},
   "outputs": [],
   "source": [
    "import string\n",
    "alpha = list(string.ascii_lowercase) + list(string.ascii_uppercase)\n"
   ]
  },
  {
   "cell_type": "code",
   "execution_count": 88,
   "id": "f85ca511",
   "metadata": {},
   "outputs": [
    {
     "name": "stdout",
     "output_type": "stream",
     "text": [
      "['A', 'D', 'a', 's', 'd', 'n', 'k', 'd', 'm', 'a']\n"
     ]
    }
   ],
   "source": [
    "\n",
    "a = [i for i in playerName if i in alpha]\n",
    "print(a)"
   ]
  },
  {
   "cell_type": "code",
   "execution_count": 90,
   "id": "97ce7164",
   "metadata": {},
   "outputs": [
    {
     "data": {
      "text/plain": [
       "False"
      ]
     },
     "execution_count": 90,
     "metadata": {},
     "output_type": "execute_result"
    }
   ],
   "source": [
    "test_conditions('?xy1')"
   ]
  },
  {
   "cell_type": "code",
   "execution_count": 9,
   "id": "98131393",
   "metadata": {},
   "outputs": [],
   "source": [
    "import string \n",
    "\n",
    "def test_conditions(w):\n",
    "    alpha = list(string.ascii_lowercase) + list(string.ascii_uppercase)\n",
    "    a = []\n",
    "    n = []\n",
    "    if w.isalnum():\n",
    "        for i in w:\n",
    "            print(i)\n",
    "            if i in alpha:\n",
    "                a.append(i)\n",
    "            else:\n",
    "                n.append(i)\n",
    "        if len(a)%2 == 0 and len(n)%2 != 0 :\n",
    "            return True\n",
    "    else:\n",
    "        return False\n",
    "\n",
    "\n",
    "def solution(S):\n",
    "    \n",
    "    # Implement your solution here\n",
    "    password = \"\"\n",
    "\n",
    "    words = S.split(' ')\n",
    "    for w in words:\n",
    "        print(w)\n",
    "        if test_conditions(w) and len(password)< len(w):\n",
    "            password = w\n",
    "            print(password)\n",
    "    \n",
    "    if password != \"\":\n",
    "        return len(password)\n",
    "    else:\n",
    "        return -1 \n"
   ]
  },
  {
   "cell_type": "code",
   "execution_count": 10,
   "id": "9e38b0c5",
   "metadata": {},
   "outputs": [
    {
     "name": "stdout",
     "output_type": "stream",
     "text": [
      "1\n",
      "1\n",
      "1\n",
      "2\n",
      "2\n",
      "3\n",
      "3\n",
      "4\n",
      "4\n"
     ]
    },
    {
     "data": {
      "text/plain": [
       "1"
      ]
     },
     "execution_count": 10,
     "metadata": {},
     "output_type": "execute_result"
    }
   ],
   "source": [
    "solution('1 2 3 4')"
   ]
  },
  {
   "cell_type": "code",
   "execution_count": 3,
   "id": "f3b98e5b",
   "metadata": {},
   "outputs": [
    {
     "name": "stdout",
     "output_type": "stream",
     "text": [
      "Python 3.10.9\r\n"
     ]
    }
   ],
   "source": []
  },
  {
   "cell_type": "code",
   "execution_count": 41,
   "id": "b2800c7e",
   "metadata": {},
   "outputs": [
    {
     "data": {
      "text/plain": [
       "'100000'"
      ]
     },
     "execution_count": 41,
     "metadata": {},
     "output_type": "execute_result"
    }
   ],
   "source": [
    "bin(32)[2:]"
   ]
  },
  {
   "cell_type": "code",
   "execution_count": 115,
   "id": "ee9edda6",
   "metadata": {},
   "outputs": [],
   "source": [
    "binary = bin(2147483647)[2:]"
   ]
  },
  {
   "cell_type": "code",
   "execution_count": 116,
   "id": "dcb672df",
   "metadata": {},
   "outputs": [
    {
     "data": {
      "text/plain": [
       "[]"
      ]
     },
     "execution_count": 116,
     "metadata": {},
     "output_type": "execute_result"
    }
   ],
   "source": [
    "import re \n",
    "re.findall(\"0+1\",binary)"
   ]
  },
  {
   "cell_type": "code",
   "execution_count": 114,
   "id": "6a827289",
   "metadata": {},
   "outputs": [
    {
     "data": {
      "text/plain": [
       "'10000010001'"
      ]
     },
     "execution_count": 114,
     "metadata": {},
     "output_type": "execute_result"
    }
   ],
   "source": [
    "binary"
   ]
  },
  {
   "cell_type": "code",
   "execution_count": 155,
   "id": "2537380a",
   "metadata": {},
   "outputs": [],
   "source": [
    "def rotate_array(A,K):\n",
    "    new_array = [0 for i in A]\n",
    "    for i in range(len(A)):\n",
    "        new_array[(i+K)%(len(A))] = A[i]\n",
    "    return new_array"
   ]
  },
  {
   "cell_type": "code",
   "execution_count": 156,
   "id": "d264a361",
   "metadata": {},
   "outputs": [
    {
     "data": {
      "text/plain": [
       "[9, 7, 6, 3, 8]"
      ]
     },
     "execution_count": 156,
     "metadata": {},
     "output_type": "execute_result"
    }
   ],
   "source": [
    "A = [3, 8, 9, 7, 6]\n",
    "K = 3\n",
    "\n",
    "rotate_array(A,K)"
   ]
  },
  {
   "cell_type": "code",
   "execution_count": 157,
   "id": "2f1393be",
   "metadata": {},
   "outputs": [
    {
     "data": {
      "text/plain": [
       "[0, 0, 0]"
      ]
     },
     "execution_count": 157,
     "metadata": {},
     "output_type": "execute_result"
    }
   ],
   "source": [
    "A = [0, 0, 0]\n",
    "K = 1\n",
    "rotate_array(A,K)"
   ]
  },
  {
   "cell_type": "code",
   "execution_count": 158,
   "id": "996b6b4a",
   "metadata": {},
   "outputs": [
    {
     "data": {
      "text/plain": [
       "[1, 2, 3, 4]"
      ]
     },
     "execution_count": 158,
     "metadata": {},
     "output_type": "execute_result"
    }
   ],
   "source": [
    "A = [1, 2, 3, 4]\n",
    "K = 4\n",
    "\n",
    "rotate_array(A,K)\n",
    "    "
   ]
  },
  {
   "cell_type": "code",
   "execution_count": 198,
   "id": "18336a09",
   "metadata": {},
   "outputs": [],
   "source": [
    "def find_unpaired(A):\n",
    "    seen = {}\n",
    "    for i in range(len(A)):\n",
    "        print(f\"{i} {seen} - {A[i]}\")\n",
    "        if A[i] in seen:\n",
    "            elements = seen.get(A[i])\n",
    "            elements.append(i)\n",
    "            seen[A[i]] = elements\n",
    "        else:\n",
    "            print(f\"{i} {seen}\")\n",
    "            seen[A[i]] = [i]\n",
    "    \n",
    "    for k in seen:\n",
    "        print(f\"{k} - values = {seen[k]}\")\n",
    "        if len(seen[k])%2 !=0:\n",
    "            print(f\"unpaired = {k}\")\n",
    "            return k\n",
    "        "
   ]
  },
  {
   "cell_type": "code",
   "execution_count": 199,
   "id": "4fc407a5",
   "metadata": {},
   "outputs": [
    {
     "name": "stdout",
     "output_type": "stream",
     "text": [
      "0 {} - 9\n",
      "0 {}\n",
      "1 {9: [0]} - 3\n",
      "1 {9: [0]}\n",
      "2 {9: [0], 3: [1]} - 9\n",
      "3 {9: [0, 2], 3: [1]} - 3\n",
      "4 {9: [0, 2], 3: [1, 3]} - 9\n",
      "5 {9: [0, 2, 4], 3: [1, 3]} - 7\n",
      "5 {9: [0, 2, 4], 3: [1, 3]}\n",
      "6 {9: [0, 2, 4], 3: [1, 3], 7: [5]} - 9\n",
      "9 - values = [0, 2, 4, 6]\n",
      "3 - values = [1, 3]\n",
      "7 - values = [5]\n",
      "unpaired = 7\n"
     ]
    },
    {
     "data": {
      "text/plain": [
       "7"
      ]
     },
     "execution_count": 199,
     "metadata": {},
     "output_type": "execute_result"
    }
   ],
   "source": [
    "A= [9,3,9,3,9,7,9]\n",
    "find_unpaired(A)"
   ]
  },
  {
   "cell_type": "code",
   "execution_count": 200,
   "id": "54da828c",
   "metadata": {},
   "outputs": [
    {
     "data": {
      "text/plain": [
       "75"
      ]
     },
     "execution_count": 200,
     "metadata": {},
     "output_type": "execute_result"
    }
   ],
   "source": [
    "85-10"
   ]
  },
  {
   "cell_type": "code",
   "execution_count": 208,
   "id": "6e015f4b",
   "metadata": {},
   "outputs": [
    {
     "data": {
      "text/plain": [
       "3"
      ]
     },
     "execution_count": 208,
     "metadata": {},
     "output_type": "execute_result"
    }
   ],
   "source": [
    "import math\n",
    "math.ceil(75/30)\n"
   ]
  },
  {
   "cell_type": "code",
   "execution_count": 247,
   "id": "49c8f9f3",
   "metadata": {},
   "outputs": [],
   "source": [
    "def find_missing(A):\n",
    "    A.sort()\n",
    "    for i in range(1,len(A)+1):\n",
    "        if A[i-1] != i:\n",
    "            return int(i)"
   ]
  },
  {
   "cell_type": "code",
   "execution_count": 248,
   "id": "683a553e",
   "metadata": {},
   "outputs": [
    {
     "data": {
      "text/plain": [
       "4"
      ]
     },
     "execution_count": 248,
     "metadata": {},
     "output_type": "execute_result"
    }
   ],
   "source": [
    "A = [2,3,1,5,6,7,8,9,10,11,12,13,14,15,16]\n",
    "find_missing(A)"
   ]
  },
  {
   "cell_type": "code",
   "execution_count": 223,
   "id": "733a6b2f",
   "metadata": {},
   "outputs": [
    {
     "data": {
      "text/plain": [
       "16"
      ]
     },
     "execution_count": 223,
     "metadata": {},
     "output_type": "execute_result"
    }
   ],
   "source": [
    "max(A)"
   ]
  },
  {
   "cell_type": "code",
   "execution_count": 253,
   "id": "c9c0b240",
   "metadata": {},
   "outputs": [],
   "source": [
    "def find_missing(A):\n",
    "    n = len(A)+1\n",
    "    esum = (n*(n+1))/2\n",
    "    asum= sum(A)\n",
    "    return(int(esum-asum))\n",
    "             "
   ]
  },
  {
   "cell_type": "code",
   "execution_count": 254,
   "id": "586ca133",
   "metadata": {},
   "outputs": [
    {
     "data": {
      "text/plain": [
       "4"
      ]
     },
     "execution_count": 254,
     "metadata": {},
     "output_type": "execute_result"
    }
   ],
   "source": [
    "A = [2,3,1,5,6,7,8,9,10,11,12,13,14,15,16]\n",
    "find_missing(A)"
   ]
  },
  {
   "cell_type": "code",
   "execution_count": 252,
   "id": "c2b90ca0",
   "metadata": {},
   "outputs": [
    {
     "data": {
      "text/plain": [
       "132"
      ]
     },
     "execution_count": 252,
     "metadata": {},
     "output_type": "execute_result"
    }
   ],
   "source": [
    "sum(A)"
   ]
  },
  {
   "cell_type": "code",
   "execution_count": 327,
   "id": "feea7227",
   "metadata": {},
   "outputs": [],
   "source": [
    "import sys\n",
    "def min_diff(A):\n",
    "    diff = sys.maxsize\n",
    "    for i in range(1,len(A)):\n",
    "        d = abs(sum(A[i:]) - sum(A[:i:]))\n",
    "        if d < diff:\n",
    "            diff = d\n",
    "    return diff\n",
    "    \n",
    "    "
   ]
  },
  {
   "cell_type": "code",
   "execution_count": 328,
   "id": "ecf90c33",
   "metadata": {},
   "outputs": [
    {
     "data": {
      "text/plain": [
       "6"
      ]
     },
     "execution_count": 328,
     "metadata": {},
     "output_type": "execute_result"
    }
   ],
   "source": [
    "A = [6,6,6]\n",
    "P = 2\n",
    "min_diff(A)"
   ]
  },
  {
   "cell_type": "code",
   "execution_count": 305,
   "id": "0a7da6cc",
   "metadata": {},
   "outputs": [
    {
     "data": {
      "text/plain": [
       "[]"
      ]
     },
     "execution_count": 305,
     "metadata": {},
     "output_type": "execute_result"
    }
   ],
   "source": [
    "A[3:]"
   ]
  },
  {
   "cell_type": "code",
   "execution_count": 306,
   "id": "4ffe8d5c",
   "metadata": {},
   "outputs": [
    {
     "data": {
      "text/plain": [
       "[1, 2, 3]"
      ]
     },
     "execution_count": 306,
     "metadata": {},
     "output_type": "execute_result"
    }
   ],
   "source": [
    "A[:3:]"
   ]
  },
  {
   "cell_type": "code",
   "execution_count": 329,
   "id": "afd030c4",
   "metadata": {},
   "outputs": [],
   "source": [
    "def nested(S):\n",
    "    stack = []\n",
    "    if '(' in S:\n",
    "        for s in S:\n",
    "            if s == '(':\n",
    "                stack.append('(')\n",
    "            if s==')':\n",
    "                try:\n",
    "                    stack.pop()\n",
    "                except:\n",
    "                    return 0\n",
    "        if len(stack) > 0 :\n",
    "            return 0\n",
    "        else:\n",
    "            return 1\n",
    "    elif S == \"\":\n",
    "        return 1\n",
    "    else:\n",
    "        return 0\n",
    "    \n",
    "    "
   ]
  },
  {
   "cell_type": "code",
   "execution_count": 335,
   "id": "2000f42b",
   "metadata": {},
   "outputs": [],
   "source": [
    "def dominator(A):\n",
    "    seen = {}\n",
    "    if len(A)>3:\n",
    "        for i in range(len(A)):\n",
    "            if A[i] in seen:\n",
    "                d = seen.get(A[i])\n",
    "                d['index'] = i\n",
    "                d['count'] = d['count'] + 1\n",
    "                seen[A[i]] = d\n",
    "            else:\n",
    "                seen[A[i]] = {'index':i, 'count':1}\n",
    "        for n in seen:\n",
    "            d = seen.get(n)\n",
    "            idx = d.get('index')\n",
    "            count = d.get('count')\n",
    "            if count > len(A)/2:\n",
    "                return idx\n",
    "    else: \n",
    "        return -1\n",
    "\n",
    "    \n",
    "    "
   ]
  },
  {
   "cell_type": "code",
   "execution_count": 336,
   "id": "d3a44441",
   "metadata": {},
   "outputs": [
    {
     "name": "stdout",
     "output_type": "stream",
     "text": [
      "7\n"
     ]
    }
   ],
   "source": [
    "A = [3,4,3,2,3,-1,3,3]\n",
    "print(dominator(A))"
   ]
  },
  {
   "cell_type": "code",
   "execution_count": 412,
   "id": "eec95af4",
   "metadata": {},
   "outputs": [],
   "source": [
    "def get_peaks(A):\n",
    "    peaks = []\n",
    "    for i in range(1,len(A)-1):\n",
    "        if A[i-1]<A[i] and A[i] > A[i+1]:\n",
    "            peaks.append(i)\n",
    "    print(peaks)\n",
    "    seen = {}\n",
    "    count = 0\n",
    "    N = len(A)\n",
    "    flags = len(peaks)\n",
    "    pos = 0\n",
    "    count = 0\n",
    "    while pos < N and flags > 0:\n",
    "        if pos in peaks:\n",
    "            flags -= 1\n",
    "            count = count+1\n",
    "            pos += flags\n",
    "        else:\n",
    "            pos += 1\n",
    "    return flags == 0, count\n",
    "    \n",
    "            \n",
    "    "
   ]
  },
  {
   "cell_type": "code",
   "execution_count": 413,
   "id": "19f62858",
   "metadata": {},
   "outputs": [
    {
     "name": "stdout",
     "output_type": "stream",
     "text": [
      "[1, 3, 7, 10, 13, 17]\n"
     ]
    },
    {
     "data": {
      "text/plain": [
       "(False, 4)"
      ]
     },
     "execution_count": 413,
     "metadata": {},
     "output_type": "execute_result"
    }
   ],
   "source": [
    "\n",
    "A = [1,2,1,2,1,1,1,3,1,1,4,1,1,4,1,1,1,5,1]\n",
    "get_peaks(A)"
   ]
  },
  {
   "cell_type": "code",
   "execution_count": 472,
   "id": "2450b596",
   "metadata": {},
   "outputs": [],
   "source": [
    "def find_missing(A):\n",
    "    m = max(A)  # Storing maximum value\n",
    "    if m < 1:\n",
    " \n",
    "        # In case all values in our array are negative\n",
    "        return 1\n",
    "    if len(A) == 1:\n",
    " \n",
    "        # If it contains only one element\n",
    "        return 2 if A[0] == 1 else 1\n",
    "    l = [0] * m\n",
    "    for i in range(len(A)):\n",
    "        if A[i] > 0:\n",
    "            if l[A[i] - 1] != 1:\n",
    " \n",
    "                # Changing the value status at the index of our list\n",
    "                l[A[i] - 1] = 1\n",
    "    for i in range(len(l)):\n",
    " \n",
    "        # Encountering first 0, i.e, the element with least value\n",
    "        if l[i] == 0:\n",
    "            return i + 1\n",
    "            # In case all values are filled between 1 and m\n",
    "    return i + 2\n",
    "    \n",
    "\n",
    "\n",
    "    "
   ]
  },
  {
   "cell_type": "code",
   "execution_count": 473,
   "id": "e9bbc438",
   "metadata": {},
   "outputs": [
    {
     "data": {
      "text/plain": [
       "3"
      ]
     },
     "execution_count": 473,
     "metadata": {},
     "output_type": "execute_result"
    }
   ],
   "source": [
    "A = [-3,-2,-1,0,1,2]\n",
    "\n",
    "find_missing(A)"
   ]
  },
  {
   "cell_type": "code",
   "execution_count": 476,
   "id": "adcf5530",
   "metadata": {},
   "outputs": [],
   "source": [
    "def runs(values,runs):\n",
    "    r = runs\n",
    "    start = []\n",
    "    for i in range(len(values)):\n",
    "        j = i\n",
    "        while r>0 and j+runs < len(values):\n",
    "            if abs(values[i]-values[i+1]) == 1:\n",
    "                r = r-1\n",
    "                if r == 0:\n",
    "                    start.append[i]\n",
    "                    j=j+1\n",
    "            else:\n",
    "                break\n",
    "    return start\n",
    "    "
   ]
  },
  {
   "cell_type": "code",
   "execution_count": 1,
   "id": "16e2f6be",
   "metadata": {},
   "outputs": [],
   "source": [
    "values=[1,2,3,5,10,9,8,9,10,11,7,8,7]"
   ]
  },
  {
   "cell_type": "code",
   "execution_count": 2,
   "id": "e87f8bba",
   "metadata": {},
   "outputs": [
    {
     "name": "stdout",
     "output_type": "stream",
     "text": [
      "[1, 2, 3]\n",
      "[2, 3, 5]\n",
      "[3, 5, 10]\n",
      "[5, 10, 9]\n",
      "[10, 9, 8]\n",
      "[9, 8, 9]\n",
      "[8, 9, 10]\n",
      "[9, 10, 11]\n",
      "[10, 11, 7]\n",
      "[11, 7, 8]\n",
      "[7, 8, 7]\n",
      "[8, 7]\n",
      "[7]\n"
     ]
    }
   ],
   "source": [
    "for i in range(len(values)):\n",
    "    print(values[i:i+3])"
   ]
  },
  {
   "cell_type": "code",
   "execution_count": 481,
   "id": "4f1d0580",
   "metadata": {},
   "outputs": [],
   "source": [
    "def solution(values, runs):\n",
    "    # Implement your solution here\n",
    "    start = [] # initialize list\n",
    "    pos = 0\n",
    "\n",
    "    while pos < len(values):\n",
    "        print(f\"position is {pos} ; {pos+runs} ; {len(values)}\")\n",
    "        is_valid = False\n",
    "        if pos+runs < len(values):\n",
    "            sub_array = values[pos:pos+runs]\n",
    "            print(sub_array)\n",
    "            c = 0\n",
    "            \n",
    "            for n in range(len(sub_array)-1):\n",
    "                print(f\"decreasing sub array = {sub_array[n]}\")\n",
    "                if (sub_array[n]-sub_array[n+1]) == 1:\n",
    "                    c = c+1\n",
    "                    print(c)\n",
    "                else:\n",
    "                    break\n",
    "\n",
    "        if c == runs -1:\n",
    "            start.append(pos)\n",
    "        pos+=1\n",
    "    pos = 0\n",
    "    while pos < len(values):\n",
    "        print(f\"position is {pos} ; {pos+runs} ; {len(values)}\")\n",
    "        is_valid = False\n",
    "        if pos+runs < len(values):\n",
    "            sub_array = values[pos:pos+runs]\n",
    "            print(sub_array)\n",
    "            c = 0\n",
    "            for n in range(len(sub_array)-1):\n",
    "                print(f\"Increasing sub array = {sub_array[n]}\")\n",
    "                if (sub_array[n+1]-sub_array[n]) == 1:\n",
    "                    c = c+1\n",
    "                    print(c)\n",
    "                else:\n",
    "                    break\n",
    "                    \n",
    "        if c == runs -1:\n",
    "            start.append(pos)\n",
    "        pos+=1\n",
    "    start.sort()   \n",
    "    return start\n",
    "         \n"
   ]
  },
  {
   "cell_type": "code",
   "execution_count": 7,
   "id": "e16a6798",
   "metadata": {},
   "outputs": [],
   "source": [
    "def check_decreasing(sub_array,c):\n",
    "    for n in range(len(sub_array)-1):\n",
    "        print(f\"decreasing sub array = {sub_array[n]}\")\n",
    "        if (sub_array[n]-sub_array[n+1]) == 1:\n",
    "            c = c+1\n",
    "    return c\n",
    "\n",
    "def check_increasing(sub_array,c):\n",
    "    for n in range(len(sub_array)-1):\n",
    "        print(f\"decreasing sub array = {sub_array[n]}\")\n",
    "        if (sub_array[n+1]-sub_array[n]) == 1:\n",
    "            c = c+1\n",
    "    return c\n",
    "    \n",
    "def solution(values, runs):\n",
    "    # Implement your solution here\n",
    "    start = [] # initialize list\n",
    "    pos = 0\n",
    "    while pos < len(values):\n",
    "        print(f\"position is {pos} ; {pos+runs} ; {len(values)}\")\n",
    "        is_valid = False\n",
    "        if pos+runs < len(values):\n",
    "            sub_array = values[pos:pos+runs]\n",
    "            print(sub_array)\n",
    "            \n",
    "            ### check decreasing \n",
    "            c = check_decreasing(sub_array,0)\n",
    "            if c == runs -1:\n",
    "                start.append(pos)\n",
    "            \n",
    "            c = check_increasing(sub_array,0)\n",
    "            if c == runs -1:\n",
    "                start.append(pos)\n",
    "                \n",
    "        pos+=1\n",
    "    start.sort()   \n",
    "    return start\n",
    "           "
   ]
  },
  {
   "cell_type": "code",
   "execution_count": 8,
   "id": "22898020",
   "metadata": {},
   "outputs": [
    {
     "name": "stdout",
     "output_type": "stream",
     "text": [
      "position is 0 ; 3 ; 13\n",
      "[1, 2, 3]\n",
      "decreasing sub array = 1\n",
      "decreasing sub array = 2\n",
      "decreasing sub array = 1\n",
      "decreasing sub array = 2\n",
      "position is 1 ; 4 ; 13\n",
      "[2, 3, 5]\n",
      "decreasing sub array = 2\n",
      "decreasing sub array = 3\n",
      "decreasing sub array = 2\n",
      "decreasing sub array = 3\n",
      "position is 2 ; 5 ; 13\n",
      "[3, 5, 10]\n",
      "decreasing sub array = 3\n",
      "decreasing sub array = 5\n",
      "decreasing sub array = 3\n",
      "decreasing sub array = 5\n",
      "position is 3 ; 6 ; 13\n",
      "[5, 10, 9]\n",
      "decreasing sub array = 5\n",
      "decreasing sub array = 10\n",
      "decreasing sub array = 5\n",
      "decreasing sub array = 10\n",
      "position is 4 ; 7 ; 13\n",
      "[10, 9, 8]\n",
      "decreasing sub array = 10\n",
      "decreasing sub array = 9\n",
      "decreasing sub array = 10\n",
      "decreasing sub array = 9\n",
      "position is 5 ; 8 ; 13\n",
      "[9, 8, 9]\n",
      "decreasing sub array = 9\n",
      "decreasing sub array = 8\n",
      "decreasing sub array = 9\n",
      "decreasing sub array = 8\n",
      "position is 6 ; 9 ; 13\n",
      "[8, 9, 10]\n",
      "decreasing sub array = 8\n",
      "decreasing sub array = 9\n",
      "decreasing sub array = 8\n",
      "decreasing sub array = 9\n",
      "position is 7 ; 10 ; 13\n",
      "[9, 10, 11]\n",
      "decreasing sub array = 9\n",
      "decreasing sub array = 10\n",
      "decreasing sub array = 9\n",
      "decreasing sub array = 10\n",
      "position is 8 ; 11 ; 13\n",
      "[10, 11, 7]\n",
      "decreasing sub array = 10\n",
      "decreasing sub array = 11\n",
      "decreasing sub array = 10\n",
      "decreasing sub array = 11\n",
      "position is 9 ; 12 ; 13\n",
      "[11, 7, 8]\n",
      "decreasing sub array = 11\n",
      "decreasing sub array = 7\n",
      "decreasing sub array = 11\n",
      "decreasing sub array = 7\n",
      "position is 10 ; 13 ; 13\n",
      "position is 11 ; 14 ; 13\n",
      "position is 12 ; 15 ; 13\n"
     ]
    },
    {
     "data": {
      "text/plain": [
       "[0, 4, 6, 7]"
      ]
     },
     "execution_count": 8,
     "metadata": {},
     "output_type": "execute_result"
    }
   ],
   "source": [
    "solution(values,3)"
   ]
  },
  {
   "cell_type": "code",
   "execution_count": null,
   "id": "adebfcd1",
   "metadata": {},
   "outputs": [],
   "source": [
    "# you can write to stdout for debugging purposes, e.g.\n",
    "# print(\"this is a debug message\")\n",
    "\n",
    "## The solution is iterating over the provided array len N and breaks down into sub array of length = run length (denoted as R)\n",
    "## I iterante once through entire array and seperately twice through sub array\n",
    "## time complexity = O(N*2R) ~ O(NR)\n",
    "\n",
    "def check_decreasing(sub_array,c):\n",
    "    for n in range(len(sub_array)-1):\n",
    "        #print(f\"decreasing sub array = {sub_array[n]}\")\n",
    "        if (sub_array[n]-sub_array[n+1]) == 1:\n",
    "            c = c+1\n",
    "    return c\n",
    "\n",
    "def check_increasing(sub_array,c):\n",
    "    for n in range(len(sub_array)-1):\n",
    "        #print(f\"decreasing sub array = {sub_array[n]}\")\n",
    "        if (sub_array[n+1]-sub_array[n]) == 1:\n",
    "            c = c+1\n",
    "    return c\n",
    "\n",
    "def solution(values, run_length):\n",
    "    start = [] # initialize resul list to be returned at the end\n",
    "    for pos in range(len(values)):\n",
    "        # verify iteration\n",
    "        #print(f\"position is {pos} ; {pos+run_length} ; {len(values)}\")\n",
    "        \n",
    "        sub_array = values[pos:pos+run_length]\n",
    "        # check the sub_array generated\n",
    "        #print(sub_array)\n",
    "        \n",
    "        # From the example provided, assuming the following: \n",
    "        # the sub_array sequence can either be increaing or deacreasing but not both\n",
    "        # checking for each case using helper functions check_decreasing and check_increasing\n",
    "        \n",
    "        ## checking decreasing sequence\n",
    "        count = check_decreasing(sub_array,0)\n",
    "        # we check run_length -1 as whe check array length with run_length -1 iterations\n",
    "        if count == run_length -1:\n",
    "            start.append(pos)\n",
    "        ## checking increasing sequence\n",
    "        count = check_increasing(sub_array,0)\n",
    "        # we check run_length -1 as whe check array length with run_length -1 iterations\n",
    "        if count == run_length -1:\n",
    "            start.append(pos)\n",
    "    # using sort to match the output though correct was getting it out of sequence \n",
    "    # It got corrected as I used single loop to check increasing and decreasing sequence\n",
    "    # Initially I used absolute difference and realized that it was not matching the expected out put.\n",
    "    #start.sort()             \n",
    "    #print(start)\n",
    "    return start\n",
    "         \n"
   ]
  },
  {
   "cell_type": "code",
   "execution_count": 4,
   "id": "af53ce47",
   "metadata": {},
   "outputs": [
    {
     "data": {
      "text/plain": [
       "20.90909090909091"
      ]
     },
     "execution_count": 4,
     "metadata": {},
     "output_type": "execute_result"
    }
   ],
   "source": [
    "import numpy as np\n",
    "A = [7, 16, 12, 51, 10, 81, 1, 16, 9, 11, 16]\n",
    "np.mean(A)"
   ]
  },
  {
   "cell_type": "code",
   "execution_count": 32,
   "id": "f952f1de",
   "metadata": {},
   "outputs": [],
   "source": [
    "def mode_calc(A):\n",
    "    seen = {}\n",
    "    \n",
    "    for n in A:\n",
    "        if n in seen:\n",
    "            seen[n] = seen[n]+1\n",
    "        else:\n",
    "            seen[n] = 1\n",
    "    mode = []\n",
    "    freq = 0\n",
    "    for k in seen:\n",
    "        if seen[k] >= freq:\n",
    "            freq = seen[k]\n",
    "            if len(mode)>=1:\n",
    "                mode.pop()\n",
    "                mode.append(k)\n",
    "            else:\n",
    "                mode.append(k)\n",
    "    return mode[0]"
   ]
  },
  {
   "cell_type": "code",
   "execution_count": 33,
   "id": "eb3758e5",
   "metadata": {},
   "outputs": [
    {
     "data": {
      "text/plain": [
       "16"
      ]
     },
     "execution_count": 33,
     "metadata": {},
     "output_type": "execute_result"
    }
   ],
   "source": [
    "mode_calc(A)"
   ]
  },
  {
   "cell_type": "code",
   "execution_count": 37,
   "id": "84b884d8",
   "metadata": {},
   "outputs": [],
   "source": [
    "import random\n",
    "\n",
    "def generate_random_list(N):\n",
    "    \"\"\"\n",
    "    Generates a list of N random integers.\n",
    "    \"\"\"\n",
    "    return [random.randint(1, 100) for _ in range(N)]"
   ]
  },
  {
   "cell_type": "code",
   "execution_count": 46,
   "id": "c8dc901a",
   "metadata": {},
   "outputs": [
    {
     "name": "stdout",
     "output_type": "stream",
     "text": [
      "[79, 75, 79, 85, 43, 52, 49, 27, 53, 28, 82, 63, 31, 11, 61, 85, 5, 45, 1, 93, 60, 44, 38, 39, 53, 66, 32, 35, 95, 41, 30, 58, 16, 99, 94, 83, 36, 50, 79, 89, 91, 31, 18, 64, 12, 83, 57, 18, 47, 53, 30, 16, 59, 86, 1, 15, 58, 38, 67, 72, 45, 48, 59, 75, 28, 33, 56, 73, 69, 33, 64, 35, 78, 63, 76, 12, 87, 28, 64, 86, 7, 100, 57, 24, 21, 4, 48, 79, 79, 82, 77, 50, 89, 58, 17, 4, 98, 46, 51, 54, 5, 88, 98, 34, 77, 1, 93, 46, 52, 84, 43, 67, 8, 99, 69, 34, 42, 30, 26, 99, 20, 18, 9, 72, 65, 5, 37, 1, 17, 45, 30, 4, 27, 13, 22, 90, 94, 92, 7, 19, 68, 2, 46, 97, 99, 71, 9, 95, 65, 60, 87, 50, 22, 84, 17, 71, 58, 29, 94, 41, 6, 25, 38, 23, 97, 6, 55, 4, 24, 22, 77, 2, 80, 12, 6, 21, 54, 64, 68, 68, 98, 51, 41, 48, 12, 37, 5, 25, 80, 88, 74, 50, 35, 27, 41, 45, 92, 81, 52, 18, 96, 85, 85, 46, 14, 61, 65, 53, 99, 94, 58, 53, 34, 85, 71, 42, 29, 94, 36, 94, 17, 30, 68, 68, 29, 31, 7, 6, 63, 20, 58, 32, 88, 55, 63, 28, 99, 38, 96, 77, 95, 44, 3, 45, 26, 86, 31, 58, 60, 94, 38, 58, 9, 100, 80, 24, 13, 47, 13, 49, 59, 76, 87, 25, 38, 5, 70, 8, 90, 95, 28, 99, 79, 59, 50, 65, 31, 73, 26, 52, 34, 90, 79, 3, 57, 97, 74, 22, 21, 1, 47, 44, 78, 88, 37, 57, 33, 58, 94, 40, 58, 39, 21, 61, 100, 54, 87, 39, 5, 47, 86, 24, 85, 39, 37, 82, 89, 41, 57, 42, 90, 63, 39, 40, 17, 82, 9, 3, 41, 35, 71, 24, 85, 36, 13, 81, 66, 18, 22, 59, 90, 66, 8, 80, 98, 57, 70, 92, 16, 90, 68, 37, 88, 79, 49, 98, 25, 54, 11, 53, 49, 25, 66, 2, 22, 13, 41, 93, 82, 99, 30, 71, 6, 92, 50, 91, 73, 12, 63, 44, 50, 35, 56, 91, 89, 76, 62, 32, 88, 77, 63, 87, 72, 12, 51, 80, 61, 53, 20, 40, 59, 99, 13, 47, 68, 77, 87, 20, 76, 100, 19, 82, 40, 63, 100, 45, 49, 66, 17, 49, 40, 62, 69, 2, 68, 53, 3, 3, 58, 80, 16, 53, 22, 48, 4, 86, 88, 88, 82, 69, 44, 75, 77, 70, 18, 58, 4, 24, 59, 90, 99, 75, 15, 84, 82, 44, 87, 1, 14, 3, 44, 57, 90, 99, 61, 34, 82, 93, 99, 53, 11, 10, 21, 11, 90, 37, 77, 38, 86, 32, 84, 75, 17, 47, 83, 13, 51, 77, 74, 71, 10, 77, 55, 1, 56, 36, 28, 83, 88, 78, 79, 35, 39, 33, 30, 95, 1, 36, 100, 32, 25, 33, 33, 22, 24, 23, 71, 93, 31, 1, 86, 59, 10, 89, 33, 28, 59, 40, 40, 45, 13, 28, 78, 52, 25, 38, 82, 78, 34, 62, 50, 65, 2, 15, 12, 11, 87, 11, 35, 90, 4, 24, 53, 92, 54, 48, 34, 78, 53, 68, 65, 8, 69, 30, 28, 3, 7, 99, 60, 63, 23, 81, 62, 10, 100, 84, 99, 38, 32, 82, 21, 80, 29, 83, 67, 62, 37, 5, 37, 32, 45, 90, 66, 64, 36, 100, 83, 68, 98, 79, 57, 77, 79, 62, 34, 25, 32, 3, 38, 44, 30, 55, 100, 95, 4, 78, 56, 86, 35, 21, 76, 8, 6, 98, 15, 7, 66, 38, 51, 26, 94, 32, 19, 63, 90, 10, 44, 14, 96, 68, 34, 27, 5, 28, 76, 57, 24, 2, 6, 77, 93, 64, 14, 57, 24, 79, 50, 80, 79, 64, 88, 19, 8, 18, 94, 78, 26, 24, 95, 53, 93, 33, 64, 20, 71, 54, 9, 59, 81, 57, 28, 46, 98, 48, 62, 88, 99, 19, 88, 50, 86, 33, 11, 94, 93, 89, 1, 46, 43, 37, 53, 73, 41, 27, 94, 84, 40, 71, 76, 74, 95, 14, 64, 92, 45, 19, 94, 86, 31, 78, 50, 47, 93, 16, 21, 89, 51, 8, 81, 20, 100, 45, 64, 16, 5, 82, 50, 34, 45, 29, 8, 63, 4, 97, 97, 12, 36, 41, 62, 30, 61, 10, 72, 8, 76, 60, 79, 42, 92, 31, 49, 99, 82, 33, 37, 81, 59, 18, 74, 36, 69, 66, 34, 3, 52, 61, 92, 94, 2, 46, 68, 45, 21, 27, 82, 93, 94, 98, 83, 18, 76, 100, 55, 50, 86, 18, 7, 56, 35, 25, 41, 17, 42, 36, 3, 19, 7, 21, 7, 49, 85, 7, 89, 18, 49, 9, 10, 77, 26, 78, 25, 32, 32, 15, 28, 42, 49, 65, 26, 3, 1, 13, 81, 68, 4, 12, 42, 84, 3, 72, 21, 68, 10, 38, 82, 96, 94, 69, 7, 55, 94, 83, 31, 32, 25, 43, 57, 67, 7, 13, 93, 38, 1, 26, 72, 100, 28, 52, 26, 33, 57, 97, 69, 86, 86, 67, 47, 31, 67, 97, 85, 19, 42, 38, 49, 95, 92, 96, 95, 47, 61, 22, 16, 37, 62, 95, 61, 66, 15, 71, 76, 20, 96, 83, 7, 49, 80, 10, 3, 93, 46, 75, 90, 56, 31, 57, 32, 51, 14, 74, 93, 38, 24, 37, 55, 72, 52, 2, 20, 14, 89, 100, 51, 49, 37, 1, 47, 5, 2, 43, 35, 40, 99, 14, 22, 60, 21, 20, 89, 31, 9, 95, 96, 43, 14, 19, 12, 41, 3, 15, 75, 12, 32, 45, 12, 99, 40, 59, 44, 56, 72, 15, 1, 88, 45, 8, 62, 48, 48, 9, 42, 58, 84, 65, 26, 77, 54, 65, 46, 72, 6, 73, 37, 33, 87, 55, 82, 39, 69, 61, 59, 66, 100, 60, 88, 68, 16, 90, 48, 79, 26, 21, 77, 6, 80, 68, 13, 71, 47, 45, 71, 96, 12, 92, 9, 5, 62, 14, 79, 33, 96, 80, 47, 38, 14, 89, 64, 9, 20, 75, 67, 95, 2, 22, 14, 32, 81, 66, 90, 86, 20, 32, 24, 85, 21, 36, 31, 53, 25, 99, 2, 88, 45, 88, 93, 25, 57, 90, 6, 44, 28, 33, 80, 87, 10, 99, 84, 64, 53, 84, 96, 45, 90, 75, 90, 22, 94, 21, 96, 16, 28, 37, 49, 22, 83, 51, 45, 71, 46, 36, 51, 51, 82, 53, 16, 60, 7, 32, 72, 41, 51, 18, 59, 29, 30, 91, 64, 60, 24, 52, 53, 77, 3, 88, 62, 80, 89, 62, 20, 52, 3, 38, 47, 82, 55, 12, 17, 74, 18, 69, 22, 82, 87, 34, 89, 91, 75, 36, 81, 48, 92, 28, 50, 47, 12, 15, 45, 11, 16, 13, 8, 60, 1, 99, 42, 9, 2, 54, 40, 78, 69, 19, 87, 33, 73, 41, 44, 79, 69, 55, 33, 5, 83, 61, 77, 44, 51, 59, 33, 29, 33, 82, 6, 94, 33, 50, 99, 2, 74, 1, 100, 56, 77, 40, 31, 46, 32, 82, 28, 11, 26, 39, 35, 78, 52, 95, 97, 59, 30, 85, 80, 3, 12, 88, 61, 56, 80, 61, 91, 65, 65, 17, 42, 45, 33, 69, 46, 35, 41, 94, 35, 46, 79, 63, 29, 100, 61, 87, 55, 99, 29, 93, 39, 73, 48, 14, 23, 68, 18, 56, 72, 65, 74, 18, 76, 58, 83, 38, 35, 15, 32, 94, 12, 38, 45, 56, 56, 51, 4, 83, 94, 85, 20, 70, 74, 35, 22, 80, 89, 98, 11, 80, 37, 62, 19, 69, 1, 83, 44, 35, 74, 52, 39, 14, 19, 1, 14, 85, 51, 12, 57, 60, 94, 45, 58, 61, 99, 36, 88, 95, 49, 2, 80, 97, 74, 41, 79, 33, 98, 69, 31, 71, 85, 70, 7, 36, 14, 63, 36, 98, 20, 89, 89, 12, 67, 96, 20, 60, 77, 72, 53, 54, 25, 32, 67, 81, 26, 85, 98, 14, 7, 90, 94, 39, 56, 86, 36, 92, 35, 45, 11, 34, 36, 97, 8, 80, 97, 47, 80, 43, 10, 42, 85, 9, 70, 94, 21, 74, 24, 70, 68, 75, 92, 89, 2, 40, 20, 47, 50, 38, 61, 28, 2, 39, 31, 80, 14, 87, 59, 96, 84, 69, 82, 59, 95, 35, 74, 60, 62, 29, 67, 9, 47, 99, 38, 14, 48, 50, 84, 28, 38, 55, 46, 43, 74, 88, 49, 11, 21, 14, 29, 78, 42, 61, 43, 9, 62, 37, 9, 48, 90, 95, 16, 49, 90, 20, 96, 19, 59, 13, 65, 95, 1, 12, 15, 21, 16, 94, 50, 71, 99, 20, 81, 67, 80, 9, 54, 49, 8, 43, 16, 58, 31, 64, 48, 81, 40, 96, 20, 78, 9, 42, 96, 95, 54, 15, 48, 83, 37, 73, 65, 83, 72, 1, 52, 76, 10, 26, 11, 56, 64, 33, 25, 93, 31, 48, 56, 7, 76, 95, 11, 2, 75, 51, 96, 62, 48, 17, 25, 9, 36, 94, 90, 12, 48, 87, 28, 58, 75, 17, 51, 67, 11, 64, 30, 21, 75, 13, 28, 19, 10, 33, 25, 82, 74, 8, 6, 97, 40, 51, 43, 33, 22, 37, 7, 56, 27, 67, 47, 99, 42, 37, 2, 82, 89, 46, 11, 95, 27, 65, 78, 51, 42, 13, 29, 100, 36, 28, 26, 89, 93, 5, 100, 32, 89, 88, 77, 54, 26, 53, 59, 37, 85, 50, 7, 100, 73, 63, 8, 81, 50, 59, 96, 8, 4, 78, 8, 75, 47, 39, 32, 24, 74, 56, 2, 50, 23, 87, 44, 96, 72, 27, 88, 97, 52, 69, 21, 9, 98, 88, 57, 3, 69, 62, 95, 60, 79, 87, 71, 61, 42, 45, 37, 72, 91, 60, 97, 64, 16, 68, 44, 56, 89, 37, 5, 96, 24, 42, 69, 25, 74, 56, 28, 69, 93, 59, 72, 43, 86, 56, 48, 17, 11, 84, 33, 4, 93, 65, 55, 24, 66, 98, 10, 7, 74, 1, 69, 70, 86, 67, 85, 64, 86, 48, 50, 47, 70, 37, 49, 10, 78, 43, 82, 75, 34, 6, 65, 12, 73, 24, 80, 59, 54, 36, 67, 2, 67, 67, 6, 47, 15, 3, 87, 44, 40, 51, 38, 24, 23, 75, 63, 14, 63, 75, 38, 36, 55, 66, 14, 24, 90, 94, 78, 60, 5, 32, 4, 45, 76, 9, 72, 31, 81, 47, 30, 92, 17, 2, 11, 11, 7, 9, 79, 78, 59, 68, 98, 28, 47, 60, 91, 89, 38, 74, 100, 19, 58, 1, 42, 37, 16, 34, 47, 83, 38, 35, 31, 43, 39, 100, 10, 49, 94, 15, 62, 79, 75, 30, 86, 49, 92, 68, 43, 21, 58, 12, 98, 86, 77, 98, 39, 67, 50, 35, 76, 95, 91, 42, 17, 28, 78, 89, 89, 10, 26, 100, 30, 73, 6, 24, 48, 5, 62, 18, 86, 70, 90, 58, 24, 29, 56, 43, 81, 40, 53, 12, 8, 42, 19, 19, 51, 74, 97, 8, 19, 61, 73, 96, 32, 66, 13, 38, 91, 14, 67, 64, 15, 60, 22, 54, 9, 85, 77, 34, 5, 99, 24, 50, 31, 42, 24, 20, 8, 27, 28, 40, 86, 82, 17, 65, 77, 60, 51, 33, 98, 19, 16, 64, 57, 44, 15, 47, 79, 92, 96, 21, 98, 18, 87, 28, 59, 100, 56, 5, 73, 99, 94, 76, 58, 44, 76, 1, 2, 48, 75, 91, 100, 25, 92, 23, 41, 74, 2, 22, 20, 5, 73, 80, 69, 11, 61, 56, 85, 42, 64, 44, 47, 2, 78, 61, 25, 39, 34, 49, 58, 66, 89, 26, 19, 94, 33, 46, 10, 40, 29, 84, 37, 63, 35, 77, 63, 12, 9, 85, 80, 93, 99, 77, 74, 30, 84, 55, 51, 79, 36, 74, 58, 34, 51, 56, 29, 75, 97, 31, 7, 69, 94, 17, 10, 28, 28, 26, 21, 39, 49, 19, 77, 17, 90, 5, 82, 19, 62, 8, 47, 73, 33, 53, 76, 59, 32, 28, 28, 67, 70, 37, 19, 98, 81, 59, 41, 85, 85, 18, 5, 21, 3, 63, 39, 78, 70, 25, 42, 39, 52, 35, 29, 17, 12, 2, 29, 41, 25, 59, 57, 41, 28, 3, 93, 2, 60, 53, 42, 83, 65, 6, 91, 93, 69, 22, 58, 41, 24, 44, 76, 36, 81, 31, 51, 25, 97, 51, 76, 63, 65, 24, 72, 90, 51, 42, 39, 93, 38, 79, 15, 40, 51, 48, 1, 7, 2, 86, 31, 95, 78, 62, 52, 38, 96, 3, 30, 40, 24, 54, 31, 20, 45, 56, 65, 30, 5, 7, 61, 62, 58, 60, 31, 46, 2, 72, 9, 76, 33, 97, 31, 47, 66, 87, 100, 55, 81, 56, 98, 49, 66, 17, 67, 38, 2, 43, 73, 26, 91, 73, 5, 22, 59, 87, 23, 49, 20, 74, 100, 91, 46, 100, 76, 5, 23, 100, 7, 27, 10, 17, 57, 28, 61, 90, 58, 98, 37, 66, 65, 58, 51, 58, 63, 61, 95, 10, 34, 41, 36, 40, 29, 8, 13, 87, 89, 38, 14, 72, 89, 20, 45, 22, 58, 80, 3, 28, 94, 25, 94, 2, 64, 69, 16, 60, 87, 8, 42, 52, 53, 55, 38, 69, 90, 58, 7, 5, 29, 28, 11, 88, 50, 74, 20, 69, 27, 9, 43, 85, 36, 38, 90, 60, 100, 41, 96, 15, 25, 87, 19, 45, 6, 38, 53, 89, 8, 96, 3, 87, 27, 89, 96, 46, 57, 87, 62, 28, 45, 18, 81, 75, 69, 13, 13, 20, 19, 24, 19, 69, 32, 34, 57, 24, 8, 57, 9, 38, 89, 18, 45, 43, 13, 9, 81, 67, 86, 27, 10, 6, 100, 5, 87, 33, 77, 94, 16, 93, 97, 49, 93, 71, 88, 54, 5, 76, 58, 3, 89, 18, 90, 34, 18, 96, 21, 7, 76, 1, 92, 84, 39, 19, 77, 49, 22, 52, 57, 36, 98, 93, 36, 86, 78, 63, 71, 65, 21, 1, 88, 68, 21, 66, 11, 43, 98, 74, 44, 40, 53, 93, 82, 85, 30, 4, 67, 14, 70, 14, 9, 3, 48, 7, 54, 40, 38, 74, 25, 69, 52, 2, 41, 22, 6, 6, 60, 93, 20, 81, 29, 11, 70, 22, 51, 97, 37, 16, 39, 42, 98, 28, 30, 63, 5, 39, 6, 97, 51, 77, 41, 93, 51, 69, 32, 96, 45, 60, 19, 93, 23, 69, 16, 66, 82, 54, 41, 50, 42, 56, 42, 72, 94, 34, 66, 76, 22, 53, 86, 82, 96, 98, 87, 38, 45, 22, 71, 83, 6, 87, 97, 31, 54, 71, 70, 76, 36, 50, 65, 53, 7, 27, 7, 80, 46, 25, 73, 17, 35, 36, 91, 31, 7, 95, 6, 50, 27, 81, 5, 19, 29, 35, 23, 85, 63, 99, 84, 97, 46, 78, 95, 79, 27, 9, 86, 61, 86, 33, 49, 3, 51, 86, 15, 21, 88, 40, 13, 12, 31, 48, 43, 15, 48, 41, 17, 85, 44, 95, 86, 21, 4, 35, 40, 95, 32, 1, 18, 79, 26, 63, 78, 4, 94, 84, 19, 61, 75, 12, 15, 70, 6, 58, 91, 72, 42, 6, 40, 8, 93, 94, 91, 46, 8, 74, 79, 31, 72, 35, 80, 12, 23, 2, 85, 77, 58, 82, 36, 54, 60, 4, 82, 81, 27, 12, 87, 8, 70, 85, 7, 26, 30, 47, 95, 19, 21, 98, 59, 5, 20, 42, 80, 16, 53, 40, 9, 3, 100, 2, 40, 94, 3, 32, 39, 94, 62, 65, 88, 100, 47, 74, 41, 74, 63, 41, 77, 14, 58, 81, 11, 65, 89, 3, 36, 48, 25, 84, 21, 43, 32, 7, 90, 62, 93, 1, 76, 5, 40, 76, 23, 4, 73, 86, 96, 40, 98, 56, 7, 29, 41, 82, 24, 83, 78, 83, 17, 95, 86, 65, 56, 45, 39, 47, 57, 18, 58, 31, 53, 41, 16, 11, 48, 100, 95, 8, 19, 65, 58, 54, 9, 17, 98, 21, 98, 92, 10, 90, 85, 10, 59, 79, 9, 70, 88, 21, 63, 37, 67, 16, 4, 53, 34, 9, 52, 52, 22, 63, 25, 38, 92, 37, 7, 19, 71, 66, 10, 1, 30, 85, 53, 1, 40, 73, 43, 38, 52, 38, 44, 38, 84, 64, 51, 35, 32, 95, 81, 31, 88, 13, 80, 7, 55, 16, 51, 68, 17, 31, 19, 48, 40, 6, 12, 50, 30, 39, 2, 12, 95, 95, 69, 15, 41, 7, 94, 25, 78, 74, 6, 33, 68, 29, 48, 52, 56, 8, 2, 35, 99, 9, 25, 68, 58, 91, 13, 10, 83, 85, 1, 60, 63, 43, 14, 39, 61, 8, 15, 64, 18, 31, 26, 85, 44, 47, 39, 48, 58, 84, 43, 20, 95, 70, 47, 92, 98, 84, 87, 54, 91, 57, 21, 37, 6, 98, 37, 52, 67, 48, 84, 64, 69, 84, 73, 78, 91, 33, 11, 56, 52, 83, 98, 19, 39, 34, 27, 72, 19, 33, 74, 62, 62, 42, 51, 21, 31, 99, 7, 70, 61, 67, 40, 100, 94, 75, 14, 18, 59, 50, 10, 87, 91, 67, 57, 59, 67, 55, 72, 24, 17, 56, 72, 46, 61, 87, 95, 47, 58, 88, 91, 78, 47, 65, 24, 19, 14, 27, 56, 36, 84, 93, 30, 44, 23, 89, 33, 79, 94, 44, 12, 4, 65, 63, 16, 93, 88, 27, 22, 100, 87, 42, 75, 47, 26, 14, 2, 21, 54, 93, 79, 77, 37, 21, 16, 70, 30, 24, 20, 80, 52, 91, 87, 51, 53, 68, 62, 15, 45, 16, 96, 81, 38, 40, 4, 60, 40, 25, 2, 37, 20, 96, 93, 34, 53, 58, 16, 24, 21, 24, 31, 50, 100, 85, 41, 60, 10, 53, 61, 55, 41, 83, 53, 92, 34, 43, 51, 50, 72, 89, 31, 99, 70, 53, 44, 25, 4, 26, 93, 63, 59, 32, 88, 24, 59, 72, 73, 98, 25, 1, 71, 73, 83, 30, 76, 53, 1, 10, 7, 78, 95, 24, 27, 30, 17, 28, 73, 45, 70, 76, 97, 23, 58, 55, 100, 2, 51, 13, 1, 44, 10, 5, 89, 22, 2, 20, 89, 58, 73, 41, 75, 2, 78, 4, 18, 52, 31, 33, 92, 29, 70, 2, 99, 25, 99, 26, 77, 6, 31, 6, 40, 58, 17, 14, 20, 97, 18, 62, 94, 45, 24, 47, 41, 80, 56, 8, 96, 47, 3, 11, 10, 19, 86, 24, 80, 30, 88, 31, 50, 4, 79, 49, 96, 7, 35, 40, 30, 58, 24, 10, 68, 46, 25, 9, 32, 43, 5, 15, 81, 29, 83, 50, 95, 17, 9, 46, 69, 39, 31, 17, 91, 82, 98, 44, 2, 91, 69, 86, 33, 87, 47, 34, 87, 23, 92, 52, 29, 10, 13, 91, 79, 67, 99, 62, 18, 57, 88, 79, 84, 13, 43, 3, 57, 41, 47, 13, 2, 66, 70, 39, 30, 78, 63, 93, 97, 26, 78, 1, 98, 23, 11, 22, 74, 24, 61, 16, 93, 38, 44, 45, 61, 14, 41, 7, 4, 32, 56, 65, 26, 9, 100, 93, 80, 96, 26, 43, 63, 90, 50, 10, 32, 7, 79, 25, 37, 51, 83, 93, 77, 52, 78, 29, 10, 68, 89, 21, 98, 13, 34, 21, 84, 85, 27, 47, 4, 76, 83, 59, 92, 48, 91, 15, 54, 32, 77, 76, 88, 90, 9, 53, 19, 12, 60, 43, 41, 9, 95, 71, 65, 53, 29, 49, 64, 98, 27, 36, 5, 23, 80, 68, 62, 66, 14, 43, 73, 68, 90, 70, 74, 32, 47, 93, 58, 38, 15, 26, 17, 62, 58, 89, 23, 12, 23, 62, 73, 52, 71, 65, 67, 21, 45, 92, 25, 26, 83, 22, 5, 99, 73, 16, 45, 72, 84, 14, 28, 64, 51, 35, 47, 19, 24, 1, 70, 5, 54, 73, 44, 72, 84, 57, 79, 47, 74, 96, 8, 8, 74, 65, 6, 28, 30, 69, 9, 50, 95, 56, 95, 42, 20, 13, 100, 42, 60, 79, 24, 37, 58, 23, 7, 41, 11, 20, 37, 38, 66, 4, 19, 46, 6, 87, 66, 48, 67, 37, 46, 64, 70, 89, 24, 26, 56, 29, 15, 51, 16, 53, 33, 98, 7, 85, 47, 5, 85, 40, 90, 11, 88, 41, 4, 42, 55, 89, 15, 61, 9, 27, 6, 11, 3, 40, 95, 69, 51, 29, 52, 89, 48, 52, 53, 12, 4, 19, 46, 34, 99, 82, 51, 58, 87, 57, 61, 33, 4, 3, 30, 3, 39, 69, 27, 90, 80, 2, 11, 68, 57, 23, 18, 2, 100, 84, 96, 62, 18, 93, 39, 30, 26, 93, 81, 18, 81, 89, 33, 40, 70, 39, 31, 91, 63, 20, 23, 64, 37, 78, 47, 87, 46, 26, 4, 41, 1, 20, 5, 81, 37, 86, 10, 21, 52, 49, 70, 26, 75, 47, 85, 68, 12, 4, 98, 38, 87, 13, 69, 1, 51, 2, 74, 75, 12, 38, 92, 56, 45, 28, 70, 34, 47, 87, 77, 84, 100, 9, 51, 42, 85, 22, 42, 22, 80, 57, 40, 16, 78, 49, 14, 11, 91, 39, 79, 26, 72, 76, 58, 9, 59, 22, 83, 59, 29, 14, 26, 28, 53, 51, 12, 7, 68, 2, 79, 12, 80, 67, 53, 13, 23, 74, 88, 82, 37, 92, 35, 15, 15, 89, 67, 83, 31, 2, 9, 72, 98, 39, 41, 7, 46, 15, 97, 5, 35, 74, 35, 80, 13, 2, 3, 87, 66, 72, 24, 28, 98, 39, 82, 78, 46, 35, 22, 18, 35, 17, 50, 56, 82, 68, 80, 21, 53, 83, 76, 44, 60, 71, 23, 54, 44, 71, 82, 37, 76, 4, 77, 61, 5, 73, 30, 67, 5, 9, 53, 9, 57, 32, 89, 9, 31, 9, 10, 50, 40, 99, 41, 45, 2, 39, 23, 12, 87, 9, 5, 71, 5, 33, 90, 70, 67, 27, 77, 60, 52, 17, 21, 58, 4, 95, 88, 20, 5, 72, 60, 51, 69, 21, 11, 97, 25, 86, 53, 2, 78, 70, 63, 79, 45, 5, 18, 74, 88, 63, 80, 89, 28, 25, 45, 4, 27, 89, 36, 38, 79, 59, 18, 74, 89, 9, 59, 17, 43, 3, 81, 23, 1, 94, 19, 44, 96, 89, 45, 26, 83, 51, 14, 39, 47, 11, 94, 56, 26, 55, 75, 29, 74, 50, 52, 83, 100, 77, 94, 3, 43, 68, 54, 11, 71, 27, 28, 90, 72, 84, 99, 2, 85, 67, 80, 65, 35, 82, 55, 5, 42, 42, 31, 89, 91, 34, 65, 64, 61, 3, 3, 83, 84, 94, 57, 30, 12, 53, 83, 35, 39, 47, 50, 1, 45, 56, 94, 38, 71, 29, 69, 58, 91, 17, 96, 25, 69, 39, 76, 68, 98, 62, 18, 69, 12, 31, 36, 14, 49, 99, 42, 56, 55, 54, 11, 5, 39, 74, 33, 55, 52, 33, 20, 58, 61, 41, 37, 27, 86, 38, 17, 72, 83, 32, 26, 11, 44, 94, 17, 54, 42, 50, 40, 2, 72, 29, 27, 53, 53, 17, 28, 97, 76, 31, 81, 59, 10, 25, 2, 26, 97, 62, 20, 24, 97, 6, 21, 15, 74, 85, 71, 56, 73, 22, 9, 59, 76, 19, 10, 78, 12, 48, 82, 36, 35, 76, 90, 80, 33, 17, 42, 13, 96, 72, 20, 76, 38, 33, 54, 30, 93, 30, 44, 33, 82, 99, 44, 93, 73, 6, 18, 57, 40, 90, 21, 100, 26, 97, 88, 74, 92, 90, 13, 25, 87, 84, 93, 52, 55, 96, 7, 22, 76, 93, 83, 20, 6, 68, 60, 97, 77, 10, 75, 90, 71, 41, 14, 76, 17, 65, 63, 67, 40, 10, 39, 32, 5, 15, 54, 89, 16, 26, 96, 15, 56, 36, 20, 9, 84, 97, 53, 62, 19, 61, 16, 83, 16, 69, 80, 98, 80, 73, 17, 57, 29, 61, 15, 62, 8, 19, 22, 2, 47, 89, 83, 19, 4, 32, 15, 98, 17, 99, 25, 36, 95, 97, 78, 93, 20, 15, 91, 73, 7, 73, 76, 9, 54, 6, 80, 98, 70, 90, 90, 55, 18, 2, 50, 65, 69, 8, 84, 41, 75, 9, 34, 50, 80, 4, 24, 90, 49, 58, 95, 75, 37, 42, 41, 53, 23, 36, 38, 61, 51, 61, 94, 56, 63, 81, 22, 65, 11, 41, 29, 37, 94, 33, 44, 11, 62, 61, 14, 11, 55, 79, 21, 20, 76, 16, 16, 94, 72, 8, 11, 45, 35, 21, 52, 9, 43, 74, 44, 57, 20, 45, 81, 81, 90, 47, 66, 12, 41, 18, 43, 65, 16, 61, 62, 43, 70, 84, 14, 44, 86, 36, 14, 17, 25, 3, 6, 88, 18, 18, 84, 41, 91, 10, 96, 6, 39, 14, 24, 75, 25, 35, 18, 57, 69, 35, 77, 77, 34, 73, 38, 46, 22, 97, 97, 46, 37, 58, 11, 95, 24, 30, 47, 50, 44, 44, 89, 8, 10, 84, 8, 74, 24, 3, 74, 84, 59, 35, 66, 60, 77, 4, 66, 87, 35, 99, 72, 74, 6, 9, 48, 30, 28, 57, 91, 39, 89, 53, 7, 74, 78, 90, 9, 23, 11, 87, 64, 63, 89, 48, 20, 49, 1, 37, 9, 51, 19, 84, 82, 7, 8, 57, 55, 16, 40, 56, 84, 9, 12, 41, 2, 74, 87, 84, 5, 81, 17, 92, 68, 14, 1, 39, 98, 10, 66, 86, 55, 86, 74, 24, 67, 47, 84, 5, 90, 35, 28, 93, 25, 56, 9, 75, 22, 77, 63, 80, 7, 39, 23, 83, 32, 38, 39, 62, 63, 48, 27, 45, 67, 89, 61, 53, 66, 63, 42, 31, 12, 25, 3, 87, 22, 35, 16, 9, 18, 61, 29, 39, 60, 44, 95, 30, 46, 32, 35, 34, 81, 17, 93, 74, 50, 27, 80, 88, 92, 26, 95, 10, 81, 83, 36, 48, 30, 87, 83, 54, 35, 90, 30, 87, 97, 62, 2, 54, 90, 28, 29, 66, 45, 79, 60, 4, 73, 21, 77, 55, 56, 18, 94, 87, 41, 72, 26, 51, 55, 87, 98, 80, 61, 5, 22, 21, 36, 90, 23, 62, 13, 12, 60, 18, 90, 21, 14, 83, 65, 25, 40, 6, 77, 68, 34, 93, 24, 15, 74, 89, 34, 24, 4, 46, 91, 16, 54, 90, 81, 8, 44, 82, 39, 69, 27, 34, 70, 57, 92, 75, 41, 56, 7, 77, 22, 14, 29, 33, 7, 77, 47, 33, 19, 51, 54, 85, 100, 71, 54, 25, 48, 63, 89, 12, 1, 96, 39, 2, 80, 33, 3, 85, 12, 10, 18, 81, 56, 72, 20, 85, 42, 95, 2, 84, 39, 75, 27, 74, 86, 36, 41, 53, 29, 81, 22, 25, 93, 3, 44, 81, 61, 91, 90, 47, 78, 17, 46, 77, 61, 30, 79, 32, 8, 23, 87, 86, 81, 87, 55, 99, 71, 10, 58, 99, 72, 54, 71, 47, 95, 3, 67, 64, 56, 72, 73, 87, 28, 54, 100, 53, 55, 57, 64, 92, 23, 88, 40, 81, 12, 91, 19, 26, 57, 29, 64, 79, 48, 96, 86, 60, 65, 33, 2, 22, 47, 80, 32, 20, 70, 65, 98, 1, 65, 25, 76, 63, 40, 93, 22, 50, 43, 93, 48, 65, 23, 13, 64, 79, 74, 22, 52, 73, 50, 58, 79, 14, 7, 54, 35, 80, 92, 58, 10, 76, 53, 96, 3, 52, 66, 10, 21, 57, 46, 98, 59, 13, 96, 85, 11, 64, 30, 55, 31, 82, 65, 46, 44, 24, 88, 45, 65, 84, 51, 32, 16, 12, 51, 26, 95, 18, 5, 100, 43, 20, 4, 65, 78, 98, 66, 70, 48, 3, 27, 68, 28, 1, 23, 44, 10, 75, 2, 82, 82, 62, 80, 45, 36, 59, 54, 96, 80, 100, 73, 11, 60, 67, 85, 31, 36, 42, 68, 94, 43, 84, 63, 4, 8, 25, 12, 92, 87, 61, 55, 63, 34, 63, 43, 22, 85, 2, 82, 70, 8, 80, 35, 41, 45, 62, 82, 27, 37, 34, 71, 43, 63, 71, 69, 99, 9, 14, 36, 99, 67, 20, 70, 85, 11, 67, 62, 43, 50, 54, 23, 32, 92, 66, 16, 19, 34, 74, 4, 33, 93, 57, 10, 43, 27, 73, 25, 95, 59, 99, 59, 17, 3, 75, 85, 52, 98, 97, 27, 3, 22, 28, 69, 67, 36, 60, 54, 75, 53, 20, 66, 14, 28, 5, 48, 39, 34, 20, 32, 12, 60, 50, 20, 80, 72, 62, 3, 8, 94, 48, 61, 16, 40, 55, 98, 10, 99, 11, 79, 91, 75, 28, 75, 55, 1, 12, 6, 25, 94, 95, 42, 84, 34, 64, 14, 82, 63, 26, 55, 37, 62, 69, 7, 23, 97, 27, 90, 54, 39, 3, 85, 93, 83, 65, 95, 26, 4, 79, 40, 94, 6, 47, 36, 39, 49, 89, 32, 7, 5, 88, 47, 70, 79, 78, 93, 58, 60, 4, 40, 79, 24, 95, 52, 1, 17, 47, 56, 60, 88, 25, 84, 27, 69, 57, 45, 73, 39, 26, 52, 4, 10, 40, 36, 19, 14, 70, 94, 81, 31, 63, 31, 72, 8, 21, 16, 33, 65, 73, 16, 64, 69, 39, 56, 34, 51, 56, 79, 16, 16, 16, 14, 42, 31, 17, 42, 95, 75, 79, 53, 31, 71, 54, 93, 47, 56, 69, 41, 87, 4, 40, 89, 12, 20, 78, 36, 1, 62, 24, 43, 63, 78, 57, 16, 91, 62, 2, 42, 10, 33, 91, 25, 29, 2, 28, 31, 47, 36, 95, 46, 52, 56, 25, 64, 1, 86, 23, 77, 28, 58, 25, 11, 37, 4, 27, 22, 64, 69, 59, 45, 40, 58, 88, 93, 23, 64, 90, 5, 3, 92, 64, 59, 98, 55, 26, 1, 53, 40, 69, 81, 3, 27, 48, 31, 19, 73, 64, 23, 29, 1, 65, 97, 76, 67, 52, 51, 75, 6, 65, 79, 72, 5, 82, 98, 34, 30, 31, 65, 88, 20, 61, 39, 22, 19, 69, 26, 58, 73, 81, 87, 1, 62, 91, 65, 27, 80, 8, 83, 44, 84, 28, 27, 26, 94, 11, 11, 4, 42, 53, 39, 42, 34, 48, 62, 15, 44, 36, 93, 56, 23, 58, 2, 28, 71, 48, 72, 29, 85, 83, 76, 29, 89, 79, 48, 62, 78, 53, 76, 60, 33, 1, 11, 36, 5, 84, 39, 28, 81, 7, 15, 91, 99, 99, 69, 36, 49, 5, 5, 63, 80, 44, 10, 1, 74, 4, 7, 2, 90, 37, 63, 1, 90, 54, 54, 77, 5, 1, 8, 68, 11, 78, 61, 35, 96, 89, 39, 57, 92, 35, 45, 20, 43, 50, 50, 96, 16, 93, 18, 40, 67, 30, 50, 2, 22, 54, 67, 98, 5, 86, 76, 19, 16, 34, 91, 18, 13, 91, 99, 95, 50, 48, 29, 27, 48, 87, 45, 42, 44, 15, 58, 60, 72, 33, 84, 14, 92, 96, 86, 58, 74, 30, 96, 29, 94, 85, 2, 56, 6, 47, 22, 50, 40, 16, 29, 33, 27, 91, 56, 32, 79, 36, 39, 27, 14, 86, 67, 20, 78, 81, 68, 89, 15, 53, 84, 44, 79, 61, 34, 42, 95, 38, 2, 77, 31, 3, 95, 62, 74, 41, 48, 39, 49, 46, 84, 43, 99, 35, 35, 98, 58, 89, 73, 3, 65, 44, 66, 52, 79, 3, 63, 47, 3, 72, 59, 53, 5, 93, 98, 96, 41, 24, 70, 46, 4, 80, 67, 61, 32, 29, 23, 53, 78, 73, 70, 45, 28, 59, 38, 41, 43, 90, 68, 82, 20, 95, 50, 83, 38, 54, 20, 69, 50, 26, 33, 84, 22, 70, 51, 24, 33, 16, 65, 65, 90, 39, 28, 43, 24, 52, 77, 89, 27, 21, 86, 100, 5, 22, 88, 55, 4, 82, 10, 34, 56, 28, 45, 90, 29, 40, 16, 20, 32, 49, 89, 17, 36, 42, 86, 47, 67, 1, 44, 30, 15, 38, 17, 70, 72, 57, 73, 60, 97, 87, 76, 27, 46, 59, 22, 59, 16, 19, 14, 13, 18, 19, 50, 34, 42, 28, 66, 59, 17, 52, 24, 18, 51, 53, 8, 59, 2, 82, 62, 46, 25, 61, 32, 91, 94, 28, 22, 52, 37, 88, 63, 53, 89, 37, 65, 52, 42, 4, 66, 94, 6, 49, 81, 98, 3, 14, 39, 30, 64, 59, 100, 61, 13, 85, 8, 59, 94, 70, 10, 79, 48, 26, 90, 76, 8, 6, 15, 49, 3, 34, 98, 29, 94, 46, 52, 71, 31, 28, 72, 3, 94, 56, 91, 10, 60, 23, 96, 98, 35, 53, 15, 17, 12, 72, 84, 30, 28, 65, 89, 9, 96, 36, 99, 92, 6, 49, 39, 69, 11, 53, 39, 22, 88, 78, 100, 10, 41, 87, 3, 27, 22, 63, 6, 93, 93, 43, 93, 96, 76, 33, 100, 65, 2, 84, 93, 21, 86, 80, 5, 63, 26, 60, 24, 89, 11, 4, 65, 74, 34, 79, 56, 43, 96, 28, 11, 60, 74, 3, 97, 59, 99, 51, 47, 55, 61, 64, 30, 78, 43, 41, 79, 2, 65, 86, 23, 94, 24, 53, 29, 91, 92, 70, 87, 24, 6, 33, 19, 57, 74, 96, 36, 14, 89, 93, 96, 57, 6, 80, 30, 88, 63, 10, 75, 44, 81, 20, 86, 43, 66, 76, 91, 88, 63, 93, 32, 73, 9, 33, 4, 13, 42, 31, 91, 93, 30, 15, 54, 93, 54, 56, 42, 73, 72, 78, 85, 47, 3, 25, 34, 95, 50, 43, 51, 73, 67, 99, 26, 98, 93, 27, 49, 13, 75, 58, 94, 68, 84, 58, 61, 44, 25, 36, 79, 51, 24, 5, 89, 80, 64, 38, 26, 21, 6, 18, 94, 23, 88, 83, 58, 34, 62, 42, 36, 13, 12, 93, 57, 42, 21, 41, 5, 90, 88, 63, 69, 69, 11, 85, 84, 77, 30, 96, 10, 85, 22, 63, 47, 26, 92, 68, 87, 95, 20, 78, 76, 81, 30, 24, 67, 58, 23, 42, 12, 76, 56, 42, 71, 81, 81, 66, 55, 77, 32, 56, 19, 72, 87, 16, 68, 20, 17, 32, 86, 88, 55, 76, 5, 2, 62, 22, 48, 37, 5, 74, 74, 74, 7, 98, 15, 43, 65, 75, 54, 91, 13, 75, 59, 91, 77, 16, 82, 69, 6, 60, 83, 11, 57, 69, 87, 83, 44, 9, 75, 81, 32, 43, 3, 24, 53, 6, 76, 19, 47, 8, 37, 30, 89, 98, 16, 81, 1, 17, 46, 44, 93, 76, 90, 67, 27, 34, 96, 65, 52, 68, 98, 3, 43, 36, 5, 12, 3, 60, 22, 18, 17, 77, 89, 16, 98, 26, 31, 41, 75, 11, 6, 58, 36, 18, 61, 41, 38, 11, 25, 84, 43, 87, 10, 84, 45, 24, 2, 16, 11, 75, 51, 20, 84, 40, 70, 80, 64, 2, 71, 8, 11, 34, 37, 40, 71, 52, 66, 54, 33, 55, 5, 59, 76, 5, 73, 7, 65, 28, 65, 28, 45, 44, 54, 32, 67, 54, 13, 42, 56, 46, 54, 87, 13, 38, 10, 100, 43, 12, 49, 89, 53, 32, 70, 90, 57, 36, 53, 77, 14, 27, 71, 30, 7, 52, 2, 18, 90, 45, 66, 45, 59, 37, 61, 12, 41, 31, 60, 18, 12, 51, 63, 51, 55, 43, 17, 28, 58, 54, 84, 62, 69, 16, 71, 55, 9, 84, 24, 28, 64, 78, 42, 88, 6, 3, 70, 39, 14, 49, 12, 88, 11, 24, 88, 15, 89, 97, 81, 61, 93, 74, 64, 16, 4, 83, 8, 10, 87, 54, 84, 64, 32, 67, 28, 67, 99, 100, 54, 31, 72, 21, 7, 1, 35, 82, 24, 79, 18, 84, 76, 9, 85, 82, 73, 64, 54, 1, 92, 41, 8, 95, 83, 29, 62, 100, 84, 14, 87, 46, 27, 48, 8, 59, 71, 68, 55, 56, 66, 92, 66, 76, 38, 29, 57, 11, 81, 56, 29, 72, 47, 80, 37, 55, 20, 39, 47, 91, 94, 52, 78, 26, 67, 18, 65, 90, 2, 27, 23, 55, 33, 47, 31, 17, 52, 91, 32, 40, 7, 81, 20, 67, 66, 36, 51, 90, 41, 90, 55, 99, 76, 68, 51, 47, 60, 96, 11, 85, 45, 5, 23, 25, 16, 69, 24, 61, 35, 72, 17, 65, 62, 3, 21, 4, 72, 41, 51, 3, 75, 69, 51, 43, 48, 55, 38, 23, 43, 32, 44, 83, 26, 94, 47, 100, 51, 33, 97, 55, 43, 28, 100, 86, 45, 45, 18, 87, 9, 100, 25, 37, 31, 28, 25, 34, 94, 71, 72, 7, 37, 99, 68, 89, 81, 56, 28, 59, 6, 52, 51, 21, 54, 94, 46, 55, 100, 69, 19, 68, 4, 48, 57, 29, 10, 33, 1, 37, 80, 58, 98, 76, 32, 44, 19, 75, 54, 94, 13, 71, 59, 80, 85, 51, 46, 59, 25, 13, 73, 13, 12, 3, 75, 35, 27, 6, 72, 56, 20, 37, 31, 36, 64, 53, 34, 15, 59, 38, 59, 81, 33, 32, 36, 9, 58, 38, 84, 42, 87, 49, 85, 81, 89, 2, 60, 54, 81, 57, 96, 1, 2, 84, 75, 19, 83, 38, 58, 39, 87, 71, 84, 57, 68, 77, 27, 35, 79, 92, 2, 10, 91, 8, 22, 59, 56, 85, 72, 49, 69, 75, 26, 35, 32, 52, 23, 11, 50, 65, 81, 84, 21, 72, 71, 1, 57, 72, 84, 17, 61, 90, 5, 13, 86, 34, 23, 30, 33, 46, 89, 2, 39, 43, 34, 30, 68, 51, 15, 47, 44, 14, 94, 90, 42, 79, 20, 81, 82, 14, 88, 76, 56, 96, 59, 47, 27, 76, 57, 100, 30, 97, 25, 41, 61, 87, 28, 59, 20, 93, 29, 9, 86, 75, 66, 18, 36, 87, 61, 46, 64, 79, 97, 95, 35, 70, 38, 43, 79, 72, 16, 74, 80, 35, 77, 91, 56, 80, 15, 96, 73, 49, 67, 69, 58, 55, 26, 46, 81, 66, 1, 52, 52, 18, 78, 86, 67, 95, 38, 22, 62, 45, 89, 46, 1, 69, 24, 64, 44, 100, 70, 21, 95, 2, 26, 15, 26, 39, 52, 9, 71, 28, 5, 29, 13, 13, 52, 25, 40, 20, 45, 69, 38, 24, 71, 59, 21, 63, 44, 32, 68, 46, 77, 61, 34, 60, 55, 29, 89, 48, 65, 2, 81, 98, 60, 27, 39, 39, 70, 10, 2, 35, 98, 50, 59, 76, 39, 81, 99, 39, 73, 11, 24, 63, 30, 68, 19, 47, 55, 26, 50, 30, 6, 25, 53, 96, 36, 63, 36, 1, 99, 16, 97, 95, 43, 8, 53, 33, 10, 44, 43, 3, 11, 81, 7, 62, 94, 38, 4, 73, 84, 20, 89, 62, 69, 93, 97, 4, 28, 18, 93, 94, 18, 9, 33, 3, 100, 94, 71, 55, 71, 22, 47, 66, 78, 87, 72, 5, 14, 73, 41, 2, 62, 34, 23, 86, 33, 32, 28, 84, 93, 48, 98, 77, 8, 14, 75, 96, 42, 51, 72, 66, 13, 38, 16, 22, 61, 41, 40, 24, 37, 94, 78, 22, 86, 50, 98, 68, 39, 56, 74, 45, 15, 70, 19, 55, 74, 100, 29, 41, 12, 38, 23, 56, 37, 28, 23, 84, 12, 49, 2, 28, 68, 60, 82, 63, 27, 79, 65, 89, 17, 68, 15, 10, 66, 60, 53, 90, 30, 59, 72, 30, 94, 84, 45, 94, 38, 63, 35, 66, 94, 32, 100, 58, 39, 88, 56, 83, 1, 8, 83, 67, 7, 24, 2, 16, 14, 14, 1, 16, 63, 69, 47, 90, 72, 81, 12, 56, 19, 31, 65, 22, 30, 81, 15, 12, 64, 33, 81, 41, 92, 60, 41, 37, 52, 69, 10, 1, 85, 15, 51, 5, 64, 71, 17, 63, 49, 89, 71, 29, 72, 78, 48, 33, 88, 67, 99, 19, 50, 80, 26, 87, 5, 26, 39, 68, 15, 49, 60, 71, 82, 63, 87, 37, 45, 19, 45, 55, 63, 31, 29, 18, 76, 6, 44, 9, 96, 95, 22, 50, 39, 92, 9, 21, 22, 17, 31, 58, 27, 61, 79, 66, 1, 70, 68, 23, 29, 10, 69, 88, 99, 28, 82, 62, 20, 85, 68, 81, 77, 21, 25, 76, 82, 73, 17, 79, 94, 1, 43, 45, 65, 11, 15, 93, 79, 99, 18, 90, 47, 46, 15, 84, 12, 71, 21, 75, 21, 34, 42, 26, 43, 32, 34, 93, 29, 8, 54, 76, 14, 76, 43, 21, 84, 41, 71, 22, 17, 39, 90, 50, 66, 99, 38, 69, 77, 60, 94, 49, 77, 54, 32, 69, 2, 51, 5, 14, 46, 17, 95, 94, 65, 87, 45, 94, 64, 2, 48, 95, 77, 25, 29, 18, 77, 4, 39, 42, 48, 69, 34, 98, 31, 26, 20, 99, 16, 80, 69, 53, 88, 66, 64, 9, 59, 14, 59, 39, 10, 33, 6, 16, 12, 20, 37, 6, 4, 2, 52, 31, 43, 92, 48, 21, 3, 62, 17, 19, 63, 52, 48, 27, 26, 21, 9, 13, 49, 9, 2, 12, 30, 48, 45, 5, 95, 28, 37, 11, 1, 85, 54, 65, 42, 60, 12, 48, 54, 90, 62, 68, 64, 33, 24, 82, 44, 9, 1, 64, 69, 75, 20, 19, 99, 63, 19, 90, 1, 18, 68, 1, 12, 97, 18, 90, 5, 60, 45, 34, 96, 2, 39, 93, 91, 44, 29, 2, 69, 50, 83, 39, 11, 4, 32, 42, 24, 22, 23, 100, 80, 72, 67, 26, 91, 2, 41, 85, 13, 6, 4, 81, 10, 85, 53, 41, 87, 51, 38, 3, 3, 50, 79, 87, 13, 23, 91, 67, 16, 85, 61, 3, 9, 9, 36, 15, 46, 7, 100, 42, 47, 2, 93, 22, 69, 65, 99, 96, 12, 48, 42, 31, 61, 25, 63, 34, 19, 24, 12, 89, 81, 92, 46, 77, 65, 42, 18, 19, 12, 12, 72, 36, 37, 72, 25, 42, 97, 83, 80, 10, 77, 18, 11, 38, 26, 14, 97, 33, 22, 35, 46, 7, 58, 52, 39, 70, 22, 1, 98, 81, 3, 80, 62, 99, 64, 65, 38, 45, 44, 89, 28, 43, 79, 22, 20, 57, 31, 80, 31, 44, 1, 61, 47, 59, 29, 89, 97, 75, 96, 100, 31, 39, 21, 88, 71, 81, 27, 81, 12, 10, 86, 53, 28, 64, 83, 25, 32, 3, 82, 33, 37, 80, 77, 53, 70, 26, 39, 56, 66, 44, 21, 11, 5, 61, 83, 20, 40, 29, 67, 58, 28, 52, 13, 29, 93, 4, 23, 41, 30, 74, 87, 85, 63, 78, 95, 67, 63, 4, 62, 34, 66, 59, 97, 45, 36, 23, 44, 1, 37, 56, 86, 31, 20, 88, 33, 79, 80, 94, 60, 60, 33, 54, 81, 4, 96, 57, 48, 91, 49, 56, 58, 90, 72, 21, 23, 67, 13, 96, 14, 50, 44, 59, 44, 67, 92, 39, 95, 91, 66, 35, 54, 29, 35, 47, 69, 79, 78, 77, 25, 4, 1, 69, 50, 50, 6, 85, 97, 60, 72, 49, 100, 71, 65, 25, 17, 90, 78, 96, 97, 29, 97, 93, 56, 64, 78, 93, 78, 16, 72, 43, 96, 96, 1, 21, 42, 27, 29, 66, 84, 71, 57, 22, 18, 25, 13, 48, 91, 58, 52, 62, 66, 54, 48, 99, 1, 90, 53, 29, 58, 59, 23, 72, 51, 92, 78, 15, 13, 67, 8, 18, 85, 24, 41, 89, 3, 79, 60, 46, 76, 88, 49, 61, 21, 21, 100, 13, 35, 80, 18, 8, 14, 94, 46, 68, 100, 52, 78, 52, 6, 4, 8, 61, 1, 47, 83, 9, 11, 78, 19, 81, 43, 67, 6, 90, 77, 15, 50, 62, 46, 46, 21, 69, 73, 11, 90, 19, 13, 26, 57, 11, 63, 86, 69, 4, 5, 91, 59, 51, 45, 16, 25, 58, 34, 92, 85, 80, 4, 52, 57, 88, 76, 98, 26, 25, 88, 19, 9, 51, 41, 89, 39, 37, 53, 52, 73, 1, 17, 98, 77, 96, 12, 68, 22, 30, 67, 11, 60, 58, 52, 20, 4, 56, 85, 71, 66, 61, 19, 79, 74, 17, 12, 100, 26, 54, 27, 29, 100, 62, 100, 55, 26, 39, 52, 89, 68, 52, 12, 67, 59, 62, 62, 52, 24, 23, 39, 94, 31, 1, 19, 89, 66, 40, 47, 81, 55, 86, 71, 61, 88, 42, 8, 76, 43, 39, 16, 27, 8, 48, 28, 55, 65, 49, 52, 60, 22, 84, 42, 89, 6, 7, 72, 99, 35, 70, 61, 68, 33, 97, 59, 46, 30, 25, 72, 8, 53, 31, 85, 78, 81, 11, 16, 60, 36, 78, 28, 46, 90, 62, 57, 61, 25, 39, 95, 56, 39, 93, 96, 60, 91, 81, 18, 74, 38, 43, 34, 88, 55, 3, 88, 93, 50, 8, 16, 60, 88, 17, 66, 29, 89, 56, 69, 86, 77, 62, 96, 76, 70, 3, 62, 7, 85, 29, 4, 79, 48, 64, 55, 13, 19, 42, 52, 73, 55, 53, 18, 80, 28, 34, 18, 23, 8, 70, 39, 99, 82, 22, 53, 33, 37, 100, 16, 91, 74, 5, 78, 57, 60, 96, 44, 77, 50, 45, 12, 96, 72, 38, 92, 81, 43, 19, 67, 81, 51, 45, 33, 74, 40, 51, 74, 21, 70, 30, 1, 32, 100, 77, 91, 76, 100, 75, 28, 11, 74, 14, 1, 98, 64, 52, 57, 34, 70, 20, 94, 31, 60, 68, 31, 64, 58, 93, 61, 43, 74, 95, 6, 43, 18, 93, 71, 84, 49, 40, 32, 28, 24, 39, 30, 91, 51, 86, 27, 97, 78, 73, 20, 71, 69, 23, 16, 94, 59, 16, 7, 72, 53, 61, 60, 84, 48, 49, 94, 59, 20, 41, 16, 91, 26, 4, 62, 49, 23, 5, 59, 95, 58, 24, 84, 95, 86, 89, 14, 61, 57, 56, 64, 50, 54, 60, 74, 8, 96, 2, 47, 63, 76, 28, 1, 99, 9, 17, 43, 36, 28, 30, 92, 28, 13, 55, 53, 15, 56, 23, 5, 23, 78, 21, 70, 59, 43, 62, 71, 13, 56, 24, 93, 94, 17, 67, 24, 64, 58, 18, 78, 91, 84, 92, 39, 9, 22, 37, 4, 79, 81, 10, 51, 86, 87, 62, 6, 23, 23, 32, 25, 42, 82, 9, 8, 81, 72, 100, 77, 29, 37, 6, 90, 19, 52, 25, 92, 25, 35, 35, 61, 66, 60, 14, 71, 30, 47, 28, 57, 74, 82, 79, 7, 10, 50, 7, 47, 99, 25, 14, 19, 78, 71, 17, 87, 9, 60, 54, 95, 25, 89, 62, 93, 45, 90, 38, 42, 38, 29, 4, 83, 20, 3, 85, 3, 27, 40, 29, 85, 16, 68, 44, 61, 43, 5, 29, 91, 76, 42, 14, 79, 56, 6, 3, 17, 75, 100, 79, 77, 47, 85, 32, 69, 94, 96, 89, 81, 33, 15, 19, 100, 29, 35, 21, 3, 57, 77, 81, 32, 71, 2, 5, 58, 81, 54, 45, 46, 13, 18, 50, 80, 20, 83, 47, 42, 54, 86, 94, 75, 35, 4, 72, 63, 30, 15, 77, 94, 100, 15, 7, 30, 97, 38, 84, 88, 22, 36, 44, 67, 94, 61, 52, 36, 73, 20, 47, 50, 68, 86, 37, 53, 97, 58, 55, 79, 41, 99, 73, 42, 36, 96, 54, 61, 52, 65, 50, 76, 82, 32, 64, 94, 24, 22, 60, 70, 85, 64, 32, 15, 72, 5, 20, 41, 60, 37, 20, 5, 8, 5, 82, 58, 49, 69, 85, 74, 78, 29, 27, 92, 55, 72, 32, 80, 44, 74, 85, 55, 66, 41, 83, 58, 73, 2, 37, 11, 33, 92, 84, 56, 7, 74, 32, 1, 79, 84, 70, 29, 78, 92, 61, 43, 83, 54, 48, 31, 34, 76, 36, 57, 75, 59, 75, 22, 23, 85, 6, 13, 45, 63, 42, 43, 64, 26, 74, 99, 23, 30, 58, 5, 51, 40, 25, 68, 39, 44, 34, 98, 21, 28, 1, 41, 54, 27, 20, 67, 27, 76, 18, 65, 91, 56, 65, 35, 19, 6, 90, 68, 9, 7, 94, 5, 71, 90, 4, 55, 36, 82, 44, 83, 39, 38, 44, 60, 76, 68, 23, 99, 2, 55, 91, 64, 37, 55, 9, 13, 77, 13, 69, 13, 29, 8, 69, 54, 91, 59, 59, 21, 65, 10, 85, 38, 59, 98, 67, 86, 66, 90, 20, 80, 62, 45, 90, 75, 6, 55, 98, 80, 21, 50, 39, 40, 99, 32, 26, 51, 2, 88, 94, 62, 24, 28, 72, 74, 96, 80, 63, 84, 84, 43, 7, 30, 60, 21, 50, 81, 7, 53, 76, 99, 44, 31, 22, 96, 86, 97, 19, 47, 51, 66, 83, 55, 85, 74, 22, 100, 29, 2, 71, 67, 95, 78, 10, 14, 46, 3, 87, 21, 90, 67, 26, 63, 28, 20, 23, 29, 90, 71, 37, 51, 61, 41, 16, 67, 65, 95, 44, 96, 14, 2, 64, 62, 6, 15, 65, 33, 27, 15, 26, 62, 97, 3, 27, 60, 69, 31, 42, 34, 57, 81, 27, 44, 85, 82, 25, 6, 86, 33, 98, 58, 15, 41, 26, 30, 36, 77, 13, 11, 3, 99, 76, 41, 72, 44, 74, 71, 59, 14, 27, 82, 41, 18, 56, 67, 92, 26, 38, 59, 89, 87, 80, 86, 67, 6, 91, 16, 51, 35, 39, 63, 98, 23, 97, 22, 40, 27, 25, 32, 1, 36, 59, 8, 62, 35, 52, 61, 56, 47, 70, 24, 35, 71, 23, 96, 66, 50, 59, 36, 6, 28, 53, 63, 23, 77, 44, 8, 39, 63, 65, 35, 57, 44, 21, 47, 21, 53, 27, 14, 16, 92, 78, 28, 14, 85, 89, 86, 75, 34, 19, 90, 37, 90, 3, 61, 90, 85, 78, 26, 34, 69, 77, 99, 66, 34, 16, 48, 39, 60, 72, 49, 37, 85, 81, 50, 48, 46, 53, 100, 83, 87, 37, 92, 21, 92, 86, 47, 56, 39, 29, 8, 97, 35, 74, 63, 82, 16, 93, 67, 69, 70, 95, 3, 10, 30, 20, 36, 11, 52, 11, 25, 67, 51, 75, 24, 91, 57, 88, 46, 95, 50, 47, 5, 52, 41, 17, 95, 67, 92, 81, 11, 43, 59, 15, 29, 42, 79, 59, 9, 15, 80, 83, 77, 55, 65, 39, 4, 99, 49, 97, 95, 69, 37, 65, 85, 62, 66, 9, 73, 65, 61, 64, 97, 77, 29, 71, 16, 42, 96, 31, 27, 55, 65, 68, 99, 70, 61, 16, 19, 68, 75, 35, 44, 30, 49, 28, 74, 33, 76, 77, 28, 14, 60, 59, 15, 97, 94, 5, 97, 33, 73, 12, 28, 44, 13, 59, 57, 76, 2, 63, 74, 59, 19, 66, 23, 31, 36, 29, 38, 75, 6, 6, 96, 80, 31, 38, 9, 2, 34, 71, 71, 92, 34, 66, 22, 49, 21, 20, 47, 44, 37, 54, 64, 58, 14, 98, 41, 94, 52, 1, 24, 75, 39, 31, 61, 13, 89, 88, 96, 29, 86, 9, 33, 62, 95, 14, 76, 70, 59, 48, 91, 97, 37, 81, 54, 100, 56, 27, 60, 100, 31, 41, 25, 5, 45, 54, 30, 81, 62, 60, 11, 77, 18, 60, 1, 69, 95, 81, 33, 44, 67, 23, 9, 59, 42, 87, 43, 25, 34, 17, 61, 52, 49, 15, 62, 82, 12, 42, 55, 51, 31, 75, 87, 50, 29, 53, 59, 92, 4, 28, 28, 56, 38, 33, 90, 64, 63, 52, 42, 37, 23, 69, 60, 37, 55, 21, 37, 40, 73, 98, 61, 33, 82, 75, 87, 30, 48, 31, 50, 94, 86, 68, 85, 68, 48, 45, 59, 96, 97, 49, 14, 35, 47, 70, 51, 64, 28, 89, 76, 67, 18, 8, 57, 42, 89, 21, 42, 48, 18, 29, 61, 14, 59, 70, 47, 38, 23, 87, 73, 80, 40, 76, 29, 50, 40, 65, 10, 31, 54, 24, 74, 11, 88, 74, 61, 65, 25, 99, 79, 3, 98, 59, 95, 37, 25, 2, 37, 72, 65, 21, 91, 95, 12, 88, 20, 49, 22, 98, 7, 99, 94, 100, 55, 60, 15, 51, 88, 65, 69, 78, 5, 50, 9, 58, 58, 98, 97, 53, 44, 40, 29, 44, 75, 26, 63, 84, 32, 67, 63, 56, 61, 85, 74, 15, 20, 17, 19, 56, 27, 96, 94, 22, 21, 94, 36, 95, 87, 11, 2, 34, 53, 6, 45, 80, 37, 61, 55, 39, 93, 51, 15, 33, 35, 53, 7, 39, 85, 33, 42, 5, 80, 89, 34, 60, 1, 70, 93, 14, 24, 11, 87, 80, 4, 83, 48, 53, 32, 43, 26, 22, 66, 79, 63, 49, 87, 1, 4, 45, 74, 64, 70, 55, 52, 85, 55, 64, 61, 71, 64, 13, 34, 17, 23, 72, 82, 48, 90, 28, 98, 55, 11, 50, 92, 21, 33, 6, 6, 85, 54, 1, 26, 97, 40, 30, 9, 34, 57, 35, 23, 32, 32, 9, 52, 81, 33, 47, 25, 6, 30, 24, 55, 11, 19, 7, 83, 82, 47, 85, 13, 97, 87, 89, 44, 55, 76, 7, 52, 34, 88, 39, 68, 95, 96, 99, 32, 5, 74, 8, 26, 68, 74, 68, 30, 97, 26, 96, 80, 49, 36, 89, 68, 83, 10, 90, 30, 2, 88, 14, 59, 84, 53, 6, 79, 17, 59, 25, 95, 12, 73, 73, 72, 54, 3, 54, 23, 59, 46, 45, 64, 87, 2, 30, 86, 24, 86, 57, 60, 89, 25, 80, 67, 40, 82, 34, 100, 68, 31, 15, 26, 10, 53, 73, 51, 45, 20, 42, 90, 82, 88, 19, 98, 83, 90, 92, 58, 12, 2, 15, 29, 36, 28, 53, 71, 48, 92, 89, 37, 36, 96, 67, 14, 91, 86, 38, 73, 5, 29, 20, 19, 2, 100, 84, 94, 12, 37, 20, 90, 92, 71, 84, 22, 55, 37, 98, 23, 60, 26, 22, 88, 24, 99, 89, 22, 53, 39, 14, 87, 75, 14, 37, 34, 99, 94, 37, 94, 44, 100, 100, 22, 72, 37, 87, 68, 37, 90, 95, 1, 63, 32, 62, 19, 10, 63, 44, 32, 82, 61, 56, 32, 87, 67, 41, 58, 37, 68, 61, 39, 74, 88, 60, 41, 3, 11, 100, 52, 72, 37, 45, 96, 84, 23, 20, 36, 91, 91, 50, 39, 48, 91, 19, 36, 27, 49, 25, 78, 77, 24, 82, 44, 35, 35, 73, 100, 67, 76, 40, 91, 53, 38, 55, 93, 5, 70, 1, 73, 84, 70, 84, 2, 44, 45, 45, 96, 20, 9, 75, 21, 75, 96, 12, 38, 92, 62, 33, 34, 58, 67, 28, 79, 26, 85, 34, 67, 70, 5, 75, 25, 49, 68, 69, 92, 83, 42, 45, 4, 28, 70, 7, 2, 34, 82, 64, 3, 5, 91, 81, 3, 8, 59, 69, 91, 94, 45, 16, 70, 70, 77, 54, 65, 85, 17, 87, 28, 82, 86, 55, 80, 99, 62, 26, 47, 54, 46, 41, 53, 53, 56, 86, 33, 65, 57, 14, 96, 86, 58, 31, 9, 81, 76, 10, 60, 37, 18, 67, 28, 50, 23, 44, 47, 74, 54, 48, 67, 53, 79, 9, 54, 96, 23, 38, 5, 62, 24, 60, 100, 84, 83, 27, 23, 98, 15, 76, 1, 61, 91, 19, 25, 95, 18, 36, 52, 75, 74, 59, 3, 66, 73, 25, 77, 61, 67, 61, 29, 30, 11, 33, 27, 94, 64, 56, 73, 97, 53, 90, 80, 92, 77, 11, 67, 59, 56, 63, 60, 43, 83, 67, 85, 99, 59, 24, 66, 46, 85, 67, 21, 11, 66, 98, 1, 77, 16, 30, 36, 4, 19, 92, 83, 25, 91, 72, 46, 6, 32, 53, 74, 36, 53, 65, 64, 49, 66, 78, 43, 97, 79, 23, 22, 78, 67, 52, 7, 64, 73, 92, 51, 14, 11, 44, 65, 54, 15, 34, 29, 90, 44, 64, 28, 42, 36, 22, 62, 68, 63, 93, 76, 86, 3, 15, 11, 40, 80, 44, 28, 93, 58, 39, 80, 37, 15, 53, 27, 6, 25, 49, 46, 89, 95, 16, 70, 6, 96, 75, 86, 92, 74, 47, 11, 15, 68, 68, 48, 80, 19, 78, 30, 7, 90, 58, 26, 97, 96, 80, 74, 54, 11, 49, 63, 23, 84, 94, 24, 70, 51, 22, 37, 69, 87, 73, 65, 44, 58, 61, 18, 94, 28, 44, 39, 17, 55, 58, 68, 22, 66, 55, 67, 50, 67, 94, 43, 93, 59, 77, 89, 85, 52, 37, 90, 66, 96, 64, 92, 31, 64, 90, 97, 9, 73, 46, 57, 6, 50, 100, 8, 36, 96, 32, 56, 1, 24, 77, 82, 88, 85, 46, 68, 3, 5, 94, 7, 11, 32, 41, 71, 59, 64, 34, 46, 86, 38, 32, 54, 84, 43, 87, 39, 17, 61, 62, 27, 9, 80, 44, 33, 11, 59, 28, 44, 22, 86, 2, 68, 8, 43, 26, 70, 31, 68, 90, 30, 1, 31, 5, 4, 1, 32, 15, 90, 68, 79, 8, 11, 39, 26, 83, 45, 80, 26, 23, 96, 21, 92, 49, 63, 2, 11, 30, 46, 7, 100, 9, 23, 81, 33, 41, 32, 99, 74, 4, 55, 18, 34, 8, 93, 20, 31, 75, 97, 59, 5, 6, 18, 53, 70, 24, 24, 10, 63, 34, 89, 92, 86, 67, 10, 5, 85, 74, 12, 58, 15, 68, 10, 58, 2, 80, 90, 65, 66, 95, 27, 17, 63, 94, 4, 6, 98, 27, 63, 82, 35, 92, 49, 68, 61, 51, 72, 7, 48, 52, 70, 66, 18, 57, 85, 54, 72, 26, 1, 55, 10, 31, 43, 90, 58, 74, 98, 17, 21, 19, 2, 21, 35, 65, 66, 45, 86, 56, 94, 65, 91, 55, 4, 41, 84, 86, 10, 32, 53, 46, 64, 38, 87, 23, 16, 64, 85, 32, 48, 51, 12, 54, 54, 47, 66, 5, 36, 84, 75, 59, 48, 66, 27, 82, 15, 62, 16, 68, 52, 26, 1, 40, 58, 1, 8, 92, 59, 10, 43, 60, 39, 11, 40, 80, 58, 96, 92, 92, 94, 58, 2, 79, 96, 32, 34, 25, 86, 25, 11, 49, 5, 76, 67, 3, 92, 20, 98, 65, 80, 15, 13, 72, 99, 67, 4, 87, 85, 97, 31, 83, 62, 15, 45, 15, 73, 19, 55, 95, 48, 21, 15, 55, 3, 15, 47, 40, 32, 54, 1, 36, 54, 76, 32, 27, 55, 18, 38, 44, 21, 27, 28, 36, 44, 63, 64, 85, 33, 85, 91, 90, 11, 63, 11, 27, 54, 5, 84, 54, 66, 70, 50, 51, 22, 71, 16, 65, 43, 75, 36, 32, 58, 46, 49, 17, 35, 7, 35, 46, 82, 36, 31, 27, 96, 85, 17, 48, 18, 90, 42, 46, 69, 46, 97, 11, 25, 91, 43, 11, 33, 21, 81, 76, 86, 25, 32, 13, 44, 90, 15, 9, 99, 100, 4, 5, 80, 52, 37, 76, 69, 36, 40, 58, 87, 25, 15, 70, 27, 29, 100, 17, 28, 65, 70, 62, 27, 99, 87, 78, 44, 94, 83, 55, 97, 17, 27, 54, 95, 53, 27, 90, 28, 45, 26, 65, 46, 83, 52, 50, 91, 9, 93, 14, 21, 71, 69, 63, 47, 61, 62, 36, 90, 90, 12, 88, 82, 91, 28, 35, 71, 67, 45, 59, 91, 68, 23, 8, 5, 82, 77, 85, 11, 46, 54, 96, 53, 18, 57, 58, 22, 49, 37, 70, 52, 30, 79, 24, 43, 63, 93, 84, 1, 71, 95, 12, 79, 43, 30, 84, 85, 88, 49, 68, 1, 67, 17, 69, 44, 69, 25, 92, 49, 91, 9, 38, 27, 89, 41, 86, 97, 54, 24, 47, 19, 27, 85, 79, 43, 83, 46, 5, 75, 21, 78, 93, 57, 15, 99, 17, 14, 87, 22, 63, 46, 87, 76, 59, 15, 97, 42, 14, 76, 72, 98, 41, 80, 13, 58, 6, 52, 34, 88, 54, 16, 40, 66, 27, 96, 96, 65, 36, 67, 90, 2, 36, 59, 84, 28, 68, 27, 63, 38, 45, 76, 57, 63, 64, 43, 84, 41, 30, 53, 76, 100, 55, 43, 56, 39, 95, 40, 90, 87, 11, 12, 43, 16, 98, 36, 19, 48, 54, 93, 69, 70, 46, 48, 75, 55, 10, 13, 49, 54, 84, 22, 88, 67, 63, 33, 71, 43, 71, 97, 18, 70, 96, 85, 15, 5, 61, 57, 33, 94, 47, 50, 47, 92, 12, 49, 64, 15, 3, 97, 56, 74, 51, 43, 49, 35, 73, 99, 4, 84, 60, 79, 45, 15, 27, 39, 45, 95, 15, 63, 76, 69, 50, 34, 95, 36, 83, 79, 20, 76, 12, 18, 2, 19, 13, 77, 30, 90, 64, 63, 37, 45, 20, 2, 33, 10, 13, 1, 1, 54, 72, 26, 3, 31, 64, 63, 22, 11, 82, 11, 3, 32, 17, 4, 2, 43, 97, 43, 6, 80, 62, 3, 22, 19, 67, 13, 46, 53, 51, 28, 42, 38, 48, 57, 86, 36, 20, 2, 73, 59, 46, 27, 78, 6, 63, 72, 94, 4, 79, 62, 15, 23, 93, 93, 86, 22, 1, 45, 5, 59, 80, 58, 62, 59, 14, 60, 43, 90, 25, 52, 17, 97, 78, 97, 7, 79, 87, 97, 5, 90, 5, 1, 55, 87, 41, 23, 66, 94, 32, 96, 49, 99, 56, 78, 23, 74, 91, 32, 41, 62, 72, 72, 61, 78, 27, 36, 87, 95, 16, 70, 63, 9, 90, 83, 38, 4, 46, 6, 26, 93, 5, 18, 24, 29, 13, 66, 87, 96, 63, 93, 72, 20, 16, 72, 34, 34, 96, 57, 37, 34, 8, 35, 60, 97, 75, 48, 44, 69, 99, 61, 13, 73, 86, 52, 85, 5, 100, 4, 35, 54, 20, 53, 74, 9, 63, 57, 76, 45, 41, 47, 49, 68, 39, 88, 100, 5, 60, 69, 78, 80, 11, 23, 25, 42, 10, 42, 5, 52, 36, 15, 93, 6, 49, 15, 75, 65, 67, 83, 77, 72, 5, 26, 43, 5, 27, 71, 71, 33, 67, 73, 35, 12, 71, 64, 13, 1, 69, 35, 43, 69, 51, 3, 86, 71, 48, 94, 44, 67, 97, 84, 13, 56, 25, 49, 29, 89, 7, 2, 13, 75, 48, 28, 38, 35, 61, 60, 26, 55, 71, 91, 49, 79, 40, 49, 26, 43, 32, 51, 13, 80, 9, 44, 22, 24, 1, 20, 22, 96, 72, 81, 14, 54, 38, 51, 66, 70, 83, 62, 6, 99, 6, 31, 18, 75, 84, 16, 56, 70, 100, 17, 84, 60, 29, 75, 36, 74, 84, 50, 25, 36, 52, 50, 93, 23, 85, 89, 82, 74, 100, 78, 97, 35, 98, 57, 11, 24, 25, 27, 97, 43, 6, 4, 81, 20, 40, 14, 35, 100, 26, 32, 51, 11, 7, 29, 10, 7, 65, 99, 19, 76, 42, 55, 15, 52, 88, 45, 43, 17, 98, 50, 48, 82, 1, 47, 67, 80, 65, 13, 37, 74, 83, 29, 78, 86, 83, 26, 47, 15, 84, 100, 94, 69, 56, 25, 88, 67, 42, 93, 90, 25, 84, 75, 12, 3, 11, 7, 4, 58, 28, 9, 38, 84, 8, 67, 98, 79, 81, 42, 62, 4, 14, 52, 83, 6, 42, 55, 77, 32, 63, 64, 59, 95, 97, 4, 74, 63, 96, 81, 28, 93, 31, 95, 39, 57, 12, 67, 15, 34, 58, 83, 58, 18, 32, 34, 40, 33, 94, 52, 16, 29, 32, 62, 80, 35, 91, 23, 17, 97, 32, 54, 65, 75, 19, 72, 13, 12, 63, 37, 87, 88, 51, 17, 8, 74, 41, 57, 37, 60, 86, 12, 39, 26, 67, 97, 44, 5, 10, 64, 58, 26, 79, 97, 46, 87, 98, 22, 47, 27, 82, 84, 19, 35, 3, 18, 72, 34, 5, 20, 17, 41, 29, 30, 93, 78, 62, 64, 38, 90, 61, 12, 77, 59, 47, 35, 77, 62, 41, 78, 64, 3, 74, 89, 87, 68, 6, 72, 50, 63, 92, 35, 2, 89, 42, 48, 55, 83, 11, 78, 29, 8, 53, 15, 20, 29, 18, 6, 28, 20, 44, 79, 85, 62, 81, 2, 27, 15, 52, 78, 37, 91, 97, 16, 46, 14, 96, 85, 72, 10, 92, 43, 19, 59, 52, 64, 86, 14, 78, 89, 99, 68, 18, 51, 91, 38, 4, 70, 3, 72, 34, 78, 6, 82, 4, 41, 15, 58, 15, 84, 3, 18, 64, 57, 8, 18, 19, 22, 68, 67, 94, 70, 82, 90, 51, 70, 11, 51, 58, 76, 46, 31, 72, 68, 59, 87, 65, 18, 64, 45, 86, 2, 74, 33, 8, 12, 11, 62, 51, 72, 44, 16, 36, 97, 85, 45, 11, 10, 42, 60, 45, 58, 79, 56, 18, 24, 39, 82, 84, 41, 60, 52, 43, 8, 24, 61, 6, 44, 90, 67, 5, 79, 32, 68, 7, 55, 26, 81, 35, 41, 3, 8, 32, 71, 79, 90, 53, 6, 23, 32, 1, 84, 95, 39, 60, 13, 30, 7, 73, 91, 94, 74, 75, 49, 42, 30, 77, 34, 75, 44, 22, 99, 59, 49, 46, 86, 47, 73, 31, 27, 50, 29, 84, 41, 64, 91, 64, 11, 63, 18, 89, 62, 68, 96, 30, 55, 60, 69, 27, 3, 73, 37, 63, 72, 34, 47, 13, 31, 29, 70, 25, 20, 90, 3, 71, 48, 35, 64, 32, 93, 29, 98, 96, 41, 56, 83, 60, 46, 15, 73, 55, 40, 29, 44, 85, 53, 2, 82, 88, 65, 52, 69, 43, 62, 49, 97, 96, 41, 53, 61, 36, 28, 32, 25, 76, 56, 84, 90, 75, 72, 76, 63, 6, 77, 9, 19, 82, 49, 35, 16, 85, 99, 56, 46, 41, 24, 95, 76, 4, 73, 12, 34, 36, 11, 10, 67, 30, 20, 38, 89, 25, 66, 15, 13, 61, 68, 99, 42, 64, 57, 68, 51, 50, 60, 19, 93, 67, 94, 6, 85, 2, 58, 65, 41, 55, 31, 15, 54, 75, 40, 4, 83, 48, 42, 99, 66, 68, 24, 66, 11, 15, 51, 95, 19, 42, 81, 44, 12, 2, 27, 51, 1, 32, 78, 16, 4, 37, 82, 30, 89, 3, 10, 14, 57, 11, 54, 30, 1, 23, 62, 53, 50, 25, 32, 1, 53, 15, 19, 33, 78, 76, 29, 55, 46, 91, 92, 30, 31, 90, 38, 91, 29, 35, 10, 8, 74, 78, 35, 92, 60, 17, 98, 91, 98, 52, 61, 4, 38, 87, 5, 77, 43, 100, 54, 6, 6, 68, 47, 32, 41, 18, 81, 47, 55, 45, 14, 11, 50, 75, 69, 13, 63, 15, 56, 54, 32, 89, 20, 44, 77, 42, 94, 1, 70, 11, 77, 39, 79, 47, 1, 70, 23, 53, 53, 56, 34, 11, 85, 11, 7, 7, 71, 7, 54, 90, 62, 39, 57, 5, 22, 67, 85, 88, 61, 53, 97, 99, 15, 70, 86, 97, 4, 42, 96, 94, 30, 99, 23, 92, 46, 82, 57, 66, 82, 25, 45, 96, 85, 24, 54, 27, 43, 50, 50, 1, 5, 23, 45, 48, 52, 60, 49, 53, 53, 25, 100, 40, 35, 65, 78, 62, 22, 96, 42, 71, 48, 19, 92, 31, 26, 1, 61, 66, 52, 88, 6, 33, 98, 16, 25, 87, 23, 22, 44, 95, 91, 78, 46, 74, 79, 53, 37, 16, 67, 34, 76, 40, 3, 34, 13, 62, 77, 36, 14, 39, 73, 86, 24, 40, 26, 16, 48, 78, 37, 82, 97, 68, 98, 80, 89, 26, 12, 16, 52, 25, 78, 42, 76, 69, 70, 83, 2, 62, 35, 96, 23, 23, 73, 60, 3, 20, 1, 82, 97, 79, 26, 69, 78, 47, 83, 32, 12, 5, 67, 59, 25, 96, 79, 90, 97, 89, 54, 21, 79, 52, 21, 35, 14, 4, 76, 17, 21, 97, 19, 19, 3, 76, 70, 72, 66, 23, 22, 59, 94, 30, 19, 47, 14, 91, 15, 95, 29, 77, 23, 16, 55, 4, 76, 52, 60, 18, 15, 29, 85, 89, 84, 60, 59, 72, 88, 98, 58, 40, 15, 68, 57, 53, 16, 59, 93, 78, 78, 19, 73, 96, 51, 46, 40, 53, 60, 52, 44, 78, 1, 14, 64, 51, 53, 9, 69, 9, 37, 73, 3, 92, 92, 65, 21, 86, 71, 85, 21, 36, 25, 47, 98, 29, 5, 10, 81, 69, 19, 24, 26, 60, 52, 43, 69, 2, 18, 98, 7, 11, 20, 82, 13, 83, 73, 17, 70, 88, 62, 3, 9, 28, 29, 85, 53, 21, 15, 1, 67, 9, 71, 67, 54, 14, 88, 33, 10, 11, 24, 74, 26, 35, 67, 66, 27, 20, 88, 56, 39, 39, 34, 56, 26, 72, 87, 34, 57, 63, 4, 50, 36, 23, 82, 74, 52, 67, 91, 29, 45, 19, 34, 20, 27, 83, 47, 4, 43, 20, 46, 95, 66, 99, 55, 10, 21, 97, 42, 25, 98, 3, 82, 10, 95, 56, 46, 75, 74, 58, 21, 67, 23, 83, 30, 33, 26, 100, 17, 43, 58, 86, 31, 13, 74, 73, 66, 73, 40, 16, 19, 70, 17, 39, 12, 42, 49, 28, 96, 99, 82, 37, 45, 48, 23, 38, 1, 65, 27, 50, 81, 61, 76, 94, 47, 8, 87, 86, 64, 33, 5, 32, 85, 42, 92, 91, 95, 99, 6, 88, 77, 12, 17, 42, 83, 27, 45, 27, 69, 2, 90, 78, 11, 10, 49, 79, 25, 20, 76, 75, 91, 96, 47, 33, 28, 41, 93, 98, 32, 9, 52, 40, 35, 24, 26, 71, 8, 46, 2, 30, 91, 24, 13, 39, 80, 93, 96, 55, 93, 7, 82, 14, 74, 82, 97, 83, 35, 62, 70, 78, 46, 50, 64, 94, 47, 94, 75, 6, 64, 15, 58, 61, 69, 87, 48, 59, 42, 4, 44, 63, 57, 87, 47, 18, 65, 92, 40, 81, 69, 54, 29, 14, 25, 23, 56, 47, 75, 82, 8, 98, 15, 63, 27, 22, 65, 37, 39, 24, 61, 74, 8, 46, 85, 16, 49, 68, 62, 20, 37, 61, 73, 5, 88, 39, 90, 90, 23, 91, 8, 8, 32, 68, 33, 1, 2, 100, 84, 64, 7, 66, 27, 49, 45, 43, 32, 52, 18, 32, 74, 84, 56, 76, 78, 81, 25, 48, 20, 36, 40, 56, 52, 87, 4, 90, 30, 93, 89, 94, 75, 7, 7, 6, 75, 42, 14, 97, 79, 36, 51, 89, 31, 10, 11, 62, 67, 82, 74, 54, 30, 24, 60, 64, 92, 41, 18, 2, 6, 63, 7, 95, 26, 27, 8, 22, 5, 14, 69, 36, 80, 24, 64, 67, 68, 30, 16, 43, 16, 24, 88, 29, 4, 20, 87, 60, 43, 91, 63, 90, 29, 44, 36, 97, 82, 22, 96, 96, 96, 11, 3, 1, 31, 53, 64, 31, 75, 22, 78, 39, 44, 52, 59, 84, 52, 27, 61, 62, 44, 65, 97, 59, 76, 42, 90, 39, 27, 15, 80, 11, 62, 92, 3, 18, 21, 30, 23, 26, 18, 18, 61, 2, 17, 61, 38, 2, 51, 48, 7, 85, 65, 16, 98, 40, 5, 4, 33, 89, 17, 53, 37, 33, 60, 52, 18, 50, 27, 79, 16, 15, 41, 68, 79, 75, 79, 86, 6, 74, 56, 38, 54, 92, 91, 27, 32, 71, 51, 53, 75, 66, 10, 39, 14, 43, 14, 8, 43, 33, 2, 81, 71, 27, 7, 96, 30, 4, 10, 32, 70, 20, 42, 36, 48, 4, 57, 22, 49, 95, 15, 82, 22, 10, 12, 61, 91, 86, 90, 5, 22, 68, 15, 38, 63, 84, 20, 80, 97, 62, 33, 30, 67, 81, 88, 34, 89, 17, 12, 75, 78, 75, 81, 55, 74, 6, 48, 29, 90, 32, 11, 43, 49, 80, 78, 15, 82, 87, 91, 73, 92, 23, 94, 55, 61, 12, 97, 62, 46, 72, 67, 3, 85, 45, 88, 32, 51, 60, 20, 65, 9, 75, 80, 6, 87, 71, 76, 85, 95, 5, 59, 17, 100, 98, 18, 36, 69, 89, 43, 6, 91, 55, 21, 87, 5, 66, 82, 8, 92, 69, 97, 35, 7, 21, 34, 35, 7, 6, 25, 58, 98, 54, 82, 54, 18, 54, 44, 10, 16, 21, 48, 91, 72, 60, 72, 38, 84, 54, 21, 36, 47, 48, 72, 72, 98, 71, 82, 69, 84, 12, 17, 78, 100, 62, 70, 40, 39, 73, 73, 42, 66, 85, 17, 32, 36, 49, 19, 22, 59, 40, 83, 2, 34, 95, 46, 38, 7, 96, 18, 31, 16, 42, 55, 94, 39, 44, 95, 44, 79, 37, 18, 79, 5, 20, 30, 17, 87, 88, 81, 40, 88, 47, 25, 71, 9, 38, 45, 82, 63, 97, 43, 98, 57, 10, 90, 37, 49, 47, 23, 61, 5, 34, 9, 5, 47, 56, 58, 97, 67, 2, 7, 40, 53, 86, 67, 29, 12, 12, 2, 53, 52, 96, 28, 58, 5, 30, 20, 74, 43, 89, 53, 48, 95, 3, 63, 53, 4, 34, 66, 67, 15, 46, 51, 36, 49, 76, 9, 10, 40, 17, 1, 93, 3, 13, 7, 55, 60, 57, 86, 67, 55, 64, 21, 33, 23, 4, 54, 96, 67, 48, 78, 54, 83, 30, 63, 29, 91, 20, 68, 14, 73, 24, 53, 11, 67, 39, 16, 51, 30, 53, 100, 72, 3, 76, 16, 92, 85, 9, 58, 64, 61, 41, 42, 73, 41, 57, 69, 2, 43, 14, 15, 86, 57, 21, 87, 39, 75, 45, 81, 92, 23, 15, 9, 41, 82, 68, 47, 27, 11, 98, 64, 55, 57, 42, 24, 50, 74, 35, 58, 89, 36, 92, 76, 96, 48, 88, 88, 75, 88, 57, 13, 21, 30, 7, 21, 59, 17, 57, 94, 68, 71, 68, 48, 73, 63, 51, 7, 59, 2, 83, 88, 47, 94, 66, 44, 70, 8, 62, 16, 7, 57, 18, 60, 31, 25, 19, 27, 50, 69, 54, 75, 23, 93, 89, 75, 40, 18, 25, 18, 65, 100, 23, 37, 95, 83, 21, 87, 27, 44, 34, 97, 98, 87, 55, 65, 17, 64, 76, 25, 42, 14, 61, 91, 89, 1, 19, 47, 26, 13, 3, 57, 56, 45, 56, 72, 40, 38, 13, 42, 48, 67, 22, 67, 11, 61, 43, 78, 93, 51, 37, 5, 31, 85, 24, 14, 47, 39, 45, 87, 31, 8, 19, 75, 32, 74, 77, 83, 68, 19, 68, 42, 93, 37, 34, 3, 88, 3, 39, 65, 47, 94, 20, 50, 15, 87, 69, 9, 77, 37, 28, 23, 19, 90, 5, 1, 38, 81, 34, 39, 73, 33, 27, 40, 43, 77, 13, 32, 3, 5, 14, 38, 94, 52, 33, 54, 1, 56, 97, 10, 65, 69, 67, 19, 3, 54, 66, 100, 32, 51, 80, 50, 36, 60, 76, 92, 1, 82, 15, 9, 79, 22, 72, 54, 22, 70, 75, 71, 22, 92, 47, 68, 69, 73, 40, 60, 47, 7, 33, 84, 57, 78, 13, 70, 17, 50, 16, 33, 15, 34, 37, 53, 74, 51, 28, 21, 67, 47, 82, 67, 30, 16, 32, 85, 79, 71, 1, 68, 100, 80, 7, 74, 52, 16, 59, 62, 16, 7, 53, 56, 57, 87, 95, 75, 42, 1, 59, 29, 93, 33, 21, 32, 83, 5, 99, 99, 81, 61, 50, 76, 55, 98, 74, 62, 9, 50, 64, 50, 40, 30, 71, 93, 52, 14, 26, 49, 92, 22, 18, 50, 74, 89, 93, 67, 97, 75, 83, 91, 90, 24, 35, 27, 73, 44, 2, 65, 64, 67, 8, 81, 36, 50, 29, 98, 9, 31, 23, 67, 59, 60, 58, 93, 55, 2, 16, 36, 48, 11, 79, 75, 41, 37, 15, 9, 1, 94, 61, 47, 16, 7, 45, 100, 15, 51, 72, 18, 4, 30, 34, 87, 90, 41, 98, 58, 69, 81, 99, 96, 29, 98, 44, 100, 57, 37, 8, 61, 4, 4, 89, 63, 63, 89, 44, 9, 29, 92, 64, 87, 35, 11, 68, 9, 5, 65, 81, 90, 36, 43, 23, 57, 54, 31, 35, 5, 60, 46, 3, 61, 26, 83, 83, 23, 23, 51, 19, 96, 59, 59, 38, 33, 48, 7, 7, 2, 88, 11, 66, 51, 37, 56, 93, 24, 62, 24, 79, 68, 70, 9, 27, 81, 93, 89, 71, 39, 73, 73, 77, 27, 68, 28, 5, 38, 99, 51, 3, 6, 33, 56, 42, 26, 20, 11, 46, 60, 83, 24, 58, 93, 4, 58, 9, 63, 5, 44, 46, 51, 2, 62, 99, 46, 87, 15, 38, 32, 100, 38, 70, 82, 15, 87, 27, 22, 45, 55, 66, 63, 96, 51, 86, 80, 35, 46, 62, 21, 31, 8, 57, 53, 90, 87, 57, 64, 48, 82, 14, 77, 4, 35, 88, 77, 62, 23, 84, 72, 25, 100, 100, 38, 51, 54, 46, 80, 87, 20, 62, 81, 87, 15, 67, 95, 42, 15, 81, 94, 41, 93, 94, 52, 6, 54, 58, 17, 80, 7, 67, 68, 46, 54, 81, 44, 37, 13, 19, 37, 71, 3, 65, 90, 78, 80, 4, 21, 34, 9, 22, 42, 82, 93, 36, 77, 35, 76, 81, 4, 99, 65, 71, 32, 76, 74, 52, 95, 30, 41, 67, 66, 97, 25, 26, 16, 14, 25, 87, 98, 71, 70, 36, 38, 22, 100, 56, 35, 58, 36, 4, 70, 53, 45, 63, 67, 47, 85, 64, 32, 87, 25, 60, 33, 9, 63, 6, 77, 23, 25, 46, 71, 1, 85, 38, 73, 28, 66, 47, 44, 35, 27, 22, 60, 10, 19, 52, 59, 77, 7, 28, 63, 3, 100, 37, 92, 28, 38, 28, 93, 35, 100, 1, 11, 3, 90, 87, 17, 90, 17, 78, 18, 76, 84, 42, 64, 42, 67, 94, 61, 22, 76, 54, 40, 79, 93, 53, 76, 49, 68, 42, 49, 10, 72, 50, 87, 32, 30, 6, 8, 51, 83, 65, 59, 34, 47, 98, 98, 17, 91, 37, 81, 13, 11, 11, 99, 31, 35, 74, 38, 38, 21, 15, 90, 70, 41, 95, 73, 72, 77, 61, 80, 40, 3, 14, 16, 48, 8, 43, 3, 74, 34, 17, 31, 95, 67, 75, 64, 66, 64, 17, 93, 80, 39, 87, 65, 96, 7, 5, 69, 98, 58, 12, 32, 14, 78, 26, 35, 68, 3, 89, 59, 96, 78, 39, 46, 87, 57, 18, 73, 8, 16, 73, 46, 77, 77, 58, 80, 71, 47, 98, 44, 38, 66, 93, 64, 79, 30, 58, 20, 98, 88, 58, 9, 18, 82, 42, 41, 17, 92, 77, 90, 47, 3, 79, 88, 87, 4, 24, 46, 80, 12, 28, 75, 66, 27, 6, 43, 96, 37, 69, 81, 52, 82, 74, 65, 48, 76, 49, 42, 23, 21, 39, 12, 24, 15, 58, 71, 89, 82, 99, 11, 17, 63, 53, 57, 5, 6, 26, 73, 38, 43, 61, 20, 60, 98, 9, 49, 77, 65, 94, 61, 66, 18, 67, 18, 36, 40, 73, 47, 12, 97, 16, 91, 45, 24, 48, 78, 1, 60, 87, 75, 21, 18, 19, 98, 7, 72, 48, 80, 97, 52, 43, 62, 45, 42, 67, 34, 27, 87, 62, 27, 63, 89, 96, 21, 70, 11, 15, 98, 51, 10, 3, 11, 33, 24, 84, 78, 77, 8, 31, 85, 45, 20, 24, 56, 46, 94, 65, 17, 99, 26, 79, 79, 84, 33, 53, 9, 24, 53, 58, 48, 86, 80, 93, 54, 60, 27, 60, 20, 77, 79, 7, 78, 77, 19, 32, 77, 34, 30, 71, 98, 10, 26, 100, 89, 77, 91, 81, 13, 8, 22, 47, 13, 78, 71, 72, 92, 31, 62, 7, 63, 41, 86, 29, 65, 27, 38, 62, 55, 95, 38, 38, 34, 19, 53, 47, 47, 4, 61, 44, 94, 81, 8, 67, 39, 28, 9, 70, 72, 21, 44, 82, 55, 18, 89, 78, 39, 50, 2, 7, 9, 78, 38, 65, 80, 72, 69, 1, 55, 73, 76, 61, 10, 34, 95, 30, 99, 14, 84, 4, 5, 51, 7, 26, 52, 69, 40, 27, 81, 12, 40, 18, 78, 45, 22, 80, 53, 54, 73, 20, 9, 93, 97, 94, 21, 96, 84, 69, 18, 79, 59, 87, 61, 44, 34, 39, 91, 37, 67, 86, 23, 11, 13, 9, 42, 27, 100, 50, 19, 77, 11, 5, 6, 98, 33, 27, 85, 57, 92, 16, 28, 99, 71, 33, 69, 47, 33, 33, 16, 93, 80, 45, 55, 78, 35, 74, 7, 28, 87, 79, 33, 48, 57, 37, 37, 26, 57, 75, 4, 62, 81, 22, 33, 47, 67, 34, 80, 18, 45, 56, 43, 71, 10, 28, 86, 18, 54, 42, 65, 87, 45, 98, 18, 31, 81, 12, 52, 6, 28, 4, 9, 24, 3, 35, 9, 63, 8, 31, 10, 50, 1, 29, 82, 93, 40, 39, 64, 62, 65, 8, 45, 53, 12, 33, 3, 2, 33, 34, 16, 90, 61, 98, 34, 77, 31, 89, 75, 48, 50, 3, 86, 46, 9, 30, 35, 42, 82, 100, 97, 63, 65, 14, 80, 76, 12, 27, 93, 49, 28, 30, 41, 10, 40, 87, 67, 50, 90, 43, 57, 8, 33, 30, 47, 55, 8, 3, 99, 81, 14, 91, 37, 20, 26, 88, 26, 39, 50, 20, 54, 28, 73, 72, 5, 10, 53, 46, 67, 9, 62, 58, 55, 15, 29, 96, 16, 29, 8, 61, 8, 65, 81, 80, 37, 44, 55, 70, 99, 93, 44, 40, 49, 4, 51, 70, 36, 30, 33, 4, 54, 23, 40, 12, 81, 90, 81, 40, 7, 56, 28, 89, 77, 47, 34, 89, 79, 53, 57, 2, 4, 60, 90, 65, 81, 36, 80, 48, 97, 77, 31, 3, 41, 71, 18, 11, 69, 17, 52, 2, 73, 79, 27, 3, 72, 79, 2, 30, 98, 40, 91, 26, 72, 18, 90, 2, 78, 78, 98, 94, 81, 51, 21, 34, 70, 62, 16, 99, 80, 72, 68, 93, 35, 55, 11, 58, 70, 56, 7, 7, 4, 67, 7, 12, 64, 63, 84, 24, 97, 69, 43, 3, 43, 57, 70, 84, 87, 78, 44, 41, 12, 86, 80, 36, 40, 62, 93, 32, 51, 68, 7, 59, 89, 59, 87, 95, 88, 47, 5, 76, 9, 24, 37, 78, 34, 2, 7, 69, 33, 16, 98, 79, 37, 17, 15, 87, 27, 8, 63, 98, 10, 53, 74, 81, 50, 84, 62, 62, 51, 71, 49, 77, 31, 56, 74, 28, 10, 84, 79, 42, 82, 71, 97, 27, 98, 7, 59, 50, 91, 81, 34, 61, 67, 23, 42, 1, 76, 85, 57, 54, 49, 34, 40, 3, 95, 6, 50, 19, 58, 91, 88, 36, 21, 6, 99, 71, 86, 1, 37, 25, 43, 66, 32, 60, 44, 18, 99, 22, 46, 20, 44, 48, 54, 44, 78, 19, 36, 91, 11, 73, 60, 72, 83, 41, 48, 88, 46, 49, 43, 5, 94, 38, 20, 31, 23, 99, 76, 33, 16, 65, 98, 7, 25, 68, 89, 5, 94, 38, 85, 70, 1, 72, 1, 16, 43, 50, 72, 99, 78, 59, 13, 84, 30, 67, 31, 47, 49, 72, 19, 42, 58, 6, 48, 11, 66, 84, 47, 50, 17, 82, 94, 35, 34, 43, 11, 71, 56, 20, 18, 31, 12, 46, 84, 89, 25, 76, 4, 100, 56, 43, 92, 63, 20, 6, 44, 38, 84, 13, 86, 18, 48, 54, 28, 52, 13, 36, 30, 16, 100, 93, 22, 80, 14, 51, 32, 6, 96, 9, 83, 78, 70, 70, 34, 70, 12, 30, 11, 88, 97, 74, 33, 63, 96, 2, 51, 34, 76, 70, 87, 46, 64, 19, 43, 97, 76, 43, 60, 94, 54, 51, 44, 73, 1, 96, 60, 20, 39, 87, 76, 91, 75, 93, 33, 14, 10, 85, 3, 85, 5, 17, 42, 7, 58, 55, 67, 35, 17, 70, 35, 20, 77, 45, 97, 47, 23, 55, 18, 99, 19, 22, 95, 83, 30, 31, 85, 59, 71, 76, 72, 58, 88, 77, 53, 24, 29, 47, 28, 75, 23, 41, 2, 27, 28, 66, 89, 44, 90, 36, 4, 5, 91, 99, 94, 23, 2, 17, 5, 28, 50, 46, 59, 2, 31, 43, 61, 74, 91, 74, 11, 5, 16, 71, 99, 70, 86, 20, 79, 99, 68, 3, 6, 22, 98, 79, 61, 50, 49, 98, 43, 57, 11, 18, 94, 55, 89, 27, 7, 22, 100, 65, 18, 5, 91, 62, 54, 53, 40, 37, 38, 51, 100, 57, 88, 86, 1, 47, 70, 32, 44, 76, 47, 94, 94, 27, 94, 90, 43, 22, 28, 47, 98, 95, 2, 37, 46, 7, 56, 31, 11, 71, 42, 84, 64, 74, 70, 2, 3, 69, 45, 100, 60, 29, 95, 23, 96, 79, 3, 22, 41, 94, 13, 13, 24, 45, 43, 44, 38, 5, 15, 83, 43, 21, 32, 62, 73, 50, 88, 49, 56, 21, 66, 27, 2, 10, 24, 58, 90, 47, 56, 80, 58, 9, 33, 100, 91, 5, 67, 75, 66, 100, 86, 7, 76, 10, 73, 93, 4, 86, 49, 71, 8, 89, 64, 4, 25, 22, 95, 25, 48, 83, 28, 32, 25, 39, 23, 37, 21, 90, 55, 10, 36, 30, 34, 9, 33, 53, 58, 6, 42, 45, 70, 68, 91, 74, 24, 53, 68, 44, 75, 55, 28, 98, 30, 39, 28, 65, 10, 87, 82, 80, 37, 69, 63, 74, 62, 93, 87, 82, 90, 83, 55, 38, 38, 85, 13, 23, 70, 17, 65, 66, 87, 59, 6, 73, 97, 2, 50, 94, 61, 11, 91, 70, 100, 42, 32, 99, 27, 36, 2, 85, 7, 53, 65, 59, 39, 13, 39, 89, 85, 68, 39, 87, 35, 61, 36, 48, 84, 76, 37, 23, 87, 8, 84, 12, 18, 92, 96, 9, 31, 26, 27, 65, 76, 45, 23, 66, 64, 10, 49, 84, 11, 77, 63, 64, 15, 86, 5, 94, 64, 79, 15, 56, 14, 9, 37, 31, 96, 86, 62, 80, 87, 65, 41, 27, 23, 73, 15, 62, 6, 100, 89, 52, 17, 76, 14, 92, 35, 58, 8, 55, 76, 35, 26, 70, 60, 76, 55, 71, 59, 59, 40, 45, 43, 99, 4, 44, 62, 18, 88, 21, 93, 19, 6, 34, 47, 12, 89, 63, 80, 19, 11, 60, 57, 80, 8, 93, 91, 28, 36, 95, 26, 25, 87, 61, 72, 43, 88, 9, 35, 59, 81, 18, 42, 30, 69, 6, 14, 23, 61, 92, 89, 68, 57, 93, 62, 9, 47, 20, 95, 36, 5, 91, 3, 33, 77, 23, 56, 58, 60, 5, 38, 84, 44, 35, 29, 35, 78, 6, 89, 22, 56, 17, 94, 6, 90, 7, 69, 52, 38, 92, 7, 3, 79, 5, 70, 73, 36, 89, 97, 53, 36, 90, 37, 59, 24, 71, 54, 1, 48, 36, 52, 41, 27, 89, 82, 41, 8, 45, 60, 51, 40, 34, 81, 60, 82, 86, 79, 83, 67, 83, 91, 88, 14, 29, 61, 57, 85, 23, 65, 4, 84, 55, 68, 26, 22, 93, 85, 68, 12, 89, 69, 27, 70, 98, 71, 8, 32, 54, 28, 90, 23, 44, 16, 62, 39, 97, 38, 73, 41, 84, 80, 32, 72, 57, 33, 23, 80, 42, 76, 63, 5, 56, 78, 3, 46, 15, 27, 13, 68, 16, 63, 69, 35, 87, 24, 2, 73, 64, 98, 42, 22, 50, 55, 33, 53, 85, 99, 37, 79, 58, 51, 34, 52, 60, 85, 99, 12, 95, 94, 42, 2, 66, 1, 61, 63, 54, 47, 90, 58, 41, 95, 59, 11, 97, 98, 65, 41, 79, 10, 7, 96, 88, 78, 45, 68, 72, 67, 26, 37, 70, 63, 49, 96, 35, 78, 5, 10, 38, 56, 7, 84, 58, 56, 87, 12, 55, 78, 11, 36, 9, 20, 64, 45, 33, 67, 13, 90, 58, 77, 80, 73, 50, 53, 44, 20, 25, 30, 46, 67, 24, 69, 44, 92, 80, 41, 71, 85, 32, 48, 50, 27, 59, 35, 96, 13, 50, 38, 14, 98, 39, 100, 73, 23, 97, 23, 3, 24, 58, 28, 9, 4, 93, 69, 87, 99, 77, 80, 32, 84, 13, 63, 12, 5, 44, 88, 58, 95, 28, 33, 21, 5, 28, 87, 84, 8, 8, 82, 27, 92, 44, 71, 40, 58, 65, 35, 42, 61, 84, 40, 68, 17, 75, 96, 41, 31, 43, 38, 21, 80, 78, 65, 56, 45, 83, 38, 11, 56, 54, 63, 83, 41, 95, 100, 81, 95, 34, 97, 100, 54, 82, 4, 79, 6, 100, 73, 41, 85, 50, 45, 74, 46, 5, 38, 69, 82, 42, 17, 84, 89, 18, 48, 23, 97, 100, 91, 35, 98, 30, 78, 43, 6, 16, 71, 21, 35, 89, 37, 44, 100, 9, 54, 9, 45, 7, 29, 34, 80, 67, 45, 8, 95, 89, 53, 78, 82, 4, 72, 51, 45, 12, 43, 80, 37, 95, 36, 90, 72, 44, 89, 59, 7, 7, 34, 68, 6, 3, 3, 81, 14, 91, 81, 99, 96, 63, 65, 7, 62, 47, 3, 35, 66, 3, 83, 95, 55, 59, 52, 67, 7, 73, 100, 63, 31, 63, 54, 11, 8, 78, 21, 34, 97, 37, 22, 62, 67, 39, 34, 50, 73, 34, 10, 13, 35, 34, 81, 9, 69, 12, 58, 79, 21, 75, 92, 82, 40, 32, 11, 7, 8, 37, 67, 16, 33, 9, 78, 97, 3, 3, 54, 41, 45, 50, 42, 83, 47, 77, 47, 28, 95, 62, 82, 18, 70, 94, 88, 45, 27, 92, 80, 44, 76, 96, 2, 70, 76, 60, 33, 53, 3, 56, 63, 46, 68, 22, 39, 80, 90, 83, 45, 31, 5, 25, 23, 57, 25, 32, 38, 29, 4, 55, 14, 99, 77, 5, 62, 48, 93, 28, 75, 93, 21, 21, 41, 37, 26, 49, 80, 63, 48, 69, 19, 2, 21, 26, 63, 54, 70, 31, 4, 33, 16, 3, 53, 62, 72, 63, 8, 12, 54, 56, 43, 98, 34, 20, 65, 59, 62, 11, 44, 28, 95, 93, 50, 63, 34, 45, 18, 32, 14, 76, 68, 74, 28, 71, 20, 19, 97, 90, 84, 82, 69, 94, 16, 33, 79, 23, 58, 18, 71, 6, 8, 39, 54, 54, 99, 89, 12, 28, 3, 47, 41, 81, 71, 32, 8, 41, 74, 52, 59, 42, 44, 55, 93, 44, 65, 58, 59, 40, 1, 10, 65, 11, 45, 80, 56, 94, 15, 93, 66, 7, 15, 81, 51, 40, 8, 23, 95, 8, 43, 35, 54, 60, 99, 48, 66, 32, 57, 9, 50, 9, 36, 11, 57, 17, 55, 77, 1, 82, 72, 48, 14, 63, 89, 68, 16, 69, 97, 62, 84, 31, 35, 28, 56, 38, 74, 51, 43, 72, 46, 51, 12, 35, 43, 25, 38, 62, 50, 43, 90, 23, 22, 40, 56, 90, 11, 65, 27, 70, 90, 19, 42, 83, 56, 92, 30, 29, 31, 12, 46, 8, 48, 26, 77, 82, 50, 72, 1, 64, 62, 64, 74, 12, 94, 76, 48, 83, 29, 65, 75, 90, 84, 27, 63, 13, 43, 27, 94, 70, 25, 66, 76, 9, 76, 97, 41, 30, 96, 73, 16, 99, 70, 71, 94, 87, 12, 76, 62, 79, 2, 33, 5, 31, 10, 27, 73, 44, 59, 53, 80, 10, 35, 30, 57, 15, 29, 33, 6, 73, 37, 8, 14, 74, 53, 25, 14, 89, 17, 22, 70, 57, 8, 79, 45, 40, 36, 90, 86, 12, 70, 67, 13, 10, 65, 83, 27, 14, 73, 3, 66, 8, 88, 39, 80, 20, 95, 84, 80, 95, 37, 17, 14, 79, 97, 79, 60, 36, 12, 48, 69, 20, 32, 26, 90, 22, 29, 71, 39, 59, 59, 100, 77, 52, 74, 73, 30, 33, 51, 88, 1, 77, 91, 33, 4, 30, 14, 60, 56, 51, 83, 78, 12, 26, 92, 11, 23, 82, 4, 8, 17, 66, 9, 64, 83, 45, 22, 93, 8, 71, 82, 47, 15, 92, 29, 59, 24, 57, 93, 13, 18, 90, 8, 71, 54, 89, 55, 37, 51, 100, 64, 56, 1, 88, 63, 50, 91, 35, 48, 98, 70, 46, 21, 39, 6, 62, 92, 75, 24, 42, 30, 15, 11, 31, 84, 79, 25, 74, 70, 10, 90, 91, 71, 32, 39, 8, 96, 82, 81, 80, 82, 33, 22, 33, 15, 75, 17, 65, 67, 91, 3, 33, 49, 34, 57, 5, 49, 27, 30, 6, 67, 30, 6, 63, 6, 32, 84, 17, 61, 14, 72, 71, 29, 58, 81, 52, 37, 63, 55, 17, 52, 65, 11, 29, 19, 21, 97, 82, 82, 39, 89, 7, 100, 22, 43, 50, 32, 57, 21, 64, 28, 49, 80, 55, 76, 46, 38, 59, 63, 69, 1, 71, 25, 56, 80, 46, 54, 97, 53, 73, 69, 62, 62, 80, 5, 36, 43, 9, 10, 57, 84, 58, 64, 99, 36, 78, 29, 40, 96, 41, 43, 65, 2, 30, 50, 62, 14, 17, 100, 54, 37, 20, 78, 57, 30, 66, 90, 72, 58, 11, 17, 61, 33, 42, 42, 87, 37, 93, 43, 99, 16, 85, 43, 20, 82, 87, 34, 6, 32, 28, 36, 96, 42, 57, 12, 88, 94, 45, 35, 38, 62, 79, 91, 67, 38, 93, 11, 97, 76, 83, 60, 58, 48, 80, 55, 32, 48, 34, 40, 57, 65, 95, 38, 61, 56, 41, 63, 12, 26, 22, 7, 65, 28, 49, 38, 64, 59, 42, 36, 65, 51, 73, 90, 25, 33, 31, 59, 17, 43, 9, 90, 4, 42, 34, 80, 27, 26, 88, 95, 72, 54, 14, 43, 83, 15, 21, 50, 50, 79, 19, 44, 78, 98, 37, 27, 84, 48, 5, 67, 4, 91, 28, 56, 68, 72, 39, 100, 33, 80, 42, 25, 85, 44, 14, 24, 100, 1, 91, 39, 43, 30, 17, 8, 77, 35, 27, 54, 85, 24, 59, 94, 26, 2, 95, 1, 90, 99, 86, 30, 46, 88, 75, 21, 24, 82, 35, 14, 50, 13, 9, 84, 9, 87, 94, 26, 32, 39, 51, 92, 52, 4, 98, 84, 42, 7, 92, 43, 54, 21, 53, 66, 65, 42, 27, 78, 55, 35, 93, 53, 24, 47, 32, 79, 83, 36, 21, 91, 94, 82, 75, 57, 58, 9, 66, 94, 9, 45, 45, 81, 29, 9, 44, 19, 45, 53, 76, 55, 37, 11, 18, 87, 6, 83, 60, 43, 66, 92, 93, 77, 97, 57, 57, 74, 53, 74, 24, 64, 46, 19, 78, 72, 11, 22, 59, 70, 88, 49, 67, 22, 96, 61, 61, 31, 38, 64, 66, 11, 40, 41, 75, 76, 41, 72, 10, 26, 47, 58, 40, 60, 19, 97, 25, 20, 42, 81, 13, 62, 53, 38, 77, 95, 85, 88, 6, 92, 28, 67, 58, 95, 49, 24, 72, 69, 25, 19, 37, 69, 3, 69, 8, 25, 14, 46, 3, 48, 23, 94, 41, 79, 98, 96, 74, 89, 79, 8, 80, 69, 64, 71, 95, 33, 15, 19, 33, 15, 48, 76, 77, 86, 19, 73, 79, 48, 83, 51, 65, 27, 15, 15, 71, 55, 66, 73, 84, 99, 12, 18, 68, 3, 51, 91, 90, 54, 94, 16, 56, 75, 88, 34, 39, 31, 21, 46, 36, 11, 53, 7, 56, 62, 1, 97, 12, 8, 91, 67, 35, 57, 69, 59, 3, 100, 2, 26, 36, 44, 95, 51, 32, 90, 98, 32, 52, 66, 21, 1, 76, 63, 78, 82, 25, 59, 21, 37, 39, 77, 60, 100, 15, 43, 75, 35, 9, 69, 96, 74, 4, 43, 25, 72, 74, 7, 74, 85, 41, 62, 20, 56, 86, 12, 19, 38, 97, 87, 75, 95, 77, 73, 61, 83, 43, 42, 40, 32, 97, 25, 91, 19, 19, 66, 40, 62, 38, 69, 29, 48, 27, 78, 34, 87, 55, 21, 28, 22, 43, 84, 86, 56, 23, 90, 61, 44, 81, 27, 1, 27, 47, 12, 42, 27, 88, 33, 28, 91, 49, 51, 36, 76, 58, 93, 93, 83, 94, 69, 56, 60, 3, 10, 91, 27, 57, 67, 14, 59, 52, 15, 29, 44, 38, 100, 70, 64, 21, 4, 63, 87, 62, 98, 56, 66, 2, 12, 88, 30, 35, 63, 81, 14, 8, 11, 98, 22, 96, 7, 8, 65, 49, 78, 39, 84, 48, 19, 97, 10, 65, 47, 29, 22, 63, 6, 65, 47, 97, 7, 37, 47, 39, 90, 31, 25, 57, 78, 97, 79, 4, 87, 75, 63, 88, 53, 20, 8, 81, 13, 14, 28, 65, 73, 91, 51, 27, 53, 40, 71, 6, 84, 53, 92, 48, 49, 69, 42, 57, 98, 6, 60, 41, 24, 82, 55, 69, 68, 78, 14, 31, 49, 5, 15, 36, 8, 50, 37, 50, 100, 50, 56, 74, 18, 67, 78, 2, 32, 71, 29, 18, 30, 32, 77, 40, 53, 7, 51, 49, 85, 20, 34, 27, 10, 93, 16, 9, 82, 15, 4, 54, 22, 59, 61, 44, 15, 34, 27, 12, 46, 27, 42, 81, 71, 60, 70, 78, 98, 97, 4, 40, 94, 29, 59, 34, 3, 6, 27, 60, 98, 52, 1, 36, 30, 73, 65, 7, 31, 47, 10, 33, 14, 66, 73, 16, 58, 7, 92, 100, 13, 58, 60, 86, 27, 24, 24, 60, 52, 66, 91, 83, 12, 84, 56, 57, 63, 41, 10, 21, 97, 64, 19, 24, 50, 13, 15, 93, 77, 7, 66, 57, 37, 23, 4, 68, 74, 50, 28, 88, 81, 1, 20, 62, 48, 91, 84, 56, 13, 57, 56, 56, 7, 91, 30, 36, 42, 99, 42, 18, 10, 31, 25, 26, 50, 45, 56, 98, 62, 4, 35, 76, 67, 83, 58, 35, 75, 82, 95, 72, 82, 77, 30, 39, 79, 27, 67, 32, 85, 51, 15, 15, 5, 62, 96, 98, 73, 62, 39, 94, 100, 65, 68, 80, 18, 62, 51, 45, 50, 18, 33, 19, 91, 70, 4, 28, 22, 54, 22, 86, 33, 83, 9, 77, 91, 5, 33, 42, 46, 39, 4, 90, 51, 70, 80, 20, 17, 97, 96, 70, 90, 92, 12, 85, 100, 74, 69, 55, 55, 36, 1, 73, 19, 41, 97, 6, 18, 10, 3, 89, 11, 54, 6, 38, 22, 41, 2, 81, 18, 31, 21, 41, 14, 96, 49, 81, 56, 41, 26, 86, 83, 99, 68, 95, 65, 13, 86, 9, 28, 88, 15, 46, 35, 79, 77, 80, 99, 63, 73, 64, 26, 74, 17, 58, 97, 77, 39, 93, 64, 59, 3, 1, 19, 97, 25, 54, 38, 8, 46, 55, 91, 85, 89, 32, 97, 22, 23, 14, 39, 92, 39, 45, 47, 88, 52, 31, 5, 49, 97, 62, 31, 38, 51, 69, 12, 14, 53, 61, 13, 91, 38, 18, 76, 95, 39, 91, 17, 69, 94, 83, 96, 24, 30, 48, 63, 30, 35, 30, 79, 1, 19, 93, 9, 96, 11, 74, 75, 73, 80, 39, 9, 35, 67, 77, 68, 100, 85, 23, 26, 16, 51, 51, 98, 33, 20, 25, 25, 85, 3, 94, 100, 46, 38, 87, 91, 89, 74, 37, 33, 71, 97, 58, 67, 15, 34, 69, 30, 10, 38, 51, 8, 23, 82, 93, 90, 73, 26, 13, 54, 92, 63, 90, 61, 53, 47, 99, 14, 39, 79, 34, 13, 53, 91, 56, 32, 69, 46, 54, 69, 25, 16, 19, 3, 5, 63, 68, 24, 55, 69, 38, 94, 26, 10, 42, 58, 21, 55, 44, 89, 58, 31, 65, 70, 68, 62, 89, 55, 15, 55, 10, 27, 65, 15, 26, 42, 72, 89, 84, 71, 13, 3, 83, 67, 66, 82, 22, 28, 16, 70, 57, 64, 90, 97, 10, 45, 23, 10, 80, 73, 63, 56, 99, 76, 35, 28, 28, 25, 17, 90, 87, 80, 37, 93, 67, 63, 15, 20, 35, 18, 81, 5, 64, 42, 44, 37, 33, 69, 50, 14, 67, 86, 64, 55, 70, 21, 12, 69, 51, 57, 99, 40, 92, 46, 13, 71, 28, 59, 76, 74, 12, 51, 67, 56, 85, 33, 78, 32, 9, 24, 84, 55, 76, 78, 49, 80, 57, 38, 100, 12, 79, 96, 28, 24, 58, 60, 76, 80, 24, 9, 64, 23, 19, 65, 62, 90, 45, 93, 30, 86, 77, 81, 54, 87, 65, 4, 68, 23, 46, 75, 69, 63, 66, 94, 47, 5, 99, 92, 11, 93, 30, 99, 3, 81, 38, 40, 77, 19, 1, 64, 61, 92, 85, 46, 11, 18, 59, 60, 63, 5, 85, 43, 66, 31, 92, 68, 32, 57, 8, 89, 27, 36, 84, 75, 54, 36, 37, 81, 59, 62, 3, 14, 22, 28, 100, 67, 6, 32, 20, 15, 32, 41, 60, 53, 57, 78, 23, 86, 2, 34, 72, 75, 27, 6, 12, 36, 28, 34, 7, 22, 11, 78, 91, 50, 6, 53, 100, 84, 72, 20, 28, 81, 92, 48, 25, 53, 11, 57, 45, 5, 12, 66, 99, 8, 26, 15, 85, 42, 7, 45, 42, 88, 100, 88, 53, 51, 53, 21, 10, 89, 30, 33, 38, 49, 41, 59, 93, 76, 27, 62, 3, 69, 88, 70, 17, 30, 62, 78, 63, 28, 60, 76, 1, 4, 66, 59, 75, 40, 15, 61, 79, 22, 60, 94, 89, 52, 57, 78, 65, 35, 36, 42, 97, 8, 34, 72, 31, 80, 48, 44, 14, 22, 73, 25, 21, 69, 40, 6, 75, 18, 42, 77, 36, 19, 78, 42, 85, 43, 80, 56, 88, 93, 12, 5, 6, 18, 85, 35, 97, 20, 29, 28, 50, 81, 27, 83, 92, 99, 17, 35, 55, 24, 96, 39, 22, 74, 65, 21, 66, 61, 18, 87, 14, 51, 8, 77, 8, 91, 6, 3, 32, 84, 33, 89, 66, 46, 65, 57, 59, 23, 92, 97, 75, 18, 38, 9, 18, 86, 57, 29, 91, 81, 71, 37, 73, 1, 7, 51, 8, 54, 23, 1, 79, 60, 58, 65, 81, 12, 22, 20, 19, 8, 97, 60, 39, 16, 6, 12, 77, 2, 1, 60, 14, 86, 79, 51, 86, 24, 89, 100, 64, 61, 81, 52, 40, 79, 34, 22, 66, 94, 72, 71, 60, 42, 81, 95, 55, 46, 60, 79, 38, 7, 49, 26, 40, 49, 11, 82, 11, 67, 38, 84, 25, 80, 75, 8, 5, 93, 88, 94, 27, 22, 4, 35, 66, 68, 36, 10, 47, 9, 64, 67, 56, 30, 33, 36, 23, 42, 13, 70, 8, 16, 51, 33, 90, 29, 34, 86, 58, 83, 69, 77, 65, 11, 100, 81, 56, 73, 86, 54, 58, 91, 43, 99, 31, 70, 42, 36, 69, 66, 87, 12, 48, 95, 60, 36, 48, 1, 56, 42, 17, 89, 4, 11, 85, 12, 72, 67, 41, 28, 89, 77, 11, 89, 81, 8, 65, 22, 35, 92, 66, 27, 73, 58, 35, 52, 3, 69, 38, 29, 49, 79, 39, 1, 61, 34, 48, 78, 60, 59, 65, 88, 96, 35, 94, 29, 77, 51, 77, 52, 63, 82, 82, 95, 18, 27, 94, 79, 57, 13, 52, 42, 31, 37, 75, 11, 83, 79, 41, 94, 62, 67, 68, 21, 59, 58, 30, 89, 67, 57, 26, 28, 26, 66, 94, 3, 71, 80, 80, 60, 93, 40, 52, 82, 72, 38, 93, 59, 76, 99, 96, 20, 45, 28, 51, 35, 21, 37, 92, 41, 48, 72, 66, 12, 56, 40, 58, 54, 4, 91, 5, 12, 27, 61, 98, 55, 9, 53, 93, 32, 58, 50, 38, 88, 41, 62, 14, 60, 51, 41, 40, 37, 64, 98, 90, 24, 88, 14, 29, 50, 96, 90, 7, 54, 98, 8, 13, 30, 64, 62, 17, 87, 14, 31, 9, 92, 49, 83, 61, 12, 32, 29, 53, 86, 9, 64, 15, 25, 3, 54, 61, 29, 43, 89, 24, 91, 98, 49, 29, 12, 16, 66, 4, 61, 66, 22, 91, 64, 7, 96, 18, 96, 3, 8, 100, 48, 56, 80, 4, 4, 23, 60, 64, 72, 38, 24, 72, 87, 77, 68, 9, 49, 43, 6, 28, 30, 24, 35, 20, 79, 73, 8, 26, 70, 77, 67, 6, 34, 74, 29, 57, 39, 58, 79, 34, 99, 46, 8, 82, 61, 2, 73, 50, 24, 72, 68, 46, 12, 100, 21, 41, 60, 7, 80, 98, 61, 48, 72, 23, 13, 46, 96, 63, 3, 98, 61, 20, 42, 66, 68, 1, 24, 24, 12, 50, 97, 69, 4, 28, 10, 85, 18, 70, 49, 40, 51, 35, 4, 71, 85, 58, 38, 94, 63, 8, 98, 24, 62, 57, 61, 10, 35, 27, 21, 93, 97, 95, 7, 94, 78, 74, 5, 88, 3, 81, 32, 27, 31, 60, 86, 43, 95, 63, 4, 2, 12, 77, 17, 33, 26, 18, 3, 38, 95, 16, 2, 4, 43, 8, 77, 86, 13, 17, 99, 58, 48, 87, 42, 67, 73, 83, 81, 100, 91, 7, 21, 68, 86, 82, 18, 88, 94, 46, 87, 31, 20, 16, 5, 45, 72, 83, 30, 32, 68, 87, 57, 42, 36, 94, 91, 38, 51, 92, 71, 50, 12, 44, 98, 58, 94, 36, 66, 64, 68, 36, 74, 99, 54, 22, 4, 7, 37, 45, 58, 97, 63, 2, 26, 46, 60, 53, 90, 98, 2, 63, 92, 69, 2, 42, 72, 14, 57, 63, 45, 78, 49, 70, 14, 51, 51, 21, 72, 71, 6, 6, 27, 16, 81, 49, 47, 31, 30, 25, 76, 91, 81, 41, 27, 49, 68, 12, 96, 57, 39, 73, 54, 22, 23, 6, 2, 71, 79, 45, 36, 29, 30, 73, 56, 94, 29, 27, 45, 19, 35, 49, 8, 41, 98, 73, 17, 90, 46, 97, 54, 27, 65, 8, 44, 45, 83, 27, 88, 28, 77, 28, 94, 60, 42, 4, 96, 28, 9, 16, 34, 54, 85, 12, 8, 83, 84, 17, 89, 92, 82, 6, 98, 98, 19, 55, 78, 49, 8, 97, 50, 35, 13, 45, 67, 74, 67, 2, 23, 46, 81, 91, 2, 77, 25, 80, 46, 67, 75, 60, 23, 79, 24, 3, 39, 41, 13, 48, 43, 71, 68, 34, 46, 61, 37, 62, 65, 36, 80, 53, 42, 33, 42, 27, 31, 96, 16, 44, 11, 39, 72, 55, 18, 18, 89, 35, 30, 67, 91, 55, 40, 79, 38, 35, 89, 11, 76, 40, 21, 36, 73, 41, 6, 35, 49, 23, 15, 4, 14, 82, 5, 27, 92, 20, 1, 90, 35, 92, 73, 35, 14, 9, 35, 1, 51, 99, 54, 15, 25, 66, 36, 21, 18, 88, 7, 32, 82, 30, 80, 99, 24, 69, 56, 94, 53, 28, 48, 20, 6, 33, 79, 96, 40, 53, 25, 39, 97, 71, 84, 36, 63, 44, 29, 13, 37, 11, 71, 2, 34, 54, 50, 77, 41, 85, 85, 23, 10, 69, 11, 67, 19, 53, 31, 24, 89, 40, 35, 34, 93, 59, 97, 94, 23, 79, 38, 77, 88, 32, 28, 87, 86, 43, 98, 75, 68, 58, 62, 58, 82, 98, 45, 47, 40, 74, 47, 25, 76, 42, 26, 15, 81, 9, 41, 36, 72, 19, 3, 38, 2, 72, 53, 51, 82, 40, 32, 47, 90, 23, 21, 23, 96, 42, 46, 74, 40, 98, 3, 58, 41, 8, 6, 53, 27, 11, 51, 89, 97, 28, 43, 95, 25, 9, 6, 4, 81, 80, 6, 52, 40, 94, 81, 61, 98, 8, 73, 50, 82, 63, 83, 89, 77, 15, 42, 53, 18, 20, 27, 52, 26, 10, 68, 76, 54, 54, 57, 71, 78, 79, 15, 38, 29, 65, 14, 84, 54, 67, 65, 47, 94, 83, 72, 9, 84, 27, 61, 30, 38, 35, 63, 65, 55, 40, 8, 47, 37, 33, 36, 96, 47, 16, 91, 87, 68, 67, 85, 86, 32, 12, 54, 81, 97, 12, 73, 2, 40, 59, 99, 43, 32, 52, 31, 26, 96, 27, 17, 25, 43, 77, 71, 76, 40, 83, 45, 95, 27, 44, 25, 76, 72, 77, 5, 46, 6, 61, 49, 46, 81, 72, 86, 57, 32, 21, 93, 57, 47, 12, 90, 23, 92, 78, 29, 51, 33, 3, 45, 94, 65, 81, 50, 64, 91, 71, 33, 22, 50, 28, 38, 86, 53, 87, 36, 29, 55, 69, 57, 25, 17, 93, 57, 91, 66, 16, 13, 34, 93, 73, 44, 82, 91, 96, 44, 97, 55, 44, 50, 37, 10, 28, 94, 57, 71, 41, 74, 58, 100, 36, 17, 23, 54, 36, 46, 56, 3, 63, 30, 48, 16, 50, 25, 39, 79, 27, 58, 56, 97, 96, 54, 77, 52, 95, 93, 69, 76, 73, 83, 22, 81, 70, 4, 79, 77, 28, 58, 68, 64, 52, 8, 28, 78, 35, 56, 34, 67, 44, 78, 23, 68, 58, 64, 15, 86, 38, 4, 29, 73, 6, 36, 20, 32, 39, 97, 7, 6, 50, 98, 22, 94, 52, 27, 57, 62, 20, 84, 67, 5, 11, 32, 59, 64, 75, 87, 40, 22, 41, 53, 36, 74, 78, 20, 60, 70, 24, 53, 98, 43, 80, 63, 24, 46, 82, 30, 11, 3, 94, 28, 54, 41, 93, 49, 45, 32, 49, 48, 35, 95, 74, 37, 48, 79, 72, 31, 75, 39, 88, 47, 29, 7, 20, 2, 85, 12, 82, 68, 57, 11, 98, 57, 39, 64, 71, 24, 1, 82, 89, 62, 72, 44, 50, 34, 94, 37, 15, 5, 43, 40, 85, 28, 40, 95, 85, 97, 1, 9, 49, 39, 92, 46, 19, 38, 16, 48, 49, 20, 81, 26, 57, 85, 85, 36, 28, 71, 7, 42, 87, 43, 2, 42, 19, 97, 15, 56, 61, 31, 43, 80, 97, 59, 13, 60, 48, 74, 93, 8, 21, 70, 86, 32, 23, 67, 13, 88, 69, 9, 35, 35, 72, 27, 52, 18, 44, 86, 53, 89, 94, 18, 49, 66, 34, 24, 41, 47, 63, 67, 25, 64, 71, 14, 62, 13, 10, 61, 40, 71, 95, 74, 52, 49, 32, 25, 39, 73, 36, 60, 52, 5, 3, 24, 9, 20, 87, 26, 70, 10, 11, 60, 29, 26, 35, 84, 13, 79, 39, 30, 65, 4, 10, 11, 13, 28, 2, 75, 82, 78, 58, 16, 99, 65, 14, 78, 26, 93, 92, 67, 54, 99, 66, 65, 14, 36, 75, 41, 51, 61, 96, 87, 94, 32, 49, 16, 77, 28, 66, 23, 34, 75, 83, 21, 81, 39, 12, 97, 12, 12, 27, 12, 30, 32, 96, 2, 80, 27, 11, 64, 3, 20, 21, 46, 1, 62, 3, 90, 50, 92, 69, 93, 40, 47, 20, 53, 14, 91, 87, 12, 81, 93, 6, 56, 22, 4, 2, 53, 6, 91, 69, 87, 39, 30, 75, 50, 3, 24, 100, 71, 66, 85, 66, 37, 48, 82, 48, 41, 29, 84, 41, 64, 74, 35, 83, 72, 59, 31, 86, 4, 34, 57, 78, 49, 90, 36, 1, 16, 1, 59, 34, 71, 32, 11, 60, 84, 41, 100, 58, 58, 81, 29, 14, 25, 12, 55, 98, 4, 96, 5, 45, 10, 69, 37, 91, 10, 41, 76, 26, 88, 60, 24, 40, 41, 86, 30, 48, 51, 23, 52, 97, 13, 64, 44, 16, 78, 25, 69, 66, 64, 5, 75, 82, 49, 39, 17, 31, 31, 50, 13, 23, 100, 28, 77, 15, 5, 31, 38, 97, 86, 6, 4, 50, 32, 36, 38, 22, 38, 3, 46, 73, 12, 55, 14, 89, 15, 93, 21, 61, 80, 1, 19, 47, 1, 64, 4, 22, 28, 54, 96, 33, 74, 11, 81, 12, 83, 73, 76, 98, 64, 43, 48, 51, 42, 69, 85, 36, 5, 85, 68, 53, 13, 2, 30, 58, 69, 68, 15, 47, 91, 64, 58, 23, 45, 73, 11, 86, 16, 58, 67, 40, 78, 55, 88, 69, 84, 89, 12, 8, 51, 3, 30, 72, 42, 88, 66, 96, 72, 6, 29, 91, 62, 87, 30, 57, 70, 16, 23, 12, 29, 1, 89, 83, 19, 73, 49, 96, 6, 12, 94, 38, 26, 30, 29, 32, 92, 80, 84, 12, 35, 61, 96, 52, 89, 100, 60, 59, 75, 53, 32, 29, 77, 38, 5, 77, 27, 71, 22, 99, 95, 76, 27, 78, 44, 5, 39, 16, 25, 47, 1, 87, 80, 19, 49, 64, 28, 36, 48, 53, 98, 4, 95, 23, 4, 82, 71, 89, 11, 70, 35, 9, 42, 11, 87, 64, 24, 71, 25, 99, 43, 2, 11, 87, 25, 73, 99, 76, 83, 27, 30, 54, 33, 61, 81, 85, 46, 37, 77, 69, 51, 92, 47, 76, 59, 2, 29, 52, 23, 46, 33, 50, 19, 33, 32, 76, 90, 30, 44, 21, 7, 82, 96, 61, 31, 64, 13, 33, 43, 91, 94, 40, 22, 61, 55, 90, 29, 20, 8, 28, 72, 65, 4, 91, 46, 65, 13, 14, 51, 4, 72, 35, 31, 94, 83, 72, 46, 93, 18, 33, 52, 95, 58, 6, 87, 4, 73, 63, 87, 1, 41, 57, 15, 15, 59, 86, 57, 60, 84, 29, 8, 7, 96, 69, 15, 74, 23, 23, 79, 9, 34, 85, 89, 85, 13, 60, 34, 73, 9, 1, 10, 40, 2, 1, 24, 57, 48, 12, 6, 41, 18, 24, 38, 87, 60, 86, 40, 43, 29, 80, 77, 93, 76, 90, 73, 65, 31, 100, 98, 12, 48, 76, 95, 50, 81, 27, 9, 64, 16, 9, 27, 34, 52, 94, 46, 77, 80, 42, 90, 42, 8, 95, 91, 17, 58, 76, 70, 14, 41, 69, 17, 17, 24, 46, 29, 29, 93, 87, 50, 73, 24, 4, 26, 25, 81, 28, 74, 57, 11, 3, 52, 97, 80, 35, 76, 51, 72, 87, 9, 53, 81, 21, 79, 17, 11, 18, 44, 27, 13, 17, 15, 71, 85, 53, 88, 54, 13, 80, 66, 26, 84, 29, 76, 25, 13, 100, 26, 20, 69, 10, 27, 6, 95, 61, 10, 85, 8, 82, 39, 18, 84, 80, 59, 71, 67, 1, 28, 1, 50, 23, 76, 66, 14, 22, 61, 26, 57, 3, 40, 35, 61, 33, 94, 90, 58, 99, 11, 33, 25, 66, 5, 32, 64, 46, 12, 61, 69, 71, 54, 39, 99, 58, 41, 82, 91, 75, 54, 78, 99, 76, 61, 30, 68, 66, 82, 10, 39, 15, 69, 100, 2, 34, 98, 36, 39, 19, 7, 47, 74, 36, 76, 71, 76, 81, 41, 20, 91, 6, 83, 66, 53, 79, 9, 51, 91, 73, 78, 81, 95, 23, 59, 11, 10, 31, 100, 25, 33, 19, 54, 86, 81, 6, 36, 95, 83, 53, 68, 79, 14, 19, 7, 2, 40, 17, 43, 100, 66, 65, 36, 56, 9, 17, 39, 47, 52, 48, 42, 65, 96, 84, 20, 87, 53, 81, 45, 6, 44, 71, 84, 35, 8, 77, 26, 41, 13, 11, 7, 52, 23, 51, 30, 47, 31, 67, 63, 40, 35, 48, 100, 72, 38, 57, 77, 50, 71, 35, 90, 99, 80, 63, 70, 76, 47, 24, 58, 93, 20, 81, 28, 65, 22, 52, 59, 98, 5, 95, 85, 94, 17, 72, 48, 55, 10, 25, 43, 68, 59, 57, 64, 4, 93, 43, 45, 84, 42, 6, 8, 67, 68, 38, 73, 64, 73, 30, 99, 84, 65, 91, 59, 12, 74, 2, 97, 13, 50, 100, 22, 23, 95, 94, 63, 37, 84, 53, 47, 36, 12, 81, 68, 73, 35, 51, 11, 44, 79, 22, 62, 55, 72, 81, 69, 10, 50, 55, 95, 5, 78, 16, 27, 5, 85, 87, 10, 64, 90, 46, 25, 5, 38, 39, 86, 10, 30, 12, 78, 9, 89, 22, 52, 32, 90, 45, 31, 3, 5, 15, 17, 24, 70, 16, 61, 100, 6, 3, 12, 1, 34, 74, 84, 8, 69, 32, 49, 79, 26, 46, 93, 56, 52, 92, 11, 90, 18, 16, 83, 89, 32, 44, 37, 34, 49, 80, 83, 57, 91, 21, 41, 46, 5, 90, 11, 54, 81, 83, 11, 16, 25, 59, 31, 44, 96, 87, 88, 99, 62, 89, 20, 19, 83, 96, 54, 94, 39, 29, 5, 74, 38, 68, 13, 75, 98, 7, 33, 39, 44, 15, 100, 24, 38, 37, 90, 85, 16, 50, 49, 91, 22, 89, 80, 96, 3, 74, 36, 84, 68, 65, 93, 19, 31, 33, 66, 11, 4, 48, 55, 95, 100, 37, 77, 61, 68, 35, 80, 22, 39, 25, 82, 4, 95, 50, 72, 22, 60, 72, 68, 26, 54, 47, 8, 16, 64, 43, 37, 81, 17, 52, 80, 77, 29, 42, 39, 63, 100, 31, 12, 11, 94, 87, 35, 46, 5, 85, 99, 2, 39, 2, 90, 42, 3, 100, 100, 44, 68, 35, 59, 38, 18, 21, 10, 19, 70, 99, 60, 54, 19, 38, 50, 35, 58, 69, 68, 78, 52, 60, 29, 20, 56, 98, 15, 84, 91, 95, 55, 31, 79, 6, 55, 65, 26, 55, 79, 57, 67, 16, 18, 92, 38, 95, 66, 22, 15, 76, 86, 27, 72, 54, 84, 49, 11, 38, 54, 84, 27, 2, 39, 3, 74, 78, 72, 27, 61, 57, 36, 61, 98, 88, 47, 14, 50, 47, 34, 18, 81, 21, 83, 25, 57, 32, 27, 27, 80, 84, 79, 72, 27, 13, 58, 63, 93, 89, 27, 35, 1, 56, 16, 23, 77, 4, 80, 57, 22, 58, 30, 16, 48, 72, 53, 78, 42, 8, 13, 96, 91, 93, 82, 80, 45, 10, 28, 28, 85, 17, 32, 83, 72, 72, 21, 58, 64, 43, 62, 35, 5, 69, 76, 97, 33, 7, 46, 95, 60, 78, 11, 50, 11, 63, 59, 95, 23, 43, 93, 34, 63, 50, 1, 75, 14, 50, 70, 22, 14, 51, 58, 88, 81, 90, 86, 30, 85, 42, 64, 31, 26, 77, 69, 95, 76, 54, 73, 81, 79, 59, 55, 24, 69, 80, 69, 43, 66, 11, 43, 34, 10, 25, 87, 87, 31, 95, 62, 30, 90, 7, 40, 78, 1, 96, 10, 60, 1, 15, 11, 31, 61, 11, 47, 14, 43, 54, 4, 58, 95, 87, 48, 86, 31, 29, 6, 100, 52, 5, 88, 1, 17, 77, 100, 93, 45, 62, 73, 31, 7, 3, 31, 30, 87, 66, 21, 86, 67, 96, 18, 88, 57, 74, 53, 35, 78, 37, 43, 14, 82, 50, 68, 52, 95, 56, 26, 81, 55, 3, 85, 57, 97, 7, 60, 48, 82, 76, 81, 2, 65, 41, 31, 30, 9, 78, 67, 47, 42, 86, 23, 65, 56, 49, 86, 86, 6, 69, 77, 86, 17, 69, 39, 40, 33, 3, 7, 94, 83, 80, 46, 21, 86, 71, 1, 24, 91, 1, 24, 91, 67, 26, 11, 49, 78, 89, 47, 74, 79, 49, 28, 59, 51, 27, 21, 27, 100, 62, 99, 18, 92, 58, 61, 51, 24, 45, 48, 88, 72, 75, 64, 18, 88, 73, 82, 66, 24, 19, 70, 44, 42, 1, 75, 68, 33, 46, 88, 11, 82, 50, 86, 68, 32, 30, 84, 77, 60, 70, 46, 86, 71, 29, 19, 32, 53, 79, 78, 18, 16, 89, 99, 4, 2, 71, 82, 81, 92, 26, 83, 34, 26, 95, 51, 87, 20, 87, 63, 81, 15, 55, 9, 73, 73, 14, 93, 99, 74, 44, 82, 2, 82, 31, 69, 26, 45, 36, 96, 43, 24, 94, 28, 96, 25, 39, 8, 40, 63, 18, 10, 82, 100, 52, 67, 12, 55, 17, 100, 72, 52, 12, 34, 55, 21, 69, 1, 51, 35, 96, 68, 85, 45, 29, 91, 47, 59, 23, 20, 98, 82, 9, 76, 62, 63, 82, 21, 99, 3, 10, 22, 38, 82, 43, 58, 24, 18, 88, 50, 41, 63, 33, 99, 19, 81, 80, 33, 48, 11, 85, 100, 71, 33, 47, 76, 53, 100, 17, 61, 6, 1, 35, 47, 33, 60, 3, 20, 8, 13, 60, 7, 97, 100, 23, 24, 37, 41, 30, 36, 75, 77, 92, 33, 95, 57, 21, 24, 6, 46, 40, 63, 38, 59, 11, 49, 27, 52, 5, 97, 21, 89, 52, 5, 63, 22, 31, 39, 15, 70, 96, 36, 95, 100, 17, 96, 84, 9, 49, 14, 22, 20, 3, 13, 69, 2, 18, 85, 96, 11, 95, 76, 80, 79, 33, 86, 7, 37, 15, 93, 58, 26, 62, 55, 35, 28, 30, 87, 62, 11, 41, 26, 9, 82, 23, 21, 32, 84, 36, 45, 82, 12, 26, 16, 15, 5, 69, 38, 4, 88, 36, 67, 96, 1, 76, 77, 48, 11, 26, 11, 9, 68, 40, 7, 52, 13, 95, 80, 86, 15, 12, 5, 45, 47, 38, 88, 32, 28, 14, 23, 43, 31, 93, 37, 100, 83, 48, 94, 66, 10, 84, 11, 19, 69, 5, 27, 13, 99, 48, 49, 82, 89, 25, 33, 26, 41, 81, 39, 18, 73, 24, 57, 49, 36, 29, 11, 97, 56, 18, 73, 94, 83, 2, 47, 15, 58, 12, 3, 10, 88, 75, 7, 74, 35, 42, 85, 8, 17, 85, 91, 46, 71, 39, 42, 51, 47, 47, 36, 72, 2, 27, 79, 71, 65, 58, 39, 42, 55, 20, 79, 23, 6, 91, 8, 26, 72, 19, 100, 61, 77, 18, 79, 11, 9, 94, 11, 87, 80, 19, 93, 58, 25, 28, 55, 30, 71, 78, 53, 90, 46, 51, 72, 34, 68, 15, 95, 88, 47, 74, 4, 83, 88, 78, 81, 13, 55, 70, 8, 75, 82, 78, 34, 31, 58, 3, 68, 60, 97, 37, 46, 52, 46, 7, 22, 37, 77, 17, 22, 48, 83, 28, 95, 46, 59, 94, 4, 14, 94, 33, 35, 12, 80, 72, 17, 20, 18, 92, 12, 52, 53, 45, 12, 23, 82, 8, 88, 69, 79, 98, 32, 93, 92, 65, 47, 38, 38, 71, 37, 89, 58, 83, 15, 2, 46, 58, 32, 5, 34, 12, 71, 76, 36, 55, 38, 92, 63, 81, 97, 92, 71, 61, 54, 48, 98, 58, 25, 31, 13, 93, 10, 41, 50, 100, 92, 45, 83, 80, 35, 69, 75, 14, 12, 28, 50, 90, 87, 39, 75, 92, 92, 90, 4, 73, 16, 44, 73, 6, 2, 67, 79, 100, 30, 93, 77, 31, 38, 53, 80, 3, 69, 85, 37, 70, 91, 84, 56, 65, 44, 12, 45, 84, 43, 20, 79, 85, 30, 46, 23, 42, 87, 32, 17, 76, 75, 73, 80, 63, 100, 63, 22, 70, 64, 75, 27, 1, 72, 12, 85, 11, 24, 98, 55, 89, 21, 79, 45, 38, 92, 88, 8, 96, 33, 64, 82, 31, 70, 89, 90, 1, 12, 15, 73, 93, 48, 2, 72, 62, 33, 36, 78, 66, 29, 97, 5, 78, 29, 36, 9, 45, 7, 22, 56, 98, 88, 10, 40, 48, 47, 54, 71, 45, 59, 88, 7, 42, 97, 60, 82, 29, 24, 27, 46, 65, 22, 59, 24, 12, 59, 78, 14, 8, 86, 10, 79, 35, 73, 95, 57, 71, 88, 100, 19, 34, 28, 61, 23, 51, 7, 1, 66, 54, 28, 51, 45, 100, 93, 74, 18, 76, 44, 95, 21, 23, 64, 44, 86, 13, 74, 59, 95, 43, 45, 91, 53, 37, 53, 31, 39, 9, 95, 15, 38, 46, 58, 79, 21, 4, 89, 4, 76, 88, 45, 33, 49, 77, 82, 51, 22, 13, 76, 2, 78, 40, 42, 33, 49, 70, 90, 39, 96, 91, 55, 2, 50, 54, 38, 74, 70, 15, 20, 9, 18, 22, 64, 50, 91, 82, 7, 10, 1, 64, 46, 72, 27, 83, 96, 8, 72, 65, 53, 87, 22, 47, 38, 63, 48, 87, 19, 84, 69, 13, 59, 72, 45, 48, 23, 88, 82, 75, 63, 18, 32, 30, 31, 81, 30, 4, 99, 91, 69, 80, 31, 41, 18, 85, 75, 2, 29, 96, 1, 27, 10, 58, 37, 92, 46, 40, 4, 94, 8, 82, 93, 70, 27, 62, 56, 31, 30, 64, 86, 16, 61, 97, 5, 36, 20, 41, 53, 73, 51, 84, 70, 63, 57, 89, 59, 90, 37, 39, 91, 65, 24, 7, 78, 11, 65, 7, 56, 63, 40, 6, 90, 92, 14, 32, 41, 40, 99, 6, 72, 29, 94, 83, 22, 3, 65, 27, 48, 1, 12, 9, 68, 93, 20, 26, 95, 99, 54, 99, 60, 79, 3, 25, 83, 32, 96, 50, 25, 71, 76, 63, 78, 43, 21, 15, 1, 68, 100, 46, 70, 25, 29, 77, 55, 68, 59, 50, 61, 45, 47, 74, 84, 95, 62, 31, 49, 45, 40, 21, 37, 62, 72, 30, 77, 22, 3, 91, 89, 68, 2, 5, 21, 49, 26, 26, 94, 75, 48, 99, 50, 58, 76, 79, 100, 36, 37, 76, 24, 32, 68, 13, 1, 19, 6, 70, 97, 36, 13, 73, 84, 16, 92, 63, 90, 23, 59, 85, 6, 65, 60, 39, 10, 43, 14, 97, 51, 38, 43, 47, 3, 82, 59, 58, 51, 86, 3, 11, 70, 83, 55, 90, 20, 85, 46, 14, 30, 84, 38, 68, 22, 75, 59, 88, 93, 99, 46, 2, 59, 35, 67, 32, 45, 88, 98, 20, 25, 30, 67, 4, 96, 80, 21, 29, 82, 41, 36, 22, 47, 61, 30, 59, 81, 71, 97, 81, 62, 95, 100, 25, 3, 4, 31, 85, 13, 77, 29, 30, 66, 65, 23, 28, 27, 39, 77, 44, 62, 89, 96, 93, 10, 89, 28, 53, 33, 49, 53, 92, 11, 31, 36, 17, 52, 23, 92, 54, 81, 40, 39, 60, 42, 42, 15, 47, 39, 91, 88, 69, 46, 11, 61, 4, 69, 40, 36, 72, 100, 5, 30, 38, 9, 30, 90, 89, 37, 1, 6, 47, 91, 88, 58, 79, 6, 30, 46, 18, 38, 21, 85, 76, 69, 56, 55, 30, 18, 49, 76, 100, 29, 42, 100, 41, 79, 22, 11, 89, 83, 5, 41, 72, 100, 3, 22, 95, 43, 69, 2, 70, 72, 71, 56, 28, 58, 100, 82, 5, 17, 6, 1, 41, 98, 67, 21, 85, 72, 12, 25, 27, 88, 45, 35, 29, 33, 84, 32, 77, 67, 2, 83, 2, 62, 50, 31, 62, 5, 83, 10, 35, 52, 82, 27, 52, 93, 54, 54, 58, 50, 61, 61, 35, 65, 64, 28, 7, 81, 55, 17, 33, 9, 33, 3, 90, 35, 15, 97, 36, 66, 91, 66, 70, 77, 49, 27, 93, 100, 36, 66, 85, 28, 20, 81, 17, 96, 70, 80, 38, 85, 34, 21, 2, 6, 35, 48, 64, 72, 43, 86, 25, 29, 24, 74, 7, 50, 36, 49, 34, 15, 26, 12, 97, 10, 89, 15, 35, 70, 86, 30, 53, 71, 45, 32, 51, 40, 53, 29, 73, 93, 55, 48, 30, 6, 31, 38, 93, 21, 53, 7, 80, 65, 62, 75, 20, 85, 58, 27, 40, 68, 11, 29, 57, 5, 67, 14, 66, 48, 40, 75, 25, 69, 77, 5, 97, 67, 12, 74, 44, 38, 10, 23, 81, 18, 8, 80, 48, 71, 60, 97, 33, 58, 2, 76, 90, 2, 53, 77, 93, 79, 31, 29, 8, 21, 27, 90, 18, 13, 88, 4, 64, 39, 96, 48, 63, 31, 32, 9, 72, 22, 22, 13, 10, 43, 82, 86, 26, 88, 21, 76, 73, 53, 19, 95, 66, 94, 46, 8, 65, 65, 63, 65, 3, 65, 8, 37, 59, 43, 32, 37, 43, 34, 76, 76, 40, 76, 41, 86, 80, 21, 71, 34, 44, 3, 27, 34, 67, 34, 36, 59, 65, 100, 33, 85, 61, 38, 58, 8, 44, 91, 54, 95, 26, 5, 69, 5, 94, 73, 5, 58, 1, 55, 100, 28, 74, 90, 42, 48, 46, 6, 100, 28, 73, 91, 82, 28, 78, 9, 8, 20, 32, 6, 93, 84, 88, 33, 15, 93, 42, 56, 38, 8, 81, 78, 61, 36, 55, 100, 80, 100, 89, 7, 74, 89, 91, 17, 52, 29, 5, 7, 49, 93, 5, 68, 35, 52, 8, 56, 43, 100, 39, 99, 19, 31, 96, 5, 52, 29, 38, 10, 35, 86, 68, 56, 45, 69, 98, 86, 19, 81, 53, 73, 97, 85, 12, 39, 36, 38, 99, 9, 18, 80, 67, 42, 71, 70, 40, 3, 95, 61, 62, 64, 69, 74, 51, 51, 79, 47, 34, 68, 72, 24, 7, 51, 87, 32, 80, 7, 8, 78, 85, 62, 18, 19, 21, 60, 70, 37, 65, 65, 91, 94, 68, 30, 41, 75, 45, 37, 55, 71, 5, 33, 77, 15, 23, 4, 47, 86, 41, 20, 80, 36, 5, 83, 83, 17, 96, 70, 81, 64, 41, 53, 80, 10, 26, 15, 76, 69, 88, 79, 85, 60, 31, 35, 96, 91, 32, 18, 96, 32, 81, 5, 10, 30, 79, 50, 35, 90, 19, 47, 50, 79, 53, 57, 56, 9, 47, 72, 79, 58, 3, 57, 7, 38, 52, 29, 82, 46, 9, 22, 3, 18, 9, 41, 100, 5, 24, 92, 47, 75, 19, 83, 82, 9, 4, 20, 64, 73, 55, 54, 18, 35, 77, 59, 34, 10, 33, 86, 97, 23, 93, 24, 32, 58, 35, 33, 87, 39, 4, 38, 42, 74, 32, 28, 100, 34, 56, 25, 98, 53, 17, 93, 4, 98, 2, 6, 64, 67, 60, 5, 77, 34, 9, 79, 44, 42, 13, 27, 26, 80, 10, 7, 46, 67, 24, 19, 91, 53, 80, 83, 8, 67, 13, 48, 6, 37, 100, 95, 90, 93, 54, 75, 4, 16, 46, 25, 7, 13, 4, 10, 2, 46, 20, 97, 86, 17, 90, 84, 3, 38, 16, 23, 94, 12, 30, 52, 22, 38, 51, 89, 45, 90, 95, 34, 98, 15, 41, 84, 78, 86, 10, 84, 78, 22, 15, 77, 71, 51, 59, 77, 1, 17, 38, 50, 32, 50, 24, 45, 96, 2, 48, 35, 99, 95, 32, 21, 1, 30, 26, 14, 94, 47, 32, 17, 96, 57, 98, 12, 79, 48, 89, 67, 79, 59, 35, 36, 8, 59, 24, 66, 39, 14, 44, 14, 2, 20, 13, 83, 56, 1, 70, 71, 46, 64, 75, 58, 32, 23, 32, 48, 91, 62, 40, 84, 90, 78, 33, 43, 7, 29, 57, 94, 71, 34, 35, 91, 74, 36, 42, 56, 43, 16, 83, 11, 73, 5, 87, 16, 17, 56, 13, 54, 93, 20, 1, 71, 48, 66, 5, 66, 50, 91, 12, 70, 26, 67, 18, 50, 15, 65, 44, 18, 84, 39, 66, 43, 38, 1, 45, 35, 5, 24, 94, 42, 100, 71, 65, 63, 50, 49, 60, 12, 69, 16, 14, 85, 52, 64, 12, 9, 54, 5, 30, 24, 62, 51, 8, 75, 73, 91, 87, 15, 56, 60, 74, 52, 42, 66, 96, 9, 8, 57, 44, 79, 96, 90, 96, 46, 16, 89, 32, 16, 80, 17, 11, 17, 19, 28, 39, 22, 62, 48, 58, 6, 66, 15, 69, 60, 14, 63, 30, 31, 83, 63, 88, 27, 19, 38, 89, 50, 89, 11, 27, 90, 6, 94, 53, 24, 75, 69, 5, 4, 84, 13, 20, 32, 91, 61, 68, 8, 44, 71, 7, 39, 72, 14, 72, 86, 37, 65, 63, 30, 62, 91, 65, 65, 31, 44, 8, 78, 86, 61, 25, 89, 44, 18, 60, 95, 38, 61, 71, 35, 71, 89, 15, 16, 6, 14, 21, 16, 26, 57, 91, 83, 55, 44, 10, 14, 75, 1, 26, 32, 36, 62, 46, 24, 90, 88, 1, 7, 81, 59, 34, 40, 56, 70, 76, 36, 56, 85, 72, 86, 82, 49, 86, 54, 80, 1, 17, 31, 20, 5, 38, 2, 44, 7, 42, 96, 16, 26, 93, 45, 64, 49, 59, 92, 61, 29, 33, 93, 74, 36, 76, 100, 86, 59, 78, 94, 20, 100, 36, 69, 9, 18, 13, 70, 18, 100, 51, 60, 24, 31, 14, 76, 80, 4, 38, 42, 6, 30, 52, 21, 79, 82, 70, 10, 30, 83, 36, 73, 65, 4, 98, 23, 46, 79, 28, 32, 48, 24, 36, 11, 50, 85, 72, 10, 72, 29, 91, 9, 52, 29, 52, 61, 93, 38, 43, 50, 100, 52, 47, 42, 25, 96, 11, 75, 45, 38, 80, 57, 78, 28, 63, 42, 60, 20, 37, 62, 98, 24, 88, 65, 47, 37, 87, 23, 5, 46, 64, 35, 93, 10, 56, 5, 98, 95, 54, 7, 75, 72, 53, 95, 27, 81, 90, 14, 53, 64, 57, 41, 32, 64, 87, 51, 58, 79, 27, 62, 66, 76, 57, 61, 43, 47, 75, 88, 92, 5, 99, 93, 93, 94, 42, 93, 79, 2, 97, 90, 44, 39, 19, 100, 14, 59, 6, 41, 13, 55, 76, 23, 66, 10, 87, 51, 12, 16, 100, 34, 21, 5, 23, 100, 98, 84, 97, 84, 2, 49, 69, 21, 53, 13, 59, 9, 11, 48, 97, 6, 74, 14, 17, 68, 13, 34, 40, 5, 10, 75, 17, 20, 15, 7, 4, 57, 83, 1, 90, 21, 75, 83, 56, 27, 60, 58, 83, 89, 22, 95, 18, 8, 84, 85, 93, 67, 86, 81, 78, 35, 30, 64, 93, 38, 36, 68, 64, 47, 93, 83, 77, 3, 67, 26, 20, 70, 56, 19, 70, 34, 70, 3, 52, 73, 53, 3, 44, 15, 60, 83, 38, 73, 84, 10, 65, 41, 71, 84, 88, 14, 50, 84, 49, 35, 9, 62, 47, 92, 72, 69, 49, 94, 69, 36, 50, 40, 65, 48, 42, 60, 93, 23, 80, 11, 5, 58, 17, 25, 93, 55, 74, 41, 47, 58, 73, 74, 29, 58, 20, 18, 32, 73, 3, 33, 83, 93, 24, 57, 32, 65, 29, 31, 77, 90, 67, 21, 61, 14, 35, 31, 57, 78, 2, 49, 55, 70, 7, 94, 56, 29, 90, 100, 84, 40, 78, 95, 54, 56, 7, 23, 54, 12, 21, 14, 54, 9, 26, 63, 26, 100, 32, 26, 53, 60, 74, 37, 63, 38, 9, 95, 38, 24, 93, 50, 71, 16, 37, 39, 66, 85, 10, 3, 23, 29, 90, 65, 62, 10, 77, 57, 86, 13, 92, 74, 74, 47, 45, 52, 56, 64, 32, 88, 28, 93, 46, 72, 49, 41, 55, 25, 7, 32, 59, 78, 84, 2, 74, 34, 77, 42, 25, 82, 61, 38, 73, 89, 87, 13, 20, 38, 46, 6, 12, 37, 91, 58, 74, 87, 23, 19, 45, 1, 23, 81, 47, 38, 43, 15, 52, 69, 89, 19, 38, 65, 36, 18, 14, 28, 91, 24, 87, 14, 98, 31, 2, 81, 15, 72, 64, 29, 43, 25, 4, 10, 79, 23, 5, 69, 62, 38, 13, 50, 46, 98, 92, 60, 12, 2, 89, 55, 64, 10, 18, 83, 62, 49, 6, 90, 39, 79, 12, 51, 40, 74, 80, 49, 66, 17, 34, 83, 3, 56, 58, 43, 3, 96, 81, 89, 11, 37, 99, 68, 46, 14, 91, 11, 55, 82, 87, 5, 83, 46, 99, 20, 24, 89, 51, 33, 40, 4, 63, 91, 17, 28, 46, 92, 62, 82, 57, 62, 23, 65, 32, 40, 16, 36, 54, 35, 44, 9, 77, 24, 24, 17, 28, 86, 78, 67, 68, 93, 66, 57, 19, 72, 26, 96, 79, 98, 14, 55, 49, 5, 47, 16, 35, 96, 76, 24, 45, 85, 56, 78, 21, 3, 78, 30, 71, 9, 20, 33, 10, 90, 16, 81, 89, 42, 43, 49, 44, 93, 42, 21, 45, 31, 1, 5, 61, 8, 96, 30, 35, 71, 82, 66, 43, 34, 90, 35, 23, 38, 63, 43, 25, 82, 16, 52, 87, 35, 11, 72, 37, 78, 47, 50, 99, 39, 37, 12, 28, 96, 74, 82, 13, 26, 43, 34, 12, 56, 77, 22, 16, 21, 12, 10, 87, 98, 64, 23, 1, 97, 64, 1, 70, 82, 72, 76, 20, 78, 63, 5, 52, 96, 23, 64, 87, 44, 88, 20, 83, 43, 46, 57, 88, 94, 69, 77, 55, 69, 32, 27, 94, 74, 31, 20, 94, 1, 30, 92, 36, 10, 42, 36, 59, 17, 22, 22, 23, 23, 98, 27, 26, 82, 4, 94, 10, 50, 51, 89, 67, 56, 48, 84, 75, 93, 99, 46, 78, 77, 97, 48, 13, 48, 24, 18, 46, 80, 18, 38, 72, 29, 53, 34, 98, 52, 47, 93, 73, 70, 83, 7, 24, 67, 18, 76, 87, 88, 78, 86, 49, 73, 3, 36, 94, 73, 28, 3, 27, 81, 28, 55, 66, 24, 73, 48, 51, 45, 11, 6, 100, 4, 54, 4, 10, 5, 60, 3, 43, 98, 72, 5, 9, 69, 19, 14, 90, 24, 10, 10, 43, 98, 49, 52, 83, 2, 77, 75, 69, 96, 75, 45, 27, 67, 69, 26, 56, 43, 40, 75, 19, 21, 44, 49, 55, 6, 20, 33, 7, 18, 83, 71, 4, 29, 90, 87, 100, 11, 40, 50, 44, 67, 39, 44, 60, 9, 77, 9, 72, 72, 51, 82, 3, 34, 16, 58, 46, 77, 77, 79, 80, 66, 60, 10, 97, 4, 33, 97, 67, 47, 38, 63, 19, 87, 26, 9, 64, 12, 100, 27, 29, 82, 94, 21, 68, 93, 5, 67, 9, 52, 62, 24, 92, 30, 45, 99, 3, 37, 14, 62, 85, 67, 20, 20, 57, 100, 8, 22, 76, 63, 55, 84, 60, 94, 15, 66, 6, 100, 15, 25, 10, 58, 81, 49, 42, 24, 56, 58, 6, 69, 93, 6, 84, 88, 43, 59, 36, 57, 30, 88, 64, 2, 90, 47, 16, 35, 32, 10, 80, 12, 48, 12, 56, 11, 88, 33, 48, 33, 42, 63, 65, 8, 58, 24, 36, 67, 84, 33, 25, 84, 4, 41, 96, 81, 58, 33, 65, 25, 67, 44, 12, 34, 29, 87, 7, 68, 87, 66, 26, 91, 68, 54, 80, 59, 25, 93, 59, 44, 13, 99, 25, 1, 32, 61, 56, 51, 95, 90, 10, 67, 84, 14, 60, 5, 37, 47, 61, 40, 87, 40, 29, 29, 11, 29, 68, 38, 41, 97, 5, 30, 65, 21, 59, 85, 42, 48, 32, 96, 6, 72, 97, 19, 75, 100, 35, 49, 100, 34, 10, 20, 76, 2, 40, 16, 91, 40, 18, 25, 64, 25, 79, 3, 52, 8, 73, 14, 2, 93, 29, 74, 51, 78, 83, 32, 11, 73, 15, 45, 35, 54, 84, 66, 85, 47, 9, 10, 55, 40, 88, 83, 59, 37, 21, 59, 96, 9, 49, 60, 10, 12, 5, 51, 86, 57, 23, 35, 79, 1, 68, 11, 35, 79, 3, 40, 66, 48, 87, 29, 20, 9, 45, 1, 74, 4, 20, 21, 11, 79, 73, 55, 34, 7, 56, 56, 89, 84, 99, 25, 80, 86, 76, 37, 87, 58, 9, 62, 45, 62, 32, 77, 60, 59, 32, 53, 92, 43, 66, 86, 67, 76, 23, 11, 8, 26, 55, 79, 54, 42, 71, 33, 21, 18, 60, 90, 17, 96, 76, 96, 4, 17, 19, 11, 87, 22, 58, 29, 53, 8, 95, 66, 85, 98, 68, 3, 82, 71, 20, 48, 5, 70, 37, 11, 34, 20, 32, 30, 8, 98, 16, 65, 100, 34, 38, 30, 22, 43, 3, 26, 11, 54, 53, 39, 26, 5, 99, 3, 85, 70, 100, 71, 53, 71, 20, 53, 61, 70, 61, 24, 62, 9, 49, 9, 58, 72, 72, 47, 44, 46, 69, 75, 51, 37, 6, 19, 68, 90, 44, 95, 2, 25, 28, 3, 25, 93, 84, 96, 67, 79, 28, 96, 21, 88, 11, 67, 17, 95, 52, 22, 12, 91, 62, 91, 54, 50, 65, 52, 77, 93, 72, 95, 39, 99, 94, 9, 34, 70, 41, 11, 75, 24, 79, 61, 50, 72, 16, 46, 82, 86, 88, 86, 88, 75, 13, 92, 73, 86, 52, 16, 63, 18, 38, 40, 37, 94, 99, 99, 58, 78, 78, 97, 59, 89, 87, 75, 80, 44, 70, 7, 82, 9, 66, 99, 29, 62, 44, 46, 64, 67, 35, 75, 8, 60, 44, 72, 78, 86, 32, 71, 22, 79, 85, 7, 50, 52, 91, 76, 83, 89, 62, 75, 60, 58, 64, 17, 98, 21, 85, 2, 89, 50, 55, 54, 46, 79, 42, 82, 89, 48, 28, 81, 3, 23, 40, 43, 99, 23, 34, 81, 56, 71, 49, 86, 66, 26, 15, 80, 75, 95, 61, 84, 84, 66, 98, 80, 64, 52, 2, 71, 42, 73, 57, 38, 100, 29, 36, 95, 3, 52, 81, 82, 48, 26, 53, 100, 30, 95, 93, 90, 77, 49, 99, 10, 10, 65, 44, 12, 96, 100, 17, 21, 43, 12, 85, 89, 66, 31, 62, 6, 10, 20, 66, 61, 59, 45, 28, 53, 67, 54, 79, 38, 56, 89, 92, 22, 1, 71, 49, 44, 29, 70, 37, 17, 1, 70, 79, 97, 34, 45, 50, 76, 79, 69, 7, 17, 58, 13, 88, 51, 66, 62, 33, 94, 77, 89, 30, 28, 51, 98, 45, 50, 32, 20, 93, 24, 9, 27, 8, 2, 98, 25, 26, 96, 69, 32, 17, 48, 84, 91, 81, 10, 89, 19, 5, 33, 92, 89, 65, 42, 89, 38, 45, 4, 14, 43, 3, 75, 50, 62, 68, 79, 72, 46, 20, 40, 31, 66, 55, 6, 32, 89, 57, 68, 65, 71, 78, 30, 66, 10, 95, 67, 75, 15, 76, 76, 84, 34, 77, 11, 66, 38, 27, 58, 14, 2, 70, 49, 59, 15, 59, 42, 91, 7, 84, 32, 28, 43, 63, 42, 73, 15, 54, 98, 44, 43, 78, 12, 34, 10, 36, 45, 14, 38, 84, 74, 42, 19, 56, 15, 92, 88, 79, 27, 74, 60, 46, 17, 54, 21, 48, 34, 94, 47, 24, 5, 52, 86, 46, 71, 71, 42, 83, 85, 61, 7, 29, 47, 25, 32, 63, 32, 14, 74, 92, 65, 96, 90, 50, 40, 21, 77, 75, 100, 11, 31, 98, 44, 8, 11, 97, 93, 4, 67, 31, 9, 97, 7, 8, 80, 25, 88, 35, 38, 79, 22, 73, 83, 95, 41, 35, 71, 7, 88, 25, 15, 36, 79, 89, 25, 50, 43, 65, 58, 62, 33, 80, 100, 65, 30, 41, 18, 82, 91, 46, 70, 80, 79, 20, 58, 39, 12, 27, 60, 48, 86, 90, 24, 43, 16, 29, 73, 99, 23, 24, 96, 17, 100, 13, 56, 56, 48, 34, 41, 90, 76, 25, 48, 68, 7, 21, 55, 55, 41, 43, 53, 20, 34, 34, 12, 23, 63, 85, 58, 59, 97, 12, 38, 26, 38, 8, 95, 73, 31, 59, 95, 8, 75, 87, 17, 96, 38, 38, 85, 87, 53, 21, 70, 93, 49, 62, 44, 9, 28, 70, 17, 95, 69, 64, 70, 36, 44, 59, 51, 12, 54, 42, 20, 64, 81, 38, 80, 48, 75, 72, 94, 88, 81, 17, 86, 95, 65, 69, 99, 86, 58, 21, 24, 9, 21, 18, 97, 37, 99, 7, 61, 37, 11, 31, 2, 100, 35, 82, 78, 70, 3, 12, 15, 23, 25, 41, 54, 36, 88, 15, 81, 63, 24, 37, 48, 16, 7, 70, 61, 57, 14, 53, 81, 34, 50, 13, 68, 71, 77, 8, 2, 84, 10, 10, 45, 94, 37, 40, 3, 21, 59, 36, 11, 77, 9, 80, 68, 91, 41, 68, 95, 33, 24, 45, 32, 95, 83, 93, 31, 86, 50, 94, 100, 4, 14, 91, 86, 28, 6, 12, 69, 35, 24, 92, 38, 98, 24, 87, 11, 70, 58, 61, 10, 35, 23, 83, 18, 63, 24, 96, 95, 35, 11, 32, 12, 55, 86, 50, 50, 99, 59, 8, 3, 35, 40, 79, 75, 31, 90, 23, 76, 34, 66, 27, 90, 80, 9, 88, 34, 30, 46, 31, 17, 26, 31, 2, 15, 25, 54, 72, 95, 82, 99, 99, 26, 74, 4, 41, 54, 84, 76, 18, 93, 54, 31, 65, 23, 2, 31, 94, 78, 4, 51, 91, 44, 5, 17, 92, 46, 8, 30, 31, 38, 77, 47, 4, 3, 5, 92, 80, 30, 64, 70, 96, 50, 7, 47, 15, 66, 60, 31, 68, 100, 34, 70, 87, 66, 8, 96, 78, 98, 22, 35, 70, 70, 55, 21, 24, 94, 32, 11, 42, 16, 23, 70, 35, 68, 69, 81, 100, 66, 25, 66, 46, 59, 8, 40, 26, 90, 13, 1, 50, 85, 57, 94, 15, 60, 68, 35, 78, 58, 47, 32, 35, 99, 74, 5, 66, 19, 57, 21, 96, 98, 67, 76, 37, 64, 78, 40, 89, 47, 42, 36, 50, 35, 37, 94, 40, 29, 88, 44, 16, 43, 28, 49, 69, 56, 54, 32, 96, 39, 72, 35, 85, 97, 100, 64, 61, 55, 4, 9, 57, 4, 17, 86, 18, 65, 31, 67, 97, 74, 46, 87, 81, 28, 7, 26, 29, 30, 100, 23, 18, 41, 62, 84, 69, 61, 7, 2, 30, 34, 58, 88, 81, 90, 41, 77, 13, 18, 94, 20, 51, 28, 38, 45, 61, 17, 81, 75, 7, 96, 58, 4, 1, 81, 13, 28, 90, 35, 89, 59, 59, 81, 43, 72, 59, 57, 44, 64, 40, 25, 16, 34, 69, 56, 4, 95, 43, 48, 57, 49, 30, 11, 2, 33, 3, 42, 24, 81, 98, 99, 53, 81, 86, 56, 72, 29, 42, 62, 14, 81, 68, 60, 79, 90, 17, 55, 71, 17, 6, 65, 72, 49, 84, 72, 69, 17, 19, 67, 45, 44, 55, 90, 47, 71, 54, 19, 57, 34, 5, 27, 10, 80, 39, 13, 40, 72, 37, 92, 16, 47, 63, 39, 9, 78, 50, 47, 3, 16, 4, 62, 73, 66, 20, 62, 3, 94, 99, 92, 7, 23, 37, 40, 55, 19, 27, 73, 48, 44, 24, 12, 50, 86, 94, 7, 70, 96, 27, 97, 9, 87, 64, 78, 99, 8, 89, 93, 96, 43, 67, 4, 31, 77, 92, 2, 26, 48, 42, 36, 57, 63, 1, 60, 97, 1, 38, 27, 71, 39, 44, 94, 4, 17, 76, 83, 31, 30, 68, 87, 93, 9, 8, 88, 96, 18, 100, 89, 38, 19, 72, 97, 9, 53, 33, 42, 27, 27, 2, 27, 50, 45, 83, 39, 52, 83, 98, 48, 15, 39, 28, 68, 56, 82, 79, 100, 61, 37, 58, 76, 16, 81, 84, 71, 54, 5, 21, 73, 41, 96, 18, 69, 1, 5, 16, 15, 71, 55, 91, 13, 84, 98, 67, 57, 55, 49, 46, 52, 32, 76, 60, 85, 4, 73, 99, 81, 61, 40, 51, 13, 40, 66, 87, 66, 86, 7, 43, 34, 98, 14, 51, 93, 14, 61, 48, 19, 40, 11, 78, 29, 43, 90, 57, 67, 26, 83, 79, 8, 34, 68, 27, 15, 20, 100, 9, 79, 89, 30, 3, 45, 5, 20, 65, 87, 4, 81, 41, 100, 71, 20, 6, 38, 31, 84, 56, 77, 12, 78, 80, 32, 20, 56, 57, 38, 71, 29, 20, 76, 76, 24, 30, 91, 8, 83, 29, 49, 53, 17, 39, 16, 60, 25, 14, 36, 65, 87, 48, 95, 82, 26, 2, 34, 16, 23, 83, 7, 9, 21, 50, 44, 67, 28, 50, 28, 34, 88, 19, 30, 85, 28, 83, 99, 98, 10, 21, 63, 15, 60, 76, 58, 90, 68, 87, 19, 62, 52, 76, 94, 23, 30, 55, 33, 55, 89, 25, 80, 76, 5, 12, 14, 64, 46, 6, 58, 68, 2, 77, 24, 24, 97, 10, 88, 83, 46, 24, 43, 95, 90, 16, 59, 41, 93, 48, 38, 47, 11, 90, 53, 45, 56, 57, 23, 18, 52, 43, 85, 71, 12, 22, 24, 71, 92, 54, 96, 1, 54, 6, 39, 1, 65, 31, 88, 63, 80, 75, 43, 82, 14, 7, 28, 3, 13, 13, 13, 5, 83, 34, 55, 76, 41, 62, 13, 68, 15, 100, 15, 91, 83, 63, 65, 72, 44, 4, 46, 6, 4, 70, 51, 55, 61, 93, 70, 73, 49, 52, 84, 26, 30, 76, 81, 75, 20, 36, 79, 99, 15, 37, 29, 40, 49, 74, 8, 98, 80, 87, 21, 77, 50, 29, 12, 79, 85, 58, 60, 2, 1, 6, 20, 31, 3, 39, 12, 36, 43, 25, 20, 76, 1, 76, 79, 23, 50, 20, 65, 42, 72, 29, 29, 39, 14, 95, 43, 52, 47, 93, 58, 21, 88, 49, 84, 32, 4, 2, 69, 67, 12, 1, 33, 47, 40, 70, 48, 69, 64, 65, 87, 5, 17, 72, 48, 93, 3, 80, 34, 28, 53, 51, 13, 44, 66, 96, 45, 19, 89, 76, 93, 39, 20, 78, 86, 6, 4, 43, 74, 2, 41, 39, 21, 68, 5, 2, 64, 25, 29, 13, 50, 49, 71, 67, 10, 20, 96, 90, 75, 42, 53, 83, 9, 60, 78, 57, 26, 55, 96, 99, 57, 11, 38, 96, 8, 28, 68, 26, 50, 8, 52, 49, 17, 66, 28, 68, 74, 88, 22, 70, 43, 42, 20, 33, 84, 42, 25, 50, 27, 71, 15, 93, 22, 43, 67, 96, 33, 30, 42, 99, 36, 56, 7, 1, 6, 57, 33, 41, 80, 5, 15, 63, 44, 44, 18, 87, 90, 4, 91, 96, 78, 80, 94, 29, 56, 15, 66, 49, 52, 44, 70, 55, 21, 19, 99, 9, 97, 22, 53, 47, 78, 83, 3, 98, 59, 97, 9, 4, 17, 81, 77, 45, 72, 46, 41, 91, 81, 67, 26, 10, 39, 39, 39, 64, 25, 32, 23, 34, 13, 4, 4, 79, 60, 20, 23, 24, 69, 92, 42, 86, 99, 87, 4, 48, 9, 43, 63, 35, 78, 55, 54, 26, 4, 44, 43, 17, 100, 13, 4, 24, 23, 94, 80, 54, 4, 76, 74, 93, 39, 10, 62, 4, 72, 90, 61, 44, 77, 47, 5, 74, 70, 25, 37, 98, 38, 96, 57, 39, 64, 24, 45, 11, 38, 21, 67, 82, 71, 65, 56, 85, 97, 75, 58, 57, 77, 81, 81, 26, 1, 29, 4, 51, 18, 26, 47, 86, 84, 7, 80, 97, 72, 74, 68, 58, 31, 12, 38, 3, 39, 38, 71, 25, 97, 93, 42, 66, 59, 26, 87, 2, 21, 37, 48, 14, 48, 53, 25, 75, 85, 84, 52, 58, 19, 35, 4, 29, 27, 88, 13, 22, 69, 1, 45, 17, 64, 99, 64, 26, 64, 48, 92, 34, 80, 91, 73, 23, 86, 31, 47, 99, 50, 68, 10, 76, 38, 62, 62, 19, 64, 72, 53, 20, 76, 23, 76, 42, 10, 98, 90, 72, 90, 86, 86, 3, 100, 10, 30, 38, 68, 63, 3, 66, 71, 45, 2, 24, 24, 99, 10, 77, 9, 74, 95, 12, 35, 56, 86, 48, 52, 18, 82, 12, 99, 39, 36, 82, 23, 94, 89, 64, 46, 87, 13, 93, 78, 1, 76, 72, 77, 30, 24, 20, 88, 84, 22, 75, 64, 68, 94, 44, 61, 11, 20, 17, 80, 85, 66, 94, 49, 93, 83, 52, 75, 68, 77, 44, 45, 85, 6, 60, 62, 92, 87, 35, 79, 54, 93, 58, 39, 58, 57, 63, 15, 59, 67, 28, 31, 14, 75, 72, 14, 47, 50, 81, 2, 88, 57, 8, 41, 37, 83, 27, 25, 55, 46, 18, 27, 70, 67, 88, 86, 96, 15, 93, 38, 91, 82, 64, 26, 72, 4, 16, 100, 7, 83, 83, 92, 25, 79, 34, 33, 100, 74, 3, 39, 94, 77, 100, 86, 6, 64, 42, 45, 3, 30, 78, 25, 7, 84, 22, 5, 7, 10, 96, 2, 6, 79, 41, 14, 81, 86, 78, 36, 12, 26, 88, 5, 54, 54, 11, 43, 3, 43, 43, 77, 77, 12, 38, 45, 65, 57, 29, 38, 77, 12, 71, 21, 48, 99, 13, 99, 17, 1, 75, 90, 68, 95, 49, 31, 71, 4, 41, 5, 39, 52, 63, 47, 10, 27, 44, 24, 54, 4, 75, 54, 88, 95, 40, 86, 29, 15, 78, 6, 45, 49, 24, 86, 12, 18, 11, 56, 24, 38, 11, 58, 94, 10, 84, 41, 75, 76, 42, 70, 6, 79, 35, 8, 28, 43, 10, 28, 4, 24, 60, 69, 12, 56, 9, 88, 60, 48, 12, 85, 82, 51, 57, 66, 62, 7, 67, 67, 22, 38, 56, 75, 67, 21, 96, 52, 38, 11, 100, 68, 78, 65, 21, 15, 93, 10, 64, 18, 51, 6, 98, 35, 33, 71, 64, 29, 97, 94, 34, 16, 14, 52, 5, 100, 45, 80, 3, 11, 14, 13, 51, 59, 84, 13, 49, 79, 2, 92, 92, 15, 82, 64, 5, 34, 64, 96, 73, 85, 3, 77, 61, 82, 96, 16, 22, 35, 69, 23, 97, 70, 74, 25, 6, 83, 88, 67, 85, 69, 18, 8, 45, 17, 71, 79, 92, 71, 79, 19, 72, 48, 84, 1, 30, 49, 13, 38, 5, 51, 57, 35, 49, 91, 66, 54, 44, 59, 81, 66, 6, 38, 36, 82, 68, 25, 7, 55, 41, 25, 61, 18, 43, 45, 36, 32, 54, 4, 84, 5, 93, 21, 3, 32, 77, 55, 31, 29, 53, 5, 15, 28, 97, 99, 5, 88, 19, 24, 64, 48, 91, 56, 23, 62, 50, 17, 64, 46, 3, 21, 98, 85, 50, 75, 44, 68, 26, 38, 49, 90, 96, 22, 38, 77, 91, 57, 86, 77, 46, 55, 43, 23, 65, 13, 9, 1, 19, 99, 22, 86, 55, 24, 70, 90, 69, 90, 15, 51, 87, 22, 12, 67, 38, 89, 86, 52, 39, 53, 29, 92, 51, 44, 93, 69, 46, 23, 42, 75, 11, 72, 31, 70, 65, 79, 58, 61, 57, 19, 22, 42, 95, 55, 21, 38, 50, 13, 30, 94, 3, 65, 86, 3, 54, 100, 62, 62, 55, 49, 78, 17, 39, 10, 89, 16, 2, 10, 80, 95, 63, 85, 32, 54, 99, 42, 75, 95, 38, 35, 56, 66, 89, 43, 93, 7, 25, 83, 60, 13, 62, 40, 59, 41, 4, 17, 21, 45, 91, 87, 9, 57, 93, 14, 86, 24, 56, 8, 66, 12, 98, 23, 7, 51, 92, 98, 15, 2, 55, 59, 88, 68, 14, 96, 4, 89, 9, 21, 69, 16, 30, 40, 9, 44, 56, 42, 82, 47, 66, 4, 86, 25, 66, 47, 89, 21, 95, 13, 32, 24, 26, 67, 49, 40, 63, 75, 85, 90, 24, 6, 37, 6, 5, 51, 22, 71, 98, 41, 39, 41, 15, 34, 45, 25, 10, 56, 76, 57, 76, 56, 71, 18, 21, 100, 61, 11, 22, 75, 18, 41, 58, 31, 91, 77, 15, 92, 22, 52, 83, 75, 37, 87, 11, 60, 9, 34, 93, 5, 42, 34, 70, 81, 5, 18, 6, 100, 19, 69, 90, 17, 98, 73, 86, 62, 3, 44, 17, 90, 3, 19, 56, 30, 98, 24, 84, 13, 25, 56, 50, 15, 30, 83, 50, 60, 18, 49, 96, 22, 6, 30, 84, 13, 74, 89, 92, 74, 56, 22, 67, 65, 40, 95, 62, 16, 22, 46, 35, 41, 44, 43, 96, 8, 74, 15, 42, 69, 9, 67, 45, 18, 65, 63, 12, 62, 25, 82, 98, 3, 74, 7, 61, 93, 89, 17, 32, 1, 13, 59, 43, 58, 25, 86, 26, 49, 49, 70, 25, 76, 87, 92, 27, 76, 62, 27, 35, 32, 4, 31, 48, 8, 42, 65, 65, 82, 60, 1, 50, 64, 16, 49, 12, 29, 46, 66, 59, 55, 35, 34, 3, 66, 81, 76, 26, 76, 2, 2, 71, 63, 47, 92, 38, 64, 65, 5, 57, 3, 64, 12, 7, 97, 80, 47, 83, 35, 20, 45, 12, 74, 31, 36, 94, 90, 88, 78, 41, 70, 51, 95, 35, 50, 72, 87, 48, 45, 86, 87, 15, 33, 11, 88, 59, 50, 82, 66, 86, 86, 4, 58, 1, 18, 37, 99, 32, 35, 78, 85, 67, 14, 56, 81, 61, 15, 22, 95, 79, 33, 49, 34, 68, 71, 6, 72, 60, 85, 48, 91, 49, 16, 76, 73, 13, 80, 17, 23, 30, 71, 81, 14, 75, 77, 97, 91, 89, 14, 95, 67, 12, 85, 23, 45, 35, 11, 26, 35, 53, 14, 73, 43, 58, 9, 75, 24, 58, 39, 51, 42, 8, 73, 73, 81, 85, 95, 5, 78, 55, 27, 89, 36, 35, 19, 70, 9, 44, 1, 57, 15, 46, 71, 75, 8, 16, 87, 74, 51, 13, 26, 79, 35, 57, 86, 39, 57, 67, 23, 32, 77, 79, 57, 14, 91, 82, 80, 40, 28, 76, 32, 39, 49, 10, 7, 28, 60, 12, 2, 90, 70, 20, 22, 50, 44, 81, 85, 45, 21, 68, 90, 85, 60, 59, 7, 5, 90, 30, 73, 59, 33, 95, 77, 73, 18, 94, 95, 53, 38, 22, 52, 53, 47, 2, 12, 100, 54, 82, 57, 38, 85, 53, 41, 18, 90, 68, 89, 56, 82, 95, 86, 92, 51, 12, 20, 61, 5, 35, 65, 9, 13, 67, 77, 41, 27, 2, 97, 26, 75, 82, 11, 5, 78, 22, 61, 96, 55, 53, 54, 99, 98, 23, 2, 54, 26, 26, 94, 51, 34, 8, 77, 83, 35, 35, 18, 1, 37, 79, 56, 9, 47, 48, 1, 32, 44, 45, 30, 88, 1, 52, 25, 12, 60, 71, 62, 72, 18, 73, 89, 18, 80, 97, 96, 43, 96, 59, 99, 64, 71, 94, 71, 29, 48, 8, 54, 71, 86, 31, 15, 36, 46, 29, 27, 37, 56, 52, 33, 23, 46, 80, 22, 100, 9, 98, 40, 9, 55, 32, 18, 43, 64, 75, 54, 62, 56, 1, 63, 1, 54, 55, 69, 86, 58, 30, 80, 35, 59, 45, 28, 38, 9, 96, 70, 77, 28, 4, 64, 74, 33, 60, 41, 91, 41, 60, 14, 85, 41, 91, 16, 82, 91, 35, 19, 26, 78, 83, 24, 69, 83, 74, 20, 82, 72, 29, 28, 77, 36, 39, 30, 54, 91, 49, 61, 3, 38, 67, 92, 93, 68, 74, 79, 93, 9, 62, 66, 75, 99, 38, 11, 39, 18, 32, 74, 74, 42, 59, 4, 61, 71, 69, 15, 74, 13, 37, 95, 14, 47, 79, 43, 51, 87, 63, 93, 2, 58, 39, 57, 13, 11, 17, 42, 16, 62, 4, 71, 44, 65, 37, 21, 16, 89, 10, 21, 89, 64, 76, 12, 35, 64, 20, 81, 76, 90, 36, 14, 9, 1, 65, 29, 90, 52, 78, 88, 7, 11, 72, 78, 19, 70, 51, 93, 85, 48, 28, 87, 49, 64, 29, 37, 54, 85, 44, 66, 85, 63, 22, 66, 81, 31, 6, 30, 7, 75, 93, 17, 18, 91, 77, 77, 29, 9, 95, 16, 26, 18, 2, 30, 61, 76, 55, 77, 66, 86, 68, 49, 100, 64, 7, 39, 1, 3, 26, 30, 73, 49, 96, 75, 83, 60, 7, 31, 74, 39, 59, 70, 12, 12, 17, 82, 78, 47, 65, 55, 71, 51, 27, 44, 84, 83, 38, 26, 5, 97, 77, 70, 2, 25, 87, 27, 59, 99, 70, 83, 28, 58, 75, 70, 60, 3, 20, 11, 33, 83, 57, 67, 13, 95, 69, 92, 6, 21, 22, 99, 77, 79, 37, 45, 34, 8, 17, 93, 43, 37, 92, 94, 53, 43, 24, 26, 3, 65, 85, 53, 28, 44, 62, 1, 89, 8, 33, 73, 82, 43, 75, 20, 38, 67, 13, 50, 43, 65, 41, 49, 41, 42, 25, 58, 53, 20, 19, 26, 85, 15, 36, 95, 1, 43, 95, 19, 94, 8, 24, 85, 65, 47, 45, 93, 13, 48, 10, 44, 22, 99, 15, 28, 98, 79, 15, 71, 79, 83, 85, 53, 9, 74, 68, 81, 91, 71, 58, 16, 38, 42, 91, 83, 92, 70, 41, 81, 59, 67, 30, 60, 57, 90, 85, 93, 65, 57, 41, 4, 37, 80, 70, 35, 63, 68, 84, 40, 98, 52, 18, 67, 17, 56, 100, 8, 61, 64, 77, 5, 88, 21, 44, 86, 18, 35, 67, 87, 34, 35, 17, 86, 69, 83, 100, 84, 85, 98, 8, 39, 11, 90, 99, 46, 29, 90, 23, 50, 63, 40, 95, 93, 49, 100, 5, 64, 71, 43, 41, 58, 27, 81, 49, 82, 47, 67, 8, 98, 57, 10, 82, 16, 68, 21, 5, 75, 92, 64, 39, 97, 20, 81, 41, 97, 16, 6, 42, 9, 86, 23, 31, 28, 7, 47, 50, 85, 24, 73, 81, 50, 81, 93, 44, 3, 59, 19, 72, 47, 83, 15, 9, 56, 38, 44, 46, 20, 77, 41, 81, 29, 74, 19, 6, 81, 96, 58, 28, 94, 80, 54, 87, 19, 19, 48, 9, 63, 96, 76, 18, 62, 21, 54, 48, 66, 65, 69, 23, 92, 4, 82, 45, 52, 76, 48, 92, 58, 53, 65, 91, 56, 58, 60, 58, 25, 89, 64, 97, 29, 84, 87, 89, 41, 79, 49, 78, 21, 96, 70, 25, 28, 80, 44, 70, 24, 25, 62, 23, 49, 35, 44, 11, 27, 73, 11, 81, 93, 57, 27, 66, 3, 12, 91, 62, 31, 15, 61, 25, 36, 26, 97, 40, 68, 59, 3, 27, 5, 30, 85, 40, 68, 59, 22, 49, 38, 85, 7, 22, 86, 40, 89, 83, 35, 13, 69, 40, 20, 60, 17, 92, 66, 23, 36, 50, 49, 54, 92, 52, 22, 4, 21, 19, 93, 61, 97, 2, 98, 46, 33, 15, 96, 22, 34, 3, 32, 72, 38, 96, 6, 58, 13, 79, 21, 24, 59, 32, 32, 68, 99, 58, 69, 85, 65, 66, 91, 64, 65, 22, 17, 55, 31, 44, 2, 70, 2, 49, 62, 86, 32, 57, 53, 100, 69, 85, 76, 25, 44, 35, 70, 71, 15, 25, 57, 50, 12, 26, 19, 51, 27, 41, 46, 44, 94, 95, 46, 53, 45, 69, 37, 24, 63, 39, 4, 92, 17, 37, 50, 59, 97, 18, 41, 89, 16, 93, 45, 82, 67, 34, 43, 94, 26, 33, 70, 66, 41, 55, 76, 71, 8, 7, 25, 66, 6, 71, 90, 15, 11, 83, 39, 55, 14, 44, 24, 49, 86, 90, 82, 35, 55, 44, 31, 7, 1, 88, 24, 73, 46, 15, 6, 42, 9, 67, 14, 74, 50, 53, 28, 6, 39, 11, 85, 68, 43, 17, 7, 91, 25, 68, 40, 71, 53, 58, 38, 13, 56, 99, 87, 76, 36, 85, 1, 57, 47, 75, 88, 84, 17, 73, 97, 68, 72, 81, 58, 45, 18, 15, 36, 72, 58, 60, 13, 21, 98, 3, 21, 43, 33, 74, 63, 98, 70, 98, 21, 89, 18, 11, 12, 95, 11, 43, 80, 52, 80, 57, 90, 1, 56, 4, 16, 91, 67, 84, 13, 95, 64, 34, 57, 8, 9, 7, 99, 71, 95, 28, 19, 19, 85, 47, 23, 79, 53, 98, 93, 29, 50, 15, 73, 86, 53, 51, 83, 47, 32, 22, 46, 94, 58, 33, 48, 13, 10, 95, 95, 97, 34, 29, 52, 33, 99, 28, 48, 17, 86, 9, 25, 26, 88, 47, 35, 80, 75, 73, 57, 88, 6, 71, 8, 89, 17, 43, 38, 85, 49, 22, 54, 77, 65, 95, 91, 80, 6, 69, 57, 9, 99, 6, 52, 86, 75, 75, 35, 30, 25, 69, 30, 89, 91, 22, 73, 39, 58, 55, 69, 15, 32, 85, 92, 65, 19, 58, 18, 70, 4, 38, 35, 87, 69, 47, 12, 40, 27, 60, 8, 82, 98, 20, 24, 98, 19, 61, 29, 93, 50, 38, 72, 91, 45, 72, 18, 40, 4, 75, 22, 89, 6, 58, 79, 94, 69, 6, 47, 71, 99, 76, 44, 72, 69, 94, 32, 75, 2, 92, 85, 43, 64, 91, 16, 95, 16, 30, 33, 20, 56, 96, 24, 23, 7, 9, 10, 45, 79, 33, 84, 66, 77, 56, 23, 61, 47, 43, 47, 20, 23, 10, 11, 35, 89, 80, 99, 50, 17, 4, 5, 62, 73, 44, 76, 33, 83, 35, 26, 76, 2, 40, 1, 40, 52, 51, 33, 32, 80, 81, 23, 48, 25, 89, 96, 54, 12, 55, 73, 100, 95, 100, 60, 86, 31, 40, 77, 54, 91, 62, 17, 25, 74, 18, 96, 78, 95, 99, 73, 60, 10, 5, 56, 28, 44, 55, 95, 75, 93, 33, 63, 85, 64, 24, 35, 78, 38, 96, 93, 60, 67, 55, 76, 74, 24, 47, 1, 97, 17, 89, 78, 53, 24, 2, 92, 96, 55, 75, 68, 53, 82, 6, 81, 38, 4, 46, 46, 68, 96, 46, 37, 26, 79, 14, 53, 12, 28, 39, 1, 65, 73, 65, 69, 2, 5, 37, 59, 66, 99, 3, 66, 21, 19, 79, 55, 25, 37, 32, 75, 7, 22, 4, 72, 39, 57, 71, 92, 89, 71, 32, 54, 18, 42, 23, 60, 89, 97, 40, 69, 40, 2, 87, 1, 31, 35, 31, 92, 74, 67, 20, 43, 8, 65, 83, 99, 65, 47, 54, 85, 62, 25, 60, 76, 71, 73, 84, 61, 93, 89, 34, 93, 25, 67, 72, 60, 53, 69, 16, 41, 70, 75, 58, 63, 4, 54, 90, 93, 43, 75, 47, 63, 72, 98, 86, 55, 17, 85, 97, 61, 19, 71, 41, 61, 68, 59, 92, 81, 35, 23, 73, 41, 43, 65, 12, 36, 79, 81, 31, 90, 63, 35, 92, 89, 76, 43, 47, 7, 52, 50, 99, 41, 11, 75, 5, 16, 58, 87, 83, 34, 54, 43, 17, 98, 63, 70, 37, 20, 98, 27, 37, 46, 63, 68, 21, 59, 4, 39, 47, 56, 47, 24, 81, 48, 59, 95, 24, 89, 86, 94, 48, 57, 26, 88, 87, 73, 67, 18, 16, 86, 90, 93, 36, 78, 94, 53, 24, 46, 85, 6, 1, 27, 86, 34, 93, 41, 70, 23, 59, 42, 96, 22, 8, 92, 28, 38, 84, 60, 81, 65, 18, 62, 61, 29, 23, 21, 5, 95, 49, 55, 100, 65, 73, 88, 6, 98, 31, 67, 28, 24, 5, 83, 78, 50, 57, 16, 62, 84, 20, 53, 18, 43, 57, 39, 39, 16, 89, 63, 29, 25, 35, 73, 92, 12, 27, 65, 68, 42, 6, 3, 78, 100, 8, 58, 83, 1, 42, 56, 12, 3, 50, 17, 67, 8, 3, 10, 62, 32, 87, 57, 20, 48, 5, 99, 70, 7, 82, 47, 28, 4, 96, 38, 29, 5, 49, 49, 50, 13, 91, 19, 85, 18, 94, 20, 75, 87, 30, 86, 93, 49, 24, 5, 55, 35, 52, 1, 47, 30, 16, 54, 18, 33, 75, 27, 70, 89, 50, 75, 16, 3, 10, 18, 75, 43, 60, 32, 99, 59, 67, 44, 70, 54, 99, 19, 67, 14, 81, 83, 65, 61, 38, 76, 5, 87, 8, 86, 4, 4, 82, 30, 16, 63, 97, 53, 50, 80, 6, 70, 24, 70, 93, 90, 28, 31, 45, 74, 98, 10, 90, 100, 18, 22, 10, 96, 57, 50, 100, 2, 8, 66, 31, 75, 42, 21, 78, 89, 84, 69, 6, 54, 74, 54, 52, 9, 83, 64, 65, 3, 56, 30, 70, 99, 72, 74, 90, 67, 56, 85, 72, 33, 47, 84, 79, 54, 89, 72, 21, 41, 69, 37, 76, 75, 71, 98, 43, 28, 51, 28, 5, 29, 49, 31, 47, 59, 31, 65, 86, 50, 36, 6, 50, 47, 82, 54, 16, 13, 34, 50, 97, 65, 83, 84, 3, 55, 93, 20, 79, 68, 48, 63, 43, 70, 27, 37, 18, 53, 6, 59, 74, 10, 72, 8, 53, 79, 56, 1, 88, 54, 54, 43, 29, 15, 46, 74, 32, 10, 100, 75, 65, 9, 34, 51, 23, 32, 84, 76, 30, 6, 84, 94, 11, 71, 21, 27, 1, 48, 7, 25, 36, 16, 32, 38, 88, 98, 49, 10, 85, 24, 50, 10, 78, 31, 86, 42, 42, 5, 40, 50, 59, 27, 81, 75, 55, 72, 69, 68, 85, 58, 69, 2, 95, 2, 91, 11, 14, 30, 25, 50, 43, 1, 84, 98, 94, 89, 45, 18, 55, 18, 24, 8, 93, 94, 8, 85, 74, 81, 41, 26, 28, 85, 86, 91, 94, 94, 67, 86, 96, 92, 18, 50, 1, 17, 55, 76, 5, 25, 83, 84, 27, 62, 23, 55, 52, 80, 4, 37, 3, 61, 74, 70, 91, 32, 54, 12, 20, 66, 60, 85, 73, 16, 56, 4, 12, 12, 30, 39, 79, 79, 92, 39, 27, 66, 75, 36, 21, 85, 57, 15, 9, 67, 40, 17, 17, 95, 78, 25, 82, 34, 32, 69, 51, 65, 2, 8, 5, 88, 72, 55, 85, 18, 96, 25, 73, 21, 16, 58, 21, 34, 19, 46, 42, 59, 57, 24, 78, 27, 14, 50, 51, 35, 56, 26, 21, 64, 1, 82, 54, 57, 62, 62, 24, 11, 19, 4, 28, 69, 2, 54, 66, 49, 98, 8, 55, 7, 74, 93, 12, 82, 64, 42, 6, 44, 40, 89, 28, 39, 42, 69, 67, 48, 48, 63, 48, 95, 65, 34, 36, 71, 100, 80, 52, 31, 82, 95, 90, 15, 78, 39, 17, 10, 22, 54, 89, 16, 36, 61, 45, 72, 17, 14, 1, 18, 43, 21, 71, 31, 100, 46, 69, 74, 68, 27, 18, 6, 9, 71, 49, 94, 20, 2, 82, 34, 78, 9, 85, 47, 45, 62, 47, 34, 74, 25, 9, 25, 92, 9, 70, 77, 47, 61, 99, 51, 84, 33, 42, 97, 44, 25, 63, 61, 75, 15, 56, 44, 59, 26, 19, 63, 11, 67, 51, 1, 69, 91, 43, 95, 50, 31, 24, 89, 5, 67, 29, 65, 97, 35, 20, 44, 41, 70, 7, 30, 61, 26, 10, 52, 20, 48, 87, 30, 70, 56, 97, 18, 18, 79, 67, 59, 34, 31, 76, 32, 54, 22, 92, 6, 69, 73, 13, 23, 39, 5, 95, 83, 53, 25, 73, 64, 29, 14, 97, 92, 8, 67, 59, 42, 63, 57, 23, 17, 32, 72, 24, 71, 51, 26, 9, 20, 36, 6, 41, 38, 86, 15, 72, 95, 92, 28, 81, 69, 30, 60, 81, 3, 55, 43, 73, 89, 1, 70, 73, 21, 18, 53, 29, 70, 46, 54, 98, 48, 90, 57, 100, 42, 43, 33, 72, 32, 61, 51, 43, 66, 51, 41, 75, 94, 44, 33, 38, 1, 6, 44, 90, 38, 67, 62, 7, 17, 35, 41, 92, 52, 69, 63, 15, 98, 85, 47, 33, 79, 83, 38, 5, 12, 78, 87, 91, 2, 79, 52, 49, 7, 72, 99, 46, 88, 68, 65, 34, 42, 54, 100, 23, 40, 73, 23, 45, 22, 9, 77, 50, 31, 63, 83, 31, 89, 55, 36, 83, 60, 18, 8, 86, 96, 40, 39, 56, 47, 95, 66, 62, 38, 56, 30, 96, 35, 43, 20, 27, 95, 20, 68, 65, 74, 31, 33, 56, 86, 7, 68, 10, 94, 47, 41, 61, 32, 28, 21, 41, 13, 35, 26, 18, 75, 80, 55, 25, 85, 58, 7, 51, 37, 52, 59, 56, 69, 59, 78, 83, 20, 61, 11, 61, 70, 7, 30, 68, 4, 50, 40, 94, 96, 58, 1, 43, 73, 11, 41, 37, 3, 82, 89, 38, 55, 40, 55, 57, 7, 57, 58, 31, 5, 58, 62, 13, 10, 32, 71, 78, 84, 76, 28, 10, 10, 24, 40, 98, 83, 34, 39, 97, 73, 43, 13, 52, 70, 6, 33, 48, 57, 60, 26, 31, 80, 83, 70, 85, 29, 63, 64, 86, 73, 41, 62, 81, 19, 29, 76, 3, 68, 81, 90, 59, 27, 90, 87, 37, 26, 11, 18, 32, 70, 20, 62, 64, 72, 49, 19, 74, 84, 72, 98, 50, 23, 97, 19, 7, 74, 78, 78, 35, 59, 42, 44, 41, 75, 47, 21, 76, 12, 29, 86, 46, 88, 28, 75, 12, 39, 77, 68, 92, 91, 5, 89, 55, 85, 9, 85, 79, 29, 17, 79, 54, 55, 83, 40, 14, 78, 74, 21, 52, 89, 29, 79, 22, 39, 46, 7, 47, 7, 43, 46, 47, 57, 88, 11, 77, 61, 87, 97, 35, 15, 25, 6, 13, 1, 3, 7, 9, 55, 100, 78, 9, 35, 31, 34, 53, 73, 74, 97, 88, 75, 1, 77, 71, 12, 66, 11, 29, 28, 28, 78, 26, 19, 69, 47, 34, 44, 21, 84, 4, 44, 24, 37, 73, 42, 21, 33, 71, 23, 57, 41, 70, 7, 20, 30, 96, 64, 77, 78, 46, 9, 28, 27, 55, 27, 16, 65, 5, 19, 40, 11, 57, 48, 33, 21, 44, 56, 17, 74, 60, 12, 42, 26, 5, 88, 96, 11, 40, 31, 20, 49, 81, 66, 21, 23, 40, 50, 45, 61, 69, 65, 47, 44, 85, 63, 66, 6, 22, 1, 85, 45, 23, 67, 65, 15, 32, 32, 84, 55, 6, 88, 3, 99, 26, 76, 43, 89, 30, 38, 2, 88, 12, 67, 60, 84, 85, 40, 92, 84, 66, 10, 6, 53, 91, 57, 100, 93, 90, 16, 68, 14, 81, 98, 55, 65, 67, 100, 66, 50, 67, 99, 77, 76, 64, 61, 36, 92, 93, 49, 12, 70, 10, 31, 97, 67, 99, 61, 36, 74, 81, 68, 74, 47, 27, 38, 62, 71, 81, 85, 85, 58, 73, 31, 24, 40, 81, 76, 10, 27, 97, 25, 5, 60, 80, 65, 35, 5, 8, 66, 31, 4, 67, 16, 85, 63, 26, 44, 49, 48, 69, 89, 35, 85, 42, 49, 17, 88, 89, 49, 89, 75, 21, 14, 60, 70, 58, 59, 62, 4, 88, 23, 39, 14, 73, 40, 31, 7, 22, 8, 61, 96, 33, 26, 85, 43, 21, 40, 60, 37, 53, 66, 25, 62, 63, 5, 10, 26, 6, 38, 44, 97, 73, 81, 100, 45, 98, 17, 96, 6, 77, 54, 69, 76, 95, 59, 83, 50, 88, 11, 10, 34, 24, 33, 13, 92, 92, 94, 41, 36, 4, 70, 4, 80, 48, 21, 2, 56, 42, 72, 9, 54, 32, 86, 72, 24, 61, 81, 73, 40, 57, 53, 11, 99, 97, 15, 96, 9, 9, 100, 95, 66, 79, 25, 71, 37, 9, 38, 57, 84, 44, 71, 5, 93, 50, 16, 16, 52, 8, 62, 57, 50, 18, 88, 3, 89, 83, 2, 9, 61, 38, 11, 58, 62, 92, 79, 25, 16, 63, 60, 87, 64, 5, 19, 69, 55, 1, 55, 25, 50, 99, 16, 49, 38, 90, 71, 20, 24, 61, 21, 27, 94, 3, 7, 65, 43, 38, 74, 73, 96, 90, 12, 86, 3, 71, 54, 84, 56, 65, 45, 22, 14, 64, 30, 10, 5, 54, 40, 47, 43, 55, 93, 94, 4, 29, 100, 27, 70, 84, 50, 85, 50, 34, 71, 64, 94, 68, 73, 52, 37, 53, 54, 79, 90, 1, 71, 28, 92, 10, 19, 74, 15, 83, 18, 16, 66, 41, 25, 78, 21, 72, 3, 71, 83, 31, 71, 75, 45, 15, 64, 98, 81, 20, 57, 3, 4, 38, 96, 90, 97, 33, 39, 36, 57, 83, 69, 62, 78, 55, 69, 89, 77, 60, 50, 4, 60, 38, 33, 84, 93, 57, 23, 63, 98, 70, 50, 55, 25, 50, 82, 2, 85, 14, 22, 73, 39, 72, 45, 92, 85, 56, 24, 68, 82, 14, 11, 72, 96, 4, 8, 21, 15, 49, 27, 34, 14, 96, 12, 32, 12, 75, 59, 16, 57, 50, 98, 62, 46, 40, 92, 84, 72, 29, 14, 95, 58, 67, 10, 100, 36, 75, 66, 38, 93, 93, 38, 4, 52, 82, 54, 94, 90, 22, 27, 84, 11, 25, 31, 52, 82, 92, 92, 99, 92, 92, 51, 53, 9, 44, 15, 41, 62, 78, 21, 94, 27, 95, 86, 83, 63, 28, 56, 83, 56, 88, 41, 72, 14, 87, 10, 95, 70, 87, 86, 72, 90, 49, 61, 7, 73, 79, 26, 52, 2, 94, 43, 88, 53, 89, 99, 8, 70, 22, 30, 41, 73, 73, 27, 24, 67, 13, 23, 27, 77, 94, 84, 29, 16, 9, 91, 35, 72, 61, 45, 88, 39, 41, 92, 78, 17, 30, 76, 53, 75, 24, 97, 6, 100, 65, 8, 76, 88, 58, 81, 31, 91, 13, 78, 40, 57, 42, 67, 33, 94, 33, 58, 58, 75, 29, 79, 2, 23, 67, 31, 28, 44, 87, 22, 20, 61, 32, 91, 97, 11, 24, 77, 15, 34, 44, 22, 10, 33, 22, 54, 14, 79, 8, 97, 43, 27, 7, 75, 12, 33, 94, 69, 88, 19, 4, 54, 58, 99, 99, 23, 15, 51, 90, 3, 85, 5, 19, 95, 38, 48, 71, 68, 10, 45, 52, 82, 47, 90, 32, 38, 68, 77, 56, 88, 27, 18, 51, 90, 62, 91, 87, 9, 57, 60, 52, 98, 53, 50, 37, 32, 4, 92, 68, 7, 15, 93, 58, 42, 72, 86, 50, 55, 92, 39, 16, 100, 67, 6, 86, 20, 53, 34, 65, 9, 69, 83, 81, 21, 50, 29, 61, 34, 28, 75, 25, 9, 52, 32, 71, 28, 6, 59, 25, 53, 36, 9, 71, 50, 56, 72, 26, 15, 28, 70, 19, 86, 44, 91, 100, 97, 100, 57, 63, 30, 10, 54, 65, 72, 32, 80, 83, 91, 89, 15, 89, 22, 60, 66, 26, 21, 32, 23, 55, 75, 19, 66, 86, 99, 14, 22, 83, 77, 15, 79, 8, 5, 58, 74, 69, 19, 18, 55, 62, 32, 81, 77, 26, 67, 29, 65, 46, 34, 43, 73, 30, 57, 57, 71, 57, 29, 96, 62, 73, 79, 84, 12, 72, 23, 46, 74, 72, 51, 38, 53, 77, 15, 12, 69, 93, 7, 14, 81, 62, 19, 48, 48, 95, 92, 62, 21, 55, 51, 98, 66, 46, 85, 27, 81, 84, 27, 81, 75, 63, 8, 8, 76, 10, 26, 19, 50, 79, 72, 43, 80, 71, 79, 83, 62, 93, 89, 81, 62, 100, 13, 55, 57, 83, 21, 37, 25, 20, 9, 40, 29, 60, 21, 23, 1, 32, 37, 55, 74, 68, 19, 42, 76, 79, 49, 12, 89, 51, 33, 86, 71, 99, 8, 92, 63, 83, 55, 78, 96, 87, 98, 27, 64, 10, 58, 41, 27, 50, 13, 26, 51, 64, 17, 40, 27, 34, 64, 39, 23, 52, 52, 36, 15, 9, 34, 65, 45, 24, 96, 22, 15, 93, 73, 93, 84, 70, 57, 82, 39, 32, 47, 24, 76, 20, 39, 20, 97, 60, 19, 85, 21, 83, 29, 43, 74, 64, 92, 14, 80, 15, 78, 73, 63, 49, 76, 28, 79, 88, 86, 77, 82, 85, 27, 93, 76, 84, 62, 65, 92, 23, 71, 63, 84, 78, 68, 6, 36, 54, 21, 83, 60, 16, 58, 39, 31, 85, 2, 9, 60, 45, 89, 24, 85, 50, 47, 37, 40, 40, 59, 99, 78, 80, 29, 40, 83, 82, 6, 59, 85, 21, 25, 49, 26, 100, 73, 28, 2, 20, 47, 3, 75, 87, 49, 48, 75, 12, 97, 25, 63, 75, 27, 28, 58, 50, 76, 56, 72, 61, 1, 64, 57, 99, 63, 48, 29, 76, 18, 17, 20, 65, 73, 100, 33, 59, 26, 53, 60, 5, 8, 49, 99, 73, 84, 14, 89, 75, 76, 80, 1, 75, 10, 9, 41, 67, 37, 39, 29, 39, 55, 57, 54, 39, 4, 16, 22, 43, 30, 8, 16, 52, 44, 70, 87, 61, 12, 53, 59, 82, 100, 13, 100, 35, 65, 36, 23, 6, 44, 60, 16, 81, 21, 10, 1, 51, 47, 7, 57, 52, 23, 20, 23, 83, 48, 41, 67, 72, 83, 78, 65, 62, 39, 59, 3, 57, 39, 47, 92, 93, 54, 58, 32, 60, 89, 33, 95, 60, 23, 1, 69, 56, 30, 3, 17, 49, 3, 42, 57, 97, 58, 86, 90, 3, 69, 55, 96, 77, 76, 85, 46, 59, 7, 61, 98, 16, 56, 53, 44, 93, 54, 22, 99, 63, 75, 92, 99, 39, 33, 86, 20, 68, 59, 100, 60, 12, 19, 3, 27, 14, 82, 6, 50, 34, 18, 91, 9, 82, 22, 55, 42, 64, 87, 75, 82, 37, 98, 14, 46, 66, 75, 35, 46, 15, 11, 63, 30, 45, 100, 69, 100, 88, 74, 7, 56, 84, 4, 25, 25, 85, 30, 34, 80, 36, 93, 35, 33, 9, 27, 10, 74, 1, 32, 50, 43, 86, 54, 79, 41, 95, 86, 8, 60, 61, 83, 14, 78, 34, 94, 87, 39, 14, 3, 100, 19, 66, 95, 65, 73, 86, 90, 7, 82, 1, 25, 61, 22, 52, 30, 47, 28, 49, 88, 23, 1, 20, 70, 32, 91, 3, 81, 95, 75, 64, 46, 42, 2, 14, 62, 7, 34, 78, 60, 97, 35, 99, 54, 30, 92, 40, 11, 42, 50, 68, 99, 50, 3, 46, 31, 84, 84, 32, 67, 4, 2, 37, 72, 48, 71, 83, 35, 15, 41, 96, 43, 70, 5, 26, 83, 33, 8, 45, 78, 65, 100, 9, 35, 74, 9, 81, 20, 65, 8, 38, 60, 86, 54, 42, 19, 58, 63, 89, 40, 94, 41, 73, 31, 53, 81, 97, 20, 8, 13, 21, 78, 24, 68, 36, 56, 42, 99, 11, 14, 40, 36, 86, 6, 12, 86, 67, 7, 67, 70, 99, 95, 39, 73, 25, 5, 13, 26, 17, 50, 18, 57, 49, 47, 94, 95, 22, 41, 67, 95, 93, 31, 59, 23, 46, 12, 4, 45, 12, 6, 7, 59, 85, 47, 80, 11, 18, 95, 98, 26, 96, 25, 38, 55, 26, 1, 39, 85, 94, 90, 57, 20, 6, 83, 6, 57, 65, 47, 58, 35, 81, 41, 64, 76, 8, 66, 34, 71, 24, 56, 17, 95, 96, 25, 47, 68, 44, 81, 65, 58, 29, 5, 56, 98, 92, 49, 100, 73, 67, 35, 28, 5, 25, 45, 46, 91, 24, 60, 19, 28, 77, 75, 91, 98, 83, 63, 85, 44, 2, 81, 37, 94, 49, 11, 27, 29, 79, 59, 43, 93, 30, 5, 89, 51, 68, 96, 54, 2, 26, 89, 68, 48, 88, 22, 9, 68, 40, 67, 78, 41, 54, 31, 69, 48, 38, 35, 6, 41, 9, 47, 1, 59, 69, 15, 87, 96, 15, 6, 9, 70, 4, 46, 1, 45, 88, 21, 15, 44, 51, 80, 20, 20, 3, 45, 9, 33, 52, 33, 14, 69, 62, 95, 29, 81, 65, 30, 11, 10, 29, 91, 36, 57, 21, 82, 17, 24, 20, 47, 13, 30, 28, 46, 11, 37, 3, 68, 19, 46, 66, 87, 70, 27, 67, 20, 35, 61, 38, 2, 38, 44, 71, 98, 15, 2, 15, 9, 10, 44, 18, 100, 46, 83, 39, 26, 8, 53, 93, 10, 65, 17, 34, 24, 90, 35, 7, 41, 56, 39, 72, 56, 55, 11, 8, 67, 38, 93, 50, 43, 38, 63, 92, 97, 13, 41, 23, 21, 16, 2, 59, 18, 29, 96, 36, 45, 62, 63, 48, 51, 94, 60, 29, 79, 90, 3, 3, 87, 88, 75, 76, 92, 71, 22, 70, 5, 97, 18, 65, 11, 56, 56, 46, 56, 28, 96, 1, 43, 16, 73, 78, 13, 1, 24, 66, 19, 7, 61, 47, 99, 83, 22, 8, 57, 61, 57, 48, 61, 22, 81, 100, 2, 97, 66, 11, 7, 81, 85, 87, 16, 94, 65, 72, 54, 43, 35, 88, 20, 12, 27, 53, 65, 85, 76, 19, 64, 29, 18, 19, 44, 21, 81, 38, 76, 80, 94, 53, 9, 19, 47, 74, 79, 35, 12, 78, 30, 43, 52, 40, 84, 46, 97, 20, 9, 27, 45, 58, 39, 64, 43, 37, 90, 48, 48, 9, 49, 72, 8, 45, 41, 10, 23, 61, 52, 28, 16, 66, 94, 53, 22, 50, 58, 1, 21, 100, 98, 50, 81, 38, 23, 3, 39, 69, 45, 46, 29, 19, 33, 1, 28, 6, 35, 14, 43, 78, 55, 59, 45, 98, 27, 38, 71, 44, 80, 50, 88, 37, 92, 86, 29, 70, 15, 53, 22, 53, 26, 87, 90, 75, 81, 26, 89, 26, 4, 97, 26, 73, 53, 67, 31, 72, 80, 13, 52, 33, 35, 58, 57, 41, 74, 65, 66, 56, 10, 16, 69, 13, 25, 44, 38, 12, 63, 31, 73, 38, 41, 59, 67, 95, 30, 1, 26, 98, 41, 26, 48, 20, 1, 2, 5, 36, 62, 75, 19, 4, 38, 32, 46, 77, 48, 30, 8, 16, 94, 85, 90, 42, 78, 18, 86, 88, 96, 78, 65, 73, 85, 31, 88, 17, 31, 19, 63, 94, 43, 98, 41, 22, 56, 15, 88, 75, 91, 97, 54, 75, 46, 3, 75, 53, 44, 25, 83, 38, 26, 1, 88, 1, 43, 71, 40, 44, 73, 74, 74, 40, 7, 60, 86, 9, 65, 29, 94, 69, 42, 16, 76, 70, 33, 7, 3, 68, 14, 30, 97, 10, 50, 55, 55, 87, 100, 95, 61, 34, 36, 56, 75, 69, 37, 75, 56, 66, 75, 65, 64, 61, 57, 35, 8, 11, 38, 9, 47, 73, 90, 1, 71, 57, 31, 45, 16, 29, 81, 23, 44, 78, 62, 4, 62, 87, 85, 21, 17, 3, 86, 51, 68, 30, 21, 73, 38, 81, 86, 48, 62, 87, 80, 29, 40, 70, 75, 23, 46, 9, 32, 24, 47, 42, 57, 56, 10, 39, 9, 31, 52, 43, 39, 84, 29, 51, 46, 25, 69, 65, 44, 21, 56, 78, 30, 24, 31, 14, 39, 40, 98, 34, 76, 39, 17, 55, 33, 68, 60, 11, 31, 95, 89, 47, 32, 68, 52, 13, 56, 31, 19, 20, 51, 29, 60, 54, 41, 56, 89, 45, 71, 37, 10, 88, 65, 27, 41, 91, 87, 62, 31, 22, 32, 54, 37, 43, 64, 49, 76, 45, 33, 45, 39, 94, 92, 83, 26, 35, 61, 29, 71, 11, 81, 25, 20, 67, 12, 71, 63, 91, 30, 93, 51, 10, 84, 15, 74, 91, 71, 91, 40, 11, 45, 5, 6, 63, 79, 86, 59, 78, 66, 5, 6, 65, 85, 57, 11, 51, 54, 19, 16, 100, 1, 93, 12, 95, 3, 33, 20, 94, 33, 26, 79, 7, 86, 23, 94, 11, 46, 15, 8, 4, 85, 31, 33, 45, 31, 70, 50, 36, 67, 1, 93, 55, 82, 47, 2, 20, 65, 73, 96, 50, 54, 76, 94, 7, 11, 50, 15, 20, 85, 54, 76, 81, 97, 87, 11, 38, 38, 99, 73, 79, 31, 20, 23, 84, 91, 59, 29, 59, 59, 8, 17, 40, 39, 49, 99, 21, 6, 47, 50, 7, 74, 6, 21, 15, 74, 60, 90, 8, 24, 59, 42, 28, 89, 24, 86, 53, 95, 31, 52, 96, 81, 78, 55, 16, 36, 44, 16, 24, 55, 31, 29, 49, 39, 23, 78, 27, 32, 96, 9, 93, 78, 97, 24, 80, 61, 84, 71, 16, 13, 2, 91, 19, 97, 37, 99, 16, 82, 42, 21, 7, 28, 33, 57, 92, 84, 8, 19, 91, 82, 93, 5, 9, 47, 3, 27, 16, 84, 47, 1, 23, 59, 34, 69, 39, 77, 60, 46, 83, 61, 50, 52, 55, 14, 50, 20, 43, 10, 27, 25, 93, 89, 24, 63, 63, 6, 51, 34, 60, 20, 20, 6, 4, 77, 15, 47, 61, 71, 10, 1, 76, 83, 60, 82, 79, 47, 26, 36, 76, 86, 11, 64, 41, 46, 87, 20, 19, 26, 90, 95, 20, 97, 98, 78, 63, 39, 99, 56, 50, 70, 53, 61, 65, 37, 68, 32, 21, 69, 87, 31, 7, 44, 24, 39, 35, 98, 79, 95, 31, 44, 63, 15, 61, 31, 76, 68, 44, 53, 29, 62, 5, 64, 31, 79, 27, 29, 78, 7, 44, 87, 43, 20, 45, 78, 59, 86, 22, 43, 88, 64, 34, 50, 75, 3, 38, 9, 68, 13, 28, 30, 12, 7, 59, 19, 38, 50, 92, 95, 70, 2, 23, 63, 46, 67, 100, 48, 67, 60, 72, 16, 83, 43, 18, 44, 28, 61, 17, 16, 44, 84, 32, 4, 5, 88, 90, 38, 51, 84, 2, 48, 13, 17, 89, 92, 68, 10, 47, 86, 41, 26, 33, 33, 85, 24, 72, 30, 39, 76, 23, 8, 72, 70, 37, 13, 45, 43, 31, 83, 68, 56, 47, 83, 68, 76, 46, 1, 86, 54, 100, 35, 67, 83, 55, 12, 82, 24, 63, 26, 75, 76, 3, 20, 18, 64, 14, 38, 68, 60, 15, 67, 71, 27, 79, 43, 59, 29, 33, 99, 30, 94, 72, 40, 53, 5, 82, 67, 10, 7, 51, 67, 11, 51, 67, 87, 41, 40, 84, 41, 43, 97, 33, 65, 25, 56, 12, 64, 1, 18, 48, 3, 13, 42, 34, 10, 23, 59, 50, 74, 55, 41, 65, 59, 94, 48, 56, 27, 2, 68, 70, 9, 63, 17, 74, 100, 94, 53, 20, 55, 10, 99, 29, 91, 28, 11, 4, 64, 42, 81, 70, 58, 10, 72, 12, 14, 25, 78, 16, 34, 37, 58, 63, 32, 45, 94, 50, 81, 39, 6, 2, 100, 38, 62, 52, 77, 16, 41, 70, 23, 14, 100, 99, 14, 51, 49, 88, 55, 43, 1, 27, 28, 80, 34, 53, 22, 82, 9, 27, 51, 86, 76, 75, 86, 61, 60, 27, 45, 26, 88, 14, 6, 34, 98, 33, 41, 43, 71, 79, 65, 62, 80, 7, 60, 35, 17, 85, 33, 60, 38, 24, 35, 98, 68, 53, 83, 13, 42, 27, 38, 32, 80, 97, 69, 20, 36, 39, 88, 5, 94, 83, 31, 42, 7, 89, 3, 2, 43, 80, 24, 96, 42, 3, 48, 76, 56, 25, 59, 78, 39, 56, 66, 39, 17, 49, 58, 28, 24, 81, 57, 99, 41, 7, 17, 66, 18, 61, 91, 28, 7, 4, 51, 19, 70, 74, 78, 74, 34, 54, 19, 61, 51, 1, 19, 93, 14, 34, 84, 59, 69, 71, 96, 26, 40, 86, 39, 26, 15, 27, 4, 30, 95, 26, 85, 87, 88, 21, 82, 70, 61, 82, 57, 31, 78, 42, 91, 53, 72, 50, 28, 68, 38, 51, 50, 49, 44, 10, 72, 6, 60, 38, 73, 8, 11, 5, 90, 12, 63, 63, 27, 16, 3, 60, 48, 45, 11, 2, 56, 53, 64, 9, 69, 12, 15, 5, 76, 16, 22, 35, 65, 11, 40, 57, 13, 79, 84, 15, 78, 57, 41, 69, 98, 56, 24, 31, 9, 20, 98, 17, 5, 76, 28, 47, 72, 99, 17, 76, 90, 85, 14, 64, 2, 43, 35, 91, 77, 54, 39, 32, 30, 15, 61, 40, 59, 92, 60, 92, 100, 1, 57, 29, 36, 33, 50, 72, 37, 33, 58, 90, 50, 62, 41, 71, 91, 60, 92, 84, 35, 19, 50, 96, 64, 41, 52, 89, 19, 68, 13, 82, 25, 52, 65, 24, 27, 28, 44, 2, 90, 20, 74, 94, 67, 43, 24, 76, 3, 78, 67, 73, 65, 16, 79, 10, 50, 65, 64, 66, 52, 8, 51, 57, 10, 72, 35, 85, 56, 85, 95, 71, 1, 75, 7, 16, 96, 17, 36, 28, 83, 24, 96, 23, 69, 80, 85, 25, 52, 65, 93, 27, 75, 98, 66, 9, 99, 57, 38, 9, 11, 82, 4, 22, 8, 53, 34, 22, 52, 24, 95, 73, 75, 15, 33, 45, 53, 65, 62, 75, 84, 18, 64, 60, 79, 22, 47, 2, 64, 6, 22, 77, 44, 95, 36, 99, 97, 13, 85, 21, 86, 7, 21, 11, 64, 24, 93, 98, 38, 1, 18, 84, 63, 41, 33, 47, 78, 95, 24, 25, 6, 88, 86, 67, 67, 40, 49, 64, 77, 16, 12, 48, 36, 66, 65, 58, 23, 1, 28, 21, 33, 96, 92, 57, 64, 8, 80, 17, 30, 76, 30, 39, 9, 20, 41, 69, 21, 55, 62, 71, 40, 32, 6, 64, 14, 30, 81, 30, 14, 1, 23, 17, 64, 30, 23, 44, 7, 86, 37, 38, 54, 31, 18, 65, 58, 91, 98, 48, 30, 13, 30, 28, 89, 74, 8, 28, 95, 28, 50, 11, 48, 63, 45, 85, 25, 38, 84, 58, 3, 69, 87, 44, 71, 29, 74, 63, 53, 93, 64, 76, 5, 52, 96, 98, 87, 58, 24, 40, 26, 60, 48, 77, 59, 9, 91, 2, 90, 62, 23, 71, 20, 57, 59, 4, 42, 53, 67, 40, 86, 38, 49, 98, 13, 59, 92, 19, 82, 75, 65, 1, 47, 63, 89, 50, 98, 92, 89, 81, 1, 91, 51, 79, 51, 74, 32, 58, 16, 56, 62, 17, 77, 85, 8, 97, 61, 20, 29, 71, 69, 31, 61, 48, 14, 100, 70, 29, 12, 58, 60, 90, 10, 85, 40, 12, 58, 28, 6, 84, 53, 69, 58, 29, 84, 7, 44, 49, 70, 74, 94, 28, 79, 49, 71, 90, 10, 75, 12, 100, 87, 98, 96, 97, 23, 27, 87, 67, 12, 28, 99, 23, 66, 28, 90, 57, 11, 79, 1, 24, 61, 20, 24, 23, 55, 93, 32, 30, 33, 54, 2, 60, 40, 17, 59, 43, 57, 67, 23, 68, 98, 77, 28, 42, 54, 37, 79, 16, 13, 75, 73, 66, 38, 64, 72, 52, 39, 10, 64, 4, 42, 97, 47, 25, 44, 63, 20, 69, 54, 57, 54, 46, 32, 89, 32, 100, 18, 43, 14, 42, 95, 56, 27, 20, 29, 27, 62, 79, 56, 60, 68, 62, 35, 92, 46, 99, 2, 58, 65, 39, 26, 93, 31, 89, 34, 61, 25, 70, 63, 26, 56, 11, 86, 95, 64, 73, 5, 30, 31, 9, 92, 10, 12, 23, 30, 76, 84, 67, 28, 28, 72, 54, 75, 46, 7, 57, 58, 38, 88, 31, 4, 61, 8, 48, 62, 67, 80, 8, 21, 80, 22, 36, 28, 36, 72, 80, 11, 33, 12, 62, 36, 37, 1, 94, 27, 79, 94, 33, 28, 41, 27, 50, 96, 53, 65, 60, 70, 85, 83, 98, 5, 23, 3, 39, 25, 5, 16, 92, 24, 23, 8, 78, 16, 62, 49, 95, 75, 73, 7, 2, 8, 35, 11, 95, 33, 31, 51, 78, 5, 62, 33, 65, 40, 62, 93, 34, 78, 22, 83, 89, 54, 28, 18, 88, 62, 13, 14, 84, 72, 81, 80, 65, 90, 58, 83, 14, 22, 8, 51, 22, 79, 83, 38, 53, 59, 32, 9, 71, 75, 37, 8, 52, 87, 2, 29, 27, 25, 98, 47, 22, 1, 68, 91, 15, 53, 51, 87, 67, 71, 47, 69, 15, 77, 90, 64, 93, 18, 31, 8, 4, 37, 65, 73, 66, 10, 30, 30, 31, 25, 82, 56, 11, 86, 12, 6, 79, 94, 19, 74, 84, 14, 97, 16, 88, 95, 84, 45, 26, 12, 81, 43, 79, 35, 26, 76, 22, 58, 78, 56, 14, 80, 61, 18, 74, 6, 17, 19, 56, 90, 49, 19, 2, 33, 17, 87, 41, 63, 37, 28, 89, 23, 52, 60, 2, 100, 38, 46, 93, 97, 29, 22, 78, 44, 85, 9, 60, 76, 76, 56, 84, 33, 13, 37, 38, 87, 50, 3, 65, 79, 88, 51, 50, 98, 88, 94, 12, 15, 77, 6, 76, 36, 92, 82, 39, 64, 44, 18, 5, 76, 44, 67, 16, 77, 67, 58, 87, 86, 89, 61, 79, 70, 18, 78, 65, 13, 51, 69, 100, 57, 80, 57, 33, 59, 8, 32, 13, 95, 63, 39, 5, 85, 91, 100, 26, 82, 29, 58, 50, 50, 10, 44, 45, 37, 90, 76, 34, 7, 70, 76, 49, 84, 26, 12, 77, 98, 89, 11, 57, 41, 16, 6, 29, 76, 71, 35, 1, 65, 38, 38, 9, 45, 57, 17, 81, 7, 64, 77, 21, 87, 58, 73, 35, 46, 82, 23, 16, 82, 92, 52, 53, 2, 20, 81, 65, 7, 68, 76, 56, 35, 4, 14, 20, 60, 96, 6, 25, 95, 72, 4, 19, 39, 97, 39, 72, 5, 39, 23, 52, 29, 80, 23, 76, 32, 78, 20, 90, 46, 4, 23, 88, 50, 70, 88, 91, 67, 76, 23, 18, 2, 47, 45, 74, 63, 87, 69, 30, 73, 85, 29, 45, 94, 9, 19, 58, 11, 72, 13, 39, 30, 43, 64, 78, 31, 87, 88, 48, 51, 23, 29, 81, 70, 89, 66, 33, 2, 37, 52, 50, 68, 14, 42, 10, 51, 16, 28, 8, 31, 61, 14, 31, 19, 45, 76, 97, 61, 91, 40, 15, 83, 98, 90, 7, 96, 73, 5, 15, 32, 3, 36, 76, 85, 72, 97, 47, 37, 66, 48, 18, 29, 83, 14, 30, 95, 16, 53, 44, 92, 97, 19, 18, 99, 4, 56, 78, 60, 26, 51, 9, 96, 37, 25, 11, 49, 55, 43, 11, 53, 61, 24, 90, 6, 32, 84, 67, 43, 98, 74, 27, 14, 92, 82, 43, 93, 61, 1, 43, 71, 83, 92, 5, 38, 61, 79, 73, 16, 12, 90, 10, 45, 90, 68, 56, 62, 78, 47, 95, 66, 82, 7, 62, 50, 57, 79, 36, 29, 78, 32, 91, 91, 99, 11, 8, 72, 25, 64, 53, 47, 4, 35, 14, 55, 52, 25, 13, 74, 58, 25, 78, 72, 36, 60, 32, 41, 70, 36, 43, 68, 94, 95, 32, 83, 55, 7, 22, 45, 39, 98, 81, 41, 93, 23, 62, 53, 8, 65, 18, 44, 2, 35, 14, 65, 41, 55, 53, 9, 46, 89, 30, 44, 21, 76, 8, 26, 51, 3, 88, 54, 24, 84, 20, 85, 70, 87, 16, 70, 20, 11, 3, 25, 97, 98, 66, 82, 34, 77, 63, 88, 32, 63, 47, 1, 79, 50, 36, 15, 29, 30, 67, 44, 44, 17, 66, 1, 52, 11, 96, 75, 57, 55, 26, 3, 94, 39, 28, 87, 49, 43, 89, 25, 31, 61, 88, 2, 57, 28, 68, 36, 16, 11, 64, 77, 48, 97, 17, 100, 32, 21, 94, 63, 26, 33, 68, 99, 68, 40, 7, 6, 54, 48, 9, 8, 1, 8, 38, 25, 8, 49, 38, 8, 74, 23, 36, 52, 66, 8, 92, 21, 22, 66, 65, 49, 46, 84, 53, 28, 53, 77, 32, 3, 41, 37, 27, 2, 51, 93, 5, 43, 72, 68, 18, 13, 17, 5, 96, 13, 3, 61, 100, 7, 13, 20, 86, 31, 82, 65, 3, 91, 87, 63, 42, 21, 32, 78, 23, 42, 48, 14, 16, 39, 79, 93, 3, 57, 71, 62, 18, 21, 33, 48, 29, 99, 62, 27, 41, 69, 27, 89, 98, 80, 71, 100, 51, 88, 84, 92, 13, 37, 35, 21, 78, 18, 19, 22, 94, 10, 92, 75, 31, 2, 97, 24, 74, 19, 97, 14, 96, 71, 74, 37, 100, 87, 53, 75, 44, 94, 9, 54, 27, 7, 59, 33, 5, 3, 29, 30, 84, 66, 52, 95, 81, 80, 5, 18, 56, 86, 90, 60, 99, 57, 100, 25, 93, 68, 74, 75, 6, 13, 7, 5, 88, 68, 92, 88, 6, 15, 3, 54, 47, 66, 73, 66, 50, 47, 25, 19, 89, 28, 7, 25, 17, 13, 62, 65, 74, 63, 64, 54, 34, 80, 75, 95, 25, 61, 10, 7, 58, 41, 24, 61, 50, 44, 80, 55, 89, 43, 98, 89, 54, 56, 72, 80, 71, 29, 59, 85, 71, 2, 13, 76, 66, 74, 18, 1, 65, 51, 6, 63, 22, 63, 15, 22, 60, 92, 76, 81, 42, 69, 66, 36, 50, 86, 93, 51, 4, 71, 83, 89, 91, 71, 29, 77, 36, 60, 24, 83, 2, 87, 92, 50, 53, 24, 35, 97, 34, 40, 12, 10, 62, 98, 80, 44, 67, 64, 8, 25, 78, 5, 30, 27, 56, 28, 76, 73, 26, 54, 25, 81, 92, 93, 41, 15, 100, 60, 26, 51, 38, 2, 5, 88, 95, 79, 23, 99, 61, 20, 93, 78, 43, 9, 91, 5, 6, 40, 5, 57, 70, 33, 89, 2, 8, 49, 14, 68, 54, 32, 70, 82, 57, 97, 66, 10, 35, 2, 5, 61, 89, 100, 5, 81, 60, 59, 22, 22, 21, 36, 28, 54, 84, 86, 60, 35, 57, 71, 53, 74, 80, 42, 47, 6, 19, 30, 60, 81, 20, 77, 89, 22, 22, 55, 62, 79, 93, 33, 16, 7, 50, 4, 78, 22, 19, 9, 54, 45, 47, 96, 56, 1, 85, 48, 63, 68, 11, 16, 80, 90, 6, 43, 100, 99, 90, 32, 40, 32, 34, 74, 84, 92, 53, 22, 11, 24, 44, 94, 8, 19, 17, 78, 89, 94, 13, 81, 55, 52, 5, 35, 52, 57, 83, 31, 85, 84, 96, 82, 4, 68, 49, 59, 50, 66, 85, 3, 3, 18, 80, 13, 8, 16, 22, 6, 32, 18, 82, 2, 7, 83, 27, 46, 21, 77, 50, 16, 87, 9, 2, 2, 89, 49, 61, 49, 52, 38, 69, 55, 61, 79, 69, 37, 11, 15, 98, 14, 5, 69, 36, 65, 84, 66, 64, 10, 88, 99, 61, 82, 45, 25, 47, 56, 50, 26, 53, 40, 78, 72, 4, 3, 3, 67, 74, 47, 47, 74, 11, 27, 11, 42, 18, 43, 66, 34, 52, 6, 14, 34, 48, 99, 37, 27, 59, 32, 53, 33, 34, 50, 98, 83, 54, 22, 35, 95, 50, 99, 16, 4, 65, 10, 71, 28, 47, 75, 57, 49, 22, 79, 67, 84, 39, 23, 97, 10, 88, 72, 14, 62, 54, 10, 15, 21, 10, 37, 34, 81, 33, 59, 3, 18, 17, 50, 28, 94, 78, 64, 63, 90, 78, 80, 76, 97, 68, 73, 40, 11, 42, 87, 27, 60, 36, 42, 36, 47, 23, 49, 33, 58, 19, 96, 56, 39, 83, 75, 90, 37, 57, 56, 63, 15, 60, 14, 77, 22, 84, 51, 84, 50, 13, 83, 19, 98, 29, 23, 25, 9, 49, 2, 95, 22, 20, 74, 87, 51, 86, 3, 52, 68, 61, 31, 36, 5, 26, 12, 11, 27, 68, 80, 50, 77, 86, 11, 70, 4, 6, 89, 36, 76, 44, 53, 19, 43, 37, 3, 50, 21, 30, 48, 86, 86, 10, 17, 59, 9, 44, 50, 93, 3, 37, 60, 64, 63, 99, 92, 54, 2, 7, 50, 90, 34, 58, 56, 44, 63, 98, 36, 76, 52, 95, 51, 26, 32, 5, 71, 33, 68, 52, 6, 39, 70, 81, 75, 83, 22, 57, 58, 43, 41, 51, 33, 74, 85, 9, 12, 94, 99, 65, 44, 37, 29, 4, 88, 34, 22, 53, 93, 44, 27, 45, 35, 30, 32, 75, 8, 28, 18, 59, 19, 79, 21, 76, 68, 79, 80, 56, 30, 98, 95, 41, 20, 56, 60, 75, 18, 49, 36, 16, 58, 88, 93, 9, 38, 100, 78, 62, 65, 21, 62, 27, 84, 27, 44, 67, 39, 13, 18, 90, 99, 57, 90, 31, 100, 28, 82, 31, 50, 8, 65, 14, 42, 64, 74, 89, 21, 73, 50, 11, 78, 61, 79, 50, 8, 43, 49, 45, 14, 51, 84, 22, 85, 30, 84, 65, 57, 88, 41, 16, 38, 100, 56, 75, 100, 23, 3, 66, 25, 35, 31, 54, 31, 82, 83, 85, 73, 45, 20, 51, 77, 79, 87, 89, 18, 28, 47, 41, 79, 89, 47, 19, 19, 20, 77, 91, 63, 3, 96, 80, 95, 28, 39, 30, 75, 65, 86, 98, 49, 33, 11, 72, 64, 62, 28, 30, 66, 81, 53, 84, 65, 98, 79, 41, 95, 8, 48, 63, 42, 13, 76, 85, 63, 53, 43, 38, 24, 57, 11, 89, 45, 90, 80, 70, 84, 87, 68, 84, 97, 32, 19, 22, 57, 12, 34, 94, 29, 20, 8, 17, 17, 70, 33, 86, 11, 12, 60, 80, 26, 91, 8, 63, 80, 5, 51, 64, 99, 46, 27, 51, 64, 92, 4, 9, 93, 76, 9, 24, 88, 68, 88, 67, 27, 16, 79, 42, 43, 31, 69, 12, 45, 9, 47, 47, 39, 63, 20, 84, 30, 4, 64, 36, 23, 32, 29, 25, 50, 78, 81, 55, 61, 4, 28, 33, 1, 37, 72, 56, 91, 68, 28, 39, 77, 99, 69, 46, 76, 51, 60, 1, 1, 88, 58, 93, 15, 80, 66, 92, 28, 87, 44, 59, 40, 29, 82, 4, 39, 89, 19, 85, 50, 98, 86, 21, 95, 29, 41, 14, 15, 93, 19, 40, 95, 20, 59, 16, 13, 3, 19, 68, 47, 77, 4, 61, 84, 42, 45, 19, 58, 94, 73, 81, 96, 6, 36, 99, 7, 59, 57, 40, 87, 14, 69, 42, 2, 98, 94, 52, 53, 61, 23, 2, 13, 94, 52, 36, 36, 98, 13, 57, 73, 89, 9, 73, 63, 88, 95, 35, 85, 51, 66, 83, 51, 17, 52, 99, 95, 5, 59, 37, 44, 76, 48, 47, 48, 8, 21, 53, 56, 9, 70, 91, 95, 94, 35, 31, 80, 83, 98, 83, 72, 23, 84, 40, 44, 24, 99, 69, 52, 21, 52, 69, 52, 14, 84, 11, 28, 72, 89, 16, 68, 11, 30, 83, 61, 14, 33, 67, 65, 96, 81, 67, 30, 58, 66, 92, 91, 70, 36, 49, 32, 81, 98, 26, 17, 5, 10, 78, 72, 76, 50, 94, 55, 46, 82, 18, 33, 42, 36, 22, 32, 92, 71, 80, 17, 42, 67, 36, 43, 39, 53, 27, 63, 26, 67, 50, 65, 64, 8, 90, 32, 90, 84, 50, 11, 66, 45, 29, 78, 35, 98, 26, 61, 67, 49, 94, 49, 46, 30, 62, 57, 4, 39, 81, 97, 1, 20, 17, 77, 3, 80, 23, 85, 7, 65, 53, 50, 61, 98, 75, 1, 64, 79, 70, 6, 67, 100, 46, 55, 75, 17, 95, 96, 53, 2, 58, 66, 41, 22, 41, 63, 99, 81, 64, 25, 1, 54, 93, 99, 71, 17, 12, 38, 63, 37, 69, 86, 57, 71, 94, 82, 12, 93, 13, 8, 32, 13, 38, 43, 27, 71, 18, 8, 46, 22, 27, 48, 48, 8, 72, 64, 51, 73, 18, 58, 12, 39, 87, 71, 69, 85, 66, 92, 50, 95, 34, 52, 4, 16, 27, 40, 3, 18, 85, 60, 17, 53, 69, 85, 15, 25, 78, 53, 48, 26, 42, 58, 25, 64, 10, 46, 64, 62, 95, 43, 60, 79, 76, 88, 31, 81, 27, 56, 94, 19, 52, 93, 100, 24, 61, 53, 74, 43, 81, 39, 55, 94, 16, 58, 28, 98, 91, 96, 46, 12, 86, 72, 62, 81, 15, 98, 50, 46, 27, 86, 2, 44, 38, 11, 20, 87, 55, 82, 46, 75, 1, 11, 77, 40, 53, 14, 45, 27, 63, 15, 8, 77, 70, 7, 93, 14, 22, 37, 94, 21, 19, 27, 45, 75, 35, 35, 5, 95, 82, 22, 23, 19, 95, 85, 29, 68, 25, 41, 53, 24, 19, 79, 88, 15, 44, 99, 54, 34, 97, 34, 46, 89, 48, 16, 74, 57, 54, 8, 79, 22, 48, 88, 86, 62, 58, 43, 23, 27, 100, 89, 73, 80, 45, 83, 56, 59, 100, 7, 75, 2, 52, 64, 73, 20, 26, 51, 86, 88, 9, 31, 81, 90, 72, 49, 74, 47, 60, 44, 73, 79, 48, 45, 28, 53, 78, 62, 62, 23, 87, 100, 100, 86, 58, 52, 45, 66, 80, 67, 26, 87, 72, 52, 51, 88, 34, 70, 75, 25, 30, 50, 33, 59, 37, 47, 29, 5, 8, 83, 54, 69, 75, 76, 25, 42, 72, 58, 53, 75, 5, 63, 80, 12, 16, 6, 23, 40, 66, 19, 81, 1, 67, 33, 15, 22, 67, 76, 4, 80, 29, 91, 40, 60, 5, 48, 27, 43, 20, 69, 75, 14, 51, 37, 8, 33, 11, 97, 12, 8, 70, 59, 92, 56, 14, 30, 24, 66, 60, 81, 59, 92, 2, 90, 38, 4, 9, 68, 61, 80, 45, 13, 53, 63, 51, 61, 21, 75, 55, 58, 16, 75, 47, 69, 80, 58, 61, 6, 48, 26, 62, 63, 68, 15, 59, 23, 72, 59, 48, 85, 99, 29, 78, 13, 82, 9, 93, 62, 84, 54, 65, 25, 48, 87, 10, 35, 32, 46, 22, 83, 19, 32, 48, 44, 94, 11, 15, 85, 48, 2, 46, 26, 2, 90, 20, 52, 93, 14, 96, 69, 6, 13, 93, 81, 20, 63, 5, 95, 82, 91, 56, 18, 28, 66, 60, 5, 24, 3, 100, 11, 2, 9, 89, 23, 99, 30, 61, 40, 22, 13, 11, 25, 93, 71, 17, 40, 100, 29, 97, 22, 53, 49, 57, 1, 91, 78, 78, 94, 63, 43, 43, 82, 80, 44, 87, 27, 98, 24, 84, 47, 41, 75, 60, 6, 17, 30, 16, 74, 88, 24, 73, 100, 72, 95, 10, 94, 89, 73, 47, 43, 14, 37, 99, 17, 17, 52, 87, 81, 60, 56, 51, 18, 16, 79, 4, 16, 98, 54, 55, 99, 48, 91, 5, 99, 43, 69, 8, 75, 28, 5, 51, 53, 96, 90, 95, 25, 65, 78, 82, 54, 44, 11, 1, 25, 83, 61, 86, 60, 13, 57, 63, 62, 31, 32, 66, 30, 97, 67, 5, 61, 77, 73, 41, 56, 74, 53, 17, 77, 35, 33, 38, 97, 20, 88, 17, 19, 49, 58, 92, 11, 45, 83, 4, 47, 29, 38, 60, 64, 99, 39, 67, 4, 44, 5, 44, 69, 18, 45, 49, 48, 93, 89, 76, 12, 53, 8, 38, 97, 2, 56, 83, 22, 31, 49, 94, 55, 55, 71, 8, 18, 19, 73, 5, 50, 65, 61, 3, 3, 23, 43, 3, 86, 11, 2, 49, 94, 48, 91, 11, 70, 37, 47, 39, 90, 44, 17, 63, 68, 83, 2, 94, 43, 22, 98, 4, 73, 74, 52, 70, 45, 28, 76, 17, 91, 94, 29, 42, 4, 39, 100, 93, 57, 59, 54, 66, 18, 87, 80, 23, 77, 21, 5, 11, 62, 84, 44, 90, 33, 92, 54, 13, 95, 27, 36, 2, 42, 65, 20, 72, 30, 99, 69, 54, 96, 91, 43, 70, 31, 31, 7, 77, 27, 94, 96, 28, 97, 61, 56, 28, 9, 98, 16, 78, 4, 58, 27, 16, 63, 11, 15, 1, 14, 33, 87, 66, 33, 46, 59, 59, 98, 86, 70, 6, 53, 55, 45, 17, 40, 35, 40, 86, 11, 78, 38, 58, 19, 28, 22, 20, 97, 41, 82, 39, 78, 47, 3, 16, 41, 41, 60, 64, 8, 31, 6, 18, 12, 43, 67, 9, 34, 43, 38, 42, 68, 84, 58, 33, 41, 19, 89, 64, 52, 43, 19, 32, 21, 41, 55, 90, 83, 93, 32, 5, 49, 66, 13, 58, 83, 91, 81, 43, 88, 94, 91, 50, 23, 88, 48, 10, 57, 73, 81, 9, 47, 73, 6, 12, 70, 53, 8, 27, 15, 98, 91, 66, 32, 66, 93, 12, 52, 69, 72, 83, 66, 86, 79, 83, 64, 43, 33, 39, 54, 57, 80, 80, 50, 55, 18, 21, 87, 55, 48, 22, 54, 21, 84, 14, 33, 13, 63, 47, 30, 63, 83, 87, 4, 87, 63, 95, 37, 74, 69, 55, 35, 5, 85, 100, 10, 13, 16, 72, 55, 78, 62, 7, 38, 96, 19, 83, 20, 65, 72, 13, 73, 3, 30, 25, 36, 21, 19, 33, 1, 2, 78, 60, 64, 38, 49, 15, 77, 10, 6, 91, 80, 88, 33, 56, 8, 44, 99, 96, 49, 22, 50, 11, 18, 84, 68, 43, 14, 48, 30, 18, 31, 42, 95, 15, 91, 7, 46, 91, 74, 56, 52, 47, 60, 15, 64, 71, 100, 60, 9, 58, 10, 48, 89, 29, 39, 60, 55, 6, 16, 98, 55, 61, 10, 42, 56, 14, 65, 13, 82, 25, 85, 84, 71, 17, 2, 44, 26, 10, 88, 49, 47, 81, 64, 15, 66, 70, 57, 26, 62, 85, 42, 7, 30, 21, 77, 63, 83, 65, 75, 48, 62, 95, 3, 65, 70, 83, 80, 82, 32, 66, 81, 76, 44, 62, 10, 77, 8, 9, 9, 86, 29, 38, 93, 92, 58, 60, 89, 34, 71, 60, 71, 5, 69, 84, 57, 24, 26, 25, 10, 77, 13, 17, 4, 48, 68, 71, 81, 24, 99, 45, 16, 32, 89, 1, 97, 80, 82, 42, 42, 59, 2, 49, 59, 48, 4, 58, 22, 7, 3, 23, 2, 59, 68, 29, 75, 15, 25, 51, 34, 98, 56, 38, 61, 45, 12, 33, 75, 12, 8, 21, 82, 11, 14, 2, 93, 1, 13, 64, 77, 47, 44, 73, 15, 49, 37, 99, 42, 98, 56, 98, 54, 71, 60, 91, 21, 37, 44, 86, 37, 3, 40, 87, 17, 77, 87, 18, 41, 99, 9, 93, 27, 27, 47, 11, 61, 18, 77, 25, 5, 33, 13, 54, 87, 75, 29, 37, 22, 89, 59, 36, 72, 90, 3, 6, 86, 35, 67, 2, 81, 49, 32, 31, 20, 66, 19, 29, 99, 79, 73, 42, 26, 81, 14, 10, 7, 10, 54, 8, 5, 77, 57, 93, 94, 95, 6, 1, 46, 20, 3, 8, 63, 99, 7, 69, 41, 66, 70, 23, 93, 22, 65, 15, 88, 97, 81, 21, 40, 74, 79, 44, 50, 63, 21, 35, 4, 53, 12, 43, 11, 82, 19, 66, 34, 17, 48, 43, 93, 12, 23, 20, 27, 99, 51, 71, 69, 47, 79, 40, 76, 76, 48, 75, 98, 89, 63, 2, 57, 75, 10, 90, 43, 60, 61, 76, 71, 22, 16, 94, 50, 35, 74, 77, 21, 31, 11, 50, 31, 4, 99, 72, 22, 10, 43, 32, 95, 77, 17, 72, 17, 72, 47, 10, 68, 40, 90, 22, 9, 80, 80, 18, 19, 41, 29, 67, 31, 65, 2, 36, 67, 70, 3, 21, 35, 64, 29, 78, 2, 59, 96, 65, 18, 79, 86, 44, 1, 63, 99, 60, 16, 13, 61, 93, 100, 51, 87, 95, 85, 57, 76, 80, 52, 32, 16, 58, 16, 50, 53, 21, 71, 26, 99, 47, 40, 64, 54, 83, 12, 86, 36, 13, 96, 59, 21, 10, 45, 58, 28, 36, 12, 18, 89, 50, 37, 46, 49, 43, 6, 95, 88, 8, 37, 53, 9, 9, 47, 70, 27, 26, 7, 11, 89, 62, 53, 37, 99, 99, 21, 80, 71, 64, 6, 30, 55, 29, 29, 10, 83, 29, 77, 27, 98, 8, 14, 82, 98, 90, 62, 80, 51, 69, 83, 50, 12, 63, 96, 100, 43, 14, 58, 65, 96, 9, 23, 7, 46, 43, 89, 81, 58, 88, 60, 7, 71, 3, 79, 33, 76, 2, 13, 42, 61, 63, 30, 23, 92, 45, 13, 7, 85, 85, 92, 29, 39, 56, 62, 65, 83, 26, 6, 70, 62, 84, 73, 55, 48, 7, 96, 3, 17, 6, 12, 96, 49, 21, 60, 70, 51, 13, 18, 98, 36, 21, 7, 31, 45, 50, 8, 35, 69, 5, 89, 22, 86, 76, 24, 87, 13, 35, 98, 26, 15, 70, 8, 2, 29, 97, 17, 50, 26, 25, 44, 80, 24, 26, 16, 3, 76, 56, 85, 94, 24, 8, 39, 74, 81, 51, 60, 89, 78, 58, 39, 45, 29, 60, 79, 25, 41, 99, 15, 44, 54, 42, 100, 70, 44, 61, 45, 16, 49, 55, 73, 57, 36, 16, 9, 26, 75, 36, 29, 76, 28, 94, 23, 85, 45, 53, 80, 74, 44, 40, 90, 37, 2, 91, 17, 36, 67, 54, 9, 51, 9, 68, 84, 66, 41, 100, 69, 67, 73, 54, 20, 94, 29, 73, 92, 59, 47, 9, 49, 71, 19, 36, 69, 81, 70, 42, 67, 23, 24, 85, 40, 90, 31, 61, 10, 7, 17, 61, 25, 3, 68, 70, 17, 83, 13, 49, 27, 40, 20, 84, 71, 91, 43, 33, 82, 35, 79, 77, 78, 25, 88, 17, 7, 69, 27, 40, 49, 1, 9, 22, 100, 64, 82, 4, 79, 95, 21, 85, 68, 39, 29, 7, 15, 47, 29, 23, 33, 44, 25, 15, 8, 91, 14, 83, 68, 93, 51, 92, 50, 95, 46, 64, 91, 43, 34, 72, 37, 10, 78, 53, 51, 98, 94, 74, 19, 23, 60, 96, 65, 73, 6, 62, 43, 77, 36, 79, 3, 53, 79, 84, 20, 60, 22, 19, 70, 59, 35, 50, 25, 16, 86, 7, 4, 89, 96, 82, 14, 31, 64, 39, 50, 32, 37, 8, 67, 92, 100, 20, 43, 31, 33, 96, 60, 26, 63, 71, 45, 62, 73, 16, 58, 29, 75, 46, 60, 56, 100, 71, 100, 33, 28, 98, 50, 58, 72, 18, 96, 86, 45, 66, 13, 53, 94, 91, 24, 93, 2, 39, 77, 92, 15, 21, 84, 9, 32, 71, 51, 31, 54, 1, 90, 94, 23, 85, 41, 27, 98, 30, 53, 91, 64, 41, 67, 5, 45, 28, 45, 41, 22, 57, 37, 33, 41, 71, 53, 31, 92, 73, 49, 44, 5, 85, 60, 79, 100, 55, 27, 39, 63, 25, 14, 4, 66, 91, 11, 89, 1, 66, 70, 40, 98, 37, 3, 47, 14, 21, 92, 99, 72, 99, 50, 98, 38, 70, 35, 62, 9, 29, 3, 94, 64, 16, 57, 52, 97, 67, 70, 61, 52, 42, 66, 47, 59, 92, 80, 89, 77, 55, 14, 36, 69, 17, 75, 56, 23, 94, 92, 30, 7, 93, 70, 76, 51, 69, 68, 14, 55, 41, 97, 2, 84, 88, 29, 79, 18, 83, 25, 33, 86, 37, 17, 40, 32, 96, 27, 41, 18, 96, 96, 75, 93, 65, 18, 88, 89, 13, 55, 42, 69, 2, 83, 25, 2, 50, 39, 37, 4, 44, 14, 70, 34, 76, 2, 47, 82, 66, 80, 71, 61, 31, 72, 13, 66, 9, 21, 3, 88, 50, 63, 56, 29, 14, 87, 57, 26, 24, 4, 34, 99, 45, 23, 64, 9, 70, 25, 38, 49, 36, 21, 96, 10, 98, 31, 4, 99, 87, 71, 71, 17, 56, 21, 12, 46, 35, 29, 45, 95, 15, 53, 37, 56, 7, 35, 69, 7, 32, 34, 95, 34, 52, 95, 29, 62, 92, 73, 83, 86, 81, 16, 10, 91, 8, 18, 91, 16, 79, 7, 52, 48, 28, 91, 9, 55, 16, 47, 63, 16, 99, 48, 48, 59, 15, 93, 86, 1, 45, 78, 37, 88, 16, 23, 100, 73, 36, 96, 74, 27, 77, 18, 98, 61, 56, 41, 16, 74, 36, 51, 100, 11, 83, 46, 32, 16, 93, 58, 63, 92, 65, 1, 95, 53, 64, 10, 69, 82, 99, 90, 80, 93, 88, 93, 66, 82, 71, 94, 23, 7, 65, 9, 82, 94, 88, 25, 37, 72, 4, 23, 94, 62, 85, 96, 37, 83, 53, 90, 23, 75, 99, 88, 90, 65, 42, 88, 65, 98, 42, 20, 99, 70, 26, 17, 64, 64, 93, 52, 30, 7, 58, 15, 93, 49, 31, 30, 14, 10, 16, 89, 77, 6, 45, 33, 53, 25, 37, 98, 93, 31, 62, 43, 55, 5, 84, 90, 53, 43, 22, 2, 38, 18, 30, 75, 21, 16, 34, 69, 35, 47, 29, 18, 49, 12, 26, 58, 44, 9, 57, 53, 84, 19, 98, 59, 4, 67, 80, 81, 34, 58, 21, 30, 18, 5, 68, 1, 26, 47, 80, 37, 70, 25, 84, 4, 9, 43, 87, 25, 12, 12, 96, 26, 88, 57, 16, 1, 89, 91, 67, 21, 99, 69, 50, 13, 5, 16, 58, 26, 5, 44, 72, 10, 89, 62, 38, 10, 28, 45, 82, 72, 29, 23, 40, 27, 30, 36, 79, 82, 41, 9, 54, 32, 40, 35, 6, 21, 70, 32, 91, 8, 36, 36, 14, 49, 84, 55, 66, 89, 66, 64, 16, 3, 11, 65, 90, 3, 75, 64, 84, 47, 19, 72, 33, 76, 48, 34, 43, 1, 53, 8, 49, 16, 22, 85, 2, 51, 28, 76, 83, 4, 11, 32, 51, 80, 44, 21, 6, 28, 62, 8, 80, 78, 91, 94, 86, 49, 48, 99, 99, 72, 72, 26, 83, 21, 99, 65, 9, 89, 92, 76, 51, 16, 20, 58, 13, 49, 48, 67, 65, 74, 8, 20, 73, 65, 11, 15, 39, 6, 72, 78, 98, 74, 56, 19, 55, 57, 1, 29, 34, 39, 12, 63, 26, 48, 37, 13, 83, 88, 44, 75, 63, 16, 59, 12, 21, 35, 75, 91, 59, 68, 51, 89, 46, 1, 50, 17, 43, 8, 67, 54, 79, 20, 75, 55, 95, 100, 81, 11, 56, 10, 25, 98, 43, 95, 13, 86, 18, 65, 84, 21, 76, 89, 27, 49, 87, 63, 34, 60, 11, 11, 20, 40, 28, 14, 76, 65, 5, 57, 64, 82, 97, 68, 21, 2, 95, 63, 4, 80, 33, 10, 66, 62, 66, 86, 26, 68, 38, 71, 75, 40, 47, 81, 75, 43, 52, 51, 70, 60, 70, 75, 40, 23, 45, 67, 44, 97, 71, 40, 46, 21, 45, 80, 97, 66, 19, 6, 18, 86, 95, 90, 56, 9, 18, 39, 94, 43, 32, 71, 82, 56, 80, 66, 16, 23, 52, 66, 86, 62, 82, 73, 35, 93, 73, 69, 18, 20, 69, 38, 7, 41, 98, 99, 43, 74, 5, 64, 10, 8, 35, 32, 45, 3, 5, 84, 50, 30, 87, 16, 31, 77, 19, 20, 70, 66, 77, 62, 93, 98, 49, 69, 95, 4, 63, 80, 38, 75, 75, 98, 21, 68, 12, 29, 62, 63, 5, 63, 61, 47, 59, 85, 36, 86, 92, 80, 42, 51, 30, 69, 39, 36, 97, 83, 23, 74, 74, 45, 72, 36, 28, 12, 30, 12, 83, 88, 46, 3, 56, 11, 100, 19, 26, 22, 49, 14, 82, 32, 77, 93, 87, 46, 97, 53, 49, 13, 97, 56, 86, 55, 54, 36, 66, 96, 78, 60, 87, 20, 6, 96, 98, 18, 57, 14, 27, 97, 45, 34, 16, 75, 23, 55, 76, 37, 33, 3, 9, 36, 15, 86, 28, 31, 76, 25, 8, 34, 26, 78, 45, 47, 8, 80, 59, 83, 62, 84, 67, 37, 22, 73, 60, 56, 29, 87, 15, 58, 54, 96, 38, 40, 55, 48, 64, 88, 77, 94, 42, 14, 86, 93, 49, 50, 51, 37, 94, 20, 57, 55, 100, 13, 11, 34, 2, 22, 31, 91, 50, 90, 35, 24, 62, 82, 92, 98, 66, 29, 88, 29, 57, 24, 19, 92, 26, 55, 92, 75, 19, 90, 16, 36, 11, 40, 63, 10, 39, 82, 88, 96, 92, 100, 65, 16, 78, 69, 12, 88, 10, 47, 20, 56, 50, 58, 30, 54, 11, 6, 57, 98, 40, 66, 41, 99, 52, 70, 40, 86, 34, 88, 17, 3, 10, 60, 47, 40, 36, 90, 40, 40, 28, 31, 85, 88, 26, 37, 21, 92, 60, 48, 47, 83, 65, 48, 82, 71, 34, 31, 11, 75, 86, 88, 66, 1, 21, 97, 74, 72, 79, 87, 91, 61, 84, 1, 7, 13, 71, 21, 54, 32, 64, 87, 46, 95, 86, 4, 8, 35, 58, 93, 58, 59, 59, 64, 29, 50, 94, 64, 52, 50, 56, 55, 52, 45, 76, 53, 21, 55, 60, 42, 83, 51, 82, 78, 76, 28, 61, 93, 2, 54, 8, 7, 51, 73, 52, 36, 25, 9, 27, 94, 75, 91, 9, 67, 71, 25, 99, 44, 97, 99, 43, 23, 22, 32, 57, 50, 38, 82, 2, 7, 66, 36, 38, 22, 61, 64, 15, 29, 13, 43, 36, 80, 16, 95, 78, 71, 56, 59, 19, 40, 23, 65, 92, 97, 61, 4, 61, 87, 94, 43, 13, 66, 84, 83, 60, 19, 47, 9, 32, 43, 54, 32, 60, 24, 87, 1, 53, 25, 15, 10, 25, 83, 42, 47, 92, 52, 1, 11, 36, 72, 56, 40, 24, 42, 6, 44, 100, 4, 76, 51, 65, 86, 53, 17, 86, 31, 93, 68, 94, 4, 12, 29, 61, 73, 82, 50, 26, 88, 33, 76, 17, 85, 55, 85, 1, 9, 9, 90, 42, 7, 86, 39, 74, 45, 1, 56, 66, 56, 54, 19, 8, 44, 42, 43, 60, 54, 36, 56, 41, 61, 51, 25, 5, 82, 49, 78, 47, 18, 43, 36, 74, 89, 84, 17, 52, 34, 14, 77, 6, 69, 99, 54, 77, 20, 16, 74, 48, 86, 57, 44, 45, 34, 67, 33, 100, 74, 78, 83, 3, 13, 90, 83, 79, 35, 93, 24, 59, 55, 94, 98, 13, 52, 59, 32, 53, 67, 85, 60, 31, 79, 27, 33, 18, 43, 88, 40, 72, 27, 29, 54, 85, 46, 64, 39, 63, 70, 75, 42, 79, 56, 52, 20, 79, 48, 44, 88, 36, 13, 14, 26, 41, 10, 37, 57, 72, 84, 64, 21, 45, 77, 63, 9, 67, 85, 83, 43, 94, 22, 86, 96, 39, 96, 32, 53, 78, 69, 73, 22, 70, 2, 83, 11, 39, 50, 78, 91, 14, 84, 77, 86, 86, 95, 24, 26, 63, 81, 88, 22, 9, 1, 100, 17, 43, 34, 99, 51, 75, 20, 50, 38, 61, 84, 97, 59, 87, 30, 59, 78, 35, 79, 42, 90, 49, 95, 92, 37, 10, 92, 82, 54, 41, 65, 72, 38, 33, 64, 6, 71, 76, 57, 45, 35, 70, 65, 41, 53, 36, 39, 89, 89, 13, 87, 15, 94, 89, 38, 30, 93, 92, 7, 45, 73, 25, 9, 58, 14, 61, 81, 96, 88, 82, 94, 87, 36, 28, 79, 36, 26, 26, 85, 96, 11, 67, 15, 25, 70, 89, 80, 73, 98, 41, 29, 74, 16, 29, 68, 29, 32, 25, 19, 61, 90, 99, 99, 40, 56, 40, 52, 11, 6, 5, 6, 100, 7, 8, 94, 9, 28, 61, 69, 25, 13, 29, 69, 46, 72, 90, 74, 25, 84, 81, 48, 17, 21, 39, 55, 30, 50, 70, 54, 66, 62, 22, 33, 9, 40, 67, 40, 74, 53, 47, 84, 44, 74, 29, 28, 80, 95, 35, 18, 95, 28, 86, 20, 71, 13, 25, 53, 35, 42, 80, 77, 12, 50, 52, 93, 2, 84, 8, 41, 15, 56, 12, 100, 92, 83, 50, 46, 62, 60, 26, 60, 61, 66, 11, 21, 54, 39, 45, 83, 14, 21, 33, 2, 59, 73, 40, 54, 39, 26, 62, 32, 92, 11, 71, 16, 45, 54, 83, 27, 10, 21, 58, 68, 31, 52, 13, 35, 2, 27, 61, 58, 57, 82, 49, 40, 87, 23, 69, 69, 48, 62, 53, 5, 82, 67, 46, 21, 71, 63, 96, 25, 9, 9, 39, 46, 69, 12, 4, 92, 35, 49, 34, 29, 53, 57, 45, 49, 50, 76, 3, 48, 78, 24, 84, 83, 8, 49, 54, 51, 52, 79, 63, 84, 32, 59, 55, 37, 30, 75, 19, 77, 88, 42, 86, 25, 72, 87, 48, 14, 31, 34, 56, 6, 22, 41, 14, 71, 50, 74, 43, 15, 92, 94, 51, 99, 50, 76, 87, 28, 29, 87, 41, 20, 38, 10, 32, 41, 17, 66, 7, 74, 12, 79, 91, 70, 15, 52, 10, 1, 26, 35, 51, 45, 28, 7, 45, 44, 34, 49, 17, 50, 90, 7, 92, 55, 67, 41, 33, 87, 2, 72, 47, 18, 58, 90, 17, 61, 69, 65, 76, 97, 58, 10, 54, 100, 52, 2, 85, 20, 96, 35, 82, 65, 41, 63, 4, 68, 54, 99, 41, 59, 16, 9, 27, 34, 73, 61, 7, 91, 66, 82, 50, 60, 5, 83, 79, 6, 90, 9, 22, 32, 100, 30, 3, 50, 25, 81, 74, 28, 77, 37, 55, 3, 20, 72, 6, 39, 14, 77, 18, 93, 38, 94, 42, 26, 58, 58, 48, 80, 22, 58, 75, 96, 61, 12, 97, 95, 65, 52, 57, 58, 16, 92, 14, 10, 77, 21, 24, 88, 23, 96, 48, 45, 39, 40, 68, 10, 67, 74, 71, 53, 75, 87, 28, 16, 96, 67, 43, 92, 72, 41, 30, 43, 67, 44, 67, 49, 100, 12, 72, 93, 70, 39, 25, 71, 99, 27, 42, 80, 53, 1, 33, 91, 56, 19, 48, 96, 17, 17, 38, 10, 77, 50, 28, 64, 48, 63, 76, 16, 43, 12, 23, 2, 95, 54, 52, 58, 83, 68, 64, 24, 19, 80, 48, 11, 13, 79, 87, 79, 54, 16, 72, 45, 81, 58, 74, 12, 100, 45, 70, 58, 83, 62, 10, 68, 70, 87, 84, 62, 2, 64, 94, 46, 87, 83, 30, 40, 28, 55, 72, 18, 9, 82, 90, 55, 11, 72, 14, 39, 12, 82, 48, 47, 38, 79, 62, 85, 43, 36, 25, 57, 54, 38, 86, 91, 68, 17, 28, 47, 68, 41, 75, 34, 54, 86, 89, 36, 6, 15, 96, 46, 55, 38, 20, 61, 97, 54, 4, 90, 63, 55, 97, 31, 98, 33, 24, 24, 97, 16, 23, 10, 4, 95, 88, 33, 55, 68, 94, 64, 56, 96, 50, 51, 21, 48, 87, 33, 39, 74, 6, 68, 96, 62, 38, 59, 60, 57, 86, 22, 49, 20, 51, 23, 20, 10, 62, 36, 89, 89, 95, 83, 43, 37, 75, 12, 61, 26, 25, 41, 90, 54, 22, 82, 71, 79, 5, 97, 73, 7, 52, 19, 5, 33, 74, 69, 17, 56, 99, 83, 53, 30, 41, 31, 5, 97, 39, 24, 18, 25, 43, 23, 25, 79, 86, 18, 6, 8, 88, 77, 46, 99, 51, 1, 51, 14, 92, 71, 80, 6, 79, 56, 15, 52, 40, 7, 26, 94, 49, 89, 19, 99, 63, 5, 27, 60, 36, 48, 77, 62, 4, 91, 28, 68, 43, 63, 67, 1, 30, 84, 35, 42, 53, 27, 30, 90, 64, 39, 35, 69, 38, 60, 51, 63, 5, 75, 100, 54, 64, 31, 19, 15, 53, 13, 35, 8, 38, 15, 90, 63, 54, 80, 24, 72, 96, 27, 7, 98, 19, 13, 66, 46, 18, 49, 90, 44, 9, 62, 70, 73, 100, 95, 2, 33, 85, 12, 98, 75, 22, 81, 43, 27, 65, 33, 56, 79, 79, 17, 12, 9, 46, 3, 22, 16, 30, 1, 32, 27, 100, 66, 21, 91, 19, 32, 48, 49, 47, 10, 90, 61, 20, 82, 13, 61, 78, 28, 15, 2, 97, 90, 60, 98, 96, 9, 96, 10, 59, 27, 97, 13, 80, 6, 60, 44, 16, 7, 33, 6, 50, 60, 16, 67, 59, 99, 58, 7, 97, 39, 89, 25, 71, 68, 26, 73, 40, 83, 30, 88, 74, 38, 23, 82, 26, 6, 2, 52, 42, 74, 86, 26, 2, 38, 52, 54, 20, 15, 76, 56, 87, 84, 11, 14, 86, 93, 84, 83, 43, 61, 22, 9, 68, 21, 73, 16, 52, 27, 44, 67, 96, 79, 17, 67, 71, 70, 56, 72, 59, 31, 7, 52, 4, 59, 54, 75, 59, 58, 79, 74, 5, 99, 31, 71, 1, 10, 38, 59, 14, 6, 16, 15, 49, 85, 19, 88, 4, 39, 34, 6, 58, 23, 91, 53, 9, 1, 34, 52, 51, 37, 2, 61, 34, 100, 27, 30, 61, 15, 37, 14, 68, 5, 43, 96, 90, 59, 9, 62, 47, 28, 56, 50, 35, 69, 59, 65, 42, 15, 49, 90, 34, 7, 53, 15, 3, 86, 46, 59, 65, 30, 1, 50, 52, 82, 98, 68, 14, 92, 25, 70, 22, 42, 29, 91, 69, 25, 64, 44, 6, 40, 57, 90, 95, 58, 18, 72, 8, 98, 8, 24, 93, 15, 22, 29, 35, 33, 86, 23, 35, 64, 69, 45, 50, 65, 7, 3, 74, 74, 90, 73, 94, 77, 23, 75, 59, 47, 87, 86, 64, 46, 92, 74, 41, 46, 52, 52, 40, 72, 65, 6, 88, 20, 69, 87, 5, 98, 87, 4, 100, 83, 88, 12, 86, 76, 77, 92, 46, 18, 14, 1, 59, 83, 58, 33, 5, 6, 51, 97, 56, 86, 26, 82, 70, 41, 66, 66, 24, 3, 17, 45, 71, 58, 97, 8, 56, 27, 79, 53, 58, 84, 97, 60, 17, 97, 7, 46, 9, 64, 24, 38, 19, 31, 29, 71, 98, 5, 14, 20, 77, 53, 66, 31, 20, 53, 19, 8, 45, 8, 92, 56, 41, 94, 95, 14, 43, 30, 69, 92, 89, 28, 27, 88, 89, 8, 50, 36, 52, 23, 24, 43, 39, 72, 75, 28, 47, 93, 37, 24, 48, 11, 14, 22, 30, 28, 14, 44, 64, 81, 41, 7, 45, 22, 75, 6, 54, 18, 17, 32, 91, 34, 68, 8, 96, 94, 37, 16, 49, 57, 41, 37, 40, 91, 35, 43, 62, 47, 41, 12, 72, 64, 26, 16, 99, 36, 21, 68, 89, 68, 64, 76, 85, 8, 12, 57, 21, 67, 74, 49, 88, 39, 79, 48, 18, 78, 33, 96, 24, 94, 45, 44, 40, 29, 17, 25, 40, 26, 2, 11, 36, 74, 74, 55, 56, 95, 40, 67, 25, 21, 7, 14, 26, 20, 10, 45, 85, 37, 71, 68, 43, 11, 82, 97, 21, 38, 1, 37, 33, 75, 46, 97, 17, 82, 41, 39, 38, 95, 100, 27, 57, 63, 6, 85, 96, 59, 42, 7, 87, 86, 32, 81, 19, 49, 71, 38, 30, 36, 96, 72, 64, 5, 43, 24, 55, 82, 30, 53, 59, 6, 59, 29, 15, 39, 40, 65, 92, 58, 81, 34, 1, 7, 11, 35, 10, 1, 39, 82, 96, 34, 12, 30, 94, 64, 87, 95, 12, 100, 19, 77, 100, 42, 2, 60, 86, 57, 45, 2, 97, 6, 54, 37, 4, 84, 55, 92, 47, 84, 27, 77, 7, 8, 8, 16, 5, 89, 33, 64, 17, 76, 61, 69, 65, 60, 68, 80, 41, 45, 88, 86, 53, 41, 70, 48, 52, 26, 62, 51, 65, 4, 88, 38, 66, 60, 78, 38, 20, 21, 32, 82, 100, 10, 10, 88, 54, 5, 98, 5, 70, 74, 64, 38, 98, 95, 1, 99, 35, 91, 72, 99, 21, 60, 19, 92, 62, 87, 39, 38, 45, 58, 62, 43, 92, 44, 94, 79, 2, 78, 67, 11, 98, 83, 85, 2, 91, 57, 16, 92, 46, 10, 79, 1, 3, 66, 31, 97, 35, 10, 81, 51, 67, 16, 87, 76, 71, 10, 49, 28, 88, 66, 79, 29, 9, 74, 78, 21, 53, 60, 84, 71, 18, 61, 16, 12, 80, 19, 52, 11, 58, 74, 20, 25, 2, 20, 5, 31, 92, 64, 82, 46, 3, 54, 29, 19, 96, 71, 81, 86, 21, 65, 64, 51, 85, 78, 21, 90, 53, 35, 38, 91, 87, 61, 46, 90, 52, 5, 57, 86, 78, 36, 66, 62, 1, 57, 95, 88, 78, 3, 22, 63, 70, 2, 97, 25, 50, 100, 82, 52, 29, 84, 13, 82, 6, 84, 74, 30, 44, 100, 12, 22, 59, 87, 85, 84, 16, 65, 84, 77, 65, 13, 37, 36, 81, 8, 30, 35, 43, 70, 4, 69, 43, 7, 52, 2, 32, 43, 62, 99, 83, 5, 28, 63, 17, 51, 47, 18, 51, 74, 46, 23, 13, 54, 26, 37, 44, 59, 45, 8, 26, 72, 6, 91, 53, 72, 26, 42, 7, 89, 10, 32, 51, 69, 63, 96, 90, 11, 74, 1, 64, 66, 89, 93, 69, 7, 64, 86, 39, 96, 46, 70, 53, 31, 73, 52, 100, 64, 91, 49, 61, 69, 56, 11, 45, 19, 83, 24, 44, 59, 67, 2, 9, 15, 51, 78, 91, 4, 87, 100, 96, 39, 40, 81, 89, 29, 51, 15, 30, 25, 85, 51, 31, 7, 96, 64, 36, 63, 46, 100, 18, 79, 23, 99, 92, 96, 56, 68, 89, 21, 21, 31, 97, 39, 99, 84, 9, 30, 90, 17, 86, 99, 9, 100, 94, 38, 77, 27, 6, 10, 57, 69, 19, 63, 59, 90, 23, 20, 97, 75, 71, 93, 63, 43, 2, 2, 57, 72, 94, 58, 13, 41, 46, 63, 98, 78, 69, 18, 37, 11, 92, 4, 10, 6, 29, 46, 16, 98, 100, 37, 8, 53, 36, 13, 61, 76, 55, 43, 16, 63, 13, 86, 5, 95, 44, 51, 30, 60, 95, 95, 31, 99, 1, 49, 85, 86, 36, 57, 46, 83, 42, 74, 96, 35, 97, 99, 70, 8, 13, 96, 46, 95, 13, 99, 18, 56, 50, 63, 38, 93, 46, 57, 94, 17, 57, 71, 25, 8, 76, 72, 89, 44, 41, 48, 37, 15, 78, 22, 1, 12, 76, 59, 68, 19, 99, 85, 20, 18, 14, 77, 5, 54, 90, 79, 34, 2, 77, 52, 43, 51, 79, 69, 95, 76, 25, 72, 4, 14, 72, 23, 65, 100, 94, 68, 88, 16, 15, 34, 96, 50, 27, 62, 9, 40, 96, 13, 71, 47, 24, 18, 94, 49, 13, 96, 17, 18, 77, 51, 16, 40, 8, 36, 27, 38, 100, 21, 53, 82, 79, 44, 62, 12, 21, 75, 82, 81, 76, 88, 59, 4, 3, 56, 23, 34, 99, 70, 82, 27, 33, 15, 45, 52, 99, 84, 93, 54, 28, 73, 87, 43, 25, 41, 50, 11, 5, 93, 34, 78, 26, 81, 49, 42, 61, 92, 61, 91, 82, 35, 21, 32, 38, 77, 64, 5, 97, 6, 71, 59, 29, 10, 91, 6, 49, 58, 10, 99, 46, 33, 54, 7, 51, 74, 45, 46, 83, 10, 31, 70, 9, 45, 41, 62, 81, 5, 79, 98, 29, 88, 9, 18, 12, 35, 23, 5, 78, 42, 40, 12, 91, 87, 85, 52, 19, 70, 13, 52, 53, 13, 22, 76, 4, 66, 87, 37, 52, 30, 18, 26, 48, 46, 30, 24, 47, 63, 78, 89, 29, 44, 55, 51, 46, 7, 23, 92, 5, 46, 76, 8, 54, 96, 33, 83, 44, 12, 33, 7, 57, 49, 71, 35, 62, 72, 55, 42, 36, 86, 85, 56, 54, 58, 29, 81, 2, 69, 93, 76, 46, 74, 3, 23, 71, 78, 72, 83, 48, 19, 100, 57, 23, 85, 75, 25, 62, 9, 16, 20, 22, 74, 77, 44, 3, 75, 74, 78, 2, 78, 74, 10, 57, 50, 20, 67, 47, 18, 22, 39, 23, 38, 45, 89, 94, 55, 68, 83, 40, 20, 64, 91, 12, 63, 94, 34, 44, 24, 71, 4, 65, 66, 33, 94, 31, 41, 44, 26, 98, 68, 37, 78, 61, 6, 76, 50, 88, 2, 1, 36, 60, 85, 55, 12, 25, 65, 76, 50, 76, 72, 13, 75, 24, 35, 6, 77, 53, 34, 83, 33, 4, 61, 6, 35, 81, 30, 31, 28, 10, 73, 29, 25, 37, 7, 9, 55, 75, 8, 39, 5, 27, 67, 97, 58, 92, 34, 57, 61, 51, 76, 36, 62, 37, 15, 2, 23, 27, 52, 68, 94, 58, 10, 79, 82, 89, 92, 85, 9, 59, 4, 20, 15, 80, 13, 27, 21, 74, 80, 32, 56, 76, 89, 44, 11, 2, 92, 72, 73, 83, 18, 78, 10, 40, 14, 30, 57, 83, 35, 67, 67, 95, 41, 76, 44, 92, 8, 51, 69, 7, 81, 6, 48, 54, 93, 3, 96, 73, 98, 21, 49, 12, 14, 66, 28, 49, 24, 78, 68, 24, 14, 66, 98, 98, 12, 100, 58, 97, 67, 24, 54, 42, 15, 46, 60, 58, 46, 35, 15, 8, 28, 5, 75, 60, 77, 80, 60, 29, 25, 94, 13, 87, 68, 40, 56, 89, 64, 4, 90, 56, 67, 86, 21, 49, 36, 84, 16, 100, 7, 29, 87, 89, 29, 63, 39, 100, 43, 35, 78, 5, 92, 5, 91, 41, 46, 14, 98, 81, 67, 9, 93, 100, 10, 24, 14, 16, 17, 73, 69, 34, 47, 47, 71, 61, 20, 49, 66, 46, 99, 50, 26, 85, 25, 15, 17, 34, 93, 61, 89, 38, 32, 70, 69, 67, 18, 21, 45, 20, 59, 58, 46, 80, 84, 80, 36, 39, 18, 9, 96, 7, 82, 69, 57, 26, 7, 98, 64, 72, 30, 46, 15, 71, 52, 56, 77, 50, 29, 68, 34, 59, 87, 21, 92, 6, 22, 69, 91, 19, 1, 33, 79, 2, 59, 6, 32, 92, 14, 28, 36, 38, 85, 60, 81, 33, 93, 71, 15, 81, 55, 1, 48, 39, 43, 91, 99, 86, 83, 12, 64, 38, 37, 52, 59, 65, 2, 5, 8, 93, 51, 17, 65, 19, 71, 28, 61, 91, 85, 85, 57, 97, 56, 20, 45, 63, 18, 19, 91, 53, 17, 19, 48, 3, 18, 77, 19, 83, 38, 1, 91, 96, 88, 2, 48, 23, 94, 94, 40, 47, 48, 62, 51, 3, 31, 97, 93, 73, 93, 50, 20, 99, 51, 73, 87, 87, 66, 13, 87, 11, 69, 13, 90, 35, 76, 6, 69, 53, 42, 89, 95, 36, 18, 7, 35, 68, 37, 97, 21, 2, 100, 66, 18, 32, 58, 94, 90, 30, 48, 68, 53, 38, 83, 34, 86, 21, 20, 66, 70, 75, 13, 28, 70, 48, 86, 70, 98, 53, 11, 5, 16, 27, 72, 5, 33, 3, 70, 91, 47, 62, 75, 5, 25, 77, 28, 91, 73, 21, 20, 66, 66, 16, 53, 55, 91, 55, 85, 46, 3, 8, 28, 40, 60, 86, 13, 100, 55, 6, 20, 60, 30, 64, 89, 38, 38, 30, 56, 2, 25, 69, 88, 100, 88, 76, 5, 5, 29, 28, 29, 63, 32, 68, 62, 51, 86, 100, 6, 26, 16, 42, 11, 63, 40, 29, 23, 92, 68, 43, 40, 37, 52, 89, 13, 16, 80, 87, 95, 11, 19, 53, 55, 74, 18, 36, 88, 53, 37, 38, 62, 50, 98, 2, 40, 90, 87, 8, 53, 88, 17, 63, 37, 73, 68, 71, 59, 9, 56, 14, 50, 8, 60, 21, 61, 24, 1, 23, 41, 75, 41, 61, 57, 97, 61, 83, 96, 87, 4, 91, 42, 1, 38, 97, 49, 9, 1, 44, 59, 28, 85, 54, 11, 71, 3, 89, 46, 32, 55, 46, 16, 77, 19, 1, 99, 52, 49, 25, 63, 87, 56, 53, 76, 48, 59, 29, 17, 2, 42, 67, 28, 44, 24, 79, 84, 37, 68, 16, 75, 81, 35, 73, 69, 97, 26, 4, 42, 26, 39, 67, 20, 6, 14, 45, 93, 24, 57, 71, 35, 48, 86, 36, 97, 33, 94, 15, 77, 2, 63, 72, 52, 17, 37, 76, 93, 8, 27, 40, 80, 28, 44, 67, 68, 91, 84, 26, 69, 47, 95, 2, 78, 64, 18, 46, 4, 20, 47, 50, 73, 89, 71, 29, 65, 96, 49, 80, 30, 25, 88, 18, 19, 21, 24, 36, 12, 64, 53, 62, 77, 64, 71, 47, 20, 32, 54, 52, 21, 46, 94, 31, 18, 2, 21, 44, 92, 76, 96, 39, 23, 59, 53, 91, 69, 51, 3, 29, 87, 51, 19, 87, 4, 24, 85, 89, 38, 92, 56, 37, 35, 44, 62, 47, 46, 47, 15, 30, 8, 15, 95, 90, 40, 71, 69, 32, 82, 40, 48, 51, 6, 67, 93, 56, 26, 62, 56, 68, 45, 30, 66, 100, 20, 89, 73, 11, 28, 4, 8, 23, 44, 53, 55, 32, 94, 10, 73, 80, 48, 52, 57, 89, 11, 31, 11, 43, 76, 88, 46, 47, 36, 93, 38, 96, 87, 14, 68, 32, 3, 82, 71, 86, 40, 65, 99, 82, 9, 77, 14, 3, 99, 75, 10, 90, 37, 26, 75, 45, 16, 44, 34, 41, 49, 70, 23, 64, 49, 52, 97, 10, 93, 15, 69, 20, 21, 60, 22, 66, 38, 58, 89, 91, 33, 2, 53, 92, 54, 79, 9, 90, 73, 78, 25, 68, 81, 1, 25, 77, 99, 86, 25, 76, 50, 17, 52, 85, 69, 3, 52, 25, 11, 98, 76, 59, 100, 39, 58, 21, 78, 100, 73, 95, 39, 91, 9, 27, 39, 70, 6, 16, 3, 80, 6, 9, 89, 83, 62, 73, 39, 6, 39, 63, 71, 64, 71, 37, 45, 40, 64, 20, 93, 91, 63, 5, 59, 3, 90, 57, 44, 60, 7, 2, 50, 40, 7, 11, 97, 45, 53, 90, 22, 95, 7, 16, 40, 22, 67, 83, 77, 29, 39, 29, 96, 70, 48, 73, 90, 60, 87, 92, 83, 5, 47, 97, 58, 38, 80, 26, 62, 3, 47, 34, 11, 81, 56, 63, 44, 25, 92, 6, 58, 13, 90, 88, 7, 3, 75, 25, 61, 100, 46, 20, 63, 24, 71, 79, 65, 74, 50, 95, 39, 57, 69, 12, 15, 82, 58, 67, 69, 7, 10, 89, 7, 26, 29, 3, 73, 37, 31, 96, 78, 85, 49, 69, 9, 7, 65, 95, 59, 91, 80, 75, 30, 74, 70, 77, 21, 95, 36, 48, 51, 56, 68, 4, 68, 72, 2, 6, 86, 57, 55, 39, 75, 53, 15, 72, 81, 55, 93, 19, 30, 92, 99, 81, 36, 19, 7, 7, 100, 83, 65, 20, 66, 89, 47, 34, 37, 40, 1, 73, 42, 77, 25, 100, 39, 36, 90, 23, 20, 85, 20, 56, 53, 16, 85, 4, 32, 11, 67, 44, 2, 42, 33, 29, 18, 48, 28, 15, 6, 41, 53, 63, 55, 63, 72, 42, 9, 10, 20, 78, 22, 86, 87, 25, 95, 15, 26, 74, 84, 93, 95, 70, 19, 57, 62, 42, 15, 82, 54, 40, 86, 60, 30, 97, 19, 53, 82, 79, 96, 38, 14, 6, 57, 89, 47, 41, 49, 91, 77, 5, 90, 85, 43, 69, 48, 88, 97, 86, 68, 87, 3, 38, 25, 77, 69, 41, 50, 46, 91, 43, 4, 37, 32, 34, 96, 10, 87, 27, 45, 60, 84, 42, 58, 71, 82, 100, 97, 61, 84, 74, 4, 98, 96, 91, 46, 89, 5, 66, 39, 22, 24, 27, 13, 4, 79, 15, 89, 63, 73, 43, 85, 45, 6, 90, 51, 36, 61, 76, 53, 47, 2, 92, 25, 68, 77, 95, 32, 45, 19, 74, 41, 79, 41, 92, 83, 37, 25, 94, 39, 83, 30, 1, 91, 13, 77, 20, 2, 89, 10, 35, 1, 77, 13, 83, 83, 39, 48, 40, 43, 66, 30, 37, 21, 28, 34, 28, 76, 60, 40, 53, 39, 31, 1, 59, 38, 25, 14, 18, 8, 84, 27, 34, 35, 26, 71, 64, 6, 29, 12, 57, 85, 53, 100, 65, 82, 62, 69, 60, 37, 34, 45, 35, 41, 53, 76, 86, 20, 81, 96, 21, 71, 12, 22, 59, 60, 39, 79, 100, 3, 84, 54, 74, 89, 52, 31, 81, 97, 32, 71, 65, 76, 61, 42, 25, 51, 58, 48, 53, 13, 78, 97, 63, 78, 82, 83, 63, 51, 54, 6, 49, 98, 56, 43, 41, 24, 25, 85, 43, 89, 57, 13, 86, 40, 68, 99, 39, 21, 80, 63, 96, 35, 49, 60, 71, 7, 26, 49, 72, 39, 39, 97, 43, 86, 64, 46, 18, 88, 30, 100, 49, 45, 97, 21, 36, 65, 37, 8, 89, 63, 20, 96, 17, 43, 83, 30, 69, 35, 67, 42, 84, 62, 85, 20, 44, 70, 29, 9, 13, 38, 46, 21, 95, 75, 69, 24, 45, 100, 82, 59, 23, 51, 71, 7, 30, 94, 80, 97, 55, 68, 7, 60, 99, 6, 14, 71, 16, 64, 3, 57, 22, 80, 47, 46, 76, 53, 83, 3, 71, 88, 47, 65, 70, 84, 50, 54, 65, 60, 22, 5, 20, 93, 71, 70, 17, 98, 60, 39, 84, 90, 76, 67, 90, 94, 2, 9, 94, 80, 22, 83, 70, 23, 56, 29, 18, 77, 45, 56, 55, 77, 13, 19, 74, 9, 91, 89, 93, 84, 76, 43, 70, 38, 53, 16, 1, 60, 88, 46, 67, 91, 99, 78, 14, 44, 73, 13, 97, 46, 57, 2, 17, 15, 51, 61, 48, 24, 34, 99, 76, 49, 64, 17, 58, 81, 4, 63, 3, 7, 2, 55, 39, 72, 17, 12, 21, 13, 95, 37, 57, 63, 56, 30, 96, 26, 43, 86, 3, 72, 49, 95, 26, 71, 45, 56, 91, 55, 95, 78, 67, 31, 9, 50, 48, 1, 86, 90, 36, 97, 75, 38, 29, 74, 10, 25, 42, 73, 12, 68, 55, 40, 8, 89, 98, 60, 74, 68, 2, 2, 33, 7, 100, 86, 67, 59, 31, 93, 98, 28, 99, 17, 58, 5, 78, 100, 78, 44, 67, 67, 28, 89, 53, 31, 83, 12, 49, 10, 94, 42, 47, 37, 2, 92, 75, 81, 29, 65, 86, 74, 69, 45, 79, 93, 28, 98, 90, 89, 60, 50, 64, 93, 1, 53, 81, 82, 79, 79, 37, 34, 93, 36, 8, 86, 62, 97, 36, 4, 17, 16, 10, 100, 18, 89, 16, 91, 24, 27, 4, 90, 14, 76, 11, 48, 52, 55, 99, 6, 30, 50, 63, 29, 88, 19, 62, 1, 42, 84, 14, 47, 87, 69, 36, 79, 25, 62, 26, 10, 35, 84, 50, 81, 8, 26, 69, 25, 24, 29, 32, 57, 12, 73, 4, 53, 8, 73, 97, 41, 49, 1, 49, 34, 94, 68, 75, 70, 42, 74, 40, 83, 94, 58, 11, 72, 84, 13, 23, 61, 57, 75, 63, 47, 74, 23, 84, 99, 92, 73, 44, 18, 56, 82, 51, 10, 36, 7, 93, 45, 40, 74, 89, 68, 51, 24, 87, 70, 78, 92, 77, 21, 7, 36, 76, 75, 100, 75, 95, 39, 38, 11, 94, 19, 20, 34, 62, 40, 100, 82, 81, 81, 73, 54, 84, 99, 56, 61, 37, 61, 29, 33, 89, 15, 40, 50, 19, 93, 87, 13, 71, 50, 14, 36, 47, 67, 15, 2, 26, 16, 56, 89, 16, 82, 36, 77, 67, 20, 94, 85, 86, 9, 81, 90, 54, 83, 34, 3, 90, 82, 49, 86, 94, 45, 62, 23, 40, 45, 78, 73, 39, 19, 61, 47, 24, 55, 51, 50, 84, 57, 70, 49, 25, 12, 61, 84, 13, 96, 19, 73, 53, 70, 28, 59, 88, 57, 26, 100, 74, 10, 53, 54, 73, 33, 90, 64, 70, 11, 81, 16, 43, 74, 84, 22, 90, 80, 90, 46, 67, 30, 17, 21, 16, 18, 36, 23, 48, 14, 1, 86, 91, 37, 31, 30, 68, 60, 16, 47, 86, 62, 55, 82, 43, 51, 64, 14, 22, 48, 46, 55, 61, 25, 93, 72, 96, 67, 100, 13, 58, 23, 12, 17, 73, 44, 44, 93, 94, 78, 51, 45, 75, 19, 74, 83, 6, 37, 32, 52, 77, 65, 36, 39, 65, 47, 1, 23, 91, 49, 31, 41, 6, 100, 25, 63, 46, 4, 4, 70, 87, 90, 96, 69, 12, 88, 66, 99, 21, 53, 65, 73, 75, 34, 33, 54, 92, 13, 100, 40, 13, 20, 4, 18, 24, 6, 71, 29, 52, 56, 5, 34, 2, 68, 38, 54, 27, 24, 73, 91, 53, 77, 11, 96, 46, 50, 77, 51, 82, 81, 47, 41, 3, 49, 9, 87, 21, 21, 40, 50, 42, 98, 99, 9, 33, 28, 17, 40, 94, 19, 68, 92, 89, 97, 90, 61, 54, 13, 99, 34, 11, 7, 5, 5, 86, 98, 80, 36, 25, 63, 53, 27, 62, 78, 27, 58, 78, 79, 53, 90, 51, 67, 29, 9, 28, 3, 47, 78, 54, 93, 84, 71, 2, 68, 68, 86, 33, 91, 15, 6, 64, 38, 34, 86, 51, 37, 7, 87, 1, 85, 49, 62, 48, 86, 21, 72, 44, 49, 85, 25, 67, 76, 37, 2, 46, 56, 36, 83, 41, 99, 3, 52, 79, 2, 31, 96, 87, 71, 9, 50, 96, 25, 12, 19, 76, 7, 6, 66, 92, 99, 65, 74, 30, 91, 80, 93, 57, 86, 6, 66, 17, 90, 76, 69, 12, 55, 24, 67, 99, 33, 3, 12, 37, 14, 74, 30, 44, 33, 30, 57, 81, 57, 29, 26, 85, 90, 56, 35, 5, 19, 2, 91, 80, 2, 53, 5, 83, 93, 4, 25, 14, 89, 38, 37, 58, 100, 67, 98, 33, 5, 84, 70, 87, 13, 46, 68, 62, 85, 86, 71, 12, 81, 78, 4, 12, 9, 96, 92, 36, 87, 36, 76, 91, 86, 61, 36, 89, 62, 59, 60, 23, 17, 42, 72, 45, 2, 55, 57, 66, 4, 38, 79, 95, 1, 2, 63, 97, 54, 9, 76, 71, 36, 26, 54, 74, 50, 41, 39, 21, 34, 6, 69, 68, 9, 72, 3, 80, 26, 59, 7, 19, 59, 54, 9, 94, 56, 27, 52, 10, 70, 69, 82, 57, 9, 43, 91, 14, 21, 11, 11, 99, 43, 81, 73, 79, 39, 98, 97, 75, 90, 72, 65, 77, 64, 78, 4, 95, 98, 47, 25, 89, 87, 6, 10, 44, 51, 19, 75, 71, 52, 60, 96, 91, 29, 37, 40, 44, 21, 3, 20, 64, 44, 82, 80, 34, 23, 67, 10, 51, 1, 29, 50, 28, 73, 40, 68, 53, 9, 39, 40, 44, 97, 13, 4, 42, 42, 58, 99, 15, 10, 84, 66, 66, 83, 95, 82, 23, 48, 41, 91, 57, 48, 86, 14, 7, 57, 10, 41, 36, 38, 57, 64, 76, 22, 90, 31, 48, 77, 29, 81, 6, 94, 46, 48, 15, 41, 19, 40, 43, 13, 23, 76, 56, 49, 20, 61, 63, 60, 83, 38, 75, 96, 97, 91, 74, 73, 6, 55, 15, 97, 63, 29, 29, 1, 23, 82, 34, 59, 69, 11, 55, 98, 99, 5, 20, 70, 22, 90, 62, 58, 88, 12, 90, 7, 30, 43, 38, 98, 72, 68, 36, 48, 38, 6, 74, 56, 11, 79, 96, 97, 82, 94, 21, 48, 83, 74, 68, 62, 51, 29, 86, 62, 9, 4, 44, 45, 37, 18, 96, 75, 85, 63, 49, 87, 80, 67, 19, 93, 43, 35, 97, 60, 5, 12, 88, 100, 74, 92, 34, 69, 70, 81, 90, 4, 82, 18, 98, 36, 61, 72, 52, 60, 73, 57, 20, 48, 27, 92, 81, 86, 92, 47, 25, 1, 9, 67, 92, 34, 34, 64, 45, 79, 64, 6, 32, 9, 63, 66, 48, 36, 67, 21, 71, 2, 57, 52, 14, 88, 80, 100, 47, 43, 26, 98, 79, 24, 56, 31, 85, 26, 42, 85, 1, 36, 37, 99, 80, 94, 25, 18, 75, 76, 14, 8, 30, 77, 14, 86, 91, 63, 16, 8, 52, 57, 40, 57, 44, 18, 38, 82, 16, 8, 90, 76, 43, 27, 4, 43, 47, 90, 8, 1, 17, 97, 31, 57, 13, 53, 13, 66, 66, 16, 46, 42, 62, 11, 43, 93, 78, 51, 90, 61, 55, 24, 20, 13, 54, 39, 29, 47, 96, 52, 61, 5, 57, 82, 26, 20, 25, 50, 75, 16, 6, 27, 50, 95, 57, 78, 10, 30, 87, 9, 48, 74, 13, 91, 78, 47, 14, 90, 22, 76, 3, 53, 81, 65, 97, 86, 93, 41, 63, 84, 74, 15, 83, 19, 55, 89, 16, 30, 36, 1, 21, 54, 63, 86, 14, 66, 58, 12, 37, 17, 33, 48, 27, 8, 14, 42, 39, 62, 29, 94, 80, 50, 75, 60, 77, 43, 36, 58, 78, 59, 7, 36, 70, 26, 18, 17, 15, 77, 67, 39, 92, 57, 85, 50, 73, 45, 35, 1, 36, 14, 81, 74, 59, 41, 5, 16, 76, 73, 72, 84, 91, 92, 75, 92, 3, 78, 81, 14, 67, 84, 6, 28, 85, 35, 24, 24, 43, 19, 85, 58, 94, 17, 77, 54, 37, 5, 97, 80, 1, 19, 71, 59, 49, 99, 21, 66, 30, 15, 79, 94, 92, 81, 43, 52, 2, 83, 70, 66, 31, 40, 59, 46, 81, 79, 12, 90, 68, 17, 98, 57, 73, 19, 12, 28, 26, 82, 16, 32, 5, 36, 100, 58, 70, 75, 82, 61, 94, 44, 6, 92, 43, 62, 4, 26, 85, 7, 8, 39, 40, 2, 51, 97, 81, 90, 87, 18, 75, 1, 36, 46, 63, 49, 5, 85, 38, 87, 22, 31, 88, 63, 17, 65, 55, 34, 24, 52, 40, 40, 7, 16, 100, 2, 91, 55, 97, 76, 85, 53, 57, 33, 33, 9, 88, 2, 67, 94, 6, 95, 45, 72, 58, 11, 75, 79, 50, 41, 90, 47, 84, 25, 20, 70, 36, 19, 32, 49, 11, 53, 90, 4, 57, 64, 48, 65, 16, 98, 72, 31, 100, 6, 18, 15, 92, 93, 97, 50, 44, 88, 27, 23, 61, 9, 24, 22, 58, 88, 58, 29, 61, 76, 60, 99, 24, 49, 77, 23, 40, 35, 17, 81, 92, 8, 97, 61, 52, 79, 30, 92, 64, 24, 59, 98, 56, 60, 25, 98, 21, 62, 15, 27, 38, 93, 92, 44, 83, 14, 21, 30, 40, 31, 1, 92, 44, 72, 19, 26, 84, 53, 98, 8, 39, 66, 90, 70, 25, 9, 20, 72, 44, 14, 35, 84, 22, 47, 16, 5, 24, 80, 53, 75, 13, 44, 88, 20, 30, 91, 56, 55, 41, 85, 22, 74, 100, 63, 2, 84, 93, 44, 77, 91, 13, 47, 69, 88, 67, 65, 80, 37, 12, 2, 62, 26, 23, 6, 39, 35, 25, 54, 57, 16, 79, 25, 18, 79, 68, 74, 42, 30, 69, 90, 53, 1, 83, 29, 2, 58, 32, 65, 12, 49, 84, 84, 48, 18, 78, 37, 16, 82, 44, 49, 85, 48, 66, 67, 68, 67, 91, 93, 96, 86, 1, 12, 12, 70, 65, 76, 56, 33, 100, 23, 57, 67, 39, 75, 80, 78, 42, 23, 48, 53, 35, 74, 12, 49, 16, 85, 83, 26, 88, 58, 69, 48, 56, 30, 36, 48, 89, 40, 3, 4, 75, 37, 45, 36, 60, 80, 10, 33, 13, 34, 37, 75, 41, 73, 96, 15, 42, 26, 26, 84, 83, 36, 9, 36, 68, 54, 96, 67, 26, 18, 70, 46, 100, 44, 65, 60, 55, 68, 32, 27, 6, 3, 45, 28, 58, 67, 40, 78, 88, 39, 43, 9, 40, 26, 91, 30, 59, 24, 66, 55, 68, 24, 61, 18, 34, 13, 84, 63, 88, 86, 45, 74, 57, 85, 51, 18, 43, 9, 14, 85, 69, 92, 55, 43, 96, 26, 46, 89, 88, 44, 94, 77, 25, 25, 78, 39, 78, 44, 70, 63, 31, 60, 8, 30, 39, 86, 92, 19, 83, 56, 87, 53, 38, 13, 94, 18, 21, 39, 92, 85, 25, 20, 42, 100, 81, 13, 29, 96, 20, 44, 13, 91, 35, 54, 57, 71, 91, 80, 55, 41, 45, 54, 51, 59, 38, 6, 97, 19, 75, 95, 47, 34, 67, 59, 18, 68, 36, 15, 86, 94, 61, 52, 57, 68, 47, 35, 63, 66, 93, 16, 22, 63, 98, 90, 100, 14, 27, 35, 16, 55, 1, 81, 96, 67, 54, 60, 29, 100, 24, 29, 73, 11, 95, 16, 13, 40, 23, 37, 89, 5, 77, 19, 19, 18, 2, 2, 9, 12, 23, 6, 46, 21, 15, 100, 86, 15, 86, 19, 4, 17, 61, 20, 58, 76, 41, 88, 92, 10, 79, 94, 28, 97, 24, 24, 70, 47, 54, 58, 11, 57, 89, 89, 67, 53, 52, 35, 56, 98, 81, 93, 35, 35, 15, 58, 79, 72, 81, 75, 57, 49, 56, 73, 11, 75, 63, 3, 94, 89, 68, 77, 48, 95, 13, 54, 96, 16, 61, 2, 50, 28, 40, 12, 16, 50, 76, 79, 57, 24, 96, 91, 99, 28, 66, 93, 28, 85, 27, 3, 58, 98, 57, 86, 48, 69, 14, 62, 61, 98, 3, 96, 98, 73, 27, 20, 9, 63, 21, 63, 6, 8, 20, 52, 27, 52, 30, 3, 22, 6, 81, 99, 82, 95, 7, 3, 71, 34, 80, 82, 90, 79, 51, 52, 89, 50, 44, 64, 12, 45, 87, 35, 6, 39, 22, 81, 58, 20, 18, 95, 48, 19, 49, 28, 6, 1, 91, 35, 95, 86, 98, 2, 55, 83, 89, 63, 55, 66, 17, 68, 65, 38, 43, 61, 26, 37, 22, 98, 24, 20, 38, 6, 48, 70, 25, 50, 11, 70, 53, 44, 47, 95, 78, 29, 7, 85, 1, 89, 52, 84, 42, 12, 38, 38, 20, 42, 28, 34, 36, 56, 10, 16, 38, 48, 75, 25, 76, 50, 34, 40, 38, 6, 88, 78, 72, 43, 86, 79, 63, 96, 4, 58, 75, 52, 13, 49, 96, 36, 61, 83, 79, 52, 98, 72, 45, 5, 43, 85, 38, 65, 34, 84, 46, 70, 62, 12, 12, 29, 59, 67, 87, 42, 99, 42, 81, 99, 40, 14, 22, 30, 94, 65, 43, 89, 44, 3, 88, 83, 83, 29, 84, 45, 48, 11, 60, 2, 14, 43, 96, 44, 59, 41, 32, 55, 26, 84, 73, 11, 34, 61, 8, 94, 54, 5, 77, 65, 28, 15, 17, 44, 42, 66, 65, 25, 86, 99, 97, 66, 77, 41, 83, 28, 90, 80, 6, 70, 22, 56, 36, 80, 25, 51, 42, 53, 2, 53, 68, 8, 76, 73, 2, 77, 69, 64, 90, 56, 71, 52, 44, 80, 37, 90, 41, 92, 11, 20, 22, 53, 4, 44, 4, 61, 20, 3, 68, 55, 62, 31, 88, 94, 9, 49, 9, 56, 46, 71, 88, 63, 10, 55, 19, 98, 10, 19, 36, 70, 39, 6, 98, 87, 65, 90, 20, 60, 73, 33, 14, 20, 15, 51, 97, 70, 52, 54, 72, 45, 36, 42, 69, 78, 70, 40, 44, 64, 73, 76, 48, 37, 13, 5, 95, 63, 38, 29, 14, 84, 7, 69, 26, 84, 6, 94, 78, 88, 52, 27, 47, 21, 4, 38, 41, 39, 16, 22, 55, 32, 48, 79, 93, 55, 78, 56, 21, 4, 97, 80, 80, 30, 13, 94, 58, 8, 16, 77, 64, 30, 34, 35, 28, 78, 57, 88, 89, 67, 50, 34, 39, 56, 24, 64, 93, 89, 86, 74, 47, 8, 9, 28, 96, 88, 87, 44, 66, 65, 47, 6, 1, 76, 38, 75, 21, 51, 29, 79, 47, 6, 49, 92, 18, 76, 38, 91, 49, 12, 68, 43, 1, 38, 71, 23, 5, 23, 57, 56, 27, 68, 21, 70, 68, 13, 99, 31, 37, 75, 58, 31, 22, 4, 5, 19, 63, 18, 32, 42, 6, 15, 44, 82, 33, 3, 79, 58, 10, 50, 79, 53, 96, 2, 30, 23, 28, 94, 23, 19, 96, 13, 68, 9, 29, 93, 89, 22, 75, 29, 97, 42, 73, 76, 76, 85, 9, 35, 38, 39, 77, 75, 81, 49, 74, 6, 100, 25, 57, 64, 99, 48, 14, 87, 18, 3, 28, 70, 32, 50, 13, 65, 60, 31, 82, 73, 32, 76, 99, 7, 41, 29, 62, 25, 21, 71, 4, 74, 36, 85, 35, 14, 31, 50, 8, 10, 7, 50, 31, 45, 8, 18, 15, 31, 13, 30, 84, 75, 13, 93, 70, 64, 19, 6, 57, 81, 89, 31, 26, 98, 74, 52, 19, 86, 98, 43, 50, 87, 51, 15, 69, 29, 97, 1, 78, 88, 12, 75, 64, 13, 81, 38, 100, 23, 99, 94, 4, 41, 32, 5, 46, 35, 31, 46, 26, 54, 3, 95, 92, 29, 54, 22, 85, 93, 20, 46, 21, 36, 67, 10, 72, 70, 37, 4, 87, 32, 5, 33, 72, 98, 17, 90, 67, 46, 27, 25, 73, 32, 86, 43, 93, 66, 94, 43, 88, 10, 84, 22, 89, 30, 35, 79, 96, 89, 30, 81, 6, 9, 92, 22, 65, 96, 69, 43, 93, 63, 53, 6, 30, 70, 3, 37, 85, 9, 98, 49, 17, 89, 88, 100, 14, 13, 15, 97, 65, 77, 21, 6, 4, 89, 56, 56, 70, 74, 36, 71, 7, 58, 39, 65, 46, 3, 53, 67, 65, 44, 95, 22, 43, 13, 18, 91, 85, 61, 68, 88, 76, 30, 50, 16, 56, 34, 96, 24, 90, 28, 15, 27, 54, 96, 57, 9, 18, 17, 27, 14, 53, 3, 86, 31, 5, 11, 80, 79, 37, 60, 56, 82, 58, 12, 73, 3, 96, 65, 28, 63, 72, 45, 55, 80, 1, 10, 45, 77, 6, 31, 6, 89, 38, 94, 36, 99, 75, 43, 97, 8, 16, 66, 93, 67, 17, 60, 71, 84, 16, 83, 97, 71, 86, 81, 19, 20, 8, 65, 6, 51, 83, 46, 41, 16, 88, 65, 32, 23, 31, 79, 37, 24, 28, 61, 26, 52, 69, 59, 12, 94, 34, 31, 54, 34, 91, 7, 11, 52, 86, 60, 20, 70, 59, 33, 95, 6, 59, 50, 100, 75, 94, 45, 3, 44, 72, 5, 13, 6, 17, 29, 35, 22, 31, 13, 43, 62, 75, 28, 71, 90, 41, 58, 77, 69, 25, 54, 5, 3, 6, 80, 49, 52, 28, 79, 54, 87, 6, 91, 20, 55, 89, 95, 90, 5, 69, 49, 38, 67, 29, 58, 79, 96, 85, 13, 96, 34, 89, 85, 87, 39, 64, 39, 89, 95, 20, 16, 99, 4, 40, 29, 75, 27, 57, 33, 2, 43, 71, 47, 52, 87, 66, 36, 89, 20, 40, 29, 73, 84, 51, 10, 68, 84, 28, 50, 37, 81, 46, 22, 78, 81, 80, 36, 61, 98, 92, 73, 89, 47, 23, 18, 18, 74, 15, 29, 77, 24, 68, 99, 67, 40, 89, 99, 88, 70, 92, 67, 93, 43, 55, 61, 95, 70, 11, 22, 69, 42, 10, 24, 13, 3, 63, 80, 68, 10, 40, 17, 40, 93, 44, 86, 100, 65, 62, 44, 9, 79, 19, 85, 74, 37, 40, 17, 86, 77, 70, 85, 75, 91, 94, 61, 14, 15, 55, 18, 89, 90, 58, 62, 65, 8, 54, 33, 22, 29, 66, 48, 88, 19, 34, 92, 75, 53, 15, 72, 56, 35, 21, 90, 67, 81, 60, 61, 57, 22, 69, 49, 80, 7, 28, 88, 79, 47, 91, 22, 33, 14, 72, 87, 20, 42, 18, 8, 62, 13, 17, 96, 72, 99, 98, 68, 96, 1, 95, 54, 94, 15, 54, 40, 37, 43, 5, 47, 25, 5, 39, 55, 16, 4, 73, 80, 92, 67, 72, 41, 66, 42, 20, 13, 13, 54, 56, 93, 40, 47, 39, 32, 41, 70, 96, 85, 15, 76, 61, 65, 5, 20, 37, 22, 33, 50, 44, 19, 50, 26, 2, 13, 73, 50, 42, 15, 50, 13, 42, 69, 34, 25, 35, 22, 48, 34, 76, 2, 22, 38, 12, 82, 36, 23, 86, 95, 91, 30, 86, 75, 44, 60, 12, 78, 42, 72, 78, 88, 89, 62, 31, 37, 2, 42, 18, 30, 57, 11, 6, 29, 84, 9, 28, 56, 37, 24, 29, 15, 18, 29, 99, 93, 3, 53, 7, 3, 77, 48, 72, 55, 93, 79, 87, 77, 7, 47, 23, 42, 95, 54, 80, 7, 32, 68, 68, 15, 79, 100, 86, 82, 79, 35, 99, 5, 45, 56, 100, 33, 50, 56, 100, 56, 51, 92, 8, 76, 87, 66, 18, 66, 27, 65, 99, 87, 18, 98, 75, 5, 93, 94, 55, 41, 23, 92, 36, 88, 95, 63, 50, 62, 79, 99, 42, 6, 70, 28, 68, 73, 54, 30, 78, 46, 67, 16, 25, 67, 27, 18, 30, 15, 1, 24, 49, 53, 25, 31, 43, 74, 9, 54, 71, 24, 79, 79, 23, 57, 72, 62, 61, 87, 14, 74, 2, 7, 19, 16, 78, 20, 47, 89, 33, 28, 37, 45, 70, 36, 89, 67, 34, 54, 3, 54, 95, 78, 63, 27, 63, 93, 43, 53, 11, 94, 58, 40, 9, 96, 40, 27, 3, 8, 31, 73, 36, 46, 19, 95, 50, 47, 75, 15, 9, 11, 24, 37, 75, 98, 38, 7, 51, 78, 15, 33, 71, 25, 37, 25, 83, 40, 1, 94, 53, 22, 84, 69, 4, 30, 59, 100, 49, 61, 75, 53, 23, 2, 9, 27, 58, 79, 63, 50, 63, 24, 74, 75, 34, 46, 12, 97, 18, 87, 16, 88, 75, 81, 38, 31, 52, 34, 3, 7, 47, 92, 19, 8, 9, 14, 85, 94, 32, 59, 62, 31, 88, 47, 44, 92, 66, 2, 13, 81, 73, 67, 8, 90, 82, 14, 88, 65, 52, 26, 3, 67, 42, 85, 81, 85, 28, 20, 38, 54, 64, 91, 8, 69, 72, 47, 93, 75, 28, 36, 8, 97, 53, 89, 45, 54, 8, 3, 73, 84, 76, 65, 80, 69, 74, 59, 7, 88, 77, 54, 12, 16, 59, 66, 68, 17, 79, 33, 94, 76, 46, 87, 59, 90, 48, 34, 69, 51, 18, 35, 41, 69, 62, 31, 72, 32, 38, 55, 53, 28, 96, 64, 74, 42, 31, 27, 51, 44, 12, 39, 16, 3, 44, 62, 26, 69, 18, 22, 80, 44, 9, 68, 17, 14, 7, 73, 25, 37, 79, 92, 71, 37, 60, 99, 6, 16, 43, 92, 47, 45, 84, 88, 44, 87, 5, 54, 22, 70, 17, 71, 56, 9, 40, 45, 67, 44, 9, 6, 40, 17, 61, 100, 93, 17, 56, 93, 67, 12, 11, 82, 54, 68, 94, 40, 76, 41, 38, 41, 39, 40, 62, 54, 3, 21, 66, 64, 54, 35, 83, 89, 72, 48, 79, 98, 59, 1, 86, 57, 93, 17, 77, 10, 18, 43, 17, 46, 96, 45, 9, 8, 87, 63, 69, 69, 9, 47, 37, 56, 61, 69, 41, 39, 78, 92, 53, 1, 42, 3, 73, 90, 34, 64, 26, 83, 55, 4, 83, 53, 20, 27, 16, 13, 93, 88, 70, 1, 51, 37, 42, 92, 25, 63, 63, 60, 36, 36, 5, 9, 74, 11, 54, 93, 93, 17, 68, 87, 94, 16, 83, 1, 3, 78, 90, 96, 6, 46, 14, 47, 48, 79, 74, 54, 66, 56, 97, 74, 54, 97, 86, 89, 31, 78, 40, 3, 6, 2, 37, 37, 20, 2, 57, 74, 49, 26, 87, 41, 56, 22, 14, 74, 13, 21, 31, 19, 26, 79, 56, 57, 44, 56, 46, 26, 75, 91, 56, 81, 89, 7, 49, 24, 41, 52, 24, 14, 66, 64, 63, 17, 99, 95, 36, 69, 45, 95, 88, 96, 67, 62, 92, 14, 24, 80, 11, 13, 4, 81, 32, 57, 7, 28, 86, 18, 96, 40, 71, 62, 10, 14, 33, 24, 4, 77, 11, 40, 9, 17, 90, 85, 17, 3, 78, 78, 64, 94, 77, 41, 68, 92, 12, 83, 92, 54, 30, 87, 96, 17, 97, 49, 49, 63, 84, 75, 20, 87, 14, 90, 78, 34, 43, 4, 55, 46, 65, 19, 80, 10, 54, 66, 57, 83, 67, 77, 61, 71, 7, 24, 13, 31, 36, 88, 64, 54, 54, 85, 67, 100, 89, 13, 65, 69, 65, 60, 61, 11, 76, 88, 75, 20, 89, 14, 94, 24, 56, 64, 83, 64, 21, 59, 97, 63, 78, 27, 59, 14, 2, 4, 27, 43, 65, 10, 97, 63, 97, 48, 25, 11, 87, 69, 58, 17, 32, 85, 78, 9, 98, 64, 29, 57, 67, 18, 22, 76, 37, 83, 31, 40, 80, 37, 42, 23, 81, 90, 99, 58, 51, 38, 32, 13, 2, 98, 6, 65, 21, 87, 80, 33, 85, 74, 57, 9, 91, 49, 44, 4, 67, 21, 55, 51, 92, 11, 26, 18, 47, 64, 88, 10, 31, 89, 76, 60, 48, 33, 55, 76, 56, 8, 60, 12, 40, 13, 35, 10, 22, 71, 5, 12, 12, 45, 97, 66, 90, 91, 82, 95, 5, 24, 34, 84, 75, 57, 98, 71, 39, 84, 26, 9, 74, 72, 26, 18, 68, 64, 74, 28, 6, 85, 85, 9, 95, 42, 79, 89, 12, 48, 26, 50, 30, 20, 17, 96, 63, 45, 87, 36, 51, 25, 15, 76, 44, 2, 79, 86, 36, 5, 22, 17, 24, 50, 24, 90, 71, 97, 91, 49, 65, 18, 23, 51, 42, 77, 61, 65, 40, 54, 14, 1, 57, 75, 87, 88, 70, 34, 47, 68, 70, 38, 79, 94, 24, 92, 86, 17, 84, 82, 45, 9, 10, 51, 98, 39, 84, 16, 22, 18, 8, 60, 42, 27, 10, 64, 23, 3, 32, 93, 71, 100, 60, 92, 93, 94, 55, 60, 46, 39, 57, 18, 15, 28, 53, 86, 76, 73, 49, 42, 16, 86, 8, 9, 22, 94, 62, 11, 56, 64, 61, 37, 12, 97, 59, 25, 80, 98, 4, 5, 43, 33, 21, 32, 36, 36, 45, 35, 67, 93, 64, 87, 13, 66, 8, 48, 50, 15, 66, 27, 82, 76, 38, 69, 92, 27, 38, 67, 98, 11, 75, 65, 25, 98, 16, 48, 50, 16, 61, 70, 70, 2, 72, 67, 33, 83, 73, 26, 35, 54, 82, 16, 3, 71, 62, 73, 65, 97, 71, 24, 27, 4, 33, 94, 56, 89, 43, 11, 24, 28, 83, 16, 14, 81, 60, 11, 56, 69, 99, 79, 54, 45, 25, 13, 9, 10, 57, 31, 84, 87, 11, 30, 69, 49, 74, 64, 72, 50, 26, 57, 95, 83, 99, 3, 28, 1, 42, 17, 31, 15, 16, 91, 81, 47, 67, 17, 12, 72, 62, 63, 68, 66, 7, 20, 21, 43, 2, 40, 87, 99, 86, 68, 98, 6, 3, 78, 65, 53, 90, 73, 99, 52, 17, 85, 17, 50, 68, 19, 30, 97, 32, 8, 96, 32, 40, 53, 43, 36, 64, 14, 40, 5, 1, 41, 77, 83, 86, 11, 5, 70, 77, 81, 96, 15, 15, 59, 91, 20, 67, 63, 95, 99, 39, 8, 21, 79, 11, 16, 89, 14, 24, 89, 71, 56, 45, 13, 11, 41, 51, 66, 97, 78, 28, 58, 74, 45, 10, 94, 3, 79, 26, 78, 84, 13, 93, 28, 69, 3, 46, 7, 1, 12, 68, 37, 79, 86, 79, 43, 89, 14, 20, 96, 9, 12, 41, 77, 64, 83, 5, 60, 25, 59, 65, 40, 50, 31, 11, 16, 84, 27, 18, 49, 10, 36, 24, 6, 71, 38, 95, 24, 100, 90, 34, 95, 86, 85, 83, 4, 2, 51, 88, 91, 81, 15, 85, 66, 9, 52, 4, 71, 24, 2, 46, 41, 95, 54, 42, 65, 19, 56, 85, 53, 70, 88, 91, 100, 6, 6, 45, 45, 58, 74, 26, 92, 49, 92, 77, 33, 28, 98, 59, 89, 34, 81, 63, 39, 3, 76, 22, 89, 70, 46, 18, 53, 12, 56, 14, 50, 14, 50, 31, 56, 63, 14, 78, 46, 47, 48, 27, 49, 34, 10, 17, 15, 8, 82, 86, 31, 70, 59, 1, 41, 97, 90, 52, 32, 33, 85, 29, 39, 87, 45, 40, 45, 4, 31, 96, 54, 28, 96, 48, 7, 94, 15, 57, 38, 4, 47, 11, 62, 24, 19, 76, 82, 60, 7, 76, 74, 47, 23, 7, 11, 13, 17, 47, 82, 55, 36, 56, 8, 71, 85, 93, 29, 59, 21, 98, 62, 97, 13, 44, 37, 35, 96, 34, 57, 44, 55, 77, 52, 68, 87, 22, 29, 84, 74, 55, 89, 97, 5, 97, 96, 27, 16, 75, 65, 25, 56, 54, 31, 93, 17, 85, 48, 62, 51, 97, 25, 45, 34, 34, 45, 30, 37, 68, 47, 50, 63, 29, 98, 61, 7, 3, 48, 78, 99, 73, 51, 43, 23, 37, 48, 3, 76, 6, 39, 72, 9, 82, 58, 7, 20, 39, 6, 20, 81, 47, 41, 29, 37, 34, 99, 4, 69, 34, 1, 97, 71, 4, 69, 76, 60, 28, 63, 92, 27, 95, 26, 63, 34, 19, 32, 9, 62, 83, 41, 51, 32, 78, 94, 15, 63, 4, 72, 72, 47, 20, 89, 31, 62, 31, 100, 99, 90, 94, 5, 79, 81, 86, 79, 60, 84, 100, 73, 18, 25, 47, 11, 28, 58, 74, 28, 51, 10, 36, 22, 41, 81, 89, 75, 31, 22, 99, 93, 30, 44, 83, 68, 44, 4, 39, 34, 99, 50, 99, 2, 74, 73, 68, 87, 59, 46, 55, 7, 31, 95, 7, 20, 55, 15, 69, 99, 64, 11, 39, 11, 59, 41, 98, 99, 31, 60, 80, 66, 61, 69, 95, 28, 31, 61, 28, 36, 100, 36, 6, 15, 7, 75, 27, 4, 58, 57, 53, 28, 33, 40, 95, 70, 76, 4, 78, 70, 22, 46, 2, 96, 38, 53, 86, 44, 49, 64, 14, 3, 95, 96, 40, 80, 87, 92, 69, 15, 63, 60, 52, 45, 83, 35, 51, 32, 40, 65, 26, 90, 48, 71, 31, 50, 12, 92, 26, 2, 93, 9, 44, 98, 3, 92, 74, 17, 64, 31, 94, 28, 85, 98, 25, 8, 30, 85, 45, 59, 61, 69, 99, 48, 30, 83, 80, 93, 64, 11, 31, 99, 32, 30, 11, 99, 58, 53, 76, 81, 41, 14, 55, 91, 97, 46, 29, 48, 13, 87, 22, 17, 72, 95, 45, 4, 17, 87, 29, 15, 65, 64, 5, 77, 74, 53, 23, 78, 70, 60, 47, 77, 55, 24, 6, 63, 17, 24, 78, 83, 17, 41, 54, 37, 90, 47, 47, 92, 99, 78, 65, 50, 8, 53, 65, 11, 53, 7, 74, 11, 27, 29, 49, 100, 35, 84, 60, 68, 19, 75, 65, 89, 87, 32, 14, 28, 89, 44, 89, 7, 68, 64, 15, 94, 31, 13, 20, 59, 87, 3, 69, 71, 3, 88, 35, 45, 54, 77, 90, 93, 71, 20, 16, 12, 84, 94, 25, 85, 46, 12, 56, 56, 63, 6, 7, 41, 5, 37, 24, 83, 15, 10, 16, 14, 6, 36, 82, 76, 7, 42, 69, 40, 66, 97, 57, 61, 73, 47, 96, 73, 21, 90, 74, 36, 34, 95, 55, 63, 31, 58, 20, 16, 9, 76, 23, 20, 3, 16, 25, 81, 76, 84, 13, 40, 84, 35, 94, 61, 39, 53, 78, 84, 39, 8, 12, 23, 58, 10, 30, 40, 71, 26, 93, 46, 41, 12, 16, 29, 23, 75, 46, 39, 62, 34, 62, 21, 85, 42, 96, 2, 54, 89, 9, 93, 93, 23, 4, 86, 38, 50, 27, 24, 67, 14, 79, 99, 95, 43, 69, 28, 96, 90, 40, 15, 55, 29, 5, 76, 22, 99, 82, 93, 20, 11, 16, 43, 34, 62, 70, 86, 3, 87, 20, 96, 87, 6, 19, 4, 60, 20, 5, 18, 33, 90, 47, 72, 78, 18, 44, 95, 68, 89, 49, 85, 85, 81, 40, 74, 69, 63, 60, 50, 69, 99, 94, 39, 60, 25, 36, 92, 48, 58, 30, 54, 90, 59, 58, 62, 100, 60, 86, 37, 2, 82, 24, 34, 53, 76, 52, 17, 91, 15, 86, 31, 51, 33, 92, 17, 54, 33, 19, 55, 43, 76, 65, 70, 20, 31, 10, 13, 68, 47, 49, 34, 58, 16, 82, 36, 37, 73, 5, 86, 48, 42, 10, 54, 90, 53, 88, 78, 83, 17, 9, 44, 15, 78, 75, 48, 26, 30, 11, 78, 46, 14, 30, 95, 52, 92, 25, 49, 42, 8, 60, 86, 1, 74, 90, 76, 60, 9, 85, 31, 54, 14, 34, 25, 64, 1, 70, 50, 57, 43, 36, 54, 79, 27, 64, 13, 63, 9, 83, 100, 40, 17, 42, 34, 42, 41, 74, 56, 74, 35, 18, 69, 97, 25, 2, 79, 47, 21, 67, 94, 10, 58, 32, 59, 61, 84, 36, 100, 47, 37, 2, 13, 88, 95, 91, 97, 1, 86, 26, 54, 20, 24, 32, 84, 56, 33, 53, 23, 22, 100, 45, 95, 66, 87, 80, 71, 6, 73, 33, 7, 56, 100, 45, 58, 48, 11, 91, 73, 86, 86, 64, 98, 60, 18, 20, 12, 58, 10, 30, 50, 12, 45, 14, 86, 3, 30, 31, 38, 78, 95, 56, 60, 82, 4, 100, 14, 9, 43, 14, 18, 93, 60, 84, 64, 65, 83, 12, 44, 28, 39, 60, 33, 64, 100, 56, 39, 19, 39, 85, 31, 81, 20, 52, 20, 32, 85, 13, 29, 80, 9, 26, 23, 93, 46, 1, 92, 63, 30, 9, 84, 58, 78, 21, 44, 75, 65, 97, 61, 69, 40, 68, 50, 62, 24, 43, 52, 98, 85, 63, 24, 88, 66, 41, 32, 80, 4, 19, 51, 84, 7, 56, 53, 76, 63, 80, 43, 52, 4, 46, 86, 34, 18, 73, 95, 72, 48, 51, 69, 33, 27, 12, 76, 31, 16, 64, 26, 74, 26, 68, 78, 84, 61, 11, 8, 57, 78, 36, 46, 76, 51, 20, 94, 36, 41, 88, 17, 25, 61, 59, 32, 95, 100, 85, 54, 20, 9, 41, 20, 1, 13, 79, 79, 54, 90, 93, 48, 11, 53, 5, 64, 57, 35, 61, 79, 40, 7, 44, 24, 59, 54, 48, 46, 39, 100, 54, 43, 61, 32, 86, 87, 55, 17, 41, 38, 99, 24, 65, 82, 40, 3, 23, 11, 56, 54, 93, 60, 14, 42, 73, 47, 37, 42, 2, 73, 65, 5, 93, 23, 77, 99, 99, 37, 72, 35, 26, 23, 54, 80, 22, 72, 68, 51, 11, 57, 11, 7, 42, 25, 86, 51, 41, 38, 40, 90, 70, 29, 31, 12, 63, 94, 2, 96, 71, 50, 50, 94, 36, 75, 24, 77, 68, 5, 63, 18, 5, 68, 63, 36, 26, 67, 18, 67, 89, 5, 85, 62, 84, 74, 92, 89, 60, 3, 83, 95, 26, 95, 95, 35, 8, 93, 55, 53, 16, 8, 14, 99, 89, 47, 100, 7, 9, 29, 88, 42, 83, 95, 50, 32, 4, 65, 23, 39, 21, 30, 35, 35, 98, 2, 50, 20, 97, 79, 99, 42, 3, 87, 79, 71, 1, 46, 19, 81, 37, 36, 17, 56, 74, 80, 39, 98, 22, 59, 56, 20, 77, 12, 8, 59, 41, 95, 74, 48, 61, 40, 95, 91, 23, 32, 25, 4, 98, 78, 18, 73, 50, 97, 2, 4, 55, 32, 51, 60, 38, 77, 27, 6, 83, 100, 11, 41, 55, 89, 5, 28, 47, 48, 89, 21, 79, 86, 35, 9, 79, 47, 88, 71, 12, 81, 100, 18, 65, 86, 29, 6, 2, 3, 74, 36, 62, 8, 74, 15, 56, 79, 3, 75, 10, 90, 24, 54, 40, 63, 5, 35, 11, 75, 18, 30, 70, 18, 72, 76, 9, 30, 78, 88, 50, 1, 67, 94, 72, 49, 67, 81, 24, 6, 22, 83, 80, 65, 14, 59, 36, 37, 39, 76, 84, 12, 91, 26, 84, 64, 74, 69, 64, 94, 39, 74, 10, 50, 62, 47, 9, 98, 93, 20, 99, 29, 32, 41, 72, 87, 35, 57, 70, 3, 70, 60, 43, 69, 78, 27, 62, 46, 37, 9, 2, 72, 65, 78, 81, 9, 100, 40, 86, 68, 76, 95, 62, 65, 94, 52, 77, 68, 41, 3, 98, 97, 22, 94, 65, 36, 67, 90, 98, 100, 7, 89, 7, 97, 73, 34, 31, 47, 35, 5, 33, 27, 23, 59, 82, 38, 18, 43, 17, 96, 46, 39, 89, 72, 21, 34, 99, 50, 83, 96, 98, 48, 15, 40, 68, 66, 3, 59, 15, 58, 3, 26, 37, 80, 92, 37, 43, 94, 48, 94, 91, 65, 70, 87, 19, 94, 24, 24, 64, 3, 67, 47, 7, 44, 78, 90, 51, 42, 41, 35, 45, 25, 48, 32, 16, 97, 36, 52, 44, 46, 90, 26, 10, 99, 78, 57, 28, 71, 81, 28, 42, 79, 79, 87, 25, 43, 19, 21, 98, 68, 99, 1, 34, 84, 72, 60, 53, 68, 27, 59, 70, 47, 8, 25, 18, 31, 54, 99, 75, 18, 100, 5, 31, 35, 90, 49, 46, 48, 36, 37, 94, 53, 80, 27, 91, 93, 81, 63, 68, 18, 90, 59, 94, 44, 88, 79, 95, 54, 93, 10, 51, 33, 13, 37, 37, 74, 53, 99, 99, 59, 42, 12, 50, 32, 33, 14, 27, 43, 55, 29, 50, 92, 83, 31, 83, 60, 80, 57, 65, 100, 12, 77, 90, 45, 92, 84, 62, 3, 77, 48, 24, 28, 24, 74, 77, 16, 11, 5, 16, 22, 8, 22, 53, 81, 51, 80, 10, 73, 66, 59, 52, 6, 25, 20, 5, 65, 44, 39, 1, 70, 6, 83, 25, 66, 91, 97, 66, 72, 88, 21, 87, 22, 55, 56, 4, 88, 92, 9, 1, 90, 44, 94, 93, 28, 1, 96, 57, 41, 18, 93, 38, 72, 66, 21, 77, 2, 30, 25, 19, 91, 30, 48, 15, 1, 37, 75, 44, 61, 46, 96, 94, 50, 28, 46, 76, 41, 87, 79, 34, 67, 7, 30, 85, 54, 23, 10, 28, 19, 33, 46, 58, 90, 17, 3, 78, 70, 88, 41, 4, 91, 36, 66, 44, 28, 80, 53, 3, 70, 32, 60, 13, 9, 50, 18, 99, 54, 50, 59, 75, 25, 57, 29, 96, 60, 34, 58, 72, 25, 14, 5, 54, 51, 98, 23, 98, 70, 97, 61, 50, 24, 81, 7, 33, 69, 84, 78, 77, 35, 1, 49, 57, 46, 61, 76, 91, 11, 87, 79, 37, 77, 26, 52, 89, 16, 18, 89, 88, 20, 6, 81, 50, 25, 74, 25, 38, 20, 65, 61, 42, 36, 68, 42, 92, 31, 18, 58, 94, 1, 35, 75, 57, 9, 83, 85, 50, 98, 31, 3, 48, 48, 38, 42, 35, 9, 72, 69, 96, 65, 71, 32, 4, 7, 100, 91, 98, 9, 78, 2, 41, 54, 4, 1, 31, 13, 71, 91, 71, 86, 63, 37, 3, 49, 94, 65, 12, 2, 3, 2, 38, 16, 74, 52, 8, 92, 23, 78, 61, 21, 17, 74, 43, 5, 30, 47, 88, 87, 77, 82, 29, 44, 89, 57, 56, 69, 61, 21, 45, 55, 73, 86, 79, 14, 72, 6, 47, 27, 92, 42, 45, 23, 62, 89, 19, 75, 87, 88, 13, 44, 42, 29, 37, 90, 48, 91, 7, 83, 79, 89, 62, 78, 22, 65, 89, 86, 82, 47, 91, 57, 75, 46, 6, 48, 93, 60, 57, 45, 92, 92, 24, 5, 7, 8, 3, 7, 35, 57, 72, 11, 87, 23, 79, 69, 87, 85, 67, 98, 5, 71, 51, 46, 27, 78, 62, 94, 66, 68, 81, 17, 4, 28, 25, 15, 76, 82, 16, 95, 90, 28, 31, 47, 97, 83, 83, 76, 78, 92, 10, 78, 47, 57, 21, 46, 82, 84, 68, 20, 63, 48, 5, 36, 49, 59, 83, 26, 61, 68, 22, 2, 73, 82, 45, 80, 1, 8, 70, 62, 79, 67, 45, 18, 54, 71, 79, 82, 14, 17, 77, 9, 11, 9, 25, 12, 22, 59, 50, 50, 15, 40, 29, 89, 66, 70, 36, 54, 50, 44, 88, 65, 50, 82, 56, 97, 67, 76, 21, 49, 61, 78, 55, 34, 1, 21, 11, 65, 72, 40, 4, 26, 50, 44, 51, 15, 41, 32, 55, 31, 69, 85, 30, 78, 29, 77, 84, 59, 25, 13, 97, 84, 74, 73, 49, 51, 8, 65, 45, 76, 96, 47, 17, 84, 66, 25, 9, 32, 34, 41, 81, 97, 55, 50, 30, 34, 47, 94, 1, 78, 44, 12, 20, 90, 47, 23, 64, 3, 86, 92, 76, 42, 61, 98, 74, 78, 54, 41, 25, 70, 83, 82, 33, 55, 88, 35, 79, 25, 96, 89, 53, 1, 77, 54, 62, 11, 27, 57, 27, 4, 77, 46, 31, 17, 23, 92, 83, 96, 92, 97, 81, 58, 72, 57, 23, 46, 89, 39, 54, 35, 89, 89, 32, 70, 21, 70, 56, 90, 12, 17, 14, 10, 26, 63, 9, 66, 20, 28, 46, 87, 92, 75, 8, 21, 51, 17, 50, 36, 59, 2, 31, 40, 33, 65, 60, 29, 99, 4, 16, 11, 98, 86, 63, 69, 6, 59, 69, 5, 40, 12, 54, 40, 83, 3, 17, 90, 23, 90, 71, 88, 73, 46, 76, 27, 80, 15, 25, 41, 61, 74, 51, 12, 4, 24, 41, 34, 35, 52, 63, 42, 19, 73, 51, 51, 86, 49, 49, 45, 93, 31, 26, 68, 61, 93, 76, 23, 42, 91, 39, 81, 23, 47, 87, 79, 97, 67, 100, 10, 57, 39, 81, 34, 49, 70, 54, 6, 55, 18, 35, 68, 74, 1, 79, 78, 50, 13, 56, 47, 64, 59, 95, 17, 79, 17, 45, 1, 93, 14, 45, 52, 100, 87, 68, 21, 7, 9, 18, 47, 2, 55, 92, 11, 18, 27, 56, 66, 10, 48, 94, 58, 77, 23, 84, 69, 73, 77, 92, 1, 79, 54, 69, 53, 91, 7, 87, 47, 57, 4, 78, 53, 67, 82, 62, 5, 39, 56, 3, 16, 89, 48, 73, 84, 14, 90, 25, 88, 49, 34, 31, 52, 76, 88, 75, 72, 72, 3, 53, 11, 52, 63, 54, 3, 96, 10, 71, 58, 41, 63, 87, 22, 52, 86, 37, 60, 68, 41, 54, 77, 29, 21, 8, 72, 53, 74, 65, 8, 15, 3, 30, 40, 69, 30, 99, 88, 45, 48, 74, 7, 39, 54, 93, 83, 26, 15, 23, 59, 17, 90, 7, 23, 49, 54, 89, 50, 38, 83, 92, 23, 42, 26, 73, 82, 87, 87, 27, 12, 57, 96, 91, 93, 15, 40, 16, 96, 55, 34, 36, 79, 85, 39, 92, 61, 83, 33, 39, 74, 75, 30, 92, 76, 76, 89, 12, 92, 74, 4, 27, 79, 100, 78, 4, 74, 58, 75, 65, 93, 83, 17, 36, 35, 41, 68, 26, 14, 33, 12, 62, 92, 89, 8, 69, 17, 48, 95, 28, 34, 13, 95, 72, 66, 99, 62, 38, 19, 34, 47, 63, 25, 50, 25, 41, 40, 77, 41, 24, 51, 63, 44, 74, 35, 85, 15, 4, 100, 92, 27, 67, 67, 21, 98, 50, 43, 27, 26, 56, 17, 92, 84, 41, 98, 7, 88, 55, 58, 55, 52, 22, 27, 91, 46, 29, 36, 70, 75, 74, 49, 12, 27, 11, 62, 94, 72, 2, 71, 83, 28, 11, 29, 100, 57, 17, 84, 73, 80, 75, 15, 37, 4, 97, 30, 80, 24, 30, 37, 42, 79, 69, 80, 27, 40, 59, 18, 7, 84, 22, 4, 37, 11, 63, 67, 18, 18, 63, 4, 100, 94, 88, 76, 49, 87, 11, 22, 37, 45, 92, 51, 23, 31, 5, 5, 42, 53, 19, 90, 14, 91, 75, 82, 73, 23, 42, 32, 20, 15, 15, 42, 11, 75, 90, 10, 25, 93, 75, 11, 69, 16, 99, 59, 31, 27, 28, 23, 27, 22, 28, 3, 89, 92, 64, 39, 9, 61, 6, 8, 55, 98, 14, 31, 77, 6, 58, 77, 4, 13, 50, 5, 16, 77, 56, 55, 38, 13, 77, 5, 81, 2, 39, 14, 89, 65, 93, 73, 35, 96, 93, 95, 48, 57, 59, 7, 64, 74, 79, 56, 61, 79, 39, 54, 4, 65, 15, 21, 83, 23, 38, 56, 99, 32, 21, 37, 72, 43, 12, 35, 15, 83, 76, 89, 32, 93, 62, 20, 39, 67, 24, 6, 34, 12, 37, 68, 2, 96, 95, 49, 22, 17, 56, 82, 36, 70, 79, 33, 100, 71, 33, 49, 7, 71, 76, 32, 63, 59, 66, 21, 65, 55, 84, 70, 91, 96, 21, 98, 27, 86, 32, 93, 43, 73, 53, 76, 12, 42, 26, 40, 63, 5, 60, 86, 79, 70, 99, 31, 65, 64, 16, 85, 59, 100, 69, 84, 11, 82, 96, 69, 38, 81, 11, 57, 15, 96, 20, 66, 72, 30, 60, 88, 18, 73, 65, 7, 17, 3, 100, 86, 84, 14, 63, 72, 57, 9, 95, 83, 92, 10, 37, 1, 3, 27, 96, 19, 61, 44, 98, 93, 11, 54, 65, 93, 1, 84, 34, 87, 64, 64, 14, 15, 3, 97, 37, 48, 74, 91, 35, 93, 26, 20, 31, 97, 43, 10, 45, 27, 1, 56, 89, 49, 80, 54, 90, 3, 91, 44, 24, 15, 64, 91, 74, 18, 64, 37, 21, 16, 68, 11, 56, 62, 29, 19, 40, 34, 22, 50, 77, 77, 67, 73, 64, 91, 86, 85, 74, 20, 82, 56, 35, 38, 41, 89, 97, 13, 21, 83, 48, 13, 34, 35, 6, 80, 54, 65, 91, 40, 10, 48, 12, 14, 93, 44, 33, 24, 75, 64, 10, 49, 59, 37, 14, 83, 5, 40, 74, 89, 80, 82, 100, 6, 41, 25, 66, 60, 57, 82, 37, 26, 45, 56, 80, 88, 44, 52, 25, 37, 40, 97, 57, 82, 26, 5, 47, 70, 38, 30, 8, 2, 88, 43, 8, 50, 7, 11, 37, 17, 67, 49, 69, 60, 32, 40, 55, 76, 47, 39, 97, 32, 36, 63, 55, 55, 76, 29, 97, 35, 75, 22, 73, 10, 85, 88, 20, 39, 51, 24, 44, 4, 3, 38, 15, 89, 88, 29, 39, 61, 79, 25, 83, 23, 44, 64, 81, 2, 28, 51, 22, 3, 17, 100, 51, 12, 66, 72, 37, 70, 10, 38, 12, 61, 32, 43, 88, 97, 33, 52, 88, 23, 3, 91, 7, 21, 50, 19, 31, 46, 3, 97, 28, 14, 26, 95, 19, 62, 62, 2, 58, 40, 24, 29, 35, 48, 31, 24, 19, 32, 64, 85, 30, 67, 98, 2, 17, 70, 59, 99, 62, 47, 67, 89, 69, 50, 89, 45, 36, 69, 58, 75, 83, 87, 83, 99, 37, 57, 34, 14, 77, 20, 38, 31, 59, 35, 42, 78, 7, 24, 98, 25, 89, 1, 12, 18, 80, 47, 7, 5, 46, 44, 69, 33, 74, 54, 97, 50, 49, 59, 52, 23, 12, 33, 52, 93, 72, 2, 79, 36, 57, 28, 60, 28, 56, 75, 69, 67, 27, 31, 77, 15, 73, 50, 86, 1, 27, 67, 6, 17, 29, 45, 34, 68, 4, 33, 82, 51, 4, 55, 51, 10, 54, 12, 100, 51, 8, 97, 1, 42, 63, 60, 85, 22, 96, 86, 27, 21, 54, 10, 57, 28, 29, 63, 1, 32, 9, 3, 17, 47, 72, 69, 65, 66, 66, 35, 59, 5, 10, 74, 52, 91, 9, 72, 83, 91, 61, 5, 47, 34, 46, 84, 90, 42, 68, 41, 5, 99, 97, 35, 88, 66, 16, 44, 76, 15, 22, 17, 89, 24, 35, 7, 79, 5, 50, 66, 29, 89, 88, 64, 30, 65, 56, 36, 37, 82, 96, 73, 66, 36, 88, 1, 4, 14, 35, 37, 4, 45, 53, 6, 71, 95, 93, 36, 48, 63, 98, 38, 51, 64, 6, 95, 3, 3, 53, 24, 50, 69, 10, 81, 17, 90, 43, 22, 10, 8, 30, 11, 24, 33, 84, 4, 33, 77, 87, 71, 52, 71, 22, 88, 9, 45, 97, 58, 52, 72, 64, 1, 55, 56, 96, 7, 75, 19, 18, 36, 80, 62, 67, 84, 95, 92, 20, 83, 65, 25, 72, 73, 98, 79, 14, 39, 53, 91, 14, 8, 44, 49, 71, 90, 25, 93, 24, 55, 13, 29, 12, 100, 5, 34, 93, 4, 54, 37, 66, 100, 18, 91, 10, 14, 8, 57, 16, 100, 68, 100, 100, 13, 30, 82, 100, 22, 33, 78, 77, 56, 74, 64, 2, 65, 93, 33, 40, 71, 85, 10, 24, 82, 67, 51, 30, 23, 51, 83, 94, 58, 8, 76, 46, 26, 51, 23, 19, 61, 82, 68, 56, 56, 89, 95, 79, 51, 43, 61, 91, 2, 62, 70, 83, 31, 79, 66, 45, 49, 89, 89, 5, 12, 91, 99, 63, 34, 49, 12, 75, 81, 63, 84, 63, 16, 48, 24, 43, 59, 57, 25, 72, 1, 96, 7, 29, 57, 63, 40, 91, 76, 63, 84, 77, 62, 40, 34, 49, 87, 35, 15, 46, 48, 86, 87, 6, 99, 60, 28, 6, 57, 59, 72, 67, 18, 73, 9, 24, 14, 32, 48, 23, 90, 73, 60, 16, 13, 88, 87, 39, 38, 88, 74, 11, 49, 46, 34, 32, 30, 27, 33, 100, 95, 53, 62, 54, 49, 3, 1, 20, 23, 66, 24, 52, 9, 61, 36, 97, 74, 70, 36, 3, 29, 76, 61, 40, 67, 68, 38, 39, 14, 43, 22, 46, 55, 77, 38, 21, 39, 6, 52, 29, 16, 32, 8, 43, 80, 8, 53, 14, 92, 60, 96, 68, 69, 63, 46, 35, 20, 5, 45, 17, 11, 73, 53, 7, 36, 20, 16, 11, 71, 95, 75, 38, 61, 83, 90, 80, 88, 30, 32, 46, 92, 54, 38, 79, 22, 65, 97, 26, 62, 14, 83, 70, 72, 2, 37, 44, 13, 28, 8, 54, 53, 69, 5, 75, 84, 7, 90, 23, 52, 60, 96, 65, 82, 21, 86, 7, 23, 89, 90, 9, 2, 90, 15, 58, 30, 27, 78, 89, 50, 38, 59, 64, 100, 47, 25, 27, 41, 3, 4, 61, 42, 85, 1, 87, 22, 80, 55, 88, 60, 48, 52, 60, 46, 96, 17, 5, 34, 31, 44, 99, 62, 100, 18, 80, 80, 72, 51, 54, 37, 90, 67, 20, 82, 3, 3, 65, 91, 54, 51, 83, 77, 52, 64, 91, 49, 29, 91, 76, 42, 94, 53, 13, 14, 84, 84, 83, 29, 33, 30, 25, 23, 86, 36, 54, 38, 37, 72, 48, 80, 81, 71, 1, 36, 44, 50, 1, 60, 93, 31, 99, 3, 25, 72, 11, 41, 28, 62, 51, 37, 23, 89, 98, 97, 52, 55, 65, 53, 54, 10, 27, 30, 48, 37, 10, 29, 37, 96, 13, 49, 41, 6, 54, 74, 70, 69, 59, 73, 29, 31, 34, 73, 26, 2, 87, 46, 41, 22, 57, 23, 28, 81, 76, 15, 77, 80, 98, 47, 71, 19, 44, 76, 64, 63, 19, 84, 73, 71, 54, 13, 44, 83, 14, 88, 8, 76, 53, 15, 70, 29, 20, 32, 10, 17, 13, 55, 44, 46, 77, 30, 95, 32, 82, 47, 48, 30, 63, 29, 13, 91, 49, 45, 64, 28, 79, 76, 56, 72, 62, 75, 3, 66, 46, 40, 13, 70, 87, 73, 29, 91, 52, 69, 1, 41, 11, 40, 25, 5, 90, 39, 71, 91, 80, 43, 40, 27, 68, 40, 75, 28, 37, 69, 64, 16, 14, 93, 22, 86, 28, 85, 33, 90, 75, 54, 88, 46, 3, 88, 99, 51, 6, 12, 84, 22, 23, 77, 100, 46, 53, 27, 88, 50, 92, 59, 10, 69, 55, 95, 78, 2, 42, 46, 21, 48, 60, 93, 82, 33, 61, 59, 78, 79, 85, 27, 14, 32, 59, 12, 6, 95, 69, 24, 69, 52, 21, 47, 83, 52, 85, 100, 92, 32, 75, 23, 93, 64, 98, 78, 33, 45, 96, 25, 40, 68, 49, 21, 45, 89, 72, 48, 88, 87, 7, 11, 32, 70, 8, 50, 68, 74, 92, 9, 76, 92, 33, 86, 26, 8, 88, 74, 20, 64, 18, 94, 50, 61, 62, 55, 31, 13, 48, 50, 68, 95, 38, 59, 40, 3, 95, 43, 71, 79, 78, 78, 73, 96, 68, 11, 16, 17, 33, 57, 81, 100, 16, 19, 24, 36, 1, 95, 30, 26, 88, 1, 43, 57, 9, 86, 48, 88, 67, 74, 26, 74, 79, 14, 42, 7, 70, 71, 50, 42, 71, 13, 48, 15, 69, 3, 41, 65, 46, 67, 22, 44, 77, 38, 29, 64, 67, 8, 44, 43, 24, 47, 95, 2, 98, 19, 75, 63, 4, 95, 19, 12, 17, 89, 75, 52, 89, 41, 88, 72, 20, 31, 82, 25, 69, 4, 62, 21, 86, 38, 40, 64, 76, 50, 62, 60, 15, 15, 77, 91, 48, 60, 81, 97, 57, 40, 84, 30, 63, 7, 50, 62, 42, 61, 57, 63, 92, 53, 23, 100, 18, 65, 18, 38, 52, 80, 39, 81, 61, 63, 88, 8, 13, 29, 55, 16, 53, 4, 42, 29, 46, 16, 77, 44, 87, 44, 90, 47, 1, 53, 16, 51, 41, 93, 42, 38, 1, 50, 87, 65, 88, 1, 87, 4, 48, 73, 14, 38, 26, 60, 31, 57, 20, 66, 84, 92, 93, 44, 15, 69, 81, 73, 32, 32, 20, 46, 56, 5, 72, 44, 13, 49, 92, 14, 13, 79, 9, 16, 83, 54, 67, 10, 42, 34, 70, 14, 15, 85, 78, 55, 69, 72, 71, 20, 100, 52, 58, 24, 72, 6, 100, 33, 93, 71, 44, 100, 37, 94, 12, 47, 2, 65, 85, 25, 55, 47, 91, 84, 19, 80, 88, 97, 27, 40, 95, 77, 7, 3, 40, 100, 53, 20, 64, 42, 98, 2, 54, 57, 1, 53, 62, 54, 100, 28, 47, 60, 44, 86, 7, 44, 94, 36, 76, 52, 67, 33, 45, 64, 63, 48, 50, 29, 76, 89, 40, 13, 28, 94, 6, 44, 57, 79, 48, 85, 7, 56, 52, 56, 49, 4, 17, 82, 49, 3, 53, 9, 93, 61, 97, 43, 100, 52, 17, 8, 91, 6, 100, 84, 100, 24, 31, 36, 76, 52, 86, 98, 35, 58, 27, 43, 88, 76, 72, 51, 27, 80, 58, 58, 74, 56, 93, 72, 5, 61, 97, 31, 89, 88, 56, 34, 28, 4, 21, 42, 53, 22, 71, 48, 42, 87, 55, 87, 50, 93, 72, 18, 32, 26, 97, 18, 72, 71, 4, 97, 12, 28, 46, 75, 26, 67, 92, 83, 56, 41, 93, 76, 86, 82, 7, 43, 93, 25, 19, 16, 10, 95, 1, 55, 68, 78, 21, 11, 9, 95, 43, 66, 89, 42, 74, 40, 1, 76, 85, 56, 9, 64, 17, 66, 98, 7, 54, 21, 73, 25, 88, 77, 26, 98, 23, 35, 60, 47, 79, 33, 39, 95, 13, 40, 95, 68, 7, 46, 37, 50, 41, 9, 16, 54, 29, 2, 16, 26, 1, 85, 49, 93, 62, 46, 83, 18, 88, 13, 59, 66, 31, 47, 19, 85, 64, 98, 73, 86, 67, 37, 26, 78, 74, 94, 80, 92, 51, 50, 32, 50, 49, 14, 88, 48, 93, 52, 59, 63, 53, 89, 48, 28, 49, 26, 50, 62, 60, 45, 53, 57, 35, 48, 74, 59, 73, 74, 37, 5, 46, 75, 37, 37, 7, 61, 54, 84, 8, 42, 31, 7, 32, 36, 14, 70, 68, 39, 39, 10, 36, 32, 86, 72, 65, 48, 13, 32, 96, 64, 67, 30, 13, 73, 52, 54, 19, 34, 48, 19, 37, 60, 80, 14, 7, 65, 85, 59, 9, 41, 56, 78, 11, 4, 1, 60, 70, 86, 92, 52, 71, 31, 5, 38, 40, 49, 30, 69, 23, 24, 43, 73, 64, 10, 79, 87, 69, 11, 63, 15, 37, 75, 5, 66, 2, 28, 28, 39, 79, 87, 8, 49, 44, 13, 4, 42, 5, 15, 20, 62, 73, 28, 60, 76, 75, 91, 74, 2, 39, 34, 71, 70, 71, 17, 70, 17, 96, 27, 83, 19, 4, 25, 2, 85, 36, 54, 49, 67, 86, 79, 58, 30, 87, 6, 54, 5, 90, 81, 54, 65, 22, 23, 28, 25, 42, 83, 24, 15, 30, 29, 34, 88, 32, 68, 89, 61, 43, 43, 7, 78, 82, 17, 6, 33, 78, 10, 14, 6, 8, 89, 94, 52, 57, 15, 17, 95, 93, 80, 52, 37, 12, 12, 22, 44, 74, 57, 99, 48, 97, 91, 13, 18, 27, 30, 96, 5, 85, 31, 50, 41, 13, 70, 58, 79, 45, 48, 48, 54, 37, 20, 83, 11, 7, 91, 20, 11, 77, 12, 76, 11, 53, 62, 13, 69, 59, 91, 24, 30, 66, 59, 54, 68, 34, 71, 30, 67, 40, 1, 75, 7, 96, 39, 44, 41, 91, 49, 32, 66, 43, 71, 6, 66, 83, 44, 23, 51, 22, 70, 51, 93, 40, 14, 1, 91, 72, 19, 76, 25, 98, 45, 13, 2, 24, 88, 86, 50, 44, 80, 78, 51, 44, 73, 42, 44, 52, 44, 61, 34, 80, 88, 53, 61, 19, 13, 69, 19, 39, 46, 74, 88, 22, 56, 20, 15, 29, 95, 20, 90, 93, 85, 90, 61, 93, 91, 79, 14, 89, 76, 56, 32, 70, 87, 8, 2, 69, 68, 9, 82, 9, 67, 20, 6, 53, 44, 31, 86, 94, 59, 61, 53, 54, 51, 99, 89, 65, 55, 95, 66, 49, 94, 96, 72, 21, 59, 8, 22, 10, 28, 36, 74, 80, 17, 74, 53, 47, 22, 43, 56, 8, 35, 98, 18, 6, 2, 50, 57, 95, 80, 55, 71, 68, 85, 95, 32, 30, 63, 27, 93, 73, 96, 87, 53, 88, 14, 25, 8, 85, 85, 7, 22, 59, 25, 85, 54, 76, 79, 67, 82, 20, 51, 44, 88, 47, 14, 75, 89, 6, 87, 47, 9, 87, 79, 90, 33, 9, 60, 31, 37, 42, 70, 78, 41, 90, 70, 53, 54, 49, 3, 18, 69, 22, 16, 29, 99, 12, 94, 96, 6, 73, 25, 93, 18, 85, 71, 6, 97, 58, 27, 9, 51, 72, 23, 80, 79, 58, 50, 78, 2, 43, 5, 46, 88, 54, 87, 73, 59, 50, 63, 40, 36, 1, 79, 24, 94, 1, 10, 5, 61, 56, 6, 78, 41, 86, 8, 98, 18, 53, 35, 63, 1, 69, 73, 78, 63, 13, 72, 28, 87, 37, 75, 74, 5, 66, 16, 17, 43, 7, 42, 85, 74, 71, 45, 65, 81, 36, 60, 28, 22, 78, 83, 42, 96, 80, 18, 9, 10, 1, 65, 56, 45, 78, 38, 53, 97, 26, 38, 18, 33, 84, 96, 72, 37, 83, 82, 79, 16, 45, 56, 63, 29, 38, 62, 95, 66, 91, 49, 93, 70, 36, 70, 50, 27, 32, 7, 9, 88, 100, 34, 83, 23, 20, 51, 10, 46, 5, 20, 20, 38, 35, 55, 79, 10, 94, 43, 94, 100, 46, 51, 86, 87, 26, 15, 97, 60, 22, 100, 89, 93, 6, 14, 79, 24, 2, 3, 70, 69, 26, 9, 59, 96, 30, 48, 27, 91, 53, 45, 13, 15, 56, 7, 68, 97, 76, 81, 17, 60, 6, 5, 43, 92, 97, 99, 12, 36, 85, 92, 57, 54, 3, 70, 20, 26, 67, 56, 83, 97, 83, 37, 69, 16, 41, 86, 90, 99, 18, 42, 74, 89, 51, 33, 53, 83, 28, 59, 58, 4, 14, 58, 59, 6, 20, 21, 55, 94, 76, 30, 45, 57, 34, 93, 25, 14, 29, 93, 54, 54, 39, 70, 54, 26, 71, 5, 69, 10, 85, 42, 48, 67, 83, 28, 63, 92, 11, 90, 6, 29, 41, 30, 70, 57, 20, 33, 4, 38, 94, 45, 66, 78, 72, 35, 24, 14, 96, 12, 15, 87, 1, 3, 69, 59, 65, 20, 53, 31, 24, 65, 22, 86, 100, 18, 100, 4, 100, 35, 14, 72, 67, 45, 50, 37, 53, 47, 7, 49, 81, 32, 88, 40, 6, 26, 66, 38, 79, 79, 43, 48, 46, 57, 71, 36, 15, 55, 8, 26, 41, 18, 18, 4, 74, 71, 46, 27, 22, 50, 82, 23, 83, 74, 90, 86, 63, 70, 90, 79, 68, 39, 70, 62, 87, 80, 26, 82, 27, 35, 85, 33, 25, 28, 81, 9, 83, 82, 36, 96, 59, 77, 87, 84, 43, 1, 17, 73, 31, 81, 95, 50, 22, 94, 15, 59, 77, 87, 18, 33, 53, 96, 62, 85, 60, 80, 53, 43, 65, 34, 99, 51, 72, 70, 64, 96, 81, 28, 82, 6, 86, 7, 42, 9, 11, 11, 58, 87, 82, 30, 25, 93, 4, 53, 100, 22, 14, 97, 37, 33, 40, 10, 88, 99, 54, 94, 11, 81, 10, 41, 8, 93, 53, 32, 66, 65, 81, 39, 79, 22, 38, 72, 36, 13, 18, 37, 4, 83, 64, 3, 8, 89, 75, 51, 66, 58, 8, 1, 84, 12, 93, 17, 26, 60, 2, 92, 7, 7, 89, 67, 31, 96, 88, 63, 48, 8, 74, 5, 43, 92, 100, 78, 40, 39, 46, 57, 21, 55, 17, 58, 72, 43, 73, 32, 63, 46, 75, 97, 29, 18, 22, 76, 30, 47, 39, 10, 87, 38, 84, 79, 52, 48, 12, 92, 32, 88, 38, 70, 2, 42, 10, 83, 7, 45, 98, 38, 50, 21, 58, 39, 49, 56, 97, 63, 37, 15, 57, 6, 66, 49, 24, 78, 21, 68, 1, 73, 18, 49, 20, 25, 19, 41, 53, 92, 21, 99, 27, 35, 86, 39, 65, 58, 70, 79, 50, 30, 39, 36, 14, 1, 94, 66, 44, 28, 6, 51, 87, 29, 18, 29, 98, 20, 67, 24, 52, 43, 3, 7, 18, 67, 100, 33, 81, 16, 57, 6, 86, 21, 77, 84, 40, 29, 19, 27, 70, 79, 86, 95, 37, 37, 19, 4, 90, 52, 60, 39, 61, 31, 37, 98, 77, 100, 72, 83, 88, 67, 12, 83, 97, 22, 44, 24, 79, 99, 63, 9, 15, 90, 24, 92, 56, 73, 71, 70, 35, 55, 100, 22, 95, 54, 65, 3, 31, 19, 37, 2, 90, 34, 23, 28, 9, 11, 42, 93, 24, 4, 51, 52, 72, 95, 35, 71, 56, 77, 12, 2, 41, 63, 49, 66, 77, 31, 26, 52, 31, 45, 79, 13, 11, 7, 24, 61, 72, 14, 99, 47, 66, 67, 48, 100, 1, 99, 90, 17, 90, 51, 52, 2, 85, 92, 58, 44, 63, 49, 34, 91, 27, 21, 89, 62, 15, 33, 91, 42, 30, 32, 67, 21, 19, 18, 21, 35, 49, 63, 91, 24, 41, 56, 73, 4, 37, 2, 16, 96, 48, 22, 33, 73, 36, 69, 1, 42, 44, 61, 26, 79, 36, 79, 66, 56, 58, 28, 39, 4, 91, 21, 55, 38, 24, 92, 97, 28, 79, 50, 50, 30, 17, 27, 28, 25, 78, 23, 97, 17, 41, 67, 93, 42, 96, 15, 24, 50, 96, 52, 100, 98, 59, 75, 7, 92, 64, 74, 25, 11, 72, 96, 21, 92, 19, 30, 100, 39, 72, 98, 13, 20, 99, 16, 96, 92, 61, 43, 69, 22, 66, 25, 85, 72, 98, 18, 12, 56, 29, 46, 17, 64, 74, 82, 39, 97, 51, 86, 94, 46, 96, 25, 64, 12, 95, 3, 72, 62, 97, 8, 53, 39, 99, 3, 59, 42, 56, 89, 4, 27, 10, 65, 40, 12, 95, 40, 17, 66, 96, 73, 86, 92, 59, 89, 37, 75, 95, 9, 55, 30, 38, 70, 71, 47, 68, 1, 7, 1, 29, 100, 75, 30, 61, 39, 97, 76, 72, 13, 96, 19, 31, 31, 60, 15, 65, 84, 71, 100, 48, 36, 61, 46, 15, 88, 34, 63, 84, 65, 96, 63, 44, 49, 83, 83, 30, 39, 8, 37, 28, 44, 49, 29, 63, 27, 35, 57, 54, 68, 44, 60, 30, 29, 74, 53, 47, 80, 72, 69, 42, 37, 27, 55, 42, 51, 24, 79, 46, 57, 91, 88, 48, 73, 43, 51, 25, 56, 26, 15, 95, 79, 42, 36, 87, 59, 24, 13, 49, 32, 18, 35, 64, 71, 57, 95, 21, 13, 5, 68, 28, 9, 99, 23, 72, 91, 76, 56, 29, 47, 63, 68, 97, 25, 9, 94, 22, 47, 98, 79, 52, 81, 64, 60, 45, 84, 77, 75, 79, 45, 96, 63, 83, 95, 33, 72, 60, 70, 18, 95, 22, 40, 14, 14, 66, 97, 62, 36, 28, 48, 55, 17, 99, 8, 55, 96, 100, 36, 77, 4, 22, 16, 48, 96, 34, 35, 86, 16, 99, 23, 33, 39, 58, 77, 84, 66, 22, 8, 39, 43, 32, 40, 99, 2, 50, 93, 88, 42, 32, 35, 5, 33, 18, 87, 35, 80, 78, 96, 13, 60, 71, 44, 48, 19, 39, 39, 36, 61, 27, 24, 97, 1, 60, 46, 77, 56, 42, 81, 77, 36, 29, 96, 90, 45, 66, 70, 72, 62, 8, 81, 72, 34, 85, 93, 58, 99, 68, 71, 99, 64, 30, 66, 77, 31, 81, 33, 9, 47, 59, 27, 17, 49, 66, 42, 65, 11, 71, 56, 74, 39, 11, 61, 87, 23, 3, 48, 27, 60, 42, 16, 22, 5, 62, 10, 19, 1, 31, 38, 39, 60, 1, 23, 60, 50, 61, 73, 8, 15, 41, 57, 78, 15, 24, 47, 23, 86, 33, 51, 64, 77, 32, 6, 7, 75, 80, 53, 37, 49, 44, 42, 72, 35, 17, 9, 73, 16, 55, 57, 40, 22, 64, 59, 51, 94, 96, 89, 95, 35, 61, 65, 39, 63, 28, 80, 1, 21, 64, 34, 63, 99, 28, 9, 90, 84, 15, 63, 30, 34, 25, 58, 39, 30, 87, 98, 16, 1, 37, 74, 55, 4, 75, 24, 56, 68, 58, 82, 20, 21, 44, 24, 91, 8, 42, 17, 47, 28, 40, 23, 10, 28, 98, 65, 8, 52, 4, 98, 35, 50, 77, 48, 21, 27, 54, 35, 1, 52, 53, 65, 24, 90, 28, 86, 79, 85, 12, 57, 74, 11, 59, 27, 62, 4, 54, 86, 80, 59, 3, 76, 14, 90, 3, 15, 97, 22, 84, 53, 92, 9, 28, 84, 27, 48, 26, 72, 79, 18, 78, 95, 15, 10, 13, 77, 71, 19, 76, 23, 97, 1, 51, 11, 90, 48, 53, 100, 38, 68, 60, 54, 60, 68, 53, 62, 68, 54, 75, 73, 85, 98, 44, 54, 42, 25, 6, 66, 15, 91, 55, 25, 3, 29, 78, 78, 91, 73, 71, 41, 99, 39, 83, 90, 63, 9, 90, 64, 53, 48, 73, 97, 97, 73, 51, 22, 14, 53, 36, 50, 12, 52, 85, 63, 67, 95, 26, 23, 76, 33, 90, 36, 18, 79, 32, 21, 34, 21, 24, 47, 10, 90, 95, 59, 29, 43, 47, 60, 99, 23, 1, 35, 29, 40, 95, 32, 12, 27, 75, 76, 50, 54, 44, 69, 40, 3, 41, 8, 93, 6, 9, 55, 99, 15, 4, 9, 36, 44, 5, 80, 7, 66, 95, 18, 91, 15, 41, 41, 32, 48, 54, 55, 78, 77, 17, 90, 27, 9, 79, 85, 84, 94, 66, 34, 60, 1, 72, 98, 8, 58, 29, 10, 66, 57, 88, 19, 77, 84, 50, 41, 43, 34, 73, 21, 67, 15, 80, 45, 84, 11, 9, 87, 98, 20, 6, 90, 23, 65, 78, 90, 41, 45, 90, 47, 35, 65, 86, 30, 36, 16, 61, 64, 69, 57, 57, 36, 91, 43, 96, 29, 88, 71, 98, 78, 75, 57, 4, 9, 69, 37, 5, 8, 29, 100, 47, 44, 77, 2, 17, 92, 54, 11, 81, 47, 69, 82, 9, 38, 44, 29, 48, 36, 34, 88, 21, 99, 84, 92, 92, 37, 1, 90, 83, 86, 80, 76, 8, 27, 20, 55, 18, 73, 22, 79, 74, 95, 38, 87, 93, 49, 67, 58, 99, 5, 27, 70, 95, 15, 53, 27, 87, 95, 68, 76, 27, 5, 41, 22, 12, 23, 35, 24, 98, 7, 25, 67, 98, 59, 5, 27, 12, 45, 20, 16, 75, 11, 51, 19, 88, 79, 57, 66, 58, 99, 99, 29, 17, 27, 51, 84, 51, 3, 20, 91, 2, 51, 55, 10, 79, 82, 8, 36, 30, 5, 6, 33, 84, 29, 93, 93, 96, 40, 24, 95, 39, 50, 10, 38, 90, 18, 29, 27, 48, 51, 54, 80, 88, 38, 21, 6, 58, 85, 38, 36, 18, 79, 10, 91, 53, 71, 12, 56, 97, 88, 51, 75, 84, 60, 94, 30, 68, 92, 45, 43, 9, 17, 96, 41, 17, 91, 10, 2, 11, 80, 96, 42, 31, 35, 70, 71, 64, 64, 4, 3, 21, 96, 58, 35, 33, 45, 17, 51, 36, 18, 80, 29, 60, 97, 41, 7, 40, 10, 73, 14, 12, 77, 86, 39, 39, 6, 54, 25, 65, 28, 87, 3, 73, 47, 47, 78, 21, 78, 1, 77, 9, 37, 46, 14, 12, 68, 78, 42, 35, 51, 86, 55, 74, 45, 30, 37, 60, 33, 26, 25, 78, 23, 11, 1, 87, 99, 36, 57, 59, 96, 88, 36, 85, 37, 97, 12, 23, 31, 80, 44, 5, 22, 46, 86, 9, 4, 64, 23, 44, 60, 17, 92, 49, 60, 3, 22, 43, 50, 8, 62, 51, 44, 76, 75, 77, 43, 39, 43, 1, 4, 85, 13, 50, 50, 15, 100, 96, 38, 71, 34, 10, 89, 35, 17, 36, 88, 61, 54, 10, 18, 41, 72, 10, 95, 24, 91, 67, 9, 50, 52, 69, 23, 60, 37, 75, 60, 12, 64, 49, 54, 63, 78, 15, 37, 92, 33, 23, 1, 8, 16, 23, 57, 65, 67, 74, 77, 14, 36, 13, 61, 43, 95, 24, 4, 7, 70, 58, 58, 98, 66, 6, 81, 61, 27, 37, 74, 1, 91, 1, 18, 18, 37, 54, 97, 59, 73, 61, 54, 11, 8, 46, 4, 52, 4, 81, 6, 40, 54, 93, 18, 65, 91, 60, 34, 79, 64, 43, 93, 4, 58, 36, 20, 85, 99, 84, 31, 21, 69, 31, 47, 99, 38, 63, 55, 25, 71, 10, 90, 71, 11, 56, 33, 83, 30, 64, 69, 27, 75, 49, 9, 16, 74, 28, 97, 67, 59, 94, 39, 52, 74, 13, 97, 43, 15, 76, 50, 33, 25, 85, 73, 70, 84, 23, 96, 21, 41, 54, 51, 45, 31, 15, 33, 65, 26, 83, 58, 50, 29, 82, 68, 32, 56, 27, 14, 11, 28, 29, 12, 93, 36, 41, 18, 24, 60, 57, 36, 18, 79, 40, 97, 11, 31, 58, 19, 84, 41, 21, 98, 48, 98, 11, 49, 57, 44, 26, 57, 52, 78, 30, 51, 98, 27, 29, 50, 94, 85, 92, 39, 39, 61, 68, 1, 67, 74, 89, 90, 95, 25, 99, 14, 16, 5, 81, 17, 51, 12, 70, 60, 87, 57, 79, 51, 20, 93, 37, 29, 15, 57, 40, 69, 30, 23, 75, 95, 50, 3, 32, 88, 51, 7, 36, 82, 36, 47, 52, 78, 22, 86, 14, 46, 35, 32, 83, 80, 4, 1, 50, 50, 45, 74, 76, 64, 48, 96, 33, 4, 50, 86, 53, 69, 32, 92, 98, 77, 7, 48, 28, 20, 1, 23, 72, 12, 54, 47, 19, 13, 67, 53, 74, 40, 84, 14, 15, 78, 75, 18, 47, 28, 60, 12, 63, 20, 89, 27, 45, 76, 61, 71, 17, 3, 36, 92, 11, 96, 90, 38, 51, 47, 7, 75, 55, 15, 74, 31, 66, 8, 31, 100, 35, 95, 20, 27, 67, 46, 94, 93, 83, 58, 77, 87, 11, 19, 1, 68, 8, 8, 81, 27, 66, 17, 69, 79, 69, 63, 39, 13, 98, 40, 82, 61, 85, 4, 56, 98, 21, 71, 77, 89, 22, 19, 100, 94, 44, 78, 75, 2, 20, 80, 9, 57, 59, 17, 69, 56, 73, 60, 25, 85, 73, 42, 96, 45, 1, 43, 45, 65, 71, 84, 87, 36, 10, 97, 71, 90, 78, 19, 76, 90, 11, 46, 4, 56, 93, 74, 81, 45, 20, 15, 88, 25, 63, 83, 14, 70, 59, 15, 14, 23, 52, 61, 23, 81, 31, 86, 19, 30, 71, 56, 62, 1, 25, 1, 84, 21, 22, 40, 87, 54, 91, 23, 100, 80, 56, 39, 46, 77, 77, 32, 23, 8, 52, 25, 7, 84, 81, 68, 25, 39, 44, 53, 15, 87, 25, 18, 48, 5, 29, 67, 33, 53, 81, 53, 62, 43, 58, 78, 71, 64, 12, 31, 25, 22, 27, 11, 45, 16, 42, 32, 72, 16, 68, 34, 43, 81, 82, 57, 94, 48, 51, 5, 15, 80, 82, 32, 47, 88, 60, 4, 64, 52, 61, 47, 38, 77, 73, 84, 46, 73, 27, 93, 28, 89, 68, 24, 13, 47, 8, 8, 21, 70, 57, 13, 79, 15, 85, 78, 67, 20, 16, 56, 26, 25, 20, 41, 75, 98, 50, 74, 36, 18, 100, 53, 86, 55, 60, 73, 35, 79, 64, 43, 17, 38, 38, 70, 9, 17, 90, 88, 95, 39, 47, 89, 94, 53, 31, 75, 54, 19, 68, 96, 27, 35, 78, 76, 51, 68, 4, 13, 54, 52, 100, 66, 61, 14, 22, 38, 98, 14, 42, 21, 96, 69, 5, 2, 5, 88, 80, 14, 59, 80, 46, 30, 27, 3, 94, 12, 90, 88, 31, 15, 22, 83, 46, 22, 15, 46, 100, 74, 22, 58, 46, 98, 6, 85, 76, 71, 4, 2, 18, 8, 22, 47, 58, 38, 78, 82, 10, 92, 70, 49, 53, 38, 36, 86, 31, 54, 45, 69, 17, 41, 49, 23, 48, 93, 99, 47, 85, 24, 66, 79, 80, 62, 79, 15, 79, 21, 78, 30, 2, 59, 68, 96, 37, 14, 62, 43, 62, 99, 5, 7, 95, 71, 14, 98, 38, 49, 14, 47, 2, 89, 66, 42, 49, 84, 50, 58, 13, 50, 39, 29, 46, 51, 25, 70, 2, 18, 16, 12, 83, 90, 58, 88, 4, 37, 29, 51, 85, 33, 85, 100, 28, 83, 66, 68, 80, 10, 5, 17, 47, 4, 73, 32, 80, 59, 51, 52, 70, 11, 43, 95, 89, 55, 66, 68, 89, 59, 83, 16, 29, 51, 64, 80, 7, 10, 52, 51, 70, 69, 16, 68, 40, 96, 11, 9, 82, 58, 87, 54, 22, 65, 27, 87, 83, 43, 24, 56, 14, 79, 21, 27, 74, 30, 79, 36, 34, 23, 64, 33, 81, 42, 15, 47, 21, 44, 21, 75, 79, 50, 90, 48, 6, 12, 60, 20, 29, 80, 94, 34, 51, 92, 31, 31, 30, 26, 54, 59, 47, 55, 53, 74, 51, 74, 100, 5, 34, 80, 92, 96, 89, 87, 16, 74, 4, 20, 52, 34, 67, 25, 95, 1, 18, 74, 53, 80, 85, 9, 81, 10, 97, 13, 35, 89, 83, 57, 50, 9, 88, 79, 64, 11, 92, 5, 20, 21, 56, 60, 15, 91, 49, 89, 31, 39, 60, 49, 22, 43, 8, 83, 88, 17, 48, 97, 22, 97, 60, 38, 91, 95, 86, 13, 3, 50, 8, 63, 17, 37, 3, 76, 10, 67, 12, 75, 41, 92, 37, 18, 52, 80, 88, 58, 23, 34, 88, 96, 99, 47, 17, 44, 76, 45, 19, 36, 82, 30, 45, 38, 90, 19, 71, 93, 50, 49, 22, 61, 94, 9, 3, 50, 55, 62, 22, 84, 44, 20, 15, 61, 100, 40, 37, 34, 5, 56, 75, 62, 97, 28, 68, 69, 85, 32, 3, 37, 28, 94, 2, 63, 49, 96, 25, 79, 49, 58, 83, 57, 74, 64, 5, 39, 71, 61, 45, 74, 82, 88, 90, 40, 10, 38, 24, 33, 1, 46, 85, 67, 46, 10, 41, 67, 18, 2, 44, 85, 33, 54, 47, 89, 87, 41, 51, 27, 17, 80, 64, 54, 51, 97, 14, 40, 71, 5, 59, 45, 14, 45, 21, 64, 70, 86, 61, 42, 93, 97, 61, 16, 3, 25, 11, 100, 24, 16, 58, 97, 57, 19, 14, 77, 15, 76, 6, 67, 72, 30, 14, 64, 20, 78, 49, 31, 57, 64, 35, 7, 32, 64, 33, 54, 72, 59, 9, 6, 90, 17, 43, 98, 60, 56, 11, 100, 68, 95, 80, 51, 31, 6, 83, 49, 33, 22, 30, 100, 51, 12, 22, 17, 59, 1, 9, 23, 3, 52, 3, 77, 83, 62, 54, 90, 38, 77, 9, 70, 75, 73, 96, 48, 34, 14, 88, 51, 2, 56, 88, 22, 18, 7, 53, 76, 5, 57, 36, 57, 48, 58, 8, 67, 2, 63, 12, 97, 49, 49, 68, 56, 54, 35, 11, 69, 23, 2, 14, 39, 56, 31, 76, 24, 47, 43, 54, 56, 60, 9, 66, 3, 94, 33, 3, 97, 91, 100, 3, 78, 94, 26, 99, 94, 8, 72, 85, 10, 71, 30, 14, 8, 21, 65, 46, 23, 93, 80, 59, 9, 75, 46, 81, 93, 53, 63, 45, 60, 77, 46, 25, 61, 13, 83, 1, 56, 14, 40, 19, 27, 46, 68, 67, 68, 42, 88, 6, 5, 15, 17, 40, 10, 24, 75, 71, 49, 19, 51, 27, 73, 5, 44, 3, 29, 24, 69, 49, 86, 29, 3, 35, 1, 85, 37, 64, 81, 87, 11, 8, 48, 74, 55, 45, 10, 46, 87, 65, 91, 86, 20, 91, 36, 37, 5, 38, 90, 32, 10, 1, 57, 65, 62, 21, 83, 56, 56, 27, 8, 75, 3, 55, 13, 92, 74, 41, 18, 98, 14, 21, 9, 62, 70, 86, 39, 15, 26, 30, 23, 32, 2, 60, 80, 45, 57, 21, 97, 30, 9, 53, 55, 92, 87, 31, 67, 75, 57, 100, 11, 64, 51, 29, 66, 52, 42, 11, 58, 58, 38, 52, 76, 65, 15, 12, 59, 34, 53, 51, 22, 95, 86, 49, 98, 26, 91, 96, 6, 32, 53, 46, 75, 42, 93, 91, 89, 47, 42, 74, 15, 98, 56, 22, 35, 63, 46, 30, 92, 49, 30, 8, 22, 69, 77, 2, 44, 59, 41, 92, 97, 35, 3, 67, 81, 54, 48, 15, 72, 33, 84, 96, 57, 51, 93, 70, 87, 98, 69, 46, 62, 49, 91, 2, 45, 91, 50, 9, 74, 93, 77, 79, 79, 73, 10, 62, 10, 100, 70, 35, 93, 72, 90, 12, 30, 40, 58, 80, 40, 80, 48, 84, 12, 94, 66, 82, 76, 2, 71, 3, 81, 45, 88, 56, 9, 27, 90, 45, 36, 13, 96, 49, 93, 87, 97, 48, 92, 84, 89, 44, 19, 11, 47, 100, 72, 45, 57, 95, 62, 47, 16, 42, 57, 85, 1, 87, 86, 72, 80, 40, 68, 20, 73, 49, 2, 74, 81, 89, 91, 27, 74, 37, 25, 100, 88, 20, 71, 91, 25, 46, 65, 75, 74, 86, 99, 72, 81, 32, 8, 2, 62, 74, 72, 79, 64, 31, 69, 68, 50, 41, 52, 24, 82, 5, 27, 87, 97, 80, 87, 34, 97, 83, 51, 42, 19, 24, 67, 53, 44, 64, 20, 66, 68, 77, 95, 95, 70, 100, 84, 36, 52, 45, 77, 87, 46, 10, 16, 25, 22, 77, 14, 76, 35, 87, 42, 73, 83, 38, 32, 3, 93, 90, 39, 55, 58, 18, 13, 65, 54, 82, 47, 63, 84, 31, 28, 80, 92, 57, 56, 53, 27, 62, 33, 34, 9, 3, 32, 45, 15, 91, 87, 41, 75, 96, 13, 20, 55, 78, 75, 22, 9, 23, 89, 96, 17, 27, 18, 26, 48, 64, 92, 17, 12, 62, 89, 47, 86, 70, 6, 98, 7, 50, 38, 28, 36, 78, 70, 23, 60, 67, 42, 1, 66, 52, 87, 35, 90, 69, 4, 68, 50, 90, 79, 75, 28, 91, 10, 40, 58, 2, 42, 100, 85, 73, 45, 80, 55, 45, 42, 34, 2, 60, 34, 46, 47, 17, 46, 28, 100, 36, 5, 11, 91, 76, 49, 53, 34, 61, 86, 96, 46, 6, 37, 52, 27, 29, 50, 96, 96, 42, 3, 81, 73, 12, 45, 48, 96, 64, 13, 92, 65, 100, 76, 18, 66, 46, 65, 53, 91, 62, 22, 42, 66, 47, 14, 48, 68, 29, 45, 30, 14, 25, 100, 37, 21, 86, 64, 96, 85, 1, 82, 91, 44, 29, 47, 45, 66, 58, 34, 63, 67, 84, 79, 34, 7, 92, 46, 63, 34, 89, 45, 5, 18, 18, 98, 94, 78, 14, 18, 61, 37, 11, 30, 70, 44, 13, 23, 26, 95, 5, 70, 63, 57, 61, 100, 46, 13, 77, 74, 47, 62, 73, 96, 45, 100, 84, 38, 12, 73, 34, 1, 83, 53, 6, 74, 20, 64, 50, 26, 10, 9, 16, 16, 39, 55, 66, 75, 22, 93, 70, 74, 21, 31, 59, 57, 63, 49, 88, 51, 91, 85, 48, 36, 5, 92, 38, 29, 80, 86, 62, 60, 76, 16, 47, 96, 24, 56, 46, 13, 39, 60, 62, 42, 83, 63, 90, 27, 9, 5, 38, 66, 84, 7, 72, 50, 29, 52, 52, 95, 29, 23, 79, 98, 32, 8, 8, 28, 45, 12, 20, 96, 71, 88, 66, 29, 21, 70, 82, 80, 61, 94, 57, 10, 91, 3, 55, 42, 4, 38, 41, 85, 4, 9, 66, 18, 82, 83, 9, 54, 42, 83, 36, 91, 9, 21, 20, 5, 70, 20, 91, 36, 33, 26, 62, 99, 32, 67, 16, 49, 51, 66, 1, 78, 22, 77, 56, 70, 100, 97, 53, 99, 15, 36, 14, 40, 5, 37, 90, 14, 38, 59, 56, 45, 42, 38, 62, 62, 79, 29, 43, 41, 98, 61, 80, 91, 69, 19, 52, 36, 45, 63, 22, 15, 41, 35, 5, 7, 56, 1, 79, 25, 7, 85, 21, 29, 10, 96, 64, 90, 47, 32, 26, 97, 99, 26, 62, 24, 38, 24, 3, 36, 88, 57, 70, 41, 41, 62, 10, 31, 61, 99, 52, 9, 39, 67, 35, 41, 29, 58, 22, 59, 84, 40, 41, 81, 3, 82, 1, 46, 62, 23, 55, 77, 95, 89, 7, 84, 81, 4, 5, 53, 82, 92, 66, 69, 72, 14, 56, 86, 92, 29, 88, 16, 56, 58, 57, 3, 3, 75, 63, 26, 7, 2, 16, 79, 96, 15, 81, 90, 40, 12, 73, 4, 6, 16, 72, 97, 49, 42, 38, 64, 52, 56, 93, 47, 29, 7, 78, 14, 89, 94, 82, 43, 50, 83, 75, 7, 30, 28, 12, 46, 8, 88, 10, 92, 82, 72, 34, 20, 47, 89, 80, 33, 97, 3, 99, 72, 70, 57, 39, 79, 54, 27, 98, 56, 24, 27, 35, 58, 23, 78, 21, 44, 83, 66, 16, 53, 50, 79, 69, 98, 44, 42, 35, 66, 10, 100, 20, 57, 53, 5, 34, 53, 52, 60, 45, 76, 25, 17, 73, 18, 66, 12, 65, 14, 32, 44, 71, 74, 32, 30, 40, 68, 47, 39, 18, 2, 47, 28, 99, 15, 48, 86, 78, 57, 44, 60, 69, 76, 12, 46, 91, 49, 52, 60, 24, 76, 10, 27, 75, 79, 82, 74, 17, 28, 43, 96, 36, 91, 53, 2, 95, 42, 95, 16, 8, 34, 46, 25, 90, 12, 69, 14, 39, 33, 36, 8, 69, 72, 19, 1, 49, 18, 18, 80, 32, 23, 91, 75, 71, 42, 16, 81, 64, 78, 46, 78, 41, 21, 47, 33, 27, 42, 34, 20, 28, 96, 42, 5, 24, 87, 90, 89, 47, 53, 6, 36, 56, 59, 86, 38, 39, 9, 54, 73, 49, 25, 13, 28, 11, 88, 6, 24, 24, 49, 71, 29, 67, 96, 17, 95, 28, 97, 15, 45, 41, 94, 67, 63, 29, 43, 5, 25, 27, 47, 32, 37, 16, 37, 15, 1, 67, 69, 60, 43, 88, 8, 66, 3, 73, 39, 46, 2, 92, 92, 41, 9, 59, 11, 78, 3, 55, 100, 31, 34, 38, 39, 67, 100, 13, 24, 20, 44, 51, 19, 41, 16, 46, 11, 11, 81, 39, 12, 51, 42, 29, 14, 25, 66, 37, 45, 14, 35, 66, 13, 9, 15, 87, 19, 96, 36, 26, 14, 51, 23, 74, 50, 92, 66, 3, 63, 15, 100, 90, 7, 85, 13, 49, 3, 82, 37, 39, 97, 16, 60, 28, 92, 86, 6, 18, 68, 87, 78, 80, 90, 32, 70, 73, 26, 66, 58, 17, 82, 89, 48, 94, 85, 1, 54, 85, 75, 37, 39, 61, 12, 83, 17, 1, 50, 78, 36, 65, 61, 81, 7, 5, 86, 15, 53, 10, 93, 40, 18, 56, 84, 58, 83, 42, 93, 60, 8, 76, 87, 55, 76, 27, 90, 86, 40, 89, 20, 41, 86, 27, 36, 75, 6, 17, 76, 21, 71, 73, 26, 58, 21, 93, 46, 30, 10, 44, 5, 45, 31, 29, 22, 48, 65, 93, 31, 87, 48, 7, 94, 7, 57, 79, 20, 99, 85, 23, 48, 49, 14, 27, 45, 36, 1, 92, 24, 59, 40, 82, 39, 86, 56, 97, 21, 56, 91, 92, 67, 64, 81, 22, 51, 84, 75, 20, 99, 60, 74, 1, 6, 17, 22, 35, 47, 66, 40, 35, 56, 58, 65, 52, 39, 19, 60, 48, 63, 79, 70, 11, 87, 3, 83, 99, 9, 22, 62, 98, 21, 91, 70, 51, 39, 51, 99, 97, 33, 36, 58, 14, 83, 68, 38, 39, 25, 82, 65, 44, 56, 16, 85, 9, 58, 81, 13, 76, 54, 7, 5, 47, 82, 26, 20, 75, 77, 69, 71, 57, 24, 43, 53, 17, 76, 83, 37, 90, 32, 59, 13, 59, 57, 77, 73, 66, 33, 44, 46, 36, 50, 59, 38, 88, 86, 63, 49, 93, 82, 65, 30, 79, 9, 1, 10, 38, 85, 29, 74, 51, 36, 30, 96, 23, 52, 48, 58, 26, 41, 33, 61, 16, 82, 33, 30, 15, 50, 9, 7, 73, 94, 60, 14, 89, 96, 12, 46, 29, 87, 23, 47, 5, 38, 78, 45, 48, 67, 60, 61, 24, 44, 55, 40, 4, 55, 67, 63, 57, 90, 12, 90, 100, 92, 8, 38, 23, 14, 69, 94, 56, 18, 51, 29, 10, 62, 42, 74, 30, 39, 28, 26, 39, 55, 29, 53, 46, 58, 90, 68, 74, 47, 37, 40, 11, 69, 95, 50, 33, 73, 54, 30, 34, 16, 7, 15, 1, 66, 1, 58, 69, 50, 50, 59, 51, 32, 83, 18, 98, 60, 42, 58, 11, 71, 90, 43, 5, 10, 13, 80, 92, 96, 10, 20, 71, 42, 24, 21, 58, 10, 70, 4, 64, 84, 71, 56, 66, 87, 14, 60, 80, 86, 61, 37, 88, 80, 15, 54, 60, 30, 97, 30, 65, 50, 85, 42, 2, 20, 59, 41, 30, 73, 70, 81, 26, 68, 51, 43, 45, 42, 93, 69, 52, 17, 50, 50, 13, 86, 63, 72, 66, 66, 83, 51, 84, 98, 70, 40, 76, 3, 5, 46, 94, 80, 69, 15, 73, 1, 83, 29, 21, 53, 15, 14, 99, 91, 22, 12, 60, 91, 27, 75, 8, 48, 20, 15, 43, 64, 7, 24, 91, 93, 30, 5, 59, 34, 52, 58, 2, 69, 12, 93, 72, 45, 27, 58, 41, 42, 45, 74, 46, 100, 23, 14, 33, 26, 45, 27, 30, 38, 64, 39, 11, 82, 96, 9, 88, 19, 75, 43, 92, 9, 86, 22, 8, 46, 22, 51, 13, 1, 25, 98, 29, 39, 46, 55, 44, 92, 66, 86, 22, 38, 21, 36, 89, 29, 2, 28, 32, 89, 65, 16, 33, 42, 54, 76, 43, 83, 47, 70, 44, 42, 93, 84, 9, 19, 1, 85, 90, 100, 76, 38, 30, 26, 56, 83, 29, 92, 71, 40, 7, 20, 77, 52, 30, 61, 20, 49, 51, 15, 83, 64, 98, 90, 64, 91, 43, 79, 83, 42, 18, 19, 4, 85, 36, 57, 100, 28, 99, 24, 30, 24, 31, 16, 16, 97, 7, 88, 100, 45, 28, 7, 26, 43, 81, 19, 87, 71, 95, 2, 21, 58, 8, 32, 57, 11, 30, 55, 6, 47, 22, 49, 27, 32, 81, 1, 14, 89, 42, 51, 73, 74, 74, 24, 52, 79, 6, 52, 94, 64, 98, 66, 21, 69, 9, 99, 24, 27, 35, 31, 8, 82, 91, 93, 41, 21, 84, 90, 93, 81, 90, 55, 37, 68, 41, 26, 52, 62, 39, 53, 90, 21, 20, 52, 33, 68, 17, 49, 21, 76, 43, 74, 85, 91, 31, 64, 78, 12, 43, 84, 10, 42, 53, 69, 63, 2, 16, 22, 6, 73, 52, 70, 34, 32, 65, 3, 94, 69, 8, 80, 96, 45, 8, 15, 54, 51, 38, 64, 59, 92, 87, 52, 90, 77, 77, 77, 77, 51, 58, 1, 19, 11, 3, 80, 60, 17, 67, 59, 95, 66, 1, 66, 79, 44, 55, 42, 34, 80, 21, 62, 4, 24, 43, 72, 15, 7, 83, 15, 35, 95, 76, 77, 71, 10, 1, 66, 55, 19, 8, 99, 87, 29, 41, 59, 3, 93, 53, 52, 25, 42, 51, 18, 83, 99, 54, 26, 36, 5, 19, 67, 80, 36, 94, 60, 51, 53, 38, 6, 48, 86, 56, 5, 58, 65, 27, 3, 80, 18, 10, 16, 39, 90, 52, 57, 97, 64, 38, 66, 18, 4, 58, 38, 59, 38, 96, 30, 79, 64, 13, 100, 69, 81, 45, 27, 76, 16, 88, 25, 62, 89, 87, 69, 85, 15, 43, 60, 70, 62, 14, 66, 52, 35, 42, 67, 32, 5, 30, 96, 89, 39, 91, 6, 39, 17, 96, 26, 79, 5, 56, 61, 52, 89, 68, 77, 14, 35, 33, 56, 15, 48, 21, 59, 45, 79, 2, 29, 45, 57, 54, 31, 14, 32, 40, 69, 73, 33, 83, 83, 96, 56, 27, 43, 61, 71, 88, 86, 4, 50, 20, 67, 94, 91, 76, 49, 13, 8, 8, 33, 11, 14, 9, 32, 31, 20, 13, 100, 87, 2, 8, 93, 43, 90, 40, 88, 48, 86, 82, 54, 54, 70, 54, 55, 16, 82, 36, 74, 20, 61, 48, 41, 89, 79, 64, 76, 45, 40, 5, 33, 26, 82, 100, 95, 15, 60, 24, 39, 71, 90, 68, 97, 71, 72, 32, 8, 69, 69, 20, 99, 44, 78, 91, 1, 100, 80, 17, 56, 99, 20, 79, 92, 58, 39, 1, 40, 47, 84, 50, 85, 96, 11, 42, 98, 71, 92, 63, 53, 55, 9, 29, 67, 25, 94, 9, 70, 68, 3, 97, 25, 88, 51, 64, 72, 33, 33, 61, 24, 36, 62, 86, 18, 29, 55, 55, 87, 34, 49, 49, 80, 51, 52, 93, 35, 50, 100, 68, 65, 20, 81, 37, 98, 60, 88, 93, 34, 47, 46, 5, 33, 93, 76, 91, 36, 83, 44, 18, 21, 9, 50, 66, 54, 18, 12, 91, 65, 74, 19, 33, 81, 49, 27, 49, 81, 59, 36, 9, 72, 7, 11, 74, 91, 93, 15, 91, 72, 93, 75, 22, 82, 94, 98, 1, 33, 16, 15, 76, 82, 31, 35, 34, 26, 59, 9, 6, 72, 30, 56, 74, 97, 80, 9, 15, 44, 97, 70, 69, 20, 89, 65, 28, 95, 37, 11, 63, 4, 83, 31, 54, 67, 63, 46, 49, 88, 29, 60, 15, 4, 39, 4, 35, 16, 100, 1, 82, 32, 27, 79, 70, 42, 96, 77, 69, 26, 96, 23, 51, 34, 80, 50, 64, 47, 75, 55, 32, 94, 43, 90, 81, 34, 27, 58, 66, 7, 39, 92, 44, 48, 83, 68, 78, 83, 38, 15, 22, 79, 19, 39, 52, 90, 2, 86, 82, 67, 24, 72, 36, 93, 3, 78, 52, 25, 19, 72, 31, 44, 85, 45, 67, 50, 1, 91, 57, 17, 6, 8, 12, 47, 33, 22, 18, 34, 10, 82, 13, 62, 77, 89, 82, 71, 71, 4, 82, 22, 36, 54, 73, 6, 30, 62, 3, 86, 89, 96, 25, 1, 7, 70, 86, 63, 95, 86, 26, 28, 12, 67, 81, 33, 23, 88, 62, 29, 57, 71, 60, 29, 99, 39, 13, 77, 69, 91, 60, 67, 33, 92, 30, 64, 15, 34, 30, 62, 87, 57, 17, 7, 60, 71, 16, 65, 84, 86, 50, 99, 43, 12, 96, 90, 78, 58, 6, 97, 82, 97, 44, 79, 21, 99, 82, 79, 38, 58, 3, 95, 97, 81, 46, 19, 26, 30, 29, 25, 2, 12, 8, 15, 34, 86, 98, 87, 7, 27, 98, 41, 54, 13, 16, 98, 99, 82, 87, 10, 57, 5, 50, 55, 45, 45, 23, 21, 67, 24, 24, 100, 63, 24, 48, 69, 56, 73, 41, 50, 11, 27, 34, 80, 34, 57, 8, 32, 19, 18, 54, 22, 21, 6, 90, 47, 90, 21, 40, 4, 57, 9, 32, 78, 9, 83, 15, 23, 79, 57, 71, 96, 45, 54, 75, 97, 100, 2, 17, 10, 20, 61, 89, 64, 59, 93, 80, 49, 34, 45, 50, 25, 42, 97, 97, 53, 96, 90, 59, 55, 46, 12, 20, 96, 23, 41, 92, 58, 67, 41, 100, 77, 12, 95, 62, 82, 34, 51, 75, 17, 73, 12, 80, 14, 9, 83, 85, 66, 43, 8, 63, 26, 24, 55, 79, 46, 6, 31, 38, 98, 10, 43, 10, 21, 68, 56, 31, 7, 15, 20, 47, 19, 16, 56, 22, 63, 74, 6, 31, 38, 56, 45, 90, 23, 94, 68, 21, 31, 75, 62, 26, 88, 66, 34, 49, 87, 80, 61, 23, 7, 91, 34, 15, 60, 71, 90, 67, 14, 77, 37, 35, 55, 75, 61, 70, 87, 52, 20, 91, 77, 87, 65, 50, 30, 68, 65, 18, 25, 29, 39, 93, 43, 78, 62, 1, 69, 73, 27, 71, 51, 9, 10, 18, 9, 98, 21, 2, 71, 50, 55, 61, 22, 54, 53, 43, 35, 66, 23, 67, 7, 7, 16, 13, 66, 27, 70, 32, 10, 28, 54, 99, 80, 61, 84, 18, 1, 20, 26, 51, 35, 84, 67, 13, 90, 100, 8, 9, 89, 77, 40, 47, 73, 41, 93, 45, 49, 86, 32, 37, 67, 52, 85, 49, 9, 76, 98, 61, 68, 37, 40, 56, 49, 85, 61, 87, 77, 78, 98, 74, 95, 53, 69, 88, 31, 84, 24, 100, 48, 55, 96, 10, 16, 95, 39, 76, 7, 9, 42, 41, 40, 50, 4, 93, 7, 55, 88, 50, 45, 47, 39, 18, 88, 55, 17, 40, 33, 86, 70, 58, 44, 80, 49, 48, 42, 70, 45, 85, 40, 65, 93, 17, 13, 25, 90, 58, 74, 55, 3, 84, 52, 40, 2, 96, 30, 59, 73, 19, 74, 84, 47, 58, 28, 96, 78, 74, 42, 18, 51, 26, 29, 80, 55, 20, 90, 97, 20, 56, 45, 85, 69, 30, 18, 32, 35, 82, 86, 42, 2, 69, 31, 25, 12, 98, 17, 80, 52, 52, 47, 74, 85, 76, 67, 71, 84, 100, 84, 13, 55, 43, 27, 78, 55, 30, 14, 41, 22, 54, 81, 60, 74, 73, 10, 52, 86, 71, 68, 86, 56, 18, 100, 47, 29, 38, 75, 78, 37, 55, 77, 11, 81, 13, 82, 44, 32, 55, 92, 79, 69, 79, 87, 68, 1, 6, 34, 46, 6, 99, 14, 13, 15, 32, 92, 65, 86, 72, 71, 34, 100, 41, 21, 16, 49, 51, 63, 48, 45, 16, 48, 27, 77, 91, 69, 11, 46, 53, 12, 32, 99, 72, 65, 44, 72, 57, 3, 31, 5, 29, 52, 21, 68, 93, 55, 37, 33, 44, 1, 65, 54, 81, 73, 66, 15, 5, 10, 18, 29, 17, 99, 79, 26, 9, 13, 52, 5, 4, 12, 40, 79, 96, 9, 92, 2, 48, 66, 39, 95, 55, 2, 61, 11, 14, 27, 89, 14, 66, 12, 87, 56, 18, 25, 90, 33, 100, 58, 9, 84, 24, 14, 70, 61, 19, 41, 45, 25, 50, 86, 4, 5, 71, 62, 59, 1, 98, 9, 55, 77, 87, 2, 95, 49, 50, 38, 66, 55, 28, 87, 98, 20, 3, 81, 98, 99, 12, 14, 13, 19, 83, 5, 72, 86, 43, 93, 74, 12, 57, 65, 2, 95, 42, 71, 89, 11, 22, 79, 15, 28, 100, 67, 67, 28, 20, 9, 22, 4, 46, 30, 69, 70, 81, 4, 93, 16, 100, 58, 80, 80, 70, 99, 68, 99, 43, 79, 58, 87, 66, 99, 37, 70, 68, 70, 93, 79, 90, 81, 92, 58, 28, 6, 32, 63, 45, 57, 46, 41, 51, 85, 78, 44, 7, 7, 68, 16, 76, 98, 97, 85, 64, 14, 32, 27, 91, 46, 26, 6, 77, 31, 47, 29, 33, 86, 89, 13, 29, 58, 34, 97, 38, 91, 19, 6, 8, 55, 91, 74, 11, 85, 20, 23, 34, 59, 18, 21, 48, 79, 6, 41, 62, 44, 6, 77, 25, 28, 76, 18, 16, 6, 30, 4, 55, 83, 17, 5, 78, 48, 93, 19, 77, 92, 5, 55, 69, 58, 12, 12, 63, 39, 29, 100, 22, 100, 65, 19, 64, 82, 11, 60, 62, 50, 67, 72, 91, 43, 80, 65, 76, 63, 14, 33, 38, 66, 49, 59, 100, 87, 40, 93, 40, 48, 52, 91, 5, 83, 47, 21, 57, 82, 81, 92, 100, 27, 100, 85, 73, 6, 74, 6, 6, 53, 40, 52, 85, 52, 19, 50, 99, 40, 82, 48, 84, 84, 69, 63, 63, 42, 22, 94, 73, 22, 59, 12, 30, 21, 43, 48, 48, 24, 67, 78, 73, 67, 87, 19, 89, 100, 67, 80, 25, 6, 45, 90, 65, 44, 16, 87, 2, 80, 41, 40, 23, 46, 40, 18, 75, 50, 98, 93, 3, 25, 54, 37, 80, 80, 34, 80, 57, 32, 18, 66, 59, 33, 22, 62, 65, 4, 79, 22, 65, 55, 14, 81, 54, 54, 41, 23, 4, 95, 43, 76, 59, 32, 25, 52, 72, 63, 87, 33, 37, 39, 11, 29, 39, 60, 43, 7, 91, 63, 42, 27, 56, 91, 96, 45, 94, 74, 73, 27, 94, 61, 26, 37, 82, 4, 98, 61, 87, 66, 95, 85, 90, 20, 22, 36, 31, 88, 44, 59, 51, 58, 61, 46, 11, 43, 44, 79, 83, 17, 36, 34, 97, 44, 18, 72, 64, 67, 87, 100, 19, 74, 93, 14, 16, 45, 25, 61, 37, 53, 33, 73, 93, 98, 48, 2, 47, 90, 13, 51, 29, 21, 44, 72, 84, 38, 16, 76, 71, 62, 98, 43, 99, 4, 88, 64, 82, 82, 6, 52, 42, 41, 13, 63, 75, 27, 30, 85, 61, 59, 99, 20, 79, 100, 92, 2, 89, 62, 34, 42, 74, 31, 58, 35, 56, 98, 62, 34, 98, 75, 4, 62, 70, 32, 46, 45, 16, 90, 10, 26, 87, 72, 45, 36, 50, 23, 11, 85, 66, 70, 97, 13, 48, 43, 21, 37, 82, 83, 7, 2, 99, 95, 22, 69, 26, 95, 98, 88, 83, 17, 85, 88, 88, 53, 73, 47, 7, 11, 29, 70, 34, 50, 13, 58, 48, 56, 80, 76, 88, 6, 21, 5, 6, 48, 22, 2, 27, 49, 85, 88, 67, 35, 25, 59, 84, 47, 79, 17, 5, 19, 73, 60, 65, 37, 15, 22, 10, 27, 1, 62, 39, 42, 12, 86, 72, 82, 72, 79, 36, 65, 44, 12, 79, 29, 33, 63, 37, 40, 65, 17, 34, 69, 41, 46, 10, 60, 93, 21, 71, 70, 40, 72, 46, 8, 76, 72, 37, 59, 58, 94, 75, 25, 23, 48, 93, 46, 7, 54, 84, 18, 95, 80, 26, 79, 90, 70, 17, 5, 64, 50, 51, 56, 50, 98, 67, 93, 76, 94, 48, 96, 77, 20, 83, 80, 23, 57, 66, 15, 49, 68, 50, 94, 18, 6, 96, 17, 33, 82, 94, 6, 92, 44, 3, 94, 48, 65, 70, 70, 26, 43, 30, 70, 23, 85, 19, 18, 35, 83, 38, 52, 43, 72, 13, 94, 42, 24, 1, 70, 51, 43, 74, 78, 25, 75, 60, 65, 26, 93, 24, 43, 41, 23, 82, 40, 77, 35, 21, 59, 94, 96, 16, 9, 85, 30, 60, 48, 72, 7, 38, 9, 38, 76, 79, 86, 65, 84, 20, 5, 30, 18, 8, 36, 54, 47, 82, 90, 47, 92, 35, 15, 42, 82, 84, 52, 63, 82, 65, 31, 99, 27, 43, 91, 6, 5, 75, 82, 90, 96, 31, 40, 33, 56, 42, 46, 84, 44, 30, 75, 75, 76, 12, 57, 59, 82, 75, 51, 93, 10, 89, 86, 52, 28, 74, 26, 38, 22, 67, 53, 81, 87, 37, 92, 82, 84, 76, 38, 36, 100, 77, 7, 82, 76, 66, 1, 66, 6, 77, 58, 74, 96, 83, 81, 80, 77, 61, 42, 22, 56, 68, 39, 59, 3, 70, 60, 29, 47, 22, 48, 71, 3, 49, 65, 57, 1, 7, 72, 30, 56, 15, 87, 41, 39, 88, 15, 13, 33, 66, 33, 59, 48, 51, 81, 44, 26, 10, 12, 94, 80, 34, 83, 25, 12, 63, 88, 2, 31, 55, 13, 58, 90, 57, 6, 11, 34, 75, 15, 85, 30, 5, 85, 91, 46, 26, 85, 30, 55, 88, 16, 59, 43, 52, 96, 61, 89, 56, 58, 62, 33, 53, 26, 60, 13, 36, 89, 95, 87, 42, 19, 67, 33, 5, 28, 12, 19, 36, 37, 90, 84, 13, 95, 95, 16, 22, 58, 40, 23, 2, 35, 32, 83, 55, 88, 88, 32, 31, 55, 35, 30, 41, 81, 99, 96, 55, 40, 4, 85, 14, 7, 96, 5, 77, 50, 17, 12, 96, 73, 15, 44, 14, 1, 97, 14, 85, 6, 23, 84, 40, 5, 33, 3, 49, 39, 58, 13, 1, 83, 20, 13, 57, 50, 5, 76, 80, 38, 1, 43, 100, 2, 78, 71, 86, 90, 7, 29, 38, 98, 30, 67, 66, 63, 64, 86, 36, 47, 68, 75, 64, 99, 25, 91, 71, 44, 83, 94, 98, 53, 91, 67, 86, 98, 10, 67, 63, 23, 59, 1, 91, 22, 49, 1, 84, 7, 51, 99, 52, 55, 84, 61, 95, 75, 2, 19, 44, 99, 7, 40, 51, 8, 52, 75, 21, 52, 84, 54, 36, 77, 40, 43, 50, 74, 58, 6, 81, 50, 46, 67, 60, 85, 85, 92, 94, 84, 80, 33, 17, 96, 73, 37, 42, 2, 12, 68, 64, 50, 91, 23, 33, 56, 74, 19, 5, 1, 79, 54, 86, 25, 72, 51, 40, 85, 30, 42, 3, 94, 76, 91, 8, 66, 90, 89, 61, 36, 47, 50, 4, 74, 34, 53, 60, 92, 96, 43, 9, 72, 17, 50, 61, 70, 42, 62, 22, 51, 13, 63, 94, 46, 19, 11, 70, 94, 48, 67, 28, 7, 88, 73, 52, 46, 40, 78, 44, 7, 31, 53, 9, 4, 71, 89, 8, 24, 41, 14, 60, 29, 64, 3, 95, 16, 23, 77, 94, 22, 39, 43, 20, 9, 92, 100, 49, 15, 16, 28, 43, 49, 84, 57, 82, 95, 88, 49, 40, 43, 71, 64, 31, 31, 3, 56, 12, 13, 53, 68, 32, 57, 9, 18, 99, 54, 12, 20, 31, 1, 58, 58, 60, 53, 38, 90, 43, 10, 47, 12, 25, 83, 59, 58, 56, 39, 51, 22, 76, 30, 3, 59, 66, 17, 37, 34, 1, 76, 70, 11, 85, 71, 59, 83, 89, 24, 34, 93, 44, 45, 79, 5, 50, 86, 21, 71, 57, 12, 47, 65, 93, 61, 81, 48, 25, 86, 47, 21, 15, 72, 49, 87, 30, 53, 95, 66, 90, 13, 74, 84, 14, 89, 21, 88, 36, 40, 58, 8, 64, 61, 51, 89, 58, 81, 44, 47, 53, 73, 58, 65, 47, 46, 6, 93, 9, 58, 51, 77, 83, 30, 99, 63, 38, 93, 64, 42, 77, 45, 79, 92, 89, 28, 92, 17, 99, 23, 19, 19, 83, 64, 91, 26, 5, 7, 87, 77, 14, 4, 58, 75, 82, 35, 93, 38, 6, 59, 59, 80, 82, 24, 22, 23, 34, 76, 87, 97, 91, 26, 11, 96, 28, 70, 58, 1, 23, 10, 61, 31, 91, 36, 32, 32, 83, 49, 9, 60, 87, 74, 26, 16, 96, 43, 77, 33, 1, 69, 72, 54, 82, 76, 59, 4, 46, 89, 64, 71, 35, 76, 17, 26, 72, 86, 43, 13, 77, 62, 69, 66, 83, 19, 2, 29, 18, 48, 54, 16, 77, 81, 88, 48, 21, 56, 7, 74, 16, 81, 56, 13, 86, 63, 35, 21, 60, 1, 37, 69, 25, 83, 23, 22, 1, 58, 65, 90, 86, 84, 88, 78, 72, 67, 65, 80, 37, 55, 90, 31, 84, 60, 35, 69, 64, 34, 20, 15, 89, 51, 9, 43, 79, 67, 23, 63, 34, 17, 11, 36, 31, 46, 51, 92, 4, 78, 56, 18, 72, 41, 56, 46, 28, 23, 73, 31, 98, 8, 99, 72, 98, 8, 16, 44, 2, 77, 45, 78, 3, 52, 30, 35, 79, 73, 44, 90, 31, 3, 24, 69, 18, 33, 1, 98, 17, 58, 19, 29, 8, 94, 78, 43, 60, 68, 50, 55, 56, 8, 64, 76, 34, 65, 80, 7, 1, 44, 17, 55, 99, 79, 27, 92, 77, 94, 6, 72, 31, 90, 22, 88, 21, 76, 33, 25, 29, 52, 24, 37, 99, 50, 42, 79, 84, 5, 59, 91, 59, 58, 6, 13, 28, 45, 100, 91, 60, 86, 77, 98, 94, 56, 18, 84, 78, 17, 28, 75, 95, 42, 15, 63, 18, 78, 34, 80, 21, 24, 75, 72, 61, 98, 60, 91, 78, 1, 71, 13, 72, 48, 100, 21, 92, 43, 55, 9, 43, 76, 79, 17, 9, 61, 62, 75, 57, 62, 74, 93, 100, 78, 62, 25, 83, 50, 85, 78, 63, 97, 30, 9, 34, 7, 67, 4, 87, 61, 78, 91, 75, 96, 19, 37, 48, 8, 52, 41, 14, 23, 71, 18, 43, 79, 71, 90, 52, 18, 15, 99, 9, 23, 35, 67, 38, 19, 50, 58, 32, 4, 60, 61, 46, 92, 25, 9, 15, 66, 7, 88, 52, 2, 86, 85, 27, 84, 17, 81, 40, 85, 10, 98, 30, 97, 82, 15, 60, 72, 54, 70, 35, 37, 30, 71, 16, 47, 94, 83, 92, 42, 32, 59, 54, 46, 2, 17, 63, 79, 91, 82, 29, 77, 38, 44, 65, 26, 5, 80, 92, 3, 31, 33, 44, 17, 24, 36, 85, 23, 94, 10, 46, 5, 26, 71, 20, 45, 43, 93, 62, 86, 4, 65, 21, 18, 72, 25, 87, 41, 97, 80, 44, 29, 63, 96, 61, 79, 45, 32, 39, 42, 66, 73, 6, 50, 27, 89, 43, 86, 88, 78, 32, 30, 63, 63, 16, 63, 15, 100, 40, 14, 61, 7, 84, 98, 20, 80, 3, 15, 69, 99, 16, 94, 4, 55, 42, 9, 95, 55, 17, 49, 41, 20, 19, 13, 24, 90, 74, 11, 79, 75, 54, 70, 91, 73, 76, 38, 18, 18, 89, 51, 87, 19, 51, 32, 97, 2, 57, 98, 58, 77, 37, 88, 34, 5, 77, 5, 40, 24, 35, 98, 69, 49, 42, 27, 97, 27, 86, 65, 67, 7, 84, 16, 53, 15, 37, 10, 75, 16, 28, 100, 74, 76, 23, 98, 32, 11, 61, 21, 8, 2, 18, 19, 60, 31, 94, 94, 93, 41, 36, 34, 100, 45, 26, 71, 93, 56, 71, 85, 10, 35, 24, 42, 57, 43, 61, 8, 23, 18, 71, 46, 27, 98, 97, 33, 61, 44, 46, 4, 33, 69, 29, 30, 14, 64, 65, 66, 40, 15, 61, 97, 83, 44, 81, 52, 54, 25, 39, 22, 29, 35, 20, 28, 18, 68, 97, 4, 6, 41, 65, 27, 90, 41, 12, 10, 82, 1, 11, 29, 84, 57, 85, 11, 98, 92, 9, 26, 86, 100, 32, 82, 40, 53, 61, 40, 11, 93, 66, 82, 54, 1, 66, 96, 82, 93, 12, 55, 97, 88, 36, 55, 96, 3, 40, 48, 88, 15, 98, 4, 16, 40, 63, 95, 71, 65, 66, 16, 74, 22, 61, 59, 13, 64, 63, 71, 96, 66, 93, 58, 97, 66, 78, 83, 22, 97, 7, 62, 70, 7, 36, 91, 89, 37, 75, 28, 43, 19, 48, 62, 19, 12, 18, 9, 63, 41, 56, 43, 22, 99, 51, 21, 40, 42, 35, 53, 7, 7, 77, 42, 76, 65, 56, 57, 3, 29, 51, 38, 85, 55, 31, 46, 42, 74, 97, 71, 22, 42, 28, 47, 20, 86, 97, 30, 11, 9, 34, 37, 25, 53, 79, 31, 56, 19, 18, 80, 22, 50, 85, 79, 45, 53, 92, 89, 26, 30, 89, 22, 14, 100, 71, 2, 15, 78, 11, 77, 86, 49, 68, 72, 98, 61, 27, 89, 82, 20, 39, 23, 49, 69, 6, 59, 15, 3, 51, 19, 24, 14, 10, 34, 8, 81, 25, 24, 40, 58, 72, 23, 31, 6, 11, 79, 84, 24, 68, 73, 82, 7, 37, 85, 90, 32, 52, 40, 27, 34, 13, 7, 83, 61, 83, 57, 58, 30, 28, 37, 89, 77, 34, 28, 7, 74, 17, 86, 36, 35, 73, 44, 17, 28, 30, 96, 60, 66, 62, 46, 54, 86, 9, 29, 10, 59, 62, 12, 23, 78, 50, 71, 98, 50, 71, 50, 96, 24, 68, 62, 67, 1, 81, 48, 45, 39, 24, 11, 58, 4, 43, 42, 18, 64, 29, 69, 77, 46, 81, 92, 19, 36, 19, 18, 34, 63, 85, 59, 50, 34, 88, 74, 75, 7, 91, 25, 77, 10, 45, 5, 28, 50, 25, 58, 19, 79, 61, 28, 17, 38, 97, 80, 33, 13, 40, 31, 1, 6, 74, 38, 91, 44, 12, 64, 60, 41, 97, 54, 83, 88, 23, 19, 17, 37, 100, 49, 51, 83, 76, 75, 93, 67, 65, 46, 35, 51, 1, 72, 29, 13, 5, 3, 19, 93, 77, 94, 54, 80, 38, 11, 89, 22, 42, 21, 61, 90, 96, 72, 5, 38, 37, 86, 42, 33, 34, 62, 41, 58, 60, 59, 100, 71, 37, 1, 7, 10, 1, 59, 13, 55, 65, 43, 16, 52, 75, 21, 72, 24, 24, 48, 80, 22, 22, 28, 100, 65, 25, 97, 47, 69, 56, 39, 48, 25, 8, 29, 100, 33, 15, 46, 2, 86, 97, 100, 69, 11, 71, 27, 74, 11, 2, 60, 88, 77, 22, 21, 2, 65, 9, 15, 19, 75, 100, 83, 89, 6, 48, 83, 53, 98, 66, 66, 89, 6, 40, 29, 72, 28, 68, 68, 42, 94, 69, 48, 45, 15, 72, 88, 98, 53, 69, 22, 80, 18, 95, 27, 19, 77, 91, 13, 69, 51, 54, 84, 23, 66, 93, 3, 70, 22, 23, 67, 90, 88, 75, 32, 31, 72, 24, 95, 19, 35, 51, 32, 15, 79, 54, 20, 47, 25, 49, 3, 48, 99, 17, 85, 35, 33, 17, 67, 61, 22, 79, 53, 27, 47, 95, 47, 21, 31, 79, 33, 10, 99, 57, 80, 24, 67, 42, 11, 91, 46, 35, 71, 87, 19, 9, 43, 81, 39, 62, 6, 39, 40, 14, 61, 83, 83, 30, 90, 76, 97, 95, 20, 65, 43, 22, 38, 35, 24, 83, 55, 56, 10, 39, 40, 7, 59, 2, 60, 49, 28, 19, 63, 60, 87, 66, 87, 100, 50, 87, 78, 35, 83, 78, 63, 36, 25, 100, 47, 60, 62, 52, 63, 22, 15, 3, 40, 80, 34, 35, 46, 60, 98, 23, 50, 59, 4, 63, 20, 30, 48, 26, 98, 24, 43, 85, 88, 57, 80, 7, 44, 18, 88, 93, 44, 52, 75, 46, 62, 94, 77, 22, 54, 75, 26, 99, 1, 32, 77, 57, 35, 35, 27, 61, 68, 39, 20, 69, 24, 73, 54, 20, 89, 50, 10, 3, 10, 63, 14, 32, 58, 10, 24, 97, 16, 58, 39, 59, 60, 60, 77, 46, 16, 21, 40, 66, 82, 56, 20, 78, 82, 16, 26, 87, 66, 21, 11, 89, 47, 86, 89, 84, 13, 49, 7, 49, 50, 59, 11, 13, 41, 74, 24, 88, 51, 69, 96, 91, 66, 33, 28, 6, 93, 98, 87, 61, 82, 68, 16, 2, 23, 38, 58, 91, 98, 38, 67, 3, 80, 7, 39, 56, 33, 74, 39, 20, 84, 33, 27, 6, 90, 13, 44, 21, 46, 86, 20, 42, 67, 2, 93, 33, 79, 68, 65, 52, 73, 67, 47, 36, 42, 20, 84, 7, 42, 1, 5, 84, 5, 92, 29, 80, 10, 30, 59, 18, 35, 97, 29, 2, 100, 68, 81, 20, 20, 76, 27, 94, 31, 100, 82, 9, 77, 54, 5, 73, 83, 44, 46, 77, 99, 26, 71, 69, 37, 73, 16, 70, 1, 57, 90, 14, 32, 4, 3, 90, 25, 10, 36, 13, 43, 92, 74, 65, 94, 67, 32, 49, 1, 94, 56, 88, 30, 53, 4, 57, 87, 35, 28, 99, 24, 79, 2, 74, 39, 3, 51, 76, 64, 28, 82, 6, 10, 45, 32, 26, 16, 99, 14, 53, 57, 82, 42, 81, 46, 38, 26, 11, 95, 7, 25, 15, 21, 58, 91, 90, 34, 97, 39, 83, 28, 14, 8, 86, 65, 57, 53, 24, 82, 90, 5, 35, 19, 49, 61, 2, 65, 60, 92, 30, 60, 25, 79, 30, 53, 76, 94, 47, 81, 99, 80, 83, 87, 44, 3, 79, 58, 33, 41, 46, 53, 14, 73, 81, 51, 87, 20, 31, 99, 84, 72, 93, 31, 59, 96, 63, 36, 60, 29, 10, 96, 40, 37, 41, 100, 84, 28, 53, 32, 78, 7, 13, 94, 12, 9, 29, 19, 25, 80, 27, 82, 4, 57, 60, 11, 40, 72, 1, 60, 56, 26, 52, 44, 85, 96, 48, 8, 88, 31, 2, 71, 39, 22, 80, 10, 44, 49, 2, 62, 80, 72, 2, 22, 53, 36, 27, 18, 22, 1, 1, 65, 23, 44, 8, 90, 80, 89, 65, 93, 4, 75, 9, 53, 38, 36, 21, 3, 40, 8, 6, 24, 49, 45, 90, 96, 90, 18, 77, 72, 74, 1, 96, 81, 71, 86, 29, 31, 35, 73, 62, 17, 36, 30, 74, 51, 21, 48, 63, 79, 93, 62, 49, 11, 91, 21, 19, 26, 99, 6, 92, 15, 49, 79, 4, 41, 10, 32, 62, 30, 72, 43, 16, 36, 54, 2, 84, 58, 27, 44, 10, 8, 14, 7, 52, 99, 37, 51, 63, 3, 86, 42, 94, 87, 41, 48, 15, 14, 12, 20, 62, 88, 65, 22, 49, 52, 46, 17, 70, 100, 91, 39, 32, 69, 39, 54, 99, 93, 47, 97, 46, 5, 55, 60, 99, 9, 92, 11, 63, 48, 20, 69, 80, 49, 46, 2, 62, 67, 26, 71, 97, 62, 77, 94, 62, 42, 66, 25, 100, 68, 89, 65, 20, 37, 85, 40, 52, 41, 28, 96, 52, 17, 41, 10, 5, 37, 31, 70, 29, 63, 16, 72, 32, 48, 57, 75, 33, 69, 70, 51, 92, 99, 75, 12, 20, 46, 19, 71, 39, 26, 79, 45, 97, 71, 99, 25, 74, 28, 70, 20, 93, 82, 61, 29, 1, 42, 85, 73, 47, 49, 12, 81, 19, 45, 90, 7, 11, 58, 35, 63, 26, 11, 68, 23, 16, 26, 22, 20, 43, 76, 31, 18, 77, 60, 17, 56, 61, 91, 85, 85, 52, 82, 86, 31, 27, 12, 14, 6, 96, 43, 38, 66, 53, 54, 65, 40, 70, 48, 1, 9, 20, 97, 71, 21, 18, 96, 74, 73, 98, 6, 95, 100, 62, 35, 10, 51, 94, 94, 70, 65, 40, 31, 8, 26, 58, 21, 20, 54, 19, 79, 20, 63, 15, 50, 33, 88, 22, 76, 65, 67, 83, 50, 26, 3, 20, 80, 41, 80, 73, 38, 97, 51, 50, 79, 77, 61, 65, 31, 75, 99, 93, 52, 10, 95, 62, 22, 7, 70, 50, 68, 40, 72, 39, 23, 77, 96, 64, 48, 76, 38, 39, 34, 72, 70, 24, 77, 12, 16, 99, 20, 15, 22, 15, 66, 13, 94, 98, 54, 17, 53, 37, 92, 65, 23, 81, 27, 97, 16, 5, 77, 18, 52, 96, 81, 70, 44, 57, 59, 49, 58, 77, 61, 84, 69, 19, 36, 91, 48, 63, 6, 29, 75, 47, 90, 60, 95, 51, 69, 64, 53, 7, 66, 86, 66, 2, 83, 21, 89, 26, 23, 94, 29, 83, 35, 45, 11, 97, 69, 41, 42, 67, 12, 11, 86, 55, 2, 82, 79, 39, 34, 39, 37, 24, 17, 73, 20, 83, 87, 74, 44, 32, 73, 7, 48, 86, 57, 46, 27, 79, 33, 30, 54, 16, 2, 37, 37, 57, 53, 53, 89, 36, 43, 90, 16, 4, 99, 63, 35, 22, 24, 66, 76, 46, 31, 31, 94, 45, 18, 89, 16, 81, 16, 86, 53, 70, 21, 5, 68, 90, 81, 20, 55, 23, 13, 25, 45, 10, 87, 45, 99, 45, 93, 26, 88, 79, 64, 66, 88, 63, 78, 83, 88, 21, 40, 55, 61, 96, 79, 59, 9, 11, 9, 93, 53, 87, 5, 28, 3, 76, 30, 24, 9, 65, 83, 5, 37, 60, 11, 46, 2, 91, 62, 13, 46, 23, 2, 33, 60, 53, 6, 70, 32, 53, 55, 55, 61, 80, 35, 75, 16, 92, 60, 37, 54, 68, 59, 90, 20, 46, 36, 5, 52, 35, 41, 5, 44, 7, 93, 81, 79, 44, 54, 48, 19, 100, 24, 28, 8, 73, 78, 70, 80, 47, 4, 6, 74, 62, 54, 82, 80, 51, 49, 49, 30, 71, 53, 49, 58, 67, 12, 59, 1, 89, 40, 38, 48, 32, 88, 63, 76, 24, 10, 84, 75, 70, 37, 25, 79, 71, 56, 83, 2, 20, 51, 33, 7, 70, 39, 7, 25, 86, 80, 91, 41, 10, 9, 70, 55, 73, 2, 10, 59, 86, 87, 40, 87, 14, 50, 90, 10, 84, 23, 66, 28, 7, 78, 89, 7, 32, 32, 90, 27, 18, 44, 94, 67, 87, 82, 57, 47, 50, 83, 35, 8, 70, 42, 100, 77, 27, 16, 82, 32, 3, 5, 57, 15, 68, 21, 35, 31, 43, 96, 35, 76, 11, 53, 60, 55, 70, 15, 85, 57, 69, 31, 81, 10, 40, 91, 79, 3, 19, 67, 49, 82, 69, 19, 87, 23, 44, 21, 74, 45, 88, 5, 61, 14, 67, 100, 26, 42, 31, 97, 83, 41, 99, 27, 63, 52, 41, 63, 84, 99, 8, 87, 79, 55, 38, 97, 68, 3, 75, 82, 84, 69, 60, 1, 44, 98, 51, 92, 19, 90, 95, 45, 77, 37, 3, 9, 13, 61, 42, 38, 91, 75, 67, 17, 33, 33, 39, 93, 65, 45, 6, 71, 99, 75, 5, 36, 92, 85, 66, 98, 99, 26, 13, 18, 88, 68, 97, 66, 57, 97, 50, 26, 29, 37, 45, 81, 48, 7, 42, 37, 35, 62, 84, 41, 66, 79, 12, 13, 87, 43, 51, 28, 13, 94, 88, 91, 14, 64, 16, 89, 68, 15, 12, 69, 85, 9, 27, 28, 61, 75, 71, 31, 34, 68, 68, 31, 17, 78, 45, 91, 52, 95, 28, 22, 49, 74, 69, 24, 56, 37, 45, 15, 64, 72, 19, 64, 33, 48, 28, 4, 40, 45, 25, 63, 83, 28, 97, 93, 98, 73, 6, 79, 28, 99, 47, 96, 4, 81, 46, 8, 57, 24, 51, 40, 74, 43, 68, 57, 77, 39, 26, 29, 18, 95, 2, 51, 74, 6, 88, 66, 23, 82, 33, 36, 83, 75, 89, 94, 75, 85, 11, 77, 84, 9, 3, 53, 17, 60, 56, 11, 31, 72, 68, 46, 21, 24, 25, 15, 4, 77, 84, 1, 70, 7, 89, 54, 43, 59, 14, 32, 82, 40, 38, 41, 28, 36, 50, 23, 93, 33, 22, 26, 26, 2, 97, 65, 43, 99, 33, 21, 17, 21, 87, 77, 61, 71, 15, 26, 22, 70, 77, 2, 85, 15, 14, 90, 69, 69, 71, 63, 84, 84, 48, 73, 9, 32, 93, 8, 2, 11, 64, 86, 52, 94, 28, 82, 39, 33, 3, 66, 45, 14, 39, 57, 82, 10, 70, 13, 29, 87, 91, 47, 71, 76, 78, 6, 43, 31, 57, 19, 43, 12, 99, 9, 43, 82, 21, 71, 64, 9, 82, 25, 75, 87, 46, 59, 83, 97, 52, 89, 71, 16, 83, 68, 97, 14, 67, 94, 96, 95, 27, 52, 6, 29, 77, 5, 84, 30, 29, 23, 4, 24, 9, 73, 5, 27, 83, 81, 33, 76, 81, 56, 43, 12, 94, 65, 4, 29, 40, 50, 89, 97, 91, 18, 71, 66, 81, 41, 64, 92, 100, 46, 88, 12, 78, 72, 31, 43, 57, 81, 13, 22, 74, 35, 14, 61, 1, 64, 99, 43, 10, 18, 68, 29, 91, 21, 75, 68, 93, 94, 16, 52, 42, 52, 35, 35, 99, 50, 24, 68, 81, 74, 76, 65, 61, 94, 72, 12, 32, 95, 21, 83, 63, 94, 91, 1, 99, 35, 41, 96, 40, 12, 83, 57, 97, 52, 66, 48, 41, 7, 21, 6, 37, 60, 2, 7, 14, 23, 88, 90, 7, 8, 86, 71, 87, 22, 39, 72, 69, 24, 41, 94, 15, 60, 90, 61, 9, 38, 78, 49, 30, 21, 43, 65, 26, 14, 63, 37, 44, 43, 57, 19, 61, 100, 47, 88, 45, 68, 5, 35, 50, 99, 82, 43, 89, 51, 96, 26, 83, 31, 86, 89, 29, 13, 76, 46, 71, 62, 11, 56, 2, 24, 3, 62, 56, 44, 39, 93, 60, 38, 39, 48, 53, 57, 40, 80, 89, 30, 57, 97, 27, 66, 12, 14, 40, 24, 64, 15, 18, 3, 26, 25, 37, 82, 88, 51, 60, 90, 49, 38, 80, 23, 25, 31, 32, 65, 68, 54, 87, 67, 36, 56, 20, 90, 63, 10, 55, 75, 52, 83, 30, 45, 19, 61, 62, 49, 67, 11, 87, 35, 22, 94, 13, 58, 23, 14, 94, 21, 68, 77, 91, 8, 69, 23, 18, 51, 55, 96, 63, 80, 46, 52, 38, 81, 71, 82, 55, 95, 56, 41, 88, 46, 44, 55, 43, 81, 40, 18, 89, 23, 40, 46, 21, 34, 84, 4, 83, 24, 53, 72, 59, 44, 99, 91, 78, 24, 72, 15, 48, 63, 34, 3, 38, 100, 40, 11, 8, 86, 76, 91, 6, 14, 27, 41, 12, 45, 93, 55, 87, 4, 5, 3, 65, 45, 52, 23, 73, 42, 31, 91, 18, 67, 73, 92, 13, 35, 39, 78, 90, 38, 4, 55, 64, 44, 29, 59, 99, 69, 33, 76, 81, 2, 28, 69, 62, 81, 85, 98, 57, 100, 99, 99, 25, 94, 52, 81, 91, 96, 100, 29, 43, 95, 97, 34, 90, 35, 48, 78, 92, 90, 11, 100, 6, 54, 73, 79, 31, 45, 58, 38, 35, 81, 12, 54, 77, 83, 78, 98, 12, 10, 27, 76, 46, 6, 50, 54, 21, 43, 52, 61, 18, 57, 67, 11, 86, 32, 24, 45, 26, 92, 9, 76, 8, 88, 41, 44, 14, 21, 75, 24, 57, 56, 48, 6, 90, 60, 19, 18, 36, 94, 84, 28, 67, 12, 55, 52, 24, 89, 49, 24, 54, 69, 45, 70, 84, 94, 22, 92, 82, 28, 29, 47, 90, 30, 72, 98, 23, 41, 35, 98, 7, 59, 49, 16, 27, 81, 26, 99, 76, 86, 46, 12, 95, 12, 7, 33, 96, 44, 97, 83, 94, 64, 36, 82, 94, 85, 59, 16, 62, 78, 26, 19, 50, 91, 87, 100, 5, 54, 24, 33, 51, 54, 35, 79, 92, 28, 14, 98, 58, 71, 29, 62, 90, 99, 88, 41, 36, 38, 48, 8, 88, 54, 75, 37, 1, 66, 10, 7, 85, 95, 46, 29, 20, 50, 71, 62, 27, 17, 49, 99, 79, 95, 44, 69, 72, 98, 54, 46, 32, 22, 1, 64, 67, 64, 58, 43, 24, 42, 36, 77, 29, 72, 4, 93, 57, 1, 99, 81, 89, 47, 88, 95, 4, 25, 52, 77, 2, 58, 61, 90, 38, 61, 75, 84, 31, 42, 36, 83, 66, 63, 23, 45, 40, 52, 53, 73, 9, 44, 61, 15, 50, 78, 7, 73, 79, 20, 31, 11, 77, 72, 32, 22, 62, 58, 6, 76, 6, 39, 29, 83, 7, 9, 75, 10, 95, 86, 72, 92, 50, 94, 56, 37, 95, 24, 63, 8, 90, 38, 97, 28, 74, 28, 2, 24, 64, 82, 48, 82, 37, 5, 27, 40, 7, 14, 19, 77, 83, 98, 74, 30, 99, 8, 37, 11, 89, 9, 18, 4, 89, 27, 26, 62, 40, 99, 26, 68, 19, 18, 88, 39, 29, 89, 64, 67, 99, 50, 15, 42, 80, 99, 84, 91, 99, 63, 99, 98, 19, 78, 63, 71, 100, 46, 85, 33, 58, 10, 64, 68, 23, 24, 37, 28, 60, 6, 52, 47, 29, 12, 82, 95, 80, 11, 75, 51, 20, 91, 58, 12, 6, 29, 39, 48, 24, 72, 94, 45, 38, 42, 22, 68, 53, 33, 60, 43, 25, 1, 87, 68, 88, 51, 4, 80, 77, 40, 82, 81, 86, 98, 70, 11, 10, 80, 5, 46, 86, 99, 16, 30, 7, 35, 61, 84, 90, 13, 78, 87, 100, 97, 12, 26, 47, 48, 27, 24, 95, 94, 22, 35, 37, 64, 77, 75, 16, 4, 80, 94, 82, 36, 33, 51, 19, 36, 82, 28, 75, 100, 73, 20, 20, 30, 71, 27, 69, 95, 86, 95, 60, 15, 81, 62, 83, 9, 50, 45, 43, 92, 29, 31, 62, 87, 27, 65, 51, 92, 37, 13, 78, 98, 16, 88, 28, 36, 64, 63, 19, 82, 75, 15, 2, 50, 90, 26, 31, 2, 74, 28, 59, 91, 25, 50, 94, 19, 32, 40, 34, 11, 48, 88, 96, 95, 22, 7, 27, 19, 25, 85, 33, 23, 78, 44, 19, 66, 54, 57, 45, 13, 28, 29, 97, 90, 12, 2, 90, 44, 24, 50, 97, 33, 66, 49, 64, 96, 5, 84, 16, 86, 31, 65, 79, 30, 81, 56, 20, 84, 59, 79, 55, 28, 67, 71, 19, 73, 66, 94, 7, 15, 86, 58, 87, 89, 79, 44, 14, 65, 26, 6, 29, 7, 17, 18, 95, 99, 14, 77, 60, 24, 56, 10, 74, 65, 59, 52, 25, 1, 49, 79, 75, 9, 91, 40, 22, 36, 94, 52, 27, 81, 34, 35, 88, 34, 96, 40, 28, 98, 87, 90, 42, 19, 73, 60, 38, 51, 42, 1, 60, 61, 60, 66, 74, 58, 56, 35, 24, 95, 8, 19, 47, 33, 65, 31, 74, 11, 81, 47, 42, 19, 54, 46, 95, 3, 95, 25, 84, 88, 28, 63, 85, 57, 96, 77, 88, 55, 55, 82, 37, 52, 67, 5, 21, 87, 94, 84, 50, 28, 60, 18, 27, 36, 88, 79, 82, 76, 68, 9, 79, 78, 16, 45, 45, 92, 20, 18, 23, 37, 40, 16, 15, 9, 37, 97, 8, 16, 95, 74, 60, 46, 45, 89, 54, 89, 65, 60, 1, 12, 5, 58, 11, 80, 25, 41, 86, 49, 68, 22, 33, 45, 62, 19, 48, 96, 94, 98, 32, 55, 4, 5, 46, 99, 68, 7, 92, 95, 84, 53, 91, 96, 20, 93, 82, 58, 50, 49, 21, 77, 77, 71, 40, 13, 14, 19, 94, 25, 74, 72, 67, 22, 49, 42, 50, 75, 56, 92, 100, 70, 76, 69, 44, 51, 68, 50, 38, 31, 18, 99, 57, 24, 12, 38, 94, 18, 30, 57, 28, 80, 21, 39, 96, 3, 5, 65, 54, 51, 71, 71, 27, 63, 45, 26, 100, 19, 89, 78, 14, 63, 29, 10, 10, 28, 73, 71, 29, 22, 53, 59, 40, 91, 92, 58, 7, 34, 51, 62, 45, 36, 46, 51, 44, 70, 97, 15, 75, 66, 3, 76, 19, 27, 27, 81, 23, 78, 77, 65, 28, 98, 51, 28, 19, 85, 27, 37, 73, 43, 14, 86, 97, 53, 96, 15, 85, 59, 74, 28, 34, 8, 18, 93, 95, 61, 68, 69, 55, 20, 70, 20, 33, 30, 10, 68, 77, 15, 16, 49, 50, 90, 63, 42, 96, 90, 37, 71, 11, 67, 9, 52, 7, 90, 41, 73, 50, 38, 21, 42, 80, 54, 57, 70, 11, 14, 78, 100, 29, 31, 64, 73, 96, 14, 27, 25, 12, 2, 23, 57, 16, 2, 31, 24, 45, 46, 7, 79, 43, 6, 40, 40, 31, 35, 21, 71, 66, 14, 6, 2, 80, 93, 42, 79, 43, 62, 63, 1, 1, 75, 35, 78, 88, 78, 40, 99, 73, 6, 33, 93, 24, 42, 92, 100, 26, 17, 25, 26, 30, 68, 19, 72, 12, 61, 70, 31, 54, 14, 46, 69, 2, 20, 89, 85, 86, 6, 39, 48, 43, 17, 74, 96, 8, 68, 71, 94, 16, 63, 15, 8, 47, 80, 78, 53, 5, 74, 22, 73, 42, 50, 35, 30, 32, 38, 98, 5, 91, 95, 63, 6, 79, 3, 24, 93, 33, 66, 57, 75, 37, 59, 89, 33, 24, 57, 28, 84, 48, 69, 57, 65, 35, 49, 35, 89, 6, 34, 18, 3, 59, 76, 45, 31, 47, 37, 62, 66, 35, 90, 12, 62, 61, 28, 2, 71, 56, 68, 39, 29, 14, 12, 73, 92, 52, 40, 27, 40, 42, 65, 55, 7, 83, 49, 9, 60, 57, 16, 84, 76, 32, 43, 49, 58, 91, 65, 10, 47, 15, 23, 90, 78, 44, 96, 81, 90, 31, 25, 38, 13, 65, 38, 79, 63, 80, 22, 31, 13, 72, 37, 17, 85, 59, 70, 98, 18, 76, 13, 33, 55, 60, 53, 37, 81, 21, 78, 9, 95, 64, 72, 62, 16, 18, 22, 2, 7, 69, 53, 20, 87, 26, 89, 11, 43, 7, 62, 60, 48, 47, 55, 67, 40, 72, 27, 89, 4, 10, 7, 98, 58, 65, 12, 4, 54, 99, 96, 22, 64, 98, 75, 78, 44, 5, 26, 48, 33, 19, 1, 95, 57, 82, 69, 14, 22, 4, 45, 1, 92, 55, 68, 69, 67, 25, 9, 82, 31, 85, 50, 86, 34, 73, 17, 47, 20, 65, 37, 32, 49, 5, 41, 44, 67, 11, 91, 80, 18, 55, 94, 62, 62, 72, 70, 14, 28, 64, 89, 44, 88, 93, 44, 87, 99, 64, 13, 38, 75, 7, 68, 92, 50, 11, 83, 72, 36, 19, 59, 99, 9, 2, 93, 90, 3, 100, 56, 42, 61, 17, 72, 6, 28, 8, 20, 41, 64, 72, 35, 98, 31, 63, 55, 55, 8, 100, 56, 58, 22, 20, 66, 69, 17, 26, 4, 93, 1, 13, 90, 67, 91, 88, 98, 55, 84, 13, 80, 78, 51, 50, 81, 59, 81, 94, 79, 48, 41, 97, 91, 50, 81, 67, 77, 82, 95, 45, 4, 1, 47, 49, 7, 32, 4, 24, 43, 61, 74, 3, 41, 42, 77, 11, 75, 65, 82, 65, 90, 24, 50, 11, 29, 84, 47, 5, 95, 52, 66, 18, 5, 51, 65, 54, 97, 58, 13, 23, 83, 9, 42, 62, 42, 23, 79, 75, 23, 46, 3, 20, 53, 64, 73, 8, 90, 23, 69, 88, 90, 11, 71, 22, 27, 21, 16, 10, 21, 9, 76, 38, 4, 53, 3, 70, 63, 32, 29, 67, 79, 6, 99, 13, 98, 92, 50, 52, 57, 74, 16, 41, 7, 50, 36, 17, 93, 99, 62, 58, 85, 16, 35, 89, 6, 77, 42, 89, 94, 99, 59, 72, 8, 34, 99, 53, 31, 71, 31, 4, 77, 28, 37, 33, 11, 25, 18, 78, 14, 16, 84, 57, 52, 27, 100, 2, 93, 92, 85, 59, 72, 14, 1, 22, 79, 73, 61, 54, 25, 44, 86, 73, 11, 62, 85, 83, 8, 18, 92, 34, 91, 36, 19, 46, 71, 37, 9, 88, 74, 76, 98, 45, 69, 88, 27, 88, 42, 68, 72, 28, 81, 73, 13, 61, 21, 20, 11, 9, 57, 7, 18, 38, 63, 67, 81, 58, 45, 66, 35, 25, 17, 56, 50, 86, 69, 40, 94, 59, 81, 50, 79, 39, 48, 68, 73, 77, 11, 90, 30, 79, 97, 40, 35, 66, 41, 66, 58, 1, 6, 14, 51, 40, 2, 61, 100, 68, 39, 29, 33, 98, 1, 97, 88, 83, 34, 62, 58, 51, 17, 24, 83, 85, 100, 78, 2, 66, 99, 84, 77, 50, 43, 82, 75, 25, 69, 71, 90, 62, 65, 2, 12, 31, 93, 45, 40, 45, 32, 80, 73, 34, 73, 83, 85, 45, 61, 95, 96, 76, 55, 95, 15, 33, 20, 12, 17, 34, 11, 84, 75, 7, 16, 98, 31, 93, 30, 49, 78, 44, 94, 54, 13, 26, 74, 97, 16, 45, 39, 16, 57, 8, 65, 74, 29, 58, 98, 59, 46, 41, 50, 44, 59, 2, 2, 90, 32, 46, 21, 99, 16, 37, 9, 57, 36, 9, 1, 68, 38, 89, 34, 43, 13, 48, 73, 8, 28, 87, 28, 15, 66, 80, 43, 1, 13, 68, 52, 3, 95, 23, 20, 15, 18, 39, 76, 96, 99, 67, 20, 49, 1, 63, 16, 41, 70, 88, 66, 3, 79, 33, 7, 49, 38, 78, 67, 77, 99, 11, 58, 20, 77, 52, 52, 81, 38, 86, 75, 86, 26, 42, 83, 19, 65, 22, 33, 67, 12, 87, 28, 40, 52, 56, 8, 99, 38, 31, 95, 40, 3, 36, 76, 69, 48, 40, 95, 80, 70, 7, 21, 27, 64, 47, 27, 63, 92, 67, 32, 8, 18, 59, 3, 52, 57, 96, 76, 56, 6, 21, 2, 54, 16, 59, 70, 94, 13, 28, 32, 50, 17, 73, 32, 77, 58, 56, 87, 31, 77, 96, 28, 49, 69, 74, 46, 37, 96, 67, 55, 58, 52, 51, 17, 37, 99, 47, 18, 92, 88, 23, 32, 28, 82, 80, 69, 4, 89, 56, 72, 14, 86, 17, 60, 14, 27, 82, 54, 48, 1, 42, 55, 73, 51, 73, 76, 33, 40, 5, 43, 19, 18, 88, 97, 12, 100, 70, 97, 47, 42, 38, 9, 85, 47, 71, 50, 91, 29, 90, 88, 89, 9, 94, 33, 16, 69, 60, 2, 22, 61, 46, 14, 30, 94, 91, 51, 47, 75, 82, 70, 39, 9, 24, 45, 85, 12, 7, 94, 3, 45, 76, 97, 66, 51, 71, 21, 61, 94, 60, 41, 83, 23, 76, 55, 1, 93, 57, 96, 84, 74, 76, 19, 29, 13, 61, 92, 43, 71, 95, 38, 11, 71, 98, 56, 61, 65, 70, 26, 93, 87, 27, 72, 73, 47, 71, 3, 28, 23, 82, 63, 74, 52, 30, 76, 100, 4, 15, 15, 72, 24, 9, 43, 69, 8, 52, 18, 36, 70, 3, 31, 84, 83, 91, 48, 65, 100, 45, 61, 53, 3, 94, 18, 2, 10, 64, 76, 71, 66, 64, 16, 62, 36, 82, 86, 50, 5, 85, 12, 18, 57, 81, 77, 72, 88, 63, 57, 99, 42, 10, 83, 63, 32, 11, 95, 80, 76, 26, 85, 84, 30, 23, 43, 93, 96, 1, 88, 19, 66, 37, 53, 68, 46, 27, 11, 28, 83, 90, 27, 40, 45, 8, 44, 47, 2, 59, 52, 42, 32, 40, 28, 29, 36, 83, 14, 14, 85, 44, 28, 25, 15, 85, 10, 86, 74, 61, 32, 36, 20, 72, 72, 18, 24, 31, 13, 14, 17, 54, 81, 21, 67, 52, 68, 6, 18, 40, 52, 19, 95, 62, 8, 41, 5, 69, 98, 89, 91, 97, 95, 18, 77, 23, 55, 23, 42, 93, 63, 78, 99, 13, 60, 32, 91, 13, 31, 53, 79, 7, 7, 44, 71, 53, 60, 68, 68, 14, 37, 86, 97, 71, 34, 94, 89, 8, 41, 51, 21, 34, 23, 96, 70, 82, 9, 27, 42, 72, 65, 76, 60, 55, 85, 75, 37, 53, 78, 22, 7, 60, 79, 30, 56, 89, 17, 29, 8, 58, 32, 71, 68, 91, 86, 29, 19, 87, 89, 25, 71, 69, 22, 55, 29, 83, 29, 40, 14, 67, 7, 51, 94, 66, 23, 98, 1, 71, 58, 1, 61, 27, 44, 72, 61, 54, 82, 50, 69, 68, 39, 20, 97, 47, 22, 93, 59, 26, 50, 4, 12, 89, 65, 86, 56, 17, 50, 23, 83, 80, 72, 21, 38, 16, 91, 82, 74, 42, 49, 86, 16, 88, 36, 24, 37, 72, 93, 66, 12, 11, 8, 59, 71, 97, 74, 61, 3, 31, 93, 1, 99, 52, 3, 43, 85, 59, 70, 11, 53, 4, 81, 81, 41, 33, 99, 4, 6, 51, 58, 94, 81, 15, 22, 28, 74, 10, 47, 58, 89, 48, 17, 90, 47, 98, 52, 56, 44, 18, 57, 8, 16, 26, 73, 88, 39, 73, 76, 15, 68, 56, 16, 86, 40, 62, 99, 19, 94, 43, 89, 29, 94, 42, 83, 58, 6, 33, 16, 49, 42, 21, 93, 76, 23, 79, 15, 52, 89, 92, 25, 9, 55, 75, 87, 95, 42, 35, 32, 22, 89, 12, 66, 99, 58, 65, 39, 84, 90, 72, 81, 93, 32, 68, 48, 36, 98, 6, 23, 30, 71, 69, 34, 67, 85, 11, 82, 93, 14, 89, 56, 78, 61, 39, 30, 64, 42, 51, 81, 32, 57, 37, 39, 92, 51, 84, 8, 38, 36, 72, 37, 32, 87, 51, 53, 26, 24, 46, 65, 98, 97, 27, 50, 42, 14, 32, 45, 12, 18, 23, 72, 45, 38, 59, 43, 13, 82, 76, 10, 19, 86, 40, 50, 96, 70, 59, 63, 89, 48, 99, 17, 58, 57, 45, 73, 73, 23, 67, 18, 85, 71, 25, 93, 3, 79, 6, 53, 15, 15, 90, 89, 20, 1, 31, 33, 4, 92, 16, 19, 70, 64, 12, 17, 17, 89, 32, 97, 8, 97, 21, 42, 96, 87, 98, 9, 73, 17, 56, 99, 69, 34, 79, 6, 32, 47, 6, 27, 63, 98, 43, 51, 85, 39, 86, 92, 74, 69, 66, 92, 62, 92, 85, 86, 52, 93, 37, 8, 64, 56, 35, 69, 15, 27, 30, 68, 59, 82, 70, 23, 46, 9, 3, 29, 90, 32, 86, 89, 26, 100, 26, 87, 26, 69, 45, 36, 52, 92, 39, 32, 16, 81, 86, 87, 72, 87, 8, 44, 84, 85, 40, 48, 5, 36, 15, 80, 89, 48, 69, 89, 56, 76, 66, 93, 29, 82, 71, 81, 54, 54, 75, 38, 67, 58, 58, 62, 22, 91, 56, 69, 42, 35, 28, 57, 40, 41, 98, 4, 53, 30, 41, 78, 2, 55, 39, 34, 42, 27, 40, 11, 58, 83, 21, 36, 48, 92, 24, 19, 98, 18, 1, 13, 15, 40, 25, 70, 28, 16, 10, 31, 39, 22, 30, 86, 26, 60, 30, 62, 93, 98, 64, 24, 96, 98, 60, 15, 61, 91, 83, 85, 63, 24, 42, 73, 23, 5, 13, 39, 93, 23, 76, 4, 28, 84, 4, 16, 84, 58, 41, 60, 40, 46, 74, 68, 56, 63, 57, 79, 60, 91, 30, 30, 28, 13, 88, 67, 78, 69, 60, 7, 29, 17, 71, 68, 35, 18, 55, 100, 82, 99, 66, 40, 6, 56, 36, 55, 27, 62, 9, 29, 66, 92, 58, 80, 13, 100, 4, 18, 75, 19, 94, 46, 46, 34, 53, 78, 32, 6, 37, 49, 40, 47, 83, 1, 23, 99, 83, 87, 91, 84, 32, 75, 39, 97, 47, 71, 68, 78, 18, 75, 68, 88, 55, 75, 61, 47, 95, 61, 6, 6, 95, 2, 21, 39, 94, 53, 40, 22, 99, 21, 71, 64, 7, 37, 78, 25, 53, 21, 97, 48, 71, 59, 40, 25, 50, 58, 18, 77, 13, 19, 52, 94, 59, 89, 46, 14, 83, 53, 32, 53, 11, 100, 92, 34, 57, 60, 10, 67, 82, 99, 54, 18, 15, 87, 6, 69, 8, 62, 25, 10, 60, 35, 36, 49, 17, 36, 16, 28, 28, 56, 15, 43, 18, 11, 73, 86, 47, 16, 71, 94, 45, 5, 84, 15, 1, 17, 73, 36, 27, 77, 2, 65, 57, 95, 29, 47, 76, 84, 47, 90, 6, 78, 62, 89, 24, 42, 69, 53, 40, 10, 94, 21, 23, 87, 49, 19, 60, 94, 74, 56, 1, 23, 58, 66, 5, 54, 4, 2, 74, 53, 26, 65, 33, 11, 21, 48, 99, 75, 53, 32, 29, 9, 1, 51, 71, 19, 1, 67, 93, 71, 35, 14, 40, 88, 37, 53, 8, 44, 15, 12, 11, 46, 99, 52, 5, 83, 94, 91, 32, 45, 87, 50, 78, 39, 24, 83, 51, 37, 60, 91, 86, 69, 21, 26, 35, 77, 71, 85, 10, 99, 70, 24, 51, 94, 61, 84, 61, 100, 84, 25, 61, 3, 20, 82, 15, 22, 43, 51, 96, 9, 40, 56, 88, 67, 56, 55, 28, 49, 18, 57, 38, 16, 96, 65, 83, 38, 76, 88, 20, 27, 81, 17, 1, 58, 42, 79, 66, 30, 47, 3, 68, 30, 20, 63, 32, 61, 44, 73, 98, 13, 64, 54, 74, 51, 51, 61, 54, 20, 77, 94, 68, 91, 47, 71, 49, 1, 64, 84, 50, 15, 100, 32, 85, 55, 99, 24, 34, 10, 64, 89, 58, 39, 30, 60, 46, 37, 2, 11, 78, 52, 15, 80, 4, 62, 12, 50, 84, 38, 63, 86, 78, 72, 64, 29, 13, 20, 12, 67, 79, 73, 30, 48, 49, 36, 23, 53, 65, 74, 82, 62, 33, 28, 68, 89, 41, 57, 83, 85, 65, 17, 69, 77, 29, 37, 33, 88, 93, 3, 39, 15, 65, 55, 46, 92, 68, 55, 48, 91, 88, 45, 94, 75, 13, 54, 70, 77, 20, 83, 48, 44, 39, 17, 23, 42, 65, 24, 30, 35, 71, 55, 52, 58, 9, 4, 9, 74, 74, 9, 59, 71, 74, 46, 74, 13, 60, 84, 84, 67, 35, 45, 100, 11, 65, 15, 36, 25, 47, 16, 47, 97, 70, 66, 47, 66, 19, 9, 68, 27, 75, 24, 86, 44, 61, 8, 74, 48, 36, 86, 23, 48, 42, 73, 60, 58, 85, 39, 96, 7, 74, 68, 19, 41, 100, 47, 26, 32, 38, 57, 33, 9, 52, 73, 78, 56, 36, 31, 78, 23, 24, 94, 74, 55, 8, 22, 25, 70, 68, 79, 84, 91, 37, 51, 89, 68, 38, 13, 59, 28, 1, 59, 52, 30, 77, 42, 6, 24, 79, 36, 86, 6, 48, 43, 79, 90, 77, 26, 98, 59, 90, 58, 93, 32, 55, 6, 16, 85, 83, 87, 18, 71, 40, 93, 98, 26, 12, 75, 99, 48, 31, 24, 74, 42, 28, 1, 76, 57, 36, 57, 13, 26, 100, 48, 31, 80, 56, 75, 55, 3, 54, 21, 19, 51, 5, 76, 95, 72, 53, 18, 70, 53, 61, 1, 28, 71, 92, 12, 75, 42, 16, 20, 31, 87, 69, 49, 7, 64, 88, 61, 64, 34, 70, 55, 13, 43, 62, 44, 26, 58, 36, 2, 78, 90, 75, 1, 31, 6, 98, 29, 20, 8, 49, 93, 24, 62, 37, 64, 77, 91, 31, 2, 80, 95, 62, 28, 58, 60, 25, 53, 19, 58, 30, 96, 1, 51, 95, 48, 51, 73, 43, 66, 20, 18, 19, 29, 8, 41, 9, 76, 100, 20, 47, 59, 64, 72, 89, 82, 29, 25, 58, 53, 25, 85, 53, 92, 15, 13, 47, 51, 87, 5, 87, 50, 82, 60, 11, 30, 22, 53, 15, 57, 12, 40, 75, 27, 63, 29, 24, 42, 78, 90, 92, 45, 100, 1, 20, 98, 35, 93, 89, 40, 4, 44, 80, 15, 68, 51, 44, 62, 29, 65, 4, 79, 50, 36, 52, 25, 3, 90, 8, 74, 1, 87, 86, 23, 81, 55, 52, 39, 29, 98, 75, 48, 17, 67, 32, 71, 67, 39, 51, 55, 62, 6, 60, 16, 73, 52, 100, 10, 65, 14, 72, 56, 21, 75, 58, 55, 54, 11, 58, 92, 45, 75, 57, 42, 92, 92, 73, 9, 29, 31, 93, 20, 40, 36, 79, 78, 63, 65, 55, 54, 71, 1, 33, 28, 10, 9, 60, 72, 13, 71, 73, 53, 67, 21, 15, 48, 34, 3, 43, 15, 13, 3, 44, 6, 64, 20, 47, 88, 51, 66, 81, 24, 70, 75, 21, 50, 10, 75, 39, 57, 61, 39, 75, 66, 47, 22, 10, 48, 40, 31, 98, 26, 59, 30, 69, 78, 68, 89, 59, 59, 7, 91, 86, 16, 75, 93, 85, 28, 76, 15, 17, 50, 86, 58, 88, 89, 53, 77, 81, 34, 24, 91, 99, 96, 17, 18, 66, 85, 33, 34, 16, 53, 95, 44, 97, 68, 83, 47, 51, 64, 45, 35, 42, 9, 8, 7, 14, 27, 12, 56, 19, 100, 29, 93, 1, 55, 12, 17, 85, 29, 91, 70, 92, 56, 27, 49, 47, 5, 42, 71, 26, 96, 68, 77, 71, 20, 75, 31, 4, 83, 45, 61, 37, 61, 23, 22, 31, 19, 15, 48, 88, 83, 31, 93, 27, 15, 76, 20, 85, 31, 8, 23, 72, 89, 44, 5, 2, 42, 59, 47, 94, 73, 52, 60, 64, 1, 91, 75, 14, 83, 39, 60, 15, 39, 20, 53, 48, 19, 85, 57, 25, 29, 51, 59, 4, 45, 31, 45, 63, 19, 3, 71, 31, 62, 44, 75, 7, 99, 82, 66, 33, 70, 31, 92, 47, 27, 74, 56, 61, 31, 56, 4, 72, 76, 51, 51, 97, 15, 74, 12, 66, 80, 51, 11, 60, 41, 100, 100, 8, 49, 75, 1, 60, 50, 14, 60, 58, 81, 15, 2, 21, 27, 25, 55, 19, 85, 27, 66, 67, 40, 28, 35, 76, 84, 86, 34, 13, 10, 53, 43, 9, 3, 17, 97, 55, 74, 80, 50, 62, 2, 41, 15, 7, 45, 87, 8, 80, 3, 3, 43, 70, 22, 68, 28, 48, 59, 91, 64, 73, 13, 40, 79, 13, 56, 64, 17, 17, 54, 65, 17, 32, 83, 60, 100, 33, 67, 44, 6, 15, 86, 93, 52, 87, 77, 29, 33, 33, 44, 79, 99, 23, 38, 37, 56, 2, 53, 68, 26, 91, 13, 7, 66, 39, 17, 1, 98, 89, 78, 99, 17, 89, 32, 70, 10, 83, 3, 39, 64, 19, 88, 69, 38, 14, 26, 83, 19, 50, 11, 16, 7, 72, 65, 66, 75, 17, 17, 39, 5, 60, 96, 73, 38, 52, 22, 8, 65, 65, 27, 98, 64, 33, 85, 79, 98, 5, 18, 43, 51, 30, 19, 13, 4, 30, 33, 98, 24, 35, 28, 40, 93, 21, 18, 29, 74, 65, 100, 17, 76, 46, 46, 9, 22, 40, 59, 31, 21, 22, 20, 7, 53, 5, 92, 50, 19, 80, 65, 63, 65, 2, 26, 65, 96, 71, 89, 57, 39, 66, 22, 34, 77, 12, 92, 15, 60, 87, 77, 68, 91, 98, 55, 34, 55, 65, 1, 83, 44, 64, 70, 51, 64, 60, 29, 38, 28, 50, 59, 96, 66, 38, 9, 39, 43, 2, 58, 38, 81, 61, 95, 61, 37, 66, 15, 11, 22, 34, 86, 20, 99, 59, 84, 46, 45, 9, 20, 11, 48, 19, 19, 59, 41, 80, 62, 22, 71, 28, 52, 89, 87, 78, 24, 100, 15, 52, 6, 33, 28, 23, 97, 19, 10, 5, 4, 38, 77, 32, 49, 24, 6, 52, 86, 38, 55, 5, 47, 3, 76, 89, 66, 22, 69, 15, 52, 49, 61, 86, 1, 25, 47, 72, 71, 35, 60, 61, 18, 44, 84, 95, 31, 60, 85, 47, 33, 63, 41, 66, 85, 87, 12, 27, 96, 99, 64, 56, 90, 66, 45, 13, 41, 3, 68, 21, 14, 99, 85, 46, 12, 79, 92, 21, 86, 73, 79, 52, 11, 96, 74, 24, 49, 55, 23, 53, 2, 51, 54, 18, 62, 85, 20, 76, 69, 85, 66, 39, 30, 29, 71, 100, 22, 5, 59, 77, 61, 88, 15, 77, 52, 34, 65, 24, 80, 33, 27, 86, 53, 87, 5, 50, 13, 22, 90, 52, 31, 24, 18, 22, 45, 6, 23, 75, 51, 40, 55, 58, 14, 5, 97, 14, 88, 30, 30, 54, 24, 22, 76, 75, 37, 91, 34, 79, 53, 95, 97, 39, 33, 81, 86, 30, 63, 50, 13, 74, 53, 80, 78, 22, 50, 56, 42, 28, 2, 68, 82, 34, 48, 77, 69, 43, 5, 14, 49, 4, 65, 28, 97, 88, 9, 14, 76, 52, 48, 71, 57, 72, 92, 29, 91, 75, 8, 27, 47, 65, 80, 5, 54, 45, 55, 76, 7, 63, 38, 37, 25, 38, 16, 89, 30, 90, 65, 82, 66, 97, 88, 32, 48, 30, 17, 65, 13, 50, 50, 38, 22, 54, 20, 72, 65, 77, 82, 26, 82, 97, 18, 53, 46, 31, 97, 47, 97, 55, 96, 50, 11, 93, 32, 67, 100, 70, 53, 19, 94, 42, 5, 55, 60, 2, 51, 94, 37, 35, 32, 48, 25, 32, 44, 40, 24, 86, 21, 53, 94, 90, 41, 89, 62, 33, 75, 41, 8, 4, 36, 73, 36, 98, 87, 27, 88, 85, 96, 86, 89, 37, 7, 37, 62, 9, 58, 29, 18, 39, 82, 43, 53, 96, 87, 57, 25, 19, 37, 95, 13, 23, 33, 71, 64, 19, 87, 48, 10, 93, 25, 89, 50, 92, 61, 13, 38, 48, 45, 84, 26, 53, 14, 29, 35, 26, 2, 6, 12, 44, 46, 63, 28, 47, 85, 85, 49, 54, 14, 100, 60, 28, 30, 3, 98, 30, 34, 93, 24, 71, 34, 6, 100, 84, 35, 13, 29, 31, 24, 22, 70, 78, 61, 46, 35, 67, 62, 33, 74, 34, 57, 70, 94, 26, 11, 77, 54, 17, 92, 59, 67, 24, 25, 9, 8, 83, 14, 67, 33, 86, 98, 70, 21, 36, 5, 63, 60, 31, 81, 20, 85, 13, 2, 59, 59, 13, 23, 86, 27, 34, 71, 72, 47, 73, 99, 37, 44, 72, 82, 68, 20, 24, 28, 89, 50, 69, 40, 70, 9, 50, 6, 50, 50, 6, 76, 38, 4, 67, 37, 14, 48, 66, 29, 6, 91, 56, 32, 98, 3, 71, 87, 75, 92, 42, 21, 87, 30, 68, 86, 30, 37, 44, 87, 68, 67, 37, 75, 42, 14, 85, 64, 79, 60, 60, 43, 5, 50, 8, 2, 12, 44, 71, 39, 67, 59, 64, 3, 59, 43, 38, 70, 49, 76, 66, 41, 80, 63, 67, 79, 45, 16, 30, 43, 36, 21, 11, 46, 74, 94, 18, 92, 12, 28, 44, 100, 12, 55, 41, 32, 3, 3, 12, 82, 67, 37, 29, 18, 28, 65, 82, 18, 67, 18, 98, 97, 3, 62, 12, 9, 83, 71, 34, 46, 3, 71, 9, 61, 76, 9, 31, 20, 91, 91, 81, 96, 95, 6, 65, 11, 32, 57, 35, 15, 34, 55, 79, 25, 78, 24, 90, 64, 71, 88, 86, 46, 45, 57, 69, 98, 5, 80, 40, 24, 75, 22, 24, 95, 13, 19, 97, 1, 42, 8, 44, 93, 74, 4, 5, 49, 19, 78, 26, 68, 60, 28, 86, 41, 35, 55, 76, 76, 93, 55, 4, 2, 64, 38, 51, 67, 44, 52, 76, 27, 61, 5, 15, 90, 46, 2, 52, 78, 60, 78, 18, 88, 47, 68, 96, 74, 41, 50, 36, 23, 100, 63, 45, 36, 48, 67, 52, 5, 9, 14, 7, 92, 44, 55, 4, 54, 98, 55, 84, 73, 52, 92, 58, 92, 34, 45, 39, 64, 75, 71, 53, 49, 17, 46, 59, 89, 95, 17, 43, 28, 12, 36, 70, 15, 70, 31, 44, 89, 4, 7, 11, 66, 18, 20, 37, 23, 85, 46, 86, 60, 55, 23, 53, 42, 13, 85, 85, 1, 8, 25, 53, 93, 19, 47, 10, 30, 2, 48, 86, 60, 22, 86, 41, 63, 10, 99, 16, 56, 68, 16, 20, 4, 61, 63, 61, 88, 26, 49, 69, 94, 10, 10, 79, 73, 68, 97, 5, 52, 68, 12, 24, 84, 91, 27, 3, 37, 31, 70, 16, 65, 46, 23, 89, 98, 26, 82, 73, 86, 8, 19, 43, 92, 85, 24, 37, 2, 22, 40, 79, 38, 13, 32, 96, 24, 25, 79, 92, 35, 58, 44, 86, 9, 47, 80, 96, 69, 25, 56, 30, 76, 96, 11, 28, 84, 53, 59, 94, 24, 12, 50, 83, 87, 55, 69, 87, 45, 53, 73, 24, 6, 3, 42, 86, 20, 89, 9, 8, 21, 43, 49, 69, 50, 70, 100, 34, 98, 68, 64, 38, 39, 20, 54, 30, 33, 87, 89, 91, 26, 43, 69, 27, 1, 6, 80, 19, 38, 12, 46, 63, 36, 97, 61, 34, 72, 82, 43, 15, 20, 18, 71, 47, 48, 25, 67, 18, 78, 18, 6, 30, 23, 70, 8, 71, 61, 8, 15, 96, 59, 85, 30, 48, 38, 21, 39, 23, 56, 37, 52, 77, 72, 26, 80, 71, 44, 86, 4, 100, 52, 33, 36, 82, 6, 68, 59, 82, 18, 36, 99, 72, 15, 55, 26, 63, 56, 85, 26, 74, 21, 84, 65, 59, 41, 18, 29, 2, 66, 45, 36, 58, 24, 70, 31, 1, 21, 30, 14, 49, 36, 63, 25, 95, 41, 64, 86, 28, 83, 73, 40, 95, 91, 1, 27, 61, 50, 1, 54, 90, 61, 70, 11, 37, 11, 50, 14, 21, 6, 74, 42, 42, 67, 66, 41, 92, 71, 90, 55, 31, 7, 49, 21, 37, 21, 88, 49, 38, 47, 41, 88, 24, 17, 55, 54, 23, 13, 66, 76, 100, 60, 75, 12, 16, 85, 69, 81, 99, 91, 67, 99, 85, 68, 96, 67, 29, 71, 79, 54, 29, 23, 40, 99, 62, 68, 49, 92, 87, 77, 73, 87, 21, 76, 30, 94, 11, 40, 100, 49, 96, 34, 68, 34, 97, 19, 15, 9, 58, 41, 39, 49, 41, 1, 69, 82, 23, 4, 22, 7, 37, 96, 16, 12, 95, 1, 68, 32, 64, 83, 5, 20, 47, 16, 42, 18, 50, 83, 31, 51, 50, 22, 60, 20, 51, 75, 82, 19, 50, 5, 98, 40, 43, 53, 76, 16, 82, 99, 68, 98, 14, 36, 80, 71, 79, 23, 64, 75, 17, 24, 22, 1, 51, 34, 77, 48, 92, 65, 82, 48, 85, 28, 58, 40, 49, 77, 88, 29, 10, 15, 13, 89, 38, 51, 1, 69, 34, 11, 100, 99, 68, 13, 1, 48, 16, 71, 87, 80, 87, 44, 10, 39, 54, 18, 11, 78, 67, 23, 11, 44, 9, 4, 61, 5, 85, 2, 12, 36, 23, 62, 52, 7, 65, 96, 27, 11, 37, 61, 75, 34, 53, 6, 8, 97, 86, 64, 65, 72, 75, 9, 81, 18, 38, 38, 79, 34, 43, 20, 74, 47, 58, 28, 8, 58, 62, 78, 48, 4, 3, 54, 83, 17, 93, 32, 11, 11, 38, 42, 82, 81, 39, 62, 18, 16, 20, 30, 89, 86, 7, 64, 23, 45, 64, 74, 68, 86, 17, 5, 45, 11, 10, 41, 70, 82, 70, 37, 68, 53, 56, 39, 6, 3, 55, 8, 55, 21, 93, 5, 48, 86, 11, 42, 45, 87, 31, 80, 25, 56, 10, 62, 1, 20, 97, 11, 73, 69, 71, 61, 95, 56, 74, 97, 60, 14, 31, 81, 95, 69, 42, 87, 89, 71, 3, 16, 72, 86, 59, 16, 91, 50, 81, 72, 86, 70, 17, 71, 9, 52, 96, 8, 74, 15, 35, 39, 41, 18, 8, 100, 12, 56, 36, 24, 11, 55, 91, 19, 74, 25, 49, 96, 21, 20, 41, 19, 9, 94, 97, 8, 16, 11, 94, 7, 83, 29, 3, 82, 11, 14, 19, 87, 49, 2, 7, 28, 45, 25, 53, 45, 16, 25, 18, 54, 79, 26, 94, 58, 58, 9, 68, 56, 6, 29, 52, 19, 4, 14, 38, 77, 77, 36, 4, 22, 49, 51, 80, 25, 80, 94, 9, 25, 27, 52, 72, 86, 24, 26, 11, 87, 45, 58, 41, 93, 50, 86, 47, 98, 95, 1, 89, 80, 6, 24, 58, 21, 60, 54, 63, 23, 65, 16, 46, 7, 32, 42, 33, 34, 62, 70, 5, 45, 70, 40, 57, 53, 10, 58, 1, 23, 43, 69, 18, 13, 80, 88, 79, 87, 26, 99, 36, 37, 54, 3, 58, 74, 17, 53, 8, 77, 4, 22, 79, 15, 20, 98, 39, 71, 95, 25, 74, 93, 8, 85, 71, 70, 51, 20, 67, 26, 52, 94, 92, 77, 13, 87, 38, 71, 22, 51, 55, 54, 78, 10, 73, 67, 97, 18, 92, 58, 1, 55, 31, 38, 45, 8, 14, 68, 50, 92, 92, 40, 57, 97, 91, 18, 96, 27, 42, 48, 37, 17, 39, 10, 99, 73, 63, 71, 43, 18, 58, 16, 92, 52, 65, 1, 77, 27, 25, 70, 44, 42, 50, 87, 48, 47, 92, 33, 24, 40, 49, 76, 58, 69, 65, 99, 24, 88, 58, 36, 86, 45, 25, 37, 85, 30, 36, 48, 92, 84, 76, 81, 23, 98, 38, 72, 97, 64, 83, 72, 23, 54, 69, 70, 29, 87, 77, 22, 18, 53, 35, 42, 2, 80, 97, 4, 81, 80, 54, 23, 30, 27, 59, 64, 76, 87, 28, 90, 83, 52, 91, 45, 31, 67, 23, 13, 13, 43, 34, 41, 34, 41, 11, 46, 3, 10, 27, 24, 85, 13, 55, 39, 32, 27, 33, 71, 80, 65, 69, 9, 10, 69, 61, 82, 60, 35, 33, 49, 37, 48, 68, 81, 72, 91, 72, 70, 42, 95, 71, 32, 79, 100, 42, 24, 1, 64, 43, 7, 30, 84, 95, 34, 11, 85, 49, 45, 50, 72, 80, 94, 81, 51, 81, 79, 74, 97, 54, 17, 83, 94, 51, 4, 16, 78, 31, 61, 26, 12, 20, 61, 2, 20, 43, 61, 98, 77, 54, 7, 100, 11, 75, 21, 9, 44, 46, 45, 69, 17, 24, 31, 90, 40, 42, 24, 3, 40, 92, 41, 14, 34, 24, 52, 4, 21, 15, 91, 74, 29, 45, 18, 62, 26, 62, 2, 36, 30, 74, 84, 30, 94, 5, 43, 20, 87, 37, 18, 65, 32, 24, 31, 37, 7, 60, 60, 36, 8, 1, 69, 69, 74, 91, 76, 61, 96, 70, 71, 22, 75, 21, 6, 78, 36, 27, 70, 53, 58, 92, 20, 45, 10, 23, 4, 62, 35, 50, 4, 29, 59, 50, 41, 40, 48, 7, 80, 81, 63, 13, 48, 32, 17, 60, 34, 68, 48, 33, 29, 89, 54, 47, 92, 22, 41, 49, 56, 42, 93, 66, 14, 30, 21, 62, 97, 53, 13, 11, 44, 78, 35, 81, 97, 74, 25, 61, 3, 71, 88, 3, 28, 72, 91, 29, 12, 16, 42, 13, 37, 82, 58, 79, 26, 59, 38, 56, 19, 51, 29, 57, 47, 81, 98, 12, 56, 3, 1, 28, 34, 71, 36, 83, 37, 48, 84, 5, 11, 62, 76, 99, 15, 3, 33, 36, 69, 94, 66, 70, 25, 92, 20, 7, 16, 60, 96, 87, 83, 51, 22, 71, 65, 13, 78, 84, 93, 81, 22, 72, 40, 3, 94, 90, 63, 97, 77, 29, 8, 70, 21, 33, 79, 77, 27, 51, 86, 19, 44, 43, 87, 13, 13, 88, 25, 4, 4, 51, 20, 85, 95, 94, 3, 39, 46, 94, 10, 57, 50, 62, 2, 36, 5, 3, 30, 68, 71, 56, 48, 27, 58, 38, 94, 98, 7, 64, 74, 98, 91, 43, 57, 82, 73, 35, 88, 28, 84, 34, 53, 77, 28, 90, 20, 32, 74, 44, 87, 58, 85, 97, 41, 35, 32, 34, 35, 16, 37, 42, 97, 99, 94, 44, 47, 54, 85, 21, 76, 75, 6, 34, 65, 96, 22, 57, 70, 98, 44, 13, 85, 88, 74, 14, 29, 22, 21, 97, 80, 84, 85, 28, 1, 4, 12, 78, 28, 90, 81, 87, 63, 83, 27, 82, 32, 2, 14, 45, 70, 31, 59, 9, 87, 44, 43, 74, 77, 51, 96, 6, 49, 94, 30, 3, 11, 70, 10, 43, 82, 57, 75, 22, 1, 64, 82, 10, 30, 45, 11, 62, 25, 89, 90, 75, 83, 65, 21, 4, 32, 71, 41, 31, 16, 26, 74, 19, 45, 16, 56, 35, 91, 73, 99, 88, 54, 44, 73, 45, 21, 79, 62, 23, 91, 44, 16, 30, 22, 86, 87, 45, 88, 52, 18, 47, 85, 47, 69, 23, 54, 88, 88, 78, 98, 85, 47, 53, 48, 35, 18, 96, 84, 27, 88, 5, 76, 62, 95, 93, 72, 77, 8, 44, 61, 13, 87, 68, 28, 14, 67, 80, 25, 14, 71, 29, 74, 17, 25, 25, 30, 2, 92, 65, 46, 65, 64, 8, 55, 10, 18, 4, 54, 92, 18, 20, 85, 96, 60, 98, 97, 91, 11, 34, 55, 59, 27, 83, 77, 25, 24, 68, 12, 47, 31, 34, 94, 10, 73, 88, 63, 62, 5, 23, 69, 49, 86, 7, 93, 34, 29, 48, 35, 28, 15, 29, 11, 2, 22, 95, 31, 17, 16, 88, 3, 83, 86, 2, 41, 38, 52, 28, 28, 90, 47, 87, 86, 65, 91, 54, 86, 77, 96, 83, 73, 79, 97, 22, 63, 22, 7, 84, 54, 11, 94, 100, 40, 17, 4, 48, 72, 65, 93, 20, 75, 52, 4, 76, 70, 28, 76, 64, 48, 81, 13, 29, 51, 44, 8, 14, 98, 43, 97, 3, 5, 88, 81, 23, 3, 58, 86, 34, 87, 41, 19, 91, 71, 11, 71, 81, 16, 42, 99, 55, 56, 62, 84, 54, 56, 70, 69, 4, 84, 22, 64, 89, 98, 55, 13, 87, 68, 78, 55, 42, 12, 74, 42, 5, 35, 39, 18, 99, 9, 58, 71, 45, 33, 16, 27, 14, 78, 22, 1, 51, 16, 18, 48, 99, 2, 23, 78, 71, 90, 43, 84, 85, 74, 88, 30, 6, 62, 34, 93, 37, 26, 76, 10, 64, 99, 70, 96, 26, 25, 93, 68, 75, 7, 38, 47, 50, 81, 28, 18, 90, 89, 37, 3, 87, 63, 82, 72, 96, 1, 86, 27, 27, 6, 92, 100, 71, 44, 5, 19, 11, 7, 30, 25, 52, 40, 83, 39, 75, 32, 91, 93, 51, 48, 57, 57, 34, 90, 82, 20, 18, 44, 13, 56, 10, 61, 61, 84, 52, 46, 57, 68, 32, 44, 65, 36, 89, 92, 1, 4, 13, 7, 31, 70, 57, 95, 28, 16, 24, 4, 8, 75, 33, 55, 7, 22, 30, 5, 62, 97, 56, 95, 59, 56, 2, 14, 35, 75, 74, 34, 28, 37, 69, 45, 87, 1, 44, 20, 75, 65, 76, 82, 25, 75, 37, 28, 20, 76, 62, 22, 77, 28, 31, 31, 82, 26, 35, 28, 57, 65, 2, 64, 41, 100, 86, 19, 25, 4, 12, 50, 24, 71, 56, 100, 60, 34, 76, 81, 18, 8, 29, 87, 2, 93, 37, 70, 54, 71, 28, 92, 28, 2, 93, 51, 25, 79, 79, 27, 29, 9, 74, 42, 7, 41, 56, 65, 58, 11, 67, 49, 32, 7, 70, 16, 94, 100, 63, 50, 11, 28, 98, 94, 15, 69, 6, 23, 38, 85, 16, 12, 16, 5, 97, 78, 98, 40, 88, 22, 46, 14, 8, 56, 61, 99, 34, 59, 72, 66, 39, 86, 28, 32, 95, 40, 37, 59, 86, 33, 60, 26, 24, 75, 99, 19, 8, 31, 95, 36, 77, 32, 93, 78, 57, 27, 48, 41, 66, 35, 97, 7, 35, 4, 13, 90, 41, 81, 70, 18, 4, 10, 73, 95, 45, 93, 47, 35, 51, 19, 47, 37, 84, 35, 68, 100, 3, 40, 82, 34, 49, 50, 54, 90, 95, 83, 1, 84, 83, 82, 51, 70, 49, 47, 75, 58, 36, 73, 74, 62, 83, 90, 77, 61, 63, 70, 82, 100, 35, 86, 47, 21, 24, 84, 82, 26, 87, 77, 42, 10, 76, 95, 26, 40, 80, 66, 16, 65, 29, 4, 77, 36, 65, 89, 50, 23, 66, 2, 30, 45, 10, 95, 94, 61, 41, 12, 8, 74, 86, 95, 52, 66, 97, 65, 98, 11, 90, 53, 82, 16, 29, 48, 45, 5, 57, 19, 64, 41, 61, 32, 36, 98, 17, 89, 25, 63, 55, 72, 11, 44, 7, 98, 34, 97, 54, 44, 16, 2, 72, 51, 25, 12, 82, 41, 19, 76, 29, 16, 84, 87, 34, 87, 5, 39, 36, 86, 4, 70, 30, 32, 46, 83, 22, 56, 8, 2, 55, 91, 58, 46, 74, 83, 83, 72, 29, 66, 38, 2, 73, 7, 58, 79, 53, 83, 77, 57, 73, 24, 24, 42, 35, 37, 89, 46, 38, 50, 88, 70, 37, 39, 8, 10, 43, 31, 69, 69, 11, 36, 42, 69, 73, 9, 22, 16, 62, 84, 37, 39, 71, 50, 34, 35, 48, 96, 31, 8, 28, 91, 27, 30, 8, 25, 97, 88, 70, 94, 7, 62, 96, 63, 96, 53, 92, 72, 37, 3, 60, 29, 89, 9, 63, 47, 52, 43, 100, 28, 83, 21, 33, 64, 25, 92, 83, 93, 95, 95, 37, 14, 1, 9, 40, 75, 61, 90, 84, 3, 60, 8, 67, 90, 73, 12, 9, 41, 12, 2, 5, 85, 44, 21, 87, 87, 32, 57, 77, 82, 6, 20, 8, 95, 53, 22, 80, 51, 68, 99, 59, 66, 21, 76, 6, 94, 10, 96, 91, 20, 54, 20, 33, 33, 96, 24, 76, 51, 84, 88, 55, 40, 46, 18, 43, 19, 81, 75, 29, 13, 38, 77, 95, 21, 40, 59, 81, 41, 32, 19, 53, 51, 68, 44, 16, 78, 88, 15, 51, 28, 78, 25, 94, 98, 18, 92, 89, 22, 49, 6, 84, 73, 92, 26, 63, 45, 15, 74, 61, 44, 81, 9, 99, 77, 58, 70, 44, 90, 39, 64, 77, 78, 84, 88, 55, 76, 85, 86, 74, 81, 69, 95, 97, 3, 97, 88, 39, 84, 82, 70, 51, 37, 84, 15, 71, 100, 45, 21, 40, 99, 20, 9, 50, 23, 57, 13, 2, 96, 27, 59, 93, 34, 92, 76, 74, 49, 64, 21, 1, 96, 29, 30, 10, 22, 33, 10, 79, 67, 51, 56, 89, 21, 72, 5, 33, 100, 67, 17, 61, 5, 74, 75, 36, 49, 39, 17, 37, 30, 65, 9, 6, 41, 75, 5, 88, 53, 28, 59, 77, 33, 42, 85, 6, 46, 69, 93, 72, 62, 1, 91, 88, 4, 66, 86, 96, 20, 68, 30, 45, 64, 96, 53, 64, 36, 9, 25, 28, 22, 47, 55, 87, 24, 31, 3, 44, 60, 44, 21, 32, 5, 23, 32, 73, 16, 68, 63, 95, 99, 68, 55, 31, 98, 75, 20, 93, 19, 96, 93, 46, 60, 44, 69, 99, 57, 43, 54, 47, 8, 92, 73, 51, 76, 21, 96, 20, 9, 82, 88, 25, 37, 79, 41, 85, 69, 15, 32, 65, 4, 29, 28, 54, 25, 92, 90, 78, 90, 35, 4, 87, 60, 97, 68, 74, 5, 78, 89, 96, 3, 96, 45, 13, 30, 44, 38, 87, 87, 15, 81, 37, 60, 79, 52, 94, 20, 6, 58, 92, 63, 67, 62, 83, 36, 11, 21, 89, 78, 61, 23, 92, 88, 11, 92, 28, 42, 49, 12, 14, 9, 30, 65, 17, 97, 22, 13, 17, 85, 22, 46, 43, 43, 60, 6, 23, 82, 86, 14, 76, 60, 12, 45, 28, 47, 77, 64, 2, 32, 9, 78, 76, 11, 79, 12, 67, 85, 27, 27, 43, 87, 73, 72, 4, 74, 31, 49, 23, 89, 51, 73, 100, 77, 30, 20, 41, 24, 95, 21, 46, 93, 83, 95, 38, 72, 17, 45, 32, 75, 1, 20, 81, 100, 29, 22, 62, 88, 10, 92, 30, 36, 46, 3, 15, 26, 25, 72, 64, 41, 31, 1, 70, 54, 18, 22, 47, 22, 6, 97, 65, 63, 41, 27, 94, 49, 35, 19, 90, 84, 45, 43, 2, 61, 98, 38, 62, 96, 57, 60, 31, 86, 63, 44, 3, 20, 12, 94, 48, 69, 68, 75, 39, 82, 74, 43, 93, 21, 87, 87, 16, 22, 93, 29, 82, 17, 20, 36, 57, 93, 45, 70, 39, 77, 84, 17, 83, 35, 36, 45, 76, 18, 2, 26, 50, 28, 17, 95, 6, 85, 35, 57, 54, 74, 99, 89, 60, 18, 60, 38, 56, 43, 12, 56, 24, 22, 77, 99, 71, 88, 30, 74, 21, 63, 77, 99, 1, 82, 18, 12, 2, 43, 6, 67, 83, 4, 1, 61, 90, 1, 13, 57, 70, 97, 11, 88, 75, 9, 33, 4, 68, 90, 57, 19, 53, 28, 35, 1, 78, 7, 65, 68, 26, 97, 66, 94, 27, 52, 13, 88, 2, 32, 69, 22, 48, 40, 59, 83, 92, 44, 83, 21, 78, 84, 62, 63, 7, 40, 86, 9, 44, 76, 81, 3, 3, 63, 28, 62, 88, 1, 91, 51, 53, 100, 90, 70, 48, 34, 66, 1, 14, 92, 94, 92, 9, 48, 82, 37, 13, 16, 43, 11, 63, 51, 99, 100, 25, 63, 36, 55, 80, 13, 63, 56, 56, 8, 63, 21, 67, 69, 43, 45, 27, 77, 64, 2, 89, 44, 52, 41, 88, 58, 59, 22, 74, 47, 62, 27, 19, 29, 2, 62, 34, 48, 30, 27, 48, 10, 3, 64, 96, 16, 42, 20, 9, 94, 35, 38, 29, 21, 16, 53, 95, 56, 74, 36, 37, 80, 50, 6, 23, 64, 26, 89, 38, 68, 43, 29, 73, 40, 13, 26, 50, 7, 22, 50, 11, 37, 34, 28, 31, 12, 38, 61, 81, 22, 95, 70, 43, 72, 37, 24, 18, 80, 69, 23, 85, 26, 61, 33, 52, 21, 85, 41, 83, 100, 14, 11, 41, 64, 72, 13, 53, 1, 41, 24, 43, 13, 64, 23, 9, 58, 36, 26, 55, 93, 69, 34, 38, 59, 1, 24, 24, 39, 15, 88, 75, 95, 48, 13, 88, 77, 94, 48, 62, 61, 60, 19, 26, 22, 11, 61, 69, 98, 16, 90, 99, 26, 30, 76, 95, 56, 41, 30, 54, 73, 55, 12, 54, 35, 26, 81, 99, 25, 19, 43, 76, 13, 80, 94, 12, 30, 55, 23, 1, 78, 47, 76, 72, 80, 88, 50, 61, 82, 23, 73, 17, 55, 94, 7, 56, 28, 8, 60, 4, 6, 5, 4, 92, 21, 93, 59, 88, 40, 36, 41, 66, 86, 88, 72, 57, 4, 81, 51, 38, 53, 26, 74, 22, 35, 6, 17, 91, 33, 4, 75, 67, 46, 46, 50, 77, 93, 87, 63, 50, 85, 32, 81, 34, 36, 6, 77, 52, 31, 98, 44, 54, 61, 82, 16, 92, 65, 93, 93, 53, 26, 2, 44, 83, 48, 18, 8, 90, 41, 12, 79, 57, 48, 61, 63, 14, 45, 57, 76, 9, 30, 8, 97, 95, 38, 4, 87, 45, 33, 60, 6, 80, 91, 7, 86, 95, 46, 38, 65, 44, 95, 75, 82, 90, 15, 83, 73, 21, 5, 2, 96, 92, 3, 81, 50, 68, 87, 47, 18, 16, 8, 69, 85, 73, 43, 28, 48, 33, 96, 68, 20, 17, 52, 48, 60, 41, 61, 28, 8, 5, 62, 23, 75, 61, 64, 58, 70, 90, 72, 78, 27, 20, 99, 9, 31, 71, 80, 19, 84, 69, 42, 59, 32, 35, 7, 76, 71, 33, 67, 48, 27, 90, 37, 58, 10, 73, 12, 47, 48, 68, 96, 97, 61, 33, 96, 64, 57, 76, 35, 78, 37, 25, 20, 14, 87, 25, 81, 46, 4, 39, 27, 81, 93, 76, 47, 7, 85, 26, 15, 65, 25, 52, 97, 19, 15, 20, 52, 52, 89, 70, 72, 85, 20, 51, 91, 65, 52, 83, 92, 55, 39, 31, 77, 30, 87, 68, 100, 41, 5, 67, 6, 70, 36, 19, 65, 83, 58, 55, 82, 86, 86, 41, 11, 38, 94, 78, 44, 19, 86, 33, 92, 83, 39, 96, 31, 76, 86, 3, 25, 68, 37, 27, 30, 88, 30, 40, 3, 36, 32, 17, 34, 24, 71, 10, 47, 74, 62, 68, 30, 64, 83, 56, 80, 55, 87, 45, 14, 66, 45, 62, 1, 22, 60, 84, 63, 85, 61, 44, 5, 45, 15, 29, 72, 27, 77, 54, 70, 82, 37, 72, 58, 49, 33, 62, 83, 52, 45, 54, 68, 75, 77, 62, 20, 82, 7, 54, 80, 26, 38, 45, 64, 92, 67, 90, 10, 96, 93, 36, 23, 42, 34, 52, 48, 98, 22, 11, 4, 93, 87, 16, 25, 74, 38, 95, 35, 84, 32, 75, 91, 9, 28, 9, 25, 20, 70, 29, 83, 12, 3, 12, 23, 28, 38, 36, 100, 88, 91, 5, 83, 88, 84, 86, 85, 7, 15, 7, 38, 33, 64, 88, 71, 78, 3, 78, 13, 24, 60, 15, 41, 7, 99, 1, 17, 40, 89, 2, 69, 95, 70, 70, 65, 73, 73, 93, 22, 18, 63, 56, 52, 89, 67, 4, 39, 62, 72, 50, 69, 10, 18, 73, 4, 56, 96, 38, 38, 7, 93, 72, 52, 14, 87, 68, 65, 75, 41, 43, 99, 45, 29, 83, 59, 86, 93, 74, 13, 46, 64, 20, 21, 83, 77, 51, 52, 58, 24, 24, 48, 18, 79, 13, 36, 35, 84, 9, 52, 90, 94, 74, 71, 60, 7, 29, 75, 89, 87, 17, 100, 51, 47, 37, 75, 35, 37, 77, 76, 83, 46, 4, 32, 41, 20, 84, 95, 6, 72, 1, 20, 2, 61, 76, 97, 50, 35, 83, 81, 100, 69, 24, 7, 11, 10, 52, 31, 21, 79, 58, 56, 5, 4, 93, 31, 84, 78, 59, 81, 87, 18, 56, 98, 38, 44, 35, 36, 49, 74, 27, 30, 24, 23, 70, 99, 67, 74, 24, 1, 30, 50, 76, 12, 87, 77, 75, 61, 95, 63, 82, 65, 41, 1, 49, 43, 28, 46, 89, 81, 9, 6, 23, 7, 51, 56, 47, 32, 45, 88, 87, 59, 29, 94, 28, 14, 65, 14, 74, 18, 69, 39, 84, 87, 95, 84, 62, 7, 24, 98, 81, 84, 15, 66, 17, 55, 63, 85, 98, 93, 36, 19, 53, 66, 17, 92, 65, 64, 32, 85, 10, 62, 69, 3, 38, 18, 3, 81, 98, 68, 20, 25, 24, 52, 32, 95, 97, 94, 71, 21, 80, 59, 19, 93, 14, 66, 56, 73, 59, 70, 49, 69, 25, 20, 85, 40, 80, 91, 43, 29, 50, 33, 49, 7, 99, 54, 17, 70, 72, 35, 78, 42, 61, 89, 79, 87, 19, 90, 53, 40, 48, 38, 43, 93, 43, 35, 51, 55, 63, 64, 6, 99, 100, 71, 17, 10, 13, 44, 79, 20, 95, 35, 36, 81, 67, 97, 17, 95, 23, 20, 44, 90, 87, 77, 10, 28, 94, 75, 39, 36, 84, 19, 82, 73, 50, 57, 33, 48, 31, 69, 53, 46, 24, 85, 29, 76, 34, 52, 23, 22, 97, 44, 56, 94, 99, 71, 49, 18, 91, 28, 15, 2, 40, 92, 16, 43, 100, 31, 14, 62, 86, 86, 95, 46, 39, 89, 20, 6, 2, 98, 74, 3, 75, 8, 100, 68, 1, 71, 59, 5, 28, 15, 76, 95, 26, 36, 20, 16, 48, 17, 90, 6, 36, 91, 11, 26, 42, 34, 78, 23, 76, 23, 60, 25, 87, 15, 78, 70, 90, 60, 43, 89, 28, 24, 61, 10, 76, 83, 99, 98, 38, 55, 77, 57, 13, 45, 35, 99, 26, 89, 77, 89, 62, 51, 16, 49, 39, 93, 32, 94, 18, 6, 75, 36, 10, 54, 94, 37, 91, 99, 49, 79, 55, 37, 11, 45, 22, 69, 2, 96, 8, 53, 62, 32, 46, 38, 15, 73, 38, 24, 64, 97, 22, 78, 18, 75, 2, 9, 82, 45, 85, 3, 64, 39, 18, 53, 1, 1, 1, 61, 2, 58, 55, 72, 58, 24, 21, 47, 47, 67, 67, 67, 63, 65, 85, 60, 65, 12, 44, 51, 94, 56, 14, 79, 25, 24, 51, 92, 68, 91, 67, 29, 79, 82, 41, 15, 14, 69, 17, 7, 89, 35, 56, 12, 79, 30, 96, 46, 7, 18, 93, 14, 77, 39, 90, 6, 3, 39, 16, 51, 44, 89, 90, 43, 34, 78, 55, 59, 40, 62, 1, 90, 37, 89, 25, 95, 85, 92, 44, 12, 59, 61, 24, 16, 77, 5, 64, 33, 44, 100, 98, 53, 70, 13, 48, 41, 93, 53, 8, 30, 84, 47, 45, 61, 25, 3, 85, 97, 36, 19, 98, 72, 66, 29, 79, 62, 27, 53, 57, 81, 59, 88, 54, 93, 46, 59, 32, 65, 26, 14, 17, 53, 39, 83, 24, 44, 45, 46, 20, 58, 13, 89, 85, 45, 26, 95, 54, 4, 65, 52, 87, 47, 78, 67, 96, 48, 3, 43, 71, 41, 65, 65, 40, 89, 95, 90, 42, 6, 47, 32, 26, 11, 68, 18, 26, 50, 24, 95, 42, 24, 86, 98, 87, 66, 55, 97, 84, 57, 13, 38, 4, 4, 83, 71, 16, 57, 69, 54, 12, 71, 23, 42, 36, 44, 46, 36, 1, 81, 82, 3, 83, 99, 57, 73, 43, 78, 53, 35, 38, 80, 10, 58, 55, 55, 87, 16, 58, 40, 34, 76, 56, 38, 80, 78, 61, 45, 31, 6, 69, 99, 60, 27, 87, 40, 55, 6, 90, 22, 69, 63, 54, 57, 96, 46, 73, 87, 9, 41, 42, 11, 47, 40, 81, 20, 63, 38, 43, 1, 9, 19, 67, 70, 44, 64, 29, 40, 66, 11, 5, 36, 16, 66, 12, 4, 86, 99, 37, 70, 30, 72, 17, 94, 81, 58, 70, 88, 2, 5, 13, 88, 5, 94, 40, 31, 46, 72, 56, 4, 81, 22, 60, 31, 91, 99, 10, 19, 1, 83, 91, 13, 83, 10, 41, 85, 77, 20, 50, 42, 1, 29, 98, 27, 69, 38, 100, 60, 52, 76, 77, 76, 100, 29, 17, 22, 39, 82, 1, 34, 8, 61, 65, 72, 42, 33, 42, 39, 96, 80, 74, 99, 100, 83, 76, 37, 4, 55, 94, 62, 51, 24, 56, 89, 68, 37, 88, 97, 52, 72, 9, 42, 72, 92, 62, 73, 5, 38, 87, 93, 79, 87, 71, 35, 71, 98, 89, 41, 22, 100, 58, 95, 2, 7, 43, 47, 83, 45, 1, 56, 59, 76, 74, 70, 60, 78, 23, 45, 69, 13, 88, 37, 5, 22, 10, 94, 15, 21, 100, 48, 11, 97, 38, 61, 75, 17, 12, 20, 90, 77, 66, 46, 74, 42, 20, 77, 16, 3, 14, 18, 98, 27, 97, 35, 70, 98, 73, 20, 10, 39, 45, 52, 42, 24, 35, 20, 34, 95, 61, 46, 6, 44, 36, 12, 47, 46, 79, 13, 9, 59, 49, 78, 19, 100, 100, 16, 4, 43, 24, 67, 77, 29, 34, 50, 79, 65, 66, 12, 35, 40, 65, 11, 57, 62, 78, 80, 54, 34, 78, 93, 75, 18, 85, 61, 78, 3, 92, 37, 57, 43, 16, 87, 81, 53, 77, 92, 66, 74, 51, 6, 13, 13, 55, 88, 34, 44, 58, 96, 50, 14, 13, 35, 11, 52, 21, 11, 41, 43, 77, 37, 76, 57, 68, 81, 6, 1, 21, 81, 64, 100, 92, 19, 93, 39, 11, 45, 54, 33, 34, 85, 68, 56, 38, 8, 53, 73, 63, 84, 46, 88, 32, 75, 64, 2, 19, 14, 100, 100, 10, 81, 89, 27, 7, 1, 21, 2, 50, 1, 99, 20, 94, 55, 3, 74, 37, 96, 45, 91, 35, 4, 21, 70, 30, 40, 42, 41, 22, 60, 46, 15, 52, 61, 61, 94, 91, 22, 53, 91, 64, 40, 42, 64, 13, 68, 55, 95, 49, 62, 71, 25, 2, 55, 83, 76, 17, 96, 13, 31, 39, 63, 15, 45, 18, 45, 57, 35, 98, 85, 39, 75, 58, 78, 13, 35, 3, 86, 89, 54, 97, 82, 68, 99, 100, 3, 50, 36, 60, 4, 73, 42, 45, 38, 6, 17, 46, 25, 42, 54, 27, 5, 74, 59, 53, 69, 95, 62, 82, 31, 93, 30, 84, 58, 89, 5, 39, 85, 76, 73, 71, 49, 52, 67, 46, 50, 53, 96, 87, 14, 63, 81, 13, 23, 64, 66, 79, 9, 76, 73, 82, 62, 44, 44, 71, 54, 58, 37, 19, 70, 33, 90, 69, 49, 85, 80, 57, 93, 99, 93, 20, 24, 10, 61, 84, 90, 22, 34, 52, 19, 14, 81, 83, 73, 40, 64, 96, 96, 9, 18, 95, 93, 91, 2, 87, 33, 45, 20, 7, 3, 100, 24, 8, 13, 54, 65, 86, 29, 40, 24, 78, 59, 43, 25, 54, 22, 29, 21, 53, 7, 92, 24, 100, 36, 26, 90, 71, 29, 62, 1, 64, 55, 35, 68, 96, 47, 13, 69, 78, 24, 3, 33, 18, 88, 11, 78, 58, 12, 72, 86, 55, 14, 90, 33, 26, 95, 51, 75, 1, 28, 10, 21, 47, 79, 5, 23, 65, 56, 46, 62, 8, 6, 41, 91, 84, 84, 42, 52, 94, 6, 93, 31, 98, 5, 16, 10, 47, 82, 37, 92, 29, 49, 94, 87, 33, 65, 86, 13, 20, 28, 18, 77, 87, 14, 77, 46, 11, 15, 74, 12, 90, 72, 17, 15, 69, 48, 85, 43, 17, 33, 8, 12, 83, 38, 48, 84, 13, 53, 67, 62, 44, 91, 34, 27, 50, 85, 54, 61, 28, 42, 85, 97, 7, 74, 70, 96, 11, 28, 51, 40, 65, 44, 11, 7, 68, 28, 1, 29, 95, 75, 32, 89, 1, 19, 27, 56, 6, 97, 19, 3, 25, 57, 20, 55, 9, 63, 41, 61, 41, 18, 80, 69, 97, 62, 47, 1, 12, 28, 70, 32, 45, 88, 100, 12, 30, 79, 71, 48, 91, 14, 22, 19, 9, 78, 74, 1, 32, 5, 86, 80, 90, 22, 56, 97, 98, 67, 12, 80, 100, 64, 54, 24, 7, 34, 84, 90, 13, 53, 39, 100, 23, 48, 44, 25, 39, 37, 8, 60, 91, 8, 91, 76, 90, 52, 35, 87, 84, 38, 61, 100, 77, 98, 7, 86, 13, 10, 21, 71, 87, 24, 61, 35, 38, 75, 13, 21, 93, 52, 28, 13, 49, 72, 78, 36, 56, 1, 46, 43, 28, 93, 54, 33, 39, 100, 34, 96, 19, 42, 59, 86, 100, 35, 21, 37, 5, 6, 68, 13, 11, 19, 19, 69, 53, 27, 55, 22, 8, 20, 10, 96, 78, 67, 53, 81, 35, 70, 75, 62, 65, 8, 91, 42, 17, 8, 34, 9, 29, 7, 7, 23, 49, 71, 64, 60, 91, 48, 32, 47, 60, 92, 79, 36, 96, 64, 75, 32, 62, 89, 4, 49, 20, 2, 62, 68, 19, 12, 26, 4, 67, 45, 66, 88, 4, 60, 79, 49, 33, 83, 8, 44, 84, 87, 10, 3, 7, 80, 38, 35, 6, 75, 60, 75, 77, 5, 27, 15, 100, 41, 90, 24, 73, 53, 64, 25, 42, 24, 44, 34, 66, 41, 98, 82, 37, 35, 70, 45, 69, 43, 12, 28, 69, 43, 58, 22, 4, 20, 26, 20, 21, 26, 48, 76, 87, 9, 16, 73, 46, 36, 35, 6, 68, 87, 35, 23, 3, 51, 19, 21, 52, 83, 27, 54, 42, 75, 68, 13, 14, 11, 69, 81, 8, 3, 33, 1, 88, 90, 9, 26, 40, 4, 42, 84, 25, 53, 62, 89, 89, 9, 46, 67, 47, 44, 12, 78, 43, 80, 60, 88, 23, 62, 12, 41, 82, 62, 89, 43, 25, 96, 14, 12, 28, 1, 78, 40, 56, 71, 73, 98, 88, 62, 29, 22, 55, 27, 39, 13, 59, 90, 5, 73, 66, 8, 45, 79, 64, 59, 16, 5, 83, 60, 72, 24, 8, 20, 46, 82, 28, 79, 54, 27, 83, 34, 97, 89, 20, 70, 51, 58, 21, 74, 52, 75, 15, 54, 86, 70, 6, 50, 4, 66, 64, 97, 42, 70, 46, 84, 16, 15, 23, 53, 74, 53, 94, 40, 31, 77, 24, 70, 46, 61, 36, 37, 43, 82, 22, 38, 21, 99, 36, 19, 24, 66, 15, 18, 64, 67, 6, 46, 1, 53, 27, 8, 60, 24, 42, 95, 82, 40, 37, 59, 32, 34, 16, 5, 73, 63, 72, 2, 99, 52, 99, 83, 29, 48, 66, 29, 93, 2, 81, 48, 26, 56, 86, 42, 5, 14, 9, 35, 60, 98, 86, 77, 37, 81, 46, 88, 17, 17, 21, 45, 67, 66, 66, 86, 32, 93, 89, 1, 24, 41, 59, 90, 40, 27, 23, 76, 45, 48, 41, 86, 55, 68, 68, 34, 8, 35, 57, 94, 25, 37, 34, 49, 78, 98, 82, 64, 66, 17, 87, 75, 3, 73, 93, 57, 53, 33, 63, 93, 92, 89, 6, 2, 31, 89, 100, 41, 62, 80, 16, 4, 66, 23, 9, 36, 98, 33, 95, 30, 53, 18, 78, 4, 82, 93, 74, 47, 97, 29, 34, 69, 3, 66, 20, 60, 21, 90, 96, 97, 59, 100, 95, 59, 88, 13, 49, 74, 49, 78, 71, 55, 20, 70, 7, 47, 49, 7, 37, 80, 75, 14, 79, 63, 16, 70, 42, 19, 50, 80, 41, 62, 67, 73, 19, 51, 81, 56, 70, 5, 26, 60, 13, 95, 11, 31, 42, 91, 98, 89, 85, 62, 68, 9, 81, 44, 71, 69, 11, 90, 13, 80, 4, 29, 88, 51, 9, 17, 6, 100, 45, 85, 12, 79, 68, 53, 26, 3, 14, 81, 72, 67, 81, 86, 86, 52, 28, 59, 38, 95, 20, 16, 97, 66, 83, 76, 78, 6, 38, 100, 46, 47, 41, 39, 88, 24, 6, 27, 40, 48, 19, 92, 66, 11, 17, 92, 41, 70, 88, 80, 62, 87, 42, 36, 71, 78, 13, 86, 59, 30, 4, 93, 98, 57, 92, 78, 45, 4, 4, 84, 60, 34, 49, 60, 34, 85, 80, 46, 90, 84, 42, 69, 49, 20, 69, 16, 71, 42, 12, 61, 74, 20, 30, 78, 43, 86, 49, 86, 36, 83, 48, 21, 31, 6, 30, 52, 44, 89, 54, 98, 97, 17, 77, 17, 2, 75, 5, 47, 59, 69, 2, 63, 66, 53, 44, 5, 79, 6, 49, 100, 45, 70, 46, 96, 8, 82, 44, 12, 84, 70, 90, 36, 92, 97, 62, 90, 14, 15, 84, 14, 92, 52, 74, 2, 14, 47, 91, 98, 10, 20, 71, 82, 51, 36, 1, 33, 100, 38, 84, 81, 68, 17, 13, 22, 32, 2, 67, 7, 32, 30, 22, 24, 45, 64, 47, 57, 29, 29, 57, 50, 54, 39, 5, 38, 51, 25, 34, 60, 18, 79, 86, 67, 48, 42, 45, 48, 99, 24, 78, 88, 50, 75, 68, 61, 62, 20, 90, 13, 44, 58, 16, 78, 87, 22, 21, 20, 26, 31, 49, 63, 91, 1, 50, 27, 88, 78, 69, 53, 45, 75, 36, 25, 3, 2, 47, 28, 68, 90, 70, 59, 93, 36, 90, 71, 62, 66, 89, 4, 52, 27, 32, 58, 70, 10, 86, 41, 2, 64, 54, 62, 18, 93, 58, 44, 41, 83, 67, 42, 92, 57, 76, 25, 88, 23, 88, 64, 18, 3, 52, 98, 81, 42, 91, 34, 33, 24, 54, 77, 87, 99, 74, 58, 80, 30, 4, 18, 99, 91, 42, 35, 55, 18, 38, 9, 16, 59, 30, 76, 73, 66, 51, 27, 10, 39, 77, 89, 60, 84, 53, 94, 51, 36, 10, 83, 55, 94, 37, 82, 75, 87, 19, 80, 94, 44, 61, 72, 60, 69, 56, 60, 67, 6, 21, 20, 27, 10, 7, 92, 57, 70, 27, 2, 22, 69, 95, 48, 10, 93, 35, 28, 33, 43, 38, 23, 98, 94, 95, 31, 93, 62, 80, 65, 24, 41, 79, 35, 90, 16, 93, 4, 32, 5, 75, 33, 5, 36, 50, 12, 65, 78, 5, 28, 35, 29, 24, 40, 16, 17, 29, 7, 45, 58, 18, 62, 74, 23, 56, 73, 70, 65, 52, 56, 90, 35, 27, 90, 56, 83, 74, 31, 60, 19, 70, 70, 41, 97, 10, 48, 64, 17, 44, 16, 43, 22, 70, 39, 52, 55, 42, 95, 94, 2, 84, 40, 59, 65, 16, 13, 71, 3, 30, 36, 78, 37, 10, 27, 97, 20, 65, 74, 79, 52, 4, 92, 27, 28, 12, 61, 4, 7, 45, 91, 88, 34, 67, 87, 11, 5, 73, 49, 92, 86, 6, 31, 50, 33, 17, 23, 24, 2, 95, 54, 15, 3, 23, 87, 88, 73, 33, 2, 17, 97, 65, 62, 23, 73, 80, 1, 11, 22, 49, 78, 99, 57, 39, 84, 43, 80, 26, 85, 36, 77, 5, 25, 6, 7, 4, 17, 18, 93, 73, 56, 34, 87, 61, 41, 21, 22, 29, 95, 86, 75, 17, 53, 72, 30, 25, 46, 74, 77, 38, 69, 82, 81, 10, 55, 28, 52, 70, 52, 47, 40, 48, 52, 83, 16, 2, 28, 29, 78, 58, 6, 87, 76, 81, 64, 97, 37, 27, 92, 62, 61, 25, 26, 85, 49, 11, 63, 25, 75, 83, 91, 38, 13, 3, 29, 51, 15, 18, 47, 23, 18, 85, 48, 81, 71, 88, 42, 31, 2, 4, 79, 71, 47, 78, 34, 56, 17, 62, 99, 83, 45, 33, 27, 15, 18, 8, 5, 64, 3, 28, 47, 52, 96, 43, 12, 55, 50, 11, 46, 69, 43, 92, 84, 75, 83, 80, 94, 70, 60, 57, 1, 5, 51, 75, 8, 32, 38, 39, 62, 70, 27, 72, 29, 100, 81, 67, 80, 26, 66, 11, 7, 5, 29, 11, 26, 69, 99, 91, 24, 51, 85, 56, 35, 60, 35, 80, 46, 1, 17, 72, 57, 24, 28, 66, 31, 30, 56, 81, 23, 79, 72, 97, 93, 34, 36, 17, 91, 79, 79, 16, 40, 33, 100, 64, 52, 9, 12, 86, 64, 62, 100, 60, 97, 79, 10, 3, 10, 79, 42, 54, 29, 81, 85, 74, 22, 42, 62, 38, 22, 55, 33, 68, 51, 62, 10, 64, 2, 2, 86, 9, 11, 55, 88, 14, 5, 51, 10, 64, 92, 79, 58, 36, 25, 49, 92, 23, 84, 17, 65, 82, 66, 81, 62, 10, 65, 48, 91, 3, 44, 22, 73, 66, 9, 53, 82, 35, 83, 75, 32, 37, 13, 18, 32, 23, 97, 65, 99, 36, 27, 91, 82, 66, 33, 49, 73, 91, 83, 21, 41, 31, 13, 83, 85, 84, 45, 80, 21, 13, 93, 75, 55, 28, 30, 93, 40, 68, 46, 20, 17, 27, 15, 81, 94, 62, 67, 70, 53, 48, 50, 47, 28, 10, 99, 50, 62, 89, 89, 93, 61, 81, 80, 33, 76, 27, 92, 85, 54, 79, 47, 63, 4, 59, 69, 73, 39, 64, 68, 43, 80, 9, 10, 86, 18, 68, 41, 43, 7, 58, 49, 17, 42, 43, 22, 60, 79, 52, 48, 65, 60, 86, 58, 72, 25, 6, 68, 37, 47, 77, 85, 59, 85, 22, 83, 68, 73, 79, 26, 35, 11, 73, 88, 95, 34, 66, 20, 1, 97, 46, 79, 56, 96, 21, 96, 85, 19, 19, 60, 50, 78, 99, 96, 99, 19, 80, 25, 77, 5, 35, 1, 84, 40, 88, 20, 69, 72, 66, 83, 4, 35, 10, 72, 64, 97, 63, 64, 30, 13, 77, 11, 2, 19, 7, 2, 28, 97, 76, 8, 36, 68, 53, 80, 29, 13, 61, 37, 74, 44, 16, 18, 26, 67, 72, 43, 12, 84, 47, 55, 55, 55, 79, 29, 4, 78, 38, 44, 40, 23, 62, 67, 5, 48, 63, 71, 99, 45, 32, 87, 37, 85, 33, 100, 92, 79, 81, 68, 14, 73, 98, 6, 54, 25, 30, 32, 21, 65, 32, 74, 20, 61, 54, 62, 82, 14, 17, 82, 51, 19, 57, 22, 34, 46, 21, 76, 48, 23, 32, 98, 72, 52, 31, 100, 57, 67, 91, 77, 82, 90, 50, 100, 89, 42, 44, 73, 94, 64, 51, 78, 82, 7, 40, 14, 92, 26, 81, 6, 85, 47, 63, 98, 48, 17, 7, 5, 45, 7, 72, 89, 33, 3, 65, 33, 41, 56, 62, 85, 59, 1, 8, 57, 56, 2, 11, 44, 18, 32, 8, 73, 86, 56, 7, 31, 79, 80, 86, 20, 33, 23, 4, 91, 2, 58, 22, 19, 25, 54, 16, 92, 97, 70, 87, 16, 65, 7, 9, 63, 78, 29, 99, 76, 44, 69, 32, 45, 80, 80, 47, 90, 85, 66, 18, 87, 48, 1, 17, 1, 13, 58, 86, 85, 41, 21, 56, 31, 60, 26, 35, 28, 47, 18, 75, 47, 85, 54, 92, 49, 38, 95, 97, 16, 5, 68, 97, 93, 38, 62, 25, 90, 53, 25, 24, 45, 58, 80, 94, 23, 53, 90, 75, 58, 72, 10, 91, 16, 4, 99, 51, 91, 92, 8, 66, 21, 70, 57, 55, 100, 28, 33, 20, 57, 7, 47, 44, 19, 53, 94, 20, 47, 91, 36, 36, 18, 70, 13, 81, 86, 74, 85, 54, 94, 72, 55, 55, 81, 71, 87, 43, 83, 80, 93, 37, 17, 39, 29, 19, 5, 88, 34, 56, 57, 56, 76, 76, 11, 83, 72, 43, 78, 99, 54, 17, 12, 65, 66, 97, 53, 59, 76, 64, 74, 17, 89, 100, 71, 57, 78, 23, 60, 52, 49, 50, 81, 26, 42, 5, 30, 72, 71, 7, 2, 34, 87, 58, 92, 5, 62, 69, 69, 42, 82, 44, 91, 31, 7, 78, 15, 50, 25, 1, 66, 24, 23, 66, 17, 52, 57, 12, 31, 28, 71, 57, 87, 18, 13, 61, 88, 22, 88, 63, 83, 34, 83, 58, 10, 88, 55, 49, 28, 49, 35, 41, 56, 28, 86, 69, 13, 39, 53, 85, 39, 77, 40, 91, 26, 54, 57, 14, 9, 22, 41, 61, 37, 96, 50, 81, 68, 55, 40, 48, 52, 98, 1, 97, 39, 91, 91, 29, 58, 70, 87, 13, 53, 45, 54, 93, 29, 38, 7, 34, 68, 88, 99, 32, 66, 49, 35, 93, 41, 25, 43, 27, 97, 4, 60, 70, 57, 45, 23, 61, 60, 29, 46, 54, 48, 99, 78, 63, 94, 4, 21, 54, 17, 19, 82, 15, 47, 37, 51, 85, 84, 12, 3, 75, 100, 15, 90, 56, 55, 42, 55, 27, 94, 73, 51, 98, 54, 55, 49, 43, 49, 82, 5, 42, 59, 3, 77, 47, 5, 71, 95, 58, 36, 28, 49, 3, 17, 53, 10, 67, 50, 27, 57, 89, 64, 65, 86, 2, 24, 19, 17, 37, 8, 68, 25, 83, 66, 52, 55, 79, 19, 53, 93, 73, 34, 40, 27, 64, 13, 63, 38, 7, 49, 3, 74, 24, 18, 42, 8, 32, 80, 68, 88, 17, 8, 47, 55, 97, 87, 4, 12, 43, 33, 88, 61, 96, 74, 86, 99, 68, 86, 73, 1, 13, 28, 11, 45, 62, 22, 34, 96, 54, 73, 44, 36, 10, 16, 64, 85, 72, 72, 75, 71, 3, 34, 76, 57, 67, 93, 89, 15, 87, 45, 74, 38, 48, 6, 37, 53, 84, 17, 92, 97, 14, 75, 28, 93, 17, 92, 73, 49, 23, 10, 33, 62, 2, 85, 15, 47, 48, 75, 3, 23, 55, 67, 50, 50, 63, 26, 100, 82, 33, 51, 95, 78, 94, 49, 80, 37, 49, 20, 4, 87, 42, 96, 99, 51, 51, 90, 15, 52, 70, 13, 19, 77, 53, 68, 1, 68, 58, 94, 49, 61, 60, 32, 84, 71, 99, 70, 11, 64, 84, 84, 20, 40, 61, 57, 61, 63, 90, 9, 67, 58, 33, 20, 65, 99, 37, 34, 39, 6, 48, 57, 91, 39, 64, 67, 85, 82, 30, 23, 9, 62, 100, 65, 27, 72, 4, 24, 12, 38, 74, 2, 17, 83, 36, 69, 61, 31, 18, 16, 94, 32, 58, 33, 16, 57, 20, 88, 61, 97, 71, 75, 10, 95, 13, 80, 18, 10, 75, 87, 89, 88, 50, 70, 44, 74, 43, 34, 28, 48, 33, 69, 9, 46, 81, 91, 33, 65, 75, 37, 5, 93, 75, 42, 87, 65, 30, 93, 24, 27, 18, 30, 53, 62, 92, 33, 48, 91, 17, 90, 70, 64, 23, 67, 19, 22, 59, 45, 81, 68, 51, 8, 71, 3, 77, 44, 41, 49, 51, 67, 96, 69, 84, 46, 4, 94, 76, 78, 51, 5, 24, 43, 51, 57, 16, 16, 91, 87, 60, 82, 33, 35, 23, 84, 2, 48, 64, 71, 25, 60, 84, 2, 86, 60, 95, 65, 23, 60, 6, 100, 79, 68, 60, 90, 44, 41, 3, 17, 30, 52, 68, 6, 99, 97, 54, 35, 71, 57, 5, 70, 100, 23, 81, 37, 83, 15, 98, 68, 60, 31, 45, 76, 31, 46, 64, 80, 94, 32, 39, 44, 13, 69, 1, 70, 42, 57, 34, 66, 53, 65, 95, 34, 75, 39, 51, 19, 70, 70, 32, 39, 69, 26, 50, 29, 11, 52, 23, 61, 22, 19, 2, 51, 15, 66, 88, 21, 99, 85, 81, 100, 78, 57, 84, 54, 66, 76, 16, 45, 53, 98, 92, 43, 59, 58, 1, 2, 52, 70, 71, 24, 54, 89, 46, 49, 59, 80, 22, 68, 91, 78, 72, 22, 11, 43, 62, 24, 83, 1, 55, 69, 54, 88, 40, 62, 99, 5, 11, 74, 5, 11, 35, 96, 69, 82, 55, 13, 33, 17, 76, 58, 93, 57, 33, 17, 82, 78, 85, 87, 89, 46, 4, 26, 59, 95, 56, 88, 62, 75, 61, 19, 62, 39, 90, 99, 41, 36, 92, 56, 32, 66, 84, 34, 44, 80, 18, 71, 72, 65, 95, 66, 97, 14, 53, 39, 1, 93, 72, 39, 44, 27, 39, 88, 5, 14, 7, 94, 41, 18, 72, 28, 26, 96, 33, 62, 41, 10, 52, 35, 22, 22, 8, 22, 99, 86, 42, 34, 84, 64, 59, 25, 54, 90, 32, 74, 22, 58, 82, 70, 67, 57, 3, 74, 62, 55, 29, 90, 45, 32, 42, 92, 40, 55, 44, 6, 82, 24, 83, 47, 98, 37, 83, 74, 6, 99, 1, 36, 93, 97, 42, 90, 97, 88, 25, 82, 15, 7, 20, 68, 73, 27, 60, 23, 86, 9, 44, 52, 83, 75, 3, 100, 95, 95, 74, 18, 35, 74, 4, 16, 57, 92, 4, 72, 52, 4, 80, 11, 66, 94, 22, 94, 32, 98, 17, 49, 34, 20, 18, 96, 66, 93, 57, 8, 29, 41, 82, 72, 29, 77, 19, 89, 7, 80, 28, 26, 46, 37, 16, 92, 19, 23, 40, 87, 72, 92, 31, 78, 24, 46, 84, 88, 26, 89, 59, 38, 70, 22, 5, 77, 11, 81, 87, 89, 25, 92, 69, 74, 46, 38, 94, 6, 55, 73, 3, 38, 82, 2, 65, 69, 37, 60, 93, 86, 56, 58, 69, 19, 91, 92, 36, 14, 65, 29, 88, 6, 94, 43, 86, 68, 45, 34, 12, 11, 89, 53, 99, 59, 93, 67, 75, 56, 64, 92, 32, 43, 7, 35, 61, 10, 90, 35, 92, 40, 88, 46, 96, 9, 4, 42, 41, 24, 46, 61, 48, 91, 23, 60, 77, 27, 24, 59, 95, 87, 84, 73, 64, 83, 48, 18, 100, 53, 25, 60, 23, 27, 85, 25, 100, 28, 50, 99, 4, 37, 80, 39, 93, 28, 76, 61, 16, 78, 73, 71, 20, 56, 27, 78, 20, 77, 95, 41, 17, 70, 61, 38, 14, 42, 84, 4, 100, 33, 44, 64, 50, 60, 21, 19, 71, 57, 65, 95, 10, 51, 17, 19, 48, 90, 34, 14, 20, 92, 52, 38, 8, 13, 90, 78, 1, 86, 30, 12, 90, 4, 8, 8, 38, 79, 40, 12, 40, 10, 6, 3, 27, 45, 11, 61, 29, 18, 60, 74, 47, 35, 89, 44, 95, 50, 47, 2, 53, 18, 72, 33, 53, 57, 69, 49, 63, 30, 72, 25, 39, 22, 73, 79, 30, 97, 81, 56, 66, 89, 5, 45, 83, 1, 56, 91, 46, 18, 12, 42, 54, 16, 69, 47, 18, 73, 93, 58, 41, 62, 5, 68, 62, 85, 86, 21, 4, 31, 42, 43, 95, 35, 68, 8, 61, 64, 15, 19, 33, 35, 32, 64, 37, 60, 42, 33, 68, 23, 78, 61, 22, 34, 82, 53, 29, 81, 6, 20, 78, 69, 57, 42, 38, 75, 38, 25, 59, 53, 48, 15, 74, 31, 23, 83, 12, 38, 61, 86, 39, 25, 46, 97, 25, 13, 58, 71, 23, 14, 3, 73, 34, 61, 72, 65, 41, 1, 78, 85, 24, 46, 97, 95, 47, 14, 39, 82, 22, 95, 45, 91, 43, 57, 66, 29, 59, 19, 6, 16, 41, 1, 18, 9, 3, 17, 89, 66, 94, 46, 63, 21, 76, 2, 75, 14, 28, 49, 10, 91, 52, 6, 42, 36, 23, 58, 60, 14, 93, 41, 10, 14, 32, 31, 6, 54, 51, 44, 48, 76, 98, 10, 17, 25, 65, 32, 52, 89, 47, 89, 47, 46, 61, 23, 36, 28, 76, 40, 89, 87, 8, 15, 20, 58, 61, 45, 69, 4, 12, 60, 14, 95, 54, 51, 54, 15, 51, 29, 65, 15, 57, 38, 11, 68, 44, 100, 67, 73, 99, 44, 51, 25, 74, 58, 24, 96, 22, 11, 80, 5, 63, 18, 22, 43, 8, 89, 82, 47, 61, 43, 30, 49, 7, 20, 47, 94, 3, 98, 15, 84, 61, 35, 69, 90, 67, 57, 26, 74, 80, 74, 72, 89, 62, 76, 4, 90, 59, 99, 46, 22, 60, 56, 70, 8, 12, 28, 90, 17, 36, 97, 1, 48, 63, 53, 17, 11, 56, 34, 96, 82, 66, 14, 42, 51, 88, 78, 40, 69, 65, 60, 22, 68, 64, 11, 28, 61, 79, 66, 48, 11, 89, 36, 97, 16, 81, 9, 81, 84, 61, 71, 17, 29, 27, 76, 71, 7, 88, 50, 70, 50, 72, 96, 52, 48, 14, 100, 80, 5, 79, 3, 25, 53, 31, 73, 22, 39, 93, 45, 76, 78, 65, 33, 21, 77, 82, 26, 58, 62, 92, 87, 22, 24, 36, 57, 2, 42, 42, 57, 25, 92, 39, 60, 65, 33, 3, 64, 48, 77, 71, 78, 1, 90, 99, 96, 24, 93, 88, 54, 20, 53, 83, 88, 95, 38, 20, 9, 87, 50, 84, 95, 1, 43, 46, 100, 24, 59, 6, 48, 61, 72, 89, 11, 69, 33, 84, 79, 11, 99, 34, 43, 51, 72, 90, 97, 10, 79, 17, 42, 31, 63, 51, 52, 90, 41, 92, 23, 26, 30, 37, 66, 9, 70, 16, 64, 64, 99, 13, 14, 37, 81, 15, 91, 1, 8, 100, 24, 45, 48, 28, 36, 100, 44, 59, 83, 9, 54, 61, 25, 69, 98, 75, 14, 80, 72, 48, 85, 90, 31, 45, 90, 56, 74, 17, 91, 89, 5, 85, 1, 1, 15, 63, 90, 37, 78, 26, 31, 14, 75, 66, 65, 35, 48, 99, 8, 58, 2, 90, 98, 6, 30, 31, 38, 56, 92, 57, 43, 4, 34, 59, 9, 41, 30, 27, 27, 78, 11, 27, 91, 78, 69, 85, 80, 63, 22, 69, 22, 4, 46, 41, 18, 99, 20, 22, 92, 89, 79, 100, 95, 28, 31, 40, 56, 41, 41, 59, 72, 42, 13, 60, 49, 20, 65, 73, 59, 70, 7, 77, 39, 68, 43, 16, 7, 92, 94, 63, 73, 54, 82, 2, 69, 26, 16, 39, 51, 96, 71, 46, 42, 97, 18, 51, 48, 71, 28, 47, 45, 2, 37, 68, 61, 83, 60, 2, 65, 63, 46, 66, 2, 96, 73, 52, 89, 18, 98, 69, 13, 33, 61, 92, 71, 46, 88, 16, 72, 23, 40, 27, 46, 40, 3, 28, 89, 86, 94, 88, 100, 74, 49, 53, 19, 60, 76, 96, 34, 88, 17, 90, 21, 11, 48, 31, 65, 12, 59, 47, 68, 39, 28, 15, 5, 29, 55, 23, 18, 43, 4, 42, 98, 92, 9, 97, 63, 65, 55, 11, 17, 9, 93, 31, 32, 8, 63, 26, 72, 27, 25, 71, 59, 94, 63, 14, 73, 54, 32, 31, 71, 75, 23, 19, 58, 11, 21, 31, 46, 55, 59, 54, 49, 64, 44, 13, 64, 23, 12, 64, 38, 70, 19, 14, 94, 90, 98, 45, 87, 1, 47, 77, 8, 99, 87, 15, 61, 21, 70, 6, 51, 89, 71, 30, 13, 67, 98, 14, 83, 8, 19, 77, 3, 94, 79, 100, 95, 50, 46, 42, 37, 87, 79, 56, 32, 1, 78, 57, 62, 29, 50, 78, 64, 53, 71, 15, 6, 97, 60, 72, 81, 14, 11, 32, 83, 33, 74, 80, 66, 19, 51, 94, 88, 78, 11, 74, 64, 72, 3, 40, 43, 11, 59, 69, 27, 5, 52, 57, 78, 9, 86, 33, 87, 3, 45, 82, 37, 62, 30, 54, 9, 46, 55, 29, 26, 89, 84, 1, 17, 92, 1, 25, 65, 30, 70, 6, 6, 43, 12, 30, 8, 32, 100, 27, 68, 21, 32, 14, 17, 43, 85, 13, 34, 85, 77, 86, 70, 56, 35, 3, 18, 15, 84, 92, 35, 26, 76, 23, 11, 65, 14, 62, 94, 82, 94, 5, 18, 7, 83, 12, 51, 21, 80, 35, 69, 55, 21, 86, 81, 54, 76, 40, 20, 7, 1, 10, 76, 36, 30, 45, 40, 23, 52, 88, 13, 33, 13, 90, 7, 45, 66, 79, 98, 53, 3, 55, 37, 72, 89, 82, 86, 5, 35, 1, 17, 34, 75, 1, 61, 14, 93, 4, 45, 62, 69, 80, 25, 51, 47, 23, 19, 24, 1, 14, 63, 57, 36, 70, 23, 88, 71, 1, 51, 80, 28, 44, 19, 52, 4, 48, 26, 40, 31, 23, 54, 1, 22, 32, 28, 75, 58, 86, 86, 8, 33, 58, 26, 26, 99, 26, 28, 72, 60, 84, 19, 70, 77, 19, 2, 75, 88, 61, 41, 73, 81, 89, 32, 78, 26, 46, 33, 81, 12, 63, 27, 49, 27, 39, 9, 8, 77, 23, 17, 51, 6, 33, 77, 94, 76, 43, 76, 50, 31, 32, 52, 77, 18, 99, 15, 97, 56, 50, 78, 11, 44, 58, 68, 34, 19, 5, 31, 26, 30, 56, 12, 7, 81, 55, 34, 67, 38, 81, 58, 92, 80, 22, 93, 14, 96, 23, 96, 73, 46, 8, 31, 66, 97, 7, 36, 8, 85, 27, 96, 46, 26, 29, 17, 63, 50, 5, 89, 33, 19, 72, 51, 95, 44, 49, 61, 51, 43, 21, 93, 66, 65, 6, 10, 15, 69, 45, 65, 28, 87, 7, 65, 21, 60, 51, 96, 60, 76, 20, 93, 59, 38, 20, 45, 78, 68, 26, 25, 88, 76, 27, 9, 24, 81, 40, 27, 57, 2, 11, 51, 22, 35, 30, 83, 62, 85, 39, 92, 3, 66, 49, 8, 58, 58, 71, 83, 100, 43, 46, 38, 70, 96, 96, 94, 65, 65, 85, 84, 30, 21, 23, 54, 51, 5, 10, 14, 33, 25, 86, 41, 88, 10, 28, 83, 1, 60, 16, 52, 58, 31, 23, 58, 12, 34, 49, 79, 37, 30, 37, 90, 36, 80, 12, 50, 83, 76, 9, 31, 57, 22, 41, 31, 63, 20, 36, 44, 45, 37, 32, 76, 39, 93, 18, 84, 57, 1, 68, 82, 83, 30, 44, 51, 37, 2, 69, 55, 30, 6, 2, 78, 99, 19, 57, 42, 21, 73, 93, 51, 5, 46, 27, 11, 24, 6, 70, 67, 28, 69, 80, 22, 9, 26, 62, 23, 83, 64, 62, 3, 93, 67, 57, 11, 90, 94, 14, 21, 64, 28, 92, 49, 63, 57, 39, 85, 71, 90, 58, 100, 86, 22, 46, 56, 9, 95, 34, 49, 72, 26, 20, 26, 19, 20, 88, 72, 57, 94, 87, 44, 24, 29, 28, 25, 1, 43, 20, 47, 96, 96, 89, 38, 94, 41, 71, 75, 49, 46, 26, 30, 99, 45, 97, 79, 54, 20, 19, 17, 42, 64, 97, 60, 49, 4, 41, 36, 6, 21, 40, 26, 70, 83, 88, 32, 52, 22, 92, 61, 84, 40, 94, 94, 74, 90, 15, 35, 8, 53, 40, 47, 58, 27, 22, 93, 70, 5, 33, 100, 62, 72, 12, 11, 44, 56, 58, 51, 46, 20, 9, 81, 88, 8, 2, 25, 51, 16, 83, 53, 94, 35, 50, 8, 82, 38, 78, 11, 76, 60, 23, 7, 22, 35, 17, 29, 68, 25, 11, 46, 45, 3, 53, 27, 74, 39, 36, 96, 30, 63, 85, 37, 41, 98, 53, 92, 37, 15, 92, 16, 28, 13, 32, 20, 97, 63, 34, 73, 79, 63, 50, 80, 18, 4, 62, 32, 86, 1, 24, 19, 9, 99, 68, 76, 33, 8, 67, 7, 88, 38, 64, 74, 59, 28, 17, 34, 63, 39, 65, 94, 26, 54, 48, 11, 19, 82, 16, 68, 53, 83, 90, 16, 18, 74, 34, 36, 94, 23, 65, 74, 89, 45, 79, 45, 72, 63, 23, 63, 37, 45, 2, 25, 45, 65, 6, 90, 42, 7, 62, 57, 50, 78, 14, 28, 27, 100, 27, 94, 8, 45, 77, 13, 45, 68, 31, 58, 36, 44, 76, 81, 32, 61, 46, 25, 51, 35, 73, 66, 45, 2, 8, 14, 38, 48, 9, 56, 25, 48, 48, 66, 9, 9, 87, 89, 85, 73, 10, 32, 17, 33, 50, 10, 100, 21, 68, 8, 35, 76, 22, 88, 58, 61, 62, 95, 61, 13, 83, 38, 20, 83, 11, 74, 15, 93, 80, 41, 98, 61, 13, 97, 48, 68, 84, 10, 26, 29, 19, 80, 75, 100, 80, 17, 5, 94, 46, 53, 100, 100, 61, 6, 52, 82, 52, 100, 53, 20, 79, 79, 8, 78, 68, 64, 67, 64, 51, 66, 6, 96, 59, 12, 36, 4, 82, 68, 75, 76, 1, 2, 81, 50, 27, 42, 31, 78, 5, 72, 60, 3, 59, 43, 92, 96, 51, 18, 72, 95, 43, 88, 21, 36, 83, 17, 77, 30, 64, 23, 64, 83, 38, 42, 47, 77, 29, 45, 40, 25, 69, 96, 20, 34, 70, 24, 30, 17, 60, 7, 27, 7, 77, 80, 78, 78, 41, 93, 46, 48, 69, 90, 80, 100, 12, 45, 55, 90, 2, 12, 64, 53, 21, 22, 10, 5, 21, 71, 51, 74, 76, 65, 14, 41, 20, 85, 55, 1, 21, 8, 52, 13, 9, 28, 28, 32, 46, 49, 32, 26, 23, 14, 96, 58, 32, 24, 89, 38, 58, 45, 67, 10, 57, 1, 86, 80, 67, 1, 10, 88, 36, 56, 74, 71, 42, 35, 64, 50, 40, 69, 35, 64, 32, 58, 72, 67, 91, 97, 19, 61, 83, 72, 2, 51, 59, 67, 70, 36, 90, 98, 46, 75, 87, 16, 30, 79, 47, 55, 70, 80, 29, 40, 63, 63, 39, 14, 19, 72, 7, 67, 93, 2, 23, 80, 87, 100, 69, 36, 81, 25, 55, 7, 58, 75, 99, 24, 2, 82, 69, 33, 83, 12, 82, 37, 71, 43, 67, 71, 95, 18, 7, 90, 21, 78, 34, 61, 95, 14, 26, 37, 44, 50, 1, 94, 65, 11, 62, 57, 29, 76, 30, 23, 20, 47, 14, 47, 61, 84, 48, 99, 40, 49, 48, 65, 52, 24, 24, 38, 42, 20, 96, 60, 98, 51, 9, 27, 3, 20, 34, 73, 59, 99, 92, 8, 69, 8, 47, 35, 4, 10, 93, 88, 30, 79, 27, 24, 65, 9, 13, 64, 86, 96, 83, 15, 23, 87, 59, 95, 9, 17, 32, 31, 30, 84, 41, 79, 29, 48, 64, 14, 58, 64, 92, 36, 64, 71, 49, 60, 32, 65, 10, 22, 21, 85, 33, 24, 29, 3, 28, 97, 75, 7, 77, 89, 20, 38, 83, 97, 93, 71, 26, 91, 71, 26, 62, 7, 64, 43, 43, 45, 38, 1, 38, 33, 94, 8, 57, 81, 55, 29, 81, 21, 35, 78, 9, 44, 32, 86, 43, 7, 73, 87, 89, 26, 12, 67, 56, 28, 87, 21, 45, 68, 8, 42, 86, 98, 44, 83, 16, 8, 96, 28, 13, 36, 15, 22, 84, 35, 27, 73, 26, 5, 60, 56, 53, 3, 69, 71, 59, 2, 15, 83, 11, 42, 22, 33, 3, 80, 93, 40, 11, 80, 56, 60, 8, 52, 52, 43, 86, 42, 85, 54, 49, 99, 22, 8, 69, 71, 53, 23, 26, 68, 41, 72, 40, 60, 88, 83, 97, 70, 32, 39, 29, 13, 63, 63, 25, 33, 84, 81, 87, 36, 90, 25, 1, 15, 18, 81, 57, 63, 37, 92, 12, 36, 39, 1, 71, 85, 92, 33, 66, 16, 63, 67, 63, 3, 58, 75, 54, 19, 41, 73, 83, 75, 56, 96, 12, 22, 2, 73, 30, 42, 51, 55, 25, 46, 2, 69, 30, 95, 98, 42, 78, 27, 33, 53, 73, 78, 41, 54, 18, 18, 88, 66, 57, 71, 36, 11, 35, 47, 71, 9, 26, 86, 17, 26, 79, 28, 30, 67, 15, 4, 4, 61, 90, 23, 86, 43, 27, 95, 15, 41, 65, 86, 30, 10, 1, 5, 23, 70, 90, 12, 44, 78, 7, 31, 95, 11, 72, 94, 7, 66, 91, 100, 98, 32, 100, 61, 35, 61, 27, 99, 87, 89, 21, 31, 44, 69, 53, 22, 60, 52, 88, 7, 71, 6, 57, 55, 15, 83, 65, 59, 90, 68, 86, 52, 19, 99, 16, 82, 46, 58, 9, 21, 80, 39, 50, 36, 61, 53, 45, 49, 4, 85, 65, 62, 3, 60, 48, 82, 30, 86, 90, 97, 73, 94, 19, 29, 77, 45, 41, 86, 60, 80, 79, 14, 97, 84, 88, 10, 21, 79, 34, 44, 54, 39, 52, 76, 3, 56, 26, 15, 35, 90, 35, 13, 21, 97, 24, 94, 39, 26, 41, 97, 63, 88, 9, 15, 3, 12, 58, 80, 55, 1, 66, 17, 43, 11, 62, 43, 77, 68, 69, 98, 93, 15, 55, 72, 3, 52, 26, 34, 90, 31, 7, 57, 38, 3, 38, 49, 9, 28, 96, 33, 31, 46, 44, 18, 99, 56, 48, 61, 62, 70, 66, 66, 48, 67, 16, 87, 74, 75, 37, 44, 76, 48, 23, 57, 38, 59, 4, 4, 46, 1, 71, 45, 4, 3, 44, 34, 4, 27, 61, 10, 31, 24, 1, 67, 97, 98, 9, 39, 21, 47, 45, 64, 42, 14, 8, 11, 45, 29, 73, 74, 13, 8, 88, 13, 51, 89, 3, 25, 52, 20, 7, 97, 4, 97, 12, 69, 17, 99, 36, 69, 27, 20, 45, 91, 3, 93, 33, 72, 73, 9, 36, 7, 91, 39, 49, 96, 62, 81, 42, 74, 68, 57, 60, 79, 40, 100, 61, 65, 66, 85, 71, 84, 17, 20, 80, 58, 50, 44, 17, 62, 37, 70, 67, 43, 28, 74, 58, 78, 44, 78, 23, 90, 33, 52, 19, 71, 1, 46, 41, 89, 78, 63, 3, 84, 63, 67, 11, 82, 71, 97, 93, 71, 79, 82, 90, 25, 64, 59, 99, 27, 87, 62, 44, 52, 26, 46, 74, 7, 94, 17, 32, 17, 91, 55, 91, 65, 51, 94, 33, 37, 5, 60, 17, 80, 3, 82, 33, 20, 99, 74, 88, 93, 75, 32, 89, 65, 64, 1, 86, 26, 83, 12, 35, 83, 53, 48, 87, 32, 6, 97, 34, 40, 22, 77, 29, 69, 73, 56, 9, 63, 8, 29, 86, 64, 28, 33, 89, 86, 17, 100, 79, 32, 3, 79, 17, 10, 60, 100, 69, 63, 27, 46, 15, 49, 56, 76, 45, 80, 98, 19, 51, 57, 91, 29, 99, 49, 43, 74, 20, 64, 89, 46, 35, 63, 52, 64, 41, 48, 74, 43, 8, 81, 77, 51, 40, 14, 67, 98, 94, 24, 4, 42, 26, 79, 39, 47, 72, 93, 37, 16, 46, 40, 6, 86, 21, 36, 48, 86, 90, 31, 36, 6, 92, 61, 26, 88, 56, 15, 3, 7, 82, 99, 70, 13, 57, 21, 52, 33, 6, 58, 14, 40, 16, 31, 38, 19, 24, 44, 37, 50, 65, 9, 69, 22, 30, 35, 92, 29, 75, 88, 78, 87, 7, 43, 92, 100, 89, 72, 35, 66, 43, 65, 67, 97, 73, 77, 38, 22, 53, 40, 31, 15, 38, 30, 36, 70, 89, 23, 62, 24, 80, 70, 23, 72, 52, 59, 60, 58, 92, 70, 20, 67, 22, 47, 16, 69, 84, 44, 90, 60, 17, 7, 88, 65, 18, 92, 33, 2, 54, 37, 37, 25, 51, 98, 93, 3, 33, 90, 22, 5, 79, 24, 58, 85, 90, 81, 7, 77, 25, 69, 84, 36, 7, 78, 94, 78, 81, 32, 14, 27, 6, 39, 36, 100, 45, 11, 23, 57, 57, 72, 5, 51, 40, 96, 69, 31, 88, 69, 75, 3, 87, 58, 62, 93, 40, 60, 50, 93, 11, 57, 10, 12, 57, 82, 90, 67, 2, 94, 48, 52, 92, 23, 97, 91, 95, 28, 2, 81, 94, 92, 15, 98, 67, 76, 95, 89, 69, 20, 90, 42, 35, 57, 2, 10, 85, 9, 26, 25, 51, 12, 34, 50, 57, 84, 53, 4, 100, 23, 81, 27, 71, 60, 47, 63, 16, 87, 39, 42, 86, 99, 25, 37, 61, 71, 65, 53, 32, 64, 97, 66, 66, 1, 2, 55, 40, 30, 48, 97, 16, 77, 15, 28, 78, 56, 69, 59, 20, 20, 39, 58, 11, 91, 9, 43, 36, 75, 20, 49, 93, 11, 63, 32, 100, 72, 49, 52, 30, 30, 66, 62, 6, 43, 98, 58, 79, 27, 85, 3, 96, 65, 68, 43, 70, 9, 86, 11, 51, 31, 78, 50, 71, 24, 9, 80, 39, 97, 21, 61, 33, 32, 61, 100, 20, 31, 64, 55, 37, 57, 87, 9, 49, 78, 59, 39, 91, 6, 59, 4, 99, 54, 95, 62, 79, 23, 65, 93, 83, 33, 3, 55, 15, 64, 48, 63, 77, 71, 97, 63, 37, 48, 100, 4, 45, 100, 29, 51, 40, 27, 10, 68, 75, 95, 12, 44, 16, 63, 56, 98, 75, 22, 86, 29, 48, 73, 32, 64, 47, 34, 53, 80, 47, 42, 54, 10, 36, 41, 69, 68, 100, 41, 7, 84, 85, 88, 74, 31, 39, 60, 38, 37, 77, 94, 53, 11, 37, 49, 29, 76, 35, 8, 23, 62, 86, 70, 59, 94, 65, 55, 32, 7, 57, 21, 27, 77, 9, 90, 49, 3, 7, 98, 66, 14, 88, 14, 26, 26, 16, 33, 60, 40, 25, 49, 25, 24, 97, 91, 12, 99, 48, 72, 75, 63, 26, 46, 12, 65, 57, 93, 18, 21, 14, 44, 49, 82, 7, 34, 80, 32, 59, 89, 31, 60, 61, 32, 79, 85, 32, 44, 79, 99, 54, 13, 48, 65, 96, 33, 58, 24, 7, 25, 23, 51, 43, 72, 80, 63, 74, 89, 51, 73, 78, 67, 41, 37, 57, 5, 14, 49, 83, 90, 68, 31, 32, 45, 18, 66, 92, 77, 47, 71, 75, 11, 81, 10, 96, 80, 5, 62, 39, 13, 67, 56, 66, 31, 6, 68, 96, 35, 88, 23, 16, 95, 41, 100, 2, 10, 97, 52, 78, 13, 25, 53, 7, 71, 31, 5, 88, 49, 20, 40, 84, 29, 10, 65, 53, 2, 22, 32, 28, 71, 65, 23, 26, 93, 6, 99, 85, 57, 7, 85, 79, 52, 41, 57, 70, 82, 18, 96, 29, 100, 74, 78, 75, 1, 46, 74, 82, 1, 6, 40, 89, 14, 21, 59, 82, 89, 39, 56, 60, 73, 99, 99, 97, 6, 24, 91, 8, 97, 66, 58, 60, 92, 35, 57, 87, 53, 52, 97, 1, 23, 86, 61, 45, 51, 20, 87, 16, 53, 6, 13, 1, 54, 87, 90, 77, 77, 35, 43, 65, 29, 58, 82, 72, 42, 89, 95, 19, 52, 78, 1, 17, 37, 82, 14, 66, 74, 17, 17, 47, 80, 74, 72, 70, 44, 84, 45, 6, 69, 53, 100, 47, 35, 1, 88, 38, 70, 27, 41, 36, 66, 96, 58, 46, 26, 100, 11, 44, 36, 15, 16, 64, 21, 58, 22, 40, 33, 25, 55, 72, 24, 77, 41, 59, 40, 76, 19, 30, 31, 34, 58, 37, 53, 96, 3, 100, 63, 49, 97, 3, 65, 47, 54, 22, 43, 31, 45, 32, 6, 40, 5, 43, 90, 74, 87, 86, 73, 33, 76, 67, 83, 7, 38, 11, 24, 51, 42, 67, 52, 69, 66, 35, 98, 91, 77, 78, 36, 13, 74, 34, 55, 80, 88, 36, 48, 23, 31, 91, 39, 59, 60, 12, 40, 12, 54, 20, 6, 86, 91, 71, 44, 37, 66, 22, 80, 87, 40, 14, 14, 93, 48, 12, 75, 23, 4, 43, 53, 76, 16, 1, 19, 98, 35, 42, 79, 84, 75, 33, 75, 100, 26, 16, 10, 58, 79, 34, 67, 98, 68, 17, 76, 14, 37, 44, 16, 4, 38, 54, 94, 22, 16, 82, 90, 30, 26, 54, 42, 29, 29, 32, 80, 72, 89, 75, 5, 17, 85, 67, 72, 74, 67, 84, 36, 80, 59, 9, 66, 83, 62, 53, 11, 14, 19, 19, 94, 99, 58, 45, 72, 44, 4, 81, 77, 20, 31, 72, 70, 39, 89, 56, 34, 46, 1, 96, 92, 74, 66, 83, 50, 28, 62, 59, 44, 89, 57, 8, 34, 51, 12, 75, 36, 67, 48, 7, 66, 67, 38, 79, 6, 69, 10, 9, 22, 97, 63, 20, 38, 26, 23, 83, 21, 99, 24, 11, 30, 91, 41, 8, 42, 62, 13, 39, 49, 96, 3, 78, 53, 23, 31, 88, 88, 7, 65, 24, 7, 67, 20, 99, 9, 62, 80, 54, 21, 24, 10, 75, 37, 38, 72, 30, 74, 64, 98, 83, 14, 60, 6, 62, 30, 37, 58, 88, 77, 12, 9, 12, 65, 46, 91, 67, 67, 78, 77, 74, 13, 62, 32, 72, 40, 6, 36, 11, 41, 20, 9, 37, 58, 57, 46, 52, 81, 42, 9, 8, 20, 93, 20, 43, 87, 69, 3, 80, 70, 40, 77, 73, 72, 19, 98, 71, 70, 87, 20, 39, 98, 59, 7, 79, 41, 49, 43, 64, 12, 66, 33, 97, 100, 24, 53, 46, 73, 13, 77, 69, 49, 40, 91, 41, 20, 2, 76, 29, 58, 93, 18, 84, 46, 59, 59, 51, 60, 70, 25, 2, 65, 50, 74, 49, 41, 72, 43, 26, 14, 25, 26, 31, 74, 39, 61, 18, 82, 98, 23, 37, 3, 58, 96, 76, 93, 52, 37, 29, 61, 39, 8, 90, 77, 91, 2, 86, 32, 80, 25, 2, 40, 82, 12, 80, 53, 82, 16, 44, 38, 85, 84, 20, 27, 30, 96, 65, 65, 73, 64, 59, 6, 93, 50, 74, 62, 16, 76, 73, 11, 40, 13, 8, 97, 60, 87, 62, 16, 86, 58, 75, 23, 42, 50, 54, 27, 41, 100, 9, 40, 54, 67, 50, 39, 49, 42, 63, 36, 53, 64, 10, 94, 47, 12, 24, 67, 75, 96, 58, 65, 34, 97, 81, 99, 6, 98, 82, 67, 6, 8, 63, 13, 41, 52, 100, 36, 69, 69, 1, 9, 22, 93, 60, 12, 71, 6, 26, 7, 92, 1, 74, 94, 25, 81, 14, 28, 79, 17, 77, 28, 83, 72, 67, 24, 85, 68, 16, 77, 60, 93, 80, 70, 41, 22, 9, 56, 33, 2, 40, 83, 41, 55, 28, 84, 14, 54, 21, 11, 6, 87, 17, 18, 64, 79, 97, 25, 17, 65, 78, 24, 46, 96, 91, 26, 66, 64, 84, 28, 64, 20, 2, 56, 25, 4, 34, 94, 12, 64, 99, 90, 76, 32, 95, 26, 37, 86, 49, 17, 100, 50, 70, 21, 69, 49, 81, 83, 76, 95, 10, 21, 84, 51, 37, 63, 54, 65, 23, 47, 25, 48, 13, 61, 37, 55, 14, 80, 90, 28, 55, 70, 90, 87, 63, 68, 96, 37, 19, 23, 26, 71, 4, 71, 79, 23, 98, 62, 24, 57, 92, 74, 90, 17, 27, 4, 96, 22, 91, 96, 6, 44, 90, 24, 32, 91, 70, 24, 9, 100, 65, 35, 42, 33, 31, 55, 14, 82, 100, 80, 24, 38, 57, 19, 10, 40, 23, 44, 5, 91, 81, 37, 61, 17, 45, 82, 6, 85, 30, 34, 27, 14, 56, 27, 29, 32, 25, 37, 64, 12, 28, 80, 36, 50, 59, 84, 42, 64, 14, 69, 90, 98, 17, 39, 61, 99, 92, 25, 86, 91, 5, 16, 72, 72, 97, 73, 26, 6, 98, 15, 51, 56, 26, 18, 25, 60, 27, 46, 60, 56, 9, 43, 22, 13, 51, 72, 34, 59, 29, 56, 25, 56, 74, 84, 27, 80, 14, 77, 100, 19, 69, 16, 100, 22, 6, 73, 61, 3, 17, 7, 32, 61, 82, 4, 28, 99, 47, 84, 67, 7, 86, 14, 17, 60, 30, 70, 39, 44, 67, 5, 70, 4, 65, 15, 38, 99, 41, 58, 65, 47, 28, 72, 96, 21, 68, 21, 32, 77, 30, 65, 29, 24, 13, 18, 66, 11, 70, 78, 79, 87, 22, 44, 92, 56, 11, 80, 10, 21, 72, 95, 56, 65, 72, 36, 63, 68, 20, 86, 60, 55, 15, 38, 93, 71, 69, 9, 47, 55, 78, 78, 84, 3, 52, 49, 52, 76, 35, 14, 70, 95, 91, 7, 26, 85, 56, 98, 75, 53, 10, 45, 18, 6, 27, 19, 4, 42, 4, 90, 20, 85, 85, 28, 29, 78, 25, 22, 93, 35, 55, 15, 1, 20, 18, 12, 87, 84, 16, 3, 58, 8, 53, 9, 68, 99, 66, 26, 74, 35, 66, 82, 38, 50, 3, 96, 84, 97, 63, 83, 22, 43, 64, 7, 84, 49, 46, 43, 28, 32, 57, 75, 66, 20, 62, 60, 34, 25, 100, 42, 14, 91, 73, 72, 22, 2, 98, 35, 64, 65, 5, 75, 5, 83, 60, 34, 60, 33, 45, 36, 1, 9, 24, 80, 72, 86, 64, 31, 90, 34, 100, 91, 60, 88, 74, 42, 77, 94, 34, 50, 31, 3, 3, 34, 58, 85, 24, 68, 72, 96, 14, 19, 86, 55, 54, 63, 56, 57, 65, 100, 99, 20, 2, 33, 40, 72, 67, 29, 46, 92, 16, 22, 25, 74, 15, 2, 28, 48, 57, 62, 92, 50, 38, 60, 18, 56, 16, 43, 5, 36, 34, 15, 42, 74, 39, 63, 44, 51, 62, 72, 15, 40, 23, 20, 3, 32, 83, 37, 27, 9, 17, 71, 51, 47, 97, 26, 27, 70, 50, 44, 66, 16, 90, 40, 51, 8, 67, 64, 91, 26, 33, 42, 79, 36, 40, 11, 80, 2, 54, 28, 36, 24, 33, 67, 51, 40, 86, 36, 47, 11, 12, 53, 80, 34, 92, 7, 64, 63, 69, 57, 41, 72, 31, 53, 96, 31, 30, 70, 76, 95, 10, 99, 31, 21, 81, 69, 88, 44, 99, 75, 76, 47, 90, 22, 84, 57, 28, 6, 46, 15, 4, 47, 7, 52, 11, 19, 82, 62, 96, 26, 45, 52, 32, 85, 23, 16, 24, 84, 20, 87, 60, 89, 36, 34, 35, 11, 97, 36, 22, 87, 97, 28, 1, 80, 59, 71, 18, 74, 38, 12, 47, 19, 86, 79, 66, 43, 47, 68, 82, 42, 74, 38, 21, 99, 69, 69, 72, 14, 34, 100, 44, 94, 40, 43, 59, 73, 70, 6, 82, 12, 36, 83, 23, 4, 87, 94, 45, 37, 17, 58, 37, 4, 88, 56, 98, 91, 38, 56, 23, 99, 6, 42, 62, 31, 78, 100, 32, 99, 14, 1, 100, 22, 41, 73, 13, 3, 98, 84, 1, 41, 85, 9, 83, 34, 21, 84, 94, 50, 66, 94, 21, 97, 60, 92, 46, 62, 97, 12, 14, 62, 51, 53, 15, 25, 30, 75, 26, 76, 37, 39, 99, 40, 68, 98, 16, 60, 70, 36, 37, 50, 37, 59, 60, 40, 8, 38, 83, 71, 2, 72, 28, 51, 59, 7, 87, 50, 34, 33, 12, 22, 23, 50, 61, 85, 9, 24, 98, 32, 35, 15, 97, 25, 13, 30, 86, 15, 45, 15, 63, 91, 27, 34, 88, 65, 71, 97, 46, 93, 85, 78, 51, 92, 93, 41, 13, 62, 44, 5, 10, 61, 31, 22, 10, 85, 40, 32, 8, 6, 60, 60, 48, 4, 96, 2, 3, 6, 39, 99, 34, 32, 32, 36, 10, 45, 100, 69, 92, 19, 2, 55, 89, 6, 66, 23, 66, 71, 57, 34, 12, 72, 26, 57, 38, 98, 76, 16, 60, 11, 97, 47, 77, 99, 84, 7, 46, 88, 19, 75, 29, 42, 46, 3, 32, 17, 26, 69, 92, 33, 2, 78, 82, 27, 83, 65, 49, 68, 85, 44, 49, 98, 44, 81, 97, 90, 23, 32, 25, 52, 65, 31, 75, 73, 11, 71, 56, 25, 97, 57, 93, 62, 69, 62, 97, 80, 57, 44, 8, 68, 80, 77, 64, 59, 83, 76, 63, 50, 48, 80, 36, 45, 16, 33, 85, 32, 43, 23, 9, 99, 15, 43, 79, 29, 13, 23, 92, 37, 66, 54, 91, 38, 67, 89, 62, 64, 45, 99, 10, 86, 18, 16, 99, 74, 40, 95, 3, 97, 44, 15, 12, 21, 51, 46, 11, 84, 36, 35, 38, 49, 88, 23, 95, 85, 80, 38, 78, 36, 88, 87, 52, 25, 2, 35, 18, 60, 40, 79, 75, 95, 76, 26, 81, 54, 27, 70, 27, 70, 74, 74, 36, 19, 67, 33, 90, 6, 28, 32, 88, 28, 64, 54, 97, 36, 51, 65, 28, 72, 75, 89, 97, 4, 55, 24, 48, 13, 41, 12, 38, 97, 55, 80, 83, 99, 37, 96, 21, 88, 97, 35, 79, 27, 19, 62, 50, 100, 81, 13, 38, 22, 5, 56, 94, 86, 90, 73, 30, 88, 43, 30, 96, 71, 43, 3, 9, 11, 38, 65, 22, 6, 46, 50, 59, 30, 23, 67, 41, 60, 72, 58, 45, 96, 26, 32, 88, 88, 87, 85, 54, 36, 48, 41, 43, 41, 10, 60, 16, 17, 18, 31, 7, 93, 72, 38, 81, 57, 18, 42, 81, 75, 41, 73, 8, 22, 51, 67, 35, 14, 34, 64, 18, 99, 34, 16, 60, 53, 2, 21, 26, 65, 14, 38, 84, 76, 14, 62, 67, 91, 64, 82, 30, 90, 54, 6, 96, 54, 86, 25, 97, 88, 16, 81, 1, 95, 21, 48, 33, 51, 61, 87, 84, 92, 36, 96, 18, 74, 92, 18, 47, 56, 76, 47, 21, 81, 4, 48, 3, 56, 47, 43, 68, 88, 51, 8, 26, 98, 2, 80, 85, 60, 58, 24, 71, 79, 52, 8, 66, 4, 56, 5, 21, 62, 37, 8, 90, 86, 77, 40, 55, 71, 40, 31, 36, 74, 76, 6, 72, 6, 12, 39, 10, 38, 72, 82, 27, 45, 72, 7, 40, 65, 10, 35, 73, 33, 24, 68, 33, 5, 63, 72, 64, 79, 51, 64, 22, 22, 48, 24, 27, 34, 64, 40, 77, 46, 14, 28, 78, 63, 16, 53, 7, 93, 70, 30, 82, 65, 52, 5, 69, 88, 65, 65, 81, 69, 2, 78, 6, 26, 97, 53, 37, 2, 6, 64, 98, 7, 95, 43, 55, 58, 5, 64, 53, 37, 68, 62, 31, 27, 94, 19, 52, 85, 81, 50, 32, 33, 60, 26, 22, 8, 82, 13, 42, 4, 32, 20, 23, 31, 47, 3, 9, 32, 84, 66, 73, 45, 19, 54, 12, 85, 74, 35, 12, 15, 67, 68, 40, 90, 45, 53, 35, 31, 4, 13, 59, 71, 30, 25, 60, 91, 32, 13, 85, 94, 76, 60, 66, 95, 40, 6, 38, 14, 13, 40, 97, 92, 66, 89, 18, 81, 68, 72, 47, 95, 12, 22, 22, 40, 73, 98, 6, 49, 59, 72, 72, 51, 45, 41, 64, 45, 61, 74, 70, 96, 12, 91, 46, 81, 85, 16, 57, 51, 43, 10, 37, 64, 54, 98, 63, 100, 2, 1, 78, 4, 81, 85, 32, 92, 80, 20, 60, 99, 94, 68, 15, 67, 61, 43, 41, 48, 80, 66, 79, 36, 31, 2, 19, 43, 87, 77, 80, 33, 85, 32, 71, 30, 96, 70, 2, 100, 70, 52, 40, 20, 32, 14, 58, 82, 85, 81, 30, 28, 43, 3, 26, 62, 79, 32, 92, 14, 61, 86, 53, 7, 5, 30, 70, 9, 84, 4, 38, 51, 57, 83, 47, 100, 33, 12, 87, 42, 98, 73, 38, 21, 2, 6, 3, 13, 52, 50, 28, 67, 26, 34, 97, 79, 25, 7, 93, 38, 40, 38, 6, 75, 76, 93, 32, 25, 3, 56, 13, 71, 59, 76, 86, 35, 44, 72, 15, 17, 2, 87, 52, 32, 74, 99, 85, 47, 74, 4, 12, 52, 54, 20, 14, 90, 55, 82, 10, 26, 38, 26, 75, 45, 97, 25, 50, 39, 48, 92, 68, 18, 25, 42, 24, 81, 67, 91, 77, 45, 36, 17, 41, 89, 36, 52, 7, 18, 73, 21, 21, 95, 82, 20, 90, 63, 66, 65, 38, 34, 5, 9, 28, 17, 23, 47, 76, 58, 92, 8, 24, 56, 85, 43, 22, 72, 66, 33, 16, 48, 77, 81, 91, 47, 68, 25, 47, 37, 18, 92, 63, 96, 35, 86, 21, 44, 75, 7, 88, 29, 6, 2, 41, 40, 48, 50, 5, 38, 59, 73, 54, 29, 67, 1, 61, 15, 1, 42, 45, 40, 2, 29, 100, 35, 46, 42, 75, 32, 25, 92, 52, 26, 50, 91, 5, 72, 57, 32, 97, 30, 34, 63, 47, 17, 89, 81, 18, 55, 95, 16, 66, 39, 65, 6, 27, 11, 94, 39, 64, 44, 90, 26, 2, 29, 50, 53, 85, 25, 38, 84, 9, 66, 54, 92, 10, 5, 85, 42, 28, 23, 43, 76, 59, 63, 29, 71, 69, 94, 9, 86, 1, 37, 50, 52, 25, 91, 87, 92, 4, 38, 65, 64, 90, 8, 49, 76, 3, 24, 92, 45, 78, 64, 20, 8, 83, 46, 56, 83, 57, 10, 66, 17, 26, 26, 93, 4, 55, 74, 9, 80, 74, 71, 42, 22, 27, 21, 44, 29, 33, 11, 3, 1, 31, 61, 64, 39, 29, 45, 15, 21, 55, 10, 82, 14, 5, 86, 16, 24, 98, 4, 36, 81, 29, 60, 49, 73, 79, 39, 3, 22, 32, 7, 83, 55, 62, 29, 94, 55, 43, 70, 12, 68, 23, 93, 1, 88, 78, 33, 62, 4, 17, 24, 54, 43, 53, 51, 27, 67, 77, 27, 68, 44, 72, 88, 47, 16, 27, 76, 95, 30, 97, 76, 77, 92, 18, 87, 14, 4, 64, 92, 96, 70, 28, 5, 33, 31, 61, 12, 8, 35, 80, 54, 97, 29, 54, 81, 40, 46, 45, 90, 57, 79, 49, 28, 20, 3, 83, 91, 47, 67, 55, 36, 74, 99, 34, 35, 55, 67, 83, 63, 23, 82, 30, 90, 100, 37, 17, 65, 60, 91, 21, 82, 13, 4, 51, 1, 23, 84, 15, 1, 92, 7, 6, 58, 15, 91, 10, 84, 3, 76, 100, 38, 7, 78, 52, 84, 19, 58, 28, 22, 76, 32, 100, 60, 72, 83, 61, 79, 47, 48, 60, 67, 88, 68, 80, 20, 92, 12, 8, 39, 83, 66, 26, 98, 40, 28, 10, 46, 6, 74, 49, 35, 33, 59, 34, 78, 29, 16, 3, 37, 52, 49, 86, 59, 27, 95, 9, 35, 78, 54, 94, 89, 82, 19, 24, 21, 86, 32, 12, 53, 30, 49, 54, 13, 87, 90, 47, 80, 59, 98, 28, 52, 13, 36, 29, 7, 79, 87, 52, 45, 42, 27, 2, 71, 92, 75, 97, 87, 6, 27, 82, 82, 48, 6, 30, 89, 6, 5, 16, 87, 78, 8, 30, 99, 49, 8, 3, 40, 17, 75, 85, 98, 80, 85, 38, 93, 81, 21, 85, 35, 3, 26, 32, 68, 62, 44, 46, 33, 62, 26, 40, 46, 100, 89, 40, 27, 18, 39, 47, 66, 76, 30, 78, 13, 21, 54, 62, 63, 23, 32, 72, 18, 75, 99, 9, 50, 16, 63, 48, 12, 54, 62, 23, 48, 39, 51, 70, 37, 56, 91, 84, 46, 24, 35, 38, 90, 70, 72, 10, 78, 45, 30, 20, 65, 29, 58, 65, 64, 30, 5, 90, 19, 100, 41, 18, 63, 29, 17, 50, 12, 56, 72, 21, 3, 17, 88, 7, 61, 57, 68, 64, 23, 80, 22, 43, 4, 42, 27, 47, 98, 99, 62, 59, 40, 1, 86, 35, 2, 24, 24, 54, 80, 75, 62, 33, 96, 11, 69, 85, 68, 81, 21, 44, 88, 71, 64, 85, 82, 85, 32, 66, 21, 15, 33, 45, 99, 92, 55, 1, 8, 92, 1, 27, 83, 95, 27, 16, 96, 16, 89, 71, 71, 11, 84, 43, 18, 23, 80, 76, 53, 51, 58, 47, 1, 33, 1, 84, 27, 87, 29, 30, 81, 92, 18, 49, 96, 63, 2, 25, 65, 16, 18, 89, 16, 11, 52, 21, 92, 10, 71, 10, 67, 95, 75, 7, 3, 20, 69, 62, 6, 3, 61, 4, 93, 32, 92, 88, 38, 27, 3, 49, 100, 39, 91, 83, 25, 65, 2, 56, 88, 26, 30, 56, 34, 5, 13, 62, 24, 42, 53, 26, 84, 47, 1, 89, 85, 3, 80, 20, 43, 2, 58, 51, 54, 25, 28, 5, 19, 52, 51, 84, 47, 82, 63, 30, 41, 72, 99, 81, 85, 26, 49, 18, 62, 87, 35, 80, 46, 89, 34, 20, 28, 13, 47, 5, 66, 80, 84, 91, 67, 90, 93, 78, 2, 89, 81, 27, 50, 94, 63, 96, 91, 7, 12, 61, 98, 84, 95, 4, 14, 33, 38, 93, 94, 39, 54, 59, 84, 80, 6, 80, 89, 63, 25, 82, 47, 42, 39, 94, 88, 24, 25, 56, 100, 48, 10, 28, 36, 66, 20, 41, 83, 90, 89, 91, 41, 10, 86, 16, 45, 35, 18, 62, 23, 67, 66, 40, 83, 57, 75, 74, 5, 35, 42, 15, 32, 75, 14, 70, 5, 77, 53, 54, 71, 80, 83, 94, 3, 72, 14, 98, 45, 26, 81, 98, 5, 17, 28, 65, 63, 67, 45, 93, 12, 25, 74, 26, 85, 35, 85, 93, 36, 52, 100, 16, 82, 95, 94, 73, 47, 75, 1, 40, 4, 38, 54, 64, 35, 47, 100, 97, 81, 27, 95, 91, 39, 75, 16, 3, 54, 51, 54, 76, 73, 79, 78, 90, 3, 62, 34, 94, 87, 53, 79, 51, 69, 43, 57, 72, 84, 34, 91, 52, 49, 87, 88, 50, 55, 42, 88, 58, 83, 96, 52, 60, 100, 92, 21, 69, 6, 71, 36, 2, 13, 96, 79, 99, 34, 12, 92, 81, 95, 15, 33, 15, 95, 67, 22, 17, 79, 79, 14, 53, 7, 92, 65, 13, 83, 6, 99, 17, 64, 29, 89, 17, 38, 36, 97, 96, 34, 38, 48, 64, 53, 88, 84, 62, 39, 29, 50, 80, 11, 3, 93, 50, 4, 2, 34, 40, 8, 91, 37, 13, 69, 16, 26, 80, 47, 16, 45, 66, 70, 72, 77, 90, 9, 76, 21, 70, 19, 45, 96, 30, 22, 5, 28, 7, 31, 32, 38, 66, 12, 26, 59, 76, 24, 17, 97, 86, 32, 68, 42, 15, 24, 19, 89, 27, 95, 12, 69, 76, 82, 91, 5, 19, 27, 73, 62, 61, 78, 15, 77, 53, 42, 21, 52, 69, 75, 61, 1, 62, 35, 20, 32, 20, 63, 82, 13, 78, 37, 26, 63, 79, 19, 57, 85, 23, 71, 34, 53, 70, 74, 56, 68, 85, 84, 29, 47, 92, 95, 34, 58, 13, 15, 30, 4, 67, 94, 6, 36, 64, 42, 83, 99, 17, 29, 5, 75, 50, 11, 47, 20, 61, 59, 41, 56, 4, 95, 61, 30, 74, 12, 76, 88, 37, 68, 16, 88, 80, 32, 32, 27, 54, 20, 6, 51, 16, 25, 59, 52, 85, 97, 93, 96, 33, 88, 95, 5, 7, 97, 37, 81, 42, 74, 40, 55, 70, 89, 48, 13, 60, 61, 12, 85, 46, 75, 3, 59, 57, 11, 28, 11, 9, 64, 8, 2, 33, 40, 93, 20, 41, 74, 63, 63, 67, 32, 89, 33, 41, 24, 65, 98, 71, 51, 89, 44, 53, 45, 1, 75, 24, 83, 51, 1, 72, 43, 22, 78, 83, 58, 44, 7, 45, 92, 38, 95, 21, 12, 4, 97, 83, 93, 60, 96, 56, 38, 45, 8, 71, 40, 36, 12, 84, 62, 5, 2, 5, 62, 66, 36, 85, 97, 22, 43, 56, 3, 19, 94, 82, 25, 15, 91, 91, 34, 54, 20, 16, 73, 72, 32, 22, 70, 41, 37, 76, 76, 88, 44, 39, 78, 81, 59, 52, 47, 71, 36, 35, 37, 62, 61, 98, 87, 64, 12, 3, 31, 94, 52, 42, 67, 7, 55, 92, 32, 24, 9, 41, 93, 73, 21, 100, 40, 56, 4, 92, 84, 34, 61, 92, 41, 39, 12, 66, 54, 32, 63, 68, 78, 30, 6, 82, 56, 86, 1, 49, 53, 25, 96, 41, 15, 37, 7, 27, 77, 85, 99, 49, 52, 2, 5, 67, 84, 51, 45, 88, 10, 37, 94, 92, 12, 66, 53, 19, 26, 58, 14, 66, 48, 73, 74, 91, 99, 18, 14, 34, 74, 34, 30, 44, 79, 16, 45, 31, 90, 98, 58, 99, 25, 73, 38, 54, 31, 89, 27, 87, 22, 19, 95, 6, 80, 25, 70, 11, 93, 73, 57, 12, 96, 2, 59, 68, 91, 59, 76, 57, 98, 15, 61, 82, 40, 21, 29, 33, 81, 94, 13, 3, 19, 32, 99, 86, 92, 59, 35, 30, 66, 90, 79, 95, 96, 71, 24, 66, 26, 87, 89, 87, 98, 52, 72, 90, 60, 29, 3, 87, 11, 19, 11, 100, 51, 65, 31, 32, 83, 95, 27, 51, 60, 26, 33, 1, 13, 85, 96, 69, 92, 33, 22, 83, 23, 44, 76, 73, 84, 39, 26, 69, 80, 59, 85, 72, 70, 95, 90, 18, 44, 46, 47, 40, 81, 39, 85, 88, 93, 89, 39, 91, 72, 37, 63, 65, 27, 3, 6, 72, 83, 1, 8, 48, 43, 68, 78, 5, 63, 54, 43, 83, 10, 71, 55, 56, 81, 40, 89, 13, 58, 49, 97, 16, 74, 9, 4, 37, 85, 92, 23, 25, 50, 43, 52, 57, 85, 1, 37, 52, 90, 53, 57, 59, 81, 85, 37, 13, 57, 91, 79, 73, 27, 79, 67, 78, 34, 50, 68, 49, 62, 71, 66, 83, 96, 63, 18, 78, 70, 58, 8, 28, 48, 60, 51, 73, 89, 1, 31, 56, 58, 16, 77, 42, 49, 56, 18, 28, 80, 59, 45, 57, 12, 67, 84, 28, 91, 39, 7, 81, 78, 40, 97, 15, 14, 32, 22, 57, 79, 12, 21, 57, 85, 11, 35, 59, 24, 22, 2, 50, 23, 73, 1, 59, 7, 18, 32, 16, 79, 55, 54, 59, 11, 54, 69, 87, 52, 86, 16, 15, 64, 89, 94, 57, 72, 47, 58, 39, 32, 3, 73, 44, 53, 42, 20, 53, 54, 15, 51, 49, 40, 65, 42, 50, 12, 58, 89, 11, 37, 64, 69, 89, 92, 42, 11, 8, 46, 21, 48, 64, 94, 79, 58, 47, 19, 43, 76, 58, 26, 40, 68, 96, 46, 73, 49, 52, 42, 52, 24, 98, 66, 50, 83, 2, 69, 57, 11, 76, 46, 82, 12, 42, 61, 40, 72, 48, 43, 72, 55, 75, 29, 40, 18, 18, 22, 21, 96, 24, 9, 28, 7, 40, 45, 89, 53, 34, 14, 56, 90, 65, 94, 46, 24, 4, 85, 90, 24, 51, 38, 9, 14, 63, 85, 76, 60, 100, 64, 44, 38, 54, 21, 69, 92, 8, 62, 80, 67, 41, 98, 58, 55, 73, 17, 20, 2, 38, 16, 50, 7, 61, 1, 27, 30, 87, 43, 63, 18, 14, 32, 33, 89, 20, 12, 96, 28, 25, 40, 50, 59, 16, 99, 71, 53, 48, 23, 34, 94, 60, 70, 29, 84, 67, 69, 94, 52, 25, 100, 92, 54, 21, 87, 22, 57, 49, 45, 75, 52, 61, 50, 47, 40, 95, 53, 87, 64, 56, 93, 87, 25, 23, 52, 60, 26, 81, 75, 98, 42, 56, 65, 59, 89, 25, 91, 99, 24, 68, 86, 19, 37, 33, 55, 9, 35, 94, 17, 80, 19, 86, 100, 83, 81, 98, 55, 50, 46, 86, 18, 31, 41, 72, 33, 31, 92, 33, 90, 17, 41, 35, 78, 36, 5, 51, 47, 97, 77, 28, 33, 42, 9, 85, 17, 31, 77, 11, 25, 44, 26, 87, 50, 14, 94, 73, 100, 64, 52, 41, 43, 81, 81, 60, 22, 69, 88, 29, 88, 10, 4, 65, 85, 93, 41, 18, 62, 12, 85, 79, 59, 42, 30, 37, 4, 72, 65, 5, 42, 89, 9, 13, 1, 68, 95, 74, 3, 88, 77, 34, 11, 73, 6, 42, 42, 39, 80, 91, 6, 70, 26, 28, 25, 15, 98, 5, 22, 64, 63, 1, 45, 36, 50, 43, 53, 84, 80, 21, 28, 6, 34, 11, 16, 36, 70, 42, 39, 3, 80, 99, 3, 15, 99, 53, 50, 46, 35, 50, 87, 61, 65, 61, 39, 61, 63, 97, 80, 84, 55, 35, 22, 34, 88, 1, 53, 79, 24, 31, 18, 31, 21, 18, 81, 55, 46, 42, 67, 6, 49, 64, 58, 100, 37, 1, 44, 54, 42, 6, 97, 60, 94, 99, 57, 46, 14, 3, 90, 19, 64, 68, 73, 90, 43, 58, 67, 29, 71, 56, 51, 23, 63, 88, 40, 70, 58, 67, 60, 8, 46, 12, 64, 65, 36, 50, 40, 63, 5, 78, 8, 62, 14, 15, 55, 71, 18, 10, 28, 3, 85, 56, 53, 45, 84, 93, 21, 80, 74, 15, 12, 40, 9, 32, 45, 27, 19, 23, 69, 64, 16, 12, 44, 13, 83, 17, 66, 33, 69, 35, 61, 67, 5, 4, 67, 78, 77, 49, 56, 54, 44, 35, 25, 59, 1, 52, 64, 6, 94, 50, 35, 30, 55, 51, 9, 86, 63, 18, 59, 35, 91, 2, 54, 40, 24, 55, 21, 64, 50, 93, 7, 42, 5, 28, 72, 4, 1, 39, 65, 75, 24, 18, 79, 47, 35, 58, 19, 19, 51, 26, 57, 7, 52, 33, 83, 66, 51, 34, 90, 50, 59, 15, 31, 10, 50, 77, 18, 18, 46, 41, 59, 83, 79, 57, 80, 92, 58, 2, 96, 37, 23, 88, 64, 97, 84, 68, 90, 30, 63, 22, 62, 99, 96, 78, 19, 41, 58, 51, 58, 83, 71, 34, 95, 56, 67, 43, 45, 19, 52, 32, 80, 47, 50, 62, 49, 81, 84, 98, 7, 69, 61, 73, 18, 66, 26, 89, 1, 1, 44, 59, 41, 11, 81, 35, 53, 31, 66, 39, 40, 32, 26, 78, 89, 54, 16, 97, 89, 35, 2, 79, 17, 81, 51, 51, 53, 80, 10, 30, 9, 60, 6, 34, 59, 87, 63, 56, 44, 93, 97, 10, 18, 99, 91, 17, 85, 29, 93, 35, 49, 52, 50, 87, 1, 33, 93, 70, 5, 77, 36, 42, 46, 53, 19, 12, 68, 85, 27, 79, 57, 29, 2, 99, 40, 42, 89, 73, 34, 76, 58, 89, 46, 14, 64, 18, 41, 82, 49, 92, 50, 91, 17, 16, 5, 40, 86, 28, 33, 27, 13, 18, 43, 95, 62, 75, 45, 72, 60, 84, 67, 72, 62, 4, 88, 58, 16, 14, 50, 71, 49, 19, 54, 8, 9, 52, 73, 75, 29, 45, 90, 29, 62, 68, 9, 76, 50, 28, 72, 75, 88, 34, 96, 41, 59, 92, 75, 28, 81, 16, 83, 3, 23, 88, 18, 96, 6, 5, 24, 28, 34, 39, 88, 67, 82, 63, 86, 78, 6, 12, 43, 72, 68, 53, 45, 53, 98, 44, 96, 12, 68, 78, 20, 51, 43, 23, 83, 62, 53, 50, 85, 8, 11, 10, 75, 78, 3, 85, 84, 42, 21, 87, 27, 61, 66, 35, 91, 76, 72, 38, 27, 58, 9, 71, 96, 16, 37, 96, 64, 96, 41, 64, 87, 54, 30, 99, 72, 44, 18, 18, 59, 95, 76, 61, 21, 95, 47, 1, 63, 36, 3, 12, 33, 1, 59, 41, 38, 15, 19, 19, 14, 36, 50, 27, 48, 73, 85, 10, 89, 70, 19, 98, 60, 44, 49, 37, 17, 55, 19, 64, 75, 41, 64, 3, 92, 42, 11, 2, 70, 13, 39, 79, 97, 68, 33, 18, 76, 91, 11, 47, 75, 15, 25, 71, 43, 69, 17, 42, 90, 11, 90, 100, 41, 32, 73, 56, 43, 68, 7, 59, 81, 97, 60, 82, 75, 25, 97, 67, 56, 75, 54, 65, 80, 90, 78, 40, 29, 98, 53, 82, 61, 83, 67, 54, 30, 67, 25, 72, 39, 98, 15, 3, 92, 43, 27, 68, 5, 46, 5, 11, 47, 3, 55, 56, 19, 14, 62, 60, 3, 35, 95, 92, 56, 8, 74, 31, 68, 27, 10, 34, 96, 17, 10, 15, 41, 65, 50, 69, 95, 93, 54, 45, 34, 89, 50, 26, 74, 37, 55, 72, 16, 6, 15, 84, 93, 80, 36, 74, 63, 6, 70, 59, 85, 45, 36, 52, 53, 5, 12, 56, 63, 75, 49, 89, 92, 36, 38, 20, 100, 21, 97, 54, 58, 55, 63, 93, 68, 56, 68, 74, 61, 4, 42, 31, 58, 63, 68, 89, 35, 54, 94, 2, 50, 6, 95, 76, 49, 35, 36, 63, 94, 41, 81, 78, 78, 16, 43, 82, 95, 10, 41, 29, 30, 85, 3, 17, 32, 89, 24, 66, 84, 49, 81, 74, 24, 76, 63, 60, 45, 62, 48, 45, 24, 59, 72, 94, 46, 79, 68, 41, 8, 98, 98, 85, 85, 22, 32, 40, 81, 69, 72, 25, 99, 22, 19, 6, 28, 26, 56, 3, 6, 88, 72, 16, 29, 92, 87, 93, 57, 69, 49, 50, 64, 66, 45, 47, 34, 86, 82, 2, 89, 3, 70, 35, 99, 49, 28, 40, 90, 74, 90, 10, 50, 50, 10, 31, 92, 36, 26, 80, 25, 87, 86, 36, 32, 42, 80, 85, 21, 76, 51, 44, 14, 48, 50, 17, 89, 70, 6, 13, 4, 54, 64, 16, 68, 57, 87, 15, 82, 26, 6, 75, 25, 59, 82, 29, 2, 61, 26, 58, 27, 42, 56, 56, 3, 66, 47, 20, 65, 51, 46, 14, 77, 85, 51, 35, 46, 95, 93, 37, 94, 8, 16, 31, 36, 75, 49, 20, 17, 79, 25, 72, 54, 100, 17, 91, 64, 97, 59, 2, 42, 65, 29, 25, 98, 69, 13, 15, 33, 41, 41, 76, 36, 20, 55, 77, 50, 61, 10, 62, 41, 8, 11, 29, 86, 21, 86, 35, 50, 68, 48, 70, 97, 98, 59, 90, 72, 66, 6, 43, 73, 4, 11, 11, 24, 26, 70, 38, 43, 17, 56, 57, 48, 93, 12, 92, 69, 12, 84, 9, 7, 32, 83, 26, 96, 5, 77, 66, 36, 41, 9, 20, 93, 74, 45, 1, 15, 64, 95, 22, 95, 24, 37, 73, 69, 71, 45, 16, 46, 74, 77, 19, 2, 68, 15, 5, 45, 68, 30, 16, 27, 32, 32, 55, 34, 70, 1, 41, 58, 36, 51, 13, 12, 78, 75, 96, 31, 38, 69, 7, 66, 21, 17, 49, 29, 74, 20, 58, 59, 100, 38, 58, 29, 50, 53, 21, 33, 22, 28, 29, 15, 66, 34, 56, 10, 80, 76, 44, 90, 98, 72, 60, 7, 31, 45, 80, 47, 50, 37, 62, 46, 15, 23, 96, 39, 93, 90, 76, 99, 66, 18, 11, 42, 96, 8, 67, 31, 73, 100, 55, 26, 78, 79, 99, 27, 16, 70, 31, 11, 53, 13, 68, 79, 92, 91, 77, 83, 78, 4, 34, 47, 94, 74, 60, 43, 19, 16, 16, 56, 12, 98, 22, 79, 38, 78, 12, 71, 80, 12, 33, 80, 90, 17, 80, 67, 79, 62, 92, 7, 77, 31, 34, 70, 16, 12, 27, 83, 62, 21, 48, 69, 15, 63, 11, 34, 73, 73, 20, 21, 27, 69, 25, 37, 19, 58, 74, 77, 77, 47, 13, 5, 68, 34, 42, 34, 27, 79, 84, 47, 61, 50, 60, 51, 12, 81, 52, 21, 22, 4, 35, 4, 69, 16, 33, 81, 76, 2, 80, 73, 53, 19, 76, 43, 73, 79, 44, 87, 9, 95, 19, 50, 69, 34, 97, 55, 58, 29, 32, 67, 12, 83, 37, 42, 53, 7, 52, 35, 11, 37, 99, 41, 35, 14, 54, 94, 20, 77, 42, 25, 7, 79, 85, 61, 99, 45, 59, 42, 21, 31, 6, 100, 68, 35, 62, 33, 73, 22, 78, 57, 48, 53, 26, 44, 94, 44, 40, 99, 58, 14, 10, 51, 11, 44, 6, 75, 76, 56, 81, 70, 31, 2, 54, 10, 85, 41, 97, 38, 100, 39, 65, 98, 57, 60, 2, 79, 14, 56, 42, 27, 98, 55, 44, 73, 50, 45, 13, 70, 45, 59, 16, 74, 83, 46, 66, 91, 1, 69, 62, 30, 92, 16, 88, 20, 77, 75, 95, 51, 19, 5, 17, 13, 72, 75, 29, 60, 42, 69, 15, 39, 90, 61, 52, 39, 35, 15, 12, 59, 67, 96, 73, 13, 88, 52, 46, 43, 67, 65, 19, 53, 6, 32, 74, 75, 56, 88, 29, 84, 64, 88, 51, 91, 66, 25, 67, 100, 8, 75, 44, 72, 62, 55, 22, 4, 35, 53, 22, 52, 17, 65, 1, 54, 37, 3, 56, 47, 71, 89, 22, 59, 52, 28, 83, 82, 34, 19, 79, 48, 51, 82, 41, 91, 45, 1, 12, 62, 85, 71, 8, 43, 44, 100, 86, 80, 53, 59, 76, 74, 58, 58, 20, 68, 56, 84, 40, 21, 77, 18, 13, 62, 71, 26, 99, 1, 15, 4, 100, 12, 34, 65, 89, 52, 52, 86, 85, 79, 36, 62, 70, 72, 6, 93, 100, 77, 44, 63, 81, 5, 84, 17, 98, 24, 60, 70, 73, 39, 50, 87, 65, 41, 21, 25, 48, 84, 45, 10, 27, 46, 29, 55, 15, 39, 34, 46, 18, 23, 10, 12, 85, 58, 23, 52, 5, 26, 96, 43, 98, 56, 15, 84, 74, 65, 68, 35, 85, 8, 6, 46, 46, 97, 14, 20, 84, 2, 75, 91, 57, 48, 8, 83, 88, 73, 76, 85, 52, 26, 82, 4, 12, 71, 29, 7, 41, 98, 56, 16, 71, 2, 60, 14, 28, 51, 84, 68, 9, 42, 39, 80, 13, 46, 35, 69, 16, 34, 20, 29, 32, 33, 57, 68, 44, 12, 79, 72, 27, 56, 92, 10, 26, 94, 9, 11, 12, 34, 59, 57, 79, 20, 20, 86, 52, 47, 81, 5, 77, 10, 18, 15, 30, 2, 26, 51, 43, 5, 1, 14, 37, 45, 59, 78, 66, 44, 49, 98, 62, 18, 49, 60, 85, 35, 24, 65, 35, 7, 23, 96, 58, 61, 36, 66, 81, 8, 37, 25, 82, 68, 22, 9, 66, 78, 63, 65, 95, 30, 6, 11, 47, 3, 26, 29, 97, 76, 43, 26, 67, 20, 29, 23, 81, 32, 45, 83, 88, 81, 9, 71, 63, 20, 4, 21, 22, 87, 86, 53, 66, 26, 78, 98, 21, 37, 7, 71, 88, 100, 10, 31, 87, 38, 52, 65, 81, 81, 99, 67, 69, 49, 23, 74, 63, 65, 56, 43, 16, 97, 71, 64, 66, 2, 37, 35, 18, 82, 1, 38, 51, 31, 53, 19, 13, 7, 58, 5, 43, 71, 76, 57, 49, 21, 12, 79, 62, 42, 51, 80, 85, 7, 6, 13, 32, 75, 59, 16, 95, 33, 97, 72, 99, 90, 20, 73, 49, 59, 47, 62, 97, 6, 68, 12, 25, 34, 61, 65, 85, 24, 34, 40, 87, 69, 31, 57, 68, 61, 51, 30, 34, 82, 62, 95, 57, 43, 2, 21, 97, 62, 61, 6, 97, 72, 16, 9, 49, 45, 30, 35, 48, 37, 73, 86, 10, 40, 57, 57, 3, 71, 90, 53, 82, 78, 65, 97, 44, 51, 40, 3, 31, 70, 7, 78, 39, 86, 31, 99, 55, 66, 85, 32, 57, 67, 52, 29, 23, 67, 78, 93, 20, 48, 38, 90, 5, 93, 86, 97, 23, 27, 4, 48, 52, 39, 12, 14, 39, 12, 28, 81, 88, 25, 27, 89, 85, 10, 51, 60, 94, 36, 75, 18, 66, 91, 51, 75, 53, 83, 48, 2, 1, 54, 76, 25, 52, 78, 76, 70, 100, 36, 49, 57, 36, 82, 80, 12, 48, 50, 82, 70, 46, 4, 8, 98, 42, 90, 85, 60, 31, 62, 71, 35, 91, 80, 76, 66, 43, 38, 20, 67, 85, 90, 31, 14, 12, 63, 71, 71, 61, 88, 1, 44, 6, 71, 99, 93, 84, 29, 66, 93, 75, 91, 26, 43, 20, 72, 24, 3, 86, 65, 82, 40, 82, 87, 64, 19, 98, 40, 4, 93, 4, 45, 16, 38, 14, 40, 8, 21, 34, 10, 19, 92, 10, 52, 27, 94, 93, 91, 81, 22, 41, 21, 56, 46, 65, 18, 64, 40, 70, 57, 99, 67, 13, 92, 54, 38, 56, 28, 17, 39, 54, 4, 8, 87, 72, 93, 73, 48, 97, 77, 97, 99, 41, 63, 89, 23, 100, 14, 29, 46, 88, 64, 48, 34, 54, 56, 96, 74, 30, 48, 30, 94, 57, 35, 8, 53, 100, 32, 89, 19, 29, 86, 40, 79, 25, 10, 52, 70, 53, 29, 16, 84, 100, 21, 68, 20, 92, 3, 2, 36, 10, 60, 6, 66, 51, 93, 5, 69, 82, 85, 93, 15, 65, 100, 85, 90, 29, 62, 10, 42, 12, 29, 86, 46, 51, 58, 63, 27, 6, 14, 32, 22, 65, 78, 99, 48, 17, 22, 48, 93, 62, 86, 21, 85, 15, 2, 51, 52, 40, 60, 99, 5, 39, 61, 71, 94, 5, 17, 53, 30, 78, 94, 70, 65, 43, 53, 19, 32, 93, 89, 17, 24, 6, 29, 5, 66, 49, 73, 81, 22, 15, 67, 37, 62, 78, 24, 71, 79, 53, 94, 79, 47, 73, 19, 13, 98, 63, 48, 8, 97, 92, 60, 2, 98, 86, 3, 89, 48, 26, 95, 53, 75, 35, 25, 49, 59, 21, 95, 90, 46, 69, 95, 21, 91, 14, 2, 76, 18, 10, 89, 80, 30, 52, 5, 54, 67, 59, 30, 62, 41, 30, 48, 40, 31, 44, 4, 74, 55, 13, 38, 27, 97, 49, 47, 82, 86, 2, 10, 91, 89, 13, 62, 3, 54, 26, 52, 53, 84, 35, 90, 28, 76, 43, 87, 73, 10, 76, 69, 48, 33, 62, 5, 26, 2, 47, 5, 34, 81, 65, 24, 48, 70, 85, 12, 32, 84, 78, 93, 42, 25, 52, 62, 85, 95, 94, 75, 94, 42, 99, 59, 16, 34, 77, 74, 96, 66, 34, 78, 62, 38, 66, 93, 78, 68, 70, 77, 27, 41, 17, 42, 28, 18, 33, 55, 37, 51, 99, 50, 79, 76, 11, 89, 72, 8, 20, 94, 6, 51, 72, 58, 12, 5, 47, 3, 53, 28, 89, 51, 47, 70, 26, 49, 5, 66, 19, 42, 88, 80, 35, 75, 49, 80, 32, 8, 9, 86, 43, 17, 24, 2, 26, 94, 65, 18, 10, 3, 28, 25, 84, 13, 36, 61, 91, 55, 54, 67, 70, 15, 98, 43, 85, 38, 77, 100, 33, 23, 32, 51, 83, 59, 10, 77, 61, 11, 15, 97, 32, 73, 48, 86, 3, 6, 28, 35, 31, 1, 79, 67, 93, 87, 73, 81, 39, 43, 51, 86, 25, 42, 91, 45, 11, 21, 2, 86, 37, 70, 90, 23, 45, 41, 42, 18, 96, 76, 18, 18, 5, 17, 94, 30, 52, 50, 15, 94, 67, 63, 64, 67, 87, 99, 93, 83, 85, 16, 57, 60, 6, 20, 43, 50, 88, 11, 13, 79, 98, 31, 56, 39, 45, 10, 23, 25, 51, 79, 83, 26, 64, 14, 79, 51, 100, 83, 31, 64, 24, 94, 41, 45, 11, 85, 81, 35, 69, 6, 35, 69, 16, 48, 21, 19, 99, 20, 85, 19, 13, 63, 100, 36, 8, 76, 5, 86, 4, 32, 90, 77, 50, 84, 6, 28, 12, 28, 4, 75, 29, 90, 34, 70, 70, 92, 89, 9, 18, 84, 55, 7, 6, 61, 1, 11, 62, 4, 1, 39, 90, 100, 66, 18, 93, 55, 41, 15, 82, 8, 22, 12, 99, 61, 80, 9, 93, 75, 64, 69, 59, 90, 87, 57, 57, 6, 41, 85, 29, 32, 43, 84, 66, 63, 37, 48, 34, 44, 58, 66, 24, 49, 35, 27, 72, 64, 53, 37, 3, 58, 83, 23, 99, 59, 20, 28, 26, 83, 17, 100, 83, 80, 38, 22, 63, 15, 67, 74, 96, 29, 88, 28, 54, 18, 35, 82, 10, 44, 41, 69, 11, 56, 29, 61, 12, 31, 37, 10, 30, 14, 92, 59, 27, 52, 56, 19, 97, 23, 18, 31, 39, 57, 74, 52, 26, 79, 70, 83, 72, 90, 69, 11, 9, 42, 89, 58, 55, 82, 5, 3, 21, 71, 58, 58, 50, 73, 16, 26, 73, 80, 4, 75, 9, 20, 24, 59, 57, 98, 76, 84, 42, 24, 75, 59, 67, 37, 37, 15, 53, 73, 11, 2, 79, 62, 91, 19, 53, 40, 21, 82, 73, 84, 44, 4, 65, 24, 19, 77, 96, 32, 58, 28, 46, 73, 19, 65, 49, 11, 46, 74, 100, 2, 87, 47, 91, 22, 54, 12, 51, 63, 94, 63, 44, 60, 39, 9, 75, 17, 21, 9, 60, 60, 64, 5, 97, 30, 90, 97, 80, 52, 87, 50, 95, 50, 75, 72, 34, 38, 83, 47, 17, 33, 82, 78, 55, 77, 51, 53, 8, 19, 66, 42, 6, 27, 96, 63, 68, 61, 32, 57, 64, 35, 75, 67, 97, 13, 62, 84, 70, 49, 30, 71, 12, 84, 35, 50, 72, 58, 46, 56, 41, 72, 36, 27, 95, 46, 2, 43, 74, 9, 12, 38, 84, 26, 13, 18, 26, 66, 77, 78, 22, 63, 34, 35, 22, 17, 98, 8, 2, 36, 20, 40, 75, 18, 40, 18, 6, 35, 11, 26, 26, 64, 55, 72, 30, 73, 83, 100, 63, 48, 26, 14, 91, 11, 32, 11, 66, 74, 16, 63, 99, 15, 79, 50, 39, 84, 63, 38, 51, 82, 52, 11, 76, 7, 33, 68, 72, 80, 22, 90, 4, 17, 40, 65, 31, 80, 86, 84, 82, 74, 53, 61, 47, 81, 54, 85, 6, 17, 29, 57, 74, 57, 34, 41, 9, 5, 90, 2, 99, 17, 64, 47, 69, 33, 75, 11, 99, 11, 8, 45, 16, 41, 79, 78, 70, 15, 77, 23, 60, 3, 63, 66, 34, 7, 63, 48, 27, 45, 13, 6, 71, 51, 46, 81, 15, 68, 20, 71, 23, 95, 32, 82, 12, 8, 18, 52, 57, 66, 57, 58, 10, 46, 9, 25, 19, 39, 72, 45, 79, 60, 29, 10, 69, 32, 38, 69, 53, 29, 11, 98, 88, 43, 96, 85, 71, 17, 10, 7, 7, 83, 12, 87, 68, 60, 26, 69, 33, 60, 34, 99, 100, 93, 72, 63, 91, 88, 2, 15, 71, 38, 27, 53, 81, 26, 53, 43, 96, 75, 29, 37, 47, 18, 39, 18, 60, 35, 27, 50, 96, 75, 72, 84, 55, 17, 15, 58, 92, 21, 94, 36, 64, 79, 60, 92, 37, 18, 57, 68, 63, 88, 84, 98, 79, 80, 88, 23, 55, 4, 92, 71, 37, 91, 31, 90, 26, 69, 4, 50, 56, 78, 32, 14, 87, 69, 99, 64, 98, 70, 90, 46, 24, 31, 26, 89, 36, 15, 86, 33, 89, 33, 30, 89, 61, 97, 12, 22, 86, 66, 89, 59, 99, 69, 13, 24, 56, 72, 87, 31, 40, 51, 66, 92, 93, 89, 33, 1, 90, 53, 5, 40, 10, 84, 99, 82, 94, 71, 66, 72, 25, 62, 2, 43, 60, 60, 77, 38, 100, 5, 73, 65, 99, 55, 3, 26, 59, 76, 28, 95, 99, 19, 56, 71, 67, 92, 88, 32, 59, 94, 6, 53, 95, 19, 79, 71, 13, 10, 41, 5, 43, 8, 3, 97, 67, 11, 80, 57, 29, 51, 43, 89, 9, 10, 50, 62, 15, 3, 63, 99, 28, 55, 2, 2, 12, 45, 99, 100, 100, 45, 81, 29, 12, 57, 73, 72, 98, 86, 98, 98, 91, 17, 47, 55, 41, 59, 85, 8, 17, 9, 90, 22, 35, 69, 73, 85, 55, 57, 19, 36, 92, 32, 64, 6, 5, 62, 40, 90, 97, 10, 57, 76, 89, 94, 85, 1, 84, 72, 73, 41, 75, 75, 52, 1, 98, 52, 76, 57, 90, 81, 80, 52, 3, 71, 25, 20, 81, 64, 55, 74, 26, 58, 98, 92, 50, 29, 97, 74, 30, 64, 27, 66, 93, 96, 40, 60, 75, 53, 81, 5, 45, 11, 4, 65, 32, 71, 26, 64, 29, 78, 83, 66, 7, 51, 49, 1, 29, 11, 45, 12, 34, 4, 77, 25, 30, 50, 90, 89, 50, 84, 42, 6, 53, 96, 39, 37, 34, 4, 74, 63, 10, 75, 19, 12, 25, 9, 71, 75, 44, 75, 60, 30, 26, 22, 39, 49, 27, 35, 12, 42, 50, 53, 78, 44, 82, 42, 18, 37, 47, 100, 87, 34, 30, 19, 75, 69, 55, 58, 68, 7, 69, 92, 14, 39, 39, 58, 63, 15, 22, 34, 51, 77, 38, 12, 57, 14, 26, 3, 52, 86, 57, 10, 92, 83, 86, 89, 27, 95, 80, 3, 8, 92, 23, 60, 94, 48, 49, 72, 31, 69, 59, 30, 9, 15, 49, 37, 98, 100, 66, 49, 46, 62, 51, 23, 98, 44, 60, 84, 55, 9, 84, 78, 28, 95, 45, 31, 85, 69, 41, 74, 11, 9, 91, 35, 18, 80, 35, 64, 69, 58, 87, 38, 53, 41, 33, 63, 12, 81, 48, 93, 6, 10, 18, 21, 38, 33, 53, 3, 4, 75, 2, 4, 85, 35, 28, 51, 64, 69, 46, 81, 88, 74, 76, 19, 78, 34, 88, 94, 93, 82, 31, 38, 28, 82, 46, 3, 66, 79, 5, 76, 72, 79, 53, 42, 49, 15, 71, 37, 19, 82, 72, 16, 92, 56, 69, 87, 71, 55, 26, 8, 63, 53, 37, 40, 4, 65, 88, 34, 48, 68, 41, 24, 91, 3, 42, 61, 21, 1, 76, 60, 93, 35, 72, 100, 20, 18, 8, 95, 68, 1, 49, 70, 7, 58, 25, 4, 71, 57, 75, 60, 63, 14, 73, 77, 33, 76, 30, 45, 6, 32, 69, 49, 8, 27, 53, 40, 79, 78, 58, 33, 18, 40, 7, 11, 35, 47, 89, 35, 86, 23, 5, 16, 92, 14, 63, 45, 79, 43, 60, 39, 89, 63, 66, 56, 72, 50, 6, 90, 25, 89, 64, 53, 7, 83, 17, 18, 47, 11, 71, 71, 98, 60, 69, 65, 52, 55, 13, 32, 12, 79, 23, 82, 60, 54, 90, 32, 69, 32, 78, 72, 75, 79, 23, 53, 53, 31, 61, 85, 66, 50, 81, 82, 79, 69, 37, 74, 66, 94, 93, 35, 67, 77, 90, 97, 26, 71, 44, 80, 86, 6, 17, 13, 14, 53, 55, 90, 17, 44, 64, 59, 65, 80, 98, 15, 46, 27, 8, 21, 66, 100, 73, 33, 43, 65, 60, 16, 37, 3, 60, 97, 23, 73, 17, 37, 32, 48, 27, 24, 54, 57, 88, 92, 7, 96, 36, 70, 100, 34, 58, 93, 93, 59, 80, 16, 80, 41, 55, 66, 67, 42, 4, 71, 34, 34, 1, 26, 29, 88, 75, 66, 21, 75, 92, 99, 54, 54, 81, 76, 82, 75, 8, 37, 9, 3, 52, 13, 92, 11, 3, 64, 6, 7, 91, 96, 76, 85, 50, 5, 93, 49, 7, 42, 53, 14, 71, 48, 50, 14, 31, 31, 58, 24, 81, 71, 85, 2, 78, 14, 58, 88, 66, 46, 66, 7, 10, 30, 36, 78, 35, 68, 85, 95, 31, 74, 27, 42, 22, 65, 22, 26, 55, 31, 98, 51, 70, 94, 38, 70, 24, 56, 22, 80, 12, 49, 61, 89, 96, 21, 42, 38, 89, 10, 2, 41, 92, 15, 87, 75, 12, 70, 96, 24, 73, 81, 83, 74, 70, 90, 20, 53, 32, 10, 88, 88, 65, 22, 73, 48, 68, 63, 5, 75, 75, 16, 32, 77, 22, 80, 56, 59, 14, 41, 7, 6, 16, 92, 4, 20, 32, 44, 95, 63, 17, 46, 9, 50, 38, 72, 34, 88, 29, 7, 58, 77, 84, 13, 97, 54, 40, 35, 51, 47, 12, 74, 19, 62, 19, 8, 88, 95, 2, 54, 69, 85, 19, 57, 71, 16, 52, 12, 33, 78, 17, 6, 65, 90, 100, 40, 78, 47, 19, 41, 69, 86, 50, 54, 29, 10, 19, 23, 87, 95, 95, 47, 30, 79, 52, 20, 61, 84, 99, 100, 73, 70, 49, 1, 70, 71, 47, 19, 81, 45, 32, 46, 58, 36, 15, 34, 98, 57, 78, 57, 30, 89, 37, 81, 31, 91, 36, 51, 88, 33, 25, 95, 63, 38, 45, 21, 68, 58, 37, 42, 21, 95, 7, 23, 56, 80, 71, 33, 55, 54, 78, 69, 55, 81, 54, 38, 56, 23, 61, 19, 71, 4, 27, 47, 73, 5, 55, 78, 1, 67, 62, 47, 19, 71, 43, 72, 76, 12, 4, 23, 42, 30, 43, 46, 3, 31, 37, 73, 19, 60, 27, 81, 3, 14, 28, 37, 89, 16, 57, 8, 19, 75, 57, 36, 44, 57, 47, 52, 14, 44, 21, 79, 91, 30, 85, 28, 7, 41, 80, 32, 73, 59, 37, 87, 16, 22, 17, 23, 22, 37, 66, 25, 53, 51, 48, 66, 100, 19, 47, 54, 77, 83, 14, 81, 9, 90, 81, 5, 46, 51, 12, 45, 34, 54, 27, 17, 39, 54, 5, 64, 7, 46, 35, 13, 78, 69, 27, 52, 29, 62, 67, 55, 7, 18, 33, 26, 10, 58, 91, 29, 45, 32, 100, 40, 57, 25, 23, 56, 18, 63, 14, 15, 49, 65, 11, 98, 18, 63, 11, 53, 27, 51, 8, 6, 38, 41, 49, 85, 50, 62, 10, 46, 86, 62, 80, 64, 13, 78, 93, 69, 63, 57, 52, 89, 4, 92, 1, 76, 57, 31, 78, 86, 29, 27, 67, 32, 9, 53, 86, 59, 88, 43, 30, 25, 46, 44, 94, 16, 71, 11, 1, 2, 22, 15, 70, 95, 38, 3, 97, 66, 58, 62, 46, 13, 84, 70, 32, 46, 73, 83, 72, 96, 16, 83, 48, 20, 89, 75, 89, 75, 22, 59, 82, 5, 8, 24, 52, 52, 4, 35, 25, 84, 82, 56, 79, 59, 43, 12, 68, 20, 68, 64, 70, 37, 3, 75, 4, 78, 3, 27, 72, 13, 78, 8, 91, 71, 7, 36, 71, 30, 5, 11, 89, 86, 46, 50, 8, 85, 88, 53, 74, 54, 18, 4, 10, 61, 52, 12, 49, 46, 33, 4, 76, 36, 61, 12, 81, 55, 9, 80, 97, 65, 69, 71, 97, 20, 66, 53, 14, 87, 27, 18, 19, 93, 25, 68, 87, 22, 14, 77, 12, 74, 67, 84, 53, 85, 56, 53, 39, 33, 80, 98, 13, 56, 66, 66, 24, 8, 69, 16, 42, 68, 6, 90, 72, 54, 94, 62, 66, 42, 35, 17, 12, 66, 93, 55, 39, 25, 99, 80, 13, 17, 24, 90, 97, 3, 97, 100, 86, 16, 42, 22, 29, 48, 100, 88, 8, 87, 15, 53, 50, 92, 54, 41, 95, 89, 81, 68, 96, 30, 99, 88, 15, 46, 98, 31, 61, 64, 11, 6, 25, 74, 45, 53, 78, 55, 81, 82, 86, 91, 26, 11, 89, 11, 15, 21, 17, 38, 2, 92, 18, 84, 39, 94, 53, 31, 34, 31, 84, 93, 30, 23, 17, 91, 67, 66, 48, 12, 36, 3, 48, 90, 82, 41, 33, 39, 69, 85, 41, 52, 66, 36, 37, 78, 93, 67, 29, 71, 5, 7, 15, 60, 45, 89, 66, 7, 11, 30, 61, 40, 63, 25, 48, 95, 43, 40, 19, 30, 21, 24, 41, 77, 52, 29, 89, 7, 80, 46, 97, 94, 93, 63, 71, 26, 68, 43, 5, 32, 52, 62, 74, 55, 55, 21, 75, 71, 31, 12, 95, 47, 59, 95, 65, 4, 85, 50, 48, 76, 87, 85, 55, 54, 45, 4, 96, 60, 4, 33, 53, 100, 74, 9, 66, 90, 53, 26, 20, 6, 35, 16, 93, 96, 89, 58, 34, 27, 64, 54, 85, 75, 63, 66, 41, 2, 87, 35, 72, 69, 90, 35, 53, 62, 56, 62, 43, 20, 62, 84, 70, 10, 28, 43, 39, 45, 83, 4, 82, 9, 22, 63, 90, 5, 49, 87, 7, 44, 74, 99, 83, 87, 85, 24, 13, 89, 25, 7, 89, 15, 38, 71, 30, 23, 1, 13, 27, 74, 85, 37, 14, 76, 12, 12, 28, 97, 43, 97, 26, 67, 79, 31, 44, 31, 49, 15, 49, 68, 93, 23, 12, 64, 10, 99, 95, 45, 51, 90, 39, 94, 48, 96, 23, 14, 67, 99, 85, 17, 65, 45, 60, 38, 14, 32, 8, 53, 14, 35, 94, 62, 53, 29, 37, 65, 67, 65, 70, 36, 28, 40, 67, 2, 57, 79, 99, 44, 91, 73, 47, 13, 56, 71, 44, 44, 85, 62, 48, 61, 1, 86, 8, 21, 38, 15, 28, 89, 73, 15, 54, 41, 80, 56, 58, 73, 4, 1, 32, 98, 37, 40, 86, 28, 64, 10, 94, 86, 97, 73, 29, 85, 18, 5, 13, 82, 18, 92, 23, 2, 85, 31, 3, 88, 27, 98, 99, 71, 18, 88, 26, 48, 7, 45, 89, 23, 18, 98, 34, 51, 26, 82, 94, 19, 71, 80, 27, 76, 11, 41, 63, 19, 49, 67, 81, 46, 31, 6, 20, 13, 64, 97, 61, 100, 99, 50, 78, 81, 57, 8, 92, 10, 19, 52, 37, 33, 93, 20, 52, 50, 32, 88, 6, 28, 62, 97, 37, 67, 91, 45, 10, 91, 47, 56, 94, 99, 21, 38, 46, 63, 79, 27, 62, 31, 43, 67, 24, 29, 42, 44, 62, 95, 22, 20, 47, 59, 40, 5, 26, 36, 7, 81, 56, 3, 17, 86, 15, 84, 100, 33, 10, 48, 100, 52, 17, 46, 72, 83, 8, 45, 91, 46, 91, 87, 66, 6, 28, 9, 36, 77, 21, 50, 39, 10, 96, 21, 93, 51, 16, 31, 84, 71, 51, 99, 34, 87, 36, 77, 60, 83, 97, 80, 34, 63, 36, 12, 75, 98, 69, 52, 44, 22, 12, 91, 12, 89, 17, 11, 73, 6, 18, 35, 10, 24, 50, 32, 96, 1, 74, 26, 81, 39, 3, 50, 56, 44, 10, 49, 96, 21, 37, 32, 60, 6, 75, 72, 27, 2, 66, 38, 6, 29, 41, 98, 99, 93, 17, 84, 16, 40, 14, 83, 68, 49, 67, 87, 24, 65, 50, 33, 16, 89, 34, 78, 45, 39, 87, 75, 22, 77, 23, 21, 98, 77, 48, 29, 87, 30, 11, 50, 90, 67, 3, 90, 71, 24, 61, 27, 64, 84, 54, 13, 4, 90, 81, 86, 73, 58, 75, 1, 17, 45, 69, 76, 38, 14, 30, 5, 62, 97, 35, 57, 80, 63, 5, 21, 97, 76, 83, 45, 76, 26, 57, 55, 70, 46, 9, 74, 98, 37, 66, 65, 24, 87, 26, 37, 18, 81, 43, 88, 35, 7, 96, 55, 4, 63, 51, 93, 24, 37, 15, 43, 22, 46, 47, 32, 34, 31, 85, 52, 48, 45, 99, 36, 39, 4, 35, 91, 65, 65, 98, 2, 16, 53, 91, 68, 70, 14, 13, 61, 90, 48, 39, 65, 38, 35, 33, 64, 36, 99, 76, 54, 19, 33, 13, 69, 81, 7, 6, 33, 10, 52, 33, 35, 73, 31, 100, 85, 68, 52, 81, 26, 41, 2, 81, 63, 7, 92, 85, 73, 71, 91, 9, 75, 31, 85, 95, 19, 63, 24, 84, 97, 3, 96, 52, 56, 38, 21, 51, 45, 92, 75, 23, 52, 28, 90, 90, 55, 8, 91, 22, 47, 86, 57, 11, 61, 64, 1, 88, 21, 55, 60, 91, 79, 33, 51, 27, 86, 69, 74, 42, 27, 23, 12, 79, 60, 95, 23, 11, 57, 62, 47, 19, 71, 62, 5, 89, 2, 68, 42, 46, 5, 3, 67, 53, 74, 76, 23, 69, 65, 66, 63, 81, 77, 28, 25, 59, 86, 13, 97, 71, 46, 38, 29, 84, 59, 35, 66, 59, 96, 56, 61, 49, 13, 64, 24, 91, 92, 20, 53, 87, 24, 88, 28, 39, 80, 99, 53, 72, 3, 96, 66, 21, 75, 91, 9, 55, 37, 33, 30, 5, 29, 83, 30, 11, 73, 45, 49, 39, 3, 17, 41, 12, 38, 89, 60, 77, 13, 53, 12, 73, 40, 76, 100, 68, 85, 32, 72, 18, 50, 41, 79, 6, 82, 60, 67, 91, 49, 72, 91, 8, 8, 24, 74, 27, 57, 91, 86, 5, 79, 87, 21, 99, 40, 27, 32, 93, 40, 38, 20, 19, 40, 85, 61, 21, 93, 13, 17, 67, 59, 10, 78, 39, 36, 40, 2, 73, 83, 44, 55, 79, 91, 92, 64, 81, 2, 58, 61, 36, 69, 30, 70, 73, 93, 93, 27, 33, 93, 66, 92, 86, 32, 10, 27, 4, 18, 72, 98, 18, 68, 81, 59, 76, 60, 98, 57, 13, 25, 59, 43, 67, 94, 70, 62, 43, 94, 89, 71, 49, 37, 79, 13, 23, 83, 97, 86, 2, 11, 28, 64, 23, 44, 56, 66, 12, 75, 29, 33, 11, 30, 24, 31, 82, 69, 50, 87, 9, 99, 38, 74, 61, 20, 38, 7, 67, 26, 16, 46, 13, 97, 51, 30, 7, 89, 26, 63, 69, 79, 60, 47, 81, 28, 64, 49, 72, 73, 92, 29, 38, 50, 53, 39, 36, 34, 47, 96, 8, 28, 45, 7, 61, 36, 7, 33, 89, 40, 43, 58, 38, 31, 24, 44, 47, 30, 50, 52, 94, 43, 19, 57, 92, 61, 90, 90, 40, 14, 79, 35, 44, 100, 67, 96, 38, 19, 32, 13, 15, 76, 16, 88, 40, 63, 64, 42, 14, 33, 35, 34, 50, 87, 52, 57, 91, 68, 79, 40, 54, 23, 67, 82, 73, 100, 86, 24, 9, 38, 47, 77, 68, 29, 20, 66, 45, 90, 27, 96, 34, 57, 42, 55, 12, 75, 83, 14, 18, 21, 34, 15, 56, 30, 87, 22, 72, 43, 58, 31, 65, 21, 35, 26, 82, 70, 44, 33, 52, 28, 21, 48, 75, 57, 72, 35, 22, 98, 13, 78, 24, 2, 1, 92, 19, 55, 25, 42, 31, 31, 49, 70, 88, 90, 2, 23, 41, 96, 84, 49, 65, 39, 3, 75, 48, 31, 40, 17, 32, 65, 58, 47, 52, 9, 13, 78, 29, 27, 40, 59, 41, 57, 62, 50, 94, 34, 34, 17, 84, 12, 34, 5, 100, 16, 50, 43, 14, 58, 96, 69, 2, 3, 90, 57, 81, 16, 36, 87, 3, 41, 87, 75, 6, 24, 63, 3, 71, 73, 44, 20, 43, 67, 83, 39, 21, 27, 63, 81, 59, 31, 8, 23, 9, 18, 64, 56, 1, 41, 63, 43, 38, 2, 16, 79, 76, 91, 74, 69, 2, 85, 70, 21, 47, 40, 46, 10, 35, 11, 16, 12, 80, 81, 4, 62, 26, 92, 67, 66, 78, 77, 65, 100, 17, 87, 41, 88, 11, 77, 76, 4, 84, 3, 47, 75, 85, 79, 47, 75, 52, 88, 66, 13, 58, 14, 83, 25, 89, 75, 46, 75, 44, 65, 73, 93, 76, 24, 64, 24, 98, 56, 40, 90, 37, 78, 64, 6, 92, 39, 30, 62, 91, 3, 66, 9, 66, 38, 44, 19, 16, 91, 67, 92, 28, 99, 20, 4, 16, 34, 9, 44, 9, 69, 50, 45, 71, 97, 83, 25, 71, 88, 54, 55, 40, 78, 50, 80, 54, 49, 77, 7, 7, 100, 37, 19, 40, 29, 68, 41, 74, 44, 89, 3, 7, 34, 9, 32, 61, 85, 56, 84, 69, 2, 56, 40, 62, 65, 76, 19, 53, 91, 81, 6, 52, 62, 61, 60, 60, 58, 71, 22, 27, 53, 28, 61, 60, 20, 33, 98, 38, 2, 70, 2, 33, 78, 6, 91, 21, 21, 13, 13, 48, 78, 74, 21, 28, 50, 28, 94, 44, 95, 96, 12, 3, 63, 19, 78, 94, 33, 61, 34, 42, 82, 72, 26, 34, 82, 58, 78, 12, 45, 55, 56, 64, 85, 33, 23, 89, 39, 68, 61, 6, 7, 81, 47, 31, 27, 37, 36, 36, 10, 64, 71, 52, 31, 48, 48, 38, 46, 54, 11, 3, 57, 91, 11, 35, 42, 32, 98, 22, 40, 67, 22, 94, 52, 84, 34, 51, 12, 25, 1, 86, 58, 71, 15, 2, 82, 5, 23, 20, 16, 97, 58, 21, 4, 99, 80, 37, 24, 56, 15, 65, 21, 59, 21, 72, 69, 30, 2, 24, 95, 40, 21, 53, 14, 56, 24, 68, 88, 5, 45, 24, 83, 53, 10, 65, 51, 72, 32, 43, 55, 21, 72, 53, 31, 77, 53, 56, 13, 98, 75, 21, 64, 28, 52, 55, 84, 56, 19, 53, 15, 37, 38, 48, 75, 41, 8, 25, 71, 90, 45, 78, 67, 12, 98, 28, 80, 58, 63, 9, 58, 20, 79, 73, 70, 19, 67, 37, 7, 39, 95, 37, 95, 10, 63, 40, 41, 23, 42, 93, 35, 99, 27, 79, 44, 45, 83, 76, 44, 12, 100, 73, 97, 53, 77, 2, 47, 55, 27, 98, 85, 47, 30, 43, 87, 66, 31, 14, 49, 22, 100, 47, 41, 35, 29, 58, 48, 80, 93, 15, 30, 17, 15, 63, 47, 39, 87, 15, 17, 26, 30, 91, 65, 25, 25, 55, 85, 21, 10, 19, 39, 64, 49, 65, 80, 7, 61, 28, 73, 27, 46, 29, 100, 2, 25, 18, 92, 25, 92, 57, 63, 66, 7, 86, 9, 92, 89, 53, 85, 79, 85, 99, 51, 98, 1, 24, 85, 18, 45, 79, 98, 80, 64, 54, 24, 42, 36, 52, 28, 46, 53, 61, 39, 89, 82, 20, 81, 66, 24, 27, 32, 25, 7, 61, 90, 72, 97, 56, 26, 69, 38, 85, 29, 3, 88, 32, 41, 28, 54, 100, 87, 30, 42, 64, 57, 46, 78, 60, 6, 14, 97, 3, 72, 19, 91, 12, 49, 30, 89, 87, 76, 19, 81, 24, 84, 10, 61, 47, 32, 44, 28, 100, 37, 56, 25, 19, 37, 6, 13, 57, 24, 29, 75, 12, 76, 36, 10, 71, 86, 49, 2, 82, 18, 58, 71, 71, 21, 79, 96, 51, 24, 50, 43, 47, 15, 5, 18, 99, 65, 82, 87, 71, 29, 11, 77, 8, 88, 93, 60, 29, 44, 7, 86, 89, 92, 94, 79, 6, 33, 24, 47, 95, 61, 68, 22, 67, 36, 38, 98, 91, 80, 74, 6, 79, 46, 34, 10, 24, 30, 6, 74, 88, 56, 10, 98, 48, 60, 82, 3, 86, 81, 90, 45, 25, 3, 82, 65, 78, 44, 54, 36, 6, 57, 52, 82, 13, 17, 77, 73, 91, 84, 95, 15, 9, 58, 100, 7, 84, 2, 64, 80, 4, 59, 46, 72, 57, 64, 28, 8, 68, 53, 21, 19, 46, 69, 21, 52, 24, 77, 7, 3, 57, 30, 69, 37, 1, 80, 95, 65, 19, 23, 96, 54, 46, 47, 31, 51, 95, 80, 81, 80, 71, 29, 45, 87, 56, 56, 9, 40, 85, 45, 9, 30, 2, 30, 59, 88, 48, 16, 36, 17, 87, 74, 95, 27, 18, 68, 89, 34, 25, 76, 65, 48, 73, 21, 76, 37, 56, 47, 37, 84, 57, 40, 73, 73, 18, 26, 79, 55, 23, 59, 96, 28, 43, 40, 43, 80, 64, 22, 69, 35, 25, 72, 24, 61, 59, 59, 27, 24, 3, 84, 52, 52, 73, 32, 67, 97, 72, 15, 40, 45, 27, 85, 91, 89, 71, 48, 2, 84, 66, 97, 42, 68, 91, 36, 28, 22, 100, 5, 86, 22, 18, 85, 93, 8, 96, 76, 1, 96, 37, 89, 37, 85, 60, 46, 21, 96, 38, 32, 68, 25, 86, 29, 84, 55, 50, 40, 98, 48, 2, 95, 55, 12, 45, 21, 51, 16, 60, 23, 10, 30, 61, 48, 84, 95, 38, 45, 38, 74, 27, 41, 68, 22, 28, 58, 17, 77, 49, 11, 1, 14, 57, 20, 3, 30, 66, 92, 92, 24, 81, 86, 51, 34, 97, 20, 7, 6, 12, 20, 23, 62, 3, 34, 91, 91, 64, 98, 41, 9, 11, 98, 55, 71, 94, 14, 62, 1, 52, 29, 54, 81, 14, 80, 61, 14, 70, 74, 46, 42, 88, 19, 69, 45, 31, 47, 10, 26, 35, 68, 80, 6, 60, 38, 46, 48, 69, 79, 29, 94, 77, 79, 24, 36, 46, 28, 54, 17, 16, 80, 32, 61, 82, 70, 94, 29, 38, 57, 6, 34, 23, 20, 36, 44, 37, 93, 35, 62, 94, 21, 49, 44, 88, 59, 30, 12, 49, 28, 6, 79, 24, 3, 42, 97, 95, 90, 17, 48, 18, 66, 27, 97, 37, 6, 45, 55, 63, 4, 26, 23, 81, 65, 44, 85, 47, 86, 15, 70, 21, 82, 42, 62, 52, 3, 85, 15, 66, 76, 8, 73, 53, 98, 73, 2, 23, 82, 33, 39, 90, 89, 2, 30, 90, 11, 72, 71, 75, 57, 78, 3, 92, 18, 96, 38, 66, 98, 84, 53, 3, 27, 19, 49, 27, 62, 89, 53, 45, 70, 4, 25, 86, 15, 65, 44, 49, 67, 94, 81, 75, 79, 79, 77, 70, 25, 93, 25, 17, 92, 6, 12, 13, 82, 36, 44, 23, 64, 29, 54, 14, 79, 14, 36, 91, 38, 62, 8, 14, 16, 73, 23, 56, 92, 95, 30, 46, 69, 48, 64, 92, 84, 75, 17, 41, 71, 27, 81, 89, 60, 3, 13, 49, 65, 67, 89, 51, 81, 20, 47, 28, 57, 12, 44, 43, 95, 61, 14, 68, 30, 70, 45, 69, 73, 80, 46, 96, 69, 39, 95, 66, 17, 44, 85, 9, 37, 94, 17, 22, 27, 59, 94, 4, 40, 27, 80, 42, 89, 54, 43, 49, 99, 83, 85, 59, 97, 83, 51, 70, 38, 100, 31, 67, 50, 99, 17, 24, 30, 28, 34, 1, 28, 36, 29, 55, 99, 25, 99, 93, 58, 70, 60, 3, 68, 16, 98, 28, 49, 84, 83, 73, 26, 26, 91, 25, 51, 41, 43, 23, 64, 66, 43, 61, 94, 68, 28, 64, 37, 48, 38, 88, 35, 51, 88, 71, 88, 29, 92, 13, 69, 98, 94, 92, 30, 84, 16, 5, 15, 82, 34, 39, 76, 97, 97, 85, 98, 49, 41, 69, 89, 37, 60, 16, 12, 51, 26, 45, 39, 84, 84, 19, 10, 86, 23, 88, 38, 9, 75, 21, 59, 22, 23, 69, 1, 21, 69, 70, 78, 4, 83, 96, 1, 63, 59, 52, 44, 92, 41, 61, 67, 12, 98, 74, 74, 6, 70, 5, 20, 40, 96, 28, 75, 65, 52, 83, 74, 30, 92, 48, 39, 68, 43, 56, 55, 27, 50, 63, 21, 30, 8, 48, 1, 1, 89, 46, 30, 3, 53, 27, 80, 39, 13, 17, 39, 46, 53, 62, 10, 81, 67, 49, 97, 16, 96, 40, 92, 32, 94, 47, 48, 11, 79, 17, 54, 5, 77, 61, 57, 36, 84, 31, 11, 100, 40, 10, 83, 16, 99, 33, 42, 73, 94, 75, 54, 24, 22, 14, 11, 19, 67, 64, 72, 72, 46, 33, 18, 81, 29, 54, 23, 13, 48, 51, 55, 39, 84, 42, 39, 49, 66, 17, 26, 65, 8, 54, 78, 31, 29, 6, 72, 82, 99, 53, 69, 23, 74, 30, 100, 90, 73, 2, 79, 4, 30, 65, 14, 95, 55, 23, 92, 95, 65, 39, 36, 87, 19, 31, 33, 6, 7, 82, 87, 40, 97, 63, 15, 47, 41, 100, 98, 98, 89, 1, 73, 17, 91, 34, 42, 100, 66, 88, 14, 52, 54, 57, 85, 81, 40, 25, 26, 65, 81, 63, 28, 42, 28, 49, 56, 22, 12, 31, 94, 58, 60, 5, 34, 67, 29, 98, 8, 84, 12, 95, 74, 74, 78, 58, 2, 83, 34, 87, 82, 35, 32, 32, 70, 92, 99, 4, 44, 58, 48, 81, 94, 37, 26, 76, 8, 10, 16, 52, 59, 31, 19, 26, 27, 51, 94, 67, 28, 3, 23, 75, 66, 46, 82, 13, 60, 10, 13, 80, 21, 59, 52, 4, 81, 96, 25, 37, 13, 14, 14, 19, 6, 84, 29, 15, 65, 30, 62, 72, 3, 69, 95, 18, 35, 29, 12, 91, 10, 24, 95, 100, 35, 7, 61, 28, 26, 75, 29, 2, 61, 4, 76, 51, 94, 63, 2, 13, 67, 82, 32, 72, 55, 5, 100, 32, 22, 69, 87, 95, 38, 55, 47, 80, 69, 63, 24, 2, 5, 55, 81, 95, 48, 80, 1, 82, 22, 36, 2, 42, 52, 62, 89, 64, 92, 41, 79, 32, 88, 100, 85, 74, 94, 61, 22, 96, 24, 51, 22, 49, 81, 68, 61, 9, 47, 42, 47, 25, 43, 62, 21, 20, 50, 99, 55, 30, 94, 62, 1, 45, 82, 19, 49, 57, 35, 1, 83, 15, 3, 6, 80, 52, 85, 33, 81, 8, 100, 20, 13, 46, 31, 84, 21, 62, 59, 68, 60, 16, 11, 57, 43, 54, 10, 34, 15, 49, 12, 94, 14, 23, 76, 43, 93, 45, 99, 73, 2, 97, 100, 10, 95, 81, 92, 40, 43, 22, 87, 94, 19, 29, 19, 78, 22, 43, 54, 3, 28, 26, 74, 47, 4, 80, 58, 100, 12, 44, 57, 81, 37, 34, 60, 49, 58, 49, 94, 55, 22, 13, 59, 77, 31, 35, 54, 86, 26, 76, 36, 67, 62, 25, 22, 36, 86, 63, 98, 98, 28, 73, 68, 64, 79, 71, 69, 5, 42, 32, 50, 64, 100, 9, 91, 69, 72, 3, 57, 97, 30, 27, 79, 98, 20, 89, 73, 12, 18, 59, 61, 36, 74, 40, 88, 12, 31, 95, 55, 74, 100, 33, 42, 98, 47, 87, 23, 99, 89, 35, 61, 5, 85, 64, 22, 57, 65, 65, 94, 70, 90, 83, 31, 27, 38, 86, 64, 4, 75, 22, 69, 69, 40, 63, 51, 82, 11, 46, 11, 80, 58, 51, 64, 8, 27, 23, 84, 75, 64, 9, 51, 23, 14, 97, 26, 76, 94, 60, 70, 95, 16, 24, 94, 95, 56, 18, 88, 17, 63, 10, 50, 92, 6, 47, 83, 32, 77, 35, 99, 39, 10, 33, 98, 7, 74, 37, 43, 1, 52, 31, 74, 3, 27, 11, 46, 33, 86, 86, 69, 91, 61, 13, 19, 95, 58, 98, 89, 83, 96, 71, 49, 48, 68, 18, 40, 74, 15, 71, 5, 71, 99, 21, 51, 52, 28, 18, 40, 1, 90, 33, 94, 60, 93, 28, 64, 12, 56, 60, 63, 36, 55, 56, 83, 27, 71, 71, 77, 70, 5, 46, 69, 13, 62, 17, 24, 75, 76, 71, 49, 18, 70, 62, 28, 22, 26, 83, 38, 5, 10, 84, 33, 26, 85, 32, 52, 21, 99, 1, 96, 90, 20, 90, 34, 15, 4, 5, 77, 24, 37, 93, 67, 47, 32, 37, 45, 7, 1, 56, 73, 84, 55, 23, 70, 44, 59, 9, 31, 33, 15, 84, 58, 29, 77, 95, 55, 38, 26, 9, 37, 39, 54, 24, 38, 50, 52, 36, 25, 19, 12, 23, 20, 88, 3, 9, 97, 45, 69, 37, 87, 98, 88, 54, 95, 36, 79, 21, 56, 78, 38, 89, 69, 100, 93, 5, 57, 71, 73, 73, 88, 7, 83, 43, 30, 20, 94, 59, 39, 24, 13, 45, 6, 10, 83, 10, 100, 72, 100, 97, 44, 100, 68, 43, 61, 64, 43, 60, 40, 38, 59, 66, 18, 10, 66, 51, 46, 88, 61, 87, 49, 51, 94, 22, 57, 29, 13, 19, 58, 47, 93, 100, 66, 10, 56, 70, 72, 96, 64, 96, 54, 36, 87, 76, 7, 70, 84, 67, 95, 77, 41, 18, 51, 99, 17, 88, 85, 3, 4, 75, 9, 76, 29, 82, 53, 7, 47, 59, 65, 12, 84, 89, 51, 67, 57, 86, 53, 23, 73, 54, 81, 53, 11, 49, 62, 86, 70, 25, 11, 27, 93, 18, 70, 6, 19, 2, 34, 51, 7, 8, 81, 61, 96, 23, 29, 1, 55, 27, 26, 52, 57, 47, 39, 48, 59, 62, 26, 1, 42, 71, 38, 10, 50, 98, 73, 40, 34, 59, 13, 80, 90, 56, 83, 63, 58, 29, 72, 59, 22, 43, 45, 75, 95, 34, 9, 75, 63, 61, 22, 24, 89, 82, 32, 65, 79, 8, 98, 19, 22, 85, 12, 22, 70, 62, 51, 6, 86, 85, 76, 41, 1, 53, 39, 55, 16, 37, 35, 47, 66, 13, 18, 43, 23, 75, 18, 45, 76, 87, 3, 43, 83, 56, 31, 82, 90, 13, 70, 86, 100, 77, 40, 34, 89, 98, 55, 47, 52, 67, 76, 9, 32, 89, 26, 14, 20, 66, 45, 20, 2, 5, 98, 32, 29, 74, 5, 43, 9, 29, 65, 33, 90, 86, 53, 50, 35, 18, 64, 27, 97, 53, 59, 19, 63, 75, 69, 29, 14, 86, 55, 21, 31, 40, 21, 24, 31, 10, 9, 1, 21, 100, 50, 5, 37, 95, 7, 13, 35, 80, 10, 65, 82, 80, 20, 62, 4, 18, 52, 31, 69, 67, 72, 69, 73, 94, 41, 48, 71, 31, 19, 99, 31, 66, 3, 58, 85, 75, 45, 65, 94, 87, 52, 63, 52, 66, 94, 93, 17, 35, 24, 33, 1, 47, 70, 68, 90, 74, 73, 68, 16, 80, 9, 29, 6, 30, 44, 36, 72, 71, 30, 62, 71, 83, 30, 20, 91, 58, 28, 63, 11, 42, 47, 96, 51, 87, 39, 2, 19, 81, 8, 23, 12, 56, 22, 68, 10, 18, 91, 31, 58, 84, 96, 78, 75, 67, 92, 95, 84, 39, 93, 59, 17, 97, 14, 89, 19, 97, 39, 24, 8, 83, 21, 61, 16, 29, 89, 51, 18, 5, 29, 30, 1, 82, 57, 6, 90, 92, 37, 75, 29, 66, 52, 32, 44, 15, 88, 8, 9, 34, 49, 79, 40, 53, 36, 41, 17, 14, 16, 46, 93, 47, 56, 62, 63, 68, 82, 78, 10, 46, 86, 46, 66, 77, 37, 19, 85, 94, 56, 73, 77, 58, 62, 19, 29, 52, 61, 82, 72, 65, 30, 83, 35, 3, 38, 44, 27, 1, 96, 80, 96, 17, 100, 78, 90, 37, 89, 6, 64, 73, 32, 26, 8, 80, 48, 1, 52, 58, 30, 92, 21, 53, 92, 42, 74, 61, 26, 85, 46, 50, 45, 70, 91, 46, 10, 95, 66, 95, 53, 18, 17, 93, 9, 37, 83, 3, 27, 66, 63, 81, 72, 45, 59, 25, 36, 3, 63, 99, 73, 78, 20, 92, 97, 56, 68, 57, 59, 86, 67, 50, 30, 59, 20, 100, 33, 67, 28, 25, 94, 15, 24, 40, 92, 74, 88, 65, 2, 5, 89, 82, 88, 28, 54, 76, 93, 74, 3, 88, 80, 20, 61, 74, 44, 48, 59, 68, 93, 62, 94, 99, 25, 20, 13, 25, 61, 56, 10, 80, 96, 20, 8, 57, 60, 62, 25, 55, 71, 6, 45, 76, 56, 8, 95, 39, 75, 60, 90, 22, 61, 80, 30, 67, 45, 59, 39, 47, 33, 52, 49, 90, 61, 86, 79, 64, 5, 51, 89, 5, 67, 66, 35, 63, 2, 35, 28, 2, 76, 98, 44, 52, 94, 15, 89, 35, 38, 25, 78, 6, 58, 27, 8, 68, 23, 96, 69, 71, 99, 70, 5, 58, 75, 93, 53, 53, 73, 93, 65, 37, 78, 24, 56, 100, 89, 91, 6, 3, 8, 49, 26, 36, 95, 77, 79, 82, 68, 37, 92, 45, 68, 40, 52, 51, 40, 88, 83, 30, 81, 17, 89, 35, 35, 1, 1, 11, 90, 84, 42, 3, 94, 82, 57, 64, 21, 4, 89, 56, 12, 66, 32, 94, 51, 54, 75, 12, 14, 88, 4, 13, 5, 79, 8, 42, 51, 32, 100, 45, 34, 22, 78, 25, 14, 20, 10, 27, 33, 43, 97, 22, 15, 2, 76, 6, 46, 29, 66, 72, 35, 5, 74, 77, 59, 49, 36, 78, 82, 93, 4, 73, 15, 71, 57, 38, 48, 81, 63, 91, 39, 43, 49, 64, 44, 75, 9, 68, 40, 71, 78, 65, 31, 100, 82, 68, 35, 47, 79, 14, 56, 63, 44, 48, 57, 4, 54, 82, 16, 88, 34, 89, 87, 89, 56, 67, 77, 65, 56, 38, 70, 29, 86, 82, 61, 49, 85, 24, 63, 94, 19, 81, 99, 57, 51, 47, 39, 72, 28, 83, 53, 51, 40, 23, 67, 77, 6, 26, 47, 61, 77, 42, 13, 23, 86, 10, 59, 19, 64, 60, 75, 100, 78, 98, 52, 40, 25, 98, 73, 98, 56, 64, 67, 76, 42, 41, 98, 41, 89, 26, 53, 13, 94, 8, 47, 80, 92, 26, 72, 3, 86, 24, 97, 58, 68, 68, 19, 45, 29, 44, 49, 94, 6, 37, 36, 24, 19, 2, 18, 72, 68, 70, 10, 47, 86, 42, 23, 99, 97, 91, 63, 37, 84, 9, 92, 57, 34, 57, 51, 13, 33, 32, 83, 57, 62, 14, 8, 69, 74, 43, 88, 89, 6, 42, 20, 37, 66, 60, 100, 47, 56, 91, 9, 86, 91, 37, 22, 52, 16, 29, 7, 53, 88, 84, 71, 88, 70, 94, 65, 18, 88, 75, 18, 11, 100, 88, 58, 78, 92, 56, 67, 81, 51, 98, 10, 75, 69, 8, 72, 56, 81, 1, 65, 95, 70, 72, 84, 76, 86, 41, 14, 86, 62, 57, 83, 12, 33, 74, 8, 44, 36, 66, 94, 80, 73, 92, 3, 90, 13, 54, 53, 97, 9, 99, 80, 3, 52, 13, 69, 26, 74, 84, 3, 6, 12, 88, 1, 47, 42, 15, 96, 12, 49, 6, 93, 70, 6, 98, 15, 93, 71, 55, 87, 18, 33, 53, 66, 99, 85, 97, 18, 7, 94, 54, 87, 79, 63, 80, 63, 18, 61, 42, 70, 78, 28, 62, 53, 92, 71, 98, 60, 16, 88, 4, 35, 63, 8, 65, 92, 3, 30, 83, 84, 64, 50, 29, 18, 48, 97, 59, 13, 32, 4, 38, 24, 62, 44, 87, 22, 83, 36, 71, 26, 10, 23, 78, 28, 89, 61, 46, 85, 72, 94, 8, 8, 70, 16, 86, 28, 35, 66, 54, 79, 45, 47, 32, 68, 15, 33, 38, 83, 91, 22, 82, 35, 95, 6, 6, 29, 12, 76, 97, 7, 26, 16, 53, 14, 86, 62, 35, 43, 41, 59, 34, 8, 10, 37, 67, 99, 77, 23, 70, 6, 91, 60, 98, 98, 37, 67, 49, 81, 90, 85, 73, 7, 59, 15, 53, 14, 75, 92, 54, 45, 17, 36, 81, 26, 62, 79, 17, 43, 6, 1, 24, 33, 9, 57, 7, 11, 41, 75, 35, 83, 18, 21, 10, 66, 92, 48, 71, 38, 20, 83, 78, 62, 78, 65, 62, 86, 59, 98, 100, 1, 46, 72, 85, 73, 10, 73, 88, 20, 92, 10, 94, 84, 3, 26, 25, 74, 70, 99, 31, 98, 73, 59, 53, 80, 95, 54, 73, 79, 67, 19, 78, 61, 58, 3, 52, 56, 34, 64, 45, 38, 73, 3, 87, 89, 28, 2, 83, 52, 20, 94, 58, 3, 90, 65, 93, 77, 97, 31, 76, 85, 54, 12, 41, 100, 99, 70, 45, 7, 62, 69, 29, 56, 85, 25, 69, 20, 95, 46, 33, 85, 70, 54, 62, 36, 90, 100, 8, 35, 37, 16, 88, 47, 76, 81, 40, 5, 57, 9, 34, 52, 8, 38, 75, 26, 96, 85, 84, 57, 98, 62, 83, 69, 11, 94, 27, 54, 70, 34, 95, 55, 33, 98, 45, 81, 22, 90, 3, 17, 48, 2, 71, 29, 16, 64, 22, 62, 58, 94, 41, 5, 72, 96, 17, 54, 8, 92, 62, 93, 32, 93, 28, 83, 60, 61, 81, 54, 79, 2, 1, 43, 75, 95, 8, 7, 41, 11, 26, 36, 87, 14, 81, 58, 3, 7, 12, 86, 100, 41, 59, 79, 62, 96, 100, 70, 67, 32, 83, 35, 82, 25, 6, 67, 93, 33, 99, 33, 74, 50, 73, 84, 1, 19, 26, 51, 11, 26, 28, 17, 52, 48, 75, 34, 18, 31, 95, 24, 36, 6, 73, 76, 54, 93, 31, 87, 85, 74, 98, 99, 51, 42, 82, 15, 76, 70, 3, 83, 2, 53, 32, 82, 68, 18, 24, 67, 97, 71, 30, 32, 19, 77, 80, 3, 52, 79, 91, 71, 95, 22, 76, 97, 44, 29, 91, 66, 47, 49, 92, 58, 61, 50, 85, 81, 14, 85, 47, 97, 81, 10, 34, 75, 62, 30, 29, 19, 62, 37, 66, 68, 21, 52, 25, 43, 56, 21, 58, 87, 97, 11, 47, 96, 57, 75, 21, 23, 67, 53, 76, 33, 81, 1, 6, 78, 72, 72, 43, 25, 77, 66, 48, 61, 59, 36, 71, 56, 27, 61, 73, 36, 82, 33, 29, 82, 30, 82, 89, 7, 61, 5, 57, 4, 54, 41, 75, 89, 30, 89, 95, 6, 75, 59, 77, 48, 6, 18, 3, 24, 70, 30, 69, 31, 65, 86, 19, 31, 81, 82, 100, 96, 75, 86, 47, 20, 76, 97, 60, 5, 7, 88, 28, 42, 87, 29, 77, 76, 11, 58, 84, 97, 58, 35, 22, 83, 65, 77, 34, 98, 53, 61, 16, 92, 49, 66, 7, 94, 3, 85, 25, 32, 85, 81, 50, 62, 53, 35, 52, 51, 6, 92, 26, 39, 74, 14, 74, 90, 29, 42, 86, 40, 52, 27, 97, 87, 77, 82, 86, 46, 33, 76, 74, 65, 49, 9, 30, 100, 54, 2, 60, 58, 1, 49, 9, 81, 98, 27, 15, 22, 72, 55, 77, 2, 64, 61, 17, 29, 76, 73, 12, 90, 75, 14, 25, 5, 95, 52, 7, 65, 42, 33, 51, 53, 40, 57, 50, 45, 20, 51, 67, 45, 47, 12, 23, 47, 71, 81, 69, 1, 13, 24, 36, 3, 56, 38, 58, 18, 66, 49, 74, 10, 15, 49, 30, 19, 80, 100, 52, 40, 41, 1, 13, 75, 46, 76, 98, 51, 14, 98, 44, 90, 26, 45, 23, 71, 94, 16, 83, 66, 24, 12, 14, 52, 26, 40, 29, 74, 73, 49, 60, 96, 51, 72, 97, 70, 96, 31, 47, 91, 76, 84, 31, 7, 37, 25, 18, 23, 1, 86, 48, 81, 33, 100, 33, 65, 71, 76, 72, 82, 48, 80, 10, 44, 25, 81, 36, 27, 64, 2, 40, 67, 84, 43, 97, 89, 30, 32, 94, 50, 94, 66, 40, 87, 100, 76, 76, 63, 23, 17, 89, 58, 77, 71, 44, 18, 68, 56, 16, 52, 38, 23, 30, 4, 98, 10, 82, 23, 68, 77, 19, 11, 62, 20, 63, 16, 5, 45, 99, 27, 17, 98, 54, 3, 50, 18, 17, 53, 74, 24, 79, 94, 99, 99, 41, 21, 1, 32, 81, 76, 39, 92, 47, 49, 77, 31, 40, 35, 39, 84, 23, 18, 92, 36, 80, 57, 59, 97, 96, 75, 73, 66, 19, 68, 13, 56, 31, 18, 2, 70, 92, 85, 30, 34, 82, 9, 2, 16, 99, 41, 22, 49, 88, 1, 48, 51, 96, 10, 11, 52, 11, 84, 51, 29, 29, 80, 38, 36, 47, 39, 11, 40, 39, 50, 89, 49, 7, 42, 85, 84, 11, 65, 21, 47, 93, 23, 2, 72, 52, 57, 96, 46, 74, 71, 7, 19, 35, 39, 96, 22, 48, 33, 59, 41, 74, 6, 89, 55, 38, 85, 4, 39, 83, 43, 91, 52, 46, 100, 6, 73, 82, 48, 77, 31, 84, 90, 74, 58, 50, 65, 18, 87, 45, 68, 25, 75, 19, 33, 74, 78, 96, 31, 84, 97, 51, 75, 7, 62, 36, 16, 29, 43, 60, 74, 91, 93, 93, 56, 62, 97, 99, 86, 79, 53, 71, 67, 60, 6, 11, 29, 29, 91, 41, 84, 100, 21, 44, 61, 67, 7, 81, 30, 100, 82, 86, 53, 86, 98, 97, 47, 77, 16, 62, 88, 17, 13, 69, 75, 58, 38, 96, 12, 2, 60, 29, 1, 58, 62, 55, 39, 40, 42, 92, 92, 33, 82, 66, 94, 8, 40, 15, 68, 15, 8, 26, 43, 61, 54, 31, 100, 78, 15, 21, 47, 63, 62, 53, 66, 20, 23, 83, 24, 74, 91, 27, 52, 85, 90, 91, 37, 28, 96, 35, 68, 21, 63, 8, 25, 18, 93, 55, 60, 73, 67, 76, 26, 82, 51, 13, 75, 54, 9, 76, 49, 93, 56, 82, 82, 74, 96, 31, 27, 94, 30, 30, 23, 36, 7, 64, 52, 76, 57, 90, 89, 72, 72, 52, 26, 6, 3, 66, 80, 10, 15, 39, 4, 60, 66, 70, 33, 81, 41, 18, 13, 43, 10, 53, 50, 59, 100, 90, 37, 4, 86, 75, 71, 68, 31, 58, 58, 36, 56, 82, 90, 52, 86, 92, 100, 81, 42, 38, 56, 57, 82, 2, 6, 44, 25, 31, 90, 99, 21, 38, 24, 94, 68, 28, 18, 35, 57, 10, 93, 93, 56, 86, 8, 52, 85, 58, 72, 93, 52, 18, 31, 56, 54, 73, 68, 79, 68, 86, 84, 70, 81, 57, 49, 97, 63, 83, 15, 80, 43, 88, 4, 45, 4, 50, 87, 89, 25, 94, 93, 91, 20, 85, 39, 70, 70, 9, 12, 73, 25, 69, 4, 37, 56, 39, 6, 48, 30, 62, 98, 100, 40, 59, 93, 40, 13, 88, 27, 57, 45, 92, 44, 33, 82, 86, 36, 37, 32, 5, 31, 46, 44, 50, 81, 28, 77, 5, 23, 39, 98, 36, 58, 30, 47, 7, 32, 15, 92, 2, 98, 63, 40, 100, 5, 8, 46, 69, 19, 69, 96, 42, 78, 92, 48, 30, 24, 16, 31, 65, 4, 4, 54, 52, 60, 36, 23, 73, 93, 33, 89, 100, 83, 34, 11, 42, 37, 54, 2, 92, 9, 42, 41, 31, 27, 35, 74, 61, 4, 33, 64, 71, 19, 4, 1, 11, 40, 41, 81, 32, 60, 90, 41, 19, 93, 81, 62, 92, 63, 69, 16, 2, 74, 15, 7, 92, 16, 81, 70, 49, 63, 36, 15, 42, 92, 1, 35, 42, 21, 74, 94, 54, 81, 76, 75, 21, 14, 99, 81, 26, 62, 84, 100, 72, 90, 61, 82, 49, 87, 20, 88, 21, 56, 72, 46, 76, 78, 89, 24, 59, 82, 21, 65, 14, 70, 66, 53, 58, 24, 98, 38, 21, 77, 24, 42, 49, 36, 95, 57, 4, 6, 33, 32, 65, 69, 24, 53, 58, 64, 88, 89, 58, 23, 27, 62, 38, 93, 62, 94, 12, 69, 39, 42, 42, 26, 78, 97, 9, 68, 94, 37, 92, 96, 35, 29, 7, 29, 47, 81, 57, 73, 36, 90, 20, 44, 10, 89, 99, 32, 82, 39, 34, 37, 58, 72, 11, 77, 81, 21, 18, 31, 78, 5, 64, 49, 18, 65, 27, 37, 57, 13, 52, 82, 16, 63, 15, 67, 26, 69, 77, 28, 58, 24, 78, 94, 31, 55, 13, 43, 85, 81, 55, 92, 5, 91, 79, 23, 51, 45, 84, 91, 27, 85, 27, 16, 87, 23, 84, 25, 15, 45, 68, 61, 7, 68, 61, 66, 95, 74, 90, 25, 28, 16, 68, 22, 20, 86, 34, 54, 74, 93, 55, 31, 66, 6, 71, 41, 8, 69, 65, 40, 27, 74, 46, 52, 31, 93, 72, 17, 81, 62, 9, 79, 55, 84, 19, 47, 14, 53, 79, 68, 19, 16, 69, 64, 73, 59, 70, 54, 3, 62, 35, 95, 55, 43, 71, 48, 61, 16, 77, 96, 41, 90, 87, 63, 19, 6, 49, 84, 20, 67, 52, 13, 73, 94, 9, 60, 36, 24, 43, 75, 96, 57, 46, 53, 81, 46, 51, 37, 78, 15, 20, 31, 20, 45, 22, 39, 9, 11, 27, 95, 69, 46, 96, 32, 45, 35, 50, 6, 77, 98, 22, 13, 30, 70, 39, 92, 57, 9, 72, 21, 50, 16, 95, 70, 41, 44, 82, 76, 4, 88, 98, 33, 16, 8, 97, 16, 9, 33, 45, 7, 66, 86, 41, 45, 84, 43, 18, 80, 41, 95, 10, 17, 36, 35, 1, 31, 62, 4, 79, 45, 8, 69, 12, 80, 98, 57, 37, 79, 26, 78, 81, 30, 47, 84, 96, 75, 33, 85, 46, 85, 89, 30, 55, 30, 3, 48, 98, 26, 59, 39, 79, 10, 42, 53, 45, 69, 82, 16, 29, 81, 34, 51, 44, 15, 5, 75, 90, 17, 28, 94, 57, 68, 96, 68, 70, 90, 92, 24, 17, 3, 65, 28, 21, 54, 99, 51, 77, 59, 87, 19, 54, 1, 3, 61, 87, 63, 34, 67, 67, 35, 70, 14, 51, 29, 84, 97, 58, 84, 84, 78, 43, 3, 83, 87, 9, 5, 48, 35, 81, 34, 59, 59, 48, 51, 87, 13, 57, 36, 16, 30, 19, 34, 78, 44, 74, 35, 4, 1, 24, 98, 76, 11, 26, 55, 81, 13, 54, 13, 24, 88, 39, 83, 60, 48, 40, 23, 68, 75, 45, 45, 8, 38, 36, 3, 27, 91, 40, 57, 64, 16, 21, 84, 40, 6, 93, 57, 22, 12, 18, 4, 22, 8, 12, 74, 20, 69, 1, 18, 25, 60, 12, 6, 54, 30, 86, 31, 20, 14, 79, 1, 7, 36, 34, 79, 22, 57, 29, 22, 59, 89, 29, 91, 14, 39, 45, 88, 88, 26, 76, 76, 87, 87, 99, 56, 17, 75, 52, 40, 2, 50, 50, 86, 70, 70, 11, 62, 70, 60, 69, 50, 91, 2, 61, 76, 66, 74, 68, 33, 97, 5, 32, 16, 47, 6, 24, 31, 14, 36, 36, 16, 32, 55, 83, 4, 34, 5, 95, 24, 56, 83, 99, 36, 77, 43, 39, 33, 63, 80, 37, 54, 94, 53, 91, 73, 91, 12, 31, 56, 41, 96, 93, 36, 100, 83, 43, 58, 44, 96, 72, 46, 51, 67, 20, 76, 99, 7, 46, 10, 29, 21, 42, 68, 29, 46, 76, 48, 71, 59, 34, 40, 73, 29, 3, 7, 59, 45, 46, 40, 54, 51, 65, 74, 29, 47, 23, 81, 50, 60, 39, 90, 24, 83, 8, 77, 30, 13, 44, 85, 65, 92, 57, 90, 25, 45, 34, 73, 17, 58, 45, 64, 4, 52, 80, 65, 26, 75, 24, 65, 40, 46, 98, 71, 77, 8, 64, 94, 53, 37, 79, 41, 73, 77, 37, 48, 85, 28, 65, 86, 22, 98, 3, 98, 97, 99, 87, 65, 7, 64, 54, 88, 62, 21, 3, 58, 59, 48, 96, 39, 31, 87, 48, 95, 82, 40, 52, 18, 19, 95, 84, 84, 46, 82, 35, 10, 39, 11, 46, 49, 10, 9, 38, 84, 69, 84, 41, 1, 94, 98, 35, 85, 32, 95, 22, 5, 37, 6, 49, 15, 99, 30, 100, 100, 69, 36, 64, 43, 38, 89, 5, 67, 57, 11, 64, 78, 86, 93, 88, 41, 24, 98, 84, 42, 10, 60, 7, 47, 89, 19, 24, 49, 51, 52, 87, 65, 20, 23, 87, 72, 85, 15, 36, 95, 7, 59, 23, 52, 36, 12, 65, 32, 94, 81, 99, 58, 89, 100, 24, 7, 28, 63, 87, 71, 8, 75, 45, 97, 29, 82, 20, 3, 25, 21, 68, 65, 82, 17, 24, 69, 77, 11, 17, 98, 44, 1, 81, 2, 14, 90, 95, 22, 97, 57, 76, 30, 54, 69, 6, 27, 98, 93, 30, 31, 90, 38, 2, 48, 94, 95, 50, 26, 80, 38, 84, 44, 25, 34, 9, 59, 1, 29, 83, 65, 82, 45, 93, 6, 28, 61, 42, 7, 93, 90, 27, 29, 75, 42, 6, 61, 69, 58, 83, 3, 12, 17, 66, 28, 3, 16, 43, 50, 48, 19, 99, 92, 39, 28, 1, 58, 8, 54, 44, 26, 18, 5, 20, 28, 43, 54, 42, 18, 54, 67, 70, 6, 95, 71, 75, 16, 64, 31, 38, 21, 55, 47, 41, 49, 94, 1, 7, 15, 2, 5, 80, 9, 12, 6, 33, 16, 7, 75, 73, 76, 15, 55, 23, 64, 55, 27, 7, 37, 50, 97, 68, 20, 59, 71, 97, 64, 4, 95, 29, 13, 28, 18, 62, 55, 44, 55, 76, 19, 34, 90, 26, 70, 62, 78, 41, 88, 86, 68, 8, 25, 91, 24, 98, 24, 72, 48, 77, 25, 51, 92, 28, 88, 3, 22, 66, 98, 49, 8, 94, 10, 91, 18, 32, 92, 1, 2, 76, 36, 11, 37, 21, 2, 100, 19, 83, 56, 43, 21, 91, 59, 49, 98, 11, 73, 69, 35, 56, 49, 41, 98, 74, 100, 29, 100, 72, 26, 47, 5, 10, 67, 92, 76, 43, 20, 95, 78, 84, 4, 28, 56, 89, 57, 84, 35, 94, 80, 81, 40, 3, 28, 45, 59, 31, 5, 21, 26, 21, 27, 4, 40, 60, 40, 90, 33, 70, 90, 72, 8, 37, 17, 1, 87, 15, 98, 7, 55, 62, 29, 60, 34, 30, 65, 70, 82, 14, 68, 86, 78, 14, 25, 59, 33, 36, 63, 31, 64, 95, 55, 96, 38, 63, 100, 85, 38, 75, 72, 77, 14, 68, 42, 39, 1, 21, 21, 56, 34, 27, 64, 60, 69, 14, 64, 95, 17, 70, 29, 28, 52, 55, 53, 81, 14, 1, 61, 51, 19, 34, 100, 59, 80, 19, 54, 12, 17, 59, 47, 66, 26, 82, 71, 1, 16, 7, 63, 75, 72, 92, 12, 57, 78, 29, 94, 10, 92, 3, 57, 6, 57, 66, 88, 5, 18, 50, 22, 51, 67, 87, 33, 1, 77, 59, 70, 88, 46, 7, 59, 58, 3, 14, 67, 56, 88, 73, 65, 14, 63, 84, 95, 2, 58, 63, 78, 15, 60, 18, 23, 15, 95, 99, 92, 22, 95, 24, 85, 78, 22, 19, 94, 14, 9, 93, 80, 36, 72, 16, 64, 78, 27, 50, 18, 47, 94, 61, 90, 22, 73, 86, 56, 35, 6, 97, 30, 26, 22, 48, 21, 33, 17, 13, 84, 81, 60, 16, 20, 78, 63, 56, 40, 6, 38, 70, 69, 91, 53, 52, 2, 74, 99, 100, 94, 48, 90, 97, 3, 63, 50, 83, 58, 83, 35, 97, 37, 28, 26, 84, 88, 88, 46, 20, 91, 26, 12, 23, 90, 99, 94, 75, 47, 65, 68, 75, 27, 14, 10, 66, 29, 46, 90, 71, 75, 94, 62, 50, 18, 18, 65, 66, 71, 96, 56, 34, 77, 86, 6, 97, 93, 23, 24, 76, 82, 37, 45, 65, 92, 85, 70, 58, 68, 40, 62, 72, 86, 1, 25, 18, 53, 26, 77, 34, 54, 84, 41, 52, 71, 82, 4, 41, 5, 14, 66, 29, 17, 39, 18, 41, 4, 74, 57, 76, 89, 47, 88, 22, 34, 70, 28, 19, 84, 16, 20, 28, 54, 39, 43, 35, 5, 14, 44, 13, 10, 27, 95, 38, 23, 87, 78, 17, 60, 81, 33, 66, 18, 59, 21, 25, 50, 44, 2, 86, 49, 31, 32, 70, 48, 13, 60, 97, 92, 32, 62, 81, 47, 41, 16, 39, 8, 30, 25, 47, 16, 68, 68, 56, 98, 5, 80, 34, 9, 77, 28, 19, 91, 65, 25, 23, 58, 71, 33, 65, 87, 8, 26, 94, 5, 93, 97, 1, 57, 32, 52, 72, 70, 68, 78, 13, 59, 3, 5, 16, 47, 24, 65, 75, 5, 21, 73, 4, 48, 58, 32, 79, 74, 35, 55, 42, 33, 34, 3, 98, 72, 46, 52, 94, 3, 90, 8, 37, 92, 4, 37, 83, 28, 66, 15, 16, 56, 76, 10, 81, 84, 86, 6, 59, 80, 35, 75, 27, 63, 3, 92, 34, 16, 96, 25, 77, 90, 41, 39, 49, 2, 30, 56, 58, 77, 35, 82, 15, 73, 97, 10, 98, 36, 88, 85, 95, 11, 72, 14, 7, 80, 81, 38, 83, 50, 12, 21, 16, 22, 16, 11, 40, 70, 19, 62, 94, 33, 99, 2, 5, 43, 34, 12, 45, 21, 58, 10, 27, 16, 37, 68, 50, 58, 48, 28, 40, 58, 47, 66, 25, 36, 17, 9, 60, 88, 62, 30, 11, 95, 29, 34, 28, 58, 68, 28, 62, 27, 98, 91, 87, 18, 68, 92, 68, 20, 90, 17, 83, 78, 81, 84, 39, 69, 73, 32, 90, 34, 34, 68, 19, 83, 72, 38, 4, 63, 41, 55, 7, 79, 39, 81, 10, 65, 43, 98, 66, 41, 83, 83, 79, 54, 10, 70, 95, 22, 9, 93, 62, 29, 15, 40, 49, 11, 67, 73, 16, 3, 86, 90, 50, 52, 9, 6, 91, 49, 92, 27, 3, 97, 21, 53, 53, 45, 92, 31, 44, 9, 77, 23, 29, 49, 61, 31, 41, 80, 27, 83, 63, 47, 81, 20, 90, 65, 68, 64, 19, 63, 24, 39, 81, 32, 72, 48, 81, 45, 69, 6, 15, 86, 29, 37, 78, 88, 50, 82, 91, 77, 76, 53, 96, 57, 94, 9, 53, 66, 53, 28, 76, 54, 74, 9, 14, 38, 58, 92, 61, 95, 79, 7, 62, 65, 5, 61, 68, 51, 31, 68, 50, 19, 100, 65, 36, 36, 30, 51, 53, 65, 74, 64, 31, 24, 97, 7, 48, 92, 57, 6, 80, 8, 69, 63, 2, 42, 72, 90, 54, 31, 48, 28, 97, 94, 85, 23, 38, 45, 37, 11, 76, 30, 74, 1, 21, 19, 71, 81, 96, 53, 3, 58, 94, 35, 89, 86, 99, 40, 38, 74, 57, 15, 13, 58, 1, 43, 4, 68, 40, 3, 32, 44, 12, 74, 48, 94, 65, 99, 6, 46, 33, 91, 92, 14, 94, 10, 58, 83, 22, 35, 23, 50, 6, 52, 67, 61, 59, 97, 89, 53, 40, 47, 34, 89, 88, 41, 24, 45, 70, 56, 69, 24, 71, 47, 20, 71, 12, 78, 6, 21, 89, 18, 94, 71, 66, 98, 19, 3, 54, 1, 75, 25, 71, 71, 96, 28, 27, 72, 61, 95, 79, 19, 99, 98, 10, 40, 50, 90, 16, 9, 85, 86, 46, 17, 52, 13, 60, 48, 84, 41, 51, 49, 91, 73, 63, 48, 2, 9, 59, 80, 63, 49, 34, 64, 11, 7, 49, 24, 51, 26, 51, 31, 11, 13, 91, 85, 17, 87, 39, 77, 97, 84, 79, 63, 20, 86, 75, 18, 44, 57, 74, 26, 9, 73, 57, 78, 41, 53, 69, 50, 52, 91, 41, 68, 51, 8, 57, 48, 38, 15, 60, 1, 14, 95, 59, 16, 48, 64, 4, 89, 60, 92, 54, 3, 44, 28, 84, 16, 95, 91, 68, 17, 59, 31, 74, 9, 92, 61, 65, 16, 7, 41, 90, 81, 32, 34, 65, 2, 61, 43, 58, 19, 65, 17, 59, 92, 37, 26, 38, 75, 88, 7, 32, 5, 27, 86, 66, 78, 29, 22, 71, 71, 8, 18, 42, 91, 11, 98, 17, 15, 96, 63, 54, 35, 14, 7, 89, 39, 63, 91, 95, 92, 23, 81, 51, 54, 18, 33, 86, 57, 80, 39, 88, 11, 48, 9, 33, 21, 12, 28, 37, 85, 17, 41, 41, 27, 32, 51, 68, 70, 65, 59, 20, 40, 58, 88, 4, 64, 89, 89, 24, 81, 40, 68, 19, 65, 32, 100, 61, 19, 100, 47, 76, 69, 34, 35, 36, 51, 11, 56, 64, 55, 38, 6, 34, 1, 92, 5, 23, 58, 29, 3, 66, 88, 84, 71, 67, 13, 47, 23, 66, 25, 10, 60, 78, 58, 92, 11, 24, 5, 12, 24, 52, 99, 33, 37, 43, 32, 81, 36, 27, 65, 74, 60, 98, 38, 64, 37, 51, 20, 5, 98, 8, 97, 37, 15, 92, 21, 95, 61, 14, 29, 12, 57, 13, 15, 50, 55, 26, 15, 63, 80, 33, 2, 6, 73, 62, 67, 10, 13, 21, 9, 39, 8, 32, 74, 97, 72, 58, 88, 34, 91, 24, 33, 87, 100, 95, 78, 89, 21, 95, 45, 66, 18, 56, 29, 43, 9, 68, 3, 34, 42, 93, 47, 6, 3, 16, 29, 32, 87, 25, 29, 75, 6, 78, 48, 55, 47, 65, 84, 32, 43, 83, 44, 37, 22, 60, 74, 14, 73, 62, 9, 33, 48, 58, 9, 46, 80, 48, 100, 39, 5, 93, 76, 39, 48, 56, 59, 62, 5, 51, 45, 21, 46, 48, 46, 95, 55, 11, 14, 92, 67, 95, 29, 100, 12, 13, 48, 7, 99, 67, 96, 8, 5, 41, 17, 24, 16, 85, 15, 75, 57, 53, 93, 30, 41, 62, 12, 62, 59, 79, 82, 72, 27, 35, 30, 24, 42, 89, 63, 10, 54, 81, 71, 96, 39, 31, 77, 52, 28, 8, 72, 77, 95, 44, 39, 25, 82, 7, 29, 32, 90, 54, 43, 81, 30, 65, 32, 94, 66, 72, 15, 23, 35, 8, 5, 57, 30, 16, 94, 1, 39, 76, 95, 1, 13, 4, 40, 45, 13, 83, 44, 39, 24, 3, 63, 58, 15, 22, 55, 60, 83, 7, 76, 16, 79, 34, 68, 99, 93, 81, 42, 77, 49, 90, 8, 24, 19, 82, 63, 22, 61, 56, 30, 74, 54, 8, 39, 62, 39, 43, 1, 14, 61, 27, 52, 69, 54, 40, 93, 100, 10, 17, 79, 2, 5, 95, 81, 42, 86, 100, 34, 84, 82, 23, 50, 39, 62, 57, 4, 93, 35, 100, 50, 68, 67, 17, 34, 1, 61, 6, 31, 19, 21, 5, 24, 98, 48, 94, 1, 11, 32, 52, 89, 5, 78, 78, 19, 56, 19, 71, 41, 46, 93, 16, 66, 47, 62, 64, 95, 82, 59, 61, 68, 95, 89, 18, 24, 68, 55, 2, 93, 47, 66, 48, 92, 65, 44, 64, 67, 75, 7, 75, 88, 14, 45, 17, 83, 4, 9, 98, 32, 53, 85, 89, 60, 74, 91, 55, 67, 74, 56, 13, 90, 42, 28, 32, 15, 98, 99, 81, 33, 61, 43, 78, 95, 74, 58, 89, 72, 96, 34, 78, 19, 70, 69, 99, 4, 95, 76, 94, 40, 40, 85, 83, 10, 15, 49, 85, 62, 26, 2, 66, 87, 32, 42, 78, 19, 51, 100, 79, 8, 21, 10, 18, 91, 27, 76, 62, 10, 81, 33, 55, 89, 10, 2, 45, 80, 18, 84, 39, 34, 19, 52, 41, 67, 62, 21, 95, 77, 74, 19, 88, 85, 68, 9, 31, 86, 61, 44, 41, 36, 42, 70, 21, 76, 48, 58, 63, 82, 82, 73, 65, 100, 88, 20, 96, 19, 40, 80, 70, 31, 63, 12, 8, 21, 42, 5, 17, 27, 6, 20, 40, 50, 36, 78, 94, 9, 86, 31, 47, 39, 75, 80, 21, 29, 18, 32, 88, 73, 29, 88, 93, 20, 47, 81, 79, 49, 22, 9, 83, 85, 7, 20, 62, 14, 100, 35, 97, 85, 35, 58, 83, 67, 89, 77, 17, 88, 51, 82, 88, 71, 93, 16, 81, 32, 83, 11, 78, 25, 26, 71, 9, 30, 16, 25, 70, 67, 86, 8, 23, 46, 92, 98, 63, 9, 89, 89, 59, 43, 86, 80, 98, 96, 78, 24, 2, 87, 96, 32, 75, 20, 93, 45, 74, 88, 81, 6, 40, 89, 22, 16, 21, 93, 91, 97, 85, 3, 7, 77, 51, 97, 46, 99, 59, 31, 95, 39, 39, 17, 75, 27, 48, 69, 39, 77, 31, 74, 46, 28, 31, 53, 89, 12, 44, 12, 27, 18, 75, 94, 18, 90, 42, 64, 16, 28, 58, 19, 27, 38, 87, 48, 44, 89, 66, 11, 13, 91, 94, 72, 91, 96, 18, 65, 14, 28, 60, 22, 77, 73, 59, 99, 54, 29, 23, 41, 32, 81, 76, 51, 14, 69, 62, 94, 91, 36, 16, 7, 22, 99, 59, 96, 35, 24, 13, 9, 74, 48, 75, 97, 75, 10, 73, 50, 59, 48, 94, 34, 56, 48, 25, 17, 80, 11, 40, 56, 74, 83, 22, 39, 91, 94, 45, 39, 92, 48, 25, 60, 77, 1, 13, 91, 16, 37, 94, 98, 30, 98, 13, 38, 55, 20, 26, 37, 83, 23, 91, 50, 81, 81, 35, 87, 88, 36, 50, 12, 18, 99, 47, 94, 70, 84, 18, 2, 33, 84, 76, 92, 93, 21, 33, 83, 57, 42, 1, 47, 64, 33, 51, 19, 22, 28, 83, 90, 84, 68, 39, 20, 68, 61, 41, 37, 96, 35, 50, 82, 65, 45, 40, 24, 64, 34, 7, 39, 57, 62, 95, 51, 92, 67, 76, 34, 89, 7, 38, 22, 8, 90, 65, 88, 93, 36, 24, 63, 22, 14, 72, 6, 48, 11, 40, 80, 58, 35, 82, 65, 26, 87, 51, 30, 66, 38, 63, 72, 87, 66, 72, 34, 9, 47, 55, 41, 2, 69, 29, 49, 69, 63, 96, 5, 68, 47, 27, 33, 1, 90, 58, 71, 92, 7, 7, 33, 77, 55, 59, 51, 50, 40, 34, 64, 3, 2, 18, 5, 53, 3, 33, 76, 87, 53, 51, 70, 99, 76, 95, 31, 37, 83, 57, 81, 88, 78, 51, 38, 44, 75, 80, 73, 79, 14, 17, 43, 65, 51, 90, 85, 45, 54, 1, 58, 1, 97, 57, 25, 92, 87, 90, 79, 9, 89, 53, 52, 23, 53, 55, 28, 85, 22, 32, 50, 23, 91, 41, 65, 76, 26, 55, 56, 47, 53, 99, 62, 17, 91, 69, 1, 47, 16, 12, 86, 75, 64, 38, 88, 98, 72, 49, 44, 73, 59, 55, 91, 87, 32, 85, 14, 46, 25, 71, 81, 18, 18, 95, 14, 49, 87, 37, 90, 78, 92, 24, 5, 36, 65, 35, 89, 30, 31, 8, 10, 74, 34, 62, 71, 43, 85, 44, 13, 100, 4, 27, 78, 36, 51, 81, 84, 38, 84, 55, 68, 36, 86, 65, 70, 98, 91, 83, 50, 28, 36, 85, 72, 23, 23, 53, 42, 48, 63, 77, 55, 56, 12, 36, 99, 32, 61, 12, 93, 41, 9, 5, 97, 54, 2, 92, 72, 9, 64, 46, 95, 55, 22, 90, 33, 2, 50, 50, 95, 2, 95, 59, 88, 18, 17, 26, 79, 89, 69, 67, 94, 16, 52, 88, 67, 33, 73, 71, 44, 92, 10, 31, 95, 56, 47, 61, 96, 89, 73, 84, 15, 79, 61, 64, 27, 32, 65, 98, 66, 91, 89, 68, 1, 63, 84, 41, 69, 78, 21, 88, 93, 28, 13, 17, 41, 50, 17, 7, 60, 53, 100, 7, 57, 75, 74, 53, 65, 57, 40, 73, 97, 93, 55, 37, 72, 2, 41, 93, 54, 32, 96, 51, 19, 4, 30, 96, 45, 35, 59, 65, 2, 74, 56, 98, 66, 18, 71, 81, 49, 65, 37, 49, 98, 95, 23, 34, 56, 29, 23, 21, 4, 24, 7, 15, 49, 11, 87, 26, 26, 3, 94, 91, 21, 100, 59, 77, 8, 11, 64, 18, 6, 88, 46, 83, 8, 67, 88, 43, 11, 11, 62, 48, 95, 86, 89, 94, 97, 3, 90, 68, 65, 44, 31, 59, 35, 26, 31, 34, 27, 1, 14, 16, 3, 28, 25, 63, 36, 76, 80, 1, 100, 34, 20, 44, 65, 80, 10, 84, 68, 96, 82, 1, 46, 18, 40, 79, 26, 54, 37, 91, 98, 20, 56, 96, 27, 48, 69, 100, 9, 71, 14, 70, 18, 30, 37, 64, 9, 38, 77, 15, 35, 72, 92, 21, 55, 10, 46, 77, 1, 26, 2, 12, 42, 59, 73, 29, 94, 90, 55, 67, 80, 4, 19, 100, 34, 35, 96, 98, 81, 52, 49, 59, 34, 7, 9, 85, 60, 16, 60, 40, 91, 14, 38, 26, 25, 9, 66, 13, 50, 90, 14, 98, 73, 44, 33, 23, 42, 18, 29, 73, 30, 39, 76, 70, 89, 22, 5, 8, 77, 56, 33, 67, 83, 7, 7, 96, 83, 57, 62, 85, 80, 42, 67, 47, 65, 45, 76, 58, 94, 7, 21, 92, 20, 28, 28, 61, 99, 45, 44, 69, 21, 8, 89, 26, 12, 20, 4, 63, 22, 82, 26, 91, 11, 36, 63, 41, 23, 95, 97, 28, 68, 8, 78, 53, 45, 97, 36, 13, 47, 44, 73, 7, 91, 54, 40, 76, 51, 28, 57, 5, 11, 49, 24, 50, 100, 74, 97, 9, 95, 66, 37, 26, 92, 59, 37, 21, 33, 96, 94, 34, 37, 99, 66, 64, 79, 11, 17, 18, 21, 63, 58, 70, 92, 74, 89, 96, 53, 56, 22, 65, 48, 9, 89, 66, 29, 94, 64, 21, 86, 87, 33, 58, 86, 77, 47, 29, 74, 69, 35, 53, 75, 4, 86, 74, 76, 98, 82, 88, 81, 9, 39, 95, 4, 76, 7, 13, 16, 6, 56, 62, 51, 47, 25, 84, 97, 42, 59, 15, 54, 54, 27, 81, 22, 60, 51, 55, 81, 91, 44, 46, 50, 10, 93, 24, 28, 83, 44, 22, 32, 64, 39, 64, 87, 7, 69, 64, 96, 76, 56, 84, 40, 68, 69, 54, 22, 47, 68, 97, 63, 89, 58, 94, 21, 4, 50, 23, 85, 57, 50, 70, 66, 83, 91, 76, 47, 80, 36, 20, 48, 75, 94, 95, 81, 51, 98, 33, 32, 69, 40, 86, 42, 55, 57, 2, 95, 40, 79, 83, 25, 22, 60, 2, 68, 26, 40, 68, 65, 29, 35, 99, 16, 27, 64, 92, 74, 33, 73, 56, 39, 1, 1, 74, 91, 17, 95, 83, 71, 75, 37, 39, 63, 62, 21, 33, 14, 9, 38, 5, 96, 65, 43, 30, 47, 3, 42, 31, 59, 43, 83, 25, 12, 57, 88, 48, 27, 55, 94, 33, 55, 18, 83, 47, 52, 10, 98, 66, 95, 96, 69, 28, 26, 87, 64, 77, 51, 3, 82, 54, 93, 74, 81, 60, 25, 12, 62, 3, 69, 86, 44, 47, 61, 90, 87, 71, 69, 96, 78, 5, 63, 57, 82, 19, 53, 15, 98, 59, 81, 36, 82, 39, 18, 99, 17, 90, 45, 53, 49, 6, 79, 7, 31, 64, 23, 97, 62, 24, 89, 20, 41, 49, 40, 67, 49, 49, 93, 54, 21, 17, 3, 48, 84, 55, 85, 24, 21, 10, 33, 78, 49, 23, 80, 48, 94, 38, 34, 95, 54, 18, 81, 44, 65, 7, 31, 78, 74, 11, 72, 23, 17, 40, 57, 8, 6, 71, 32, 92, 6, 94, 69, 16, 35, 9, 25, 1, 25, 43, 55, 21, 8, 68, 56, 9, 41, 1, 99, 64, 26, 35, 20, 89, 98, 62, 3, 78, 55, 38, 64, 46, 61, 60, 91, 46, 62, 31, 62, 75, 65, 9, 93, 64, 99, 16, 73, 73, 38, 71, 83, 95, 2, 35, 45, 50, 3, 17, 7, 22, 53, 51, 26, 19, 73, 86, 100, 96, 63, 12, 23, 94, 69, 45, 72, 86, 38, 87, 85, 73, 33, 85, 62, 80, 13, 50, 40, 48, 15, 71, 70, 72, 21, 39, 42, 75, 56, 38, 17, 14, 67, 95, 6, 13, 26, 64, 1, 95, 48, 97, 54, 28, 2, 23, 26, 62, 60, 58, 79, 56, 26, 10, 83, 2, 58, 19, 90, 70, 4, 13, 15, 64, 29, 95, 33, 60, 83, 59, 22, 50, 26, 36, 76, 49, 23, 30, 56, 18, 3, 30, 26, 53, 98, 11, 23, 93, 87, 26, 20, 86, 70, 87, 92, 88, 97, 74, 25, 18, 62, 13, 82, 34, 85, 75, 22, 30, 82, 24, 12, 83, 38, 6, 17, 85, 3, 49, 70, 78, 36, 67, 1, 94, 58, 51, 58, 4, 63, 7, 57, 19, 97, 24, 83, 97, 34, 84, 77, 16, 99, 58, 60, 39, 74, 16, 36, 64, 46, 2, 67, 73, 1, 38, 77, 36, 93, 27, 40, 7, 71, 63, 31, 99, 66, 66, 49, 17, 75, 49, 85, 8, 32, 3, 7, 35, 91, 56, 71, 25, 89, 38, 94, 94, 97, 29, 63, 16, 48, 54, 90, 46, 16, 30, 27, 56, 36, 92, 14, 62, 8, 62, 56, 25, 71, 16, 99, 55, 17, 49, 37, 92, 69, 17, 43, 100, 42, 96, 46, 1, 26, 65, 63, 8, 71, 40, 69, 45, 48, 53, 64, 17, 61, 53, 31, 57, 50, 64, 64, 10, 41, 35, 54, 43, 9, 58, 72, 70, 1, 67, 43, 8, 69, 45, 57, 97, 86, 81, 53, 95, 42, 70, 100, 24, 90, 2, 82, 62, 70, 96, 67, 19, 65, 31, 5, 64, 27, 70, 49, 79, 42, 70, 33, 35, 100, 29, 97, 62, 63, 70, 12, 40, 68, 48, 50, 56, 11, 76, 29, 56, 28, 21, 21, 55, 98, 37, 34, 9, 89, 46, 35, 27, 64, 8, 53, 67, 92, 71, 86, 84, 6, 54, 75, 30, 3, 79, 92, 6, 94, 60, 68, 38, 16, 59, 7, 86, 83, 73, 93, 90, 95, 95, 84, 32, 3, 88, 7, 58, 49, 53, 11, 47, 17, 74, 70, 57, 97, 42, 81, 5, 14, 7, 43, 5, 41, 27, 2, 14, 13, 52, 58, 36, 21, 5, 2, 35, 73, 93, 71, 14, 39, 21, 29, 23, 33, 81, 10, 13, 55, 78, 27, 88, 37, 9, 28, 100, 64, 35, 31, 16, 69, 48, 36, 24, 29, 77, 84, 79, 94, 28, 32, 38, 9, 65, 85, 83, 10, 72, 42, 58, 38, 50, 17, 76, 45, 9, 67, 9, 89, 60, 37, 22, 23, 74, 65, 52, 67, 44, 80, 36, 31, 79, 83, 4, 22, 42, 80, 2, 2, 11, 61, 29, 47, 4, 90, 54, 21, 51, 84, 6, 39, 7, 5, 64, 23, 42, 84, 12, 8, 33, 78, 26, 28, 9, 61, 33, 51, 30, 11, 56, 5, 22, 52, 64, 81, 20, 81, 14, 63, 38, 4, 27, 86, 96, 61, 34, 91, 6, 18, 40, 90, 58, 82, 68, 45, 86, 56, 54, 21, 41, 33, 75, 76, 28, 81, 12, 93, 24, 55, 59, 79, 50, 57, 48, 33, 88, 22, 44, 100, 59, 96, 95, 4, 49, 45, 11, 55, 76, 22, 57, 10, 60, 18, 17, 11, 23, 4, 55, 67, 2, 6, 91, 79, 30, 34, 5, 21, 41, 56, 74, 52, 40, 33, 74, 24, 69, 39, 11, 47, 6, 87, 27, 77, 42, 40, 78, 59, 61, 30, 77, 55, 22, 83, 18, 94, 71, 97, 65, 97, 15, 65, 20, 91, 37, 10, 61, 18, 44, 50, 86, 88, 62, 77, 6, 65, 83, 85, 6, 71, 58, 84, 79, 5, 94, 29, 61, 38, 92, 99, 42, 71, 62, 41, 84, 45, 92, 83, 81, 49, 4, 24, 90, 71, 10, 82, 92, 14, 47, 64, 90, 6, 17, 44, 80, 64, 93, 83, 48, 82, 36, 70, 10, 50, 52, 33, 32, 50, 3, 15, 94, 73, 44, 100, 35, 39, 99, 84, 56, 20, 48, 35, 16, 49, 86, 82, 29, 72, 17, 38, 95, 35, 9, 94, 70, 33, 98, 90, 56, 40, 54, 61, 66, 84, 35, 2, 47, 51, 7, 9, 45, 46, 62, 54, 26, 80, 17, 77, 94, 69, 71, 59, 16, 16, 61, 88, 42, 13, 99, 96, 54, 6, 44, 23, 8, 6, 82, 14, 7, 38, 80, 25, 77, 96, 78, 28, 50, 69, 19, 93, 70, 62, 87, 21, 16, 13, 23, 92, 86, 82, 76, 1, 75, 32, 15, 49, 29, 56, 8, 41, 57, 71, 85, 50, 56, 15, 93, 95, 100, 84, 87, 82, 69, 8, 99, 74, 45, 8, 49, 91, 16, 28, 33, 49, 91, 62, 5, 80, 48, 3, 60, 67, 83, 60, 94, 3, 62, 52, 21, 79, 55, 83, 19, 17, 76, 41, 62, 84, 26, 83, 53, 20, 50, 93, 34, 34, 86, 84, 81, 46, 52, 74, 32, 33, 80, 40, 9, 100, 67, 41, 53, 44, 87, 40, 86, 67, 46, 30, 85, 75, 12, 94, 3, 92, 19, 37, 95, 13, 38, 82, 96, 56, 6, 63, 79, 24, 63, 33, 93, 75, 7, 21, 21, 89, 69, 18, 50, 46, 6, 51, 42, 97, 50, 63, 79, 91, 76, 23, 30, 79, 80, 70, 45, 69, 21, 54, 70, 33, 61, 88, 90, 76, 94, 6, 11, 11, 31, 23, 51, 95, 46, 48, 86, 43, 5, 63, 19, 8, 18, 5, 1, 62, 9, 57, 27, 86, 98, 72, 78, 37, 8, 97, 14, 86, 91, 29, 79, 73, 15, 48, 66, 72, 39, 76, 50, 5, 36, 68, 63, 93, 99, 67, 54, 9, 82, 40, 76, 38, 49, 91, 57, 37, 70, 19, 96, 32, 100, 15, 72, 24, 50, 96, 87, 6, 42, 100, 92, 93, 83, 70, 68, 39, 46, 89, 12, 75, 100, 29, 29, 96, 35, 64, 85, 52, 80, 89, 4, 31, 71, 66, 96, 60, 15, 39, 29, 91, 31, 12, 81, 82, 40, 100, 7, 97, 16, 53, 52, 88, 97, 61, 23, 68, 30, 37, 51, 28, 36, 88, 17, 59, 18, 31, 52, 58, 96, 66, 67, 91, 100, 42, 99, 60, 83, 82, 66, 63, 6, 70, 56, 31, 18, 38, 40, 28, 52, 87, 39, 16, 77, 19, 84, 18, 57, 33, 42, 28, 13, 41, 65, 70, 93, 6, 95, 5, 38, 72, 79, 56, 86, 33, 88, 98, 61, 88, 15, 16, 87, 57, 3, 16, 58, 21, 45, 15, 97, 69, 66, 83, 37, 26, 13, 15, 47, 71, 84, 85, 21, 69, 25, 63, 6, 43, 46, 56, 38, 15, 15, 50, 70, 54, 11, 79, 9, 72, 87, 53, 14, 76, 29, 95, 78, 19, 85, 9, 36, 10, 67, 41, 48, 77, 66, 18, 87, 92, 28, 4, 64, 69, 62, 15, 5, 70, 89, 78, 57, 96, 21, 66, 44, 100, 38, 95, 14, 78, 18, 21, 43, 94, 56, 3, 70, 88, 47, 71, 11, 31, 46, 20, 51, 19, 75, 7, 77, 85, 9, 72, 86, 37, 77, 36, 85, 31, 65, 3, 40, 86, 33, 77, 22, 76, 28, 34, 67, 13, 44, 23, 90, 80, 65, 69, 49, 76, 52, 13, 34, 22, 36, 87, 24, 32, 83, 70, 55, 5, 9, 30, 84, 69, 18, 85, 65, 86, 46, 55, 25, 42, 27, 59, 37, 23, 50, 90, 40, 25, 88, 84, 82, 45, 6, 59, 71, 32, 6, 39, 31, 78, 37, 42, 87, 47, 3, 57, 56, 46, 59, 78, 25, 20, 47, 31, 98, 87, 6, 54, 74, 25, 38, 43, 22, 58, 16, 54, 1, 36, 59, 88, 35, 15, 29, 92, 27, 68, 73, 65, 82, 81, 75, 28, 37, 52, 15, 61, 1, 18, 15, 70, 43, 19, 70, 45, 11, 91, 23, 10, 35, 73, 40, 21, 26, 93, 10, 20, 43, 1, 81, 29, 20, 29, 52, 10, 57, 7, 92, 24, 14, 91, 5, 87, 43, 51, 59, 66, 4, 95, 87, 89, 6, 85, 29, 12, 76, 39, 35, 75, 80, 53, 89, 90, 23, 87, 23, 3, 54, 25, 62, 2, 28, 43, 40, 40, 100, 52, 16, 90, 9, 23, 77, 44, 31, 16, 75, 99, 13, 96, 62, 68, 23, 99, 72, 14, 13, 49, 41, 95, 45, 20, 2, 6, 33, 21, 71, 34, 63, 47, 15, 66, 82, 22, 75, 40, 25, 88, 7, 88, 41, 68, 56, 19, 22, 69, 20, 1, 10, 88, 8, 97, 42, 24, 78, 34, 62, 37, 10, 86, 92, 19, 55, 8, 22, 32, 53, 42, 33, 38, 79, 8, 84, 73, 39, 28, 18, 20, 91, 5, 41, 78, 4, 49, 3, 41, 22, 7, 69, 96, 86, 65, 50, 21, 67, 57, 93, 2, 26, 30, 59, 8, 36, 53, 7, 26, 77, 99, 69, 11, 56, 27, 62, 52, 8, 43, 58, 86, 32, 28, 58, 31, 20, 34, 72, 21, 15, 27, 28, 45, 85, 56, 56, 15, 55, 10, 63, 27, 99, 63, 21, 81, 19, 7, 40, 86, 77, 87, 31, 75, 29, 88, 95, 23, 34, 37, 43, 5, 74, 22, 63, 45, 83, 44, 81, 32, 29, 78, 40, 66, 2, 90, 15, 78, 11, 72, 52, 88, 89, 71, 12, 54, 87, 43, 35, 26, 90, 87, 98, 78, 55, 72, 78, 42, 75, 53, 7, 1, 45, 49, 38, 41, 62, 62, 45, 90, 14, 13, 44, 94, 72, 35, 7, 63, 49, 100, 78, 12, 32, 54, 50, 52, 93, 22, 77, 33, 13, 85, 66, 53, 65, 38, 98, 73, 17, 24, 74, 29, 77, 82, 84, 28, 24, 52, 65, 78, 11, 27, 36, 8, 21, 76, 79, 37, 28, 19, 29, 11, 63, 79, 5, 22, 30, 39, 4, 96, 80, 6, 93, 80, 43, 15, 55, 63, 14, 20, 27, 98, 32, 68, 83, 46, 80, 37, 48, 55, 41, 50, 22, 87, 68, 52, 7, 100, 3, 19, 10, 67, 6, 79, 87, 2, 24, 52, 98, 80, 50, 97, 24, 40, 100, 22, 47, 100, 27, 74, 5, 42, 53, 65, 95, 35, 9, 43, 79, 1, 92, 63, 82, 99, 68, 64, 81, 90, 42, 3, 26, 28, 71, 91, 14, 88, 24, 83, 14, 24, 76, 19, 80, 64, 22, 16, 7, 51, 8, 30, 18, 43, 41, 40, 50, 91, 66, 62, 26, 8, 5, 3, 48, 27, 80, 35, 80, 35, 7, 85, 4, 60, 69, 16, 85, 80, 20, 63, 16, 18, 60, 45, 70, 97, 68, 46, 70, 50, 58, 90, 86, 72, 60, 40, 71, 18, 94, 8, 26, 20, 30, 39, 100, 82, 37, 28, 10, 81, 66, 66, 1, 66, 35, 25, 14, 95, 70, 66, 3, 39, 58, 91, 12, 74, 15, 83, 35, 17, 8, 41, 59, 19, 29, 70, 24, 15, 61, 43, 28, 29, 55, 25, 81, 26, 16, 66, 64, 61, 74, 44, 1, 21, 58, 31, 18, 54, 53, 91, 77, 57, 96, 9, 91, 85, 22, 85, 86, 45, 88, 76, 96, 72, 49, 55, 95, 26, 87, 64, 52, 19, 38, 47, 48, 96, 67, 80, 33, 50, 37, 15, 66, 50, 78, 68, 31, 22, 77, 74, 10, 94, 29, 56, 93, 72, 7, 7, 1, 100, 79, 26, 18, 29, 46, 66, 44, 48, 22, 16, 33, 61, 79, 60, 42, 16, 79, 98, 100, 66, 92, 99, 38, 42, 88, 39, 36, 29, 96, 90, 36, 48, 27, 27, 68, 23, 48, 32, 93, 7, 58, 9, 36, 35, 58, 86, 3, 81, 12, 58, 32, 2, 75, 87, 68, 89, 18, 46, 39, 60, 82, 68, 13, 1, 74, 23, 93, 21, 66, 40, 63, 36, 34, 47, 33, 43, 77, 51, 32, 10, 26, 16, 9, 87, 10, 73, 75, 24, 50, 63, 3, 48, 86, 99, 52, 39, 4, 90, 66, 21, 18, 38, 96, 13, 28, 32, 95, 3, 31, 86, 93, 75, 89, 65, 14, 26, 84, 82, 48, 52, 99, 93, 12, 23, 74, 32, 41, 40, 98, 60, 37, 1, 76, 16, 92, 50, 82, 78, 35, 46, 96, 24, 21, 19, 87, 6, 50, 30, 90, 16, 47, 40, 89, 50, 55, 63, 65, 57, 37, 66, 38, 22, 96, 58, 21, 25, 51, 98, 91, 2, 11, 37, 58, 61, 62, 44, 27, 91, 79, 12, 21, 10, 17, 38, 89, 20, 25, 94, 19, 67, 99, 77, 31, 11, 96, 15, 2, 66, 20, 40, 62, 75, 45, 34, 68, 95, 83, 8, 97, 40, 25, 69, 70, 97, 57, 87, 45, 45, 46, 18, 85, 19, 38, 50, 79, 34, 47, 20, 73, 17, 50, 61, 6, 14, 84, 1, 47, 87, 83, 96, 10, 85, 15, 42, 21, 72, 14, 85, 37, 13, 21, 89, 84, 11, 94, 3, 34, 41, 15, 3, 71, 50, 66, 72, 60, 12, 94, 14, 8, 84, 83, 56, 12, 87, 66, 52, 45, 42, 77, 52, 25, 9, 63, 48, 26, 43, 11, 62, 22, 78, 84, 81, 18, 21, 86, 57, 1, 45, 84, 65, 2, 64, 9, 21, 38, 65, 89, 18, 33, 30, 86, 20, 81, 70, 22, 85, 24, 30, 76, 94, 98, 11, 88, 38, 24, 51, 27, 65, 84, 25, 66, 8, 3, 9, 60, 35, 66, 79, 86, 38, 25, 55, 89, 38, 4, 91, 99, 12, 76, 88, 13, 56, 7, 14, 57, 67, 21, 25, 99, 97, 99, 37, 83, 11, 9, 26, 65, 64, 10, 93, 7, 53, 44, 34, 61, 4, 64, 34, 12, 31, 66, 48, 75, 37, 19, 30, 24, 15, 9, 22, 16, 87, 73, 30, 70, 41, 62, 23, 58, 34, 75, 61, 5, 23, 36, 20, 1, 6, 98, 61, 31, 49, 10, 33, 76, 37, 74, 17, 33, 38, 48, 7, 65, 64, 88, 68, 28, 53, 88, 71, 89, 83, 39, 63, 84, 20, 82, 55, 65, 65, 23, 35, 94, 75, 99, 79, 37, 79, 11, 82, 66, 78, 11, 66, 10, 40, 14, 56, 22, 31, 4, 56, 53, 81, 30, 64, 100, 83, 17, 66, 37, 60, 66, 9, 88, 90, 31, 100, 68, 29, 75, 23, 90, 37, 18, 44, 48, 41, 52, 1, 78, 59, 90, 97, 17, 3, 50, 12, 54, 100, 45, 25, 77, 29, 73, 21, 98, 24, 60, 1, 23, 40, 15, 5, 19, 97, 15, 90, 65, 97, 44, 21, 70, 57, 45, 67, 99, 90, 92, 35, 15, 82, 59, 95, 13, 4, 76, 90, 29, 54, 66, 3, 74, 77, 96, 53, 72, 99, 46, 86, 4, 21, 24, 1, 12, 14, 68, 15, 70, 57, 4, 74, 66, 54, 1, 59, 94, 10, 67, 50, 1, 94, 13, 15, 97, 6, 36, 30, 85, 9, 14, 43, 56, 62, 32, 95, 6, 95, 73, 73, 51, 90, 7, 29, 15, 4, 100, 18, 77, 22, 20, 29, 21, 52, 89, 28, 24, 67, 60, 5, 89, 9, 16, 11, 39, 43, 60, 48, 4, 42, 84, 80, 18, 26, 85, 80, 63, 34, 37, 19, 15, 65, 43, 99, 25, 19, 89, 27, 29, 45, 37, 59, 1, 54, 70, 37, 7, 53, 26, 66, 91, 9, 81, 38, 61, 45, 83, 66, 36, 41, 88, 77, 64, 76, 72, 85, 11, 79, 26, 67, 53, 95, 3, 27, 80, 82, 88, 39, 76, 47, 1, 6, 10, 2, 74, 35, 5, 96, 42, 25, 77, 19, 52, 98, 78, 100, 66, 98, 98, 45, 52, 20, 81, 55, 72, 34, 25, 58, 97, 99, 72, 69, 65, 91, 24, 80, 2, 50, 26, 18, 22, 42, 25, 98, 94, 23, 42, 84, 29, 84, 11, 72, 17, 73, 16, 56, 67, 38, 41, 89, 62, 93, 8, 21, 100, 16, 89, 82, 40, 56, 59, 42, 95, 30, 8, 24, 2, 5, 21, 91, 38, 2, 84, 1, 70, 27, 49, 62, 80, 62, 57, 8, 81, 73, 68, 49, 94, 13, 16, 28, 75, 71, 40, 55, 91, 67, 82, 89, 62, 36, 5, 72, 32, 14, 39, 87, 42, 38, 71, 4, 14, 1, 81, 71, 43, 66, 43, 34, 6, 99, 3, 5, 12, 52, 46, 15, 88, 12, 74, 31, 90, 59, 78, 54, 11, 54, 92, 81, 38, 34, 21, 26, 57, 59, 9, 23, 72, 67, 82, 43, 12, 38, 40, 36, 29, 76, 54, 61, 24, 42, 40, 22, 20, 9, 92, 1, 96, 53, 36, 70, 56, 41, 68, 67, 53, 18, 24, 59, 88, 50, 72, 11, 16, 56, 89, 16, 63, 32, 26, 25, 32, 43, 6, 36, 93, 12, 63, 24, 87, 70, 18, 27, 99, 95, 57, 53, 74, 68, 87, 7, 60, 73, 85, 22, 22, 30, 93, 43, 43, 72, 88, 53, 50, 2, 91, 57, 83, 96, 53, 60, 52, 5, 5, 43, 12, 52, 42, 17, 99, 44, 54, 74, 60, 100, 46, 37, 35, 87, 76, 28, 48, 99, 57, 69, 51, 11, 38, 58, 80, 98, 8, 88, 89, 51, 87, 27, 75, 7, 29, 71, 59, 85, 14, 58, 60, 8, 15, 6, 13, 25, 18, 70, 60, 21, 85, 46, 90, 37, 57, 24, 16, 65, 46, 86, 87, 6, 71, 54, 84, 80, 2, 74, 63, 48, 5, 72, 63, 54, 38, 75, 26, 50, 34, 6, 39, 90, 64, 40, 92, 4, 99, 35, 96, 73, 67, 52, 74, 20, 54, 76, 57, 46, 84, 93, 25, 12, 62, 38, 68, 71, 51, 7, 30, 9, 67, 30, 71, 15, 65, 74, 83, 69, 2, 92, 71, 67, 29, 22, 26, 38, 74, 16, 60, 100, 26, 40, 20, 34, 22, 16, 21, 36, 76, 48, 17, 47, 75, 87, 89, 44, 57, 24, 12, 76, 26, 15, 77, 5, 35, 12, 19, 67, 95, 99, 24, 69, 20, 11, 45, 15, 64, 44, 61, 85, 10, 88, 86, 73, 61, 66, 59, 40, 15, 87, 35, 87, 28, 98, 14, 45, 46, 45, 96, 28, 38, 23, 92, 24, 64, 53, 93, 16, 42, 8, 89, 46, 19, 63, 20, 73, 24, 87, 53, 9, 4, 30, 64, 91, 97, 89, 18, 100, 19, 68, 93, 15, 42, 44, 32, 64, 56, 73, 86, 2, 85, 71, 43, 84, 62, 49, 30, 57, 1, 60, 1, 46, 71, 17, 19, 15, 37, 39, 24, 100, 82, 47, 53, 18, 8, 17, 54, 83, 91, 73, 8, 86, 56, 60, 60, 63, 64, 51, 66, 68, 21, 84, 30, 70, 78, 32, 29, 37, 97, 1, 3, 40, 96, 3, 100, 60, 15, 16, 9, 25, 61, 84, 82, 7, 82, 14, 23, 2, 73, 49, 54, 32, 75, 31, 31, 66, 62, 68, 29, 23, 10, 95, 69, 71, 92, 4, 76, 70, 7, 99, 28, 21, 29, 52, 2, 47, 76, 96, 40, 58, 82, 76, 59, 38, 74, 47, 44, 13, 93, 28, 63, 50, 23, 58, 92, 2, 26, 71, 21, 29, 100, 39, 44, 37, 58, 84, 10, 33, 95, 37, 33, 2, 10, 14, 10, 95, 70, 62, 56, 74, 28, 39, 7, 71, 24, 26, 29, 53, 19, 34, 12, 19, 37, 44, 26, 2, 11, 16, 92, 3, 86, 5, 96, 98, 79, 26, 75, 18, 9, 89, 77, 17, 69, 89, 30, 59, 29, 87, 35, 88, 56, 25, 4, 83, 28, 46, 92, 87, 87, 59, 69, 5, 44, 42, 91, 62, 38, 48, 25, 61, 35, 96, 69, 54, 73, 67, 2, 47, 65, 88, 60, 32, 56, 61, 75, 22, 73, 48, 44, 72, 34, 69, 63, 33, 64, 46, 93, 89, 46, 16, 11, 97, 74, 80, 2, 5, 72, 32, 2, 51, 45, 16, 91, 23, 4, 74, 32, 76, 28, 9, 35, 100, 62, 12, 69, 80, 14, 44, 89, 48, 88, 60, 40, 91, 2, 38, 20, 21, 1, 2, 11, 11, 42, 79, 81, 48, 29, 13, 53, 36, 47, 49, 88, 67, 61, 3, 6, 32, 55, 94, 8, 23, 64, 94, 71, 46, 33, 73, 93, 97, 24, 98, 16, 74, 45, 14, 59, 83, 90, 52, 28, 89, 38, 40, 4, 57, 59, 43, 43, 56, 1, 7, 50, 31, 69, 10, 65, 26, 28, 47, 83, 1, 21, 43, 66, 30, 55, 75, 8, 75, 65, 35, 47, 96, 50, 13, 32, 66, 91, 17, 70, 24, 5, 22, 77, 76, 8, 4, 34, 38, 54, 6, 25, 68, 77, 4, 46, 54, 65, 26, 93, 83, 11, 63, 57, 39, 68, 14, 79, 73, 13, 4, 99, 73, 8, 57, 85, 87, 87, 94, 25, 46, 77, 4, 33, 93, 23, 11, 80, 23, 44, 42, 11, 35, 6, 100, 47, 24, 55, 9, 11, 55, 46, 95, 89, 35, 4, 85, 90, 42, 95, 74, 5, 8, 45, 58, 82, 38, 40, 11, 86, 94, 86, 73, 9, 6, 66, 61, 9, 70, 17, 23, 94, 69, 85, 76, 47, 43, 74, 9, 84, 28, 41, 50, 47, 35, 72, 50, 46, 84, 16, 20, 31, 3, 91, 50, 28, 24, 2, 71, 6, 28, 15, 6, 100, 56, 41, 47, 68, 100, 48, 38, 22, 20, 28, 94, 4, 71, 85, 93, 24, 42, 44, 64, 35, 6, 72, 77, 80, 21, 76, 64, 6, 2, 74, 66, 54, 21, 49, 94, 49, 68, 39, 15, 80, 66, 26, 7, 37, 13, 90, 24, 36, 59, 49, 17, 43, 56, 3, 89, 23, 38, 23, 13, 76, 45, 100, 73, 27, 61, 40, 73, 43, 17, 67, 16, 22, 79, 42, 49, 36, 21, 57, 32, 44, 98, 55, 52, 32, 20, 40, 76, 14, 48, 4, 90, 94, 4, 4, 94, 87, 35, 92, 62, 80, 57, 65, 4, 89, 58, 28, 60, 44, 56, 56, 8, 38, 10, 85, 14, 31, 27, 78, 30, 54, 74, 73, 95, 26, 21, 60, 85, 51, 22, 8, 15, 99, 28, 28, 25, 81, 6, 92, 3, 82, 56, 83, 25, 97, 48, 84, 39, 99, 53, 25, 1, 10, 49, 45, 17, 8, 41, 96, 86, 25, 17, 69, 72, 35, 43, 51, 44, 17, 65, 54, 2, 100, 19, 61, 16, 84, 62, 70, 5, 85, 57, 10, 79, 3, 68, 95, 46, 84, 1, 55, 94, 41, 17, 14, 89, 31, 31, 100, 2, 89, 53, 100, 96, 41, 83, 87, 88, 53, 86, 77, 92, 79, 73, 2, 42, 82, 99, 31, 60, 38, 31, 58, 32, 95, 63, 18, 61, 33, 51, 85, 54, 73, 12, 1, 48, 62, 44, 14, 41, 30, 46, 63, 17, 70, 5, 6, 10, 3, 42, 97, 69, 34, 21, 33, 79, 62, 19, 97, 48, 5, 66, 11, 80, 73, 86, 7, 71, 76, 67, 32, 84, 36, 90, 60, 46, 83, 43, 52, 28, 15, 46, 69, 52, 53, 72, 7, 36, 11, 88, 48, 94, 33, 61, 98, 82, 23, 75, 68, 21, 7, 18, 42, 93, 39, 41, 25, 42, 11, 28, 68, 16, 99, 100, 49, 13, 48, 36, 66, 29, 5, 58, 40, 16, 61, 65, 72, 41, 38, 74, 81, 48, 81, 25, 61, 56, 46, 40, 63, 52, 61, 44, 21, 72, 95, 63, 76, 38, 71, 59, 76, 90, 46, 40, 10, 34, 54, 89, 70, 99, 91, 59, 7, 70, 71, 38, 12, 96, 23, 67, 69, 49, 21, 56, 22, 1, 60, 10, 34, 62, 95, 85, 45, 16, 19, 12, 92, 70, 26, 26, 76, 38, 51, 67, 24, 86, 70, 55, 50, 62, 94, 36, 63, 47, 68, 15, 49, 87, 99, 84, 43, 7, 26, 31, 9, 89, 56, 54, 35, 64, 67, 22, 80, 11, 56, 11, 3, 45, 17, 16, 39, 37, 77, 34, 4, 33, 98, 72, 27, 46, 17, 41, 3, 44, 42, 78, 98, 92, 24, 32, 68, 38, 74, 54, 86, 12, 83, 49, 73, 89, 72, 12, 100, 98, 88, 36, 16, 56, 26, 90, 12, 28, 7, 32, 70, 20, 60, 24, 20, 15, 13, 67, 84, 43, 11, 59, 100, 66, 62, 81, 67, 46, 49, 79, 64, 52, 64, 53, 66, 55, 43, 50, 16, 63, 66, 10, 88, 99, 92, 41, 59, 72, 31, 51, 38, 18, 64, 42, 34, 81, 48, 25, 75, 21, 50, 65, 56, 13, 7, 30, 75, 66, 93, 50, 7, 82, 10, 27, 52, 8, 39, 19, 70, 99, 54, 1, 32, 64, 21, 6, 94, 2, 36, 75, 56, 100, 76, 84, 95, 54, 92, 27, 7, 29, 18, 69, 58, 19, 12, 79, 27, 18, 77, 32, 25, 77, 34, 1, 64, 2, 83, 75, 53, 37, 1, 93, 61, 18, 73, 54, 38, 90, 6, 54, 16, 95, 14, 56, 20, 50, 81, 32, 91, 94, 59, 77, 59, 20, 35, 4, 89, 72, 72, 64, 65, 79, 75, 12, 68, 21, 20, 28, 15, 2, 10, 94, 4, 76, 32, 7, 95, 15, 70, 63, 100, 43, 43, 86, 81, 69, 69, 23, 58, 61, 22, 99, 63, 66, 3, 91, 26, 77, 99, 90, 83, 18, 90, 65, 82, 73, 82, 5, 49, 1, 40, 54, 22, 31, 18, 17, 3, 48, 52, 10, 64, 36, 24, 65, 91, 62, 3, 67, 75, 43, 22, 57, 86, 14, 27, 77, 90, 22, 41, 68, 4, 78, 88, 95, 77, 2, 33, 79, 53, 6, 1, 87, 46, 6, 21, 4, 6, 23, 29, 90, 6, 16, 84, 9, 9, 30, 77, 42, 70, 32, 47, 91, 61, 92, 69, 50, 91, 31, 18, 22, 79, 68, 71, 94, 58, 35, 74, 9, 72, 12, 100, 51, 75, 49, 47, 100, 34, 94, 97, 55, 52, 20, 79, 32, 32, 84, 41, 51, 8, 8, 73, 11, 33, 54, 68, 34, 60, 97, 59, 90, 86, 6, 96, 30, 22, 51, 40, 7, 81, 54, 37, 61, 7, 96, 4, 7, 65, 71, 76, 43, 39, 79, 40, 10, 80, 1, 7, 50, 53, 42, 82, 67, 71, 88, 21, 24, 98, 75, 45, 61, 72, 29, 98, 2, 20, 19, 95, 97, 15, 24, 75, 73, 72, 88, 21, 12, 69, 31, 99, 81, 72, 91, 31, 19, 22, 100, 12, 27, 8, 99, 40, 70, 52, 67, 97, 58, 35, 70, 81, 86, 50, 32, 87, 80, 31, 77, 52, 95, 29, 8, 81, 13, 51, 42, 76, 78, 25, 52, 10, 93, 15, 19, 16, 79, 91, 95, 84, 38, 3, 3, 92, 16, 77, 43, 41, 41, 75, 57, 44, 4, 25, 77, 83, 43, 77, 53, 80, 75, 80, 42, 29, 85, 39, 32, 62, 56, 75, 26, 17, 45, 81, 43, 11, 10, 44, 71, 44, 22, 61, 78, 21, 39, 47, 64, 11, 96, 5, 90, 97, 85, 46, 76, 53, 41, 34, 50, 90, 83, 28, 25, 54, 28, 87, 77, 94, 1, 98, 68, 63, 3, 44, 32, 45, 26, 17, 10, 69, 7, 58, 97, 16, 3, 21, 49, 43, 8, 25, 38, 71, 50, 63, 65, 73, 24, 34, 33, 49, 55, 39, 87, 8, 5, 81, 33, 86, 67, 89, 67, 93, 88, 88, 32, 6, 28, 70, 17, 73, 72, 90, 24, 29, 18, 15, 58, 36, 3, 36, 8, 31, 55, 85, 71, 6, 50, 5, 27, 19, 8, 28, 34, 52, 90, 53, 71, 59, 41, 42, 66, 16, 34, 18, 87, 27, 25, 56, 68, 20, 39, 85, 6, 24, 28, 92, 50, 21, 2, 66, 95, 22, 51, 62, 16, 49, 63, 51, 9, 83, 85, 40, 84, 63, 73, 31, 32, 41, 92, 56, 42, 4, 19, 87, 95, 53, 77, 22, 39, 76, 78, 27, 37, 24, 48, 87, 44, 92, 64, 50, 2, 43, 82, 8, 79, 24, 15, 73, 59, 53, 50, 29, 20, 3, 22, 78, 11, 39, 85, 31, 86, 52, 19, 78, 68, 52, 24, 58, 91, 86, 7, 3, 8, 90, 6, 62, 38, 36, 56, 1, 81, 53, 36, 10, 32, 96, 34, 93, 88, 38, 82, 65, 87, 70, 62, 42, 61, 10, 82, 80, 19, 59, 99, 15, 51, 91, 67, 72, 38, 75, 21, 41, 14, 65, 7, 95, 21, 96, 81, 8, 94, 39, 16, 31, 87, 55, 77, 95, 99, 18, 74, 32, 54, 57, 12, 30, 21, 72, 69, 51, 44, 53, 21, 39, 53, 41, 3, 66, 82, 47, 69, 20, 51, 61, 1, 83, 91, 46, 3, 27, 99, 42, 21, 6, 62, 35, 81, 83, 87, 52, 54, 12, 39, 21, 74, 13, 42, 53, 30, 42, 87, 20, 62, 16, 37, 88, 96, 70, 72, 95, 47, 62, 1, 90, 29, 74, 92, 32, 98, 17, 69, 47, 26, 47, 48, 81, 96, 47, 64, 67, 7, 47, 30, 100, 62, 18, 46, 23, 7, 22, 15, 10, 20, 5, 41, 52, 14, 72, 74, 35, 23, 7, 5, 87, 93, 15, 86, 15, 81, 39, 38, 62, 73, 59, 89, 17, 72, 7, 15, 77, 5, 58, 87, 9, 41, 57, 43, 41, 93, 76, 75, 15, 51, 27, 18, 80, 50, 67, 99, 47, 76, 7, 56, 87, 59, 33, 34, 11, 33, 61, 94, 22, 87, 51, 81, 99, 54, 12, 24, 86, 90, 88, 46, 49, 80, 40, 41, 50, 6, 39, 81, 47, 1, 94, 79, 94, 75, 21, 16, 32, 78, 97, 34, 69, 94, 36, 85, 9, 93, 56, 21, 5, 74, 8, 36, 6, 59, 81, 77, 81, 4, 19, 85, 23, 78, 45, 9, 44, 44, 12, 74, 5, 95, 26, 65, 41, 98, 26, 93, 91, 65, 4, 92, 7, 44, 76, 4, 37, 60, 68, 10, 41, 53, 79, 94, 4, 69, 22, 76, 40, 20, 39, 96, 3, 70, 100, 58, 42, 53, 61, 91, 86, 52, 38, 26, 2, 44, 55, 8, 92, 62, 15, 98, 52, 85, 64, 46, 97, 74, 63, 89, 23, 10, 55, 54, 90, 67, 94, 42, 48, 70, 84, 16, 27, 39, 60, 30, 86, 97, 23, 22, 37, 13, 80, 44, 6, 20, 76, 34, 21, 71, 11, 58, 78, 96, 83, 19, 90, 96, 72, 84, 78, 14, 82, 66, 88, 18, 18, 21, 4, 19, 84, 44, 43, 73, 81, 39, 29, 91, 20, 28, 62, 41, 72, 27, 9, 12, 61, 57, 81, 85, 18, 41, 8, 39, 83, 39, 16, 75, 25, 48, 89, 82, 9, 33, 8, 33, 67, 80, 17, 22, 34, 93, 74]\n"
     ]
    }
   ],
   "source": [
    "A = generate_random_list(100000)\n",
    "print(A)"
   ]
  },
  {
   "cell_type": "code",
   "execution_count": 40,
   "id": "d579784e",
   "metadata": {},
   "outputs": [
    {
     "data": {
      "text/plain": [
       "60.0"
      ]
     },
     "execution_count": 40,
     "metadata": {},
     "output_type": "execute_result"
    }
   ],
   "source": [
    "np.median(A)"
   ]
  },
  {
   "cell_type": "code",
   "execution_count": 47,
   "id": "c689d2bf",
   "metadata": {},
   "outputs": [
    {
     "data": {
      "text/plain": [
       "50"
      ]
     },
     "execution_count": 47,
     "metadata": {},
     "output_type": "execute_result"
    }
   ],
   "source": [
    "mode_calc(A)"
   ]
  },
  {
   "cell_type": "code",
   "execution_count": 48,
   "id": "a57c3985",
   "metadata": {},
   "outputs": [
    {
     "data": {
      "text/plain": [
       "17"
      ]
     },
     "execution_count": 48,
     "metadata": {},
     "output_type": "execute_result"
    }
   ],
   "source": [
    "A = [60, 63, 64, 66, 68, 69, 71, 71.5, 72, 72.5, 73, 73.5, 74, 74.5, 76, 76.2, 76.5, 77]\n",
    "max(A) - min(A)"
   ]
  },
  {
   "cell_type": "code",
   "execution_count": 56,
   "id": "6fc045ce",
   "metadata": {},
   "outputs": [
    {
     "name": "stdout",
     "output_type": "stream",
     "text": [
      "10.4\n"
     ]
    }
   ],
   "source": [
    "A =  [8, 12, 11, 15, 12, 2, 16, 3, 6, 19]\n",
    "mean = np.mean(A)\n",
    "print(mean)"
   ]
  },
  {
   "cell_type": "code",
   "execution_count": 57,
   "id": "d22f73cc",
   "metadata": {},
   "outputs": [
    {
     "data": {
      "text/plain": [
       "31.377777777777776"
      ]
     },
     "execution_count": 57,
     "metadata": {},
     "output_type": "execute_result"
    }
   ],
   "source": [
    "import statistics as st\n",
    "\n",
    "st.variance(A)"
   ]
  },
  {
   "cell_type": "code",
   "execution_count": 54,
   "id": "8357118d",
   "metadata": {},
   "outputs": [
    {
     "data": {
      "text/plain": [
       "5.601587076693335"
      ]
     },
     "execution_count": 54,
     "metadata": {},
     "output_type": "execute_result"
    }
   ],
   "source": [
    "st.stdev(A)"
   ]
  },
  {
   "cell_type": "code",
   "execution_count": 62,
   "id": "d98cfb44",
   "metadata": {},
   "outputs": [],
   "source": [
    "import numpy as np\n",
    "# Co-effecient of distrubution\n",
    "def get_cv(x):\n",
    "    cv = lambda x: np.std(x, ddof=1) / np.mean(x) * 100 \n",
    "    return cv(x)\n"
   ]
  },
  {
   "cell_type": "code",
   "execution_count": 63,
   "id": "819879c6",
   "metadata": {},
   "outputs": [
    {
     "name": "stdout",
     "output_type": "stream",
     "text": [
      "25.962936545662053\n",
      "70.91988176547977\n"
     ]
    }
   ],
   "source": [
    "x = [3, 5, 6, 4, 3, 5, 4]\n",
    "print(get_cv(x))\n",
    "x = [1, 3, 7, 9, 2, 6, 2]\n",
    "print(get_cv(x))\n"
   ]
  },
  {
   "cell_type": "code",
   "execution_count": 68,
   "id": "6ebfd276",
   "metadata": {},
   "outputs": [],
   "source": [
    "data1 = [32, 45, 39, 43, 58, 84, 65]\n",
    "data2=[17, 20, 23, 7, 24, 49, 38]"
   ]
  },
  {
   "cell_type": "code",
   "execution_count": 71,
   "id": "aa42c796",
   "metadata": {},
   "outputs": [
    {
     "name": "stdout",
     "output_type": "stream",
     "text": [
      "0.8775526144641616\n"
     ]
    }
   ],
   "source": [
    "import scipy.stats as st\n",
    "correlation, p_value = st.pearsonr(data1,data2)\n",
    "print(correlation)"
   ]
  },
  {
   "cell_type": "code",
   "execution_count": 72,
   "id": "883d5528",
   "metadata": {},
   "outputs": [
    {
     "data": {
      "text/plain": [
       "2652"
      ]
     },
     "execution_count": 72,
     "metadata": {},
     "output_type": "execute_result"
    }
   ],
   "source": [
    "51*52\n"
   ]
  },
  {
   "cell_type": "code",
   "execution_count": 73,
   "id": "b301e267",
   "metadata": {},
   "outputs": [
    {
     "data": {
      "text/plain": [
       "0.058823529411764705"
      ]
     },
     "execution_count": 73,
     "metadata": {},
     "output_type": "execute_result"
    }
   ],
   "source": [
    "156/2652\n"
   ]
  },
  {
   "cell_type": "code",
   "execution_count": 74,
   "id": "5540fe4b",
   "metadata": {},
   "outputs": [
    {
     "data": {
      "text/plain": [
       "17.0"
      ]
     },
     "execution_count": 74,
     "metadata": {},
     "output_type": "execute_result"
    }
   ],
   "source": [
    "2652/156\n"
   ]
  },
  {
   "cell_type": "code",
   "execution_count": 77,
   "id": "393728df",
   "metadata": {},
   "outputs": [],
   "source": [
    "def find_max(A):\n",
    "    l = len(A)\n",
    "    if l <= 0:\n",
    "        amax= 0\n",
    "    else:\n",
    "        amax = A[0]\n",
    "\n",
    "        for n in A:\n",
    "            if n > amax:\n",
    "                amax = n\n",
    "    return amax\n",
    "            "
   ]
  },
  {
   "cell_type": "code",
   "execution_count": 78,
   "id": "c430c51d",
   "metadata": {},
   "outputs": [
    {
     "data": {
      "text/plain": [
       "1231"
      ]
     },
     "execution_count": 78,
     "metadata": {},
     "output_type": "execute_result"
    }
   ],
   "source": [
    "n = [7,8,2,1,451,1231]\n",
    "find_max(n)"
   ]
  },
  {
   "cell_type": "code",
   "execution_count": 91,
   "id": "f1383421",
   "metadata": {},
   "outputs": [
    {
     "data": {
      "text/plain": [
       "1.0"
      ]
     },
     "execution_count": 91,
     "metadata": {},
     "output_type": "execute_result"
    }
   ],
   "source": [
    "(3-1)/2"
   ]
  },
  {
   "cell_type": "code",
   "execution_count": 129,
   "id": "d72a3233",
   "metadata": {},
   "outputs": [],
   "source": [
    "import math\n",
    "def solution(arr):\n",
    "    d = math.floor(len(arr))\n",
    "    level = 0\n",
    "    pos =0\n",
    "    left = []\n",
    "    right = []\n",
    "    if len(arr) == 0:\n",
    "        return \"\"\n",
    "    while pos < len(arr) and level <=d:\n",
    "        iterations = 2**level\n",
    "        level = level+1\n",
    "        if iterations == 1:\n",
    "            pos = pos+1\n",
    "            continue\n",
    "        min_pos = pos\n",
    "        max_pos = pos+iterations\n",
    "        mid = math.floor((min_pos+max_pos-1)/2)\n",
    "        print(f\" min = {min_pos} max = {max_pos} mid = {mid}\")\n",
    "        i = 1\n",
    "        while i <=iterations and pos <len(arr):\n",
    "            print(f\"iteration = {i}\")\n",
    "            if pos <= mid:\n",
    "                print(f\"left pos = {pos}\")\n",
    "                left.append(arr[pos])\n",
    "            else:\n",
    "                print(f\"right pos = {pos}\")\n",
    "                right.append(arr[pos])\n",
    "            i = i+1\n",
    "            pos = pos+1\n",
    "    sum_left = sum(left)\n",
    "    sum_right = sum(right)\n",
    "    if sum_left > sum_right:\n",
    "        return \"Left\"\n",
    "    elif sum_left < sum_right:\n",
    "        return \"Right\"\n",
    "    else:\n",
    "        return \"\"\n",
    "\n",
    "            \n",
    "        \n",
    "        \n",
    "        \n",
    "            \n",
    "        \n"
   ]
  },
  {
   "cell_type": "code",
   "execution_count": 130,
   "id": "2208c941",
   "metadata": {},
   "outputs": [
    {
     "name": "stdout",
     "output_type": "stream",
     "text": [
      " min = 1 max = 3 mid = 1\n",
      "iteration = 1\n",
      "left pos = 1\n",
      "iteration = 2\n",
      "right pos = 2\n",
      " min = 3 max = 7 mid = 4\n",
      "iteration = 1\n",
      "left pos = 3\n",
      "iteration = 2\n",
      "left pos = 4\n",
      "iteration = 3\n",
      "right pos = 5\n",
      "iteration = 4\n",
      "right pos = 6\n",
      " min = 7 max = 15 mid = 10\n",
      "iteration = 1\n",
      "left pos = 7\n",
      "iteration = 2\n",
      "left pos = 8\n",
      "iteration = 3\n",
      "left pos = 9\n",
      "iteration = 4\n",
      "left pos = 10\n",
      "iteration = 5\n",
      "right pos = 11\n",
      "iteration = 6\n",
      "right pos = 12\n",
      "iteration = 7\n",
      "right pos = 13\n",
      "iteration = 8\n",
      "right pos = 14\n"
     ]
    },
    {
     "data": {
      "text/plain": [
       "'Right'"
      ]
     },
     "execution_count": 130,
     "metadata": {},
     "output_type": "execute_result"
    }
   ],
   "source": [
    "solution([1,2,3,4,5,6,7,8,9,10,11,12,13,14,15])"
   ]
  },
  {
   "cell_type": "code",
   "execution_count": 132,
   "id": "744f0a95",
   "metadata": {},
   "outputs": [
    {
     "name": "stdout",
     "output_type": "stream",
     "text": [
      "[[0 1]\n",
      " [3 0]\n",
      " [1 0]]\n"
     ]
    }
   ],
   "source": [
    "import numpy as np\n",
    "a = np.array([[1,0,1,0,2,3], [1,3,0,1,2,0], [0,1,0,0,1,3]])\n",
    "b = a[:,1:3]\n",
    "print(b)"
   ]
  },
  {
   "cell_type": "code",
   "execution_count": 133,
   "id": "cd80ea88",
   "metadata": {},
   "outputs": [
    {
     "data": {
      "text/plain": [
       "array([5, 6, 7])"
      ]
     },
     "execution_count": 133,
     "metadata": {},
     "output_type": "execute_result"
    }
   ],
   "source": [
    "a = np.array([0, 1, 2])\n",
    "b = np.array([5, 5, 5])\n",
    "a + b\n",
    "a + 5"
   ]
  },
  {
   "cell_type": "code",
   "execution_count": 134,
   "id": "dd567fbc",
   "metadata": {},
   "outputs": [
    {
     "data": {
      "text/plain": [
       "81"
      ]
     },
     "execution_count": 134,
     "metadata": {},
     "output_type": "execute_result"
    }
   ],
   "source": [
    "a=np.arange(10)\n",
    "b=np.power(a,2)\n",
    "b.max()"
   ]
  },
  {
   "cell_type": "code",
   "execution_count": 135,
   "id": "4d5045af",
   "metadata": {},
   "outputs": [
    {
     "data": {
      "text/plain": [
       "array([0, 1, 2, 3, 4, 5, 6, 7, 8, 9])"
      ]
     },
     "execution_count": 135,
     "metadata": {},
     "output_type": "execute_result"
    }
   ],
   "source": [
    "a"
   ]
  },
  {
   "cell_type": "code",
   "execution_count": 139,
   "id": "4f066a23",
   "metadata": {},
   "outputs": [
    {
     "data": {
      "text/plain": [
       "[array([[ 0,  1],\n",
       "        [ 6,  7],\n",
       "        [12, 13],\n",
       "        [18, 19]]),\n",
       " array([[ 2,  3],\n",
       "        [ 8,  9],\n",
       "        [14, 15],\n",
       "        [20, 21]]),\n",
       " array([[ 4,  5],\n",
       "        [10, 11],\n",
       "        [16, 17],\n",
       "        [22, 23]])]"
      ]
     },
     "execution_count": 139,
     "metadata": {},
     "output_type": "execute_result"
    }
   ],
   "source": [
    "a=np.arange(24).reshape(4,6)\n",
    "np.hsplit(a,3)\n"
   ]
  },
  {
   "cell_type": "code",
   "execution_count": 141,
   "id": "b1e02083",
   "metadata": {},
   "outputs": [
    {
     "data": {
      "text/plain": [
       "5    5\n",
       "dtype: int64"
      ]
     },
     "execution_count": 141,
     "metadata": {},
     "output_type": "execute_result"
    }
   ],
   "source": [
    "import pandas as pd\n",
    "data=range(10)\n",
    "new_ser=pd.Series(data=data)\n",
    "new_ser[new_ser==5]"
   ]
  },
  {
   "cell_type": "code",
   "execution_count": 142,
   "id": "3b5d14b6",
   "metadata": {},
   "outputs": [],
   "source": [
    "a1 = ['Hogwarts', 'Durmstrang', 'Beauxbatons']\n",
    "a2 = ['Hogwarts', 'Durmstrang', 'Beauxbatons']\n",
    "a3 = ['Hogwarts', 'Durmstrang', 'Beauxbatons']\n",
    "school = [a1, a2, a3]\n",
    "inst = ['School_1', 'School_2', 'School_3']\n",
    "Muggle_data = pd.DataFrame(data=school, columns=inst)"
   ]
  },
  {
   "cell_type": "code",
   "execution_count": 144,
   "id": "05257494",
   "metadata": {},
   "outputs": [
    {
     "name": "stdout",
     "output_type": "stream",
     "text": [
      "<class 'pandas.core.frame.DataFrame'>\n",
      "RangeIndex: 3 entries, 0 to 2\n",
      "Data columns (total 3 columns):\n",
      " #   Column    Non-Null Count  Dtype \n",
      "---  ------    --------------  ----- \n",
      " 0   School_1  3 non-null      object\n",
      " 1   School_2  3 non-null      object\n",
      " 2   School_3  3 non-null      object\n",
      "dtypes: object(3)\n",
      "memory usage: 200.0+ bytes\n"
     ]
    }
   ],
   "source": [
    "Muggle_data.info()"
   ]
  },
  {
   "cell_type": "code",
   "execution_count": 145,
   "id": "bbc3a0de",
   "metadata": {},
   "outputs": [],
   "source": [
    "data1={'Physics': [77, 75, 100, 10, 59], 'Chemistry': [85, 70, 99, 30, 80]}\n",
    "df1=pd.DataFrame(data=data1)\n",
    "data2={'Student_ID': [0, 1, 2, 3, 4], 'Maths': [80, 90, 88, 25, 90]}\n",
    "df2=pd.DataFrame(data=data2)\n",
    "df3=pd.concat([df1, df2], join='inner', axis=0, ignore_index=True)"
   ]
  },
  {
   "cell_type": "code",
   "execution_count": 146,
   "id": "f4dbfc81",
   "metadata": {},
   "outputs": [
    {
     "data": {
      "text/html": [
       "<div>\n",
       "<style scoped>\n",
       "    .dataframe tbody tr th:only-of-type {\n",
       "        vertical-align: middle;\n",
       "    }\n",
       "\n",
       "    .dataframe tbody tr th {\n",
       "        vertical-align: top;\n",
       "    }\n",
       "\n",
       "    .dataframe thead th {\n",
       "        text-align: right;\n",
       "    }\n",
       "</style>\n",
       "<table border=\"1\" class=\"dataframe\">\n",
       "  <thead>\n",
       "    <tr style=\"text-align: right;\">\n",
       "      <th></th>\n",
       "    </tr>\n",
       "  </thead>\n",
       "  <tbody>\n",
       "    <tr>\n",
       "      <th>0</th>\n",
       "    </tr>\n",
       "    <tr>\n",
       "      <th>1</th>\n",
       "    </tr>\n",
       "    <tr>\n",
       "      <th>2</th>\n",
       "    </tr>\n",
       "    <tr>\n",
       "      <th>3</th>\n",
       "    </tr>\n",
       "    <tr>\n",
       "      <th>4</th>\n",
       "    </tr>\n",
       "    <tr>\n",
       "      <th>5</th>\n",
       "    </tr>\n",
       "    <tr>\n",
       "      <th>6</th>\n",
       "    </tr>\n",
       "    <tr>\n",
       "      <th>7</th>\n",
       "    </tr>\n",
       "    <tr>\n",
       "      <th>8</th>\n",
       "    </tr>\n",
       "    <tr>\n",
       "      <th>9</th>\n",
       "    </tr>\n",
       "  </tbody>\n",
       "</table>\n",
       "</div>"
      ],
      "text/plain": [
       "Empty DataFrame\n",
       "Columns: []\n",
       "Index: [0, 1, 2, 3, 4, 5, 6, 7, 8, 9]"
      ]
     },
     "execution_count": 146,
     "metadata": {},
     "output_type": "execute_result"
    }
   ],
   "source": [
    "df3"
   ]
  },
  {
   "cell_type": "code",
   "execution_count": 221,
   "id": "9d4fb318",
   "metadata": {},
   "outputs": [],
   "source": [
    "# Leet code algorithms\n",
    "\n",
    "class Solution:\n",
    "    def findSmallestSetOfVertices(self, n: int, edges: list[list[int]]) -> list[int]:\n",
    "        incomingEdge = [False]*n\n",
    "\n",
    "        for e in edges:\n",
    "            incomingEdge[e[1]] = True\n",
    "        nodes = []\n",
    "        for i in range(len(incomingEdge)):\n",
    "            if not incomingEdge[i]:\n",
    "                nodes.append(i)\n",
    "        return nodes"
   ]
  },
  {
   "cell_type": "code",
   "execution_count": 222,
   "id": "03f1126e",
   "metadata": {},
   "outputs": [
    {
     "data": {
      "text/plain": [
       "[2, 4]"
      ]
     },
     "execution_count": 222,
     "metadata": {},
     "output_type": "execute_result"
    }
   ],
   "source": [
    "n = 5\n",
    "edges = [[1,3],[2,0],[2,3],[1,0],[4,1],[0,3]]\n",
    "Solution().findSmallestSetOfVertices(n,edges)"
   ]
  },
  {
   "cell_type": "code",
   "execution_count": null,
   "id": "1212164d",
   "metadata": {},
   "outputs": [],
   "source": [
    "class Solution:\n",
    "    def twoSum(self, nums: List[int], target: int) -> List[int]:\n",
    "        seen = {}\n",
    "        for i in range(len(nums)):\n",
    "            compliment = target-nums[i]\n",
    "            if compliment in seen:\n",
    "                return [seen[compliment],i]\n",
    "            seen[nums[i]] = i\n",
    "        print(seen)\n",
    "        return []"
   ]
  },
  {
   "cell_type": "code",
   "execution_count": 230,
   "id": "e2894dc3",
   "metadata": {},
   "outputs": [],
   "source": [
    "class ListNode:\n",
    "    def __init__(self,val=0,next=None):\n",
    "        self.val = val\n",
    "        self.next = next\n",
    "    \n",
    "class LinkedList:\n",
    "    def __init__(self):\n",
    "        self.head = None\n",
    "    \n",
    "    def add_node(self,val):\n",
    "        new_node = ListNode(val)\n",
    "        if self.head:\n",
    "            current = self.head\n",
    "            while(current.next):\n",
    "                current = current.next\n",
    "            current.next = new_node\n",
    "        else:\n",
    "            self.head = new_node\n",
    "    \n",
    "    def print_list(self):\n",
    "        current = self.head\n",
    "        while(current):\n",
    "            print(current.val)\n",
    "            current = current.next\n",
    "        \n",
    "        "
   ]
  },
  {
   "cell_type": "code",
   "execution_count": 231,
   "id": "a69b3c50",
   "metadata": {},
   "outputs": [
    {
     "name": "stdout",
     "output_type": "stream",
     "text": [
      "7\n",
      "8\n",
      "1\n"
     ]
    }
   ],
   "source": [
    "ll = LinkedList()\n",
    "ll.add_node(7)\n",
    "ll.add_node(8)\n",
    "ll.add_node(1)\n",
    "ll.print()"
   ]
  },
  {
   "cell_type": "code",
   "execution_count": 232,
   "id": "20803c77",
   "metadata": {},
   "outputs": [
    {
     "ename": "NameError",
     "evalue": "name 'Optional' is not defined",
     "output_type": "error",
     "traceback": [
      "\u001b[0;31m---------------------------------------------------------------------------\u001b[0m",
      "\u001b[0;31mNameError\u001b[0m                                 Traceback (most recent call last)",
      "Cell \u001b[0;32mIn[232], line 6\u001b[0m\n\u001b[1;32m      1\u001b[0m \u001b[38;5;66;03m# Definition for singly-linked list.\u001b[39;00m\n\u001b[1;32m      2\u001b[0m \u001b[38;5;66;03m# class ListNode:\u001b[39;00m\n\u001b[1;32m      3\u001b[0m \u001b[38;5;66;03m#     def __init__(self, val=0, next=None):\u001b[39;00m\n\u001b[1;32m      4\u001b[0m \u001b[38;5;66;03m#         self.val = val\u001b[39;00m\n\u001b[1;32m      5\u001b[0m \u001b[38;5;66;03m#         self.next = next\u001b[39;00m\n\u001b[0;32m----> 6\u001b[0m \u001b[38;5;28;01mclass\u001b[39;00m \u001b[38;5;21;01mSolution\u001b[39;00m:\n\u001b[1;32m      7\u001b[0m     \u001b[38;5;28;01mdef\u001b[39;00m \u001b[38;5;21maddTwoNumbers\u001b[39m(\u001b[38;5;28mself\u001b[39m, l1: Optional[ListNode], l2: Optional[ListNode]) \u001b[38;5;241m-\u001b[39m\u001b[38;5;241m>\u001b[39m Optional[ListNode]:\n\u001b[1;32m      8\u001b[0m         head3 \u001b[38;5;241m=\u001b[39m l3 \u001b[38;5;241m=\u001b[39m ListNode()\n",
      "Cell \u001b[0;32mIn[232], line 7\u001b[0m, in \u001b[0;36mSolution\u001b[0;34m()\u001b[0m\n\u001b[1;32m      6\u001b[0m \u001b[38;5;28;01mclass\u001b[39;00m \u001b[38;5;21;01mSolution\u001b[39;00m:\n\u001b[0;32m----> 7\u001b[0m     \u001b[38;5;28;01mdef\u001b[39;00m \u001b[38;5;21maddTwoNumbers\u001b[39m(\u001b[38;5;28mself\u001b[39m, l1: \u001b[43mOptional\u001b[49m[ListNode], l2: Optional[ListNode]) \u001b[38;5;241m-\u001b[39m\u001b[38;5;241m>\u001b[39m Optional[ListNode]:\n\u001b[1;32m      8\u001b[0m         head3 \u001b[38;5;241m=\u001b[39m l3 \u001b[38;5;241m=\u001b[39m ListNode()\n\u001b[1;32m      9\u001b[0m         carry \u001b[38;5;241m=\u001b[39m \u001b[38;5;241m0\u001b[39m\n",
      "\u001b[0;31mNameError\u001b[0m: name 'Optional' is not defined"
     ]
    }
   ],
   "source": [
    "# Definition for singly-linked list.\n",
    "# class ListNode:\n",
    "#     def __init__(self, val=0, next=None):\n",
    "#         self.val = val\n",
    "#         self.next = next\n",
    "class Solution:\n",
    "    def addTwoNumbers(self, l1: Optional[ListNode], l2: Optional[ListNode]) -> Optional[ListNode]:\n",
    "        head3 = l3 = ListNode()\n",
    "        carry = 0\n",
    "        while l1 and l2:\n",
    "            v3 = l1.val + l2.val + carry\n",
    "            l3.next = ListNode(v3%10)\n",
    "            carry = v3//10\n",
    "            l1, l2,l3 = l1.next, l2.next, l3.next\n",
    "\n",
    "        if l1:\n",
    "            l3.next = l1\n",
    "        if l2:\n",
    "            l3.next = l2\n",
    "        \n",
    "        while carry  and l3.next:\n",
    "            v3 = l3.next.val + carry\n",
    "            l3.next.val = v3%10\n",
    "            carry = v3//10\n",
    "            l3 = l3.next\n",
    "        \n",
    "        if not l3.next and carry:\n",
    "            l3.next = ListNode(val=carry)\n",
    "\n",
    "        return head3.next"
   ]
  },
  {
   "cell_type": "code",
   "execution_count": 2,
   "id": "e13f6657",
   "metadata": {},
   "outputs": [
    {
     "name": "stdout",
     "output_type": "stream",
     "text": [
      "{'eat': ['ate', 'tea'], 'ace': ['cea', 'aec']}\n"
     ]
    }
   ],
   "source": [
    "## given a list of words return a dict\n",
    "## the first occurence should be the key with list of its anagrams\n",
    "\n",
    "#ip = [\"eat\",\"ate\",\"tea\",\"ace\",\"cea\",\"aec\"]\n",
    "#op = {eat': ['ate', 'tea'], 'ace': ['cea', 'aec']}\n",
    "\n",
    "def is_anagram(w1,w2):\n",
    "    return set(w1) == set(w2)\n",
    "\n",
    "def get_anagram_dic(l):\n",
    "    seen = []\n",
    "    op = {}\n",
    "    for i in range(len(l)):\n",
    "#         print(f\" the key - {l[i]}\")\n",
    "        if l[i] not in seen and l[i] not in op :\n",
    "            seen.append(l[i])\n",
    "            op[l[i]] = []\n",
    "        for j in range(i+1,len(l)):\n",
    "            if is_anagram(l[i],l[j]) and l[j] not in seen:\n",
    "#                 print(l[j])\n",
    "                seen.append(l[j])\n",
    "                if l[i] in op:\n",
    "                    op[l[i]].append(l[j])\n",
    "    return op\n",
    "\n",
    "            \n",
    "            \n",
    "l = [\"eat\",\"ate\",\"tea\",\"ace\",\"cea\",\"aec\"]\n",
    "print(get_anagram_dic(l))            \n",
    "        \n",
    "    \n",
    "      \n"
   ]
  },
  {
   "cell_type": "code",
   "execution_count": null,
   "id": "10da7cc6",
   "metadata": {},
   "outputs": [],
   "source": [
    "#Slidding window Optimized for longest substring\n",
    "class Solution:\n",
    "    def lengthOfLongestSubstring(self, s: str) -> int:\n",
    "        n = len(s)\n",
    "        seen = {}\n",
    "        ans = 0\n",
    "        i =0\n",
    "        for j in range(n):\n",
    "            if s[j] in seen:\n",
    "                i = max(seen[s[j]],i)\n",
    "            ans = max(ans, j-i +1)\n",
    "            seen[s[j]] = j+1\n",
    "        return ans"
   ]
  },
  {
   "cell_type": "code",
   "execution_count": 234,
   "id": "0e897adb",
   "metadata": {},
   "outputs": [
    {
     "data": {
      "text/plain": [
       "(4, 3)"
      ]
     },
     "execution_count": 234,
     "metadata": {},
     "output_type": "execute_result"
    }
   ],
   "source": [
    "df_employee = [('John', 3400, 'Sydeny'),\n",
    " ('Robert', 3000, 'Chicago'),\n",
    " ('Aadi', 1600, 'New York'),\n",
    " ('Robert', 3000, 'Chicago'),\n",
    " ('Robert', 3000, 'Chicago'),\n",
    " ('Robert', 3000, 'Texas'),\n",
    " ('Aadi', 4000, 'London'),\n",
    " ('Sachin', 3000, 'Chicago')]\n",
    "df_employee = pd.DataFrame(df_employee, columns=['Name', 'Salary', 'City'])\n",
    "df_employee[df_employee.duplicated('Name')].shape"
   ]
  },
  {
   "cell_type": "code",
   "execution_count": 238,
   "id": "f0296dcf",
   "metadata": {},
   "outputs": [],
   "source": [
    "data = {'Student1': {'name': 'Emma', 'age': '27', 'sex': 'Female'},\n",
    "'Student2': {'name': 'Mike', 'age': '22', 'sex': 'Male'}}\n",
    "df_students = pd.DataFrame(data=data)"
   ]
  },
  {
   "cell_type": "code",
   "execution_count": 239,
   "id": "a9dbed26",
   "metadata": {},
   "outputs": [
    {
     "data": {
      "text/html": [
       "<div>\n",
       "<style scoped>\n",
       "    .dataframe tbody tr th:only-of-type {\n",
       "        vertical-align: middle;\n",
       "    }\n",
       "\n",
       "    .dataframe tbody tr th {\n",
       "        vertical-align: top;\n",
       "    }\n",
       "\n",
       "    .dataframe thead th {\n",
       "        text-align: right;\n",
       "    }\n",
       "</style>\n",
       "<table border=\"1\" class=\"dataframe\">\n",
       "  <thead>\n",
       "    <tr style=\"text-align: right;\">\n",
       "      <th></th>\n",
       "      <th>Student1</th>\n",
       "      <th>Student2</th>\n",
       "    </tr>\n",
       "  </thead>\n",
       "  <tbody>\n",
       "    <tr>\n",
       "      <th>name</th>\n",
       "      <td>Emma</td>\n",
       "      <td>Mike</td>\n",
       "    </tr>\n",
       "    <tr>\n",
       "      <th>age</th>\n",
       "      <td>27</td>\n",
       "      <td>22</td>\n",
       "    </tr>\n",
       "    <tr>\n",
       "      <th>sex</th>\n",
       "      <td>Female</td>\n",
       "      <td>Male</td>\n",
       "    </tr>\n",
       "  </tbody>\n",
       "</table>\n",
       "</div>"
      ],
      "text/plain": [
       "     Student1 Student2\n",
       "name     Emma     Mike\n",
       "age        27       22\n",
       "sex    Female     Male"
      ]
     },
     "execution_count": 239,
     "metadata": {},
     "output_type": "execute_result"
    }
   ],
   "source": [
    "df_students"
   ]
  },
  {
   "cell_type": "code",
   "execution_count": 236,
   "id": "e7b433c1",
   "metadata": {},
   "outputs": [],
   "source": [
    "df_students['Student2'].replace('Mike', 'John', inplace=True)"
   ]
  },
  {
   "cell_type": "code",
   "execution_count": 237,
   "id": "140fc0eb",
   "metadata": {},
   "outputs": [
    {
     "data": {
      "text/html": [
       "<div>\n",
       "<style scoped>\n",
       "    .dataframe tbody tr th:only-of-type {\n",
       "        vertical-align: middle;\n",
       "    }\n",
       "\n",
       "    .dataframe tbody tr th {\n",
       "        vertical-align: top;\n",
       "    }\n",
       "\n",
       "    .dataframe thead th {\n",
       "        text-align: right;\n",
       "    }\n",
       "</style>\n",
       "<table border=\"1\" class=\"dataframe\">\n",
       "  <thead>\n",
       "    <tr style=\"text-align: right;\">\n",
       "      <th></th>\n",
       "      <th>Student1</th>\n",
       "      <th>Student2</th>\n",
       "    </tr>\n",
       "  </thead>\n",
       "  <tbody>\n",
       "    <tr>\n",
       "      <th>name</th>\n",
       "      <td>Emma</td>\n",
       "      <td>John</td>\n",
       "    </tr>\n",
       "    <tr>\n",
       "      <th>age</th>\n",
       "      <td>27</td>\n",
       "      <td>22</td>\n",
       "    </tr>\n",
       "    <tr>\n",
       "      <th>sex</th>\n",
       "      <td>Female</td>\n",
       "      <td>Male</td>\n",
       "    </tr>\n",
       "  </tbody>\n",
       "</table>\n",
       "</div>"
      ],
      "text/plain": [
       "     Student1 Student2\n",
       "name     Emma     John\n",
       "age        27       22\n",
       "sex    Female     Male"
      ]
     },
     "execution_count": 237,
     "metadata": {},
     "output_type": "execute_result"
    }
   ],
   "source": [
    "df_students"
   ]
  },
  {
   "cell_type": "code",
   "execution_count": 242,
   "id": "b80836af",
   "metadata": {},
   "outputs": [
    {
     "data": {
      "text/html": [
       "<div>\n",
       "<style scoped>\n",
       "    .dataframe tbody tr th:only-of-type {\n",
       "        vertical-align: middle;\n",
       "    }\n",
       "\n",
       "    .dataframe tbody tr th {\n",
       "        vertical-align: top;\n",
       "    }\n",
       "\n",
       "    .dataframe thead th {\n",
       "        text-align: right;\n",
       "    }\n",
       "</style>\n",
       "<table border=\"1\" class=\"dataframe\">\n",
       "  <thead>\n",
       "    <tr style=\"text-align: right;\">\n",
       "      <th></th>\n",
       "      <th>Student1</th>\n",
       "      <th>Student2</th>\n",
       "    </tr>\n",
       "  </thead>\n",
       "  <tbody>\n",
       "    <tr>\n",
       "      <th>name</th>\n",
       "      <td>Emma</td>\n",
       "      <td>John</td>\n",
       "    </tr>\n",
       "    <tr>\n",
       "      <th>age</th>\n",
       "      <td>27</td>\n",
       "      <td>22</td>\n",
       "    </tr>\n",
       "    <tr>\n",
       "      <th>sex</th>\n",
       "      <td>Female</td>\n",
       "      <td>Male</td>\n",
       "    </tr>\n",
       "  </tbody>\n",
       "</table>\n",
       "</div>"
      ],
      "text/plain": [
       "     Student1 Student2\n",
       "name     Emma     John\n",
       "age        27       22\n",
       "sex    Female     Male"
      ]
     },
     "execution_count": 242,
     "metadata": {},
     "output_type": "execute_result"
    }
   ],
   "source": [
    "df_students.replace(['Mike', 'John'], inplace=True)\n",
    "df_students"
   ]
  },
  {
   "cell_type": "code",
   "execution_count": 241,
   "id": "bc2416fa",
   "metadata": {},
   "outputs": [
    {
     "data": {
      "text/html": [
       "<div>\n",
       "<style scoped>\n",
       "    .dataframe tbody tr th:only-of-type {\n",
       "        vertical-align: middle;\n",
       "    }\n",
       "\n",
       "    .dataframe tbody tr th {\n",
       "        vertical-align: top;\n",
       "    }\n",
       "\n",
       "    .dataframe thead th {\n",
       "        text-align: right;\n",
       "    }\n",
       "</style>\n",
       "<table border=\"1\" class=\"dataframe\">\n",
       "  <thead>\n",
       "    <tr style=\"text-align: right;\">\n",
       "      <th></th>\n",
       "      <th>Student1</th>\n",
       "      <th>Student2</th>\n",
       "    </tr>\n",
       "  </thead>\n",
       "  <tbody>\n",
       "    <tr>\n",
       "      <th>name</th>\n",
       "      <td>Emma</td>\n",
       "      <td>John</td>\n",
       "    </tr>\n",
       "    <tr>\n",
       "      <th>age</th>\n",
       "      <td>27</td>\n",
       "      <td>22</td>\n",
       "    </tr>\n",
       "    <tr>\n",
       "      <th>sex</th>\n",
       "      <td>Female</td>\n",
       "      <td>Male</td>\n",
       "    </tr>\n",
       "  </tbody>\n",
       "</table>\n",
       "</div>"
      ],
      "text/plain": [
       "     Student1 Student2\n",
       "name     Emma     John\n",
       "age        27       22\n",
       "sex    Female     Male"
      ]
     },
     "execution_count": 241,
     "metadata": {},
     "output_type": "execute_result"
    }
   ],
   "source": [
    "df_students.replace('Mike', 'John', inplace=True)\n",
    "df_students"
   ]
  },
  {
   "cell_type": "code",
   "execution_count": 243,
   "id": "2a4ceed7",
   "metadata": {},
   "outputs": [],
   "source": [
    "df_students['Student2']=df_students['Student2'].map({'Mike':'John'})"
   ]
  },
  {
   "cell_type": "code",
   "execution_count": 244,
   "id": "1b083b13",
   "metadata": {},
   "outputs": [
    {
     "data": {
      "text/html": [
       "<div>\n",
       "<style scoped>\n",
       "    .dataframe tbody tr th:only-of-type {\n",
       "        vertical-align: middle;\n",
       "    }\n",
       "\n",
       "    .dataframe tbody tr th {\n",
       "        vertical-align: top;\n",
       "    }\n",
       "\n",
       "    .dataframe thead th {\n",
       "        text-align: right;\n",
       "    }\n",
       "</style>\n",
       "<table border=\"1\" class=\"dataframe\">\n",
       "  <thead>\n",
       "    <tr style=\"text-align: right;\">\n",
       "      <th></th>\n",
       "      <th>Student1</th>\n",
       "      <th>Student2</th>\n",
       "    </tr>\n",
       "  </thead>\n",
       "  <tbody>\n",
       "    <tr>\n",
       "      <th>name</th>\n",
       "      <td>Emma</td>\n",
       "      <td>NaN</td>\n",
       "    </tr>\n",
       "    <tr>\n",
       "      <th>age</th>\n",
       "      <td>27</td>\n",
       "      <td>NaN</td>\n",
       "    </tr>\n",
       "    <tr>\n",
       "      <th>sex</th>\n",
       "      <td>Female</td>\n",
       "      <td>NaN</td>\n",
       "    </tr>\n",
       "  </tbody>\n",
       "</table>\n",
       "</div>"
      ],
      "text/plain": [
       "     Student1 Student2\n",
       "name     Emma      NaN\n",
       "age        27      NaN\n",
       "sex    Female      NaN"
      ]
     },
     "execution_count": 244,
     "metadata": {},
     "output_type": "execute_result"
    }
   ],
   "source": [
    "df_students"
   ]
  },
  {
   "cell_type": "code",
   "execution_count": null,
   "id": "fb86199e",
   "metadata": {},
   "outputs": [],
   "source": []
  }
 ],
 "metadata": {
  "kernelspec": {
   "display_name": "Python 3 (ipykernel)",
   "language": "python",
   "name": "python3"
  },
  "language_info": {
   "codemirror_mode": {
    "name": "ipython",
    "version": 3
   },
   "file_extension": ".py",
   "mimetype": "text/x-python",
   "name": "python",
   "nbconvert_exporter": "python",
   "pygments_lexer": "ipython3",
   "version": "3.10.10"
  }
 },
 "nbformat": 4,
 "nbformat_minor": 5
}
