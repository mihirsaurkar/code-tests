{
 "cells": [
  {
   "cell_type": "markdown",
   "id": "4b5cff11",
   "metadata": {},
   "source": [
    "## Get All Permutations\n",
    "Given string input print all possible permuatations"
   ]
  },
  {
   "cell_type": "code",
   "execution_count": 55,
   "id": "15104c52",
   "metadata": {},
   "outputs": [],
   "source": [
    "def get_permutations(string):\n",
    "    # Base case: If the string has only one character, return it as a single permutation\n",
    "    if len(string) == 1:\n",
    "        return [string]\n",
    "\n",
    "    # Recursive case: Generate permutations by fixing each character in the string and permuting the remaining characters\n",
    "    permutations = []\n",
    "    for i in range(len(string)):\n",
    "        # Fix the i-th character and recursively generate permutations for the remaining characters\n",
    "        fixed_char = string[i]\n",
    "        remaining_chars = string[:i] + string[i+1:]\n",
    "        sub_permutations = get_permutations(remaining_chars)\n",
    "\n",
    "        # Add the fixed character to each permutation of the remaining characters\n",
    "        for perm in sub_permutations:\n",
    "            permutations.append(fixed_char + perm)\n",
    "\n",
    "    return permutations"
   ]
  },
  {
   "cell_type": "code",
   "execution_count": 56,
   "id": "9e20a67d",
   "metadata": {},
   "outputs": [
    {
     "data": {
      "text/plain": [
       "['jrl', 'jlr', 'rjl', 'rlj', 'ljr', 'lrj']"
      ]
     },
     "execution_count": 56,
     "metadata": {},
     "output_type": "execute_result"
    }
   ],
   "source": [
    "get_permutations('jrl')"
   ]
  },
  {
   "cell_type": "code",
   "execution_count": 57,
   "id": "510b2e13",
   "metadata": {},
   "outputs": [
    {
     "data": {
      "text/plain": [
       "['ABC', 'ACB', 'BAC', 'BCA', 'CAB', 'CBA']"
      ]
     },
     "execution_count": 57,
     "metadata": {},
     "output_type": "execute_result"
    }
   ],
   "source": [
    "get_permutations('ABC')"
   ]
  },
  {
   "cell_type": "code",
   "execution_count": 58,
   "id": "8d9d8dc1",
   "metadata": {},
   "outputs": [
    {
     "data": {
      "text/plain": [
       "['DABC',\n",
       " 'DACB',\n",
       " 'DBAC',\n",
       " 'DBCA',\n",
       " 'DCAB',\n",
       " 'DCBA',\n",
       " 'ADBC',\n",
       " 'ADCB',\n",
       " 'ABDC',\n",
       " 'ABCD',\n",
       " 'ACDB',\n",
       " 'ACBD',\n",
       " 'BDAC',\n",
       " 'BDCA',\n",
       " 'BADC',\n",
       " 'BACD',\n",
       " 'BCDA',\n",
       " 'BCAD',\n",
       " 'CDAB',\n",
       " 'CDBA',\n",
       " 'CADB',\n",
       " 'CABD',\n",
       " 'CBDA',\n",
       " 'CBAD']"
      ]
     },
     "execution_count": 58,
     "metadata": {},
     "output_type": "execute_result"
    }
   ],
   "source": [
    "get_permutations('DABC')"
   ]
  },
  {
   "cell_type": "code",
   "execution_count": null,
   "id": "0cc58c0f",
   "metadata": {},
   "outputs": [],
   "source": []
  }
 ],
 "metadata": {
  "kernelspec": {
   "display_name": "Python 3 (ipykernel)",
   "language": "python",
   "name": "python3"
  },
  "language_info": {
   "codemirror_mode": {
    "name": "ipython",
    "version": 3
   },
   "file_extension": ".py",
   "mimetype": "text/x-python",
   "name": "python",
   "nbconvert_exporter": "python",
   "pygments_lexer": "ipython3",
   "version": "3.10.9"
  }
 },
 "nbformat": 4,
 "nbformat_minor": 5
}
