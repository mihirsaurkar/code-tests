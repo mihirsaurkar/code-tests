{
 "cells": [
  {
   "cell_type": "markdown",
   "id": "f2aaac60",
   "metadata": {},
   "source": [
    "## Kadane's Algorithm\n",
    "\n",
    "Kadane’s Algorithm is an iterative dynamic programming algorithm. It calculates the maximum sum subarray ending at a particular position by using the maximum sum subarray ending at the previous position. Follow the below steps to solve the problem.\n",
    "\n",
    "- Define two-variable currSum which stores maximum sum ending here and maxSum which stores maximum sum so far.\n",
    "- Initialize currSum with 0 and maxSum with INT_MIN.\n",
    "- Now, iterate over the array and add the value of the current element to currSum and check\n",
    "  - If currSum is greater than maxSum, update maxSum equals to currSum.\n",
    "  - If currSum is less than zero, make currSum equal to zero.\n",
    "- Finally, print the value of maxSum.\n",
    "\n",
    "## Modified for generalizing over negative integers\n",
    "- If all numbers negative return max(arr)\n",
    "- if mixed of negative and positive:\n",
    "    - check currSum + current element > 0\n",
    "        - if true currSum = currSum + current element\n",
    "        - Else currSum = 0\n",
    "- check if maxSum is 0 when max element in arr is not 0\n",
    "    - replace maxSum with max(arr)"
   ]
  },
  {
   "cell_type": "code",
   "execution_count": 113,
   "id": "a40b747b",
   "metadata": {},
   "outputs": [],
   "source": [
    "import numpy as np\n",
    "\n",
    "def get_max_sum(arr,N):\n",
    "    maxSum = -(np.inf)\n",
    "    currSum = 0\n",
    "    if N == 0:\n",
    "        return 0\n",
    "    \n",
    "    for i in range(N):\n",
    "        \n",
    "        if currSum+arr[i] > 0:\n",
    "            currSum = currSum+arr[i]\n",
    "        else:\n",
    "            currSum = 0\n",
    "        \n",
    "        if currSum > maxSum:\n",
    "            maxSum = currSum\n",
    "            \n",
    "    if max(arr) != 0 and maxSum == 0:\n",
    "        maxSum = max(arr)\n",
    "    \n",
    "    return maxSum"
   ]
  },
  {
   "cell_type": "code",
   "execution_count": 114,
   "id": "b6813a99",
   "metadata": {},
   "outputs": [
    {
     "data": {
      "text/plain": [
       "9"
      ]
     },
     "execution_count": 114,
     "metadata": {},
     "output_type": "execute_result"
    }
   ],
   "source": [
    "arr = [1,2,3,-2,5]\n",
    "n = 5\n",
    "\n",
    "get_max_sum(arr,n)"
   ]
  },
  {
   "cell_type": "code",
   "execution_count": 115,
   "id": "557df6c5",
   "metadata": {},
   "outputs": [
    {
     "data": {
      "text/plain": [
       "-1"
      ]
     },
     "execution_count": 115,
     "metadata": {},
     "output_type": "execute_result"
    }
   ],
   "source": [
    "arr = [-1,-2,-3,-4]\n",
    "n = 4\n",
    "get_max_sum(arr,n)\n"
   ]
  },
  {
   "cell_type": "code",
   "execution_count": 116,
   "id": "f256b486",
   "metadata": {},
   "outputs": [
    {
     "data": {
      "text/plain": [
       "0"
      ]
     },
     "execution_count": 116,
     "metadata": {},
     "output_type": "execute_result"
    }
   ],
   "source": [
    "arr = []\n",
    "n = 0\n",
    "get_max_sum(arr,n)"
   ]
  },
  {
   "cell_type": "code",
   "execution_count": 117,
   "id": "26e9f838",
   "metadata": {},
   "outputs": [
    {
     "data": {
      "text/plain": [
       "6"
      ]
     },
     "execution_count": 117,
     "metadata": {},
     "output_type": "execute_result"
    }
   ],
   "source": [
    "arr = [-2, 1, -3, 4, -1, 2, 1, -5, 4]\n",
    "n = 9\n",
    "get_max_sum(arr,n)"
   ]
  },
  {
   "cell_type": "code",
   "execution_count": 118,
   "id": "10cff78c",
   "metadata": {},
   "outputs": [
    {
     "data": {
      "text/plain": [
       "156"
      ]
     },
     "execution_count": 118,
     "metadata": {},
     "output_type": "execute_result"
    }
   ],
   "source": [
    "n =14\n",
    "arr =[74, -72, 94, -53, -59, -3, -66, 36, -13, 22, 73, 15, -52, 75,]\n",
    "get_max_sum(arr,n)"
   ]
  },
  {
   "cell_type": "code",
   "execution_count": null,
   "id": "7e0b81a4",
   "metadata": {},
   "outputs": [],
   "source": []
  }
 ],
 "metadata": {
  "kernelspec": {
   "display_name": "Python 3 (ipykernel)",
   "language": "python",
   "name": "python3"
  },
  "language_info": {
   "codemirror_mode": {
    "name": "ipython",
    "version": 3
   },
   "file_extension": ".py",
   "mimetype": "text/x-python",
   "name": "python",
   "nbconvert_exporter": "python",
   "pygments_lexer": "ipython3",
   "version": "3.10.9"
  }
 },
 "nbformat": 4,
 "nbformat_minor": 5
}
