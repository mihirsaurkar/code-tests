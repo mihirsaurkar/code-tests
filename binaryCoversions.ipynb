{
 "cells": [
  {
   "cell_type": "markdown",
   "id": "266bc59c-63b1-4cd0-afe3-ebbd10df6d9a",
   "metadata": {},
   "source": [
    "Task\n",
    "You are given an array of up to four non-negative integers, each less than 256.\n",
    "\n",
    "Your task is to pack these integers into one number M in the following way:\n",
    "\n",
    "The first element of the array occupies the first 8 bits of M;\n",
    "The second element occupies next 8 bits, and so on.\n",
    "Return the obtained integer M as unsigned integer.\n",
    "\n",
    "Note:\n",
    "the phrase \"first bits of M\" refers to the least significant bits of M - the right-most bits of an integer. For further clarification see the following example.\n",
    "\n",
    "Example\n",
    "For a = [24, 85, 0], the output should be 21784\n",
    "\n",
    "An array [24, 85, 0] looks like [00011000, 01010101, 00000000] in binary.\n",
    "\n",
    "After packing these into one number we get 00000000 01010101 00011000 (spaces are placed for convenience), which equals to 21784.\n",
    "\n",
    "Input/Output\n",
    "[input] integer array a\n",
    "Constraints: 1 ≤ a.length ≤ 4 and 0 ≤ a[i] < 256\n",
    "\n",
    "[output] an unsigned integer\n",
    "More Challenge\n",
    "Are you a One-Liner? Please try to complete the kata in one line(no test for it) ;-)"
   ]
  },
  {
   "cell_type": "code",
   "execution_count": 135,
   "id": "0dd24232-47e4-481c-ba36-5d09d4b5d304",
   "metadata": {
    "tags": []
   },
   "outputs": [],
   "source": [
    "## Creating a solution which has least dependencies on in built python functions whihc will obfuscate time complexity estimates\n",
    "\n",
    "\n",
    "class Solution:\n",
    "    \n",
    "    def _to_binary(self,x:int):\n",
    "        return self._to_binary(int(x/2)) + [x%2] if x > 1 else [x]\n",
    "    \n",
    "    def pad_binary(self,x:int):\n",
    "        pad = [0] * 8\n",
    "        if x < 256:\n",
    "            b = self._to_binary(x)\n",
    "            diff = 8 - len(b)\n",
    "            count = 0\n",
    "            for i in range(len(pad)):\n",
    "                count +=1\n",
    "                if count>diff:\n",
    "                    pad[i] = b[count-diff-1]    \n",
    "        else:\n",
    "            print(\"Integer is greater than 8 bits i.e. 256\")\n",
    "        return pad\n",
    "    \n",
    "    def conver_int(self, b:list) -> int:\n",
    "        sum = 0\n",
    "        for i in range(1,len(b)+1):\n",
    "            #print(f\" iteration = {i} len = {len(b)}power = {len(b)-i} value = {2**(len(b)-i)} b = {b[i-1]}\")\n",
    "            sum = sum + ((b[i-1]* (2**(len(b)-i))))\n",
    "        return sum\n",
    "            \n",
    "        \n",
    "    def merge(self, arr:list) -> int:\n",
    "        M_arr = []\n",
    "        if len(arr)<=4:\n",
    "            for i in range(len(arr)-1,-1,-1):\n",
    "                print(f\"i = {i} number = {arr[i]} binary = {self.pad_binary(arr[i])}\")\n",
    "                M_arr = M_arr+ self.pad_binary(arr[i])\n",
    "            print(f\"The upto 32 bit number = {M_arr} len = {len(M_arr)}\")\n",
    "            M = self.conver_int(M_arr)\n",
    "            print(f\"The final integer is {M}\")\n",
    "        else:\n",
    "            M=0\n",
    "            print(\"Input outside of constraints\")\n",
    "        \n",
    "        return M\n",
    "       "
   ]
  },
  {
   "cell_type": "code",
   "execution_count": 7,
   "id": "d23302d1-af4e-433b-842a-5a3116d67e93",
   "metadata": {
    "tags": []
   },
   "outputs": [
    {
     "name": "stdout",
     "output_type": "stream",
     "text": [
      "0b1100\n"
     ]
    }
   ],
   "source": [
    "print((bin(12)))\n"
   ]
  },
  {
   "cell_type": "code",
   "execution_count": 106,
   "id": "a10f94a5-f403-4790-bbd0-178519a17c5a",
   "metadata": {
    "tags": []
   },
   "outputs": [
    {
     "data": {
      "text/plain": [
       "3"
      ]
     },
     "execution_count": 106,
     "metadata": {},
     "output_type": "execute_result"
    }
   ],
   "source": [
    "ob = Solution()\n",
    "\n",
    "arr = [12,6]\n",
    "\n",
    "a = ob.to_binary(3)\n",
    "\n",
    "ob.pad_binary(a)\n",
    "\n",
    "ob.conver_int([0, 0, 0, 0, 0, 0, 1, 1])"
   ]
  },
  {
   "cell_type": "code",
   "execution_count": 137,
   "id": "3c2624ae-c014-474c-b4f8-f15d299a8394",
   "metadata": {
    "tags": []
   },
   "outputs": [
    {
     "name": "stdout",
     "output_type": "stream",
     "text": [
      "i = 3 number = 0 binary = [0, 0, 0, 0, 0, 0, 0, 0]\n",
      "Integer is greater than 8 bits i.e. 256\n",
      "i = 2 number = 2312 binary = [0, 0, 0, 0, 0, 0, 0, 0]\n",
      "Integer is greater than 8 bits i.e. 256\n",
      "i = 1 number = 2 binary = [0, 0, 0, 0, 0, 0, 1, 0]\n",
      "i = 0 number = 24 binary = [0, 0, 0, 1, 1, 0, 0, 0]\n",
      "The upto 32 bit number = [0, 0, 0, 0, 0, 0, 0, 0, 0, 0, 0, 0, 0, 0, 0, 0, 0, 0, 0, 0, 0, 0, 1, 0, 0, 0, 0, 1, 1, 0, 0, 0] len = 32\n",
      "The final integer is 536\n"
     ]
    },
    {
     "data": {
      "text/plain": [
       "536"
      ]
     },
     "execution_count": 137,
     "metadata": {},
     "output_type": "execute_result"
    }
   ],
   "source": [
    "ob = Solution()\n",
    "\n",
    "arr = [24,2,2312,0]\n",
    "\n",
    "ob.merge(arr)\n"
   ]
  }
 ],
 "metadata": {
  "kernelspec": {
   "display_name": "Python 3 (ipykernel)",
   "language": "python",
   "name": "python3"
  },
  "language_info": {
   "codemirror_mode": {
    "name": "ipython",
    "version": 3
   },
   "file_extension": ".py",
   "mimetype": "text/x-python",
   "name": "python",
   "nbconvert_exporter": "python",
   "pygments_lexer": "ipython3",
   "version": "3.10.10"
  }
 },
 "nbformat": 4,
 "nbformat_minor": 5
}
