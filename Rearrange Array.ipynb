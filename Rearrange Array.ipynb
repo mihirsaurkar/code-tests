{
 "cells": [
  {
   "cell_type": "markdown",
   "id": "e2dad3ae",
   "metadata": {},
   "source": [
    "You are given an array of size N. Rearrange the given array in-place such that all the negative numbers occur before all non-negative numbers.\n",
    "(Maintain the order of all -ve and non-negative numbers as given in the original array).\n",
    "\n",
    "nput:\n",
    "N = 4\n",
    "Arr[] = {-3, 3, -2, 2}\n",
    "Output:\n",
    "-3 -2 3 2\n",
    "Explanation:\n",
    "In the given array, negative numbers\n",
    "are -3, -2 and non-negative numbers are 3, 2. \n",
    "\n",
    "\n",
    "Input:\n",
    "N = 4\n",
    "Arr[] = {-3, 1, 0, -2}\n",
    "Output:\n",
    "-3 -2 1 0\n",
    "Explanation:\n",
    "In the given array, negative numbers\n",
    "are -3, -2 and non-negative numbers are 1, 0."
   ]
  },
  {
   "cell_type": "code",
   "execution_count": 86,
   "id": "a67d515d",
   "metadata": {},
   "outputs": [],
   "source": [
    "#O(n^2)\n",
    "def rearrange_array(arr):\n",
    "    neg_index = 0  # Index to keep track of the last negative number position\n",
    "    \n",
    "    # Traverse the array\n",
    "    for i in range(len(arr)):\n",
    "        if arr[i] < 0:\n",
    "            neg_number = arr[i]\n",
    "            for j in range(i,neg_index-1,-1):\n",
    "                print(f\"{j} - {arr[j]}\")\n",
    "                if j==neg_index:\n",
    "                    arr[j]=neg_number\n",
    "                else:\n",
    "                    arr[j] = arr[j-1]\n",
    "            neg_index = neg_index +1 \n",
    "        print(arr)\n",
    "    return arr\n"
   ]
  },
  {
   "cell_type": "code",
   "execution_count": 93,
   "id": "eaddea88",
   "metadata": {},
   "outputs": [],
   "source": [
    "# time complexity O(N) \n",
    "# Space Complexity O(N)\n",
    "\n",
    "def rearrange_array(arr):\n",
    "    neg_arr = []\n",
    "    pos_arr=[]\n",
    "    for a in arr:\n",
    "        if a < 0:\n",
    "            neg_arr.append(a)\n",
    "        else:\n",
    "            pos_arr.append(a)\n",
    "    \n",
    "    neg_arr.extend(pos_arr)\n",
    "    return neg_arr"
   ]
  },
  {
   "cell_type": "code",
   "execution_count": 94,
   "id": "fa3db93c",
   "metadata": {},
   "outputs": [
    {
     "name": "stdout",
     "output_type": "stream",
     "text": [
      "[-2, -9, -8, -3, 4, 5, 0, 1]\n"
     ]
    }
   ],
   "source": [
    "# Example usage\n",
    "array = [4, -2, -9, 5, 0, -8, -3, 1]\n",
    "rearranged_array = rearrange_array(array)\n",
    "print(rearranged_array)"
   ]
  },
  {
   "cell_type": "code",
   "execution_count": 102,
   "id": "98e33191",
   "metadata": {},
   "outputs": [
    {
     "name": "stdout",
     "output_type": "stream",
     "text": [
      "[-1, -43, -1, -123, 1, 23, 4, 3123]\n"
     ]
    }
   ],
   "source": [
    "array = [1, 23, 4, -1, -43, -1, 3123, -123]\n",
    "rearranged_array = rearrange_array(array)\n",
    "print(rearranged_array)"
   ]
  },
  {
   "cell_type": "code",
   "execution_count": null,
   "id": "f00ae197",
   "metadata": {},
   "outputs": [],
   "source": []
  }
 ],
 "metadata": {
  "kernelspec": {
   "display_name": "Python 3 (ipykernel)",
   "language": "python",
   "name": "python3"
  },
  "language_info": {
   "codemirror_mode": {
    "name": "ipython",
    "version": 3
   },
   "file_extension": ".py",
   "mimetype": "text/x-python",
   "name": "python",
   "nbconvert_exporter": "python",
   "pygments_lexer": "ipython3",
   "version": "3.10.9"
  }
 },
 "nbformat": 4,
 "nbformat_minor": 5
}
