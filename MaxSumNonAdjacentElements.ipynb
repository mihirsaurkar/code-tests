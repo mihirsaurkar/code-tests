{
 "cells": [
  {
   "cell_type": "markdown",
   "id": "d3441be7-0c49-4195-a6f1-3730b74e86dd",
   "metadata": {},
   "source": [
    "You are a professional robber planning to rob houses along a street. Each house has a certain amount of money stashed. All houses at this place are arranged in a circle. That means the first house is the neighbor of the last one. Meanwhile, adjacent houses have a security system connected, and it will automatically contact the police if two adjacent houses were broken into on the same night.\n",
    "\n",
    "Given an integer array nums representing the amount of money of each house, return the maximum amount of money you can rob tonight without alerting the police.\n",
    "\n",
    " \n",
    "\n",
    "Example 1:\n",
    "\n",
    "Input: nums = [2,3,2]\n",
    "Output: 3\n",
    "Explanation: You cannot rob house 1 (money = 2) and then rob house 3 (money = 2), because they are adjacent houses.\n",
    "Example 2:\n",
    "\n",
    "Input: nums = [1,2,3,1]\n",
    "Output: 4\n",
    "Explanation: Rob house 1 (money = 1) and then rob house 3 (money = 3).\n",
    "Total amount you can rob = 1 + 3 = 4.\n",
    "Example 3:\n",
    "\n",
    "Input: nums = [1,2,3]\n",
    "Output: 3\n",
    " \n",
    "\n",
    "Constraints:\n",
    "\n",
    "1 <= nums.length <= 100\n",
    "0 <= nums[i] <= 1000"
   ]
  },
  {
   "cell_type": "code",
   "execution_count": 102,
   "id": "60000f94-871e-4a09-ad00-a5a19b8604d9",
   "metadata": {
    "tags": []
   },
   "outputs": [],
   "source": [
    "#This is based on sum subsequent adjacent numbers in an array\n",
    "#The circular houses are a special case of the same\n",
    "\n",
    "def robutil(i:int,nums:list):\n",
    "    if i < 0:\n",
    "        return 0\n",
    "    if i ==0:\n",
    "        return nums[0]\n",
    "    \n",
    "    ## this is based on pick no pick approach:\n",
    "    ## since we are only supposed to consider adjacent houses\n",
    "    ## pick = current_house + house previous to house before (i-2)\n",
    "    ## that is nums[i] + robutil(i-2) \n",
    "    ## no pick = 0 + rob previous house\n",
    "    ## that is robutil(i-1)\n",
    "    \n",
    "    return max(robutil( (i-2), nums)+ nums[i], robutil(i-1, nums))\n",
    "        \n",
    "    \n",
    "def rob(nums: list[int]) -> int:\n",
    "    seen = {}\n",
    "    print(\"calling functions\")\n",
    "    return robutil(len(nums)-1,nums)"
   ]
  },
  {
   "cell_type": "code",
   "execution_count": 103,
   "id": "7b3080bf-0dc8-48b2-8093-e6369d729541",
   "metadata": {
    "tags": []
   },
   "outputs": [
    {
     "name": "stdout",
     "output_type": "stream",
     "text": [
      "calling functions\n",
      "8\n"
     ]
    }
   ],
   "source": [
    "print(rob([4,2,3,4]))"
   ]
  },
  {
   "cell_type": "code",
   "execution_count": 108,
   "id": "f869d36e-371b-4a32-9f3d-5a29fd092d51",
   "metadata": {
    "tags": []
   },
   "outputs": [],
   "source": [
    "def robutil(i:int,nums:list):\n",
    "    if i < 0:\n",
    "        return 0\n",
    "    if i ==0:\n",
    "        return nums[0]\n",
    "    \n",
    "    ## this is based on pick no pick approach:\n",
    "    ## since we are only supposed to consider adjacent houses\n",
    "    ## pick = current_house + house previous to house before (i-2)\n",
    "    ## that is nums[i] + robutil(i-2) \n",
    "    ## no pick = 0 + rob previous house\n",
    "    ## that is robutil(i-1)\n",
    "    \n",
    "    return max(robutil( (i-2), nums)+ nums[i], robutil(i-1, nums))\n",
    "        \n",
    "    \n",
    "def rob(nums: list[int]) -> int:\n",
    "    seen = {}\n",
    "    print(\"calling functions\")\n",
    "    first_n = nums[:-1]\n",
    "    last_n = nums[1:]\n",
    "    return max(robutil(len(first_n)-1,first_n),robutil(len(last_n)-1,last_n))"
   ]
  },
  {
   "cell_type": "code",
   "execution_count": 110,
   "id": "2b475058-7501-4cf6-af8f-a108ab4fe755",
   "metadata": {
    "tags": []
   },
   "outputs": [
    {
     "name": "stdout",
     "output_type": "stream",
     "text": [
      "calling functions\n",
      "3\n"
     ]
    }
   ],
   "source": [
    "print(rob([1,2,3]))"
   ]
  },
  {
   "cell_type": "code",
   "execution_count": null,
   "id": "ae60ce7f-ae8a-46e0-b2de-9b46e106e7b0",
   "metadata": {},
   "outputs": [],
   "source": [
    "## circular house robber problem with memoization\n",
    "\n",
    "class Solution:\n",
    "    def robutil(self,nums,house,memo):\n",
    "        memo = memo\n",
    "        if house<0:\n",
    "            memo[house] = 0\n",
    "            return memo[house]\n",
    "        if house==0:\n",
    "            memo[0] = nums[house]\n",
    "            return nums[house]\n",
    "        if house in memo:\n",
    "            return memo[house]\n",
    "        else:\n",
    "            memo[house] = max(\\\n",
    "                            self.robutil(nums,house-2,memo)+nums[house], \\\n",
    "                            self.robutil(nums,house-1,memo)\n",
    "                            )\n",
    "        print(memo)\n",
    "        return memo[house]\n",
    "\n",
    "    def rob(self, nums: List[int]) -> int:\n",
    "        num1 = nums[:-1]\n",
    "        num2 = nums[1:]\n",
    "        print(num1)\n",
    "        print(num2)\n",
    "        leave_first_out = self.robutil(num1,len(num1)-1,{})\n",
    "        leave_last_out = self.robutil(num2,len(num2)-1,{})\n",
    "        print(leave_first_out)\n",
    "        print(leave_last_out)\n",
    "        return  max(leave_first_out,leave_last_out) if len(nums)>=3 else max(nums)"
   ]
  }
 ],
 "metadata": {
  "kernelspec": {
   "display_name": "Python 3 (ipykernel)",
   "language": "python",
   "name": "python3"
  },
  "language_info": {
   "codemirror_mode": {
    "name": "ipython",
    "version": 3
   },
   "file_extension": ".py",
   "mimetype": "text/x-python",
   "name": "python",
   "nbconvert_exporter": "python",
   "pygments_lexer": "ipython3",
   "version": "3.10.10"
  }
 },
 "nbformat": 4,
 "nbformat_minor": 5
}
