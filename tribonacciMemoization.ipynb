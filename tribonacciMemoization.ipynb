{
 "cells": [
  {
   "cell_type": "markdown",
   "id": "97a694a0-7574-4746-9681-2428bd9ddc02",
   "metadata": {},
   "source": [
    "The Tribonacci sequence Tn is defined as follows: \n",
    "\n",
    "T0 = 0, T1 = 1, T2 = 1, and Tn+3 = Tn + Tn+1 + Tn+2 for n >= 0.\n",
    "\n",
    "Given n, return the value of Tn.\n",
    "\n",
    " \n",
    "\n",
    "Example 1:\n",
    "\n",
    "Input: n = 4\n",
    "Output: 4\n",
    "Explanation:\n",
    "T_3 = 0 + 1 + 1 = 2\n",
    "T_4 = 1 + 1 + 2 = 4\n",
    "Example 2:\n",
    "\n",
    "Input: n = 25\n",
    "Output: 1389537\n",
    " \n",
    "\n",
    "Constraints:\n",
    "\n",
    "0 <= n <= 37\n",
    "The answer is guaranteed to fit within a 32-bit integer, ie. answer <= 2^31 - 1."
   ]
  },
  {
   "cell_type": "code",
   "execution_count": 67,
   "id": "6be6bbc2-723a-431b-b986-1dc88d127733",
   "metadata": {
    "tags": []
   },
   "outputs": [],
   "source": [
    "# tribonacci with memoization\n",
    "\n",
    "class Solution:\n",
    "    \n",
    "    def tribonacci(self, n: int) -> int:\n",
    "        return self.get_tribonacci(n, {})\n",
    "        \n",
    "    def get_tribonacci(self, n, memo:dict):\n",
    "        memo = memo\n",
    "        if n <= 0:\n",
    "            memo[0] = 0\n",
    "            return memo[0]\n",
    "        if n == 1 :\n",
    "            memo[1] = 1 \n",
    "            return memo[1]\n",
    "        if n in memo:\n",
    "            return memo[n]\n",
    "        else:\n",
    "            memo[n] = self.get_tribonacci(n-1,memo) + self.get_tribonacci(n-2,memo)+ self.get_tribonacci(n-3,memo)\n",
    "            return memo[n]\n",
    "\n",
    "    \n",
    "        \n",
    "        "
   ]
  },
  {
   "cell_type": "code",
   "execution_count": 68,
   "id": "c3bf0f6a-62e8-49cf-813b-6983f1e42e9e",
   "metadata": {
    "tags": []
   },
   "outputs": [
    {
     "data": {
      "text/plain": [
       "2555757"
      ]
     },
     "execution_count": 68,
     "metadata": {},
     "output_type": "execute_result"
    }
   ],
   "source": [
    "ob = Solution()\n",
    "\n",
    "ob.tribonacci(26)"
   ]
  },
  {
   "cell_type": "code",
   "execution_count": 63,
   "id": "e2a9becf-9636-4d2f-be37-2f5ca7be315a",
   "metadata": {
    "tags": []
   },
   "outputs": [],
   "source": [
    "# shorted solution with prepulating dictionary with first 3 values. \n",
    "\n",
    "class Solution:\n",
    "    memo={0:0,1:1,2:1}\n",
    "    \n",
    "    def tribonacci(self, n: int) -> int:\n",
    "        if n <=2:\n",
    "            return self.memo[n]\n",
    "\n",
    "        self.memo[n] = self.tribonacci(n-1)+self.tribonacci(n-2) + self.tribonacci(n-3) \n",
    "        \n",
    "        return self.memo[n] \n"
   ]
  },
  {
   "cell_type": "code",
   "execution_count": 72,
   "id": "9b4cd17b-fc61-47e3-98b1-90270406d1b0",
   "metadata": {
    "tags": []
   },
   "outputs": [
    {
     "data": {
      "text/plain": [
       "29249425"
      ]
     },
     "execution_count": 72,
     "metadata": {},
     "output_type": "execute_result"
    }
   ],
   "source": [
    "ob = Solution()\n",
    "\n",
    "ob.tribonacci(30)"
   ]
  },
  {
   "cell_type": "code",
   "execution_count": null,
   "id": "3999bc36-f972-449e-ade6-fbaf855b084b",
   "metadata": {},
   "outputs": [],
   "source": []
  }
 ],
 "metadata": {
  "kernelspec": {
   "display_name": "Python 3 (ipykernel)",
   "language": "python",
   "name": "python3"
  },
  "language_info": {
   "codemirror_mode": {
    "name": "ipython",
    "version": 3
   },
   "file_extension": ".py",
   "mimetype": "text/x-python",
   "name": "python",
   "nbconvert_exporter": "python",
   "pygments_lexer": "ipython3",
   "version": "3.10.10"
  }
 },
 "nbformat": 4,
 "nbformat_minor": 5
}
