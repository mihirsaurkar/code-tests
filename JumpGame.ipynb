{
 "cells": [
  {
   "cell_type": "code",
   "execution_count": null,
   "id": "3177ad33-d2de-4cab-826a-9af195718183",
   "metadata": {},
   "outputs": [],
   "source": [
    "class Solution:\n",
    "\n",
    "    def canJump(self, nums: List[int]) -> bool:\n",
    "        last_position = len(nums)-1\n",
    "        for i in range(len(nums)-1,-1,-1):\n",
    "            if i+nums[i] >= last_position:\n",
    "                last_position = i\n",
    "        return last_position == 0\n",
    "    "
   ]
  },
  {
   "cell_type": "code",
   "execution_count": null,
   "id": "d84a0527-7290-4831-a234-50f4a0013bee",
   "metadata": {},
   "outputs": [],
   "source": [
    "## memorized solutions\n",
    "\n",
    "class Solution:\n",
    "    memo = []\n",
    "    def is_good(self,position,nums):\n",
    "        if self.memo[position] != -1:\n",
    "            return self.memo[position]\n",
    "        elif position >= len(nums)-1:\n",
    "            self.memo[position] = True\n",
    "    return self.memo[position]\n",
    "   \n",
    "    \n",
    "        furthest_jump = min(position+nums[position],len(nums)-1)\n",
    "\n",
    "        for next_position in range(furthest_jump,position,-1):\n",
    "            if self.is_good(next_position,nums):\n",
    "                self.memo[position] = True\n",
    "            return True \n",
    "\n",
    "        self.memo[position] = False\n",
    "        return False\n",
    "\n",
    "def canJump(self, nums: List[int]) -> bool:\n",
    "    self.memo= [-1] * (len(nums))\n",
    "    ans = self.is_good(0,nums)\n",
    "    print(self.memo)\n",
    "    return ans"
   ]
  },
  {
   "cell_type": "markdown",
   "id": "bdd99760-b3fc-4c31-8e69-a16e1a68aa58",
   "metadata": {},
   "source": [
    "You are given a 0-indexed array of integers nums of length n. You are initially positioned at nums[0].\n",
    "\n",
    "Each element nums[i] represents the maximum length of a forward jump from index i. In other words, if you are at nums[i], you can jump to any nums[i + j] where:\n",
    "\n",
    "0 <= j <= nums[i] and\n",
    "i + j < n\n",
    "Return the minimum number of jumps to reach nums[n - 1]. The test cases are generated such that you can reach nums[n - 1].\n",
    "\n",
    " \n",
    "\n",
    "Example 1:\n",
    "\n",
    "Input: nums = [2,3,1,1,4]\n",
    "Output: 2\n",
    "Explanation: The minimum number of jumps to reach the last index is 2. Jump 1 step from index 0 to 1, then 3 steps to the last index.\n",
    "Example 2:\n",
    "\n",
    "Input: nums = [2,3,0,1,4]\n",
    "Output: 2\n",
    " \n",
    "\n",
    "Constraints:\n",
    "\n",
    "1 <= nums.length <= 104\n",
    "0 <= nums[i] <= 1000\n",
    "It's guaranteed that you can reach nums[n - 1]."
   ]
  },
  {
   "cell_type": "code",
   "execution_count": null,
   "id": "cb30dc4a-d78b-4b15-af9a-3204046314a8",
   "metadata": {},
   "outputs": [],
   "source": [
    "def def jump(self, nums: list[int]) -> int:\n",
    "    last_post = len(nums)-1\n",
    "    counter = 0\n",
    "    for i in range(len(nums)-1):\n",
    "        if i + nums[i] >= last_post:\n",
    "            return counter\n",
    "        elif i + nums[i] <last_post:\n",
    "            for j in range(i,nums[i]):\n",
    "                \n",
    "            \n",
    "         "
   ]
  },
  {
   "cell_type": "code",
   "execution_count": 26,
   "id": "f784f833-e159-4885-b2cd-adf354aa2a44",
   "metadata": {
    "tags": []
   },
   "outputs": [],
   "source": [
    "def jump_counter(position,nums,counter):\n",
    "    if position <= 0:\n",
    "        return counter\n",
    "    next_position = []\n",
    "    for i in range(position-1,-1,-1):\n",
    "        print(f\"position - {i}\")\n",
    "        if i+nums[i] >= position:\n",
    "            next_position.append(i)\n",
    "    print(f\"{next_position} - cur_count ={counter} next_count - {counter+1}\")\n",
    "    print(f\" selected position = {min(next_position)}\")\n",
    "    return jump_counter(min(next_position),nums,counter+1)\n",
    "    \n",
    "    \n",
    "        \n"
   ]
  },
  {
   "cell_type": "code",
   "execution_count": 27,
   "id": "81a55de0-6592-4ba4-9616-6478601f3f85",
   "metadata": {
    "tags": []
   },
   "outputs": [
    {
     "name": "stdout",
     "output_type": "stream",
     "text": [
      " idx = 4 value = 5\n",
      "position - 3\n",
      "position - 2\n",
      "position - 1\n",
      "position - 0\n",
      "[3, 2] - cur_count =0 next_count - 1\n",
      " selected position = 2\n",
      "position - 1\n",
      "position - 0\n",
      "[1] - cur_count =1 next_count - 2\n",
      " selected position = 1\n",
      "position - 0\n",
      "[0] - cur_count =2 next_count - 3\n",
      " selected position = 0\n",
      "3\n"
     ]
    }
   ],
   "source": [
    "nums = [1,2,3,4,5]\n",
    "print(f\" idx = {len(nums)-1} value = {nums[len(nums)-1]}\")\n",
    "print(jump_counter(len(nums)-1,nums,0))"
   ]
  },
  {
   "cell_type": "code",
   "execution_count": null,
   "id": "4780d9e9-11da-49fc-b3e3-667d09adbe8b",
   "metadata": {},
   "outputs": [],
   "source": [
    "## Leet code submitted solution:\n",
    "class Solution:\n",
    "    def jump_counter(self,position,nums,counter,memo):\n",
    "        m = memo\n",
    "        if position <= 0:\n",
    "            m[0] = counter\n",
    "            return m[0]\n",
    "        \n",
    "        next_position = position -1 \n",
    "        for i in range(position-1,-1,-1):\n",
    "            if i+nums[i] >= position and i<next_position:\n",
    "                next_position = i\n",
    "        print(f\"{next_position} - cur_count ={counter} next_count - {counter+1}\")\n",
    "        if next_position in m:\n",
    "            return m[next_position]\n",
    "        else:\n",
    "            m[next_position] = self.jump_counter(next_position,nums,counter+1,m)\n",
    "        return m[next_position]\n",
    "\n",
    "    def jump(self, nums: List[int]) -> int:\n",
    "        v = self.jump_counter(len(nums)-1,nums,0,{})\n",
    "        return v"
   ]
  }
 ],
 "metadata": {
  "kernelspec": {
   "display_name": "Python 3 (ipykernel)",
   "language": "python",
   "name": "python3"
  },
  "language_info": {
   "codemirror_mode": {
    "name": "ipython",
    "version": 3
   },
   "file_extension": ".py",
   "mimetype": "text/x-python",
   "name": "python",
   "nbconvert_exporter": "python",
   "pygments_lexer": "ipython3",
   "version": "3.10.10"
  }
 },
 "nbformat": 4,
 "nbformat_minor": 5
}
